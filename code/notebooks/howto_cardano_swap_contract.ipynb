{
 "cells": [
  {
   "cell_type": "markdown",
   "id": "571d5216",
   "metadata": {},
   "source": [
    "Author: Kevin ALBERT  \n",
    "Created: June 2022  \n",
    "Friends: [Marco Martins](https://github.com/marco-martins)  \n",
    "QnA: [Brian W Bush](https://github.com/bwbush)"
   ]
  },
  {
   "cell_type": "code",
   "execution_count": 2,
   "id": "329749d6",
   "metadata": {},
   "outputs": [
    {
     "name": "stdout",
     "output_type": "stream",
     "text": [
      "Last testrun on: 10 Jan 2023 (16:58)\n"
     ]
    }
   ],
   "source": [
    "import datetime, time\n",
    "print ('Last testrun on: ' + datetime.datetime.now().strftime(\"%d %b %Y (%H:%M)\"))"
   ]
  },
  {
   "cell_type": "markdown",
   "id": "352e5d9a-ed46-41de-b487-2cd67a8cb77f",
   "metadata": {
    "tags": []
   },
   "source": [
    "# Marlowe contract \n",
    "_**how to deploy a custom contract**_\n",
    "\n",
    "## Contents\n",
    "1. [Objective](#Objective)\n",
    "1. [Installation](#Installation)\n",
    "1. [Check](#Check)\n",
    "1. [Wallets](#Wallets)\n",
    "1. [Contract](#Contract)\n",
    "1. [Funding](#Funding)\n",
    "1. [Tokens](#Tokens)\n",
    "1. [Deployment](#Deployment)\n"
   ]
  },
  {
   "cell_type": "markdown",
   "id": "163889c0-3bff-4e8c-b4c1-3bb585177a2e",
   "metadata": {
    "tags": []
   },
   "source": [
    "## Objective\n",
    "\n",
    "Reference guide that explain and demonstrate what I learned from the <div class=\"ttooltip\">Marlowe<span class=\"tooltiptext\">a domain-specific language (DSL) built on Plutus that is used to write smart contracts for financial applications. It aims to make it easy for non-technical users to write smart contracts for financial applications such as crowdfunding, escrow, and lending.</span></div> Pioneer Program (summer 2022)  \n",
    "on how to run a custom smart contract on the blockchain using marlowe-cli.  \n",
    "Python and other modules will be used together with these cardano script command tools.  \n",
    "\n",
    "### Tools\n",
    "\n",
    "This notebook will use all these commands:\n",
    "\n",
    "```text\n",
    "  cardano-node run                               Run the node\n",
    "  \n",
    "  cardano-wallet serve                           Serve API that listens for commands/actions\n",
    "  cardano-wallet recovery-phrase generate        Generate an English recovery phrase\n",
    "  cardano-wallet key from-recovery-phrase        Convert a recovery phrase to an extended private key\n",
    "  \n",
    "  cardano-cli key convert-cardano-address-key    Convert a cardano-address extended signing key to a Shelley-format key\n",
    "  cardano-cli key verification-key               Get a verification key from a signing key, supports all key types\n",
    "  cardano-cli address build                      Build a Shelley payment address, optional delegation to a stake address\n",
    "  cardano-cli query tip                          Get the node's current tip (slot no, hash, block no)\n",
    "  cardano-cli query utxo                         Get a portion of the current UTxO: by tx in, by address or the whole\n",
    "  \n",
    "  marlowe-cli template swap                      Create a swap contract\n",
    "  marlowe-cli util slotting                      Find the slot-to-time relationship for the current epoch\n",
    "  marlowe-cli util mint                          Mint native tokens\n",
    "  marlowe-cli util clean                         Reorganize the UTxOs at an address, separating tokens\n",
    "  marlowe-cli transaction simple                 Build a non-Marlowe transaction\n",
    "  marlowe-cli run initialize                     Init first transaction of Marlowe contract and write a JSON file\n",
    "  marlowe-cli run execute                        Run a Marlowe transaction\n",
    "  marlowe-cli run prepare                        Prep next step of a Marlowe contract and write a JSON file\n",
    "  marlowe-cli run withdraw                       Withdraw funds from the Marlowe role address\n",
    "```\n",
    "\n",
    "### Network\n",
    "The marlowe-pioneer blockchain testnet is offline since December 2022 (NetworkMagic: 1567).  \n",
    "We therefore need to use [other Cardano blockchain networks](https://developers.cardano.org/docs/get-started/running-cardano/#cardano-blockchain--nets).  \n",
    "  * testnet\n",
    "    * preview (NetworkMagic: 2)\n",
    "    * preprod (NetworkMagic: 1)\n",
    "  * mainnet\n",
    "    * mainnet (NetworkMagic: 764824073)\n",
    "  \n",
    "This notebook will use the **preview** Cardano blockchain network, using MAGIC **2**.  \n",
    "\n",
    "### Contract\n",
    "known contract templates:  \n",
    "  * **[actus](https://github.com/input-output-hk/marlowe-cardano/tree/main/marlowe-cli/examples/actus)** or zero-coupon bond is one party borrow and another pay back with interest\n",
    "  * **[cfd](https://github.com/input-output-hk/marlowe-cardano/tree/main/marlowe-cli/examples/cfd)** or contract for differences is where two parties settle for price differences\n",
    "  * **[covered call](https://github.com/input-output-hk/marlowe-cardano/tree/main/marlowe-cli/examples/coveredCall)** transfers a token if the counter-party exercises the option\n",
    "  * **[escrow](https://github.com/input-output-hk/marlowe-cardano/tree/main/marlowe-cli/examples/escrow)** purchase of an item at a price between buyer and seller with a mediator\n",
    "  * **[simple](https://github.com/input-output-hk/marlowe-cardano/tree/main/marlowe-cli/examples/simple)** takes as deposit, waits for a notification, makes a payment\n",
    "  * **[swap](https://github.com/input-output-hk/marlowe-cardano/tree/main/marlowe-cli/examples/swap)** swaps native tokens between two parties\n",
    "  \n",
    "This notebook will use a custom build **swap** contract.  \n",
    "\n",
    "A swap smart contract in Cardano allows users to exchange one cryptocurrency for another  \n",
    "without the need for a centralized exchange.  \n",
    "The basic idea is that two parties can agree to exchange different amounts of two different cryptocurrencies,  \n",
    "and the smart contract automatically executes the trade when both parties have fulfilled their end of the agreement.  "
   ]
  },
  {
   "cell_type": "markdown",
   "id": "b9891cff-2471-4e1d-a260-43a3779ed85d",
   "metadata": {},
   "source": [
    "## Installation"
   ]
  },
  {
   "cell_type": "markdown",
   "id": "57e4c9ad-76bc-468c-94e7-792649d20ae0",
   "metadata": {},
   "source": [
    "### versions"
   ]
  },
  {
   "cell_type": "code",
   "execution_count": 18,
   "id": "90385983",
   "metadata": {},
   "outputs": [
    {
     "name": "stdout",
     "output_type": "stream",
     "text": [
      "conda       : 4.12.0\n",
      "pip         : 21.2.4\n",
      "python      : 3.9.12\n",
      "cardano     : 0.8.2\n",
      "pandas      : 1.4.3\n",
      "numpy       : 1.23.0\n",
      "json        : 0.1.13\n"
     ]
    }
   ],
   "source": [
    "# installed modules in python\n",
    "conda_version = ! conda -V\n",
    "print(f\"conda       : {conda_version[0].split()[1]}\")\n",
    "pip_version = ! pip -V\n",
    "print(f\"pip         : {pip_version[0].split()[1]}\")\n",
    "python_version = ! python -V\n",
    "print(f\"python      : {python_version[0].split()[1]}\")\n",
    "cardano_version = ! pip list |grep -i cardano\n",
    "print(f\"cardano     : {cardano_version[0].split()[1]}\")\n",
    "pandas_version = ! pip list |grep -i pandas\n",
    "print(f\"pandas      : {pandas_version[0].split()[1]}\")\n",
    "numpy_version = ! pip list |grep -i numpy\n",
    "print(f\"numpy       : {numpy_version[0].split()[1]}\")"
   ]
  },
  {
   "cell_type": "markdown",
   "id": "0cd6e051-365c-487b-9f74-c81572198be2",
   "metadata": {},
   "source": [
    "### modules"
   ]
  },
  {
   "cell_type": "code",
   "execution_count": 45,
   "id": "771b0f17",
   "metadata": {},
   "outputs": [],
   "source": [
    "# used for loading a webpage\n",
    "from IPython.display import Javascript\n",
    "from IPython.core.display import HTML\n",
    "\n",
    "import re           # regex tool\n",
    "import pandas as pd # tabular data tool\n",
    "import numpy as np  # needed for helper function\n",
    "import json         # json data structure tool\n",
    "\n",
    "# environment packages\n",
    "import platform\n",
    "import psutil\n",
    "import os\n",
    "\n",
    "# https://stackabuse.com/executing-shell-commands-with-python/\n",
    "import subprocess\n",
    "\n",
    "# pd.describe_option('display')            # show all pandas options, parameters can slow down notebook\n",
    "pd.set_option('display.max_colwidth', 80)  # default 50, the maximum width in characters of a column\n",
    "pd.set_option('display.max_columns', 20)   # default 20, the maximum amount of columns in view \n",
    "pd.set_option('display.max_rows', 10)      # default 60, the maximum amount of rows in view"
   ]
  },
  {
   "cell_type": "code",
   "execution_count": 46,
   "id": "017f9bd0",
   "metadata": {},
   "outputs": [
    {
     "data": {
      "text/html": [
       "<style>/* Tooltip container */\n",
       ".ttooltip {\n",
       "  position: relative;\n",
       "  display: inline-block;\n",
       "  border-bottom: 1px dotted #3498db; /* If you want dots under the hoverable text */\n",
       "}\n",
       "\n",
       "/* Tooltip text */\n",
       ".ttooltip .tooltiptext {\n",
       "  visibility: hidden;\n",
       "  width: 300px;\n",
       "  background-color: #3498db;\n",
       "  color: #fff;\n",
       "  text-align: center;\n",
       "  padding: 6px 12px;\n",
       "  border-radius: 10px;\n",
       "  font-size: 14px;\n",
       "\n",
       "  /* Position the tooltip text - see examples below! */\n",
       "  position: absolute;\n",
       "  z-index: 1;\n",
       "  opacity: 100%;\n",
       "  transition: opacity 0.3s;\n",
       "}\n",
       "\n",
       "/* Show the tooltip text when you mouse over the tooltip container */\n",
       ".ttooltip:hover .tooltiptext {\n",
       "  visibility: visible;\n",
       "}\n",
       "</style>"
      ],
      "text/plain": [
       "<IPython.core.display.HTML object>"
      ]
     },
     "execution_count": 46,
     "metadata": {},
     "output_type": "execute_result"
    }
   ],
   "source": [
    "# setup a mouse over tooltip feature\n",
    "def _set_css_style(css_file_path):\n",
    "   \"\"\"\n",
    "   Read the custom CSS file and load it into Jupyter.\n",
    "   Pass the file path to the CSS file.\n",
    "   \"\"\"\n",
    "   styles = open(css_file_path, \"r\").read()\n",
    "   st = '<style>%s</style>' % styles     \n",
    "   return HTML(st)\n",
    "\n",
    "_set_css_style('../scripts/tooltip_style.css')"
   ]
  },
  {
   "cell_type": "markdown",
   "id": "15328d2a",
   "metadata": {},
   "source": [
    "<div class=\"ttooltip\">Marlowe<span class=\"tooltiptext\">Tooltip text</span></div>"
   ]
  },
  {
   "cell_type": "markdown",
   "id": "6d3e6ad5-8c40-43f3-a12b-70dfd6837690",
   "metadata": {},
   "source": [
    "### server\n",
    "You start with **Ubuntu** on a virtual machine in the cloud."
   ]
  },
  {
   "cell_type": "code",
   "execution_count": 37,
   "id": "cd23de6d-26cc-4a6f-ab06-f8ffd572ce77",
   "metadata": {},
   "outputs": [
    {
     "name": "stdout",
     "output_type": "stream",
     "text": [
      "Cores : 8 (3GHz)\n",
      "Memory: 62.81 GB (8% used)\n",
      "Swap  : 8 GB\n",
      "Disk  : 242 GB ext4 (65% used)\n",
      "System: 20.04.1-Ubuntu\n"
     ]
    }
   ],
   "source": [
    "# Virtual Machine environment \n",
    "print(f\"Cores : {psutil.cpu_count(logical=True)} ({psutil.cpu_freq().current/1000:.0f}GHz)\")\n",
    "print(f\"Memory: {psutil.virtual_memory().total/(1024**3):.2f} GB ({psutil.virtual_memory().percent:.0f}% used)\")\n",
    "print(f\"Swap  : {os.path.getsize('/swapfile')/(1024**3):.0f} GB\")\n",
    "disk_size = psutil.disk_usage(psutil.disk_partitions()[0].mountpoint).total\n",
    "disk_used = psutil.disk_usage(psutil.disk_partitions()[0].mountpoint).percent\n",
    "disk_fs   = psutil.disk_partitions()[0].fstype \n",
    "print(f\"Disk  : {disk_size/(1024**3):.0f} GB {disk_fs} ({disk_used:.0f}% used)\")\n",
    "print(f\"System: {platform.uname().version.split('~')[1].split()[0]}\")"
   ]
  },
  {
   "cell_type": "markdown",
   "id": "782d0df9-4f84-4ff7-b1e1-325866821ec0",
   "metadata": {},
   "source": [
    "### software\n",
    "Connect to your VM using a Terminal (Putty).  \n",
    "**Update** your installation.  \n",
    "Install **curl** and **rsync**.  \n",
    "```sh\n",
    "sudo sh -c 'apt update && apt install curl rsync'\n",
    "```"
   ]
  },
  {
   "cell_type": "markdown",
   "id": "02b75ffd-600a-4c76-8695-8c41c232a92d",
   "metadata": {},
   "source": [
    "**Install nixos** from the official installation script.  \n",
    "Nixos is a form of virtual environment like docker with cryptographic hashed package manager Nix to eliminate dependency hell.\n",
    "```sh\n",
    "sh <(curl -L https://nixos.org/nix/install) --daemon\n",
    "```"
   ]
  },
  {
   "cell_type": "markdown",
   "id": "bccf0860-151b-4bb1-a531-ba8f6fc20b1e",
   "metadata": {},
   "source": [
    "Add content to **nix.conf** and **restart** the nix-daemon.  \n",
    "These lines allow for a fast build of nixos, downloading trusted binaries instead of compiling from scratch.  \n",
    "```sh\n",
    "sudo sh -c \"echo 'substituters = https://hydra.iohk.io https://iohk.cachix.org https://cache.nixos.org/' >> /etc/nix/nix.conf\"\n",
    "sudo sh -c \"echo 'trusted-public-keys = hydra.iohk.io:f/Ea+s+dFdN+3Y/G+FDgSq+a5NEWhJGzdjvKNGv0/EQ= iohk.cachix.org-1:DpRUyj7h7V830dp/i6Nti+NEO2/nhblbov/8MW7Rqoo= cache.nixos.org-1:6NCHdD59X431o0gWypbMrAURkbJ16ZPMQFGspcDShjY=' >> /etc/nix/nix.conf\"\n",
    "sudo sh -c \"echo 'experimental-features = nix-command' >> /etc/nix/nix.conf\"  \n",
    "sudo sh -c \"echo 'extra-experimental-features = flakes' >> /etc/nix/nix.conf\"  \n",
    "sudo sh -c 'echo \"trusted-users = $0\" >> /etc/nix/nix.conf' `whoami`\n",
    "```"
   ]
  },
  {
   "cell_type": "code",
   "execution_count": 5,
   "id": "558daefb-35df-4eb3-bdad-cf7296bd8ceb",
   "metadata": {},
   "outputs": [
    {
     "name": "stdout",
     "output_type": "stream",
     "text": [
      "build-users-group = nixbld\r\n",
      "substituters = https://hydra.iohk.io https://iohk.cachix.org https://cache.nixos.org/\r\n",
      "trusted-public-keys = hydra.iohk.io:f/Ea+s+dFdN+3Y/G+FDgSq+a5NEWhJGzdjvKNGv0/EQ= iohk.cachix.org-1:DpRUyj7h7V830dp/i6Nti+NEO2/nhblbov/8MW7Rqoo= cache.nixos.org-1:6NCHdD59X431o0gWypbMrAURkbJ16ZPMQFGspcDShjY=\r\n",
      "trusted-users = ubuntu\r\n",
      "experimental-features = nix-command\r\n",
      "extra-experimental-features = flakes\r\n"
     ]
    }
   ],
   "source": [
    "# here is the content of the config file\n",
    "!cat /etc/nix/nix.conf"
   ]
  },
  {
   "cell_type": "markdown",
   "id": "388901fc",
   "metadata": {},
   "source": [
    "Restart Nix  \n",
    "```sh\n",
    "sudo systemctl restart nix-daemon.service\n",
    "```"
   ]
  },
  {
   "cell_type": "code",
   "execution_count": 6,
   "id": "a5d3d808",
   "metadata": {},
   "outputs": [
    {
     "name": "stdout",
     "output_type": "stream",
     "text": [
      "\r",
      "\u001b[0m\u001b[Knix (Nix) 2.12.0\r\n",
      "\r",
      "\u001b[K"
     ]
    }
   ],
   "source": [
    "# here is the version of Nix\n",
    "!/nix/var/nix/profiles/default/bin/nix --version"
   ]
  },
  {
   "cell_type": "markdown",
   "id": "0a34f96a-cc0a-4557-8c62-0bc51bf99a4f",
   "metadata": {},
   "source": [
    "### install marlowe-cli\n",
    "\n",
    "1. Download\n",
    "```sh\n",
    "git clone https://github.com/input-output-hk/marlowe-cardano.git\n",
    "```\n",
    "2. Change directory\n",
    "```sh\n",
    "cd marlowe-cardano/marlowe-cli\n",
    "```\n",
    "2. Compile (be patient ...)\n",
    "```sh\n",
    "nix develop\n",
    "```"
   ]
  },
  {
   "cell_type": "markdown",
   "id": "e60bac4b",
   "metadata": {},
   "source": [
    "### install cardano-node\n",
    "\n",
    "1. Create directory\n",
    "\n",
    "\n",
    "1. Download\n",
    "```sh\n",
    "git clone https://github.com/input-output-hk/marlowe-cardano.git\n",
    "```\n",
    "2. Change directory\n",
    "```sh\n",
    "cd marlowe-cardano/marlowe-cli\n",
    "```\n",
    "2. Compile (be patient ...)\n",
    "```sh\n",
    "nix develop\n",
    "```"
   ]
  },
  {
   "cell_type": "code",
   "execution_count": null,
   "id": "51b74a89",
   "metadata": {},
   "outputs": [],
   "source": [
    "https://github.com/input-output-hk/PROJECT/releases/latest/download/package.zip"
   ]
  },
  {
   "cell_type": "code",
   "execution_count": null,
   "id": "adec8cf5",
   "metadata": {},
   "outputs": [],
   "source": []
  },
  {
   "cell_type": "code",
   "execution_count": null,
   "id": "8577a49c",
   "metadata": {},
   "outputs": [],
   "source": [
    "download/install **cardano-cli** executables:  \n",
    "\n",
    "Download the latest release of 'cardano-node' from the GitHub releases page.  \n",
    "create directory, Extract, clean up.  \n",
    "```sh\n",
    "mkdir ~/cardano\n",
    "cd ~/cardano\n",
    "wget https://update-cardano-mainnet.iohk.io/cardano-node-releases/cardano-node-1.35.4-linux.tar.gz  \n",
    "tar xzf cardano-node-1.35.4-linux.tar.gz  \n",
    "rm cardano-node-1.35.4-linux.tar.gz  \n",
    "```\n",
    "---\n",
    "download/install **cardano-wallet** executables:  \n",
    "\n",
    "Download the latest release of 'cardano-wallet' from the GitHub releases page.  \n",
    "Extract, delete, move directory, clean up.  \n",
    "```sh\n",
    "cd ~/cardano\n",
    "wget https://github.com/input-output-hk/cardano-wallet/releases/download/v2022-12-14/cardano-wallet-v2022-12-14-linux64.tar.gz\n",
    "tar xzf cardano-wallet-v2022-12-14-linux64.tar.gz\n",
    "rm cardano-wallet-v2022-12-14-linux64.tar.gz\n",
    "mv cardano-wallet-v2022-12-14-linux64/* ~/cardano/\n",
    "rm cardano-wallet-v2022-12-14-linux64\n",
    "```\n",
    "---\n",
    "download/install **marlowe-cli** executables:  \n",
    "  \n",
    "at this stage you can only build/compile with **nix develop**,  \n",
    "we can copy this binary file from /nix/store/...  \n",
    "```sh\n",
    "cp /nix/store/*-marlowe-cli-exe-marlowe-cli-*/bin/marlowe-cli ~/cardano  \n",
    "```\n",
    "---\n",
    "add the ~/cardano directory to your $PATH variable,  \n",
    "so that you can execute the binary files in that directory from the command line.  \n",
    "To make this persistent across reboots, we add the export command to the shell initialization file.  \n",
    "```sh\n",
    "sudo sh -c \"echo 'export PATH=$PATH:$HOME/cardano' >> $HOME/.bashrc\"\n",
    "```\n",
    "\n",
    "re-execute the shell initialization files and apply the updated settings.  \n",
    "```sh\n",
    "source ~/.bashrc\n",
    "```"
   ]
  },
  {
   "cell_type": "markdown",
   "id": "b7f34c74",
   "metadata": {},
   "source": [
    "### custom helper functions\n",
    "\n",
    "helper functions transform transaction status into a tabular form.   \n",
    "\n",
    "be aware to update the magic='...' value,  \n",
    "depending on the Cardano Blockchain network of choice  \n",
    "\n",
    "'1567' means marlowe-pioneer  \n",
    "'2' means preview  \n",
    "'1' means preprod  \n",
    "'764824073' means mainnet"
   ]
  },
  {
   "cell_type": "code",
   "execution_count": 4,
   "id": "271dc744",
   "metadata": {},
   "outputs": [],
   "source": [
    "def query_df(address, magic='2', cardanoCLI=\"/home/ubuntu/cardano/cardano-cli\"):\n",
    "    '''\n",
    "    query_df(address, magic, cardanoCLI)\n",
    "    \n",
    "    address : (str) [required] is the wallet address you want to check for last transaction state\n",
    "    magic : (str) [optional] is the key used to identify the mainnet, testnet, other networks\n",
    "    cardanoCLI : (str) [optional] the binary file of the cardano-cli on your system\n",
    "    '''\n",
    "\n",
    "    def hex_to_ascii(s):\n",
    "        # small function to decode hex strings to ascii (translation)\n",
    "        try:\n",
    "            return bytearray.fromhex(s).decode()\n",
    "        except ValueError:\n",
    "            return None\n",
    "\n",
    "    # shell command, execute and store result in a temporary json file\n",
    "    cmd = [cardanoCLI, \"query\", \"utxo\", \"--testnet-magic\", magic, \"--address\", address, \"--out-file\", 'address.json']\n",
    "    result = subprocess.run(cmd, capture_output=True, text=True)\n",
    "    # load this json file into a dataframe\n",
    "    df = pd.read_json('address.json', orient='index').reset_index()\n",
    "\n",
    "    # test if empty query, then return empty line with address\n",
    "    if len(df.columns) < 2:\n",
    "        # close off\n",
    "        return pd.DataFrame({'address':[address], 'TxHash':np.nan, 'TxIx':0, 'lovelace':0, 'TokenPolicyId':np.nan, 'TokenNameHex':np.nan, 'TokenNameAscii':np.nan, 'TokenAmount':0, 'datumhash':np.nan})\n",
    "\n",
    "    # replace feature names with interpretable naming (others are left as-is) \n",
    "    df = df.rename(columns={'index': 'TxHash',\n",
    "                            'datumhash': 'datumhash',\n",
    "                            'address': 'address',\n",
    "                            'value': 'value'})\n",
    "    # split the # value into a seperate column and remove the original\n",
    "    df = df.join(df['TxHash'].str.split('#', regex=False, expand=True), how='left')\n",
    "    df = df.drop(['TxHash'], axis=1)\n",
    "    # replace feature names with interpretable naming (others are left as-is) \n",
    "    df = df.rename(columns={0:'TxHash', 1: 'TxIx'})\n",
    "    # normalize the value column ex:{lovelace:3000000} into 2 new columns and remove original column\n",
    "    df = pd.concat([df.drop(['value'], axis=1), df['value'].apply(pd.Series)], axis=1)\n",
    "    # change data type from float to integer\n",
    "    df['lovelace'] = df['lovelace'].fillna(0)\n",
    "    df['TxIx'] = df['TxIx'].fillna(0)\n",
    "    df['lovelace'] = df['lovelace'].astype('int')\n",
    "    df['TxIx'] = df['TxIx'].astype('int')\n",
    "    # drop all columns with all values NA\n",
    "    df = df.dropna(axis=1, how='all')\n",
    "    \n",
    "    # if the last column name word size is 56 characters wide:\n",
    "    # try if this is needed, if no data is present then skip\n",
    "    try:\n",
    "        # unselect all known columns, keep last ones column name\n",
    "        cn = df[df.columns[~df.columns.isin(['address', 'TxHash', 'TxIx', 'lovelace'])]].iloc[:, -1].name\n",
    "        # check if this name is 64 bytes long ? \n",
    "        if len(cn) == 56:\n",
    "            # make a copy into a new column name\n",
    "            df['TokenPolicyId'] = df[cn]\n",
    "            # write the values 'column name' only on True state locations\n",
    "            df['TokenPolicyId'] = df['TokenPolicyId'].notna().replace({True: cn, False: np.nan})\n",
    "            \n",
    "            # normalize the value column ex:{}\n",
    "            df = pd.concat([df.drop([cn], axis=1), df[cn].apply(pd.Series)], axis=1)\n",
    "            # drop all columns with all values NA\n",
    "            df = df.dropna(axis=1, how='all')\n",
    "            \n",
    "            # build a secondary dataframe to be concatenated at the end with the hextokenid and tokenamount\n",
    "            # exclude all known columns\n",
    "            two = df[df.columns[~df.columns.isin(['address', 'TxHash', 'TxIx', 'lovelace', 'TokenPolicyId'])]]\n",
    "            # stack the column name and values into one dataframe and reset the index\n",
    "            tmp = two.stack().apply(pd.Series).reset_index()\n",
    "            # set the index to this column values, later for merging with df\n",
    "            tmp = tmp.set_index('level_0')\n",
    "            # rename these 2 columns\n",
    "            tmp.columns = ['TokenNameHex', 'TokenAmount']\n",
    "            # merge\n",
    "            df = pd.concat([df, tmp], axis=1)\n",
    "            # set tokenamount to integer dtype\n",
    "            df['TokenAmount'] = df['TokenAmount'].fillna(0)\n",
    "            df['TokenAmount'] = df['TokenAmount'].astype('int')\n",
    "            # remove the bogus columns, clean up\n",
    "            df = df.drop(tmp['TokenNameHex'], axis=1)\n",
    "            # add a column with the ascii transation\n",
    "            df['TokenNameAscii'] = df['TokenNameHex'].astype('str').apply(hex_to_ascii)\n",
    "            # add empty column data so we can combine all dataframes into one later\n",
    "            df['datumhash'] = np.nan\n",
    "            # structure in chronologic order the column names\n",
    "            df = df[['address', 'TxHash', 'TxIx', 'lovelace', 'TokenPolicyId', 'TokenNameHex', 'TokenNameAscii', 'TokenAmount', 'datumhash']]\n",
    "            return df\n",
    "            \n",
    "    # in the case of no data present add these extra empty columns\n",
    "    # in fact this will never occur, below code... \n",
    "    except:\n",
    "        df['datumhash'] = np.nan\n",
    "        df['TokenPolicyId'] = np.nan\n",
    "        df['TokenNameHex'] = np.nan\n",
    "        df['TokenAmount'] = 0\n",
    "        return df\n",
    "\n",
    "    # add empty column data so we can combine all dataframes into one later\n",
    "    df['TokenPolicyId'] = np.nan\n",
    "    df['TokenNameHex'] = np.nan\n",
    "    df['TokenNameAscii'] = np.nan\n",
    "    df['TokenAmount'] = 0\n",
    "    # structure in chronologic order the column names\n",
    "    df = df[['address', 'TxHash', 'TxIx', 'lovelace', 'TokenPolicyId', 'TokenNameHex', 'TokenNameAscii', 'TokenAmount', 'datumhash']]\n",
    "    return df"
   ]
  },
  {
   "cell_type": "markdown",
   "id": "13c9c9c2-6b3b-4cfb-b804-6f0e29ec3441",
   "metadata": {},
   "source": [
    "## Check"
   ]
  },
  {
   "cell_type": "markdown",
   "id": "8ee3350e",
   "metadata": {},
   "source": [
    "### find binaries\n",
    "Here we search for the binaries installed in nix-shell.  \n",
    "\n",
    "  * **cardano-cli** used for generating keys, constructing transactions, creating certificates on the cardano node running in the background\n",
    "  * **marlowe-cli** used for serialising Marlowe contracts to validators, datums, redeemers and also computes hashes and addresses with cardano-cli\n",
    "  * **cardano-wallet** used for sending and receiving payments, list, create, update, or delete wallets  \n",
    "  \n",
    "  "
   ]
  },
  {
   "cell_type": "code",
   "execution_count": 9,
   "id": "50f1a8ce",
   "metadata": {},
   "outputs": [],
   "source": [
    "# !sudo find /nix/store -wholename '*/bin/cardano-cli'"
   ]
  },
  {
   "cell_type": "code",
   "execution_count": 128,
   "id": "b5111ffd",
   "metadata": {},
   "outputs": [
    {
     "name": "stdout",
     "output_type": "stream",
     "text": [
      "/nix/store/s2jwd3gmga4jw4yw3vpnahw65p7j9z6j-marlowe-cli-exe-marlowe-cli-0.0.10.0/bin/marlowe-cli\n",
      "/nix/store/4hvi690affn9p4qfz508cixnmlqfscqf-marlowe-cli-exe-marlowe-cli-0.0.8.1/bin/marlowe-cli\n"
     ]
    }
   ],
   "source": [
    "!sudo find /nix/store -wholename '*/bin/marlowe-cli'"
   ]
  },
  {
   "cell_type": "markdown",
   "id": "2149dbca",
   "metadata": {},
   "source": [
    "git clone cardano-wallet...  \n",
    "go into it and run with Nix to build  \n",
    "nix-build -A cardano-wallet  \n",
    "then wait 4-5 hours"
   ]
  },
  {
   "cell_type": "code",
   "execution_count": 11,
   "id": "bf38caa8",
   "metadata": {},
   "outputs": [],
   "source": [
    "# !sudo find /nix/store -wholename '*/bin/cardano-wallet'"
   ]
  },
  {
   "cell_type": "markdown",
   "id": "54d7dd6a",
   "metadata": {},
   "source": [
    "download/install **cardano-cli** executables:  \n",
    "\n",
    "Download the latest release of 'cardano-node' from the GitHub releases page.  \n",
    "create directory, Extract, clean up.  \n",
    "```sh\n",
    "mkdir ~/cardano\n",
    "cd ~/cardano\n",
    "wget https://update-cardano-mainnet.iohk.io/cardano-node-releases/cardano-node-1.35.4-linux.tar.gz  \n",
    "tar xzf cardano-node-1.35.4-linux.tar.gz  \n",
    "rm cardano-node-1.35.4-linux.tar.gz  \n",
    "```\n",
    "---\n",
    "download/install **cardano-wallet** executables:  \n",
    "\n",
    "Download the latest release of 'cardano-wallet' from the GitHub releases page.  \n",
    "Extract, delete, move directory, clean up.  \n",
    "```sh\n",
    "cd ~/cardano\n",
    "wget https://github.com/input-output-hk/cardano-wallet/releases/download/v2022-12-14/cardano-wallet-v2022-12-14-linux64.tar.gz\n",
    "tar xzf cardano-wallet-v2022-12-14-linux64.tar.gz\n",
    "rm cardano-wallet-v2022-12-14-linux64.tar.gz\n",
    "mv cardano-wallet-v2022-12-14-linux64/* ~/cardano/\n",
    "rm cardano-wallet-v2022-12-14-linux64\n",
    "```\n",
    "---\n",
    "download/install **marlowe-cli** executables:  \n",
    "  \n",
    "at this stage you can only build/compile with **nix develop**,  \n",
    "we can copy this binary file from /nix/store/...  \n",
    "```sh\n",
    "cp /nix/store/*-marlowe-cli-exe-marlowe-cli-*/bin/marlowe-cli ~/cardano  \n",
    "```\n",
    "---\n",
    "add the ~/cardano directory to your $PATH variable,  \n",
    "so that you can execute the binary files in that directory from the command line.  \n",
    "To make this persistent across reboots, we add the export command to the shell initialization file.  \n",
    "```sh\n",
    "sudo sh -c \"echo 'export PATH=$PATH:$HOME/cardano' >> $HOME/.bashrc\"\n",
    "```\n",
    "\n",
    "re-execute the shell initialization files and apply the updated settings.  \n",
    "```sh\n",
    "source ~/.bashrc\n",
    "```"
   ]
  },
  {
   "cell_type": "code",
   "execution_count": 8,
   "id": "b910e33d",
   "metadata": {},
   "outputs": [
    {
     "name": "stdout",
     "output_type": "stream",
     "text": [
      "total 455296\r\n",
      "-rw-rw-r-- 1 ubuntu ubuntu     9459 Dec 29 16:41 alonzo-genesis.json\r\n",
      "drwxr-xr-x 5 ubuntu ubuntu     4096 Dec 14 18:38 auto-completion\r\n",
      "-rwxr-xr-x 1 ubuntu ubuntu  4502992 Dec 14 18:38 bech32\r\n",
      "-rw-rw-r-- 1 ubuntu ubuntu     5607 Dec 29 16:41 byron-genesis.json\r\n",
      "-rwxr-xr-x 1 ubuntu ubuntu  8601960 Dec 14 18:38 cardano-address\r\n",
      "-rwxr-xr-x 1 ubuntu ubuntu 40594416 Dec 14 18:38 cardano-cli\r\n",
      "-rwxr-xr-x 1 ubuntu ubuntu 51948112 Dec 14 18:38 cardano-node\r\n",
      "-rwxr-xr-x 1 ubuntu ubuntu 24962016 Dec  2 16:03 cardano-node-chairman\r\n",
      "-rwxr-xr-x 1 ubuntu ubuntu  5323528 Dec  2 16:03 cardano-ping\r\n",
      "-rwxr-xr-x 1 ubuntu ubuntu 24780800 Dec  2 16:03 cardano-submit-api\r\n",
      "-rwxr-xr-x 1 ubuntu ubuntu  6764576 Dec  2 16:03 cardano-testnet\r\n",
      "-rwxr-xr-x 1 ubuntu ubuntu  3497856 Dec  2 16:03 cardano-topology\r\n",
      "-rwxr-xr-x 1 ubuntu ubuntu 48705536 Dec 14 18:38 cardano-wallet\r\n",
      "-rwxr-xr-x 1 ubuntu ubuntu 22677600 Dec  2 16:03 chain-sync-client-with-ledger-state\r\n",
      "-rw-rw-r-- 1 ubuntu ubuntu     3072 Dec 29 16:41 config.json\r\n",
      "drwxr-xr-x 6 ubuntu ubuntu     4096 Dec  2 16:03 configuration\r\n",
      "drwxrwxr-x 5 ubuntu ubuntu     4096 Jan  5 07:37 db\r\n",
      "-rwxr-xr-x 1 ubuntu ubuntu 33639432 Dec  2 16:03 db-analyser\r\n",
      "-rwxr-xr-x 1 ubuntu ubuntu  5211760 Dec  2 16:03 db-converter\r\n",
      "-rw-rw-r-- 1 ubuntu ubuntu     2524 Dec 29 16:41 db-sync-config.json\r\n",
      "-rwxr-xr-x 1 ubuntu ubuntu 33118984 Dec  2 16:03 db-synthesizer\r\n",
      "-rw-rw-r-- 1 ubuntu ubuntu     1184 Dec 29 15:57 docker-compose.yml\r\n",
      "-rwxr-xr-x 1 ubuntu ubuntu 22718976 Dec  2 16:03 ledger-state\r\n",
      "-rwxr-xr-x 1 ubuntu ubuntu  4836576 Dec  2 16:03 locli\r\n",
      "drwxrwxr-x 3 ubuntu ubuntu     4096 Dec 29 16:35 mainnet\r\n",
      "-r-xr-xr-x 1 ubuntu ubuntu 43246976 Dec 29 15:56 marlowe-cli\r\n",
      "-rwxr-xr-x 1 ubuntu ubuntu  8294232 Dec  2 16:03 plutus-example\r\n",
      "-rwxr-xr-x 1 ubuntu ubuntu 20784000 Dec  2 16:03 scan-blocks\r\n",
      "-rwxr-xr-x 1 ubuntu ubuntu 20784160 Dec  2 16:03 scan-blocks-pipelined\r\n",
      "-rw-rw-r-- 1 ubuntu ubuntu     2692 Dec 29 16:41 shelley-genesis.json\r\n",
      "-rwxr-xr-x 1 ubuntu ubuntu 23298880 Dec  2 16:03 stake-credential-history\r\n",
      "-rw-rw-r-- 1 ubuntu ubuntu     2546 Dec 29 16:41 submit-api-config.json\r\n",
      "-rw-rw-r-- 1 ubuntu ubuntu      453 Dec 29 16:41 topology.json\r\n",
      "-rwxr-xr-x 1 ubuntu ubuntu  7818336 Dec  2 16:03 trace-dispatcher-examples\r\n",
      "drwxrwxr-x 2 ubuntu ubuntu     4096 Jan  5 07:36 wallet-db\r\n"
     ]
    }
   ],
   "source": [
    "# list all the binaries needed to create and manage Cardano addresses,\n",
    "# running a Cardano node, or interacting with the Cardano network using the CLI\n",
    "!ls -l ~/cardano"
   ]
  },
  {
   "cell_type": "code",
   "execution_count": 5,
   "id": "00315efa",
   "metadata": {},
   "outputs": [
    {
     "name": "stdout",
     "output_type": "stream",
     "text": [
      "/anaconda/envs/py39_cardano/bin:/anaconda/condabin:/usr/local/sbin:/usr/local/bin:/usr/sbin:/usr/bin:/sbin:/bin:/home/ubuntu/cardano\r\n"
     ]
    }
   ],
   "source": [
    "# Add the '~/cardano' directory to the PATH environment variable\n",
    "os.environ['PATH'] = os.environ['PATH'] + ':' + os.path.expanduser('~/cardano')\n",
    "\n",
    "# check the result, call the environment variable from within jupyter notebook\n",
    "!echo $PATH"
   ]
  },
  {
   "cell_type": "code",
   "execution_count": 5,
   "id": "5a1ad7e4",
   "metadata": {},
   "outputs": [
    {
     "name": "stdout",
     "output_type": "stream",
     "text": [
      "/anaconda/envs/py39_cardano/bin:/anaconda/condabin:/usr/local/sbin:/usr/local/bin:/usr/sbin:/usr/bin:/sbin:/bin\r\n"
     ]
    }
   ],
   "source": [
    "# !echo $PATH"
   ]
  },
  {
   "cell_type": "code",
   "execution_count": 15,
   "id": "668fb380",
   "metadata": {},
   "outputs": [
    {
     "name": "stdout",
     "output_type": "stream",
     "text": [
      "cardano-cli 1.35.4 - linux-x86_64 - ghc-8.10\r\n",
      "git rev ebc7be471b30e5931b35f9bbc236d21c375b91bb\r\n"
     ]
    }
   ],
   "source": []
  },
  {
   "cell_type": "code",
   "execution_count": 16,
   "id": "81610716",
   "metadata": {},
   "outputs": [
    {
     "name": "stdout",
     "output_type": "stream",
     "text": [
      "marlowe-cli 0.0.10.0\r\n"
     ]
    }
   ],
   "source": []
  },
  {
   "cell_type": "code",
   "execution_count": 17,
   "id": "1afb31c1",
   "metadata": {},
   "outputs": [
    {
     "name": "stdout",
     "output_type": "stream",
     "text": [
      "v2022-12-14 (git revision: bbf11d4feefd5b770fb36717ec5c4c5c112aca87)\r\n"
     ]
    }
   ],
   "source": [
    "!cardano-wallet version"
   ]
  },
  {
   "cell_type": "code",
   "execution_count": 7,
   "id": "d74458d0",
   "metadata": {},
   "outputs": [
    {
     "name": "stdout",
     "output_type": "stream",
     "text": [
      "/nix/store/vaqzj4d6c1fdmqmm78y3g4n10pyw5mmc-cardano-cli-exe-cardano-cli-1.34.1/bin/cardano-cli\n",
      "/nix/store/9ijr3m1g4rr487q8gz35h3d27bfrxkyw-marlowe-cli-exe-marlowe-cli-0.0.4.4/bin/marlowe-cli\n",
      "/nix/store/9n5z901h18k7ijjj8axvyv4w2z0zgqcv-cardano-wallet-exe-cardano-wallet-2022.1.18/bin/cardano-wallet\n"
     ]
    }
   ],
   "source": [
    "# !sudo find /nix/store -wholename '*/bin/cardano-cli'\n",
    "# !sudo find /nix/store -wholename '*/bin/marlowe-cli'\n",
    "# !sudo find /nix/store -wholename '*/bin/cardano-wallet'"
   ]
  },
  {
   "cell_type": "markdown",
   "id": "0d6f4b29-cc68-443c-831b-086fb8a80710",
   "metadata": {},
   "source": [
    "### save binary path"
   ]
  },
  {
   "cell_type": "code",
   "execution_count": 6,
   "id": "776b55e1",
   "metadata": {},
   "outputs": [],
   "source": [
    "# cardanoCLI = \"/nix/store/6ykddplws1py6797j4paq93bdr05x5j3-cardano-cli-exe-cardano-cli-1.35.3/bin/cardano-cli\"\n",
    "cardanoCLI    = \"/home/ubuntu/cardano/cardano-cli\"\n",
    "marloweCLI    = \"/home/ubuntu/cardano/marlowe-cli\"\n",
    "cardanoWALLET = \"/home/ubuntu/cardano/cardano-wallet\"\n",
    "\n",
    "# cardanoCLI    = \"~/cardano/cardano-cli\"\n",
    "# marloweCLI    = \"~/cardano/marlowe-cli\"\n",
    "# cardanoWALLET = \"~/cardano/cardano-wallet\""
   ]
  },
  {
   "cell_type": "code",
   "execution_count": 8,
   "id": "1e14c84b-efa2-442d-add2-3e4d73b5d1b9",
   "metadata": {},
   "outputs": [],
   "source": [
    "# cardanoCLI = \"/nix/store/vaqzj4d6c1fdmqmm78y3g4n10pyw5mmc-cardano-cli-exe-cardano-cli-1.34.1/bin/cardano-cli\"\n",
    "# marloweCLI = \"/nix/store/9ijr3m1g4rr487q8gz35h3d27bfrxkyw-marlowe-cli-exe-marlowe-cli-0.0.4.4/bin/marlowe-cli\"\n",
    "# cardanoWALLET = \"/nix/store/9n5z901h18k7ijjj8axvyv4w2z0zgqcv-cardano-wallet-exe-cardano-wallet-2022.1.18/bin/cardano-wallet\""
   ]
  },
  {
   "cell_type": "markdown",
   "id": "c50e34b9",
   "metadata": {},
   "source": [
    "### check versions\n",
    "\n",
    "latest version available:  \n",
    "  * CLI tools:\n",
    "    * [cardano-cli](https://github.com/input-output-hk/cardano-node/releases/latest)\n",
    "    * [marlowe-cli](https://github.com/input-output-hk/marlowe-cardano/tree/main/marlowe-cli)\n",
    "    * [cardano-wallet](https://github.com/input-output-hk/cardano-wallet/releases/latest)\n",
    "  * services:\n",
    "    * cardano-node run\n",
    "    * cardano-wallet serve "
   ]
  },
  {
   "cell_type": "code",
   "execution_count": 10,
   "id": "746bd7d0",
   "metadata": {},
   "outputs": [
    {
     "name": "stdout",
     "output_type": "stream",
     "text": [
      "cardano-cli 1.35.4 - linux-x86_64 - ghc-8.10\r\n",
      "git rev ebc7be471b30e5931b35f9bbc236d21c375b91bb\r\n"
     ]
    }
   ],
   "source": [
    "!cardano-cli --version"
   ]
  },
  {
   "cell_type": "code",
   "execution_count": 7,
   "id": "d2ae1c58",
   "metadata": {},
   "outputs": [
    {
     "name": "stdout",
     "output_type": "stream",
     "text": [
      "marlowe-cli 0.0.10.0\r\n"
     ]
    }
   ],
   "source": [
    "!marlowe-cli --version"
   ]
  },
  {
   "cell_type": "code",
   "execution_count": 12,
   "id": "be40ac8c",
   "metadata": {},
   "outputs": [
    {
     "name": "stdout",
     "output_type": "stream",
     "text": [
      "v2022-12-14 (git revision: bbf11d4feefd5b770fb36717ec5c4c5c112aca87)\r\n"
     ]
    }
   ],
   "source": [
    "!cardano-wallet version"
   ]
  },
  {
   "cell_type": "code",
   "execution_count": 13,
   "id": "ea10ed4c",
   "metadata": {},
   "outputs": [
    {
     "name": "stdout",
     "output_type": "stream",
     "text": [
      "cardano-node 1.35.4 - linux-x86_64 - ghc-8.10\r\n",
      "git rev ebc7be471b30e5931b35f9bbc236d21c375b91bb\r\n"
     ]
    }
   ],
   "source": [
    "!cardano-node --version"
   ]
  },
  {
   "cell_type": "code",
   "execution_count": null,
   "id": "328c0946",
   "metadata": {},
   "outputs": [],
   "source": []
  },
  {
   "cell_type": "code",
   "execution_count": 14,
   "id": "0f41f476",
   "metadata": {},
   "outputs": [
    {
     "name": "stdout",
     "output_type": "stream",
     "text": [
      "cardano-cli 1.35.3 - linux-x86_64 - ghc-8.10\r\n",
      "git rev 0000000000000000000000000000000000000000\r\n"
     ]
    }
   ],
   "source": [
    "# ! /nix/store/6ykddplws1py6797j4paq93bdr05x5j3-cardano-cli-exe-cardano-cli-1.35.3/bin/cardano-cli --version"
   ]
  },
  {
   "cell_type": "code",
   "execution_count": 9,
   "id": "6b701459",
   "metadata": {},
   "outputs": [
    {
     "name": "stdout",
     "output_type": "stream",
     "text": [
      "cardano-cli 1.34.1 - linux-x86_64 - ghc-8.10\n",
      "git rev 0000000000000000000000000000000000000000\n"
     ]
    }
   ],
   "source": [
    "# !/nix/store/vaqzj4d6c1fdmqmm78y3g4n10pyw5mmc-cardano-cli-exe-cardano-cli-1.34.1/bin/cardano-cli --version"
   ]
  },
  {
   "cell_type": "code",
   "execution_count": 15,
   "id": "cdf41a3f",
   "metadata": {},
   "outputs": [
    {
     "name": "stdout",
     "output_type": "stream",
     "text": [
      "marlowe-cli 0.0.10.0\r\n"
     ]
    }
   ],
   "source": [
    "# ! /nix/store/s2jwd3gmga4jw4yw3vpnahw65p7j9z6j-marlowe-cli-exe-marlowe-cli-0.0.10.0/bin/marlowe-cli --version"
   ]
  },
  {
   "cell_type": "code",
   "execution_count": 10,
   "id": "be55fd59",
   "metadata": {},
   "outputs": [
    {
     "name": "stdout",
     "output_type": "stream",
     "text": [
      "marlowe-cli 0.0.4.4\n"
     ]
    }
   ],
   "source": [
    "# !/nix/store/9ijr3m1g4rr487q8gz35h3d27bfrxkyw-marlowe-cli-exe-marlowe-cli-0.0.4.4/bin/marlowe-cli --version"
   ]
  },
  {
   "cell_type": "code",
   "execution_count": 34,
   "id": "e6376999",
   "metadata": {},
   "outputs": [
    {
     "name": "stdout",
     "output_type": "stream",
     "text": [
      "v2022-12-14 (git revision: bbf11d4feefd5b770fb36717ec5c4c5c112aca87)\r\n"
     ]
    }
   ],
   "source": [
    "# ! /home/ubuntu/notebooks/cardano/cardano-wallet-v2022-12-14-linux64/cardano-wallet version"
   ]
  },
  {
   "cell_type": "code",
   "execution_count": 11,
   "id": "a3000ed5",
   "metadata": {},
   "outputs": [
    {
     "name": "stdout",
     "output_type": "stream",
     "text": [
      "v2022-01-18 (git revision: 0000000000000000000000000000000000000000)\n"
     ]
    }
   ],
   "source": [
    "# !/nix/store/9n5z901h18k7ijjj8axvyv4w2z0zgqcv-cardano-wallet-exe-cardano-wallet-2022.1.18/bin/cardano-wallet version"
   ]
  },
  {
   "cell_type": "markdown",
   "id": "94884e6f",
   "metadata": {},
   "source": [
    "### start node services\n",
    "\n",
    "This needs to be updated later to include tmux script here...  \n",
    "but I want one window running 'cardano-node'  \n",
    "and another running 'cardano-wallet'  \n",
    "and then a third one for htop  \n",
    "and maybe a fourth one for regular user shell inputs  "
   ]
  },
  {
   "cell_type": "markdown",
   "id": "cbf59d88",
   "metadata": {},
   "source": [
    "[**cardano-node** howto](https://developers.cardano.org/docs/get-started/running-cardano/)  \n",
    "download the blockchain network configuration files for your specific NetworkMagic: 2  \n",
    "```sh\n",
    "cd ~/cardano\n",
    "curl -O -J https://book.world.dev.cardano.org/environments/preview/config.json\n",
    "curl -O -J https://book.world.dev.cardano.org/environments/preview/db-sync-config.json\n",
    "curl -O -J https://book.world.dev.cardano.org/environments/preview/submit-api-config.json\n",
    "curl -O -J https://book.world.dev.cardano.org/environments/preview/topology.json\n",
    "curl -O -J https://book.world.dev.cardano.org/environments/preview/byron-genesis.json\n",
    "curl -O -J https://book.world.dev.cardano.org/environments/preview/shelley-genesis.json\n",
    "curl -O -J https://book.world.dev.cardano.org/environments/preview/alonzo-genesis.json\n",
    "```\n",
    "\n",
    "start the node (listen on all connections)\n",
    "```sh\n",
    "cd ~/cardano\n",
    "cardano-node run \\\n",
    "   --topology topology.json \\\n",
    "   --database-path ~/cardano/db/ \\\n",
    "   --socket-path /tmp/node.socket \\\n",
    "   --host-addr 0.0.0.0 \\\n",
    "   --config config.json\n",
    "```\n",
    "\n",
    "---\n",
    "\n",
    "[**cardano-wallet** howto](https://input-output-hk.github.io/cardano-wallet/user-guide/common-use-cases/how-to-start-wallet-server)  \n",
    "start a wallet server (listen on all connections)\n",
    "```sh\n",
    "cd ~/cardano\n",
    "cardano-wallet serve \\\n",
    "   --listen-address 0.0.0.0 \\\n",
    "   --port 8090 \\\n",
    "   --node-socket /tmp/node.socket \\\n",
    "   --testnet byron-genesis.json \\\n",
    "   --database ~/cardano/wallet-db \\\n",
    "   --token-metadata-server https://metadata.cardano-testnet.iohkdev.io\n",
    "```"
   ]
  },
  {
   "cell_type": "markdown",
   "id": "b156f038",
   "metadata": {},
   "source": [
    "#### option: tips and tricks for using tmux\n",
    "\n",
    "Launch a **tmux** session to **start** the blockchain node and wallet services.  \n",
    "Wait, let it synchronise...  \n",
    "tmux, Terminal multiplexer for running multiple terminal session windows.  \n",
    "\n",
    "```sh\n",
    "code/scripts/cardano_start.sh\n",
    "```  \n",
    "\n",
    "Here are some commands to use tmux:  \n",
    "\n",
    "    PANE commands\n",
    "    ctrl+b ->    to move to the right pane, up, down and left arrow also possible\n",
    "    ctrl+b z     enlarge or zoom to one pane\n",
    "    ctrl+b \"     for split horizontal\n",
    "    ctrl+b %     for split vertikal\n",
    "    ctrl+b d     to kill a screen pane\n",
    "    \n",
    "    WINDOW commands\n",
    "    ctrl+b c     create new window\n",
    "    ctrl+b p     previous window\n",
    "    ctrl+b n     next window\n",
    "    ctrl+b &     kill a window\n",
    "    \n",
    "    SESSION commands\n",
    "    tmux list-sessions    view a list of all available sessions\n",
    "    tmux ls               (short version)\n",
    "    tmux attach           previous last used tmux session\n",
    "    tmux a                (short version)\n",
    "    tmux attach -t 1      open tmux session id 1"
   ]
  },
  {
   "cell_type": "markdown",
   "id": "71af9737",
   "metadata": {},
   "source": [
    "To enable scroll mode by default when you start tmux,  \n",
    "you can add the following line to your tmux configuration file  \n",
    "```sh\n",
    "sudo sh -c \"echo 'set -g mouse on' >> $HOME/.tmux.conf\"\n",
    "```\n",
    "\n",
    "re-execute the shell initialization files and apply the updated settings.  \n",
    "```sh\n",
    "source ~/.bashrc\n",
    "```"
   ]
  },
  {
   "cell_type": "markdown",
   "id": "080082c2-a037-4539-8a7e-a7db10a9fa2b",
   "metadata": {},
   "source": [
    "### node.socket\n",
    "The cardano-node uses IPC (Inter-Process-Communication) for communicating with other Cardano components.  \n",
    "Components like cardano-cli, cardano-wallet, marlowe-cli and cardano-db-sync.  \n",
    "So, basically this file helps connect your CLI instance to the active cardano-node currently syncing the blockchain.  "
   ]
  },
  {
   "cell_type": "code",
   "execution_count": 14,
   "id": "ae7aac57",
   "metadata": {},
   "outputs": [
    {
     "name": "stdout",
     "output_type": "stream",
     "text": [
      "Thu Jan  5 14:51:40 CET 2023\n",
      "srwxrwxr-x 1 ubuntu ubuntu 0 Jan  5 14:49 /tmp/node.socket\n"
     ]
    }
   ],
   "source": [
    "!date\n",
    "!sudo ls -al /tmp/node.socket"
   ]
  },
  {
   "cell_type": "markdown",
   "id": "9a20ffcd",
   "metadata": {},
   "source": [
    "add /tmp/node.socket into the environment variable and make it persistent  \n",
    "```sh\n",
    "sudo sh -c \"echo 'export CARDANO_NODE_SOCKET_PATH=\"/tmp/node.socket\"' >> $HOME/.bashrc\"\n",
    "```\n",
    "re-execute the shell initialization files and apply the updated settings.  \n",
    "```sh\n",
    "source ~/.bashrc\n",
    "```"
   ]
  },
  {
   "cell_type": "code",
   "execution_count": 8,
   "id": "acc39480-f362-4fb8-91d8-da43ad25ac1d",
   "metadata": {},
   "outputs": [
    {
     "name": "stdout",
     "output_type": "stream",
     "text": [
      "/tmp/node.socket\r\n"
     ]
    }
   ],
   "source": [
    "# this is only needed for cardano-cli, not marlowe-cli\n",
    "os.environ['CARDANO_NODE_SOCKET_PATH']=\"/tmp/node.socket\"\n",
    "# check the result, call the environment variable from within jupyter notebook\n",
    "!echo $CARDANO_NODE_SOCKET_PATH"
   ]
  },
  {
   "cell_type": "markdown",
   "id": "fb4b48dc-5d68-4e73-ae7f-c5777155a9aa",
   "metadata": {},
   "source": [
    "## Wallets"
   ]
  },
  {
   "cell_type": "markdown",
   "id": "d12984f7",
   "metadata": {},
   "source": [
    "### sync\n",
    "\n",
    "Be patient and wait for the cardano-node in nix-shell to download and **synchronize the blockchain history.**  \n",
    "This can take many hours.  \n",
    "\n",
    "After sync, the cardano-wallet can be used either through  \n",
    "HTTP Application Programming Interface (**API**) and command-line interface (**CLI**)  \n",
    "\n",
    "  * [Python Cardano module](https://github.com/emesik/cardano-python)"
   ]
  },
  {
   "cell_type": "markdown",
   "id": "30992f77-cf41-4a6c-9c43-205484ac0bc5",
   "metadata": {},
   "source": [
    "**[python module for cardano-wallet working on mainnet 'notebook'](./howto_cardano-wallet.ipynb)**"
   ]
  },
  {
   "cell_type": "markdown",
   "id": "c5fb3909-8799-4100-8e48-e8065a8ae353",
   "metadata": {},
   "source": [
    "## wallet"
   ]
  },
  {
   "cell_type": "markdown",
   "id": "2e47aaab",
   "metadata": {},
   "source": [
    "### generate"
   ]
  },
  {
   "cell_type": "markdown",
   "id": "cd28316f",
   "metadata": {},
   "source": [
    "mnemonic seed phrase:  \n",
    "\n",
    "  * 12 words (Byron legacy wallet)\n",
    "  * 15 words (Incentivised Testnet Rewards wallet)\n",
    "  * **24 words** (Shelley wallet)\n",
    "  * 27 words (Byron legacy paper wallet)\n",
    "  \n",
    "generate new Shelley wallet  \n",
    "```sh\n",
    "cardano-wallet recovery-phrase generate --size 24\n",
    "```\n",
    "generated example output:\n",
    "```sh\n",
    "movie use luxury dumb kingdom garden mammal strong laundry weasel legal mesh movie old cancel paddle color pluck slight wheel mouse front slice pupil\n",
    "```\n",
    "\n",
    "[**how secure are seed phrases**](https://www.reddit.com/r/CryptoCurrency/comments/w0bv37/how_secure_are_seed_phrases)  \n",
    "\n",
    "Convert the seed phrase into a root private key 'wallet1.prv'.  \n",
    "```sh\n",
    "cat wallet1.seed | cardano-wallet key from-recovery-phrase Shelley | cardano-wallet key child 1852H/1815H/0H/0/0 > wallet1.prv\n",
    "```\n",
    "\n",
    "Generate the *.**skey**, *.**vkey** and *.**address** files (using *.prv)\n",
    "```sh\n",
    "cardano-cli key convert-cardano-address-key --shelley-payment-key --signing-key-file wallet1.prv --out-file wallet1.skey\n",
    "cardano-cli key verification-key --signing-key-file wallet1.skey --verification-key-file wallet1.vkey\n",
    "cardano-cli address build --testnet-magic 1567 --payment-verification-key-file wallet1.vkey > wallet1.addr\n",
    "```\n",
    "\n",
    "**Question:** I don't understand why the size of the public address is smaller than a normal cardano-wallet address ?  \n",
    "**Question:** I don't understand why we need a pkey, skey, vkey and what they mean ?  \n",
    "**Question:** I don't understand why we need these files for marlowe-cli transactions and how do we use a light wallet, web wallet instead of these skey, vkey ?  \n",
    "**Question:** what is the purpose of the vkey (=verification key) ?  \n",
    "**Question:** what is the purpose of the skey (=signing key) ?  \n",
    "**Question:** is the private key *.prv somehow the translation from the seed phrase to a different form, each word representing 4 digit number ?  \n",
    "\n",
    "READ THIS: https://developers.cardano.org/docs/integrate-cardano/creating-wallet-faucet#creating-a-wallet"
   ]
  },
  {
   "cell_type": "markdown",
   "id": "45cad7ed-4b36-4d26-b098-7d087a6c35f1",
   "metadata": {},
   "source": [
    "#### wallet 1"
   ]
  },
  {
   "cell_type": "code",
   "execution_count": 9,
   "id": "4fe6675b",
   "metadata": {},
   "outputs": [
    {
     "name": "stdout",
     "output_type": "stream",
     "text": [
      "wallet 1 seed phrase:\n",
      "\n",
      " globe property diary express globe witness they govern can argue occur behind leopard box that visa dust around web hour fatigue asset blur produce\n",
      "\n"
     ]
    },
    {
     "data": {
      "text/plain": [
       "148"
      ]
     },
     "execution_count": 9,
     "metadata": {},
     "output_type": "execute_result"
    }
   ],
   "source": [
    "# generate 24 word key phrase\n",
    "cmd = [cardanoWALLET, \"recovery-phrase\", \"generate\", \"--size\", str(24)]  # cardano-wallet CLI command to generate NEW mneumic seed phrase with 24 words\n",
    "result = subprocess.run(cmd, capture_output=True, text=True)             # run the command\n",
    "print(\"wallet 1 seed phrase:\\n\\n\", result.stdout)                        # demonstrate the result\n",
    "open('wallet1.seed', 'w').write(result.stdout)                           # save the result to a file 'wallet1.seed'"
   ]
  },
  {
   "cell_type": "code",
   "execution_count": 10,
   "id": "84999539",
   "metadata": {},
   "outputs": [],
   "source": [
    "# generate the address, skey and vkey files\n",
    "!cat wallet1.seed | cardano-wallet key from-recovery-phrase Shelley | cardano-wallet key child 1852H/1815H/0H/0/0 > wallet1.prv\n",
    "!cardano-cli key convert-cardano-address-key --shelley-payment-key --signing-key-file wallet1.prv --out-file wallet1.skey\n",
    "!cardano-cli key verification-key --signing-key-file wallet1.skey --verification-key-file wallet1.vkey\n",
    "!cardano-cli address build --testnet-magic 2 --payment-verification-key-file wallet1.vkey > wallet1.address"
   ]
  },
  {
   "cell_type": "code",
   "execution_count": 19,
   "id": "9d727558-a212-4bd9-8803-e2dd452f10b5",
   "metadata": {},
   "outputs": [],
   "source": [
    "# # generate the address, skey and vkey files\n",
    "# !cat wallet1.seed | /nix/store/9n5z901h18k7ijjj8axvyv4w2z0zgqcv-cardano-wallet-exe-cardano-wallet-2022.1.18/bin/cardano-wallet key from-recovery-phrase Shelley | /nix/store/9n5z901h18k7ijjj8axvyv4w2z0zgqcv-cardano-wallet-exe-cardano-wallet-2022.1.18/bin/cardano-wallet key child 1852H/1815H/0H/0/0 > wallet1.prv\n",
    "# !/nix/store/vaqzj4d6c1fdmqmm78y3g4n10pyw5mmc-cardano-cli-exe-cardano-cli-1.34.1/bin/cardano-cli key convert-cardano-address-key --shelley-payment-key --signing-key-file wallet1.prv --out-file wallet1.skey\n",
    "# !/nix/store/vaqzj4d6c1fdmqmm78y3g4n10pyw5mmc-cardano-cli-exe-cardano-cli-1.34.1/bin/cardano-cli key verification-key --signing-key-file wallet1.skey --verification-key-file wallet1.vkey\n",
    "# !/nix/store/vaqzj4d6c1fdmqmm78y3g4n10pyw5mmc-cardano-cli-exe-cardano-cli-1.34.1/bin/cardano-cli address build --testnet-magic 1567 --payment-verification-key-file wallet1.vkey > wallet1.address"
   ]
  },
  {
   "cell_type": "code",
   "execution_count": 19,
   "id": "edea6dc3",
   "metadata": {},
   "outputs": [
    {
     "name": "stdout",
     "output_type": "stream",
     "text": [
      "addr_xsk17p2rdlx32gsqjkt5ay6t3hj72pazppkcj5jezcv59p49vmvnm9f0waaqxaaf79kjlx5eqv345c6p7xsnztd7f4f2x6ptcrxc2n4gsajljlsfccgujguezgwxc97f6y39klu09yrle4wpsq45ustefzxdygddmldr"
     ]
    }
   ],
   "source": [
    "!cat wallet1.prv"
   ]
  },
  {
   "cell_type": "code",
   "execution_count": 18,
   "id": "103db50b-a8fe-4b05-841e-b90943207ed5",
   "metadata": {},
   "outputs": [
    {
     "name": "stdout",
     "output_type": "stream",
     "text": [
      "addr_xsk1wptvk7ck44jjsng8nxd0ukwht2rq9qfwse8ugfsch8ytjqkfc3xsc7s7pegvzq084l5v5dfy0g49e238rzqzjt9lgshrqcpwgj4uf6fcqfa7gqt6cu0dg5zmhhqt4995zg3uvk8cldv2m0fvsccj5l726ursatrr"
     ]
    }
   ],
   "source": [
    "# !cat wallet1.prv"
   ]
  },
  {
   "cell_type": "code",
   "execution_count": 20,
   "id": "86d666cc",
   "metadata": {},
   "outputs": [
    {
     "name": "stdout",
     "output_type": "stream",
     "text": [
      "{\r\n",
      "    \"type\": \"PaymentExtendedSigningKeyShelley_ed25519_bip32\",\r\n",
      "    \"description\": \"\",\r\n",
      "    \"cborHex\": \"5880f05436fcd15220095974e934b8de5e507a2086d89525916194286a566d93d952f777a0377a9f16d2f9a9903235a6341f1a1312dbe4d52a3682bc0cd854ea88769fa8121913eb89d3e63ad827327209723479ec9c586564e7c9a3d5bf50192b745f97e09c611c92399121c6c17c9d1225b7f8f2907fcd5c1802b4e4179488cd22\"\r\n",
      "}\r\n"
     ]
    }
   ],
   "source": [
    "!cat wallet1.skey"
   ]
  },
  {
   "cell_type": "code",
   "execution_count": 19,
   "id": "7dc4ecc3-2f99-4094-ab1d-32c2e8c50b6d",
   "metadata": {},
   "outputs": [
    {
     "name": "stdout",
     "output_type": "stream",
     "text": [
      "{\n",
      "    \"type\": \"PaymentExtendedSigningKeyShelley_ed25519_bip32\",\n",
      "    \"description\": \"\",\n",
      "    \"cborHex\": \"58807056cb7b16ad65284d07999afe59d75a8602812e864fc42618b9c8b902c9c44d0c7a1e0e50c101e7afe8ca35247a2a5caa271880292cbf442e30602e44abc4e97060d53791200399a29871511d5f35bd8fd06cfb177c54fd4886c4edffa5c78938027be4017ac71ed4505bbdc0ba94b41223c658f8fb58adbd2c86312a7fcad7\"\n",
      "}\n"
     ]
    }
   ],
   "source": [
    "# !cat wallet1.skey"
   ]
  },
  {
   "cell_type": "code",
   "execution_count": 21,
   "id": "917b345b",
   "metadata": {},
   "outputs": [
    {
     "name": "stdout",
     "output_type": "stream",
     "text": [
      "{\r\n",
      "    \"type\": \"PaymentExtendedVerificationKeyShelley_ed25519_bip32\",\r\n",
      "    \"description\": \"\",\r\n",
      "    \"cborHex\": \"58409fa8121913eb89d3e63ad827327209723479ec9c586564e7c9a3d5bf50192b745f97e09c611c92399121c6c17c9d1225b7f8f2907fcd5c1802b4e4179488cd22\"\r\n",
      "}\r\n"
     ]
    }
   ],
   "source": [
    "!cat wallet1.vkey"
   ]
  },
  {
   "cell_type": "code",
   "execution_count": 20,
   "id": "d8fbb886-0de3-449b-b070-6a52742cfa09",
   "metadata": {},
   "outputs": [
    {
     "name": "stdout",
     "output_type": "stream",
     "text": [
      "{\n",
      "    \"type\": \"PaymentExtendedVerificationKeyShelley_ed25519_bip32\",\n",
      "    \"description\": \"\",\n",
      "    \"cborHex\": \"58407060d53791200399a29871511d5f35bd8fd06cfb177c54fd4886c4edffa5c78938027be4017ac71ed4505bbdc0ba94b41223c658f8fb58adbd2c86312a7fcad7\"\n",
      "}\n"
     ]
    }
   ],
   "source": [
    "# !cat wallet1.vkey"
   ]
  },
  {
   "cell_type": "code",
   "execution_count": 22,
   "id": "54f8aec2",
   "metadata": {},
   "outputs": [
    {
     "name": "stdout",
     "output_type": "stream",
     "text": [
      "addr_test1vqhrmz3u5sawlys6tfctctqv78c5d8k4x6reac0l992m46cd95fee"
     ]
    }
   ],
   "source": [
    "!cat wallet1.address"
   ]
  },
  {
   "cell_type": "code",
   "execution_count": 21,
   "id": "e8e067de-59d3-4001-82a8-63b4f448724a",
   "metadata": {},
   "outputs": [
    {
     "name": "stdout",
     "output_type": "stream",
     "text": [
      "addr_test1vpha99j2s5slc5q26d884rhc3jzuxqex5javsak5enlg8wsel4z2t"
     ]
    }
   ],
   "source": [
    "# !cat wallet1.address"
   ]
  },
  {
   "cell_type": "markdown",
   "id": "529d4d49",
   "metadata": {},
   "source": [
    "#### wallet 2"
   ]
  },
  {
   "cell_type": "code",
   "execution_count": 11,
   "id": "f3f5bf49",
   "metadata": {},
   "outputs": [
    {
     "name": "stdout",
     "output_type": "stream",
     "text": [
      "wallet 2 seed phrase:\n",
      "\n",
      " whale evil fabric scene unable path level wing favorite frog prefer hundred coffee display uncover super rigid perfect notice gauge outside labor venture aware\n",
      "\n"
     ]
    },
    {
     "data": {
      "text/plain": [
       "160"
      ]
     },
     "execution_count": 11,
     "metadata": {},
     "output_type": "execute_result"
    }
   ],
   "source": [
    "# generate 24 word key phrase\n",
    "cmd = [cardanoWALLET, \"recovery-phrase\", \"generate\", \"--size\", \"24\"]\n",
    "result = subprocess.run(cmd, capture_output=True, text=True)\n",
    "print(\"wallet 2 seed phrase:\\n\\n\", result.stdout)\n",
    "open('wallet2.seed', 'w').write(result.stdout)"
   ]
  },
  {
   "cell_type": "code",
   "execution_count": 12,
   "id": "b2b19127-0487-4ef2-9428-47de36a2740d",
   "metadata": {},
   "outputs": [],
   "source": [
    "!cat wallet2.seed | cardano-wallet key from-recovery-phrase Shelley | cardano-wallet key child 1852H/1815H/0H/0/0 > wallet2.prv\n",
    "!cardano-cli key convert-cardano-address-key --shelley-payment-key --signing-key-file wallet2.prv --out-file wallet2.skey\n",
    "!cardano-cli key verification-key --signing-key-file wallet2.skey --verification-key-file wallet2.vkey\n",
    "!cardano-cli address build --testnet-magic 2 --payment-verification-key-file wallet2.vkey > wallet2.address"
   ]
  },
  {
   "cell_type": "code",
   "execution_count": 25,
   "id": "1f7614bc",
   "metadata": {},
   "outputs": [
    {
     "name": "stdout",
     "output_type": "stream",
     "text": [
      "addr_test1vrwycxp7gx8gcf2wgzkkpuptrpe55ejlrcyntfc0yz6j75qjal5w7"
     ]
    }
   ],
   "source": [
    "!cat wallet2.address"
   ]
  },
  {
   "cell_type": "code",
   "execution_count": 28,
   "id": "1964bda9-2716-4829-8c49-68acf450c248",
   "metadata": {},
   "outputs": [
    {
     "name": "stdout",
     "output_type": "stream",
     "text": [
      "addr_test1vzn7ef2cx8h5y4jvxnn34pn3lzak5t537fx09j7zxdljs3gc5zgw6"
     ]
    }
   ],
   "source": [
    "# !cat wallet2.address"
   ]
  },
  {
   "cell_type": "code",
   "execution_count": 26,
   "id": "8e31ee5c-853a-429d-bc11-27b599c06126",
   "metadata": {},
   "outputs": [
    {
     "name": "stdout",
     "output_type": "stream",
     "text": [
      "Thu Jan  5 08:20:32 CET 2023\n",
      "-rw-rw-r-- 1 ubuntu ubuntu  63 Jan  5 08:20 wallet1.address\n",
      "-rw-rw-r-- 1 ubuntu ubuntu 169 Jan  5 08:20 wallet1.prv\n",
      "-rw-rw-r-- 1 ubuntu ubuntu 154 Jan  5 08:20 wallet1.seed\n",
      "-rw------- 1 ubuntu ubuntu 367 Jan  5 08:20 wallet1.skey\n",
      "-rw------- 1 ubuntu ubuntu 244 Jan  5 08:20 wallet1.vkey\n",
      "-rw-rw-r-- 1 ubuntu ubuntu  63 Jan  5 08:20 wallet2.address\n",
      "-rw-rw-r-- 1 ubuntu ubuntu 169 Jan  5 08:20 wallet2.prv\n",
      "-rw-rw-r-- 1 ubuntu ubuntu 154 Jan  5 08:20 wallet2.seed\n",
      "-rw------- 1 ubuntu ubuntu 367 Jan  5 08:20 wallet2.skey\n",
      "-rw------- 1 ubuntu ubuntu 244 Jan  5 08:20 wallet2.vkey\n"
     ]
    }
   ],
   "source": [
    "# list all the wallet files generated\n",
    "!date\n",
    "!ls -al wallet*"
   ]
  },
  {
   "cell_type": "markdown",
   "id": "8869eaff",
   "metadata": {},
   "source": [
    "## Contract"
   ]
  },
  {
   "cell_type": "markdown",
   "id": "f8ca58a4-d308-4a3c-849e-5250b97593f1",
   "metadata": {},
   "source": [
    "### design\n",
    "We can develop a smart contract in different ways, javascript, haskell, marlowe and more in the future.  \n",
    "This example was written by Marco in javascript (.js) and can be [**found here.**](https://gist.github.com/marco-martins/670832702aaa2c9258cfecef5a1b7fa3)  \n",
    "The idea here is to have 2 wallet users each sending a certain amount in ADA  \n",
    "and then each receives what the other person sended, called a swap.  \n",
    "Consult the [**marlowe playground**](https://marlowe-playground-marlowe-pioneers.plutus.aws.iohkdev.io/#/) for editing and simulating how this works.  \n",
    "![marlowe playground javascript code replacement](../../image/marlowe_playground_swap_javascript.png)"
   ]
  },
  {
   "cell_type": "markdown",
   "id": "db0725ee-ae5f-443f-9689-bf26785c8863",
   "metadata": {},
   "source": [
    "Alternatively you can use the following **Marlowe** code (also found after compilation).  \n",
    "\n",
    "```sh\n",
    "When\n",
    "    [Case\n",
    "        (Deposit\n",
    "            (Role \"Seller\")\n",
    "            (Role \"Seller\")\n",
    "            (Token \"\" \"\")\n",
    "            (ConstantParam \"Seller Amount\")\n",
    "        )\n",
    "        (When\n",
    "            [Case\n",
    "                (Deposit\n",
    "                    (Role \"Buyer\")\n",
    "                    (Role \"Buyer\")\n",
    "                    (Token \"\" \"\")\n",
    "                    (ConstantParam \"Buyer Amount\")\n",
    "                )\n",
    "                (Pay\n",
    "                    (Role \"Seller\")\n",
    "                    (Party (Role \"Buyer\"))\n",
    "                    (Token \"\" \"\")\n",
    "                    (ConstantParam \"Seller Amount\")\n",
    "                    (Pay\n",
    "                        (Role \"Buyer\")\n",
    "                        (Party (Role \"Seller\"))\n",
    "                        (Token \"\" \"\")\n",
    "                        (ConstantParam \"Buyer Amount\")\n",
    "                        Close \n",
    "                    )\n",
    "                )]\n",
    "            (TimeParam \"Deadline\")\n",
    "            Close \n",
    "        )]\n",
    "    (TimeParam \"Deadline\")\n",
    "    Close \n",
    "```"
   ]
  },
  {
   "cell_type": "markdown",
   "id": "5cd3606a-5fc0-480f-aee3-3c3e507c3515",
   "metadata": {},
   "source": [
    "You can then also view as blocks and code visually using **blockly**.  \n",
    "  \n",
    "![marlowe playground blockly code](../../image/marlowe_playground_swap_blockly.png)  \n"
   ]
  },
  {
   "cell_type": "markdown",
   "id": "959a19a8-f8e7-4a25-beb0-f7c67322799f",
   "metadata": {},
   "source": [
    "**You can export the script to \".json\"**  \n",
    "We stored this script and it's content looks like this"
   ]
  },
  {
   "cell_type": "code",
   "execution_count": 20,
   "id": "4b339307-da8d-4ad8-8e65-26788bfee85e",
   "metadata": {},
   "outputs": [
    {
     "name": "stdout",
     "output_type": "stream",
     "text": [
      "{\"when\":[{\"then\":{\"when\":[{\"then\":{\"token\":{\"token_name\":\"\",\"currency_symbol\":\"\"},\"to\":{\"party\":{\"role_token\":\"Buyer\"}},\"then\":{\"token\":{\"token_name\":\"\",\"currency_symbol\":\"\"},\"to\":{\"party\":{\"role_token\":\"Seller\"}},\"then\":\"close\",\"pay\":0,\"from_account\":{\"role_token\":\"Buyer\"}},\"pay\":0,\"from_account\":{\"role_token\":\"Seller\"}},\"case\":{\"party\":{\"role_token\":\"Buyer\"},\"of_token\":{\"token_name\":\"\",\"currency_symbol\":\"\"},\"into_account\":{\"role_token\":\"Buyer\"},\"deposits\":0}}],\"timeout_continuation\":\"close\",\"timeout\":1658230520814},\"case\":{\"party\":{\"role_token\":\"Seller\"},\"of_token\":{\"token_name\":\"\",\"currency_symbol\":\"\"},\"into_account\":{\"role_token\":\"Seller\"},\"deposits\":0}}],\"timeout_continuation\":\"close\",\"timeout\":1658230520814}"
     ]
    }
   ],
   "source": [
    "!cat ../../data/contracts/swap_contract.json"
   ]
  },
  {
   "cell_type": "code",
   "execution_count": 21,
   "id": "b1ae81d9-56c9-46a4-809d-53e87ecf6162",
   "metadata": {},
   "outputs": [
    {
     "name": "stdout",
     "output_type": "stream",
     "text": [
      "{\n",
      "  \"when\": [\n",
      "    {\n",
      "      \"then\": {\n",
      "        \"when\": [\n",
      "          {\n",
      "            \"then\": {\n",
      "              \"token\": {\n",
      "                \"token_name\": \"\",\n",
      "                \"currency_symbol\": \"\"\n",
      "              },\n",
      "              \"to\": {\n",
      "                \"party\": {\n",
      "                  \"role_token\": \"Buyer\"\n",
      "                }\n",
      "              },\n",
      "              \"then\": {\n",
      "                \"token\": {\n",
      "                  \"token_name\": \"\",\n",
      "                  \"currency_symbol\": \"\"\n",
      "                },\n",
      "                \"to\": {\n",
      "                  \"party\": {\n",
      "                    \"role_token\": \"Seller\"\n",
      "                  }\n",
      "                },\n",
      "                \"then\": \"close\",\n",
      "                \"pay\": 0,\n",
      "                \"from_account\": {\n",
      "                  \"role_token\": \"Buyer\"\n",
      "                }\n",
      "              },\n",
      "              \"pay\": 0,\n",
      "              \"from_account\": {\n",
      "                \"role_token\": \"Seller\"\n",
      "              }\n",
      "            },\n",
      "            \"case\": {\n",
      "              \"party\": {\n",
      "                \"role_token\": \"Buyer\"\n",
      "              },\n",
      "              \"of_token\": {\n",
      "                \"token_name\": \"\",\n",
      "                \"currency_symbol\": \"\"\n",
      "              },\n",
      "              \"into_account\": {\n",
      "                \"role_token\": \"Buyer\"\n",
      "              },\n",
      "              \"deposits\": 0\n",
      "            }\n",
      "          }\n",
      "        ],\n",
      "        \"timeout_continuation\": \"close\",\n",
      "        \"timeout\": 1658230520814\n",
      "      },\n",
      "      \"case\": {\n",
      "        \"party\": {\n",
      "          \"role_token\": \"Seller\"\n",
      "        },\n",
      "        \"of_token\": {\n",
      "          \"token_name\": \"\",\n",
      "          \"currency_symbol\": \"\"\n",
      "        },\n",
      "        \"into_account\": {\n",
      "          \"role_token\": \"Seller\"\n",
      "        },\n",
      "        \"deposits\": 0\n",
      "      }\n",
      "    }\n",
      "  ],\n",
      "  \"timeout_continuation\": \"close\",\n",
      "  \"timeout\": 1658230520814\n",
      "}\n"
     ]
    }
   ],
   "source": [
    "with open('../../data/contracts/swap_contract.json', 'r') as file:\n",
    "    parsed = json.load(file)\n",
    "    print(json.dumps(parsed, indent=2))"
   ]
  },
  {
   "cell_type": "markdown",
   "id": "a36afa41",
   "metadata": {},
   "source": [
    "### parameters\n",
    "The **parties agree beforehand to define certain parameter values** to be used for the contract script.  \n",
    "Notice that the values can only be **integers** to be precise when used on chain.  \n",
    "This is to remove machine independable float value discrepancies.  \n",
    "So, even time is translated to an integer representation for this reason,  \n",
    "so is the value of ADA currently having 5 decimal points called lovelaces.  \n",
    "The rest is often represented as **string** values.  "
   ]
  },
  {
   "cell_type": "code",
   "execution_count": null,
   "id": "bdca09b6",
   "metadata": {},
   "outputs": [],
   "source": [
    "# Here we need extra work on the TIP and the deadline timings"
   ]
  },
  {
   "cell_type": "code",
   "execution_count": 13,
   "id": "6d5bb804",
   "metadata": {},
   "outputs": [],
   "source": [
    "MAGIC                 = '2'          # marlowe-pioneers testnet ID = 1567 (provided by developers)\n",
    "SOCKET                = '/tmp/node.socket'"
   ]
  },
  {
   "cell_type": "code",
   "execution_count": 14,
   "id": "2d66acf4",
   "metadata": {},
   "outputs": [
    {
     "name": "stdout",
     "output_type": "stream",
     "text": [
      "{\n",
      "    \"scSlotLength\": 1000,\n",
      "    \"scSlotZeroTime\": 1666656000000\n",
      "}\n",
      "\n",
      "\n"
     ]
    }
   ],
   "source": [
    "cmd = [marloweCLI, \"util\", \"slotting\", \n",
    "       \"--testnet-magic\", MAGIC,\n",
    "       \"--socket-path\", SOCKET]\n",
    "result = subprocess.run(cmd, capture_output=True, text=True)\n",
    "print(result.stdout)\n",
    "print(result.stderr)"
   ]
  },
  {
   "cell_type": "code",
   "execution_count": 15,
   "id": "a51ab118",
   "metadata": {},
   "outputs": [
    {
     "data": {
      "text/plain": [
       "1000"
      ]
     },
     "execution_count": 15,
     "metadata": {},
     "output_type": "execute_result"
    }
   ],
   "source": [
    "SLOT_LENGTH = json.loads(result.stdout)[\"scSlotLength\"]\n",
    "SLOT_LENGTH"
   ]
  },
  {
   "cell_type": "code",
   "execution_count": 16,
   "id": "5b5cdf59",
   "metadata": {},
   "outputs": [
    {
     "data": {
      "text/plain": [
       "1666656000000"
      ]
     },
     "execution_count": 16,
     "metadata": {},
     "output_type": "execute_result"
    }
   ],
   "source": [
    "SLOT_OFFSET = json.loads(result.stdout)[\"scSlotZeroTime\"]\n",
    "SLOT_OFFSET"
   ]
  },
  {
   "cell_type": "markdown",
   "id": "a78684ce",
   "metadata": {},
   "source": [
    "**Tip of the Blockchain**"
   ]
  },
  {
   "cell_type": "code",
   "execution_count": 17,
   "id": "89e32642",
   "metadata": {},
   "outputs": [
    {
     "name": "stdout",
     "output_type": "stream",
     "text": [
      "{\n",
      "    \"block\": 300636,\n",
      "    \"epoch\": 72,\n",
      "    \"era\": \"Babbage\",\n",
      "    \"hash\": \"c180cbb9394a28e8f0edc602839a6ce5a85d1d9d206f123d75aa1a9dee37e9d0\",\n",
      "    \"slot\": 6273783,\n",
      "    \"syncProgress\": \"100.00\"\n",
      "}\n",
      "\n",
      "\n"
     ]
    }
   ],
   "source": [
    "cmd = [cardanoCLI, \"query\", \"tip\", \n",
    "       \"--testnet-magic\", MAGIC]\n",
    "result = subprocess.run(cmd, capture_output=True, text=True)\n",
    "print(result.stdout)\n",
    "print(result.stderr)"
   ]
  },
  {
   "cell_type": "code",
   "execution_count": 18,
   "id": "11daf186",
   "metadata": {},
   "outputs": [
    {
     "data": {
      "text/plain": [
       "6273783"
      ]
     },
     "execution_count": 18,
     "metadata": {},
     "output_type": "execute_result"
    }
   ],
   "source": [
    "TIP = json.loads(result.stdout)[\"slot\"]\n",
    "TIP"
   ]
  },
  {
   "cell_type": "code",
   "execution_count": 19,
   "id": "c1df434f",
   "metadata": {},
   "outputs": [
    {
     "data": {
      "text/plain": [
       "1672929783000"
      ]
     },
     "execution_count": 19,
     "metadata": {},
     "output_type": "execute_result"
    }
   ],
   "source": [
    "NOW = TIP*SLOT_LENGTH+SLOT_OFFSET\n",
    "NOW"
   ]
  },
  {
   "cell_type": "code",
   "execution_count": 20,
   "id": "52a7123e",
   "metadata": {},
   "outputs": [],
   "source": [
    "HOUR = 3600*1000"
   ]
  },
  {
   "cell_type": "code",
   "execution_count": 21,
   "id": "9bac2e34",
   "metadata": {},
   "outputs": [
    {
     "name": "stdout",
     "output_type": "stream",
     "text": [
      "2023-01-05 15:43:03\n"
     ]
    }
   ],
   "source": [
    "import datetime\n",
    "\n",
    "def convert_timestamp(timestamp):\n",
    "    return datetime.datetime.fromtimestamp(timestamp / 1000)\n",
    "\n",
    "print(convert_timestamp(NOW))\n",
    "# print(convert_timestamp(NOW))"
   ]
  },
  {
   "cell_type": "markdown",
   "id": "986a2a47",
   "metadata": {},
   "source": [
    "**mint tokens**"
   ]
  },
  {
   "cell_type": "code",
   "execution_count": 22,
   "id": "4c140b65",
   "metadata": {},
   "outputs": [
    {
     "data": {
      "text/plain": [
       "7273783"
      ]
     },
     "execution_count": 22,
     "metadata": {},
     "output_type": "execute_result"
    }
   ],
   "source": [
    "MINT_EXPIRES = TIP + 1000000\n",
    "MINT_EXPIRES"
   ]
  },
  {
   "cell_type": "code",
   "execution_count": 25,
   "id": "6ba8858c",
   "metadata": {},
   "outputs": [
    {
     "data": {
      "text/plain": [
       "'addr_test1vpqflumj2n8d43k22k4v9xfzvpd70jwfra7cruv04uht0tsj0t9x5:wallet1.skey'"
      ]
     },
     "execution_count": 25,
     "metadata": {},
     "output_type": "execute_result"
    }
   ],
   "source": [
    "PARTY1_ADDRESS+\":\"+PARTY1_SKEYFILE"
   ]
  },
  {
   "cell_type": "code",
   "execution_count": 27,
   "id": "5ef933f2",
   "metadata": {},
   "outputs": [
    {
     "data": {
      "text/plain": [
       "'addr_test1vpqflumj2n8d43k22k4v9xfzvpd70jwfra7cruv04uht0tsj0t9x5'"
      ]
     },
     "execution_count": 27,
     "metadata": {},
     "output_type": "execute_result"
    }
   ],
   "source": [
    "PARTY1_ADDRESS"
   ]
  },
  {
   "cell_type": "code",
   "execution_count": 28,
   "id": "a317e96b",
   "metadata": {},
   "outputs": [
    {
     "data": {
      "text/plain": [
       "'addr_test1vqyq7qum3fwuyc6pge0a8td0enx5gctnh43h2zntmkc994qz04pwj'"
      ]
     },
     "execution_count": 28,
     "metadata": {},
     "output_type": "execute_result"
    }
   ],
   "source": [
    "PARTY2_ADDRESS"
   ]
  },
  {
   "cell_type": "code",
   "execution_count": null,
   "id": "1cbb616d",
   "metadata": {},
   "outputs": [],
   "source": [
    " # !!! make sure you send some funds to the addresses !!!\n",
    "    "
   ]
  },
  {
   "cell_type": "code",
   "execution_count": 33,
   "id": "ed441f3c",
   "metadata": {},
   "outputs": [
    {
     "name": "stdout",
     "output_type": "stream",
     "text": [
      "PolicyID \"8050cb8a6ee792c13aebc35d72e9b5c840ca2e4233d67d16de6b9ff8\"\n",
      "\n",
      "\n",
      "Fee: Lovelace 179405\n",
      "Size: 354 / 16384 = 2%\n",
      "Execution units:\n",
      "  Memory: 0 / 14000000 = 0%\n",
      "  Steps: 0 / 10000000000 = 0%\n",
      "\n"
     ]
    }
   ],
   "source": [
    "cmd = [marloweCLI, \"util\", \"mint\", \n",
    "       \"--testnet-magic\", MAGIC,             # '2'\n",
    "       \"--socket-path\", SOCKET,              # '/tmp/node.socket'\n",
    "       \"--issuer\", PARTY1_ADDRESS+\":\"+PARTY1_SKEYFILE, # 'addr_test1vqhrmz3u5sawlys6tfctctqv78c5d8k4x6reac0l992m46cd95fee:wallet1.skey'\n",
    "#        \"--required-signer\", PARTY1_SKEYFILE,\n",
    "#        \"--change-address\", PARTY1_ADDRESS,\n",
    "       \"--count\", str(1),\n",
    "       \"--expires\", str(MINT_EXPIRES),\n",
    "       \"--out-file\", \"mint.raw\",\n",
    "       \"--submit\", str(600),\n",
    "#        PARTY1_TOKENASSETNAME, PARTY2_TOKENASSETNAME]   # 'Party1', 'Party2', do not use quotes \"PARTY1_TOKENASSETNAME\"\n",
    "       PARTY1_TOKENASSETNAME+\":\"+PARTY1_ADDRESS,\n",
    "       PARTY2_TOKENASSETNAME+\":\"+PARTY2_ADDRESS]   # 'Party1', 'Party2', do not use quotes \"PARTY1_TOKENASSETNAME\"\n",
    "result = subprocess.run(cmd, capture_output=True, text=True)\n",
    "print(result.stdout)\n",
    "print(result.stderr)"
   ]
  },
  {
   "cell_type": "code",
   "execution_count": 34,
   "id": "862ed8b6",
   "metadata": {},
   "outputs": [
    {
     "data": {
      "text/html": [
       "<div>\n",
       "<style scoped>\n",
       "    .dataframe tbody tr th:only-of-type {\n",
       "        vertical-align: middle;\n",
       "    }\n",
       "\n",
       "    .dataframe tbody tr th {\n",
       "        vertical-align: top;\n",
       "    }\n",
       "\n",
       "    .dataframe thead th {\n",
       "        text-align: right;\n",
       "    }\n",
       "</style>\n",
       "<table border=\"1\" class=\"dataframe\">\n",
       "  <thead>\n",
       "    <tr style=\"text-align: right;\">\n",
       "      <th></th>\n",
       "      <th>address</th>\n",
       "      <th>TxHash</th>\n",
       "      <th>TxIx</th>\n",
       "      <th>lovelace</th>\n",
       "      <th>TokenPolicyId</th>\n",
       "      <th>TokenNameHex</th>\n",
       "      <th>TokenNameAscii</th>\n",
       "      <th>TokenAmount</th>\n",
       "      <th>datumhash</th>\n",
       "    </tr>\n",
       "  </thead>\n",
       "  <tbody>\n",
       "    <tr>\n",
       "      <th>0</th>\n",
       "      <td>addr_test1vpqflumj2n8d43k22k4v9xfzvpd70jwfra7cruv04uht0tsj0t9x5</td>\n",
       "      <td>067a19390e6ce36ca39c94cf3cc58291eb226378092608fb795cfc336e08a4d6</td>\n",
       "      <td>0</td>\n",
       "      <td>247751795</td>\n",
       "      <td>NaN</td>\n",
       "      <td>NaN</td>\n",
       "      <td>None</td>\n",
       "      <td>0</td>\n",
       "      <td>NaN</td>\n",
       "    </tr>\n",
       "    <tr>\n",
       "      <th>1</th>\n",
       "      <td>addr_test1vpqflumj2n8d43k22k4v9xfzvpd70jwfra7cruv04uht0tsj0t9x5</td>\n",
       "      <td>067a19390e6ce36ca39c94cf3cc58291eb226378092608fb795cfc336e08a4d6</td>\n",
       "      <td>1</td>\n",
       "      <td>1034400</td>\n",
       "      <td>8050cb8a6ee792c13aebc35d72e9b5c840ca2e4233d67d16de6b9ff8</td>\n",
       "      <td>506172747931</td>\n",
       "      <td>Party1</td>\n",
       "      <td>1</td>\n",
       "      <td>NaN</td>\n",
       "    </tr>\n",
       "    <tr>\n",
       "      <th>2</th>\n",
       "      <td>addr_test1vqyq7qum3fwuyc6pge0a8td0enx5gctnh43h2zntmkc994qz04pwj</td>\n",
       "      <td>067a19390e6ce36ca39c94cf3cc58291eb226378092608fb795cfc336e08a4d6</td>\n",
       "      <td>2</td>\n",
       "      <td>1034400</td>\n",
       "      <td>8050cb8a6ee792c13aebc35d72e9b5c840ca2e4233d67d16de6b9ff8</td>\n",
       "      <td>506172747932</td>\n",
       "      <td>Party2</td>\n",
       "      <td>1</td>\n",
       "      <td>NaN</td>\n",
       "    </tr>\n",
       "    <tr>\n",
       "      <th>3</th>\n",
       "      <td>addr_test1vqyq7qum3fwuyc6pge0a8td0enx5gctnh43h2zntmkc994qz04pwj</td>\n",
       "      <td>83f3ba623421332a8787149476d07becbc9432dfc3ba1a55607021c503f4f877</td>\n",
       "      <td>0</td>\n",
       "      <td>250000000</td>\n",
       "      <td>NaN</td>\n",
       "      <td>NaN</td>\n",
       "      <td>None</td>\n",
       "      <td>0</td>\n",
       "      <td>NaN</td>\n",
       "    </tr>\n",
       "  </tbody>\n",
       "</table>\n",
       "</div>"
      ],
      "text/plain": [
       "                                                           address  \\\n",
       "0  addr_test1vpqflumj2n8d43k22k4v9xfzvpd70jwfra7cruv04uht0tsj0t9x5   \n",
       "1  addr_test1vpqflumj2n8d43k22k4v9xfzvpd70jwfra7cruv04uht0tsj0t9x5   \n",
       "2  addr_test1vqyq7qum3fwuyc6pge0a8td0enx5gctnh43h2zntmkc994qz04pwj   \n",
       "3  addr_test1vqyq7qum3fwuyc6pge0a8td0enx5gctnh43h2zntmkc994qz04pwj   \n",
       "\n",
       "                                                             TxHash  TxIx  \\\n",
       "0  067a19390e6ce36ca39c94cf3cc58291eb226378092608fb795cfc336e08a4d6     0   \n",
       "1  067a19390e6ce36ca39c94cf3cc58291eb226378092608fb795cfc336e08a4d6     1   \n",
       "2  067a19390e6ce36ca39c94cf3cc58291eb226378092608fb795cfc336e08a4d6     2   \n",
       "3  83f3ba623421332a8787149476d07becbc9432dfc3ba1a55607021c503f4f877     0   \n",
       "\n",
       "    lovelace                                             TokenPolicyId  \\\n",
       "0  247751795                                                       NaN   \n",
       "1    1034400  8050cb8a6ee792c13aebc35d72e9b5c840ca2e4233d67d16de6b9ff8   \n",
       "2    1034400  8050cb8a6ee792c13aebc35d72e9b5c840ca2e4233d67d16de6b9ff8   \n",
       "3  250000000                                                       NaN   \n",
       "\n",
       "   TokenNameHex TokenNameAscii  TokenAmount  datumhash  \n",
       "0           NaN           None            0        NaN  \n",
       "1  506172747931         Party1            1        NaN  \n",
       "2  506172747932         Party2            1        NaN  \n",
       "3           NaN           None            0        NaN  "
      ]
     },
     "execution_count": 34,
     "metadata": {},
     "output_type": "execute_result"
    }
   ],
   "source": [
    "# check wallet1 and wallet2\n",
    "pd.concat([query_df(PARTY1_ADDRESS), query_df(PARTY2_ADDRESS)]).reset_index(drop=True)"
   ]
  },
  {
   "cell_type": "code",
   "execution_count": 35,
   "id": "60507182",
   "metadata": {},
   "outputs": [
    {
     "name": "stdout",
     "output_type": "stream",
     "text": [
      "TxId \"d007adb1b4ed647781eab93bb181f70195db93ae65dca353a5fc5a2985c65e6c\"\n",
      "\n",
      "\n"
     ]
    }
   ],
   "source": [
    "cmd = [marloweCLI, \"util\", \"clean\", \n",
    "       \"--testnet-magic\", MAGIC,             # '2'\n",
    "       \"--socket-path\", SOCKET,              # '/tmp/node.socket'\n",
    "       \"--required-signer\", PARTY1_SKEYFILE,\n",
    "       \"--change-address\", PARTY1_ADDRESS,\n",
    "       \"--out-file\", \"/dev/null\",\n",
    "       \"--submit\", str(600)]\n",
    "result = subprocess.run(cmd, capture_output=True, text=True)\n",
    "print(result.stdout)\n",
    "print(result.stderr)"
   ]
  },
  {
   "cell_type": "code",
   "execution_count": 36,
   "id": "5ce5229c",
   "metadata": {},
   "outputs": [
    {
     "data": {
      "text/html": [
       "<div>\n",
       "<style scoped>\n",
       "    .dataframe tbody tr th:only-of-type {\n",
       "        vertical-align: middle;\n",
       "    }\n",
       "\n",
       "    .dataframe tbody tr th {\n",
       "        vertical-align: top;\n",
       "    }\n",
       "\n",
       "    .dataframe thead th {\n",
       "        text-align: right;\n",
       "    }\n",
       "</style>\n",
       "<table border=\"1\" class=\"dataframe\">\n",
       "  <thead>\n",
       "    <tr style=\"text-align: right;\">\n",
       "      <th></th>\n",
       "      <th>address</th>\n",
       "      <th>TxHash</th>\n",
       "      <th>TxIx</th>\n",
       "      <th>lovelace</th>\n",
       "      <th>TokenPolicyId</th>\n",
       "      <th>TokenNameHex</th>\n",
       "      <th>TokenNameAscii</th>\n",
       "      <th>TokenAmount</th>\n",
       "      <th>datumhash</th>\n",
       "    </tr>\n",
       "  </thead>\n",
       "  <tbody>\n",
       "    <tr>\n",
       "      <th>0</th>\n",
       "      <td>addr_test1vpqflumj2n8d43k22k4v9xfzvpd70jwfra7cruv04uht0tsj0t9x5</td>\n",
       "      <td>d007adb1b4ed647781eab93bb181f70195db93ae65dca353a5fc5a2985c65e6c</td>\n",
       "      <td>0</td>\n",
       "      <td>246608726</td>\n",
       "      <td>NaN</td>\n",
       "      <td>NaN</td>\n",
       "      <td>None</td>\n",
       "      <td>0</td>\n",
       "      <td>NaN</td>\n",
       "    </tr>\n",
       "    <tr>\n",
       "      <th>1</th>\n",
       "      <td>addr_test1vpqflumj2n8d43k22k4v9xfzvpd70jwfra7cruv04uht0tsj0t9x5</td>\n",
       "      <td>d007adb1b4ed647781eab93bb181f70195db93ae65dca353a5fc5a2985c65e6c</td>\n",
       "      <td>1</td>\n",
       "      <td>2000000</td>\n",
       "      <td>8050cb8a6ee792c13aebc35d72e9b5c840ca2e4233d67d16de6b9ff8</td>\n",
       "      <td>506172747931</td>\n",
       "      <td>Party1</td>\n",
       "      <td>1</td>\n",
       "      <td>NaN</td>\n",
       "    </tr>\n",
       "    <tr>\n",
       "      <th>2</th>\n",
       "      <td>addr_test1vqyq7qum3fwuyc6pge0a8td0enx5gctnh43h2zntmkc994qz04pwj</td>\n",
       "      <td>067a19390e6ce36ca39c94cf3cc58291eb226378092608fb795cfc336e08a4d6</td>\n",
       "      <td>2</td>\n",
       "      <td>1034400</td>\n",
       "      <td>8050cb8a6ee792c13aebc35d72e9b5c840ca2e4233d67d16de6b9ff8</td>\n",
       "      <td>506172747932</td>\n",
       "      <td>Party2</td>\n",
       "      <td>1</td>\n",
       "      <td>NaN</td>\n",
       "    </tr>\n",
       "    <tr>\n",
       "      <th>3</th>\n",
       "      <td>addr_test1vqyq7qum3fwuyc6pge0a8td0enx5gctnh43h2zntmkc994qz04pwj</td>\n",
       "      <td>83f3ba623421332a8787149476d07becbc9432dfc3ba1a55607021c503f4f877</td>\n",
       "      <td>0</td>\n",
       "      <td>250000000</td>\n",
       "      <td>NaN</td>\n",
       "      <td>NaN</td>\n",
       "      <td>None</td>\n",
       "      <td>0</td>\n",
       "      <td>NaN</td>\n",
       "    </tr>\n",
       "  </tbody>\n",
       "</table>\n",
       "</div>"
      ],
      "text/plain": [
       "                                                           address  \\\n",
       "0  addr_test1vpqflumj2n8d43k22k4v9xfzvpd70jwfra7cruv04uht0tsj0t9x5   \n",
       "1  addr_test1vpqflumj2n8d43k22k4v9xfzvpd70jwfra7cruv04uht0tsj0t9x5   \n",
       "2  addr_test1vqyq7qum3fwuyc6pge0a8td0enx5gctnh43h2zntmkc994qz04pwj   \n",
       "3  addr_test1vqyq7qum3fwuyc6pge0a8td0enx5gctnh43h2zntmkc994qz04pwj   \n",
       "\n",
       "                                                             TxHash  TxIx  \\\n",
       "0  d007adb1b4ed647781eab93bb181f70195db93ae65dca353a5fc5a2985c65e6c     0   \n",
       "1  d007adb1b4ed647781eab93bb181f70195db93ae65dca353a5fc5a2985c65e6c     1   \n",
       "2  067a19390e6ce36ca39c94cf3cc58291eb226378092608fb795cfc336e08a4d6     2   \n",
       "3  83f3ba623421332a8787149476d07becbc9432dfc3ba1a55607021c503f4f877     0   \n",
       "\n",
       "    lovelace                                             TokenPolicyId  \\\n",
       "0  246608726                                                       NaN   \n",
       "1    2000000  8050cb8a6ee792c13aebc35d72e9b5c840ca2e4233d67d16de6b9ff8   \n",
       "2    1034400  8050cb8a6ee792c13aebc35d72e9b5c840ca2e4233d67d16de6b9ff8   \n",
       "3  250000000                                                       NaN   \n",
       "\n",
       "   TokenNameHex TokenNameAscii  TokenAmount  datumhash  \n",
       "0           NaN           None            0        NaN  \n",
       "1  506172747931         Party1            1        NaN  \n",
       "2  506172747932         Party2            1        NaN  \n",
       "3           NaN           None            0        NaN  "
      ]
     },
     "execution_count": 36,
     "metadata": {},
     "output_type": "execute_result"
    }
   ],
   "source": [
    "# check wallet1 and wallet2\n",
    "pd.concat([query_df(PARTY1_ADDRESS), query_df(PARTY2_ADDRESS)]).reset_index(drop=True)"
   ]
  },
  {
   "cell_type": "code",
   "execution_count": 37,
   "id": "8398d7c9",
   "metadata": {},
   "outputs": [
    {
     "name": "stdout",
     "output_type": "stream",
     "text": [
      "TxId \"b1ae82baa5a421a060e997e6ff7a4070c521d39fbe962cf04730ec226d589943\"\n",
      "\n",
      "\n"
     ]
    }
   ],
   "source": [
    "cmd = [marloweCLI, \"util\", \"clean\", \n",
    "       \"--testnet-magic\", MAGIC,             # '2'\n",
    "       \"--socket-path\", SOCKET,              # '/tmp/node.socket'\n",
    "       \"--required-signer\", PARTY2_SKEYFILE,\n",
    "       \"--change-address\", PARTY2_ADDRESS,\n",
    "       \"--out-file\", \"/dev/null\",\n",
    "       \"--submit\", str(600)]\n",
    "result = subprocess.run(cmd, capture_output=True, text=True)\n",
    "print(result.stdout)\n",
    "print(result.stderr)"
   ]
  },
  {
   "cell_type": "code",
   "execution_count": 38,
   "id": "ae68a2a6",
   "metadata": {},
   "outputs": [
    {
     "data": {
      "text/html": [
       "<div>\n",
       "<style scoped>\n",
       "    .dataframe tbody tr th:only-of-type {\n",
       "        vertical-align: middle;\n",
       "    }\n",
       "\n",
       "    .dataframe tbody tr th {\n",
       "        vertical-align: top;\n",
       "    }\n",
       "\n",
       "    .dataframe thead th {\n",
       "        text-align: right;\n",
       "    }\n",
       "</style>\n",
       "<table border=\"1\" class=\"dataframe\">\n",
       "  <thead>\n",
       "    <tr style=\"text-align: right;\">\n",
       "      <th></th>\n",
       "      <th>address</th>\n",
       "      <th>TxHash</th>\n",
       "      <th>TxIx</th>\n",
       "      <th>lovelace</th>\n",
       "      <th>TokenPolicyId</th>\n",
       "      <th>TokenNameHex</th>\n",
       "      <th>TokenNameAscii</th>\n",
       "      <th>TokenAmount</th>\n",
       "      <th>datumhash</th>\n",
       "    </tr>\n",
       "  </thead>\n",
       "  <tbody>\n",
       "    <tr>\n",
       "      <th>0</th>\n",
       "      <td>addr_test1vpqflumj2n8d43k22k4v9xfzvpd70jwfra7cruv04uht0tsj0t9x5</td>\n",
       "      <td>d007adb1b4ed647781eab93bb181f70195db93ae65dca353a5fc5a2985c65e6c</td>\n",
       "      <td>0</td>\n",
       "      <td>246608726</td>\n",
       "      <td>NaN</td>\n",
       "      <td>NaN</td>\n",
       "      <td>None</td>\n",
       "      <td>0</td>\n",
       "      <td>NaN</td>\n",
       "    </tr>\n",
       "    <tr>\n",
       "      <th>1</th>\n",
       "      <td>addr_test1vpqflumj2n8d43k22k4v9xfzvpd70jwfra7cruv04uht0tsj0t9x5</td>\n",
       "      <td>d007adb1b4ed647781eab93bb181f70195db93ae65dca353a5fc5a2985c65e6c</td>\n",
       "      <td>1</td>\n",
       "      <td>2000000</td>\n",
       "      <td>8050cb8a6ee792c13aebc35d72e9b5c840ca2e4233d67d16de6b9ff8</td>\n",
       "      <td>506172747931</td>\n",
       "      <td>Party1</td>\n",
       "      <td>1</td>\n",
       "      <td>NaN</td>\n",
       "    </tr>\n",
       "    <tr>\n",
       "      <th>2</th>\n",
       "      <td>addr_test1vqyq7qum3fwuyc6pge0a8td0enx5gctnh43h2zntmkc994qz04pwj</td>\n",
       "      <td>b1ae82baa5a421a060e997e6ff7a4070c521d39fbe962cf04730ec226d589943</td>\n",
       "      <td>0</td>\n",
       "      <td>248856931</td>\n",
       "      <td>NaN</td>\n",
       "      <td>NaN</td>\n",
       "      <td>None</td>\n",
       "      <td>0</td>\n",
       "      <td>NaN</td>\n",
       "    </tr>\n",
       "    <tr>\n",
       "      <th>3</th>\n",
       "      <td>addr_test1vqyq7qum3fwuyc6pge0a8td0enx5gctnh43h2zntmkc994qz04pwj</td>\n",
       "      <td>b1ae82baa5a421a060e997e6ff7a4070c521d39fbe962cf04730ec226d589943</td>\n",
       "      <td>1</td>\n",
       "      <td>2000000</td>\n",
       "      <td>8050cb8a6ee792c13aebc35d72e9b5c840ca2e4233d67d16de6b9ff8</td>\n",
       "      <td>506172747932</td>\n",
       "      <td>Party2</td>\n",
       "      <td>1</td>\n",
       "      <td>NaN</td>\n",
       "    </tr>\n",
       "  </tbody>\n",
       "</table>\n",
       "</div>"
      ],
      "text/plain": [
       "                                                           address  \\\n",
       "0  addr_test1vpqflumj2n8d43k22k4v9xfzvpd70jwfra7cruv04uht0tsj0t9x5   \n",
       "1  addr_test1vpqflumj2n8d43k22k4v9xfzvpd70jwfra7cruv04uht0tsj0t9x5   \n",
       "2  addr_test1vqyq7qum3fwuyc6pge0a8td0enx5gctnh43h2zntmkc994qz04pwj   \n",
       "3  addr_test1vqyq7qum3fwuyc6pge0a8td0enx5gctnh43h2zntmkc994qz04pwj   \n",
       "\n",
       "                                                             TxHash  TxIx  \\\n",
       "0  d007adb1b4ed647781eab93bb181f70195db93ae65dca353a5fc5a2985c65e6c     0   \n",
       "1  d007adb1b4ed647781eab93bb181f70195db93ae65dca353a5fc5a2985c65e6c     1   \n",
       "2  b1ae82baa5a421a060e997e6ff7a4070c521d39fbe962cf04730ec226d589943     0   \n",
       "3  b1ae82baa5a421a060e997e6ff7a4070c521d39fbe962cf04730ec226d589943     1   \n",
       "\n",
       "    lovelace                                             TokenPolicyId  \\\n",
       "0  246608726                                                       NaN   \n",
       "1    2000000  8050cb8a6ee792c13aebc35d72e9b5c840ca2e4233d67d16de6b9ff8   \n",
       "2  248856931                                                       NaN   \n",
       "3    2000000  8050cb8a6ee792c13aebc35d72e9b5c840ca2e4233d67d16de6b9ff8   \n",
       "\n",
       "   TokenNameHex TokenNameAscii  TokenAmount  datumhash  \n",
       "0           NaN           None            0        NaN  \n",
       "1  506172747931         Party1            1        NaN  \n",
       "2           NaN           None            0        NaN  \n",
       "3  506172747932         Party2            1        NaN  "
      ]
     },
     "execution_count": 38,
     "metadata": {},
     "output_type": "execute_result"
    }
   ],
   "source": [
    "# check wallet1 and wallet2\n",
    "pd.concat([query_df(PARTY1_ADDRESS), query_df(PARTY2_ADDRESS)]).reset_index(drop=True)"
   ]
  },
  {
   "cell_type": "code",
   "execution_count": null,
   "id": "fffc45da",
   "metadata": {},
   "outputs": [],
   "source": [
    "# party1 = ffee2ed84fd6eca8628fc4714518f52f68bbbe9be8b8e427199640b935af68c4#0 (68c4#0) will spend UTXO\n",
    "# as well as ffee2ed84fd6eca8628fc4714518f52f68bbbe9be8b8e427199640b935af68c4#1 (68c4#1) and \n",
    "# spend the tokens or use that as proof 150ad48b834239dd9a8e74fb7185a3a4be73ba51fdd3da49f6c8036e.Party1 (036e.Party)"
   ]
  },
  {
   "cell_type": "code",
   "execution_count": null,
   "id": "fd13f44b",
   "metadata": {},
   "outputs": [],
   "source": [
    "# the contract requires a minimum ADA requirement and 2x timeouts.\n",
    "# it specifies that party1 will swap 200 ADA for 100 ADA (no tokens)\n",
    "# this must happen before two deadlines ! "
   ]
  },
  {
   "cell_type": "code",
   "execution_count": 39,
   "id": "21daad3b",
   "metadata": {},
   "outputs": [],
   "source": [
    "MINIMUM_ADA           = 3*ADA           # The minimum lovelace to be included with native token output"
   ]
  },
  {
   "cell_type": "code",
   "execution_count": 40,
   "id": "5d3d6ad5",
   "metadata": {},
   "outputs": [],
   "source": [
    "PARTY1_TIMEOUT = NOW+12*HOUR"
   ]
  },
  {
   "cell_type": "code",
   "execution_count": 41,
   "id": "8b38b19d",
   "metadata": {},
   "outputs": [],
   "source": [
    "PARTY2_TIMEOUT = NOW+24*HOUR"
   ]
  },
  {
   "cell_type": "code",
   "execution_count": null,
   "id": "c02e6dc0",
   "metadata": {},
   "outputs": [],
   "source": []
  },
  {
   "cell_type": "code",
   "execution_count": 42,
   "id": "1571405e",
   "metadata": {},
   "outputs": [],
   "source": [
    "ADA                   = 1000000         # 1 ADA = 1000000 lovelace\n",
    "# MILLISECOND           = 1000\n",
    "# NOW                   = round(time.time())*1000\n",
    "# HOUR                  = 60*60*MILLISECOND\n",
    "# PAYMENT_DEADLINE      = NOW+10*HOUR     # The payment deadline, ten hours from now\n",
    "# MINIMUM_ADA           = 3*ADA           # The minimum lovelace to be included with native token output\n",
    "\n",
    "PARTY1_TOKENASSETNAME = 'Party1'        # this is 'Buyer', 'wallet 1'\n",
    "PARTY2_TOKENASSETNAME = 'Party2'        # this is 'Seller', 'wallet 2'\n",
    "PARTY1_AMOUNT         = 200*ADA         # 200000000, means we will hard-code this swap amount in the script\n",
    "PARTY2_AMOUNT         = 100*ADA         # 100000000, means we will hard-code this swap amount in the script\n",
    "PARTY1_ADDRESS        = open('wallet1.address', 'r').read() # string value 'addr_test1vppqe9wxg73zfll8yj2v3xg44k8pgnl0k4899pv3r3r2h2qlgsg4t'\n",
    "PARTY2_ADDRESS        = open('wallet2.address', 'r').read() # string value 'addr_test1vrfhx0w0fy9aad9kskezy5znpmey0h335gcjen2pp4gjj2s2ax92x'\n",
    "PARTY1_SKEYFILE       = 'wallet1.skey'  # string value pointing to path/file\n",
    "PARTY2_SKEYFILE       = 'wallet2.skey'\n",
    "PARTY1_VKEYFILE       = 'wallet1.vkey'\n",
    "PARTY2_VKEYFILE       = 'wallet2.vkey'\n",
    "\n",
    "# MAGIC                 = '2'          # marlowe-pioneers testnet ID = 1567 (provided by developers)\n",
    "# SOCKET                = '/tmp/node.socket'\n",
    "\n",
    "# the values below will be created further down the road, \n",
    "# it can be interesting to list them here for your understanding\n",
    "TOKEN_POLICY_ID       = ''  # minted token Policy ID, '0b8ffef9a24d8dcdcd7618d74df4753aff6b6b7787b88ac69b4d7e43'\n",
    "TX1_IN                = ''  # '5906e4431fbd83cb9d16862ac7a4278ce707061af1d934f41f00abe2f7f150e9'\n",
    "TX1_PARTY1_ADA        = ''  # '5906e4431fbd83cb9d16862ac7a4278ce707061af1d934f41f00abe2f7f150e9#0'\n",
    "TX1_PARTY1_TOKENS     = ''  # '5906e4431fbd83cb9d16862ac7a4278ce707061af1d934f41f00abe2f7f150e9#1'\n",
    "TX1_PARTY2_ADA        = ''  #\n",
    "TX1_PARTY2_TOKENS     = ''  #\n",
    "TX2_IN                = ''  # 'f773c71f9b58dd95fd470aedd9df800838e841aef807102abcd87e3c881fd373'\n",
    "CONTRACT_ADDRESS      = ''  # 'addr_test1wp544j8t4m3a32g6apad3lpjjfj09j948y8m4nthc5e9rgg5uxu2z'\n",
    "REDEEM_ADDRESS        = ''  # 'addr_test1wr0970a9k82v6pcw68x2yzwm737zyepg9y8ar8jxsxstf6gzpsmyv'"
   ]
  },
  {
   "cell_type": "code",
   "execution_count": null,
   "id": "c7ec6a58",
   "metadata": {},
   "outputs": [],
   "source": []
  },
  {
   "cell_type": "code",
   "execution_count": 80,
   "id": "906f9e34",
   "metadata": {},
   "outputs": [
    {
     "name": "stdout",
     "output_type": "stream",
     "text": [
      "\n",
      "\n"
     ]
    }
   ],
   "source": [
    "# experiment generate contract from template\n",
    "# minted tokenID.tokenNAME == currency_symbol.token_name\n",
    "PARTY1_TOKENID   = \"150ad48b834239dd9a8e74fb7185a3a4be73ba51fdd3da49f6c8036e\"\n",
    "PARTY1_TOKENNAME = \"Party1\"\n",
    "PARTY2_TOKENID   = \"150ad48b834239dd9a8e74fb7185a3a4be73ba51fdd3da49f6c8036e\"\n",
    "PARTY2_TOKENNAME = \"Party2\"\n",
    "\n",
    "# this example seem not to work for swapping ADA, don't understand the syntax (we will not use these files)\n",
    "cmd = [marloweCLI, \"template\", \"swap\", \n",
    "       \"--minimum-ada\", str(MINIMUM_ADA),                # '3000000'\n",
    "       \"--a-party\", \"Role=\"+PARTY1_TOKENASSETNAME,       # 'Role=Party1'\n",
    "       \"--a-token\", PARTY1_TOKENID+\".\"+PARTY1_TOKENNAME, # '0b8ffef9a24d8dcdcd7618d74df4753aff6b6b7787b88ac69b4d7e43.BERRY'\n",
    "       \"--a-amount\", str(PARTY1_AMOUNT),                 # '200000000'\n",
    "       \"--a-timeout\", str(PARTY1_TIMEOUT),             # '1658275769000'\n",
    "       \"--b-party\", \"Role=\"+PARTY2_TOKENASSETNAME,       # 'Role=Party2'\n",
    "       \"--b-token\", PARTY2_TOKENID+\".\"+PARTY2_TOKENNAME, # '0b8ffef9a24d8dcdcd7618d74df4753aff6b6b7787b88ac69b4d7e43.CHOC'\n",
    "       \"--b-amount\", str(PARTY2_AMOUNT),                 # '100000000'\n",
    "       \"--b-timeout\", str(PARTY2_TIMEOUT),             # '1658275769000'\n",
    "       \"--out-contract-file\", \"swap_template.contract\",\n",
    "       \"--out-state-file\", \"swap_template.state\"]\n",
    "result = subprocess.run(cmd, capture_output=True, text=True)\n",
    "print(result.stdout)\n",
    "print(result.stderr)"
   ]
  },
  {
   "cell_type": "code",
   "execution_count": 82,
   "id": "7261ca27",
   "metadata": {},
   "outputs": [
    {
     "name": "stdout",
     "output_type": "stream",
     "text": [
      "2023-01-05 20:20:34\n",
      "2023-01-06 08:20:34\n"
     ]
    }
   ],
   "source": [
    "print(convert_timestamp(1672946434000))\n",
    "print(convert_timestamp(1672989634000))"
   ]
  },
  {
   "cell_type": "code",
   "execution_count": 81,
   "id": "bd90e769",
   "metadata": {},
   "outputs": [
    {
     "name": "stdout",
     "output_type": "stream",
     "text": [
      "{\r\n",
      "    \"timeout\": 1672946434000,\r\n",
      "    \"timeout_continuation\": \"close\",\r\n",
      "    \"when\": [\r\n",
      "        {\r\n",
      "            \"case\": {\r\n",
      "                \"deposits\": 200000000,\r\n",
      "                \"into_account\": {\r\n",
      "                    \"role_token\": \"Role=Party1\"\r\n",
      "                },\r\n",
      "                \"of_token\": {\r\n",
      "                    \"currency_symbol\": \"150ad48b834239dd9a8e74fb7185a3a4be73ba51fdd3da49f6c8036e\",\r\n",
      "                    \"token_name\": \"Party1\"\r\n",
      "                },\r\n",
      "                \"party\": {\r\n",
      "                    \"role_token\": \"Role=Party1\"\r\n",
      "                }\r\n",
      "            },\r\n",
      "            \"then\": {\r\n",
      "                \"timeout\": 1672989634000,\r\n",
      "                \"timeout_continuation\": \"close\",\r\n",
      "                \"when\": [\r\n",
      "                    {\r\n",
      "                        \"case\": {\r\n",
      "                            \"deposits\": 100000000,\r\n",
      "                            \"into_account\": {\r\n",
      "                                \"role_token\": \"Role=Party2\"\r\n",
      "                            },\r\n",
      "                            \"of_token\": {\r\n",
      "                                \"currency_symbol\": \"150ad48b834239dd9a8e74fb7185a3a4be73ba51fdd3da49f6c8036e\",\r\n",
      "                                \"token_name\": \"Party2\"\r\n",
      "                            },\r\n",
      "                            \"party\": {\r\n",
      "                                \"role_token\": \"Role=Party2\"\r\n",
      "                            }\r\n",
      "                        },\r\n",
      "                        \"then\": {\r\n",
      "                            \"from_account\": {\r\n",
      "                                \"role_token\": \"Role=Party1\"\r\n",
      "                            },\r\n",
      "                            \"pay\": 200000000,\r\n",
      "                            \"then\": {\r\n",
      "                                \"from_account\": {\r\n",
      "                                    \"role_token\": \"Role=Party2\"\r\n",
      "                                },\r\n",
      "                                \"pay\": 100000000,\r\n",
      "                                \"then\": \"close\",\r\n",
      "                                \"to\": {\r\n",
      "                                    \"party\": {\r\n",
      "                                        \"role_token\": \"Role=Party1\"\r\n",
      "                                    }\r\n",
      "                                },\r\n",
      "                                \"token\": {\r\n",
      "                                    \"currency_symbol\": \"150ad48b834239dd9a8e74fb7185a3a4be73ba51fdd3da49f6c8036e\",\r\n",
      "                                    \"token_name\": \"Party2\"\r\n",
      "                                }\r\n",
      "                            },\r\n",
      "                            \"to\": {\r\n",
      "                                \"party\": {\r\n",
      "                                    \"role_token\": \"Role=Party2\"\r\n",
      "                                }\r\n",
      "                            },\r\n",
      "                            \"token\": {\r\n",
      "                                \"currency_symbol\": \"150ad48b834239dd9a8e74fb7185a3a4be73ba51fdd3da49f6c8036e\",\r\n",
      "                                \"token_name\": \"Party1\"\r\n",
      "                            }\r\n",
      "                        }\r\n",
      "                    }\r\n",
      "                ]\r\n",
      "            }\r\n",
      "        }\r\n",
      "    ]\r\n",
      "}"
     ]
    }
   ],
   "source": [
    "!cat swap_template.contract"
   ]
  },
  {
   "cell_type": "code",
   "execution_count": null,
   "id": "7a6843fc",
   "metadata": {},
   "outputs": [],
   "source": []
  },
  {
   "cell_type": "code",
   "execution_count": null,
   "id": "d191ebce",
   "metadata": {},
   "outputs": [],
   "source": []
  },
  {
   "cell_type": "code",
   "execution_count": null,
   "id": "28bd3d8e",
   "metadata": {},
   "outputs": [],
   "source": []
  },
  {
   "cell_type": "markdown",
   "id": "dec6a412-fed0-4782-b14c-c72a70b3d401",
   "metadata": {},
   "source": [
    "### script\n",
    "The goal here is to hard-code substitute parameters in the json script,  \n",
    "replacing with real values the token name, amounts, timeout values, and so on...  "
   ]
  },
  {
   "cell_type": "code",
   "execution_count": 43,
   "id": "670d4f0d",
   "metadata": {},
   "outputs": [],
   "source": [
    "# currency_symbol = PolicyID of the minted tokens (ex: \"0b8ffef9a24d8dcdcd7618d74df4753aff6b6b7787b88ac69b4d7e43\")\n",
    "PARTY1_TOKENID   = \"\"  # empty (default to ADA)\n",
    "PARTY2_TOKENID   = \"\"  # empty (default to ADA)\n",
    "\n",
    "# token_name = currency name of the minted tokens (ex: \"CHOC\")\n",
    "PARTY1_TOKENNAME = \"\"  # empty (default to ADA)\n",
    "PARTY2_TOKENNAME = \"\"  # empty (default to ADA)"
   ]
  },
  {
   "cell_type": "markdown",
   "id": "76e17843",
   "metadata": {},
   "source": [
    "TO BE replaced below later these token names !! then it needs to be tested...  \n",
    "Maybe we can later add the minting of tokens and try to swap these as an example.  "
   ]
  },
  {
   "cell_type": "code",
   "execution_count": 44,
   "id": "736abe3a",
   "metadata": {},
   "outputs": [
    {
     "name": "stdout",
     "output_type": "stream",
     "text": [
      "2023-01-06 03:43:03\n",
      "2023-01-06 15:43:03\n"
     ]
    }
   ],
   "source": [
    "print(convert_timestamp(PARTY1_TIMEOUT))\n",
    "print(convert_timestamp(PARTY2_TIMEOUT))"
   ]
  },
  {
   "cell_type": "code",
   "execution_count": 45,
   "id": "25f8f273-094c-490e-b6e6-7d23388a566c",
   "metadata": {},
   "outputs": [],
   "source": [
    "result = subprocess.run(\"\"\"cat <<EOF > tx-1.contract\n",
    "{\n",
    "  \"when\": [\n",
    "    {\n",
    "      \"then\": {\n",
    "        \"when\": [\n",
    "          {\n",
    "            \"then\": {\n",
    "              \"token\": {\n",
    "                \"token_name\": \"\",\n",
    "                \"currency_symbol\": \"\"\n",
    "              },\n",
    "              \"to\": {\n",
    "                \"party\": {\n",
    "                  \"role_token\": '\"\"\"+PARTY2_TOKENASSETNAME+\"\"\"'\n",
    "                }\n",
    "              },\n",
    "              \"then\": {\n",
    "                \"token\": {\n",
    "                  \"token_name\": \"\",\n",
    "                  \"currency_symbol\": \"\"\n",
    "                },\n",
    "                \"to\": {\n",
    "                  \"party\": {\n",
    "                    \"role_token\": '\"\"\"+PARTY1_TOKENASSETNAME+\"\"\"'\n",
    "                  }\n",
    "                },\n",
    "                \"then\": \"close\",\n",
    "                \"pay\": \"\"\"+str(PARTY2_AMOUNT)+\"\"\",\n",
    "                \"from_account\": {\n",
    "                  \"role_token\": '\"\"\"+PARTY2_TOKENASSETNAME+\"\"\"'\n",
    "                }\n",
    "              },\n",
    "              \"pay\": \"\"\"+str(PARTY1_AMOUNT)+\"\"\",\n",
    "              \"from_account\": {\n",
    "                \"role_token\": '\"\"\"+PARTY1_TOKENASSETNAME+\"\"\"'\n",
    "              }\n",
    "            },\n",
    "            \"case\": {\n",
    "              \"party\": {\n",
    "                \"role_token\": '\"\"\"+PARTY2_TOKENASSETNAME+\"\"\"'\n",
    "              },\n",
    "              \"of_token\": {\n",
    "                \"token_name\": \"\",\n",
    "                \"currency_symbol\": \"\"\n",
    "              },\n",
    "              \"into_account\": {\n",
    "                \"role_token\": '\"\"\"+PARTY2_TOKENASSETNAME+\"\"\"'\n",
    "              },\n",
    "              \"deposits\": \"\"\"+str(PARTY2_AMOUNT)+\"\"\"\n",
    "            }\n",
    "          }\n",
    "        ],\n",
    "        \"timeout_continuation\": \"close\",\n",
    "        \"timeout\": \"\"\"+str(PARTY2_TIMEOUT)+\"\"\"\n",
    "      },\n",
    "      \"case\": {\n",
    "        \"party\": {\n",
    "          \"role_token\": '\"\"\"+PARTY1_TOKENASSETNAME+\"\"\"'\n",
    "        },\n",
    "        \"of_token\": {\n",
    "          \"token_name\": \"\",\n",
    "          \"currency_symbol\": \"\"\n",
    "        },\n",
    "        \"into_account\": {\n",
    "          \"role_token\": '\"\"\"+PARTY1_TOKENASSETNAME+\"\"\"'\n",
    "        },\n",
    "        \"deposits\": \"\"\"+str(PARTY1_AMOUNT)+\"\"\"\n",
    "      }\n",
    "    }\n",
    "  ],\n",
    "  \"timeout_continuation\": \"close\",\n",
    "  \"timeout\": \"\"\"+str(PARTY1_TIMEOUT)+\"\"\"\n",
    "}\n",
    "EOF\n",
    "\"\"\", shell=True)"
   ]
  },
  {
   "cell_type": "code",
   "execution_count": 46,
   "id": "d695c744",
   "metadata": {},
   "outputs": [
    {
     "name": "stdout",
     "output_type": "stream",
     "text": [
      "{\r\n",
      "  \"when\": [\r\n",
      "    {\r\n",
      "      \"then\": {\r\n",
      "        \"when\": [\r\n",
      "          {\r\n",
      "            \"then\": {\r\n",
      "              \"token\": {\r\n",
      "                \"token_name\": \"\",\r\n",
      "                \"currency_symbol\": \"\"\r\n",
      "              },\r\n",
      "              \"to\": {\r\n",
      "                \"party\": {\r\n",
      "                  \"role_token\": 'Party2'\r\n",
      "                }\r\n",
      "              },\r\n",
      "              \"then\": {\r\n",
      "                \"token\": {\r\n",
      "                  \"token_name\": \"\",\r\n",
      "                  \"currency_symbol\": \"\"\r\n",
      "                },\r\n",
      "                \"to\": {\r\n",
      "                  \"party\": {\r\n",
      "                    \"role_token\": 'Party1'\r\n",
      "                  }\r\n",
      "                },\r\n",
      "                \"then\": \"close\",\r\n",
      "                \"pay\": 100000000,\r\n",
      "                \"from_account\": {\r\n",
      "                  \"role_token\": 'Party2'\r\n",
      "                }\r\n",
      "              },\r\n",
      "              \"pay\": 200000000,\r\n",
      "              \"from_account\": {\r\n",
      "                \"role_token\": 'Party1'\r\n",
      "              }\r\n",
      "            },\r\n",
      "            \"case\": {\r\n",
      "              \"party\": {\r\n",
      "                \"role_token\": 'Party2'\r\n",
      "              },\r\n",
      "              \"of_token\": {\r\n",
      "                \"token_name\": \"\",\r\n",
      "                \"currency_symbol\": \"\"\r\n",
      "              },\r\n",
      "              \"into_account\": {\r\n",
      "                \"role_token\": 'Party2'\r\n",
      "              },\r\n",
      "              \"deposits\": 100000000\r\n",
      "            }\r\n",
      "          }\r\n",
      "        ],\r\n",
      "        \"timeout_continuation\": \"close\",\r\n",
      "        \"timeout\": 1673016183000\r\n",
      "      },\r\n",
      "      \"case\": {\r\n",
      "        \"party\": {\r\n",
      "          \"role_token\": 'Party1'\r\n",
      "        },\r\n",
      "        \"of_token\": {\r\n",
      "          \"token_name\": \"\",\r\n",
      "          \"currency_symbol\": \"\"\r\n",
      "        },\r\n",
      "        \"into_account\": {\r\n",
      "          \"role_token\": 'Party1'\r\n",
      "        },\r\n",
      "        \"deposits\": 200000000\r\n",
      "      }\r\n",
      "    }\r\n",
      "  ],\r\n",
      "  \"timeout_continuation\": \"close\",\r\n",
      "  \"timeout\": 1672972983000\r\n",
      "}\r\n"
     ]
    }
   ],
   "source": [
    "!cat tx-1.contract"
   ]
  },
  {
   "cell_type": "markdown",
   "id": "55d0f9f0",
   "metadata": {},
   "source": [
    "Question: I don't understand yet why minTime always is 1,  \n",
    "I believe it has to do with the start of the existence of the blockchain.  \n",
    "One can believe we need to set the startdate NOW in there.  \n",
    "Question: why is there no secondary account party 2 in here, what is this state file for ?  \n",
    "is this to do the initial startup of the contract somehow ?  \n",
    "Question: Why do we need 2 or 3 ADA here ?  \n",
    "I believe this is to counter bursting of DoS attacks in contracts initialisations...  "
   ]
  },
  {
   "cell_type": "code",
   "execution_count": 47,
   "id": "be6547fe-f1c4-4e4e-93bb-41e35d4f514c",
   "metadata": {},
   "outputs": [],
   "source": [
    "result = subprocess.run(\"\"\"cat <<EOF > tx-1.state\n",
    "{\n",
    "  \"accounts\": [\n",
    "    [[{ \"role_token\": '\"\"\"+PARTY1_TOKENASSETNAME+\"\"\"'}, { \"currency_symbol\": \"\", \"token_name\": \"\" }], \"\"\"+str(MINIMUM_ADA)+\"\"\"]\n",
    "  ],\n",
    "  \"choices\": [],\n",
    "  \"boundValues\": [],\n",
    "  \"minTime\": \"\"\"+str(1)+\"\"\"\n",
    "}\n",
    "\"\"\", shell=True)"
   ]
  },
  {
   "cell_type": "code",
   "execution_count": 48,
   "id": "ae889107",
   "metadata": {},
   "outputs": [
    {
     "name": "stdout",
     "output_type": "stream",
     "text": [
      "{\r\n",
      "  \"accounts\": [\r\n",
      "    [[{ \"role_token\": 'Party1'}, { \"currency_symbol\": \"\", \"token_name\": \"\" }], 3000000]\r\n",
      "  ],\r\n",
      "  \"choices\": [],\r\n",
      "  \"boundValues\": [],\r\n",
      "  \"minTime\": 1\r\n",
      "}\r\n"
     ]
    }
   ],
   "source": [
    "!cat tx-1.state"
   ]
  },
  {
   "cell_type": "code",
   "execution_count": 35,
   "id": "a3b54c74-e9ec-4a77-9578-3ae74ac53133",
   "metadata": {},
   "outputs": [
    {
     "name": "stdout",
     "output_type": "stream",
     "text": [
      "{\n",
      "  \"accounts\": [\n",
      "    [[{ \"role_token\": 'Party1'}, { \"currency_symbol\": \"\", \"token_name\": \"\" }], 3000000]\n",
      "  ],\n",
      "  \"choices\": [],\n",
      "  \"boundValues\": [],\n",
      "  \"minTime\": 1\n",
      "}\n"
     ]
    }
   ],
   "source": [
    "# !cat tx-1.state"
   ]
  },
  {
   "cell_type": "markdown",
   "id": "df2de372-adf3-4c09-94a5-d7193811435d",
   "metadata": {},
   "source": [
    "### template (optional)\n",
    "Using a template, one can construct with marlowe-cli the *.contract and *.state files  \n",
    "Today these templates are available:  \n",
    "  * escrow\n",
    "  * simple\n",
    "  * swap\n",
    "  * zcb (zero-coupon bond)\n",
    "  * coveredCall"
   ]
  },
  {
   "cell_type": "code",
   "execution_count": 25,
   "id": "9c0b2b73",
   "metadata": {},
   "outputs": [],
   "source": [
    "# minted tokenID.tokenNAME == currency_symbol.token_name\n",
    "PARTY1_TOKENID   = \"0b8ffef9a24d8dcdcd7618d74df4753aff6b6b7787b88ac69b4d7e43\"\n",
    "PARTY1_TOKENNAME = \"BERRY\"\n",
    "PARTY2_TOKENID   = \"0b8ffef9a24d8dcdcd7618d74df4753aff6b6b7787b88ac69b4d7e43\"\n",
    "PARTY2_TOKENNAME = \"CHOC\""
   ]
  },
  {
   "cell_type": "markdown",
   "id": "f0e1bac8",
   "metadata": {},
   "source": [
    "```text\n",
    "marlowe-cli template swap:\n",
    "\n",
    "  --minimum-ada INTEGER             Lovelace that the first party contributes to the initial state\n",
    "  --a-party PARTY                   The first party\n",
    "  --a-token TOKEN                   The first party's token\n",
    "  --a-amount INTEGER                The amount of the first party's token\n",
    "  --a-timeout POSIX_TIME            The timeout for the first party's deposit, in POSIX milliseconds\n",
    "  --b-party PARTY                   The second party\n",
    "  --b-token TOKEN                   The second party's token\n",
    "  --b-amount INTEGER                The amount of the second party's token\n",
    "  --b-timeout POSIX_TIME            The timeout for the second party's deposit, in POSIX milliseconds\n",
    "  --out-contract-file CONTRACT_FILE JSON output file for the contract\n",
    "  --out-state-file STATE_FILE       JSON output file for the contract's state\n",
    "\n",
    "```"
   ]
  },
  {
   "cell_type": "code",
   "execution_count": 26,
   "id": "ccf002c1-75ac-459d-a645-60b0829562ea",
   "metadata": {},
   "outputs": [
    {
     "name": "stdout",
     "output_type": "stream",
     "text": [
      "\n",
      "\n"
     ]
    }
   ],
   "source": [
    "# this example seem not to work for swapping ADA, don't understand the syntax (we will not use these files)\n",
    "cmd = [marloweCLI, \"template\", \"swap\", \n",
    "       \"--minimum-ada\", str(MINIMUM_ADA),                # '3000000'\n",
    "       \"--a-party\", \"Role=\"+PARTY1_TOKENASSETNAME,       # 'Role=Party1'\n",
    "       \"--a-token\", PARTY1_TOKENID+\".\"+PARTY1_TOKENNAME, # '0b8ffef9a24d8dcdcd7618d74df4753aff6b6b7787b88ac69b4d7e43.BERRY'\n",
    "       \"--a-amount\", str(PARTY1_AMOUNT),                 # '200000000'\n",
    "       \"--a-timeout\", str(PAYMENT_DEADLINE),             # '1658275769000'\n",
    "       \"--b-party\", \"Role=\"+PARTY2_TOKENASSETNAME,       # 'Role=Party2'\n",
    "       \"--b-token\", PARTY2_TOKENID+\".\"+PARTY2_TOKENNAME, # '0b8ffef9a24d8dcdcd7618d74df4753aff6b6b7787b88ac69b4d7e43.CHOC'\n",
    "       \"--b-amount\", str(PARTY2_AMOUNT),                 # '100000000'\n",
    "       \"--b-timeout\", str(PAYMENT_DEADLINE),             # '1658275769000'\n",
    "       \"--out-contract-file\", \"swap_template.contract\",\n",
    "       \"--out-state-file\", \"swap_template.state\"]\n",
    "result = subprocess.run(cmd, capture_output=True, text=True)\n",
    "print(result.stdout)\n",
    "print(result.stderr)"
   ]
  },
  {
   "cell_type": "code",
   "execution_count": 27,
   "id": "84afcab8-dcc7-4f08-a1c1-4c4cd07bf3fa",
   "metadata": {},
   "outputs": [
    {
     "name": "stdout",
     "output_type": "stream",
     "text": [
      "{\r\n",
      "    \"timeout\": 1672874750000,\r\n",
      "    \"timeout_continuation\": \"close\",\r\n",
      "    \"when\": [\r\n",
      "        {\r\n",
      "            \"case\": {\r\n",
      "                \"deposits\": 200000000,\r\n",
      "                \"into_account\": {\r\n",
      "                    \"role_token\": \"Role=Party1\"\r\n",
      "                },\r\n",
      "                \"of_token\": {\r\n",
      "                    \"currency_symbol\": \"0b8ffef9a24d8dcdcd7618d74df4753aff6b6b7787b88ac69b4d7e43\",\r\n",
      "                    \"token_name\": \"BERRY\"\r\n",
      "                },\r\n",
      "                \"party\": {\r\n",
      "                    \"role_token\": \"Role=Party1\"\r\n",
      "                }\r\n",
      "            },\r\n",
      "            \"then\": {\r\n",
      "                \"timeout\": 1672874750000,\r\n",
      "                \"timeout_continuation\": \"close\",\r\n",
      "                \"when\": [\r\n",
      "                    {\r\n",
      "                        \"case\": {\r\n",
      "                            \"deposits\": 100000000,\r\n",
      "                            \"into_account\": {\r\n",
      "                                \"role_token\": \"Role=Party2\"\r\n",
      "                            },\r\n",
      "                            \"of_token\": {\r\n",
      "                                \"currency_symbol\": \"0b8ffef9a24d8dcdcd7618d74df4753aff6b6b7787b88ac69b4d7e43\",\r\n",
      "                                \"token_name\": \"CHOC\"\r\n",
      "                            },\r\n",
      "                            \"party\": {\r\n",
      "                                \"role_token\": \"Role=Party2\"\r\n",
      "                            }\r\n",
      "                        },\r\n",
      "                        \"then\": {\r\n",
      "                            \"from_account\": {\r\n",
      "                                \"role_token\": \"Role=Party1\"\r\n",
      "                            },\r\n",
      "                            \"pay\": 200000000,\r\n",
      "                            \"then\": {\r\n",
      "                                \"from_account\": {\r\n",
      "                                    \"role_token\": \"Role=Party2\"\r\n",
      "                                },\r\n",
      "                                \"pay\": 100000000,\r\n",
      "                                \"then\": \"close\",\r\n",
      "                                \"to\": {\r\n",
      "                                    \"party\": {\r\n",
      "                                        \"role_token\": \"Role=Party1\"\r\n",
      "                                    }\r\n",
      "                                },\r\n",
      "                                \"token\": {\r\n",
      "                                    \"currency_symbol\": \"0b8ffef9a24d8dcdcd7618d74df4753aff6b6b7787b88ac69b4d7e43\",\r\n",
      "                                    \"token_name\": \"CHOC\"\r\n",
      "                                }\r\n",
      "                            },\r\n",
      "                            \"to\": {\r\n",
      "                                \"party\": {\r\n",
      "                                    \"role_token\": \"Role=Party2\"\r\n",
      "                                }\r\n",
      "                            },\r\n",
      "                            \"token\": {\r\n",
      "                                \"currency_symbol\": \"0b8ffef9a24d8dcdcd7618d74df4753aff6b6b7787b88ac69b4d7e43\",\r\n",
      "                                \"token_name\": \"BERRY\"\r\n",
      "                            }\r\n",
      "                        }\r\n",
      "                    }\r\n",
      "                ]\r\n",
      "            }\r\n",
      "        }\r\n",
      "    ]\r\n",
      "}"
     ]
    }
   ],
   "source": [
    "!cat swap_template.contract"
   ]
  },
  {
   "cell_type": "code",
   "execution_count": 28,
   "id": "89497bb6-ec2d-4250-bc19-9bfc8a68239c",
   "metadata": {},
   "outputs": [
    {
     "name": "stdout",
     "output_type": "stream",
     "text": [
      "{\r\n",
      "    \"accounts\": [\r\n",
      "        [\r\n",
      "            [\r\n",
      "                {\r\n",
      "                    \"role_token\": \"Role=Party1\"\r\n",
      "                },\r\n",
      "                {\r\n",
      "                    \"currency_symbol\": \"\",\r\n",
      "                    \"token_name\": \"\"\r\n",
      "                }\r\n",
      "            ],\r\n",
      "            3000000\r\n",
      "        ]\r\n",
      "    ],\r\n",
      "    \"boundValues\": [],\r\n",
      "    \"choices\": [],\r\n",
      "    \"minTime\": 1\r\n",
      "}"
     ]
    }
   ],
   "source": [
    "!cat swap_template.state"
   ]
  },
  {
   "cell_type": "markdown",
   "id": "ded5d625",
   "metadata": {},
   "source": [
    "## Transactions\n",
    "\n",
    "Extended Unspent Transaction Output (EUTXO) model in the Cardano system represent  \n",
    "unspent transaction outputs that can be controlled by a specific user's wallet,  \n",
    "used to track cryptocurrency balances and  \n",
    "consumed as inputs in new transactions to transfer value on the network.\n",
    "\n",
    "[EUTxO handbook (*.pdf)](../../docs/pdf/EUTXO_handbook.pdf)\n",
    "\n",
    "![handbook - \"what is a transaction?\"](../../image/EUTXO_handbook_transaction.png) "
   ]
  },
  {
   "cell_type": "code",
   "execution_count": 91,
   "id": "f0fc013b",
   "metadata": {},
   "outputs": [
    {
     "data": {
      "text/html": [
       "\n",
       "        <iframe\n",
       "            width=\"800\"\n",
       "            height=\"600\"\n",
       "            src=\"https://miro.com/app/board/uXjVP3tf9_E=/?moveToWidget=3458764542137977013&cot=14\"\n",
       "            frameborder=\"0\"\n",
       "            allowfullscreen\n",
       "            \n",
       "        ></iframe>\n",
       "        "
      ],
      "text/plain": [
       "<IPython.lib.display.IFrame at 0x7f9dd0bf3760>"
      ]
     },
     "execution_count": 91,
     "metadata": {},
     "output_type": "execute_result"
    }
   ],
   "source": [
    "from IPython.display import IFrame\n",
    "\n",
    "# visual of the steps the contract will go through\n",
    "url = \"https://miro.com/app/board/uXjVP3tf9_E=/?moveToWidget=3458764542137977013&cot=14\"\n",
    "IFrame(url, width=\"800\", height=\"600\")"
   ]
  },
  {
   "cell_type": "markdown",
   "id": "795bc5fd",
   "metadata": {},
   "source": [
    "## Funding"
   ]
  },
  {
   "cell_type": "markdown",
   "id": "5720c6d1",
   "metadata": {},
   "source": [
    "### faucet\n",
    "Create a new wallet on the \"Preview\" network using a light wallet webapp.  \n",
    "Request to send tADA (test ADA) to your light wallet.  \n",
    "https://developers.cardano.org/docs/integrate-cardano/testnet-faucet/#testnets-faucet  \n",
    "\n",
    "Transfer **500 tADA** to wallet1 and wallet2.    "
   ]
  },
  {
   "cell_type": "code",
   "execution_count": 64,
   "id": "55e5a568",
   "metadata": {},
   "outputs": [
    {
     "data": {
      "text/plain": [
       "'addr_test1vr4gmk46x82e49cfr2hmn9xtc3ftwjmtdjg9n79wdx4nx7c3j7av2'"
      ]
     },
     "execution_count": 64,
     "metadata": {},
     "output_type": "execute_result"
    }
   ],
   "source": [
    "PARTY1_ADDRESS"
   ]
  },
  {
   "cell_type": "code",
   "execution_count": 65,
   "id": "1f287b56",
   "metadata": {},
   "outputs": [
    {
     "data": {
      "text/plain": [
       "'addr_test1vzqjr3axkzxu6273arrjcy272cyurzawzd7kd9ncdu995jql3qxe5'"
      ]
     },
     "execution_count": 65,
     "metadata": {},
     "output_type": "execute_result"
    }
   ],
   "source": [
    "PARTY2_ADDRESS"
   ]
  },
  {
   "cell_type": "code",
   "execution_count": 94,
   "id": "27380f42",
   "metadata": {},
   "outputs": [
    {
     "data": {
      "text/html": [
       "<div>\n",
       "<style scoped>\n",
       "    .dataframe tbody tr th:only-of-type {\n",
       "        vertical-align: middle;\n",
       "    }\n",
       "\n",
       "    .dataframe tbody tr th {\n",
       "        vertical-align: top;\n",
       "    }\n",
       "\n",
       "    .dataframe thead th {\n",
       "        text-align: right;\n",
       "    }\n",
       "</style>\n",
       "<table border=\"1\" class=\"dataframe\">\n",
       "  <thead>\n",
       "    <tr style=\"text-align: right;\">\n",
       "      <th></th>\n",
       "      <th>address</th>\n",
       "      <th>TxHash</th>\n",
       "      <th>TxIx</th>\n",
       "      <th>lovelace</th>\n",
       "      <th>TokenPolicyId</th>\n",
       "      <th>TokenNameHex</th>\n",
       "      <th>TokenNameAscii</th>\n",
       "      <th>TokenAmount</th>\n",
       "      <th>datumhash</th>\n",
       "    </tr>\n",
       "  </thead>\n",
       "  <tbody>\n",
       "    <tr>\n",
       "      <th>0</th>\n",
       "      <td>addr_test1vqhrmz3u5sawlys6tfctctqv78c5d8k4x6reac0l992m46cd95fee</td>\n",
       "      <td>ffee2ed84fd6eca8628fc4714518f52f68bbbe9be8b8e427199640b935af68c4</td>\n",
       "      <td>0</td>\n",
       "      <td>246608726</td>\n",
       "      <td>NaN</td>\n",
       "      <td>NaN</td>\n",
       "      <td>None</td>\n",
       "      <td>0</td>\n",
       "      <td>NaN</td>\n",
       "    </tr>\n",
       "    <tr>\n",
       "      <th>1</th>\n",
       "      <td>addr_test1vqhrmz3u5sawlys6tfctctqv78c5d8k4x6reac0l992m46cd95fee</td>\n",
       "      <td>ffee2ed84fd6eca8628fc4714518f52f68bbbe9be8b8e427199640b935af68c4</td>\n",
       "      <td>1</td>\n",
       "      <td>2000000</td>\n",
       "      <td>150ad48b834239dd9a8e74fb7185a3a4be73ba51fdd3da49f6c8036e</td>\n",
       "      <td>506172747931</td>\n",
       "      <td>Party1</td>\n",
       "      <td>1</td>\n",
       "      <td>NaN</td>\n",
       "    </tr>\n",
       "    <tr>\n",
       "      <th>2</th>\n",
       "      <td>addr_test1vrwycxp7gx8gcf2wgzkkpuptrpe55ejlrcyntfc0yz6j75qjal5w7</td>\n",
       "      <td>032f3af51c9fa3e577aeffcaf3c097109d3cfbfd017da4e5853e2f6a161364fa</td>\n",
       "      <td>0</td>\n",
       "      <td>248856931</td>\n",
       "      <td>NaN</td>\n",
       "      <td>NaN</td>\n",
       "      <td>None</td>\n",
       "      <td>0</td>\n",
       "      <td>NaN</td>\n",
       "    </tr>\n",
       "    <tr>\n",
       "      <th>3</th>\n",
       "      <td>addr_test1vrwycxp7gx8gcf2wgzkkpuptrpe55ejlrcyntfc0yz6j75qjal5w7</td>\n",
       "      <td>032f3af51c9fa3e577aeffcaf3c097109d3cfbfd017da4e5853e2f6a161364fa</td>\n",
       "      <td>1</td>\n",
       "      <td>2000000</td>\n",
       "      <td>150ad48b834239dd9a8e74fb7185a3a4be73ba51fdd3da49f6c8036e</td>\n",
       "      <td>506172747932</td>\n",
       "      <td>Party2</td>\n",
       "      <td>1</td>\n",
       "      <td>NaN</td>\n",
       "    </tr>\n",
       "  </tbody>\n",
       "</table>\n",
       "</div>"
      ],
      "text/plain": [
       "                                                           address  \\\n",
       "0  addr_test1vqhrmz3u5sawlys6tfctctqv78c5d8k4x6reac0l992m46cd95fee   \n",
       "1  addr_test1vqhrmz3u5sawlys6tfctctqv78c5d8k4x6reac0l992m46cd95fee   \n",
       "2  addr_test1vrwycxp7gx8gcf2wgzkkpuptrpe55ejlrcyntfc0yz6j75qjal5w7   \n",
       "3  addr_test1vrwycxp7gx8gcf2wgzkkpuptrpe55ejlrcyntfc0yz6j75qjal5w7   \n",
       "\n",
       "                                                             TxHash  TxIx  \\\n",
       "0  ffee2ed84fd6eca8628fc4714518f52f68bbbe9be8b8e427199640b935af68c4     0   \n",
       "1  ffee2ed84fd6eca8628fc4714518f52f68bbbe9be8b8e427199640b935af68c4     1   \n",
       "2  032f3af51c9fa3e577aeffcaf3c097109d3cfbfd017da4e5853e2f6a161364fa     0   \n",
       "3  032f3af51c9fa3e577aeffcaf3c097109d3cfbfd017da4e5853e2f6a161364fa     1   \n",
       "\n",
       "    lovelace                                             TokenPolicyId  \\\n",
       "0  246608726                                                       NaN   \n",
       "1    2000000  150ad48b834239dd9a8e74fb7185a3a4be73ba51fdd3da49f6c8036e   \n",
       "2  248856931                                                       NaN   \n",
       "3    2000000  150ad48b834239dd9a8e74fb7185a3a4be73ba51fdd3da49f6c8036e   \n",
       "\n",
       "   TokenNameHex TokenNameAscii  TokenAmount  datumhash  \n",
       "0           NaN           None            0        NaN  \n",
       "1  506172747931         Party1            1        NaN  \n",
       "2           NaN           None            0        NaN  \n",
       "3  506172747932         Party2            1        NaN  "
      ]
     },
     "execution_count": 94,
     "metadata": {},
     "output_type": "execute_result"
    }
   ],
   "source": [
    "# check wallet1 and wallet2\n",
    "pd.concat([query_df(PARTY1_ADDRESS), query_df(PARTY2_ADDRESS)]).reset_index(drop=True)"
   ]
  },
  {
   "cell_type": "code",
   "execution_count": 518,
   "id": "840c8e43-cd1c-4b36-b94e-703b56c6e799",
   "metadata": {},
   "outputs": [
    {
     "data": {
      "text/html": [
       "<div>\n",
       "<style scoped>\n",
       "    .dataframe tbody tr th:only-of-type {\n",
       "        vertical-align: middle;\n",
       "    }\n",
       "\n",
       "    .dataframe tbody tr th {\n",
       "        vertical-align: top;\n",
       "    }\n",
       "\n",
       "    .dataframe thead th {\n",
       "        text-align: right;\n",
       "    }\n",
       "</style>\n",
       "<table border=\"1\" class=\"dataframe\">\n",
       "  <thead>\n",
       "    <tr style=\"text-align: right;\">\n",
       "      <th></th>\n",
       "      <th>address</th>\n",
       "      <th>TxHash</th>\n",
       "      <th>TxIx</th>\n",
       "      <th>lovelace</th>\n",
       "      <th>TokenPolicyId</th>\n",
       "      <th>TokenNameHex</th>\n",
       "      <th>TokenNameAscii</th>\n",
       "      <th>TokenAmount</th>\n",
       "      <th>datumhash</th>\n",
       "    </tr>\n",
       "  </thead>\n",
       "  <tbody>\n",
       "    <tr>\n",
       "      <th>0</th>\n",
       "      <td>addr_test1vpha99j2s5slc5q26d884rhc3jzuxqex5javsak5enlg8wsel4z2t</td>\n",
       "      <td>7cbef19b7c372a9b2ac2bc376f5564ffb84f291230c92c881a0083f18705dadb</td>\n",
       "      <td>0</td>\n",
       "      <td>490451577</td>\n",
       "      <td>NaN</td>\n",
       "      <td>NaN</td>\n",
       "      <td>None</td>\n",
       "      <td>0</td>\n",
       "      <td>NaN</td>\n",
       "    </tr>\n",
       "    <tr>\n",
       "      <th>1</th>\n",
       "      <td>addr_test1vpha99j2s5slc5q26d884rhc3jzuxqex5javsak5enlg8wsel4z2t</td>\n",
       "      <td>4c7f8ff0c3da6143147f2da4a3fccd30dee8dc4b71c0a74ee272557a1ec2ea17</td>\n",
       "      <td>1</td>\n",
       "      <td>3000000</td>\n",
       "      <td>6f4f37e5c163a2f77935f395434c49bc4de8d1894a3bd80ac239a508</td>\n",
       "      <td>506172747931</td>\n",
       "      <td>Party1</td>\n",
       "      <td>1</td>\n",
       "      <td>NaN</td>\n",
       "    </tr>\n",
       "    <tr>\n",
       "      <th>2</th>\n",
       "      <td>addr_test1vzn7ef2cx8h5y4jvxnn34pn3lzak5t537fx09j7zxdljs3gc5zgw6</td>\n",
       "      <td>4c7f8ff0c3da6143147f2da4a3fccd30dee8dc4b71c0a74ee272557a1ec2ea17</td>\n",
       "      <td>2</td>\n",
       "      <td>3000000</td>\n",
       "      <td>6f4f37e5c163a2f77935f395434c49bc4de8d1894a3bd80ac239a508</td>\n",
       "      <td>506172747932</td>\n",
       "      <td>Party2</td>\n",
       "      <td>1</td>\n",
       "      <td>NaN</td>\n",
       "    </tr>\n",
       "    <tr>\n",
       "      <th>3</th>\n",
       "      <td>addr_test1vzn7ef2cx8h5y4jvxnn34pn3lzak5t537fx09j7zxdljs3gc5zgw6</td>\n",
       "      <td>ed62a729c96269053eef4aa5e4fabf9f6f85b7bb56f49481142ffcbe5f72aa33</td>\n",
       "      <td>3</td>\n",
       "      <td>500000000</td>\n",
       "      <td>NaN</td>\n",
       "      <td>NaN</td>\n",
       "      <td>None</td>\n",
       "      <td>0</td>\n",
       "      <td>NaN</td>\n",
       "    </tr>\n",
       "  </tbody>\n",
       "</table>\n",
       "</div>"
      ],
      "text/plain": [
       "                                                           address  \\\n",
       "0  addr_test1vpha99j2s5slc5q26d884rhc3jzuxqex5javsak5enlg8wsel4z2t   \n",
       "1  addr_test1vpha99j2s5slc5q26d884rhc3jzuxqex5javsak5enlg8wsel4z2t   \n",
       "2  addr_test1vzn7ef2cx8h5y4jvxnn34pn3lzak5t537fx09j7zxdljs3gc5zgw6   \n",
       "3  addr_test1vzn7ef2cx8h5y4jvxnn34pn3lzak5t537fx09j7zxdljs3gc5zgw6   \n",
       "\n",
       "                                                             TxHash  TxIx  \\\n",
       "0  7cbef19b7c372a9b2ac2bc376f5564ffb84f291230c92c881a0083f18705dadb     0   \n",
       "1  4c7f8ff0c3da6143147f2da4a3fccd30dee8dc4b71c0a74ee272557a1ec2ea17     1   \n",
       "2  4c7f8ff0c3da6143147f2da4a3fccd30dee8dc4b71c0a74ee272557a1ec2ea17     2   \n",
       "3  ed62a729c96269053eef4aa5e4fabf9f6f85b7bb56f49481142ffcbe5f72aa33     3   \n",
       "\n",
       "    lovelace                                             TokenPolicyId  \\\n",
       "0  490451577                                                       NaN   \n",
       "1    3000000  6f4f37e5c163a2f77935f395434c49bc4de8d1894a3bd80ac239a508   \n",
       "2    3000000  6f4f37e5c163a2f77935f395434c49bc4de8d1894a3bd80ac239a508   \n",
       "3  500000000                                                       NaN   \n",
       "\n",
       "   TokenNameHex TokenNameAscii  TokenAmount  datumhash  \n",
       "0           NaN           None            0        NaN  \n",
       "1  506172747931         Party1            1        NaN  \n",
       "2  506172747932         Party2            1        NaN  \n",
       "3           NaN           None            0        NaN  "
      ]
     },
     "execution_count": 518,
     "metadata": {},
     "output_type": "execute_result"
    }
   ],
   "source": [
    "# # check wallet1 and wallet2\n",
    "# pd.concat([query_df(PARTY1_ADDRESS), query_df(PARTY2_ADDRESS)]).reset_index(drop=True)"
   ]
  },
  {
   "cell_type": "markdown",
   "id": "b1da578a",
   "metadata": {},
   "source": [
    "## Tokens"
   ]
  },
  {
   "cell_type": "markdown",
   "id": "07beb423",
   "metadata": {},
   "source": [
    "### minting\n",
    "We chose to mint 2 tokens using wallet 1, one for each role.  \n",
    "We pay a fee for minting these tokens from this wallet.  \n",
    "One can argue to mint on any wallet and distribute.  "
   ]
  },
  {
   "cell_type": "markdown",
   "id": "ce5eb722-22ea-4b52-8e1e-af7011f17edd",
   "metadata": {},
   "source": [
    "```text\n",
    "marlowe-cli util mint:\n",
    "\n",
    "  --testnet-magic INTEGER        Network magic\n",
    "  --socket-path SOCKET_FILE      Location of the cardano-node socket file\n",
    "  --required-signer SIGNING_FILE File containing a required signing key\n",
    "  --metadata-file JSON_FILE      The CIP-25 metadata, with keys for each token name\n",
    "  --count INTEGER                The number of each token to mint\n",
    "  --expires SLOT_NO              The slot number after which miniting is no longer possible\n",
    "  --lovelace LOVELACE            The lovelace to send with each bundle of tokens\n",
    "  --change-address ADDRESS       Address to receive ADA in excess of fee\n",
    "  --out-file FILE                Output file for transaction body\n",
    "  --submit SECONDS               Also submit the transaction, and wait for confirmation\n",
    "  TOKEN_NAME                     The name of the token\n",
    "```"
   ]
  },
  {
   "cell_type": "code",
   "execution_count": 66,
   "id": "bb2e0e4c",
   "metadata": {},
   "outputs": [
    {
     "data": {
      "text/plain": [
       "'/home/ubuntu/cardano/marlowe-cli'"
      ]
     },
     "execution_count": 66,
     "metadata": {},
     "output_type": "execute_result"
    }
   ],
   "source": [
    "marloweCLI"
   ]
  },
  {
   "cell_type": "code",
   "execution_count": 67,
   "id": "f07f6635",
   "metadata": {},
   "outputs": [
    {
     "data": {
      "text/plain": [
       "'2'"
      ]
     },
     "execution_count": 67,
     "metadata": {},
     "output_type": "execute_result"
    }
   ],
   "source": [
    "MAGIC"
   ]
  },
  {
   "cell_type": "code",
   "execution_count": 68,
   "id": "0e2e4a2d",
   "metadata": {},
   "outputs": [
    {
     "data": {
      "text/plain": [
       "'/tmp/node.socket'"
      ]
     },
     "execution_count": 68,
     "metadata": {},
     "output_type": "execute_result"
    }
   ],
   "source": [
    "SOCKET"
   ]
  },
  {
   "cell_type": "code",
   "execution_count": 69,
   "id": "a342a8c0",
   "metadata": {},
   "outputs": [
    {
     "data": {
      "text/plain": [
       "'wallet1.skey'"
      ]
     },
     "execution_count": 69,
     "metadata": {},
     "output_type": "execute_result"
    }
   ],
   "source": [
    "PARTY1_SKEYFILE"
   ]
  },
  {
   "cell_type": "code",
   "execution_count": 70,
   "id": "4f96e696",
   "metadata": {},
   "outputs": [
    {
     "data": {
      "text/plain": [
       "'addr_test1vr4gmk46x82e49cfr2hmn9xtc3ftwjmtdjg9n79wdx4nx7c3j7av2'"
      ]
     },
     "execution_count": 70,
     "metadata": {},
     "output_type": "execute_result"
    }
   ],
   "source": [
    "PARTY1_ADDRESS"
   ]
  },
  {
   "cell_type": "code",
   "execution_count": 71,
   "id": "b0de59a9",
   "metadata": {},
   "outputs": [
    {
     "data": {
      "text/plain": [
       "'addr_test1vzqjr3axkzxu6273arrjcy272cyurzawzd7kd9ncdu995jql3qxe5'"
      ]
     },
     "execution_count": 71,
     "metadata": {},
     "output_type": "execute_result"
    }
   ],
   "source": [
    "PARTY2_ADDRESS"
   ]
  },
  {
   "cell_type": "code",
   "execution_count": 72,
   "id": "5935950c",
   "metadata": {},
   "outputs": [
    {
     "data": {
      "text/plain": [
       "'addr_test1vr4gmk46x82e49cfr2hmn9xtc3ftwjmtdjg9n79wdx4nx7c3j7av2:wallet1.skey'"
      ]
     },
     "execution_count": 72,
     "metadata": {},
     "output_type": "execute_result"
    }
   ],
   "source": [
    "PARTY1_ADDRESS+\":\"+PARTY1_SKEYFILE"
   ]
  },
  {
   "cell_type": "code",
   "execution_count": 73,
   "id": "ac035e44",
   "metadata": {},
   "outputs": [
    {
     "data": {
      "text/plain": [
       "'/home/ubuntu/notebooks/cardano-contracts-cookbook/code/notebooks'"
      ]
     },
     "execution_count": 73,
     "metadata": {},
     "output_type": "execute_result"
    }
   ],
   "source": [
    "pwd"
   ]
  },
  {
   "cell_type": "code",
   "execution_count": 74,
   "id": "a94e0420",
   "metadata": {},
   "outputs": [
    {
     "data": {
      "text/plain": [
       "'Party1'"
      ]
     },
     "execution_count": 74,
     "metadata": {},
     "output_type": "execute_result"
    }
   ],
   "source": [
    "PARTY1_TOKENASSETNAME"
   ]
  },
  {
   "cell_type": "code",
   "execution_count": 75,
   "id": "bc447aac",
   "metadata": {},
   "outputs": [
    {
     "data": {
      "text/plain": [
       "'Party2'"
      ]
     },
     "execution_count": 75,
     "metadata": {},
     "output_type": "execute_result"
    }
   ],
   "source": [
    "PARTY2_TOKENASSETNAME"
   ]
  },
  {
   "cell_type": "code",
   "execution_count": 43,
   "id": "74bd4b52",
   "metadata": {},
   "outputs": [
    {
     "name": "stdout",
     "output_type": "stream",
     "text": [
      "PolicyID \"82335d282571a0381620ee04a969bcb44d45162ca44e08a8cb5134e0\"\n",
      "\n",
      "\n",
      "Fee: Lovelace 178613\n",
      "Size: 336 / 16384 = 2%\n",
      "Execution units:\n",
      "  Memory: 0 / 14000000 = 0%\n",
      "  Steps: 0 / 10000000000 = 0%\n",
      "\n"
     ]
    }
   ],
   "source": [
    "cmd = [marloweCLI, \"util\", \"mint\", \n",
    "       \"--testnet-magic\", MAGIC,             # '1567'\n",
    "       \"--socket-path\", SOCKET,              # '/tmp/node.socket'\n",
    "       \"--issuer\", PARTY1_ADDRESS+\":\"+PARTY1_SKEYFILE, # 'wallet1.skey'\n",
    "#        \"--change-address\", PARTY1_ADDRESS,   # 'addr_test1vppqe9wxg73zfll8yj2v3xg44k8pgnl0k4899pv3r3r2h2qlgsg4t'\n",
    "       \"--out-file\", \"mint.raw\",\n",
    "       \"--submit\", str(600),\n",
    "       PARTY1_TOKENASSETNAME+\":\"+PARTY1_ADDRESS,\n",
    "       PARTY2_TOKENASSETNAME+\":\"+PARTY2_ADDRESS]   # 'Party1', 'Party2', do not use quotes \"PARTY1_TOKENASSETNAME\"\n",
    "result = subprocess.run(cmd, capture_output=True, text=True)\n",
    "print(result.stdout)\n",
    "print(result.stderr)"
   ]
  },
  {
   "cell_type": "code",
   "execution_count": 40,
   "id": "d8333439",
   "metadata": {},
   "outputs": [
    {
     "name": "stdout",
     "output_type": "stream",
     "text": [
      "PolicyID \"bccf65309eebf2c982c2a75fe7a0b61ff5f06c6fb5baacaa9d34804f\"\n",
      "\n",
      "\n",
      "Fee: Lovelace 178613\n",
      "Size: 336 / 16384 = 2%\n",
      "Execution units:\n",
      "  Memory: 0 / 14000000 = 0%\n",
      "  Steps: 0 / 10000000000 = 0%\n",
      "\n"
     ]
    }
   ],
   "source": [
    "# cmd = [marloweCLI, \"util\", \"mint\", \n",
    "#        \"--testnet-magic\", MAGIC,             # '1567'\n",
    "#        \"--socket-path\", SOCKET,              # '/tmp/node.socket'\n",
    "#        \"--issuer\", PARTY1_ADDRESS+\":\"+PARTY1_SKEYFILE, # 'wallet1.skey'\n",
    "# #        \"--change-address\", PARTY1_ADDRESS,   # 'addr_test1vppqe9wxg73zfll8yj2v3xg44k8pgnl0k4899pv3r3r2h2qlgsg4t'\n",
    "#        \"--out-file\", \"mint.raw\",\n",
    "#        \"--submit\", str(600),\n",
    "#        PARTY1_TOKENASSETNAME+\":\"+PARTY1_ADDRESS,\n",
    "#        PARTY2_TOKENASSETNAME+\":\"+PARTY2_ADDRESS]   # 'Party1', 'Party2', do not use quotes \"PARTY1_TOKENASSETNAME\"\n",
    "# result = subprocess.run(cmd, capture_output=True, text=True)\n",
    "# print(result.stdout)\n",
    "# print(result.stderr)"
   ]
  },
  {
   "cell_type": "code",
   "execution_count": 67,
   "id": "c16f782a",
   "metadata": {},
   "outputs": [
    {
     "name": "stdout",
     "output_type": "stream",
     "text": [
      "\n",
      "Expecting token name and recipient address in the following format: TOKENNAME:ADDRESS\n",
      "\n",
      "Usage: marlowe-cli util mint --testnet-magic INTEGER [--socket-path SOCKET_FILE]\n",
      "                             --issuer ADDRESS:SIGNING_FILE \n",
      "                             [(--token-provider ADDRESS:SIGNING_FILE)] \n",
      "                             [--metadata-file JSON_FILE] [--count INTEGER] \n",
      "                             [--expires SLOT_NO] --out-file FILE \n",
      "                             [--submit SECONDS] TOKEN_NAME:ADDRESS\n",
      "\n",
      "  Mint native tokens.\n",
      "\n"
     ]
    }
   ],
   "source": [
    "# cmd = [marloweCLI, \"util\", \"mint\", \n",
    "#        \"--testnet-magic\", MAGIC,             # '1567'\n",
    "#        \"--socket-path\", SOCKET,              # '/tmp/node.socket'\n",
    "#        \"--issuer\", PARTY1_ADDRESS+\":\"+PARTY1_SKEYFILE, # 'wallet1.skey'\n",
    "# #        \"--change-address\", PARTY1_ADDRESS,   # 'addr_test1vppqe9wxg73zfll8yj2v3xg44k8pgnl0k4899pv3r3r2h2qlgsg4t'\n",
    "#        \"--out-file\", \"mint.raw\",\n",
    "#        \"--submit\", str(600),\n",
    "#        PARTY1_TOKENASSETNAME+\":\"+PARTY1_ADDRESS,\n",
    "#        PARTY2_TOKENASSETNAME+\":\"+PARTY2_ADDRESS]   # 'Party1', 'Party2', do not use quotes \"PARTY1_TOKENASSETNAME\"\n",
    "# result = subprocess.run(cmd, capture_output=True, text=True)\n",
    "# print(result.stdout)\n",
    "# print(result.stderr)"
   ]
  },
  {
   "cell_type": "code",
   "execution_count": null,
   "id": "33f9b4eb",
   "metadata": {},
   "outputs": [],
   "source": [
    "# marlowe-cli util mint --testnet-magic 2 --socket-path /tmp/node.socket --issuer addr_test1vr6a2sahjkcvsjsyycnxwpl6gvedr3kwdpyx9qg5r59zqxc78qws9:/home/ubuntu/notebooks/cardano-contracts-cookbook/code/notebooks/wallet1.skey --out-file mint.raw --submit 600 Party1:addr_test1vr6a2sahjkcvsjsyycnxwpl6gvedr3kwdpyx9qg5r59zqxc78qws9 Party2:addr_test1vz0s4g2hemdggqtfa2qnlnscpq4xhtrnujqjtj4k748v9ts4jj5hd\n",
    "            \n",
    "# Fee: Lovelace 178789\n",
    "# Size: 340 / 16384 = 2%\n",
    "# Execution units:\n",
    "#   Memory: 0 / 14000000 = 0%\n",
    "#   Steps: 0 / 10000000000 = 0%\n",
    "# PolicyID \"6939fd126ef37f54cd0289af07fb029e885598c70a2877cd22e54d06\""
   ]
  },
  {
   "cell_type": "code",
   "execution_count": 41,
   "id": "efef7640",
   "metadata": {},
   "outputs": [
    {
     "name": "stdout",
     "output_type": "stream",
     "text": [
      "PolicyID \"6f4f37e5c163a2f77935f395434c49bc4de8d1894a3bd80ac239a508\"\n",
      "\n",
      "\n"
     ]
    }
   ],
   "source": [
    "# cmd = [marloweCLI, \"util\", \"mint\", \n",
    "#        \"--testnet-magic\", MAGIC,             # '1567'\n",
    "#        \"--socket-path\", SOCKET,              # '/tmp/node.socket'\n",
    "#        \"--required-signer\", PARTY1_SKEYFILE, # 'wallet1.skey'\n",
    "#        \"--change-address\", PARTY1_ADDRESS,   # 'addr_test1vppqe9wxg73zfll8yj2v3xg44k8pgnl0k4899pv3r3r2h2qlgsg4t'\n",
    "#        \"--out-file\", \"mint.raw\",\n",
    "#        \"--submit\", str(600),\n",
    "#        PARTY1_TOKENASSETNAME, PARTY2_TOKENASSETNAME]   # 'Party1', 'Party2', do not use quotes \"PARTY1_TOKENASSETNAME\"\n",
    "# result = subprocess.run(cmd, capture_output=True, text=True)\n",
    "# print(result.stdout)\n",
    "# print(result.stderr)"
   ]
  },
  {
   "cell_type": "code",
   "execution_count": 73,
   "id": "4b24bb41",
   "metadata": {},
   "outputs": [],
   "source": [
    "# TOKEN_POLICY_ID = \"6939fd126ef37f54cd0289af07fb029e885598c70a2877cd22e54d06\""
   ]
  },
  {
   "cell_type": "code",
   "execution_count": 44,
   "id": "495c19c9",
   "metadata": {},
   "outputs": [
    {
     "data": {
      "text/plain": [
       "'82335d282571a0381620ee04a969bcb44d45162ca44e08a8cb5134e0'"
      ]
     },
     "execution_count": 44,
     "metadata": {},
     "output_type": "execute_result"
    }
   ],
   "source": [
    "# The policy ID will be used for the Marlowe roles currency.  \n",
    "# Save this minted token Policy ID variable.  \n",
    "TOKEN_POLICY_ID = result.stdout.split('\"')[1]  \n",
    "TOKEN_POLICY_ID"
   ]
  },
  {
   "cell_type": "code",
   "execution_count": 45,
   "id": "ac76c622",
   "metadata": {},
   "outputs": [
    {
     "data": {
      "text/html": [
       "<div>\n",
       "<style scoped>\n",
       "    .dataframe tbody tr th:only-of-type {\n",
       "        vertical-align: middle;\n",
       "    }\n",
       "\n",
       "    .dataframe tbody tr th {\n",
       "        vertical-align: top;\n",
       "    }\n",
       "\n",
       "    .dataframe thead th {\n",
       "        text-align: right;\n",
       "    }\n",
       "</style>\n",
       "<table border=\"1\" class=\"dataframe\">\n",
       "  <thead>\n",
       "    <tr style=\"text-align: right;\">\n",
       "      <th></th>\n",
       "      <th>address</th>\n",
       "      <th>TxHash</th>\n",
       "      <th>TxIx</th>\n",
       "      <th>lovelace</th>\n",
       "      <th>TokenPolicyId</th>\n",
       "      <th>TokenNameHex</th>\n",
       "      <th>TokenNameAscii</th>\n",
       "      <th>TokenAmount</th>\n",
       "      <th>datumhash</th>\n",
       "    </tr>\n",
       "  </thead>\n",
       "  <tbody>\n",
       "    <tr>\n",
       "      <th>0</th>\n",
       "      <td>addr_test1vpec6ur80es2rkkr7j9vg2ge7zjjjnnrdhdnctts66mmw0s6tfk7e</td>\n",
       "      <td>72ca915acae588a624c0b8705de00e1d85d1438260443976f0d9c33a8ad5c840</td>\n",
       "      <td>0</td>\n",
       "      <td>1047752587</td>\n",
       "      <td>NaN</td>\n",
       "      <td>NaN</td>\n",
       "      <td>None</td>\n",
       "      <td>0</td>\n",
       "      <td>NaN</td>\n",
       "    </tr>\n",
       "    <tr>\n",
       "      <th>1</th>\n",
       "      <td>addr_test1vpec6ur80es2rkkr7j9vg2ge7zjjjnnrdhdnctts66mmw0s6tfk7e</td>\n",
       "      <td>72ca915acae588a624c0b8705de00e1d85d1438260443976f0d9c33a8ad5c840</td>\n",
       "      <td>1</td>\n",
       "      <td>1034400</td>\n",
       "      <td>82335d282571a0381620ee04a969bcb44d45162ca44e08a8cb5134e0</td>\n",
       "      <td>506172747931</td>\n",
       "      <td>Party1</td>\n",
       "      <td>1</td>\n",
       "      <td>NaN</td>\n",
       "    </tr>\n",
       "    <tr>\n",
       "      <th>2</th>\n",
       "      <td>addr_test1vpec6ur80es2rkkr7j9vg2ge7zjjjnnrdhdnctts66mmw0s6tfk7e</td>\n",
       "      <td>72ca915acae588a624c0b8705de00e1d85d1438260443976f0d9c33a8ad5c840</td>\n",
       "      <td>2</td>\n",
       "      <td>1034400</td>\n",
       "      <td>82335d282571a0381620ee04a969bcb44d45162ca44e08a8cb5134e0</td>\n",
       "      <td>506172747932</td>\n",
       "      <td>Party2</td>\n",
       "      <td>1</td>\n",
       "      <td>NaN</td>\n",
       "    </tr>\n",
       "    <tr>\n",
       "      <th>3</th>\n",
       "      <td>addr_test1vpka6uspkmw89l68vrq8l62d4yk5a43xx4ryrfqyxqdqcyczt8y0e</td>\n",
       "      <td>NaN</td>\n",
       "      <td>0</td>\n",
       "      <td>0</td>\n",
       "      <td>NaN</td>\n",
       "      <td>NaN</td>\n",
       "      <td>NaN</td>\n",
       "      <td>0</td>\n",
       "      <td>NaN</td>\n",
       "    </tr>\n",
       "  </tbody>\n",
       "</table>\n",
       "</div>"
      ],
      "text/plain": [
       "                                                           address  \\\n",
       "0  addr_test1vpec6ur80es2rkkr7j9vg2ge7zjjjnnrdhdnctts66mmw0s6tfk7e   \n",
       "1  addr_test1vpec6ur80es2rkkr7j9vg2ge7zjjjnnrdhdnctts66mmw0s6tfk7e   \n",
       "2  addr_test1vpec6ur80es2rkkr7j9vg2ge7zjjjnnrdhdnctts66mmw0s6tfk7e   \n",
       "3  addr_test1vpka6uspkmw89l68vrq8l62d4yk5a43xx4ryrfqyxqdqcyczt8y0e   \n",
       "\n",
       "                                                             TxHash  TxIx  \\\n",
       "0  72ca915acae588a624c0b8705de00e1d85d1438260443976f0d9c33a8ad5c840     0   \n",
       "1  72ca915acae588a624c0b8705de00e1d85d1438260443976f0d9c33a8ad5c840     1   \n",
       "2  72ca915acae588a624c0b8705de00e1d85d1438260443976f0d9c33a8ad5c840     2   \n",
       "3                                                               NaN     0   \n",
       "\n",
       "     lovelace                                             TokenPolicyId  \\\n",
       "0  1047752587                                                       NaN   \n",
       "1     1034400  82335d282571a0381620ee04a969bcb44d45162ca44e08a8cb5134e0   \n",
       "2     1034400  82335d282571a0381620ee04a969bcb44d45162ca44e08a8cb5134e0   \n",
       "3           0                                                       NaN   \n",
       "\n",
       "   TokenNameHex TokenNameAscii  TokenAmount  datumhash  \n",
       "0           NaN           None            0        NaN  \n",
       "1  506172747931         Party1            1        NaN  \n",
       "2  506172747932         Party2            1        NaN  \n",
       "3           NaN            NaN            0        NaN  "
      ]
     },
     "execution_count": 45,
     "metadata": {},
     "output_type": "execute_result"
    }
   ],
   "source": [
    "# check wallet1 and wallet2\n",
    "pd.concat([query_df(PARTY1_ADDRESS), query_df(PARTY2_ADDRESS)]).reset_index(drop=True)"
   ]
  },
  {
   "cell_type": "code",
   "execution_count": 519,
   "id": "e38760d8",
   "metadata": {},
   "outputs": [
    {
     "data": {
      "text/html": [
       "<div>\n",
       "<style scoped>\n",
       "    .dataframe tbody tr th:only-of-type {\n",
       "        vertical-align: middle;\n",
       "    }\n",
       "\n",
       "    .dataframe tbody tr th {\n",
       "        vertical-align: top;\n",
       "    }\n",
       "\n",
       "    .dataframe thead th {\n",
       "        text-align: right;\n",
       "    }\n",
       "</style>\n",
       "<table border=\"1\" class=\"dataframe\">\n",
       "  <thead>\n",
       "    <tr style=\"text-align: right;\">\n",
       "      <th></th>\n",
       "      <th>address</th>\n",
       "      <th>TxHash</th>\n",
       "      <th>TxIx</th>\n",
       "      <th>lovelace</th>\n",
       "      <th>TokenPolicyId</th>\n",
       "      <th>TokenNameHex</th>\n",
       "      <th>TokenNameAscii</th>\n",
       "      <th>TokenAmount</th>\n",
       "      <th>datumhash</th>\n",
       "    </tr>\n",
       "  </thead>\n",
       "  <tbody>\n",
       "    <tr>\n",
       "      <th>0</th>\n",
       "      <td>addr_test1vpha99j2s5slc5q26d884rhc3jzuxqex5javsak5enlg8wsel4z2t</td>\n",
       "      <td>7cbef19b7c372a9b2ac2bc376f5564ffb84f291230c92c881a0083f18705dadb</td>\n",
       "      <td>0</td>\n",
       "      <td>490451577</td>\n",
       "      <td>NaN</td>\n",
       "      <td>NaN</td>\n",
       "      <td>None</td>\n",
       "      <td>0</td>\n",
       "      <td>NaN</td>\n",
       "    </tr>\n",
       "    <tr>\n",
       "      <th>1</th>\n",
       "      <td>addr_test1vpha99j2s5slc5q26d884rhc3jzuxqex5javsak5enlg8wsel4z2t</td>\n",
       "      <td>4c7f8ff0c3da6143147f2da4a3fccd30dee8dc4b71c0a74ee272557a1ec2ea17</td>\n",
       "      <td>1</td>\n",
       "      <td>3000000</td>\n",
       "      <td>6f4f37e5c163a2f77935f395434c49bc4de8d1894a3bd80ac239a508</td>\n",
       "      <td>506172747931</td>\n",
       "      <td>Party1</td>\n",
       "      <td>1</td>\n",
       "      <td>NaN</td>\n",
       "    </tr>\n",
       "    <tr>\n",
       "      <th>2</th>\n",
       "      <td>addr_test1vzn7ef2cx8h5y4jvxnn34pn3lzak5t537fx09j7zxdljs3gc5zgw6</td>\n",
       "      <td>4c7f8ff0c3da6143147f2da4a3fccd30dee8dc4b71c0a74ee272557a1ec2ea17</td>\n",
       "      <td>2</td>\n",
       "      <td>3000000</td>\n",
       "      <td>6f4f37e5c163a2f77935f395434c49bc4de8d1894a3bd80ac239a508</td>\n",
       "      <td>506172747932</td>\n",
       "      <td>Party2</td>\n",
       "      <td>1</td>\n",
       "      <td>NaN</td>\n",
       "    </tr>\n",
       "    <tr>\n",
       "      <th>3</th>\n",
       "      <td>addr_test1vzn7ef2cx8h5y4jvxnn34pn3lzak5t537fx09j7zxdljs3gc5zgw6</td>\n",
       "      <td>ed62a729c96269053eef4aa5e4fabf9f6f85b7bb56f49481142ffcbe5f72aa33</td>\n",
       "      <td>3</td>\n",
       "      <td>500000000</td>\n",
       "      <td>NaN</td>\n",
       "      <td>NaN</td>\n",
       "      <td>None</td>\n",
       "      <td>0</td>\n",
       "      <td>NaN</td>\n",
       "    </tr>\n",
       "  </tbody>\n",
       "</table>\n",
       "</div>"
      ],
      "text/plain": [
       "                                                           address  \\\n",
       "0  addr_test1vpha99j2s5slc5q26d884rhc3jzuxqex5javsak5enlg8wsel4z2t   \n",
       "1  addr_test1vpha99j2s5slc5q26d884rhc3jzuxqex5javsak5enlg8wsel4z2t   \n",
       "2  addr_test1vzn7ef2cx8h5y4jvxnn34pn3lzak5t537fx09j7zxdljs3gc5zgw6   \n",
       "3  addr_test1vzn7ef2cx8h5y4jvxnn34pn3lzak5t537fx09j7zxdljs3gc5zgw6   \n",
       "\n",
       "                                                             TxHash  TxIx  \\\n",
       "0  7cbef19b7c372a9b2ac2bc376f5564ffb84f291230c92c881a0083f18705dadb     0   \n",
       "1  4c7f8ff0c3da6143147f2da4a3fccd30dee8dc4b71c0a74ee272557a1ec2ea17     1   \n",
       "2  4c7f8ff0c3da6143147f2da4a3fccd30dee8dc4b71c0a74ee272557a1ec2ea17     2   \n",
       "3  ed62a729c96269053eef4aa5e4fabf9f6f85b7bb56f49481142ffcbe5f72aa33     3   \n",
       "\n",
       "    lovelace                                             TokenPolicyId  \\\n",
       "0  490451577                                                       NaN   \n",
       "1    3000000  6f4f37e5c163a2f77935f395434c49bc4de8d1894a3bd80ac239a508   \n",
       "2    3000000  6f4f37e5c163a2f77935f395434c49bc4de8d1894a3bd80ac239a508   \n",
       "3  500000000                                                       NaN   \n",
       "\n",
       "   TokenNameHex TokenNameAscii  TokenAmount  datumhash  \n",
       "0           NaN           None            0        NaN  \n",
       "1  506172747931         Party1            1        NaN  \n",
       "2  506172747932         Party2            1        NaN  \n",
       "3           NaN           None            0        NaN  "
      ]
     },
     "execution_count": 519,
     "metadata": {},
     "output_type": "execute_result"
    }
   ],
   "source": [
    "# # check wallet1 and wallet2\n",
    "# pd.concat([query_df(PARTY1_ADDRESS), query_df(PARTY2_ADDRESS)]).reset_index(drop=True)"
   ]
  },
  {
   "cell_type": "code",
   "execution_count": 46,
   "id": "3f6cc22f",
   "metadata": {},
   "outputs": [],
   "source": [
    "TX0_IN = \"72ca915acae588a624c0b8705de00e1d85d1438260443976f0d9c33a8ad5c840\""
   ]
  },
  {
   "cell_type": "code",
   "execution_count": 44,
   "id": "7940b67c",
   "metadata": {},
   "outputs": [],
   "source": [
    "# TX0_IN = \"e595b9fc55e0df7f8e0b8522628b8150e37cf249b4265e651e089cbf150ef3ea\""
   ]
  },
  {
   "cell_type": "markdown",
   "id": "d4643684-0662-4c9d-8e3e-9276f5b88ce1",
   "metadata": {},
   "source": [
    "### distribute\n",
    "send the two tokens created with wallet 1 out to each participant in one transaction.  \n",
    "wallet 1 must receive 'Party1' token and some minimum currency (3 tADA),  \n",
    "wallet 2 must receive 'Party2' token and some minimum currency (3 tADA).  \n",
    "\n",
    "Alternatively, one can distribute the tokens using any wallet software like Daedalus as well."
   ]
  },
  {
   "cell_type": "markdown",
   "id": "a950ea1c-8992-420d-b358-88bdd76588ad",
   "metadata": {},
   "source": [
    "```text\n",
    "marlowe-cli transaction simple:\n",
    "\n",
    "  --testnet-magic INTEGER         Network magic\n",
    "  --socket-path SOCKET_FILE       Location of the cardano-node socket file\n",
    "  --required-signer SIGNING_FILE  File containing a required signing key\n",
    "  --tx-in TXID#TXIX               Transaction input in TxId#TxIx format\n",
    "  --tx-out ADDRESS+VALUE          Transaction output in ADDRESS+VALUE format\n",
    "  --change-address                ADDRESS Address to receive ADA in excess of fee\n",
    "  --metadata-file METADATA_FILE   JSON file containing metadata\n",
    "  --out-file FILE                 Output file for transaction body\n",
    "  --submit SECONDS                Also submit the transaction, and wait for confirmation\n",
    "  --print-stats                   Print statistics\n",
    "  --script-invalid                Assert that the transaction is invalid\n",
    "```"
   ]
  },
  {
   "cell_type": "code",
   "execution_count": 47,
   "id": "f6080981",
   "metadata": {},
   "outputs": [
    {
     "data": {
      "text/plain": [
       "3000000"
      ]
     },
     "execution_count": 47,
     "metadata": {},
     "output_type": "execute_result"
    }
   ],
   "source": [
    "MINIMUM_ADA"
   ]
  },
  {
   "cell_type": "code",
   "execution_count": 48,
   "id": "b920ed82",
   "metadata": {},
   "outputs": [
    {
     "data": {
      "text/plain": [
       "'72ca915acae588a624c0b8705de00e1d85d1438260443976f0d9c33a8ad5c840'"
      ]
     },
     "execution_count": 48,
     "metadata": {},
     "output_type": "execute_result"
    }
   ],
   "source": [
    "TX0_IN"
   ]
  },
  {
   "cell_type": "code",
   "execution_count": 49,
   "id": "6d582094",
   "metadata": {},
   "outputs": [
    {
     "data": {
      "text/plain": [
       "'addr_test1vpec6ur80es2rkkr7j9vg2ge7zjjjnnrdhdnctts66mmw0s6tfk7e+3000000+1 82335d282571a0381620ee04a969bcb44d45162ca44e08a8cb5134e0.Party1'"
      ]
     },
     "execution_count": 49,
     "metadata": {},
     "output_type": "execute_result"
    }
   ],
   "source": [
    "PARTY1_ADDRESS+\"+\"+str(MINIMUM_ADA)+\"+\"+str(1)+\" \"+TOKEN_POLICY_ID+\".\"+PARTY1_TOKENASSETNAME"
   ]
  },
  {
   "cell_type": "code",
   "execution_count": 50,
   "id": "ade2836f",
   "metadata": {},
   "outputs": [
    {
     "data": {
      "text/plain": [
       "'addr_test1vpka6uspkmw89l68vrq8l62d4yk5a43xx4ryrfqyxqdqcyczt8y0e+3000000+1 82335d282571a0381620ee04a969bcb44d45162ca44e08a8cb5134e0.Party2'"
      ]
     },
     "execution_count": 50,
     "metadata": {},
     "output_type": "execute_result"
    }
   ],
   "source": [
    "PARTY2_ADDRESS+\"+\"+str(MINIMUM_ADA)+\"+\"+str(1)+\" \"+TOKEN_POLICY_ID+\".\"+PARTY2_TOKENASSETNAME"
   ]
  },
  {
   "cell_type": "code",
   "execution_count": null,
   "id": "e95bc411",
   "metadata": {},
   "outputs": [],
   "source": [
    "hier ontbreekt in feite een wallet2.skey --required-signer moet er mogelijks nog eens staan...  \n",
    "dit komt omdat de 2e token hier uitzonderlijk al op het 2e adres staat !\n",
    "\n",
    "marlowe-cli transaction simple --help\n",
    "Usage: marlowe-cli util mint --testnet-magic INTEGER [--socket-path SOCKET_FILE]  \n",
    "                             --issuer ADDRESS:SIGNING_FILE  \n",
    "                             [(--token-provider ADDRESS:SIGNING_FILE)]  \n",
    "                             [--metadata-file JSON_FILE] [--count INTEGER]  \n",
    "                             [--expires SLOT_NO] --out-file FILE  \n",
    "                             [--submit SECONDS] TOKEN_NAME:ADDRESS  \n",
    "\n",
    "bij --testnet-magic is het verplicht\n",
    "bij [--socket-path SOCKET_FILE] rechte [ ] bedoelen ze optioneel maar max 1 \n",
    "bij (--required-signer SIGNING_FILE) met ( ) bedoelen ze optioneel maar min 1 of meer\n",
    "\n",
    "ik heb het hieronder aangepast maar nog niet getest, misschien beter bovenaan de tokens nog niet verdelen ?\n",
    "we hebben ze bovenaan al wel verdeeld... maar er is dus nog te weinig ADA in elke wallet (opgelet in lovelace !)\n",
    "misschien moeten we eerst de faucet doen en dan een transfer, ik vind deze complexe methode om in 1 keer ADA en tokens te verdelen wel cool !"
   ]
  },
  {
   "cell_type": "code",
   "execution_count": 51,
   "id": "1f6aff21",
   "metadata": {},
   "outputs": [
    {
     "name": "stdout",
     "output_type": "stream",
     "text": [
      "TxId \"59ee1d14470afa51d6d7d3aebb29f0dfde74e4458a7704518189755d82a8ea49\"\n",
      "\n",
      "\n"
     ]
    }
   ],
   "source": [
    "# distribute the tokens that were minted on wallet1 around all wallets.\n",
    "\n",
    "cmd = [marloweCLI, \"transaction\", \"simple\",  # Build a non-Marlowe transaction\n",
    "       \"--testnet-magic\", MAGIC,             # '1567'\n",
    "       \"--socket-path\", SOCKET,              # '/tmp/node.socket'\n",
    "       \"--required-signer\", PARTY1_SKEYFILE, # 'wallet1.skey'\n",
    "       \"--change-address\", PARTY1_ADDRESS,   # 'addr_test1vppqe9wxg73zfll8yj2v3xg44k8pgnl0k4899pv3r3r2h2qlgsg4t'\n",
    "       \"--tx-in\", TX0_IN+\"#0\",               # 'ddba65eeff7e4b3e0a85001a1316be04e60b739f239c05e4c0d206c7694b8d06#0'\n",
    "       \"--tx-in\", TX0_IN+\"#1\",               # 'ddba65eeff7e4b3e0a85001a1316be04e60b739f239c05e4c0d206c7694b8d06#1'\n",
    "       \"--tx-in\", TX0_IN+\"#2\",               # 'ddba65eeff7e4b3e0a85001a1316be04e60b739f239c05e4c0d206c7694b8d06#2'\n",
    "       \"--tx-out\", PARTY1_ADDRESS+\"+\"+str(MINIMUM_ADA)+\"+\"+str(1)+\" \"+TOKEN_POLICY_ID+\".\"+PARTY1_TOKENASSETNAME,\n",
    "       # 'addr_test1vppqe9wxg73zfll8yj2v3xg44k8pgnl0k4899pv3r3r2h2qlgsg4t+3000000+1 0b8ffef9a24d8dcdcd7618d74df4753aff6b6b7787b88ac69b4d7e43.Party1'\n",
    "       \"--tx-out\", PARTY2_ADDRESS+\"+\"+str(MINIMUM_ADA)+\"+\"+str(1)+\" \"+TOKEN_POLICY_ID+\".\"+PARTY2_TOKENASSETNAME,\n",
    "       # 'addr_test1vrfhx0w0fy9aad9kskezy5znpmey0h335gcjen2pp4gjj2s2ax92x+3000000+1 0b8ffef9a24d8dcdcd7618d74df4753aff6b6b7787b88ac69b4d7e43.Party2'\n",
    "       \"--out-file\", \"/dev/null\",            # '/dev/null'\n",
    "       \"--submit\", str(600)]                 # '600'\n",
    "result = subprocess.run(cmd, capture_output=True, text=True)\n",
    "print(result.stdout)\n",
    "print(result.stderr)"
   ]
  },
  {
   "cell_type": "code",
   "execution_count": 90,
   "id": "8510110f",
   "metadata": {},
   "outputs": [
    {
     "name": "stdout",
     "output_type": "stream",
     "text": [
      "\n",
      "FileError \"wallet1.vkey\" (TextEnvelopeTypeError [TextEnvelopeType \"PaymentSigningKeyShelley_ed25519\",TextEnvelopeType \"PaymentExtendedSigningKeyShelley_ed25519_bip32\"] (TextEnvelopeType \"PaymentExtendedVerificationKeyShelley_ed25519_bip32\"))\n",
      "\n"
     ]
    }
   ],
   "source": [
    "# distribute the tokens that were minted on wallet1 around all wallets.\n",
    "\n",
    "cmd = [marloweCLI, \"transaction\", \"simple\",  # Build a non-Marlowe transaction\n",
    "       \"--testnet-magic\", MAGIC,             # '1567'\n",
    "       \"--socket-path\", SOCKET,              # '/tmp/node.socket'\n",
    "       \"--required-signer\", PARTY1_SKEYFILE, # 'wallet1.skey'\n",
    "       \"--required-signer\", PARTY2_SKEYFILE, # 'wallet1.skey'\n",
    "       \"--change-address\", PARTY1_ADDRESS,   # 'addr_test1vppqe9wxg73zfll8yj2v3xg44k8pgnl0k4899pv3r3r2h2qlgsg4t'\n",
    "       \"--tx-in\", TX0_IN+\"#0\",               # 'ddba65eeff7e4b3e0a85001a1316be04e60b739f239c05e4c0d206c7694b8d06#0'\n",
    "       \"--tx-in\", TX0_IN+\"#1\",               # 'ddba65eeff7e4b3e0a85001a1316be04e60b739f239c05e4c0d206c7694b8d06#1'\n",
    "       \"--tx-in\", TX0_IN+\"#2\",               # 'ddba65eeff7e4b3e0a85001a1316be04e60b739f239c05e4c0d206c7694b8d06#2'\n",
    "       \"--tx-out\", PARTY1_ADDRESS+\"+\"+str(500*ADA)+\"+\"+str(1)+\" \"+TOKEN_POLICY_ID+\".\"+PARTY1_TOKENASSETNAME,\n",
    "       # 'addr_test1vppqe9wxg73zfll8yj2v3xg44k8pgnl0k4899pv3r3r2h2qlgsg4t+3000000+1 0b8ffef9a24d8dcdcd7618d74df4753aff6b6b7787b88ac69b4d7e43.Party1'\n",
    "       \"--tx-out\", PARTY2_ADDRESS+\"+\"+str(500*ADA)+\"+\"+str(1)+\" \"+TOKEN_POLICY_ID+\".\"+PARTY2_TOKENASSETNAME,\n",
    "       # 'addr_test1vrfhx0w0fy9aad9kskezy5znpmey0h335gcjen2pp4gjj2s2ax92x+3000000+1 0b8ffef9a24d8dcdcd7618d74df4753aff6b6b7787b88ac69b4d7e43.Party2'\n",
    "       \"--out-file\", \"/dev/null\",            # '/dev/null'\n",
    "       \"--submit\", str(600)]                 # '600'\n",
    "result = subprocess.run(cmd, capture_output=True, text=True)\n",
    "print(result.stdout)\n",
    "print(result.stderr)"
   ]
  },
  {
   "cell_type": "code",
   "execution_count": 81,
   "id": "37aa4fd4",
   "metadata": {},
   "outputs": [
    {
     "data": {
      "text/plain": [
       "'addr_test1vz0s4g2hemdggqtfa2qnlnscpq4xhtrnujqjtj4k748v9ts4jj5hd+500'"
      ]
     },
     "execution_count": 81,
     "metadata": {},
     "output_type": "execute_result"
    }
   ],
   "source": [
    "PARTY2_ADDRESS+\"+\"+str(500)"
   ]
  },
  {
   "cell_type": "code",
   "execution_count": 91,
   "id": "e4d0d353",
   "metadata": {},
   "outputs": [
    {
     "name": "stdout",
     "output_type": "stream",
     "text": [
      "TxId \"4d205e1eed012bb8fd68544e0f5b179d9b50459f66ddd8aaa4fb5a9b39e6d217\"\n",
      "\n",
      "\n"
     ]
    }
   ],
   "source": [
    "# distribute the tokens that were minted on wallet1 around all wallets.\n",
    "\n",
    "cmd = [marloweCLI, \"transaction\", \"simple\",  # Build a non-Marlowe transaction\n",
    "       \"--testnet-magic\", MAGIC,             # '1567'\n",
    "       \"--socket-path\", SOCKET,              # '/tmp/node.socket'\n",
    "       \"--required-signer\", PARTY1_SKEYFILE, # 'wallet1.skey'\n",
    "       \"--change-address\", PARTY1_ADDRESS,   # 'addr_test1vppqe9wxg73zfll8yj2v3xg44k8pgnl0k4899pv3r3r2h2qlgsg4t'\n",
    "       \"--tx-in\", TX0_IN+\"#0\",               # 'ddba65eeff7e4b3e0a85001a1316be04e60b739f239c05e4c0d206c7694b8d06#0'\n",
    "#        \"--tx-in\", TX0_IN+\"#1\",               # 'ddba65eeff7e4b3e0a85001a1316be04e60b739f239c05e4c0d206c7694b8d06#1'\n",
    "#        \"--tx-in\", TX0_IN+\"#2\",               # 'ddba65eeff7e4b3e0a85001a1316be04e60b739f239c05e4c0d206c7694b8d06#2'\n",
    "#        \"--tx-out\", PARTY1_ADDRESS+\"+\"+str(500),\n",
    "       # 'addr_test1vppqe9wxg73zfll8yj2v3xg44k8pgnl0k4899pv3r3r2h2qlgsg4t+3000000+1 0b8ffef9a24d8dcdcd7618d74df4753aff6b6b7787b88ac69b4d7e43.Party1'\n",
    "       \"--tx-out\", PARTY2_ADDRESS+\"+\"+str(500*ADA),\n",
    "       # 'addr_test1vrfhx0w0fy9aad9kskezy5znpmey0h335gcjen2pp4gjj2s2ax92x+3000000+1 0b8ffef9a24d8dcdcd7618d74df4753aff6b6b7787b88ac69b4d7e43.Party2'\n",
    "       \"--out-file\", \"/dev/null\",            # '/dev/null'\n",
    "       \"--submit\", str(600)]                 # '600'\n",
    "result = subprocess.run(cmd, capture_output=True, text=True)\n",
    "print(result.stdout)\n",
    "print(result.stderr)"
   ]
  },
  {
   "cell_type": "code",
   "execution_count": 337,
   "id": "ced7b4b1",
   "metadata": {},
   "outputs": [
    {
     "name": "stdout",
     "output_type": "stream",
     "text": [
      "TxId \"4c7f8ff0c3da6143147f2da4a3fccd30dee8dc4b71c0a74ee272557a1ec2ea17\"\n",
      "\n",
      "\n"
     ]
    }
   ],
   "source": [
    "# # distribute the tokens that were minted on wallet1 around all wallets.\n",
    "\n",
    "# cmd = [marloweCLI, \"transaction\", \"simple\",  # Build a non-Marlowe transaction\n",
    "#        \"--testnet-magic\", MAGIC,             # '1567'\n",
    "#        \"--socket-path\", SOCKET,              # '/tmp/node.socket'\n",
    "#        \"--required-signer\", PARTY1_SKEYFILE, # 'wallet1.skey'\n",
    "#        \"--change-address\", PARTY1_ADDRESS,   # 'addr_test1vppqe9wxg73zfll8yj2v3xg44k8pgnl0k4899pv3r3r2h2qlgsg4t'\n",
    "#        \"--tx-in\", TX0_IN+\"#0\",               # 'ddba65eeff7e4b3e0a85001a1316be04e60b739f239c05e4c0d206c7694b8d06#0'\n",
    "#        \"--tx-in\", TX0_IN+\"#1\",               # 'ddba65eeff7e4b3e0a85001a1316be04e60b739f239c05e4c0d206c7694b8d06#1'\n",
    "#        \"--tx-in\", TX0_IN+\"#2\",               # 'ddba65eeff7e4b3e0a85001a1316be04e60b739f239c05e4c0d206c7694b8d06#2'\n",
    "#        \"--tx-out\", PARTY1_ADDRESS+\"+\"+str(MINIMUM_ADA)+\"+\"+str(1)+\" \"+TOKEN_POLICY_ID+\".\"+PARTY1_TOKENASSETNAME,\n",
    "#        # 'addr_test1vppqe9wxg73zfll8yj2v3xg44k8pgnl0k4899pv3r3r2h2qlgsg4t+3000000+1 0b8ffef9a24d8dcdcd7618d74df4753aff6b6b7787b88ac69b4d7e43.Party1'\n",
    "#        \"--tx-out\", PARTY2_ADDRESS+\"+\"+str(MINIMUM_ADA)+\"+\"+str(1)+\" \"+TOKEN_POLICY_ID+\".\"+PARTY2_TOKENASSETNAME,\n",
    "#        # 'addr_test1vrfhx0w0fy9aad9kskezy5znpmey0h335gcjen2pp4gjj2s2ax92x+3000000+1 0b8ffef9a24d8dcdcd7618d74df4753aff6b6b7787b88ac69b4d7e43.Party2'\n",
    "#        \"--out-file\", \"/dev/null\",            # '/dev/null'\n",
    "#        \"--submit\", str(600)]                 # '600'\n",
    "# result = subprocess.run(cmd, capture_output=True, text=True)\n",
    "# print(result.stdout)\n",
    "# print(result.stderr)"
   ]
  },
  {
   "cell_type": "code",
   "execution_count": 52,
   "id": "0407000f",
   "metadata": {},
   "outputs": [
    {
     "data": {
      "text/plain": [
       "'59ee1d14470afa51d6d7d3aebb29f0dfde74e4458a7704518189755d82a8ea49'"
      ]
     },
     "execution_count": 52,
     "metadata": {},
     "output_type": "execute_result"
    }
   ],
   "source": [
    "# save the transaction id\n",
    "TX1_IN = result.stdout.split('\"')[1]\n",
    "TX1_IN"
   ]
  },
  {
   "cell_type": "code",
   "execution_count": 338,
   "id": "5c614115",
   "metadata": {},
   "outputs": [
    {
     "data": {
      "text/plain": [
       "'4c7f8ff0c3da6143147f2da4a3fccd30dee8dc4b71c0a74ee272557a1ec2ea17'"
      ]
     },
     "execution_count": 338,
     "metadata": {},
     "output_type": "execute_result"
    }
   ],
   "source": [
    "# # save the transaction id\n",
    "# TX1_IN = result.stdout.split('\"')[1]\n",
    "# TX1_IN"
   ]
  },
  {
   "cell_type": "markdown",
   "id": "c68b533e",
   "metadata": {},
   "source": [
    "#### Check that the funds are distributed correctly\n",
    "Notice that both wallets now have a common TxHash value.  "
   ]
  },
  {
   "cell_type": "code",
   "execution_count": 49,
   "id": "f2244ccf",
   "metadata": {},
   "outputs": [
    {
     "data": {
      "text/html": [
       "<div>\n",
       "<style scoped>\n",
       "    .dataframe tbody tr th:only-of-type {\n",
       "        vertical-align: middle;\n",
       "    }\n",
       "\n",
       "    .dataframe tbody tr th {\n",
       "        vertical-align: top;\n",
       "    }\n",
       "\n",
       "    .dataframe thead th {\n",
       "        text-align: right;\n",
       "    }\n",
       "</style>\n",
       "<table border=\"1\" class=\"dataframe\">\n",
       "  <thead>\n",
       "    <tr style=\"text-align: right;\">\n",
       "      <th></th>\n",
       "      <th>address</th>\n",
       "      <th>TxHash</th>\n",
       "      <th>TxIx</th>\n",
       "      <th>lovelace</th>\n",
       "      <th>TokenPolicyId</th>\n",
       "      <th>TokenNameHex</th>\n",
       "      <th>TokenNameAscii</th>\n",
       "      <th>TokenAmount</th>\n",
       "      <th>datumhash</th>\n",
       "    </tr>\n",
       "  </thead>\n",
       "  <tbody>\n",
       "    <tr>\n",
       "      <th>0</th>\n",
       "      <td>addr_test1vpqflumj2n8d43k22k4v9xfzvpd70jwfra7cruv04uht0tsj0t9x5</td>\n",
       "      <td>d007adb1b4ed647781eab93bb181f70195db93ae65dca353a5fc5a2985c65e6c</td>\n",
       "      <td>0</td>\n",
       "      <td>246608726</td>\n",
       "      <td>NaN</td>\n",
       "      <td>NaN</td>\n",
       "      <td>None</td>\n",
       "      <td>0</td>\n",
       "      <td>NaN</td>\n",
       "    </tr>\n",
       "    <tr>\n",
       "      <th>1</th>\n",
       "      <td>addr_test1vpqflumj2n8d43k22k4v9xfzvpd70jwfra7cruv04uht0tsj0t9x5</td>\n",
       "      <td>d007adb1b4ed647781eab93bb181f70195db93ae65dca353a5fc5a2985c65e6c</td>\n",
       "      <td>1</td>\n",
       "      <td>2000000</td>\n",
       "      <td>8050cb8a6ee792c13aebc35d72e9b5c840ca2e4233d67d16de6b9ff8</td>\n",
       "      <td>506172747931</td>\n",
       "      <td>Party1</td>\n",
       "      <td>1</td>\n",
       "      <td>NaN</td>\n",
       "    </tr>\n",
       "    <tr>\n",
       "      <th>2</th>\n",
       "      <td>addr_test1vqyq7qum3fwuyc6pge0a8td0enx5gctnh43h2zntmkc994qz04pwj</td>\n",
       "      <td>b1ae82baa5a421a060e997e6ff7a4070c521d39fbe962cf04730ec226d589943</td>\n",
       "      <td>0</td>\n",
       "      <td>248856931</td>\n",
       "      <td>NaN</td>\n",
       "      <td>NaN</td>\n",
       "      <td>None</td>\n",
       "      <td>0</td>\n",
       "      <td>NaN</td>\n",
       "    </tr>\n",
       "    <tr>\n",
       "      <th>3</th>\n",
       "      <td>addr_test1vqyq7qum3fwuyc6pge0a8td0enx5gctnh43h2zntmkc994qz04pwj</td>\n",
       "      <td>b1ae82baa5a421a060e997e6ff7a4070c521d39fbe962cf04730ec226d589943</td>\n",
       "      <td>1</td>\n",
       "      <td>2000000</td>\n",
       "      <td>8050cb8a6ee792c13aebc35d72e9b5c840ca2e4233d67d16de6b9ff8</td>\n",
       "      <td>506172747932</td>\n",
       "      <td>Party2</td>\n",
       "      <td>1</td>\n",
       "      <td>NaN</td>\n",
       "    </tr>\n",
       "  </tbody>\n",
       "</table>\n",
       "</div>"
      ],
      "text/plain": [
       "                                                           address  \\\n",
       "0  addr_test1vpqflumj2n8d43k22k4v9xfzvpd70jwfra7cruv04uht0tsj0t9x5   \n",
       "1  addr_test1vpqflumj2n8d43k22k4v9xfzvpd70jwfra7cruv04uht0tsj0t9x5   \n",
       "2  addr_test1vqyq7qum3fwuyc6pge0a8td0enx5gctnh43h2zntmkc994qz04pwj   \n",
       "3  addr_test1vqyq7qum3fwuyc6pge0a8td0enx5gctnh43h2zntmkc994qz04pwj   \n",
       "\n",
       "                                                             TxHash  TxIx  \\\n",
       "0  d007adb1b4ed647781eab93bb181f70195db93ae65dca353a5fc5a2985c65e6c     0   \n",
       "1  d007adb1b4ed647781eab93bb181f70195db93ae65dca353a5fc5a2985c65e6c     1   \n",
       "2  b1ae82baa5a421a060e997e6ff7a4070c521d39fbe962cf04730ec226d589943     0   \n",
       "3  b1ae82baa5a421a060e997e6ff7a4070c521d39fbe962cf04730ec226d589943     1   \n",
       "\n",
       "    lovelace                                             TokenPolicyId  \\\n",
       "0  246608726                                                       NaN   \n",
       "1    2000000  8050cb8a6ee792c13aebc35d72e9b5c840ca2e4233d67d16de6b9ff8   \n",
       "2  248856931                                                       NaN   \n",
       "3    2000000  8050cb8a6ee792c13aebc35d72e9b5c840ca2e4233d67d16de6b9ff8   \n",
       "\n",
       "   TokenNameHex TokenNameAscii  TokenAmount  datumhash  \n",
       "0           NaN           None            0        NaN  \n",
       "1  506172747931         Party1            1        NaN  \n",
       "2           NaN           None            0        NaN  \n",
       "3  506172747932         Party2            1        NaN  "
      ]
     },
     "execution_count": 49,
     "metadata": {},
     "output_type": "execute_result"
    }
   ],
   "source": [
    "# check wallet1 and wallet2\n",
    "df = pd.concat([query_df(PARTY1_ADDRESS), query_df(PARTY2_ADDRESS)]).reset_index(drop=True)\n",
    "df"
   ]
  },
  {
   "cell_type": "code",
   "execution_count": 520,
   "id": "8f08aa4a",
   "metadata": {},
   "outputs": [
    {
     "data": {
      "text/html": [
       "<div>\n",
       "<style scoped>\n",
       "    .dataframe tbody tr th:only-of-type {\n",
       "        vertical-align: middle;\n",
       "    }\n",
       "\n",
       "    .dataframe tbody tr th {\n",
       "        vertical-align: top;\n",
       "    }\n",
       "\n",
       "    .dataframe thead th {\n",
       "        text-align: right;\n",
       "    }\n",
       "</style>\n",
       "<table border=\"1\" class=\"dataframe\">\n",
       "  <thead>\n",
       "    <tr style=\"text-align: right;\">\n",
       "      <th></th>\n",
       "      <th>address</th>\n",
       "      <th>TxHash</th>\n",
       "      <th>TxIx</th>\n",
       "      <th>lovelace</th>\n",
       "      <th>TokenPolicyId</th>\n",
       "      <th>TokenNameHex</th>\n",
       "      <th>TokenNameAscii</th>\n",
       "      <th>TokenAmount</th>\n",
       "      <th>datumhash</th>\n",
       "    </tr>\n",
       "  </thead>\n",
       "  <tbody>\n",
       "    <tr>\n",
       "      <th>0</th>\n",
       "      <td>addr_test1vpha99j2s5slc5q26d884rhc3jzuxqex5javsak5enlg8wsel4z2t</td>\n",
       "      <td>7cbef19b7c372a9b2ac2bc376f5564ffb84f291230c92c881a0083f18705dadb</td>\n",
       "      <td>0</td>\n",
       "      <td>490451577</td>\n",
       "      <td>NaN</td>\n",
       "      <td>NaN</td>\n",
       "      <td>None</td>\n",
       "      <td>0</td>\n",
       "      <td>NaN</td>\n",
       "    </tr>\n",
       "    <tr>\n",
       "      <th>1</th>\n",
       "      <td>addr_test1vpha99j2s5slc5q26d884rhc3jzuxqex5javsak5enlg8wsel4z2t</td>\n",
       "      <td>4c7f8ff0c3da6143147f2da4a3fccd30dee8dc4b71c0a74ee272557a1ec2ea17</td>\n",
       "      <td>1</td>\n",
       "      <td>3000000</td>\n",
       "      <td>6f4f37e5c163a2f77935f395434c49bc4de8d1894a3bd80ac239a508</td>\n",
       "      <td>506172747931</td>\n",
       "      <td>Party1</td>\n",
       "      <td>1</td>\n",
       "      <td>NaN</td>\n",
       "    </tr>\n",
       "    <tr>\n",
       "      <th>2</th>\n",
       "      <td>addr_test1vzn7ef2cx8h5y4jvxnn34pn3lzak5t537fx09j7zxdljs3gc5zgw6</td>\n",
       "      <td>4c7f8ff0c3da6143147f2da4a3fccd30dee8dc4b71c0a74ee272557a1ec2ea17</td>\n",
       "      <td>2</td>\n",
       "      <td>3000000</td>\n",
       "      <td>6f4f37e5c163a2f77935f395434c49bc4de8d1894a3bd80ac239a508</td>\n",
       "      <td>506172747932</td>\n",
       "      <td>Party2</td>\n",
       "      <td>1</td>\n",
       "      <td>NaN</td>\n",
       "    </tr>\n",
       "    <tr>\n",
       "      <th>3</th>\n",
       "      <td>addr_test1vzn7ef2cx8h5y4jvxnn34pn3lzak5t537fx09j7zxdljs3gc5zgw6</td>\n",
       "      <td>ed62a729c96269053eef4aa5e4fabf9f6f85b7bb56f49481142ffcbe5f72aa33</td>\n",
       "      <td>3</td>\n",
       "      <td>500000000</td>\n",
       "      <td>NaN</td>\n",
       "      <td>NaN</td>\n",
       "      <td>None</td>\n",
       "      <td>0</td>\n",
       "      <td>NaN</td>\n",
       "    </tr>\n",
       "  </tbody>\n",
       "</table>\n",
       "</div>"
      ],
      "text/plain": [
       "                                                           address  \\\n",
       "0  addr_test1vpha99j2s5slc5q26d884rhc3jzuxqex5javsak5enlg8wsel4z2t   \n",
       "1  addr_test1vpha99j2s5slc5q26d884rhc3jzuxqex5javsak5enlg8wsel4z2t   \n",
       "2  addr_test1vzn7ef2cx8h5y4jvxnn34pn3lzak5t537fx09j7zxdljs3gc5zgw6   \n",
       "3  addr_test1vzn7ef2cx8h5y4jvxnn34pn3lzak5t537fx09j7zxdljs3gc5zgw6   \n",
       "\n",
       "                                                             TxHash  TxIx  \\\n",
       "0  7cbef19b7c372a9b2ac2bc376f5564ffb84f291230c92c881a0083f18705dadb     0   \n",
       "1  4c7f8ff0c3da6143147f2da4a3fccd30dee8dc4b71c0a74ee272557a1ec2ea17     1   \n",
       "2  4c7f8ff0c3da6143147f2da4a3fccd30dee8dc4b71c0a74ee272557a1ec2ea17     2   \n",
       "3  ed62a729c96269053eef4aa5e4fabf9f6f85b7bb56f49481142ffcbe5f72aa33     3   \n",
       "\n",
       "    lovelace                                             TokenPolicyId  \\\n",
       "0  490451577                                                       NaN   \n",
       "1    3000000  6f4f37e5c163a2f77935f395434c49bc4de8d1894a3bd80ac239a508   \n",
       "2    3000000  6f4f37e5c163a2f77935f395434c49bc4de8d1894a3bd80ac239a508   \n",
       "3  500000000                                                       NaN   \n",
       "\n",
       "   TokenNameHex TokenNameAscii  TokenAmount  datumhash  \n",
       "0           NaN           None            0        NaN  \n",
       "1  506172747931         Party1            1        NaN  \n",
       "2  506172747932         Party2            1        NaN  \n",
       "3           NaN           None            0        NaN  "
      ]
     },
     "execution_count": 520,
     "metadata": {},
     "output_type": "execute_result"
    }
   ],
   "source": [
    "# # check wallet1 and wallet2\n",
    "# pd.concat([query_df(PARTY1_ADDRESS), query_df(PARTY2_ADDRESS)]).reset_index(drop=True)"
   ]
  },
  {
   "cell_type": "code",
   "execution_count": 61,
   "id": "2585f326",
   "metadata": {},
   "outputs": [],
   "source": [
    "TX1_PARTY1_ADA = df.iloc[0]['TxHash'] + '#0'\n",
    "# TX1_PARTY1_ADA = df[df['TokenNameAscii'].isnull()]['TxHash'].values[0] + '#0'"
   ]
  },
  {
   "cell_type": "code",
   "execution_count": 62,
   "id": "57f93759",
   "metadata": {},
   "outputs": [],
   "source": [
    "# TX1_PARTY1_TOKENS = df[df['TokenNameAscii'] == 'Party1']['TxHash'].values[0] + '#1'\n",
    "TX1_PARTY1_TOKENS = df.iloc[1]['TxHash'] + '#1'"
   ]
  },
  {
   "cell_type": "code",
   "execution_count": 68,
   "id": "538a6934",
   "metadata": {},
   "outputs": [],
   "source": [
    "TX1_PARTY2_ADA = df.iloc[3]['TxHash'] + '#0'"
   ]
  },
  {
   "cell_type": "code",
   "execution_count": 64,
   "id": "3db52756",
   "metadata": {},
   "outputs": [],
   "source": [
    "# TX1_PARTY2_TOKENS = df[df['TokenNameAscii'] == 'Party2']['TxHash'].values[0] + '#2'\n",
    "TX1_PARTY2_TOKENS = df.iloc[2]['TxHash'] + '#2'"
   ]
  },
  {
   "cell_type": "code",
   "execution_count": 70,
   "id": "10d4e1dc",
   "metadata": {},
   "outputs": [
    {
     "name": "stdout",
     "output_type": "stream",
     "text": [
      "59ee1d14470afa51d6d7d3aebb29f0dfde74e4458a7704518189755d82a8ea49#0\n",
      "59ee1d14470afa51d6d7d3aebb29f0dfde74e4458a7704518189755d82a8ea49#1\n",
      "94ace4ba222050903354a9a73fca6a80dda49a2f8cdd81f61e8e3e44df8b6c5a#0\n",
      "59ee1d14470afa51d6d7d3aebb29f0dfde74e4458a7704518189755d82a8ea49#2\n"
     ]
    }
   ],
   "source": [
    "print(TX1_PARTY1_ADA)\n",
    "print(TX1_PARTY1_TOKENS)\n",
    "print(TX1_PARTY2_ADA)\n",
    "print(TX1_PARTY2_TOKENS)"
   ]
  },
  {
   "cell_type": "code",
   "execution_count": 340,
   "id": "537137ce",
   "metadata": {},
   "outputs": [],
   "source": [
    "# TX1_PARTY1_ADA    = TX1_IN+\"#0\"\n",
    "# TX1_PARTY1_TOKENS = TX1_IN+\"#1\"\n",
    "# TX1_PARTY2_ADA    = \"ed62a729c96269053eef4aa5e4fabf9f6f85b7bb56f49481142ffcbe5f72aa33\"+\"#3\"\n",
    "# TX1_PARTY2_TOKENS = TX1_IN+\"#2\""
   ]
  },
  {
   "cell_type": "code",
   "execution_count": null,
   "id": "4b5fcf54",
   "metadata": {},
   "outputs": [],
   "source": []
  },
  {
   "cell_type": "code",
   "execution_count": 96,
   "id": "39b7de10",
   "metadata": {},
   "outputs": [],
   "source": [
    "#let's get the correct info for the initialise below !!"
   ]
  },
  {
   "cell_type": "code",
   "execution_count": 51,
   "id": "9a8a5d06",
   "metadata": {},
   "outputs": [
    {
     "data": {
      "text/html": [
       "<div>\n",
       "<style scoped>\n",
       "    .dataframe tbody tr th:only-of-type {\n",
       "        vertical-align: middle;\n",
       "    }\n",
       "\n",
       "    .dataframe tbody tr th {\n",
       "        vertical-align: top;\n",
       "    }\n",
       "\n",
       "    .dataframe thead th {\n",
       "        text-align: right;\n",
       "    }\n",
       "</style>\n",
       "<table border=\"1\" class=\"dataframe\">\n",
       "  <thead>\n",
       "    <tr style=\"text-align: right;\">\n",
       "      <th></th>\n",
       "      <th>address</th>\n",
       "      <th>TxHash</th>\n",
       "      <th>TxIx</th>\n",
       "      <th>lovelace</th>\n",
       "      <th>TokenPolicyId</th>\n",
       "      <th>TokenNameHex</th>\n",
       "      <th>TokenNameAscii</th>\n",
       "      <th>TokenAmount</th>\n",
       "      <th>datumhash</th>\n",
       "    </tr>\n",
       "  </thead>\n",
       "  <tbody>\n",
       "    <tr>\n",
       "      <th>0</th>\n",
       "      <td>addr_test1vpqflumj2n8d43k22k4v9xfzvpd70jwfra7cruv04uht0tsj0t9x5</td>\n",
       "      <td>d007adb1b4ed647781eab93bb181f70195db93ae65dca353a5fc5a2985c65e6c</td>\n",
       "      <td>0</td>\n",
       "      <td>246608726</td>\n",
       "      <td>NaN</td>\n",
       "      <td>NaN</td>\n",
       "      <td>None</td>\n",
       "      <td>0</td>\n",
       "      <td>NaN</td>\n",
       "    </tr>\n",
       "    <tr>\n",
       "      <th>1</th>\n",
       "      <td>addr_test1vpqflumj2n8d43k22k4v9xfzvpd70jwfra7cruv04uht0tsj0t9x5</td>\n",
       "      <td>d007adb1b4ed647781eab93bb181f70195db93ae65dca353a5fc5a2985c65e6c</td>\n",
       "      <td>1</td>\n",
       "      <td>2000000</td>\n",
       "      <td>8050cb8a6ee792c13aebc35d72e9b5c840ca2e4233d67d16de6b9ff8</td>\n",
       "      <td>506172747931</td>\n",
       "      <td>Party1</td>\n",
       "      <td>1</td>\n",
       "      <td>NaN</td>\n",
       "    </tr>\n",
       "    <tr>\n",
       "      <th>2</th>\n",
       "      <td>addr_test1vqyq7qum3fwuyc6pge0a8td0enx5gctnh43h2zntmkc994qz04pwj</td>\n",
       "      <td>b1ae82baa5a421a060e997e6ff7a4070c521d39fbe962cf04730ec226d589943</td>\n",
       "      <td>0</td>\n",
       "      <td>248856931</td>\n",
       "      <td>NaN</td>\n",
       "      <td>NaN</td>\n",
       "      <td>None</td>\n",
       "      <td>0</td>\n",
       "      <td>NaN</td>\n",
       "    </tr>\n",
       "    <tr>\n",
       "      <th>3</th>\n",
       "      <td>addr_test1vqyq7qum3fwuyc6pge0a8td0enx5gctnh43h2zntmkc994qz04pwj</td>\n",
       "      <td>b1ae82baa5a421a060e997e6ff7a4070c521d39fbe962cf04730ec226d589943</td>\n",
       "      <td>1</td>\n",
       "      <td>2000000</td>\n",
       "      <td>8050cb8a6ee792c13aebc35d72e9b5c840ca2e4233d67d16de6b9ff8</td>\n",
       "      <td>506172747932</td>\n",
       "      <td>Party2</td>\n",
       "      <td>1</td>\n",
       "      <td>NaN</td>\n",
       "    </tr>\n",
       "  </tbody>\n",
       "</table>\n",
       "</div>"
      ],
      "text/plain": [
       "                                                           address  \\\n",
       "0  addr_test1vpqflumj2n8d43k22k4v9xfzvpd70jwfra7cruv04uht0tsj0t9x5   \n",
       "1  addr_test1vpqflumj2n8d43k22k4v9xfzvpd70jwfra7cruv04uht0tsj0t9x5   \n",
       "2  addr_test1vqyq7qum3fwuyc6pge0a8td0enx5gctnh43h2zntmkc994qz04pwj   \n",
       "3  addr_test1vqyq7qum3fwuyc6pge0a8td0enx5gctnh43h2zntmkc994qz04pwj   \n",
       "\n",
       "                                                             TxHash  TxIx  \\\n",
       "0  d007adb1b4ed647781eab93bb181f70195db93ae65dca353a5fc5a2985c65e6c     0   \n",
       "1  d007adb1b4ed647781eab93bb181f70195db93ae65dca353a5fc5a2985c65e6c     1   \n",
       "2  b1ae82baa5a421a060e997e6ff7a4070c521d39fbe962cf04730ec226d589943     0   \n",
       "3  b1ae82baa5a421a060e997e6ff7a4070c521d39fbe962cf04730ec226d589943     1   \n",
       "\n",
       "    lovelace                                             TokenPolicyId  \\\n",
       "0  246608726                                                       NaN   \n",
       "1    2000000  8050cb8a6ee792c13aebc35d72e9b5c840ca2e4233d67d16de6b9ff8   \n",
       "2  248856931                                                       NaN   \n",
       "3    2000000  8050cb8a6ee792c13aebc35d72e9b5c840ca2e4233d67d16de6b9ff8   \n",
       "\n",
       "   TokenNameHex TokenNameAscii  TokenAmount  datumhash  \n",
       "0           NaN           None            0        NaN  \n",
       "1  506172747931         Party1            1        NaN  \n",
       "2           NaN           None            0        NaN  \n",
       "3  506172747932         Party2            1        NaN  "
      ]
     },
     "execution_count": 51,
     "metadata": {},
     "output_type": "execute_result"
    }
   ],
   "source": [
    "# check wallet1 and wallet2\n",
    "df = pd.concat([query_df(PARTY1_ADDRESS), query_df(PARTY2_ADDRESS)]).reset_index(drop=True)\n",
    "df"
   ]
  },
  {
   "cell_type": "code",
   "execution_count": 52,
   "id": "d5d6f216",
   "metadata": {},
   "outputs": [
    {
     "name": "stdout",
     "output_type": "stream",
     "text": [
      "d007adb1b4ed647781eab93bb181f70195db93ae65dca353a5fc5a2985c65e6c#0\n",
      "d007adb1b4ed647781eab93bb181f70195db93ae65dca353a5fc5a2985c65e6c#1\n",
      "b1ae82baa5a421a060e997e6ff7a4070c521d39fbe962cf04730ec226d589943#0\n",
      "b1ae82baa5a421a060e997e6ff7a4070c521d39fbe962cf04730ec226d589943#1\n"
     ]
    }
   ],
   "source": [
    "TX1_PARTY1_ADA   = df.iloc[0]['TxHash'] + '#0'\n",
    "TX1_PARTY1_TOKEN = df.iloc[1]['TxHash'] + '#1'\n",
    "TX1_PARTY2_ADA   = df.iloc[2]['TxHash'] + '#0'\n",
    "TX1_PARTY2_TOKEN = df.iloc[3]['TxHash'] + '#1'\n",
    "print(TX1_PARTY1_ADA)\n",
    "print(TX1_PARTY1_TOKEN)\n",
    "print(TX1_PARTY2_ADA)\n",
    "print(TX1_PARTY2_TOKEN)"
   ]
  },
  {
   "cell_type": "code",
   "execution_count": 53,
   "id": "dea3dfb9",
   "metadata": {},
   "outputs": [
    {
     "data": {
      "text/plain": [
       "'8050cb8a6ee792c13aebc35d72e9b5c840ca2e4233d67d16de6b9ff8'"
      ]
     },
     "execution_count": 53,
     "metadata": {},
     "output_type": "execute_result"
    }
   ],
   "source": [
    "TOKEN_POLICY_ID = df.iloc[1]['TokenPolicyId']\n",
    "TOKEN_POLICY_ID"
   ]
  },
  {
   "cell_type": "code",
   "execution_count": 81,
   "id": "af8b6810",
   "metadata": {},
   "outputs": [],
   "source": [
    "# will the validator address be different  ?\n",
    "# addr_test1wp4f8ywk4fg672xasahtk4t9k6w3aql943uxz5rt62d4dvqu3c6jv ?\n",
    "\n",
    "# I don't know why but for some reason this stay the same address\n",
    "# addr_test1wp4f8ywk4fg672xasahtk4t9k6w3aql943uxz5rt62d4dvqu3c6jv"
   ]
  },
  {
   "cell_type": "markdown",
   "id": "9c0154b5-de37-4c92-a5fc-78b843f457d0",
   "metadata": {},
   "source": [
    "## Deployment"
   ]
  },
  {
   "cell_type": "markdown",
   "id": "6c2f31a8-cf53-47db-a43a-d91d6083c7bd",
   "metadata": {},
   "source": [
    "### initialize (step1)\n",
    "Generate the *.marlowe file with json files *.contract, *.state, Plutus data and network info.  \n",
    "Question: (not sure here) The wallet addresses of the smart contract are not yet created on the blockchain, but known now.  "
   ]
  },
  {
   "cell_type": "markdown",
   "id": "1aac4d84-32bd-4ade-9a15-201e5da2a06d",
   "metadata": {},
   "source": [
    "```text\n",
    "Initialize the first transaction of a Marlowe contract and write output to a JSON file *.marlowe\n",
    "\n",
    "marlowe-cli run initialize:\n",
    "\n",
    "  --testnet-magic INTEGER          Network magic\n",
    "  --socket-path SOCKET_FILE        Location of the cardano-node socket file\n",
    "  --stake-address ADDRESS          Stake address\n",
    "  --roles-currency CURRENCY_SYMBOL The currency symbol for roles\n",
    "  --contract-file CONTRACT_FILE    JSON input file for the contract\n",
    "  --state-file STATE_FILE          JSON input file for the contract state\n",
    "  --out-file OUTPUT_FILE           JSON output file for initialize\n",
    "  --print-stats                    Print statistics\n",
    "```"
   ]
  },
  {
   "cell_type": "code",
   "execution_count": 54,
   "id": "4e95e305",
   "metadata": {},
   "outputs": [
    {
     "name": "stdout",
     "output_type": "stream",
     "text": [
      "\n",
      "\n",
      "Validator size: 12505\n",
      "Base-validator cost: ExBudget {exBudgetCPU = ExCPU 18515100, exBudgetMemory = ExMemory 80600}\n",
      "\n"
     ]
    }
   ],
   "source": [
    "cmd = [marloweCLI, \"run\", \"initialize\",     # Initialize the first transaction of a Marlowe contract\n",
    "       \"--testnet-magic\", MAGIC,            # '1567'\n",
    "       \"--socket-path\", SOCKET,             # '/tmp/node.socket'\n",
    "       \"--roles-currency\", TOKEN_POLICY_ID, # '150ad48b834239dd9a8e74fb7185a3a4be73ba51fdd3da49f6c8036e'\n",
    "       \"--contract-file\", \"tx-1.contract\",  # 'tx-1.contract'\n",
    "       \"--state-file\", \"tx-1.state\",        # 'tx-1.state'\n",
    "       \"--out-file\", \"tx-1.marlowe\",        # 'tx-1.marlowe'\n",
    "       \"--print-stats\"]\n",
    "result = subprocess.run(cmd, capture_output=True, text=True)\n",
    "print(result.stdout)\n",
    "print(result.stderr)"
   ]
  },
  {
   "cell_type": "code",
   "execution_count": 55,
   "id": "da001dfb",
   "metadata": {},
   "outputs": [
    {
     "name": "stdout",
     "output_type": "stream",
     "text": [
      "Thu Jan  5 15:50:50 CET 2023\n",
      "-rw-rw-r-- 1 ubuntu ubuntu  1738 Jan  5 15:48 tx-1.contract\n",
      "-rw-rw-r-- 1 ubuntu ubuntu 35545 Jan  5 15:50 tx-1.marlowe\n",
      "-rw-rw-r-- 1 ubuntu ubuntu  1128 Jan  5 15:15 tx-1.raw\n",
      "-rw-rw-r-- 1 ubuntu ubuntu   166 Jan  5 15:48 tx-1.state\n"
     ]
    }
   ],
   "source": [
    "!date\n",
    "!ls -l tx-1*"
   ]
  },
  {
   "cell_type": "code",
   "execution_count": 56,
   "id": "431511cf",
   "metadata": {},
   "outputs": [
    {
     "name": "stdout",
     "output_type": "stream",
     "text": [
      "{\r\n",
      "    \"era\": \"babbage\",\r\n",
      "    \"plutusVersion\": \"PlutusScriptV2\",\r\n",
      "    \"tx\": {\r\n",
      "        \"continuations\": [],\r\n",
      "        \"contract\": {\r\n",
      "            \"timeout\": 1672972983000,\r\n",
      "            \"timeout_continuation\": \"close\",\r\n",
      "            \"when\": [\r\n",
      "                {\r\n",
      "                    \"case\": {\r\n",
      "                        \"deposits\": 200000000,\r\n",
      "                        \"into_account\": {\r\n",
      "                            \"role_token\": \"Party1\"\r\n",
      "                        },\r\n",
      "                        \"of_token\": {\r\n",
      "                            \"currency_symbol\": \"\",\r\n",
      "                            \"token_name\": \"\"\r\n",
      "                        },\r\n",
      "                        \"party\": {\r\n",
      "                            \"role_token\": \"Party1\"\r\n",
      "                        }\r\n",
      "                    },\r\n",
      "                    \"then\": {\r\n",
      "                        \"timeout\": 1673016183000,\r\n",
      "                        \"timeout_continuation\": \"close\",\r\n",
      "                        \"when\": [\r\n",
      "                            {\r\n",
      "                                \"case\": {\r\n",
      "                                    \"deposits\": 100000000,\r\n",
      "                                    \"into_account\": {\r\n",
      "                                        \"role_token\": \"Party2\"\r\n",
      "                                    },\r\n",
      "                                    \"of_token\": {\r\n",
      "                                        \"currency_symbol\": \"\",\r\n",
      "                                        \"token_name\": \"\"\r\n",
      "                                    },\r\n",
      "                                    \"party\": {\r\n",
      "                                        \"role_token\": \"Party2\"\r\n",
      "                                    }\r\n",
      "                                },\r\n",
      "                                \"then\": {\r\n",
      "                                    \"from_account\": {\r\n",
      "                                        \"role_token\": \"Party1\"\r\n",
      "                                    },\r\n",
      "                                    \"pay\": 200000000,\r\n",
      "                                    \"then\": {\r\n",
      "                                        \"from_account\": {\r\n",
      "                                            \"role_token\": \"Party2\"\r\n",
      "                                        },\r\n",
      "                                        \"pay\": 100000000,\r\n",
      "                                        \"then\": \"close\",\r\n",
      "                                        \"to\": {\r\n",
      "                                            \"party\": {\r\n",
      "                                                \"role_token\": \"Party1\"\r\n",
      "                                            }\r\n",
      "                                        },\r\n",
      "                                        \"token\": {\r\n",
      "                                            \"currency_symbol\": \"\",\r\n",
      "                                            \"token_name\": \"\"\r\n",
      "                                        }\r\n",
      "                                    },\r\n",
      "                                    \"to\": {\r\n",
      "                                        \"party\": {\r\n",
      "                                            \"role_token\": \"Party2\"\r\n",
      "                                        }\r\n",
      "                                    },\r\n",
      "                                    \"token\": {\r\n",
      "                                        \"currency_symbol\": \"\",\r\n",
      "                                        \"token_name\": \"\"\r\n",
      "                                    }\r\n",
      "                                }\r\n",
      "                            }\r\n",
      "                        ]\r\n",
      "                    }\r\n",
      "                }\r\n",
      "            ]\r\n",
      "        },\r\n",
      "        \"inputs\": [],\r\n",
      "        \"marloweValidator\": {\r\n",
      "            \"address\": \"addr_test1wp4f8ywk4fg672xasahtk4t9k6w3aql943uxz5rt62d4dvqu3c6jv\",\r\n",
      "            \"cost\": {\r\n",
      "                \"exBudgetCPU\": 18515100,\r\n",
      "                \"exBudgetMemory\": 80600\r\n",
      "            },\r\n",
      "            \"hash\": \"6a9391d6aa51af28dd876ebb5565b69d1e83e5ac7861506bd29b56b0\",\r\n",
      "            \"script\": {\r\n",
      "                \"cborHex\": \"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\",\r\n",
      "                \"description\": \"\",\r\n",
      "                \"type\": \"PlutusScriptV2\"\r\n",
      "            },\r\n",
      "            \"size\": 12505,\r\n",
      "            \"txIn\": null\r\n",
      "        },\r\n",
      "        \"payments\": [],\r\n",
      "        \"range\": null,\r\n",
      "        \"roles\": {\r\n",
      "            \"unCurrencySymbol\": \"8050cb8a6ee792c13aebc35d72e9b5c840ca2e4233d67d16de6b9ff8\"\r\n",
      "        },\r\n",
      "        \"rolesValidator\": {\r\n",
      "            \"address\": \"addr_test1wpyswm4tyqjrmj2xy5glhx9fe7m3n7rwj6fz3qfekly3muckehcu9\",\r\n",
      "            \"cost\": {\r\n",
      "                \"exBudgetCPU\": 3956100,\r\n",
      "                \"exBudgetMemory\": 17300\r\n",
      "            },\r\n",
      "            \"hash\": \"49076eab20243dc9462511fb98a9cfb719f86e9692288139b7c91df3\",\r\n",
      "            \"script\": {\r\n",
      "                \"cborHex\": \"590a73590a70010000332323232323232323232323232323322323232323222223232533533300632323333573466e1cd55cea80124000466aa0226eb8d5d0a8011bae357426ae8940088c98c8070cd5ce00e80e00d09aab9e50011375400a6666ae68cdc39aab9d37540089000100d11931900d19ab9c01b01a0183333573466e1cd55cea80124000466442466002006004646464646464646464646464646666ae68cdc39aab9d500c480008cccccccccccc88888888888848cccccccccccc00403403002c02802402001c01801401000c008cd405805cd5d0a80619a80b00b9aba1500b33501601835742a014666aa034eb94064d5d0a804999aa80d3ae501935742a01066a02c0446ae85401cccd5406808dd69aba150063232323333573466e1cd55cea801240004664424660020060046464646666ae68cdc39aab9d5002480008cc8848cc00400c008cd40b5d69aba15002302e357426ae8940088c98c80c0cd5ce01881801709aab9e5001137540026ae854008c8c8c8cccd5cd19b8735573aa004900011991091980080180119a816bad35742a004605c6ae84d5d1280111931901819ab9c03103002e135573ca00226ea8004d5d09aba2500223263202c33573805a05805426aae7940044dd50009aba1500533501675c6ae854010ccd5406807c8004d5d0a801999aa80d3ae200135742a00460426ae84d5d1280111931901419ab9c029028026135744a00226ae8940044d5d1280089aba25001135744a00226ae8940044d5d1280089aba25001135744a00226ae8940044d55cf280089baa00135742a00460226ae84d5d1280111931900d19ab9c01b01a018101913263201933573892010350543500019135573ca00226ea800448c88c008dd6000990009aa80a911999aab9f0012500a233500930043574200460066ae880080548c8c8cccd5cd19b8735573aa004900011991091980080180118069aba150023005357426ae8940088c98c8054cd5ce00b00a80989aab9e5001137540024646464646666ae68cdc39aab9d5004480008cccc888848cccc00401401000c008c8c8c8cccd5cd19b8735573aa0049000119910919800801801180b1aba15002335010015357426ae8940088c98c8068cd5ce00d80d00c09aab9e5001137540026ae854010ccd54021d728039aba150033232323333573466e1d4005200423212223002004357426aae79400c8cccd5cd19b875002480088c84888c004010dd71aba135573ca00846666ae68cdc3a801a400042444006464c6403866ae700740700680640604d55cea80089baa00135742a00466a018eb8d5d09aba2500223263201633573802e02c02826ae8940044d5d1280089aab9e500113754002266aa002eb9d6889119118011bab00132001355012223233335573e0044a010466a00e66aa012600c6aae754008c014d55cf280118021aba20030131357420022244004244244660020080062244246600200600424464646666ae68cdc3a800a40004642446004006600a6ae84d55cf280191999ab9a3370ea0049001109100091931900819ab9c01101000e00d135573aa00226ea80048c8c8cccd5cd19b875001480188c848888c010014c01cd5d09aab9e500323333573466e1d400920042321222230020053009357426aae7940108cccd5cd19b875003480088c848888c004014c01cd5d09aab9e500523333573466e1d40112000232122223003005375c6ae84d55cf280311931900819ab9c01101000e00d00c00b135573aa00226ea80048c8c8cccd5cd19b8735573aa004900011991091980080180118029aba15002375a6ae84d5d1280111931900619ab9c00d00c00a135573ca00226ea80048c8cccd5cd19b8735573aa002900011bae357426aae7940088c98c8028cd5ce00580500409baa001232323232323333573466e1d4005200c21222222200323333573466e1d4009200a21222222200423333573466e1d400d2008233221222222233001009008375c6ae854014dd69aba135744a00a46666ae68cdc3a8022400c4664424444444660040120106eb8d5d0a8039bae357426ae89401c8cccd5cd19b875005480108cc8848888888cc018024020c030d5d0a8049bae357426ae8940248cccd5cd19b875006480088c848888888c01c020c034d5d09aab9e500b23333573466e1d401d2000232122222223005008300e357426aae7940308c98c804ccd5ce00a00980880800780700680600589aab9d5004135573ca00626aae7940084d55cf280089baa0012323232323333573466e1d400520022333222122333001005004003375a6ae854010dd69aba15003375a6ae84d5d1280191999ab9a3370ea0049000119091180100198041aba135573ca00c464c6401866ae700340300280244d55cea80189aba25001135573ca00226ea80048c8c8cccd5cd19b875001480088c8488c00400cdd71aba135573ca00646666ae68cdc3a8012400046424460040066eb8d5d09aab9e500423263200933573801401200e00c26aae7540044dd500089119191999ab9a3370ea00290021091100091999ab9a3370ea00490011190911180180218031aba135573ca00846666ae68cdc3a801a400042444004464c6401466ae7002c02802001c0184d55cea80089baa0012323333573466e1d40052002212200223333573466e1d40092000212200123263200633573800e00c00800626aae74dd5000a4c240029201035054310011232300100122330033002002001323233223232323232332232323233223232322223500322323233355300e12001350145013235001223335530111200135017501623500122333500123301d4800000488cc0780080048cc074005200000133008002001323500122222222222233355301a12001335021223355301b120012350012233550230023355301e12001235001223355026002333500123302e4800000488cc0bc0080048cc0b8005200000133016002001501d2350012235001222200300c350042200233500e335501000233500e335501000148009403d403c88cd54c01c480048d400488cd5403c008ccd40048cd54c02c480048d400488cd5404c008d5403400400488ccd5540200380080048cd54c02c480048d400488cd5404c008d54030004004ccd55400c024008004444888ccd54c010480054028cd54c01c480048d400488cd5403c008d54024004ccd54c0104800488d4008894cd4ccd54c03048004c8cd405088ccd400c88008008004d40048800448cc004894cd4008406440040588d400488cc028008014018400c4cd403801000d402c004cd54c01c480048d400488c8cd5404000cc004014c8004d5405c894cd40044d5402800c884d4008894cd4cc03000802044888cc0080280104c01800c008c8004d5404088448894cd40044008884cc014008ccd54c01c480040140100044484888c00c0104484888c004010c8004d540348844894cd400454020884cd4024c010008cd54c01848004010004c8004d5403088448894cd40044d400c88004884ccd401488008c010008ccd54c01c4800401401000488ccd5cd19b8f00200100b00a11220021221223300100400311221233001003002112330012253350021001100700612335002223335003220020020013500122001122123300100300222333573466e2400800401000c48800848800488cdc0001000889191800800911980198010010009\",\r\n",
      "                \"description\": \"\",\r\n",
      "                \"type\": \"PlutusScriptV2\"\r\n",
      "            },\r\n",
      "            \"size\": 2675,\r\n",
      "            \"txIn\": null\r\n",
      "        },\r\n",
      "        \"slotConfig\": {\r\n",
      "            \"scSlotLength\": 1000,\r\n",
      "            \"scSlotZeroTime\": 1666656000000\r\n",
      "        },\r\n",
      "        \"state\": {\r\n",
      "            \"accounts\": [\r\n",
      "                [\r\n",
      "                    [\r\n",
      "                        {\r\n",
      "                            \"role_token\": \"Party1\"\r\n",
      "                        },\r\n",
      "                        {\r\n",
      "                            \"currency_symbol\": \"\",\r\n",
      "                            \"token_name\": \"\"\r\n",
      "                        }\r\n",
      "                    ],\r\n",
      "                    3000000\r\n",
      "                ]\r\n",
      "            ],\r\n",
      "            \"boundValues\": [],\r\n",
      "            \"choices\": [],\r\n",
      "            \"minTime\": 1\r\n",
      "        }\r\n",
      "    }\r\n",
      "}"
     ]
    }
   ],
   "source": [
    "# show content of file \n",
    "!cat tx-1.marlowe"
   ]
  },
  {
   "cell_type": "code",
   "execution_count": 345,
   "id": "016a4dec-8b55-4bad-b813-e5fbf3a16b5d",
   "metadata": {},
   "outputs": [
    {
     "name": "stdout",
     "output_type": "stream",
     "text": [
      "{\n",
      "    \"state\": {\n",
      "        \"choices\": [],\n",
      "        \"boundValues\": [],\n",
      "        \"accounts\": [\n",
      "            [\n",
      "                [\n",
      "                    {\n",
      "                        \"role_token\": \"Party1\"\n",
      "                    },\n",
      "                    {\n",
      "                        \"currency_symbol\": \"\",\n",
      "                        \"token_name\": \"\"\n",
      "                    }\n",
      "                ],\n",
      "                3000000\n",
      "            ]\n",
      "        ],\n",
      "        \"minTime\": 1\n",
      "    },\n",
      "    \"payments\": [],\n",
      "    \"contract\": {\n",
      "        \"timeout\": 1658454012000,\n",
      "        \"when\": [\n",
      "            {\n",
      "                \"then\": {\n",
      "                    \"timeout\": 1658454012000,\n",
      "                    \"when\": [\n",
      "                        {\n",
      "                            \"then\": {\n",
      "                                \"then\": {\n",
      "                                    \"then\": \"close\",\n",
      "                                    \"to\": {\n",
      "                                        \"party\": {\n",
      "                                            \"role_token\": \"Party1\"\n",
      "                                        }\n",
      "                                    },\n",
      "                                    \"from_account\": {\n",
      "                                        \"role_token\": \"Party2\"\n",
      "                                    },\n",
      "                                    \"pay\": 100000000,\n",
      "                                    \"token\": {\n",
      "                                        \"currency_symbol\": \"\",\n",
      "                                        \"token_name\": \"\"\n",
      "                                    }\n",
      "                                },\n",
      "                                \"to\": {\n",
      "                                    \"party\": {\n",
      "                                        \"role_token\": \"Party2\"\n",
      "                                    }\n",
      "                                },\n",
      "                                \"from_account\": {\n",
      "                                    \"role_token\": \"Party1\"\n",
      "                                },\n",
      "                                \"pay\": 200000000,\n",
      "                                \"token\": {\n",
      "                                    \"currency_symbol\": \"\",\n",
      "                                    \"token_name\": \"\"\n",
      "                                }\n",
      "                            },\n",
      "                            \"case\": {\n",
      "                                \"deposits\": 100000000,\n",
      "                                \"into_account\": {\n",
      "                                    \"role_token\": \"Party2\"\n",
      "                                },\n",
      "                                \"of_token\": {\n",
      "                                    \"currency_symbol\": \"\",\n",
      "                                    \"token_name\": \"\"\n",
      "                                },\n",
      "                                \"party\": {\n",
      "                                    \"role_token\": \"Party2\"\n",
      "                                }\n",
      "                            }\n",
      "                        }\n",
      "                    ],\n",
      "                    \"timeout_continuation\": \"close\"\n",
      "                },\n",
      "                \"case\": {\n",
      "                    \"deposits\": 200000000,\n",
      "                    \"into_account\": {\n",
      "                        \"role_token\": \"Party1\"\n",
      "                    },\n",
      "                    \"of_token\": {\n",
      "                        \"currency_symbol\": \"\",\n",
      "                        \"token_name\": \"\"\n",
      "                    },\n",
      "                    \"party\": {\n",
      "                        \"role_token\": \"Party1\"\n",
      "                    }\n",
      "                }\n",
      "            }\n",
      "        ],\n",
      "        \"timeout_continuation\": \"close\"\n",
      "    },\n",
      "    \"rolesValidator\": {\n",
      "        \"hash\": \"05c024f767cadaf9bab2564b596344048e448298c616a2fd2cfa6c6d\",\n",
      "        \"size\": 2469,\n",
      "        \"address\": \"addr_test1wqzuqf8hvl9d47d6kftykktrgszgu3yznrrpdgha9naxcmgr8le36\",\n",
      "        \"cost\": {\n",
      "            \"exBudgetMemory\": 14600,\n",
      "            \"exBudgetCPU\": 4317185\n",
      "        },\n",
      "        \"script\": {\n",
      "            \"type\": \"PlutusScriptV1\",\n",
      "            \"cborHex\": \"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\",\n",
      "            \"description\": \"\"\n",
      "        }\n",
      "    },\n",
      "    \"range\": null,\n",
      "    \"marloweValidator\": {\n",
      "        \"hash\": \"0585bb49e0fd52e0013f72521f3afe905e32055d42cf2ee1788913e2\",\n",
      "        \"size\": 12415,\n",
      "        \"address\": \"addr_test1wqzctw6fur749cqp8ae9y8e6l6g9uvs9t4pv7thp0zy38cssc9g3z\",\n",
      "        \"cost\": {\n",
      "            \"exBudgetMemory\": 82900,\n",
      "            \"exBudgetCPU\": 24652144\n",
      "        },\n",
      "        \"script\": {\n",
      "            \"type\": \"PlutusScriptV1\",\n",
      "            \"cborHex\": \"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\",\n",
      "            \"description\": \"\"\n",
      "        }\n",
      "    },\n",
      "    \"inputs\": [],\n",
      "    \"roles\": {\n",
      "        \"unCurrencySymbol\": \"6f4f37e5c163a2f77935f395434c49bc4de8d1894a3bd80ac239a508\"\n",
      "    },\n",
      "    \"slotConfig\": {\n",
      "        \"scSlotLength\": 1000,\n",
      "        \"scSlotZeroTime\": 1649949631000\n",
      "    }\n",
      "}"
     ]
    }
   ],
   "source": [
    "# # show content of file \n",
    "# !cat tx-1.marlowe"
   ]
  },
  {
   "cell_type": "markdown",
   "id": "7ef327a7-a519-47a2-a395-5e9f69a4259c",
   "metadata": {},
   "source": [
    "### initial deposit (step2)\n",
    "In the state file it was hard-coded to pay the initial deposit of 3 ADA,  \n",
    "in order for the contract to be activated/initialized.  \n",
    "A transaction fee will also be taken.  "
   ]
  },
  {
   "cell_type": "markdown",
   "id": "57e45c7f-574e-4b64-ab86-11dd4656ea6e",
   "metadata": {},
   "source": [
    "```text\n",
    "Run a Marlowe transaction\n",
    "\n",
    "marlowe-cli run execute:\n",
    "\n",
    "  --testnet-magic INTEGER          Network magic\n",
    "  --socket-path SOCKET_FILE        Location of the cardano-node socket file\n",
    "  --marlowe-in-file MARLOWE_FILE   JSON file with the Marlowe initial state and initial contract\n",
    "  --tx-in-marlowe TXID#TXIX        UTxO spent from Marlowe contract\n",
    "  --tx-in-collateral TXID#TXIX     Collateral for transaction\n",
    "  --marlowe-out-file MARLOWE_FILE  JSON file with the Marlowe inputs, final state, and final contract\n",
    "  --tx-in TXID#TXIX                Transaction input in TxId#TxIx format\n",
    "  --tx-out ADDRESS+VALUE           Transaction output in ADDRESS+VALUE format\n",
    "  --change-address ADDRESS         Address to receive ADA in excess of fee\n",
    "  --required-signer SIGNING_FILE   File containing a required signing key\n",
    "  --metadata-file METADATA_FILE    JSON file containing metadata\n",
    "  --out-file FILE                  Output file for transaction body\n",
    "  --submit SECONDS                 Also submit the transaction, and wait for confirmation\n",
    "  --print-stats                    Print statistics\n",
    "  --script-invalid                 Assert that the transaction is invalid\n",
    "```"
   ]
  },
  {
   "cell_type": "code",
   "execution_count": 57,
   "id": "61cff8d0",
   "metadata": {},
   "outputs": [
    {
     "data": {
      "text/plain": [
       "'d007adb1b4ed647781eab93bb181f70195db93ae65dca353a5fc5a2985c65e6c#0'"
      ]
     },
     "execution_count": 57,
     "metadata": {},
     "output_type": "execute_result"
    }
   ],
   "source": [
    "TX1_PARTY1_ADA"
   ]
  },
  {
   "cell_type": "code",
   "execution_count": 58,
   "id": "9cc1017b",
   "metadata": {},
   "outputs": [
    {
     "data": {
      "text/plain": [
       "'addr_test1vpqflumj2n8d43k22k4v9xfzvpd70jwfra7cruv04uht0tsj0t9x5'"
      ]
     },
     "execution_count": 58,
     "metadata": {},
     "output_type": "execute_result"
    }
   ],
   "source": [
    "PARTY1_ADDRESS"
   ]
  },
  {
   "cell_type": "code",
   "execution_count": 87,
   "id": "ca59ce4e",
   "metadata": {},
   "outputs": [],
   "source": [
    "# this should automatically 'stated in the contract' send the minimum 3 ADA + Fee to the contract. \n",
    "# this is not specified in the CLI command to send 3 ADA, but the tx-1.marlowe does...\n",
    "# --marlowe-out-file\n",
    "# JSON file with the Marlowe inputs, final state, and final contract\n",
    "# the \"out\" do not mean it is an output file created, instead it reads in the script.\n",
    "# this will spend 3.191549 tADA and generate another transaction to the contract address !"
   ]
  },
  {
   "cell_type": "code",
   "execution_count": 59,
   "id": "6ce1ca67",
   "metadata": {},
   "outputs": [
    {
     "name": "stdout",
     "output_type": "stream",
     "text": [
      "TxId \"4dd84cf29e802861f44b64d9cfe503b49e008add8ad3923edf395d4d0459eba1\"\n",
      "\n",
      "\n",
      "Fee: Lovelace 191549\n",
      "Size: 527 / 16384 = 3%\n",
      "Execution units:\n",
      "  Memory: 0 / 14000000 = 0%\n",
      "  Steps: 0 / 10000000000 = 0%\n",
      "\n"
     ]
    }
   ],
   "source": [
    "### Run a marlowe contract on the blockchain 'run execute'\n",
    "cmd = [marloweCLI, \"run\", \"execute\",          # Run a Marlowe transaction\n",
    "       \"--testnet-magic\", MAGIC,              # '1567'\n",
    "       \"--socket-path\", SOCKET,               # '/tmp/node.socket'\n",
    "       \"--tx-in\", TX1_PARTY1_ADA,             # '5906e4431fbd83cb9d16862ac7a4278ce707061af1d934f41f00abe2f7f150e9#0'\n",
    "       \"--change-address\", PARTY1_ADDRESS,    # 'addr_test1vppqe9wxg73zfll8yj2v3xg44k8pgnl0k4899pv3r3r2h2qlgsg4t'\n",
    "       \"--required-signer\", PARTY1_SKEYFILE,  # 'wallet1.skey'\n",
    "       \"--marlowe-out-file\", \"tx-1.marlowe\",  # 'tx-1.marlowe' JSON file with the Marlowe inputs, final state, and final contract\n",
    "       \"--out-file\", \"tx-1.raw\",              # 'tx-1.raw'\n",
    "       \"--print-stats\",\n",
    "       \"--submit\", str(600)]                  # '600'\n",
    "result = subprocess.run(cmd, capture_output=True, text=True)\n",
    "print(result.stdout)\n",
    "print(result.stderr)"
   ]
  },
  {
   "cell_type": "code",
   "execution_count": 346,
   "id": "1d717abd",
   "metadata": {},
   "outputs": [
    {
     "name": "stdout",
     "output_type": "stream",
     "text": [
      "TxId \"7cbef19b7c372a9b2ac2bc376f5564ffb84f291230c92c881a0083f18705dadb\"\n",
      "\n",
      "\n",
      "Fee: Lovelace 187545\n",
      "Size: 488 / 32768 = 1%\n",
      "Execution units:\n",
      "  Memory: 0 / 30000000 = 0%\n",
      "  Steps: 0 / 10000000000 = 0%\n",
      "\n"
     ]
    }
   ],
   "source": [
    "# # Run a marlowe contract on the blockchain 'run execute'\n",
    "# cmd = [marloweCLI, \"run\", \"execute\",          # Run a Marlowe transaction\n",
    "#        \"--testnet-magic\", MAGIC,              # '1567'\n",
    "#        \"--socket-path\", SOCKET,               # '/tmp/node.socket'\n",
    "#        \"--tx-in\", TX1_PARTY1_ADA,             # '5906e4431fbd83cb9d16862ac7a4278ce707061af1d934f41f00abe2f7f150e9#0'\n",
    "#        \"--change-address\", PARTY1_ADDRESS,    # 'addr_test1vppqe9wxg73zfll8yj2v3xg44k8pgnl0k4899pv3r3r2h2qlgsg4t'\n",
    "#        \"--required-signer\", PARTY1_SKEYFILE,  # 'wallet1.skey'\n",
    "#        \"--marlowe-out-file\", \"tx-1.marlowe\",  # 'tx-1.marlowe' JSON file with the Marlowe inputs, final state, and final contract\n",
    "#        \"--out-file\", \"tx-1.raw\",              # 'tx-1.raw'\n",
    "#        \"--print-stats\",\n",
    "#        \"--submit\", str(600)]                  # '600'\n",
    "# result = subprocess.run(cmd, capture_output=True, text=True)\n",
    "# print(result.stdout)\n",
    "# print(result.stderr)"
   ]
  },
  {
   "cell_type": "code",
   "execution_count": 60,
   "id": "defa9f8b",
   "metadata": {},
   "outputs": [
    {
     "data": {
      "text/plain": [
       "'4dd84cf29e802861f44b64d9cfe503b49e008add8ad3923edf395d4d0459eba1'"
      ]
     },
     "execution_count": 60,
     "metadata": {},
     "output_type": "execute_result"
    }
   ],
   "source": [
    "# save the transaction id\n",
    "TX2_IN = result.stdout.split('\"')[1]\n",
    "TX2_IN"
   ]
  },
  {
   "cell_type": "code",
   "execution_count": 347,
   "id": "cee41ae2-00b2-42fb-b96f-e87186600359",
   "metadata": {},
   "outputs": [
    {
     "data": {
      "text/plain": [
       "'7cbef19b7c372a9b2ac2bc376f5564ffb84f291230c92c881a0083f18705dadb'"
      ]
     },
     "execution_count": 347,
     "metadata": {},
     "output_type": "execute_result"
    }
   ],
   "source": [
    "# # save the transaction id\n",
    "# TX2_IN = result.stdout.split('\"')[1]\n",
    "# TX2_IN"
   ]
  },
  {
   "cell_type": "markdown",
   "id": "df4051e6-6361-49ed-9bb3-858288671bd9",
   "metadata": {},
   "source": [
    "### prepare contract (stage1-2) "
   ]
  },
  {
   "cell_type": "markdown",
   "id": "b2bcb7e6-d58e-4001-a612-8f1e0ba1a394",
   "metadata": {},
   "source": [
    "```text\n",
    "Prepare the next step of a Marlowe contract and write the output to a JSON file\n",
    "\n",
    "marlowe-cli run prepare:\n",
    "\n",
    "  --marlowe-file MARLOWE_FILE     JSON input file for the Marlowe state and contract\n",
    "  --deposit-account PARTY         The account for the deposit\n",
    "  --deposit-party PARTY           The party making the deposit\n",
    "  --deposit-token TOKEN           The token being deposited, if not ADA\n",
    "  --deposit-amount INTEGER        The amount of token being deposited\n",
    "  --choice-name NAME              The name of the choice made\n",
    "  --choice-party PARTY            The party making the choice\n",
    "  --choice-number INTEGER         The number chosen\n",
    "  --notify                        Notify the contract\n",
    "  --invalid-before POSIX_TIME     Minimum time for the input, in POSIX milliseconds\n",
    "  --invalid-hereafter POSIX_TIME  Maximum time for the input, in POSIX milliseconds\n",
    "  --out-file OUTPUT_FILE          JSON output file for contract\n",
    "  --print-stats                   Print statistics\n",
    "```"
   ]
  },
  {
   "cell_type": "code",
   "execution_count": 90,
   "id": "a90a6338-9fd4-464e-8466-2a461f6e2d03",
   "metadata": {},
   "outputs": [],
   "source": [
    "# I wonder about the NOW+9*HOUR is nowhere written in the contract itself,\n",
    "# we need to further make a drawing explaining and testing what the effects and menings are of these deadlines and why we need them...\n",
    "# question: why is it not str(NOW+10*HOUR) ?\n",
    "# question: this is the hardcoding of the next stage script, right ?\n",
    "# question: is this invalid hereafter time something new, for let's say within this time the next wallet must respond or the contract ends ?"
   ]
  },
  {
   "cell_type": "code",
   "execution_count": 61,
   "id": "717afd7f",
   "metadata": {},
   "outputs": [
    {
     "data": {
      "text/plain": [
       "'Role=Party1'"
      ]
     },
     "execution_count": 61,
     "metadata": {},
     "output_type": "execute_result"
    }
   ],
   "source": [
    "\"Role=\"+PARTY1_TOKENASSETNAME"
   ]
  },
  {
   "cell_type": "code",
   "execution_count": 62,
   "id": "98cff29a",
   "metadata": {},
   "outputs": [
    {
     "data": {
      "text/plain": [
       "'200000000'"
      ]
     },
     "execution_count": 62,
     "metadata": {},
     "output_type": "execute_result"
    }
   ],
   "source": [
    "str(PARTY1_AMOUNT)"
   ]
  },
  {
   "cell_type": "markdown",
   "id": "49f782d1",
   "metadata": {},
   "source": [
    "POSIX time, which is a standard used to represent time as a single numerical value.  \n",
    "It represents the number of seconds that have elapsed since 00:00:00 UTC on January 1, 1970.  "
   ]
  },
  {
   "cell_type": "code",
   "execution_count": 63,
   "id": "be3b1e58",
   "metadata": {},
   "outputs": [
    {
     "data": {
      "text/plain": [
       "'1672929783000'"
      ]
     },
     "execution_count": 63,
     "metadata": {},
     "output_type": "execute_result"
    }
   ],
   "source": [
    "str(NOW)"
   ]
  },
  {
   "cell_type": "code",
   "execution_count": 64,
   "id": "d363a74f",
   "metadata": {},
   "outputs": [
    {
     "name": "stdout",
     "output_type": "stream",
     "text": [
      "2023-01-05 15:43:03\n"
     ]
    }
   ],
   "source": [
    "import datetime\n",
    "\n",
    "def convert_timestamp(timestamp):\n",
    "    return datetime.datetime.fromtimestamp(timestamp / 1000)\n",
    "\n",
    "print(convert_timestamp(NOW))"
   ]
  },
  {
   "cell_type": "code",
   "execution_count": 65,
   "id": "c23bf8a0",
   "metadata": {},
   "outputs": [
    {
     "data": {
      "text/plain": [
       "'1672965783000'"
      ]
     },
     "execution_count": 65,
     "metadata": {},
     "output_type": "execute_result"
    }
   ],
   "source": [
    "str(NOW+10*HOUR)"
   ]
  },
  {
   "cell_type": "code",
   "execution_count": 66,
   "id": "c33a6040",
   "metadata": {},
   "outputs": [
    {
     "name": "stdout",
     "output_type": "stream",
     "text": [
      "2023-01-06 01:43:03\n"
     ]
    }
   ],
   "source": [
    "import datetime\n",
    "\n",
    "def convert_timestamp(timestamp):\n",
    "    return datetime.datetime.fromtimestamp(timestamp / 1000)\n",
    "\n",
    "print(convert_timestamp(NOW+10*HOUR))"
   ]
  },
  {
   "cell_type": "code",
   "execution_count": 67,
   "id": "83a1ad2b",
   "metadata": {},
   "outputs": [
    {
     "name": "stdout",
     "output_type": "stream",
     "text": [
      "2023-01-05 15:51:46\n"
     ]
    }
   ],
   "source": [
    "now = datetime.datetime.now()\n",
    "print(now.strftime(\"%Y-%m-%d %H:%M:%S\"))"
   ]
  },
  {
   "cell_type": "code",
   "execution_count": null,
   "id": "20556a0c",
   "metadata": {},
   "outputs": [],
   "source": []
  },
  {
   "cell_type": "code",
   "execution_count": null,
   "id": "10135fc9",
   "metadata": {},
   "outputs": [],
   "source": []
  },
  {
   "cell_type": "code",
   "execution_count": null,
   "id": "d7e12a42",
   "metadata": {},
   "outputs": [],
   "source": []
  },
  {
   "cell_type": "code",
   "execution_count": null,
   "id": "e5581bd3",
   "metadata": {},
   "outputs": [],
   "source": []
  },
  {
   "cell_type": "code",
   "execution_count": 68,
   "id": "a8ac3f6c",
   "metadata": {},
   "outputs": [
    {
     "name": "stdout",
     "output_type": "stream",
     "text": [
      "--invalid-before:  2023-01-05 15:43:03\n"
     ]
    },
    {
     "data": {
      "text/plain": [
       "1672929783000"
      ]
     },
     "execution_count": 68,
     "metadata": {},
     "output_type": "execute_result"
    }
   ],
   "source": [
    "# Minimum time for the input, in POSIX milliseconds.\n",
    "print(\"--invalid-before: \", convert_timestamp(NOW))\n",
    "NOW"
   ]
  },
  {
   "cell_type": "code",
   "execution_count": 69,
   "id": "47ac7eac",
   "metadata": {},
   "outputs": [
    {
     "name": "stdout",
     "output_type": "stream",
     "text": [
      "--invalid-hereafter:  2023-01-05 19:43:03\n"
     ]
    },
    {
     "data": {
      "text/plain": [
       "1672944183000"
      ]
     },
     "execution_count": 69,
     "metadata": {},
     "output_type": "execute_result"
    }
   ],
   "source": [
    "#  Maximum time for the input, in POSIX milliseconds.\n",
    "print(\"--invalid-hereafter: \", convert_timestamp(NOW+4*HOUR))\n",
    "NOW+4*HOUR"
   ]
  },
  {
   "cell_type": "code",
   "execution_count": null,
   "id": "344e6c8b",
   "metadata": {},
   "outputs": [],
   "source": [
    "# I changed this into this when using v0.0.8.1 and that works somehow\n",
    "#        \"--deposit-account\", \"Role=\"+PARTY1_TOKENASSETNAME, # 'Role=Party1'\n",
    "#        \"--deposit-party\", \"Role=\"+PARTY1_TOKENASSETNAME,   # 'Role=Party1'\n",
    "\n",
    "#        \"--deposit-account\", PARTY1_TOKENASSETNAME, # 'Role=Party1'\n",
    "#        \"--deposit-party\", PARTY1_TOKENASSETNAME,   # 'Role=Party1'"
   ]
  },
  {
   "cell_type": "code",
   "execution_count": 72,
   "id": "de722922",
   "metadata": {},
   "outputs": [
    {
     "name": "stdout",
     "output_type": "stream",
     "text": [
      "TransactionInput {txInterval = (POSIXTime {getPOSIXTime = 1672929783000},POSIXTime {getPOSIXTime = 1672944182999}), txInputs = [NormalInput (IDeposit \"Party1\" \"Party1\" (Token \"\" \"\") 200000000)]}\n",
      "\n",
      "\n",
      "Datum size: 238\n",
      "\n"
     ]
    }
   ],
   "source": [
    "# Simulate the operation of a contract\n",
    "cmd = [marloweCLI, \"run\", \"prepare\",                       # Prepare the next step\n",
    "       \"--marlowe-file\", \"tx-1.marlowe\",                   # 'tx-1.marlowe'\n",
    "       \"--deposit-account\", PARTY1_TOKENASSETNAME, # 'Role=Party1'\n",
    "       \"--deposit-party\", PARTY1_TOKENASSETNAME,   # 'Role=Party1'\n",
    "#        \"--deposit-account\", \"Role=\"+PARTY1_TOKENASSETNAME, # 'Role=Party1'\n",
    "#        \"--deposit-party\", \"Role=\"+PARTY1_TOKENASSETNAME,   # 'Role=Party1'\n",
    "       \"--deposit-amount\", str(PARTY1_AMOUNT),             # '200000000'\n",
    "       \"--invalid-before\", str(NOW),                       # '1672903234000' 2023-01-05 08:20:34\n",
    "       \"--invalid-hereafter\", str((NOW+4*HOUR)-1),             # '1672917634000' 2023-01-05 12:20:34\n",
    "       \"--out-file\", \"tx-2.marlowe\",                       # 'tx-2.marlowe'\n",
    "       \"--print-stats\"]\n",
    "result = subprocess.run(cmd, capture_output=True, text=True)\n",
    "print(result.stdout)\n",
    "print(result.stderr)"
   ]
  },
  {
   "cell_type": "code",
   "execution_count": 104,
   "id": "cb488f13",
   "metadata": {},
   "outputs": [
    {
     "name": "stdout",
     "output_type": "stream",
     "text": [
      "\n",
      "\n",
      "Datum size: 238\n",
      "\n"
     ]
    }
   ],
   "source": [
    "# # Simulate the operation of a contract\n",
    "# cmd = [marloweCLI, \"run\", \"prepare\",                       # Prepare the next step\n",
    "#        \"--marlowe-file\", \"tx-1.marlowe\",                   # 'tx-1.marlowe'\n",
    "#        \"--deposit-account\", PARTY1_TOKENASSETNAME, # 'Role=Party1'\n",
    "#        \"--deposit-party\", PARTY1_TOKENASSETNAME,   # 'Role=Party1'\n",
    "# #        \"--deposit-account\", \"Role=\"+PARTY1_TOKENASSETNAME, # 'Role=Party1'\n",
    "# #        \"--deposit-party\", \"Role=\"+PARTY1_TOKENASSETNAME,   # 'Role=Party1'\n",
    "#        \"--deposit-amount\", str(PARTY1_AMOUNT),             # '200000000'\n",
    "#        \"--invalid-before\", str(NOW),                       # '1672903234000' 2023-01-05 08:20:34\n",
    "#        \"--invalid-hereafter\", str(NOW+4*HOUR),             # '1672917634000' 2023-01-05 12:20:34\n",
    "#        \"--out-file\", \"tx-2.marlowe\",                       # 'tx-2.marlowe'\n",
    "#        \"--print-stats\"]\n",
    "# result = subprocess.run(cmd, capture_output=True, text=True)\n",
    "# print(result.stdout)\n",
    "# print(result.stderr)"
   ]
  },
  {
   "cell_type": "code",
   "execution_count": 353,
   "id": "952ab4d2",
   "metadata": {},
   "outputs": [
    {
     "name": "stdout",
     "output_type": "stream",
     "text": [
      "\n",
      "\n",
      "Datum size: 202\n",
      "\n"
     ]
    }
   ],
   "source": [
    "# # Simulate the operation of a contract\n",
    "# cmd = [marloweCLI, \"run\", \"prepare\",                       # Prepare the next step\n",
    "#        \"--marlowe-file\", \"tx-1.marlowe\",                   # 'tx-1.marlowe'\n",
    "#        \"--deposit-account\", \"Role=\"+PARTY1_TOKENASSETNAME, # 'Role=Party1'\n",
    "#        \"--deposit-party\", \"Role=\"+PARTY1_TOKENASSETNAME,   # 'Role=Party1'\n",
    "#        \"--deposit-amount\", str(PARTY1_AMOUNT),             # '200000000'\n",
    "#        \"--invalid-before\", str(NOW),                       # '1658239769000'\n",
    "#        \"--invalid-hereafter\", str(NOW+9*HOUR),             # '1658272169000'\n",
    "#        \"--out-file\", \"tx-2.marlowe\",                       # 'tx-2.marlowe'\n",
    "#        \"--print-stats\"]\n",
    "# result = subprocess.run(cmd, capture_output=True, text=True)\n",
    "# print(result.stdout)\n",
    "# print(result.stderr)"
   ]
  },
  {
   "cell_type": "markdown",
   "id": "86a3ecab-fe79-44b2-a4cf-2c79b4fa7547",
   "metadata": {},
   "source": [
    "### deposit 200 ADA (step3)"
   ]
  },
  {
   "cell_type": "code",
   "execution_count": 73,
   "id": "488898ea-6374-43bc-803a-2c34ba97b5e2",
   "metadata": {},
   "outputs": [
    {
     "name": "stdout",
     "output_type": "stream",
     "text": [
      "https://preview.cardanoscan.io/address/addr_test1wp4f8ywk4fg672xasahtk4t9k6w3aql943uxz5rt62d4dvqu3c6jv\n"
     ]
    },
    {
     "data": {
      "application/javascript": [
       "window.open(\"https://preview.cardanoscan.io/address/addr_test1wp4f8ywk4fg672xasahtk4t9k6w3aql943uxz5rt62d4dvqu3c6jv\");"
      ],
      "text/plain": [
       "<IPython.core.display.Javascript object>"
      ]
     },
     "metadata": {},
     "output_type": "display_data"
    }
   ],
   "source": [
    "# get the contract address from the smart contract script file\n",
    "marloweValidatorAddress = !jq -r '.tx.marloweValidator.address' tx-1.marlowe\n",
    "\n",
    "# save the address\n",
    "CONTRACT_ADDRESS = marloweValidatorAddress[0]\n",
    "\n",
    "# weblink to the explorer\n",
    "print(\"https://preview.cardanoscan.io/address/\"+str(CONTRACT_ADDRESS))\n",
    "\n",
    "# automatically open the weblink\n",
    "display(Javascript('window.open(\"{url}\");'.format(url=\"https://preview.cardanoscan.io/address/\"+str(marloweValidatorAddress[0]))))"
   ]
  },
  {
   "cell_type": "code",
   "execution_count": 74,
   "id": "998b05f8-19b2-4e07-967d-6df407f52dfb",
   "metadata": {},
   "outputs": [
    {
     "name": "stdout",
     "output_type": "stream",
     "text": [
      "https://preview.cardanoscan.io/address/addr_test1wpyswm4tyqjrmj2xy5glhx9fe7m3n7rwj6fz3qfekly3muckehcu9\n"
     ]
    }
   ],
   "source": [
    "# get the redeem address from the smart contract script file\n",
    "marloweValidatorAddress = !jq -r '.tx.rolesValidator.address' tx-1.marlowe\n",
    "\n",
    "# save the address\n",
    "REDEEM_ADDRESS = marloweValidatorAddress[0]\n",
    "\n",
    "# weblink to the explorer\n",
    "print(\"https://preview.cardanoscan.io/address/\"+str(REDEEM_ADDRESS))"
   ]
  },
  {
   "cell_type": "code",
   "execution_count": 75,
   "id": "ed313bcd-57ba-48f7-935c-c701635cfc03",
   "metadata": {},
   "outputs": [
    {
     "name": "stdout",
     "output_type": "stream",
     "text": [
      "https://preview.cardanoscan.io/address/addr_test1vpqflumj2n8d43k22k4v9xfzvpd70jwfra7cruv04uht0tsj0t9x5\n"
     ]
    }
   ],
   "source": [
    "# weblink to the explorer for wallet 1\n",
    "print(\"https://preview.cardanoscan.io/address/\"+str(PARTY1_ADDRESS))"
   ]
  },
  {
   "cell_type": "code",
   "execution_count": 76,
   "id": "99084234-66f4-4820-b99c-e86c84a56253",
   "metadata": {},
   "outputs": [
    {
     "name": "stdout",
     "output_type": "stream",
     "text": [
      "https://preview.cardanoscan.io/address/addr_test1vqyq7qum3fwuyc6pge0a8td0enx5gctnh43h2zntmkc994qz04pwj\n"
     ]
    }
   ],
   "source": [
    "# weblink to the explorer for wallet 2\n",
    "print(\"https://preview.cardanoscan.io/address/\"+str(PARTY2_ADDRESS))"
   ]
  },
  {
   "cell_type": "code",
   "execution_count": 103,
   "id": "56a4f484",
   "metadata": {},
   "outputs": [
    {
     "data": {
      "text/html": [
       "<div>\n",
       "<style scoped>\n",
       "    .dataframe tbody tr th:only-of-type {\n",
       "        vertical-align: middle;\n",
       "    }\n",
       "\n",
       "    .dataframe tbody tr th {\n",
       "        vertical-align: top;\n",
       "    }\n",
       "\n",
       "    .dataframe thead th {\n",
       "        text-align: right;\n",
       "    }\n",
       "</style>\n",
       "<table border=\"1\" class=\"dataframe\">\n",
       "  <thead>\n",
       "    <tr style=\"text-align: right;\">\n",
       "      <th></th>\n",
       "      <th>address</th>\n",
       "      <th>TxHash</th>\n",
       "      <th>TxIx</th>\n",
       "      <th>lovelace</th>\n",
       "      <th>TokenPolicyId</th>\n",
       "      <th>TokenNameHex</th>\n",
       "      <th>TokenNameAscii</th>\n",
       "      <th>TokenAmount</th>\n",
       "      <th>datumhash</th>\n",
       "      <th>210375bd6fd5d03cde2707b2e87114837d45f7ca7ee80278f945f38e</th>\n",
       "      <th>476c6f6265</th>\n",
       "    </tr>\n",
       "  </thead>\n",
       "  <tbody>\n",
       "    <tr>\n",
       "      <th>0</th>\n",
       "      <td>addr_test1vpec6ur80es2rkkr7j9vg2ge7zjjjnnrdhdnctts66mmw0s6tfk7e</td>\n",
       "      <td>59ee1d14470afa51d6d7d3aebb29f0dfde74e4458a7704518189755d82a8ea49</td>\n",
       "      <td>1</td>\n",
       "      <td>3000000</td>\n",
       "      <td>82335d282571a0381620ee04a969bcb44d45162ca44e08a8cb5134e0</td>\n",
       "      <td>506172747931</td>\n",
       "      <td>Party1</td>\n",
       "      <td>1</td>\n",
       "      <td>NaN</td>\n",
       "      <td>NaN</td>\n",
       "      <td>NaN</td>\n",
       "    </tr>\n",
       "    <tr>\n",
       "      <th>1</th>\n",
       "      <td>addr_test1vpec6ur80es2rkkr7j9vg2ge7zjjjnnrdhdnctts66mmw0s6tfk7e</td>\n",
       "      <td>5a5241e5547810c7312bf187132d5de3826c8224f0988e4df95c9253f74285cb</td>\n",
       "      <td>0</td>\n",
       "      <td>1040442821</td>\n",
       "      <td>NaN</td>\n",
       "      <td>NaN</td>\n",
       "      <td>None</td>\n",
       "      <td>0</td>\n",
       "      <td>NaN</td>\n",
       "      <td>NaN</td>\n",
       "      <td>NaN</td>\n",
       "    </tr>\n",
       "    <tr>\n",
       "      <th>2</th>\n",
       "      <td>addr_test1vpka6uspkmw89l68vrq8l62d4yk5a43xx4ryrfqyxqdqcyczt8y0e</td>\n",
       "      <td>59ee1d14470afa51d6d7d3aebb29f0dfde74e4458a7704518189755d82a8ea49</td>\n",
       "      <td>2</td>\n",
       "      <td>3000000</td>\n",
       "      <td>82335d282571a0381620ee04a969bcb44d45162ca44e08a8cb5134e0</td>\n",
       "      <td>506172747932</td>\n",
       "      <td>Party2</td>\n",
       "      <td>1</td>\n",
       "      <td>NaN</td>\n",
       "      <td>NaN</td>\n",
       "      <td>NaN</td>\n",
       "    </tr>\n",
       "    <tr>\n",
       "      <th>3</th>\n",
       "      <td>addr_test1vpka6uspkmw89l68vrq8l62d4yk5a43xx4ryrfqyxqdqcyczt8y0e</td>\n",
       "      <td>94ace4ba222050903354a9a73fca6a80dda49a2f8cdd81f61e8e3e44df8b6c5a</td>\n",
       "      <td>0</td>\n",
       "      <td>350000000</td>\n",
       "      <td>NaN</td>\n",
       "      <td>NaN</td>\n",
       "      <td>None</td>\n",
       "      <td>0</td>\n",
       "      <td>NaN</td>\n",
       "      <td>NaN</td>\n",
       "      <td>NaN</td>\n",
       "    </tr>\n",
       "    <tr>\n",
       "      <th>4</th>\n",
       "      <td>addr_test1wp4f8ywk4fg672xasahtk4t9k6w3aql943uxz5rt62d4dvqu3c6jv</td>\n",
       "      <td>00cbd222c84bbff42b1c49f718ae21bda1b7ce0488354f51bc6ba815bfa9d2a4</td>\n",
       "      <td>1</td>\n",
       "      <td>1500000</td>\n",
       "      <td>NaN</td>\n",
       "      <td>NaN</td>\n",
       "      <td>NaN</td>\n",
       "      <td>0</td>\n",
       "      <td>3e1b58fb13d4abbf5ee28bc3b911fe015c4fd17dbdcaf0e9eb8da328c7058961</td>\n",
       "      <td>NaN</td>\n",
       "      <td>NaN</td>\n",
       "    </tr>\n",
       "    <tr>\n",
       "      <th>...</th>\n",
       "      <td>...</td>\n",
       "      <td>...</td>\n",
       "      <td>...</td>\n",
       "      <td>...</td>\n",
       "      <td>...</td>\n",
       "      <td>...</td>\n",
       "      <td>...</td>\n",
       "      <td>...</td>\n",
       "      <td>...</td>\n",
       "      <td>...</td>\n",
       "      <td>...</td>\n",
       "    </tr>\n",
       "    <tr>\n",
       "      <th>139</th>\n",
       "      <td>addr_test1wp4f8ywk4fg672xasahtk4t9k6w3aql943uxz5rt62d4dvqu3c6jv</td>\n",
       "      <td>f79c8195c449d6db92e9c3bb517918bf261e69208c9daee27f0ac3cd5d86b078</td>\n",
       "      <td>1</td>\n",
       "      <td>2638045</td>\n",
       "      <td>NaN</td>\n",
       "      <td>NaN</td>\n",
       "      <td>NaN</td>\n",
       "      <td>0</td>\n",
       "      <td>dcfdbc92f23847d6e243e23095883ba99819f6709ce5e579b34abfab2787135a</td>\n",
       "      <td>NaN</td>\n",
       "      <td>NaN</td>\n",
       "    </tr>\n",
       "    <tr>\n",
       "      <th>140</th>\n",
       "      <td>addr_test1wp4f8ywk4fg672xasahtk4t9k6w3aql943uxz5rt62d4dvqu3c6jv</td>\n",
       "      <td>fa24b9526e85b92f0206b80f2844879704d21f2922789776da05156a43edf577</td>\n",
       "      <td>1</td>\n",
       "      <td>3267446</td>\n",
       "      <td>NaN</td>\n",
       "      <td>NaN</td>\n",
       "      <td>NaN</td>\n",
       "      <td>0</td>\n",
       "      <td>423e5dacd368e19d46eb1b6a8d0e55c341f57bd4a7b1d79d28f6305c80bda581</td>\n",
       "      <td>NaN</td>\n",
       "      <td>NaN</td>\n",
       "    </tr>\n",
       "    <tr>\n",
       "      <th>141</th>\n",
       "      <td>addr_test1wp4f8ywk4fg672xasahtk4t9k6w3aql943uxz5rt62d4dvqu3c6jv</td>\n",
       "      <td>fce71f23bbf3e51ff7189558a27aca64ef99b16a3b5087ae02b6d1f16cc8589b</td>\n",
       "      <td>1</td>\n",
       "      <td>1500000</td>\n",
       "      <td>NaN</td>\n",
       "      <td>NaN</td>\n",
       "      <td>NaN</td>\n",
       "      <td>0</td>\n",
       "      <td>53e67e13b129d29d8e39a2e4cdf7411de0ebe25521c04dec561a3d67daefd743</td>\n",
       "      <td>NaN</td>\n",
       "      <td>NaN</td>\n",
       "    </tr>\n",
       "    <tr>\n",
       "      <th>142</th>\n",
       "      <td>addr_test1wpyswm4tyqjrmj2xy5glhx9fe7m3n7rwj6fz3qfekly3muckehcu9</td>\n",
       "      <td>3ea83fd7d9ecf8b99763de66e00a9dd47e06d5fbeff308bbba4f9fa8d0ebb264</td>\n",
       "      <td>2</td>\n",
       "      <td>1193870</td>\n",
       "      <td>NaN</td>\n",
       "      <td>NaN</td>\n",
       "      <td>NaN</td>\n",
       "      <td>0</td>\n",
       "      <td>NaN</td>\n",
       "      <td>{'5377616e': 500}</td>\n",
       "      <td>NaN</td>\n",
       "    </tr>\n",
       "    <tr>\n",
       "      <th>143</th>\n",
       "      <td>addr_test1wpyswm4tyqjrmj2xy5glhx9fe7m3n7rwj6fz3qfekly3muckehcu9</td>\n",
       "      <td>3ea83fd7d9ecf8b99763de66e00a9dd47e06d5fbeff308bbba4f9fa8d0ebb264</td>\n",
       "      <td>3</td>\n",
       "      <td>1198180</td>\n",
       "      <td>NaN</td>\n",
       "      <td>NaN</td>\n",
       "      <td>NaN</td>\n",
       "      <td>0</td>\n",
       "      <td>NaN</td>\n",
       "      <td>NaN</td>\n",
       "      <td>300.0</td>\n",
       "    </tr>\n",
       "  </tbody>\n",
       "</table>\n",
       "<p>144 rows × 11 columns</p>\n",
       "</div>"
      ],
      "text/plain": [
       "                                                             address  \\\n",
       "0    addr_test1vpec6ur80es2rkkr7j9vg2ge7zjjjnnrdhdnctts66mmw0s6tfk7e   \n",
       "1    addr_test1vpec6ur80es2rkkr7j9vg2ge7zjjjnnrdhdnctts66mmw0s6tfk7e   \n",
       "2    addr_test1vpka6uspkmw89l68vrq8l62d4yk5a43xx4ryrfqyxqdqcyczt8y0e   \n",
       "3    addr_test1vpka6uspkmw89l68vrq8l62d4yk5a43xx4ryrfqyxqdqcyczt8y0e   \n",
       "4    addr_test1wp4f8ywk4fg672xasahtk4t9k6w3aql943uxz5rt62d4dvqu3c6jv   \n",
       "..                                                               ...   \n",
       "139  addr_test1wp4f8ywk4fg672xasahtk4t9k6w3aql943uxz5rt62d4dvqu3c6jv   \n",
       "140  addr_test1wp4f8ywk4fg672xasahtk4t9k6w3aql943uxz5rt62d4dvqu3c6jv   \n",
       "141  addr_test1wp4f8ywk4fg672xasahtk4t9k6w3aql943uxz5rt62d4dvqu3c6jv   \n",
       "142  addr_test1wpyswm4tyqjrmj2xy5glhx9fe7m3n7rwj6fz3qfekly3muckehcu9   \n",
       "143  addr_test1wpyswm4tyqjrmj2xy5glhx9fe7m3n7rwj6fz3qfekly3muckehcu9   \n",
       "\n",
       "                                                               TxHash  TxIx  \\\n",
       "0    59ee1d14470afa51d6d7d3aebb29f0dfde74e4458a7704518189755d82a8ea49     1   \n",
       "1    5a5241e5547810c7312bf187132d5de3826c8224f0988e4df95c9253f74285cb     0   \n",
       "2    59ee1d14470afa51d6d7d3aebb29f0dfde74e4458a7704518189755d82a8ea49     2   \n",
       "3    94ace4ba222050903354a9a73fca6a80dda49a2f8cdd81f61e8e3e44df8b6c5a     0   \n",
       "4    00cbd222c84bbff42b1c49f718ae21bda1b7ce0488354f51bc6ba815bfa9d2a4     1   \n",
       "..                                                                ...   ...   \n",
       "139  f79c8195c449d6db92e9c3bb517918bf261e69208c9daee27f0ac3cd5d86b078     1   \n",
       "140  fa24b9526e85b92f0206b80f2844879704d21f2922789776da05156a43edf577     1   \n",
       "141  fce71f23bbf3e51ff7189558a27aca64ef99b16a3b5087ae02b6d1f16cc8589b     1   \n",
       "142  3ea83fd7d9ecf8b99763de66e00a9dd47e06d5fbeff308bbba4f9fa8d0ebb264     2   \n",
       "143  3ea83fd7d9ecf8b99763de66e00a9dd47e06d5fbeff308bbba4f9fa8d0ebb264     3   \n",
       "\n",
       "       lovelace                                             TokenPolicyId  \\\n",
       "0       3000000  82335d282571a0381620ee04a969bcb44d45162ca44e08a8cb5134e0   \n",
       "1    1040442821                                                       NaN   \n",
       "2       3000000  82335d282571a0381620ee04a969bcb44d45162ca44e08a8cb5134e0   \n",
       "3     350000000                                                       NaN   \n",
       "4       1500000                                                       NaN   \n",
       "..          ...                                                       ...   \n",
       "139     2638045                                                       NaN   \n",
       "140     3267446                                                       NaN   \n",
       "141     1500000                                                       NaN   \n",
       "142     1193870                                                       NaN   \n",
       "143     1198180                                                       NaN   \n",
       "\n",
       "     TokenNameHex TokenNameAscii  TokenAmount  \\\n",
       "0    506172747931         Party1            1   \n",
       "1             NaN           None            0   \n",
       "2    506172747932         Party2            1   \n",
       "3             NaN           None            0   \n",
       "4             NaN            NaN            0   \n",
       "..            ...            ...          ...   \n",
       "139           NaN            NaN            0   \n",
       "140           NaN            NaN            0   \n",
       "141           NaN            NaN            0   \n",
       "142           NaN            NaN            0   \n",
       "143           NaN            NaN            0   \n",
       "\n",
       "                                                            datumhash  \\\n",
       "0                                                                 NaN   \n",
       "1                                                                 NaN   \n",
       "2                                                                 NaN   \n",
       "3                                                                 NaN   \n",
       "4    3e1b58fb13d4abbf5ee28bc3b911fe015c4fd17dbdcaf0e9eb8da328c7058961   \n",
       "..                                                                ...   \n",
       "139  dcfdbc92f23847d6e243e23095883ba99819f6709ce5e579b34abfab2787135a   \n",
       "140  423e5dacd368e19d46eb1b6a8d0e55c341f57bd4a7b1d79d28f6305c80bda581   \n",
       "141  53e67e13b129d29d8e39a2e4cdf7411de0ebe25521c04dec561a3d67daefd743   \n",
       "142                                                               NaN   \n",
       "143                                                               NaN   \n",
       "\n",
       "    210375bd6fd5d03cde2707b2e87114837d45f7ca7ee80278f945f38e  476c6f6265  \n",
       "0                                                        NaN         NaN  \n",
       "1                                                        NaN         NaN  \n",
       "2                                                        NaN         NaN  \n",
       "3                                                        NaN         NaN  \n",
       "4                                                        NaN         NaN  \n",
       "..                                                       ...         ...  \n",
       "139                                                      NaN         NaN  \n",
       "140                                                      NaN         NaN  \n",
       "141                                                      NaN         NaN  \n",
       "142                                        {'5377616e': 500}         NaN  \n",
       "143                                                      NaN       300.0  \n",
       "\n",
       "[144 rows x 11 columns]"
      ]
     },
     "execution_count": 103,
     "metadata": {},
     "output_type": "execute_result"
    }
   ],
   "source": [
    "# check wallet1, wallet2 and contract, redeem address\n",
    "pd.concat([query_df(PARTY1_ADDRESS), query_df(PARTY2_ADDRESS), query_df(CONTRACT_ADDRESS), query_df(REDEEM_ADDRESS)]).reset_index(drop=True)"
   ]
  },
  {
   "cell_type": "code",
   "execution_count": 530,
   "id": "43af2d93-aa97-4308-a876-9961a4645d31",
   "metadata": {},
   "outputs": [
    {
     "data": {
      "text/html": [
       "<div>\n",
       "<style scoped>\n",
       "    .dataframe tbody tr th:only-of-type {\n",
       "        vertical-align: middle;\n",
       "    }\n",
       "\n",
       "    .dataframe tbody tr th {\n",
       "        vertical-align: top;\n",
       "    }\n",
       "\n",
       "    .dataframe thead th {\n",
       "        text-align: right;\n",
       "    }\n",
       "</style>\n",
       "<table border=\"1\" class=\"dataframe\">\n",
       "  <thead>\n",
       "    <tr style=\"text-align: right;\">\n",
       "      <th></th>\n",
       "      <th>address</th>\n",
       "      <th>TxHash</th>\n",
       "      <th>TxIx</th>\n",
       "      <th>lovelace</th>\n",
       "      <th>TokenPolicyId</th>\n",
       "      <th>TokenNameHex</th>\n",
       "      <th>TokenNameAscii</th>\n",
       "      <th>TokenAmount</th>\n",
       "      <th>datumhash</th>\n",
       "    </tr>\n",
       "  </thead>\n",
       "  <tbody>\n",
       "    <tr>\n",
       "      <th>0</th>\n",
       "      <td>addr_test1vpha99j2s5slc5q26d884rhc3jzuxqex5javsak5enlg8wsel4z2t</td>\n",
       "      <td>7cbef19b7c372a9b2ac2bc376f5564ffb84f291230c92c881a0083f18705dadb</td>\n",
       "      <td>0</td>\n",
       "      <td>490451577</td>\n",
       "      <td>NaN</td>\n",
       "      <td>NaN</td>\n",
       "      <td>None</td>\n",
       "      <td>0</td>\n",
       "      <td>NaN</td>\n",
       "    </tr>\n",
       "    <tr>\n",
       "      <th>1</th>\n",
       "      <td>addr_test1vpha99j2s5slc5q26d884rhc3jzuxqex5javsak5enlg8wsel4z2t</td>\n",
       "      <td>4c7f8ff0c3da6143147f2da4a3fccd30dee8dc4b71c0a74ee272557a1ec2ea17</td>\n",
       "      <td>1</td>\n",
       "      <td>3000000</td>\n",
       "      <td>6f4f37e5c163a2f77935f395434c49bc4de8d1894a3bd80ac239a508</td>\n",
       "      <td>506172747931</td>\n",
       "      <td>Party1</td>\n",
       "      <td>1</td>\n",
       "      <td>NaN</td>\n",
       "    </tr>\n",
       "    <tr>\n",
       "      <th>2</th>\n",
       "      <td>addr_test1vzn7ef2cx8h5y4jvxnn34pn3lzak5t537fx09j7zxdljs3gc5zgw6</td>\n",
       "      <td>4c7f8ff0c3da6143147f2da4a3fccd30dee8dc4b71c0a74ee272557a1ec2ea17</td>\n",
       "      <td>2</td>\n",
       "      <td>3000000</td>\n",
       "      <td>6f4f37e5c163a2f77935f395434c49bc4de8d1894a3bd80ac239a508</td>\n",
       "      <td>506172747932</td>\n",
       "      <td>Party2</td>\n",
       "      <td>1</td>\n",
       "      <td>NaN</td>\n",
       "    </tr>\n",
       "    <tr>\n",
       "      <th>3</th>\n",
       "      <td>addr_test1vzn7ef2cx8h5y4jvxnn34pn3lzak5t537fx09j7zxdljs3gc5zgw6</td>\n",
       "      <td>ed62a729c96269053eef4aa5e4fabf9f6f85b7bb56f49481142ffcbe5f72aa33</td>\n",
       "      <td>3</td>\n",
       "      <td>500000000</td>\n",
       "      <td>NaN</td>\n",
       "      <td>NaN</td>\n",
       "      <td>None</td>\n",
       "      <td>0</td>\n",
       "      <td>NaN</td>\n",
       "    </tr>\n",
       "    <tr>\n",
       "      <th>4</th>\n",
       "      <td>addr_test1wqzctw6fur749cqp8ae9y8e6l6g9uvs9t4pv7thp0zy38cssc9g3z</td>\n",
       "      <td>7cbef19b7c372a9b2ac2bc376f5564ffb84f291230c92c881a0083f18705dadb</td>\n",
       "      <td>1</td>\n",
       "      <td>3000000</td>\n",
       "      <td>NaN</td>\n",
       "      <td>NaN</td>\n",
       "      <td>NaN</td>\n",
       "      <td>0</td>\n",
       "      <td>0e810f91611be5f0023233e5aa189dd099ad96d05437ffe0bc59a0f9a0137d64</td>\n",
       "    </tr>\n",
       "    <tr>\n",
       "      <th>5</th>\n",
       "      <td>addr_test1wqzuqf8hvl9d47d6kftykktrgszgu3yznrrpdgha9naxcmgr8le36</td>\n",
       "      <td>NaN</td>\n",
       "      <td>0</td>\n",
       "      <td>0</td>\n",
       "      <td>NaN</td>\n",
       "      <td>NaN</td>\n",
       "      <td>NaN</td>\n",
       "      <td>0</td>\n",
       "      <td>NaN</td>\n",
       "    </tr>\n",
       "  </tbody>\n",
       "</table>\n",
       "</div>"
      ],
      "text/plain": [
       "                                                           address  \\\n",
       "0  addr_test1vpha99j2s5slc5q26d884rhc3jzuxqex5javsak5enlg8wsel4z2t   \n",
       "1  addr_test1vpha99j2s5slc5q26d884rhc3jzuxqex5javsak5enlg8wsel4z2t   \n",
       "2  addr_test1vzn7ef2cx8h5y4jvxnn34pn3lzak5t537fx09j7zxdljs3gc5zgw6   \n",
       "3  addr_test1vzn7ef2cx8h5y4jvxnn34pn3lzak5t537fx09j7zxdljs3gc5zgw6   \n",
       "4  addr_test1wqzctw6fur749cqp8ae9y8e6l6g9uvs9t4pv7thp0zy38cssc9g3z   \n",
       "5  addr_test1wqzuqf8hvl9d47d6kftykktrgszgu3yznrrpdgha9naxcmgr8le36   \n",
       "\n",
       "                                                             TxHash  TxIx  \\\n",
       "0  7cbef19b7c372a9b2ac2bc376f5564ffb84f291230c92c881a0083f18705dadb     0   \n",
       "1  4c7f8ff0c3da6143147f2da4a3fccd30dee8dc4b71c0a74ee272557a1ec2ea17     1   \n",
       "2  4c7f8ff0c3da6143147f2da4a3fccd30dee8dc4b71c0a74ee272557a1ec2ea17     2   \n",
       "3  ed62a729c96269053eef4aa5e4fabf9f6f85b7bb56f49481142ffcbe5f72aa33     3   \n",
       "4  7cbef19b7c372a9b2ac2bc376f5564ffb84f291230c92c881a0083f18705dadb     1   \n",
       "5                                                               NaN     0   \n",
       "\n",
       "    lovelace                                             TokenPolicyId  \\\n",
       "0  490451577                                                       NaN   \n",
       "1    3000000  6f4f37e5c163a2f77935f395434c49bc4de8d1894a3bd80ac239a508   \n",
       "2    3000000  6f4f37e5c163a2f77935f395434c49bc4de8d1894a3bd80ac239a508   \n",
       "3  500000000                                                       NaN   \n",
       "4    3000000                                                       NaN   \n",
       "5          0                                                       NaN   \n",
       "\n",
       "   TokenNameHex TokenNameAscii  TokenAmount  \\\n",
       "0           NaN           None            0   \n",
       "1  506172747931         Party1            1   \n",
       "2  506172747932         Party2            1   \n",
       "3           NaN           None            0   \n",
       "4           NaN            NaN            0   \n",
       "5           NaN            NaN            0   \n",
       "\n",
       "                                                          datumhash  \n",
       "0                                                               NaN  \n",
       "1                                                               NaN  \n",
       "2                                                               NaN  \n",
       "3                                                               NaN  \n",
       "4  0e810f91611be5f0023233e5aa189dd099ad96d05437ffe0bc59a0f9a0137d64  \n",
       "5                                                               NaN  "
      ]
     },
     "execution_count": 530,
     "metadata": {},
     "output_type": "execute_result"
    }
   ],
   "source": [
    "# # check wallet1, wallet2 and contract, redeem address\n",
    "# pd.concat([query_df(PARTY1_ADDRESS), query_df(PARTY2_ADDRESS), query_df(CONTRACT_ADDRESS), query_df(REDEEM_ADDRESS)]).reset_index(drop=True)"
   ]
  },
  {
   "cell_type": "code",
   "execution_count": 78,
   "id": "5af315a2",
   "metadata": {},
   "outputs": [
    {
     "data": {
      "text/html": [
       "<div>\n",
       "<style scoped>\n",
       "    .dataframe tbody tr th:only-of-type {\n",
       "        vertical-align: middle;\n",
       "    }\n",
       "\n",
       "    .dataframe tbody tr th {\n",
       "        vertical-align: top;\n",
       "    }\n",
       "\n",
       "    .dataframe thead th {\n",
       "        text-align: right;\n",
       "    }\n",
       "</style>\n",
       "<table border=\"1\" class=\"dataframe\">\n",
       "  <thead>\n",
       "    <tr style=\"text-align: right;\">\n",
       "      <th></th>\n",
       "      <th>address</th>\n",
       "      <th>TxHash</th>\n",
       "      <th>TxIx</th>\n",
       "      <th>lovelace</th>\n",
       "      <th>TokenPolicyId</th>\n",
       "      <th>TokenNameHex</th>\n",
       "      <th>TokenNameAscii</th>\n",
       "      <th>TokenAmount</th>\n",
       "      <th>datumhash</th>\n",
       "    </tr>\n",
       "  </thead>\n",
       "  <tbody>\n",
       "    <tr>\n",
       "      <th>0</th>\n",
       "      <td>addr_test1wp4f8ywk4fg672xasahtk4t9k6w3aql943uxz5rt62d4dvqu3c6jv</td>\n",
       "      <td>00cbd222c84bbff42b1c49f718ae21bda1b7ce0488354f51bc6ba815bfa9d2a4</td>\n",
       "      <td>1</td>\n",
       "      <td>1500000</td>\n",
       "      <td>NaN</td>\n",
       "      <td>NaN</td>\n",
       "      <td>NaN</td>\n",
       "      <td>0</td>\n",
       "      <td>3e1b58fb13d4abbf5ee28bc3b911fe015c4fd17dbdcaf0e9eb8da328c7058961</td>\n",
       "    </tr>\n",
       "    <tr>\n",
       "      <th>1</th>\n",
       "      <td>addr_test1wp4f8ywk4fg672xasahtk4t9k6w3aql943uxz5rt62d4dvqu3c6jv</td>\n",
       "      <td>085fab3b6dad7d9ff7fadcdd213a222d97753e84e8a790c04ef3a2b2e2359947</td>\n",
       "      <td>1</td>\n",
       "      <td>1500000</td>\n",
       "      <td>NaN</td>\n",
       "      <td>NaN</td>\n",
       "      <td>NaN</td>\n",
       "      <td>0</td>\n",
       "      <td>3b40695cf4934b693df4a577bdf44c09ce695fa820bd7220b3aff84225b097ab</td>\n",
       "    </tr>\n",
       "    <tr>\n",
       "      <th>2</th>\n",
       "      <td>addr_test1wp4f8ywk4fg672xasahtk4t9k6w3aql943uxz5rt62d4dvqu3c6jv</td>\n",
       "      <td>08c9c42b9cd4f88024750206afa3e82f87222acc0a801c0d2839aedcc437aa25</td>\n",
       "      <td>1</td>\n",
       "      <td>1500000</td>\n",
       "      <td>NaN</td>\n",
       "      <td>NaN</td>\n",
       "      <td>NaN</td>\n",
       "      <td>0</td>\n",
       "      <td>95f1f75e3ea7e024c1a8964ff1685f5edc18575faab1c15258f9474f51f637dd</td>\n",
       "    </tr>\n",
       "    <tr>\n",
       "      <th>3</th>\n",
       "      <td>addr_test1wp4f8ywk4fg672xasahtk4t9k6w3aql943uxz5rt62d4dvqu3c6jv</td>\n",
       "      <td>0dbbf357f1231ba34c8ca6ddec4a949e39c803ff17b391c5f72296f2fce1551d</td>\n",
       "      <td>1</td>\n",
       "      <td>1500000</td>\n",
       "      <td>NaN</td>\n",
       "      <td>NaN</td>\n",
       "      <td>NaN</td>\n",
       "      <td>0</td>\n",
       "      <td>6846f46570a5015f50fc43239c9fa13b99af4409253a5428a58bfb4774f14574</td>\n",
       "    </tr>\n",
       "    <tr>\n",
       "      <th>4</th>\n",
       "      <td>addr_test1wp4f8ywk4fg672xasahtk4t9k6w3aql943uxz5rt62d4dvqu3c6jv</td>\n",
       "      <td>1024a90feccbe2607bdaa0b6a07ee6b189dd563bf078552b7b4790a420235f76</td>\n",
       "      <td>1</td>\n",
       "      <td>1500000</td>\n",
       "      <td>NaN</td>\n",
       "      <td>NaN</td>\n",
       "      <td>NaN</td>\n",
       "      <td>0</td>\n",
       "      <td>aa3b8bbd9ffb8c9688779e46e125c32bdae7601029289067c742a8eca8c5de1c</td>\n",
       "    </tr>\n",
       "    <tr>\n",
       "      <th>...</th>\n",
       "      <td>...</td>\n",
       "      <td>...</td>\n",
       "      <td>...</td>\n",
       "      <td>...</td>\n",
       "      <td>...</td>\n",
       "      <td>...</td>\n",
       "      <td>...</td>\n",
       "      <td>...</td>\n",
       "      <td>...</td>\n",
       "    </tr>\n",
       "    <tr>\n",
       "      <th>136</th>\n",
       "      <td>addr_test1wp4f8ywk4fg672xasahtk4t9k6w3aql943uxz5rt62d4dvqu3c6jv</td>\n",
       "      <td>f4e9580f9900288baaa4a28b2dc429a71fb20bdd1e24ca6ee4b34c98cc37eec2</td>\n",
       "      <td>1</td>\n",
       "      <td>28000000</td>\n",
       "      <td>NaN</td>\n",
       "      <td>NaN</td>\n",
       "      <td>NaN</td>\n",
       "      <td>0</td>\n",
       "      <td>75b0bd86c9df7e5b692bffca2f20b93f5b10b13114d90c5fe88b3b141ba36de9</td>\n",
       "    </tr>\n",
       "    <tr>\n",
       "      <th>137</th>\n",
       "      <td>addr_test1wp4f8ywk4fg672xasahtk4t9k6w3aql943uxz5rt62d4dvqu3c6jv</td>\n",
       "      <td>f780459264cb4d8c7fb4953334753e6eee38f7388bda4ce1cbcc36d7a4b3ea8f</td>\n",
       "      <td>1</td>\n",
       "      <td>1500000</td>\n",
       "      <td>NaN</td>\n",
       "      <td>NaN</td>\n",
       "      <td>NaN</td>\n",
       "      <td>0</td>\n",
       "      <td>9fa9a26513a6eab57d82c37106fc16eb944d759370157b1e661468f25956c3e5</td>\n",
       "    </tr>\n",
       "    <tr>\n",
       "      <th>138</th>\n",
       "      <td>addr_test1wp4f8ywk4fg672xasahtk4t9k6w3aql943uxz5rt62d4dvqu3c6jv</td>\n",
       "      <td>f79c8195c449d6db92e9c3bb517918bf261e69208c9daee27f0ac3cd5d86b078</td>\n",
       "      <td>1</td>\n",
       "      <td>2638045</td>\n",
       "      <td>NaN</td>\n",
       "      <td>NaN</td>\n",
       "      <td>NaN</td>\n",
       "      <td>0</td>\n",
       "      <td>dcfdbc92f23847d6e243e23095883ba99819f6709ce5e579b34abfab2787135a</td>\n",
       "    </tr>\n",
       "    <tr>\n",
       "      <th>139</th>\n",
       "      <td>addr_test1wp4f8ywk4fg672xasahtk4t9k6w3aql943uxz5rt62d4dvqu3c6jv</td>\n",
       "      <td>fa24b9526e85b92f0206b80f2844879704d21f2922789776da05156a43edf577</td>\n",
       "      <td>1</td>\n",
       "      <td>3267446</td>\n",
       "      <td>NaN</td>\n",
       "      <td>NaN</td>\n",
       "      <td>NaN</td>\n",
       "      <td>0</td>\n",
       "      <td>423e5dacd368e19d46eb1b6a8d0e55c341f57bd4a7b1d79d28f6305c80bda581</td>\n",
       "    </tr>\n",
       "    <tr>\n",
       "      <th>140</th>\n",
       "      <td>addr_test1wp4f8ywk4fg672xasahtk4t9k6w3aql943uxz5rt62d4dvqu3c6jv</td>\n",
       "      <td>fce71f23bbf3e51ff7189558a27aca64ef99b16a3b5087ae02b6d1f16cc8589b</td>\n",
       "      <td>1</td>\n",
       "      <td>1500000</td>\n",
       "      <td>NaN</td>\n",
       "      <td>NaN</td>\n",
       "      <td>NaN</td>\n",
       "      <td>0</td>\n",
       "      <td>53e67e13b129d29d8e39a2e4cdf7411de0ebe25521c04dec561a3d67daefd743</td>\n",
       "    </tr>\n",
       "  </tbody>\n",
       "</table>\n",
       "<p>141 rows × 9 columns</p>\n",
       "</div>"
      ],
      "text/plain": [
       "                                                             address  \\\n",
       "0    addr_test1wp4f8ywk4fg672xasahtk4t9k6w3aql943uxz5rt62d4dvqu3c6jv   \n",
       "1    addr_test1wp4f8ywk4fg672xasahtk4t9k6w3aql943uxz5rt62d4dvqu3c6jv   \n",
       "2    addr_test1wp4f8ywk4fg672xasahtk4t9k6w3aql943uxz5rt62d4dvqu3c6jv   \n",
       "3    addr_test1wp4f8ywk4fg672xasahtk4t9k6w3aql943uxz5rt62d4dvqu3c6jv   \n",
       "4    addr_test1wp4f8ywk4fg672xasahtk4t9k6w3aql943uxz5rt62d4dvqu3c6jv   \n",
       "..                                                               ...   \n",
       "136  addr_test1wp4f8ywk4fg672xasahtk4t9k6w3aql943uxz5rt62d4dvqu3c6jv   \n",
       "137  addr_test1wp4f8ywk4fg672xasahtk4t9k6w3aql943uxz5rt62d4dvqu3c6jv   \n",
       "138  addr_test1wp4f8ywk4fg672xasahtk4t9k6w3aql943uxz5rt62d4dvqu3c6jv   \n",
       "139  addr_test1wp4f8ywk4fg672xasahtk4t9k6w3aql943uxz5rt62d4dvqu3c6jv   \n",
       "140  addr_test1wp4f8ywk4fg672xasahtk4t9k6w3aql943uxz5rt62d4dvqu3c6jv   \n",
       "\n",
       "                                                               TxHash  TxIx  \\\n",
       "0    00cbd222c84bbff42b1c49f718ae21bda1b7ce0488354f51bc6ba815bfa9d2a4     1   \n",
       "1    085fab3b6dad7d9ff7fadcdd213a222d97753e84e8a790c04ef3a2b2e2359947     1   \n",
       "2    08c9c42b9cd4f88024750206afa3e82f87222acc0a801c0d2839aedcc437aa25     1   \n",
       "3    0dbbf357f1231ba34c8ca6ddec4a949e39c803ff17b391c5f72296f2fce1551d     1   \n",
       "4    1024a90feccbe2607bdaa0b6a07ee6b189dd563bf078552b7b4790a420235f76     1   \n",
       "..                                                                ...   ...   \n",
       "136  f4e9580f9900288baaa4a28b2dc429a71fb20bdd1e24ca6ee4b34c98cc37eec2     1   \n",
       "137  f780459264cb4d8c7fb4953334753e6eee38f7388bda4ce1cbcc36d7a4b3ea8f     1   \n",
       "138  f79c8195c449d6db92e9c3bb517918bf261e69208c9daee27f0ac3cd5d86b078     1   \n",
       "139  fa24b9526e85b92f0206b80f2844879704d21f2922789776da05156a43edf577     1   \n",
       "140  fce71f23bbf3e51ff7189558a27aca64ef99b16a3b5087ae02b6d1f16cc8589b     1   \n",
       "\n",
       "     lovelace  TokenPolicyId  TokenNameHex  TokenNameAscii  TokenAmount  \\\n",
       "0     1500000            NaN           NaN             NaN            0   \n",
       "1     1500000            NaN           NaN             NaN            0   \n",
       "2     1500000            NaN           NaN             NaN            0   \n",
       "3     1500000            NaN           NaN             NaN            0   \n",
       "4     1500000            NaN           NaN             NaN            0   \n",
       "..        ...            ...           ...             ...          ...   \n",
       "136  28000000            NaN           NaN             NaN            0   \n",
       "137   1500000            NaN           NaN             NaN            0   \n",
       "138   2638045            NaN           NaN             NaN            0   \n",
       "139   3267446            NaN           NaN             NaN            0   \n",
       "140   1500000            NaN           NaN             NaN            0   \n",
       "\n",
       "                                                            datumhash  \n",
       "0    3e1b58fb13d4abbf5ee28bc3b911fe015c4fd17dbdcaf0e9eb8da328c7058961  \n",
       "1    3b40695cf4934b693df4a577bdf44c09ce695fa820bd7220b3aff84225b097ab  \n",
       "2    95f1f75e3ea7e024c1a8964ff1685f5edc18575faab1c15258f9474f51f637dd  \n",
       "3    6846f46570a5015f50fc43239c9fa13b99af4409253a5428a58bfb4774f14574  \n",
       "4    aa3b8bbd9ffb8c9688779e46e125c32bdae7601029289067c742a8eca8c5de1c  \n",
       "..                                                                ...  \n",
       "136  75b0bd86c9df7e5b692bffca2f20b93f5b10b13114d90c5fe88b3b141ba36de9  \n",
       "137  9fa9a26513a6eab57d82c37106fc16eb944d759370157b1e661468f25956c3e5  \n",
       "138  dcfdbc92f23847d6e243e23095883ba99819f6709ce5e579b34abfab2787135a  \n",
       "139  423e5dacd368e19d46eb1b6a8d0e55c341f57bd4a7b1d79d28f6305c80bda581  \n",
       "140  53e67e13b129d29d8e39a2e4cdf7411de0ebe25521c04dec561a3d67daefd743  \n",
       "\n",
       "[141 rows x 9 columns]"
      ]
     },
     "execution_count": 78,
     "metadata": {},
     "output_type": "execute_result"
    }
   ],
   "source": [
    "# check wallet1, wallet2 and contract, redeem address\n",
    "df2 = pd.concat([query_df(CONTRACT_ADDRESS)]).reset_index(drop=True)\n",
    "df2"
   ]
  },
  {
   "cell_type": "code",
   "execution_count": 79,
   "id": "b873ae69",
   "metadata": {},
   "outputs": [
    {
     "data": {
      "text/html": [
       "<div>\n",
       "<style scoped>\n",
       "    .dataframe tbody tr th:only-of-type {\n",
       "        vertical-align: middle;\n",
       "    }\n",
       "\n",
       "    .dataframe tbody tr th {\n",
       "        vertical-align: top;\n",
       "    }\n",
       "\n",
       "    .dataframe thead th {\n",
       "        text-align: right;\n",
       "    }\n",
       "</style>\n",
       "<table border=\"1\" class=\"dataframe\">\n",
       "  <thead>\n",
       "    <tr style=\"text-align: right;\">\n",
       "      <th></th>\n",
       "      <th>address</th>\n",
       "      <th>TxHash</th>\n",
       "      <th>TxIx</th>\n",
       "      <th>lovelace</th>\n",
       "      <th>TokenPolicyId</th>\n",
       "      <th>TokenNameHex</th>\n",
       "      <th>TokenNameAscii</th>\n",
       "      <th>TokenAmount</th>\n",
       "      <th>datumhash</th>\n",
       "    </tr>\n",
       "  </thead>\n",
       "  <tbody>\n",
       "    <tr>\n",
       "      <th>44</th>\n",
       "      <td>addr_test1wp4f8ywk4fg672xasahtk4t9k6w3aql943uxz5rt62d4dvqu3c6jv</td>\n",
       "      <td>4dd84cf29e802861f44b64d9cfe503b49e008add8ad3923edf395d4d0459eba1</td>\n",
       "      <td>1</td>\n",
       "      <td>3000000</td>\n",
       "      <td>NaN</td>\n",
       "      <td>NaN</td>\n",
       "      <td>NaN</td>\n",
       "      <td>0</td>\n",
       "      <td>7599387d26530d1392769a7c1cd04ce2f27de038c21818a17d4880d94e6c2976</td>\n",
       "    </tr>\n",
       "  </tbody>\n",
       "</table>\n",
       "</div>"
      ],
      "text/plain": [
       "                                                            address  \\\n",
       "44  addr_test1wp4f8ywk4fg672xasahtk4t9k6w3aql943uxz5rt62d4dvqu3c6jv   \n",
       "\n",
       "                                                              TxHash  TxIx  \\\n",
       "44  4dd84cf29e802861f44b64d9cfe503b49e008add8ad3923edf395d4d0459eba1     1   \n",
       "\n",
       "    lovelace  TokenPolicyId  TokenNameHex  TokenNameAscii  TokenAmount  \\\n",
       "44   3000000            NaN           NaN             NaN            0   \n",
       "\n",
       "                                                           datumhash  \n",
       "44  7599387d26530d1392769a7c1cd04ce2f27de038c21818a17d4880d94e6c2976  "
      ]
     },
     "execution_count": 79,
     "metadata": {},
     "output_type": "execute_result"
    }
   ],
   "source": [
    "df2[df2['TxHash'] == TX2_IN]"
   ]
  },
  {
   "cell_type": "code",
   "execution_count": 80,
   "id": "29d17705",
   "metadata": {},
   "outputs": [
    {
     "data": {
      "text/html": [
       "<div>\n",
       "<style scoped>\n",
       "    .dataframe tbody tr th:only-of-type {\n",
       "        vertical-align: middle;\n",
       "    }\n",
       "\n",
       "    .dataframe tbody tr th {\n",
       "        vertical-align: top;\n",
       "    }\n",
       "\n",
       "    .dataframe thead th {\n",
       "        text-align: right;\n",
       "    }\n",
       "</style>\n",
       "<table border=\"1\" class=\"dataframe\">\n",
       "  <thead>\n",
       "    <tr style=\"text-align: right;\">\n",
       "      <th></th>\n",
       "      <th>address</th>\n",
       "      <th>TxHash</th>\n",
       "      <th>TxIx</th>\n",
       "      <th>lovelace</th>\n",
       "      <th>TokenPolicyId</th>\n",
       "      <th>TokenNameHex</th>\n",
       "      <th>TokenNameAscii</th>\n",
       "      <th>TokenAmount</th>\n",
       "      <th>datumhash</th>\n",
       "    </tr>\n",
       "  </thead>\n",
       "  <tbody>\n",
       "    <tr>\n",
       "      <th>0</th>\n",
       "      <td>addr_test1vpqflumj2n8d43k22k4v9xfzvpd70jwfra7cruv04uht0tsj0t9x5</td>\n",
       "      <td>4dd84cf29e802861f44b64d9cfe503b49e008add8ad3923edf395d4d0459eba1</td>\n",
       "      <td>0</td>\n",
       "      <td>243417177</td>\n",
       "      <td>NaN</td>\n",
       "      <td>NaN</td>\n",
       "      <td>None</td>\n",
       "      <td>0</td>\n",
       "      <td>NaN</td>\n",
       "    </tr>\n",
       "    <tr>\n",
       "      <th>1</th>\n",
       "      <td>addr_test1vpqflumj2n8d43k22k4v9xfzvpd70jwfra7cruv04uht0tsj0t9x5</td>\n",
       "      <td>d007adb1b4ed647781eab93bb181f70195db93ae65dca353a5fc5a2985c65e6c</td>\n",
       "      <td>1</td>\n",
       "      <td>2000000</td>\n",
       "      <td>8050cb8a6ee792c13aebc35d72e9b5c840ca2e4233d67d16de6b9ff8</td>\n",
       "      <td>506172747931</td>\n",
       "      <td>Party1</td>\n",
       "      <td>1</td>\n",
       "      <td>NaN</td>\n",
       "    </tr>\n",
       "    <tr>\n",
       "      <th>2</th>\n",
       "      <td>addr_test1vqyq7qum3fwuyc6pge0a8td0enx5gctnh43h2zntmkc994qz04pwj</td>\n",
       "      <td>b1ae82baa5a421a060e997e6ff7a4070c521d39fbe962cf04730ec226d589943</td>\n",
       "      <td>0</td>\n",
       "      <td>248856931</td>\n",
       "      <td>NaN</td>\n",
       "      <td>NaN</td>\n",
       "      <td>None</td>\n",
       "      <td>0</td>\n",
       "      <td>NaN</td>\n",
       "    </tr>\n",
       "    <tr>\n",
       "      <th>3</th>\n",
       "      <td>addr_test1vqyq7qum3fwuyc6pge0a8td0enx5gctnh43h2zntmkc994qz04pwj</td>\n",
       "      <td>b1ae82baa5a421a060e997e6ff7a4070c521d39fbe962cf04730ec226d589943</td>\n",
       "      <td>1</td>\n",
       "      <td>2000000</td>\n",
       "      <td>8050cb8a6ee792c13aebc35d72e9b5c840ca2e4233d67d16de6b9ff8</td>\n",
       "      <td>506172747932</td>\n",
       "      <td>Party2</td>\n",
       "      <td>1</td>\n",
       "      <td>NaN</td>\n",
       "    </tr>\n",
       "  </tbody>\n",
       "</table>\n",
       "</div>"
      ],
      "text/plain": [
       "                                                           address  \\\n",
       "0  addr_test1vpqflumj2n8d43k22k4v9xfzvpd70jwfra7cruv04uht0tsj0t9x5   \n",
       "1  addr_test1vpqflumj2n8d43k22k4v9xfzvpd70jwfra7cruv04uht0tsj0t9x5   \n",
       "2  addr_test1vqyq7qum3fwuyc6pge0a8td0enx5gctnh43h2zntmkc994qz04pwj   \n",
       "3  addr_test1vqyq7qum3fwuyc6pge0a8td0enx5gctnh43h2zntmkc994qz04pwj   \n",
       "\n",
       "                                                             TxHash  TxIx  \\\n",
       "0  4dd84cf29e802861f44b64d9cfe503b49e008add8ad3923edf395d4d0459eba1     0   \n",
       "1  d007adb1b4ed647781eab93bb181f70195db93ae65dca353a5fc5a2985c65e6c     1   \n",
       "2  b1ae82baa5a421a060e997e6ff7a4070c521d39fbe962cf04730ec226d589943     0   \n",
       "3  b1ae82baa5a421a060e997e6ff7a4070c521d39fbe962cf04730ec226d589943     1   \n",
       "\n",
       "    lovelace                                             TokenPolicyId  \\\n",
       "0  243417177                                                       NaN   \n",
       "1    2000000  8050cb8a6ee792c13aebc35d72e9b5c840ca2e4233d67d16de6b9ff8   \n",
       "2  248856931                                                       NaN   \n",
       "3    2000000  8050cb8a6ee792c13aebc35d72e9b5c840ca2e4233d67d16de6b9ff8   \n",
       "\n",
       "   TokenNameHex TokenNameAscii  TokenAmount  datumhash  \n",
       "0           NaN           None            0        NaN  \n",
       "1  506172747931         Party1            1        NaN  \n",
       "2           NaN           None            0        NaN  \n",
       "3  506172747932         Party2            1        NaN  "
      ]
     },
     "execution_count": 80,
     "metadata": {},
     "output_type": "execute_result"
    }
   ],
   "source": [
    "# check wallet1, wallet2 and contract, redeem address\n",
    "df = pd.concat([query_df(PARTY1_ADDRESS), query_df(PARTY2_ADDRESS)]).reset_index(drop=True)\n",
    "df"
   ]
  },
  {
   "cell_type": "code",
   "execution_count": 81,
   "id": "5af65639",
   "metadata": {},
   "outputs": [
    {
     "name": "stdout",
     "output_type": "stream",
     "text": [
      "4dd84cf29e802861f44b64d9cfe503b49e008add8ad3923edf395d4d0459eba1#1\n",
      "4dd84cf29e802861f44b64d9cfe503b49e008add8ad3923edf395d4d0459eba1#0\n",
      "d007adb1b4ed647781eab93bb181f70195db93ae65dca353a5fc5a2985c65e6c#1\n",
      "b1ae82baa5a421a060e997e6ff7a4070c521d39fbe962cf04730ec226d589943#0\n",
      "b1ae82baa5a421a060e997e6ff7a4070c521d39fbe962cf04730ec226d589943#1\n"
     ]
    }
   ],
   "source": [
    "TX2_CONTRACT     = TX2_IN + \"#1\"\n",
    "TX2_PARTY1_ADA   = df.iloc[0]['TxHash'] + '#0'\n",
    "TX2_PARTY1_TOKEN = df.iloc[1]['TxHash'] + '#1'\n",
    "TX2_PARTY2_ADA   = df.iloc[2]['TxHash'] + '#0'\n",
    "TX2_PARTY2_TOKEN = df.iloc[3]['TxHash'] + '#1'\n",
    "print(TX2_CONTRACT)\n",
    "print(TX2_PARTY1_ADA)\n",
    "print(TX2_PARTY1_TOKEN)\n",
    "print(TX2_PARTY2_ADA)\n",
    "print(TX2_PARTY2_TOKEN)"
   ]
  },
  {
   "cell_type": "code",
   "execution_count": null,
   "id": "46032af9",
   "metadata": {},
   "outputs": [],
   "source": [
    "# TX2_CONTRACT     = TX2_IN + \"#1\"\n",
    "# TX2_PARTY1_ADA   = TX2_IN + \"#0\"\n",
    "# TX2_PARTY1_TOKEN = TX1_IN + \"#1\"\n",
    "# TX2_PARTY2_ADA   = \"09c3f748b27145d998b392058269cb4f8716f4ec6c5f97deeef6ad5ae409d44b\" + \"#3\"\n",
    "# TX2_PARTY2_TOKEN = TX1_IN + \"#2\""
   ]
  },
  {
   "cell_type": "code",
   "execution_count": 82,
   "id": "0955fec2",
   "metadata": {},
   "outputs": [
    {
     "name": "stdout",
     "output_type": "stream",
     "text": [
      "TxId \"110de87846a0b696ac61fe866aeaa8f6e3ce9f8c6135316c02c789d5dfb3ec81\"\n",
      "\n",
      "\n",
      "Fee: Lovelace 1207675\n",
      "Size: 13578 / 16384 = 82%\n",
      "Execution units:\n",
      "  Memory: 5666244 / 14000000 = 40%\n",
      "  Steps: 1497742887 / 10000000000 = 14%\n",
      "\n"
     ]
    }
   ],
   "source": [
    "cmd = [marloweCLI, \"run\", \"execute\",         # Run a Marlowe transaction\n",
    "       \"--testnet-magic\", MAGIC,             # '1567'\n",
    "       \"--socket-path\", SOCKET,              # '/tmp/node.socket'\n",
    "       \"--marlowe-in-file\", \"tx-1.marlowe\",  # 'tx-1.marlowe'\n",
    "       \"--tx-in-marlowe\", TX2_CONTRACT,      # 'f773c71f9b58dd95fd470aedd9df800838e841aef807102abcd87e3c881fd373#1'\n",
    "       \"--tx-in-collateral\", TX2_PARTY1_ADA, # 'f773c71f9b58dd95fd470aedd9df800838e841aef807102abcd87e3c881fd373#0'\n",
    "       \"--tx-in\", TX2_PARTY1_ADA,            # 'f773c71f9b58dd95fd470aedd9df800838e841aef807102abcd87e3c881fd373#0'\n",
    "       \"--tx-in\", TX2_PARTY1_TOKEN,          # '5906e4431fbd83cb9d16862ac7a4278ce707061af1d934f41f00abe2f7f150e9#1'\n",
    "       \"--change-address\", PARTY1_ADDRESS,   # 'addr_test1vppqe9wxg73zfll8yj2v3xg44k8pgnl0k4899pv3r3r2h2qlgsg4t'\n",
    "       \"--required-signer\", PARTY1_SKEYFILE, # 'wallet1.skey'\n",
    "       \"--marlowe-out-file\", \"tx-2.marlowe\", # 'tx-2.marlowe'\n",
    "       \"--tx-out\", PARTY1_ADDRESS+\"+\"+str(MINIMUM_ADA)+\"+\"+str(1)+\" \"+TOKEN_POLICY_ID+\".\"+PARTY1_TOKENASSETNAME,\n",
    "       # 'addr_test1vppqe9wxg73zfll8yj2v3xg44k8pgnl0k4899pv3r3r2h2qlgsg4t+3000000+1 0b8ffef9a24d8dcdcd7618d74df4753aff6b6b7787b88ac69b4d7e43.Party1'\n",
    "       \"--out-file\", \"tx-2.raw\",             # 'tx-2.raw'\n",
    "       \"--print-stats\",\n",
    "       \"--submit\", \"600\"]                    # '600'\n",
    "result = subprocess.run(cmd, capture_output=True, text=True)\n",
    "print(result.stdout)\n",
    "print(result.stderr)"
   ]
  },
  {
   "cell_type": "code",
   "execution_count": 83,
   "id": "2dca3bf0",
   "metadata": {},
   "outputs": [
    {
     "data": {
      "text/plain": [
       "'110de87846a0b696ac61fe866aeaa8f6e3ce9f8c6135316c02c789d5dfb3ec81'"
      ]
     },
     "execution_count": 83,
     "metadata": {},
     "output_type": "execute_result"
    }
   ],
   "source": [
    "TX3_IN = result.stdout.split('\"')[1]\n",
    "TX3_IN"
   ]
  },
  {
   "cell_type": "code",
   "execution_count": 84,
   "id": "647da503",
   "metadata": {},
   "outputs": [
    {
     "data": {
      "text/html": [
       "<div>\n",
       "<style scoped>\n",
       "    .dataframe tbody tr th:only-of-type {\n",
       "        vertical-align: middle;\n",
       "    }\n",
       "\n",
       "    .dataframe tbody tr th {\n",
       "        vertical-align: top;\n",
       "    }\n",
       "\n",
       "    .dataframe thead th {\n",
       "        text-align: right;\n",
       "    }\n",
       "</style>\n",
       "<table border=\"1\" class=\"dataframe\">\n",
       "  <thead>\n",
       "    <tr style=\"text-align: right;\">\n",
       "      <th></th>\n",
       "      <th>address</th>\n",
       "      <th>TxHash</th>\n",
       "      <th>TxIx</th>\n",
       "      <th>lovelace</th>\n",
       "      <th>TokenPolicyId</th>\n",
       "      <th>TokenNameHex</th>\n",
       "      <th>TokenNameAscii</th>\n",
       "      <th>TokenAmount</th>\n",
       "      <th>datumhash</th>\n",
       "    </tr>\n",
       "  </thead>\n",
       "  <tbody>\n",
       "    <tr>\n",
       "      <th>6</th>\n",
       "      <td>addr_test1wp4f8ywk4fg672xasahtk4t9k6w3aql943uxz5rt62d4dvqu3c6jv</td>\n",
       "      <td>110de87846a0b696ac61fe866aeaa8f6e3ce9f8c6135316c02c789d5dfb3ec81</td>\n",
       "      <td>1</td>\n",
       "      <td>203000000</td>\n",
       "      <td>NaN</td>\n",
       "      <td>NaN</td>\n",
       "      <td>NaN</td>\n",
       "      <td>0</td>\n",
       "      <td>e62bd39502f50049286f72c99a1a6185ffdb764ba1d7c506a95309734f931a1c</td>\n",
       "    </tr>\n",
       "  </tbody>\n",
       "</table>\n",
       "</div>"
      ],
      "text/plain": [
       "                                                           address  \\\n",
       "6  addr_test1wp4f8ywk4fg672xasahtk4t9k6w3aql943uxz5rt62d4dvqu3c6jv   \n",
       "\n",
       "                                                             TxHash  TxIx  \\\n",
       "6  110de87846a0b696ac61fe866aeaa8f6e3ce9f8c6135316c02c789d5dfb3ec81     1   \n",
       "\n",
       "    lovelace  TokenPolicyId  TokenNameHex  TokenNameAscii  TokenAmount  \\\n",
       "6  203000000            NaN           NaN             NaN            0   \n",
       "\n",
       "                                                          datumhash  \n",
       "6  e62bd39502f50049286f72c99a1a6185ffdb764ba1d7c506a95309734f931a1c  "
      ]
     },
     "execution_count": 84,
     "metadata": {},
     "output_type": "execute_result"
    }
   ],
   "source": [
    "# check wallet1, wallet2 and contract, redeem address\n",
    "df3 = pd.concat([query_df(CONTRACT_ADDRESS)]).reset_index(drop=True)\n",
    "df3[df3['TxHash'] == TX3_IN]"
   ]
  },
  {
   "cell_type": "code",
   "execution_count": 86,
   "id": "621aa268",
   "metadata": {},
   "outputs": [
    {
     "data": {
      "text/html": [
       "<div>\n",
       "<style scoped>\n",
       "    .dataframe tbody tr th:only-of-type {\n",
       "        vertical-align: middle;\n",
       "    }\n",
       "\n",
       "    .dataframe tbody tr th {\n",
       "        vertical-align: top;\n",
       "    }\n",
       "\n",
       "    .dataframe thead th {\n",
       "        text-align: right;\n",
       "    }\n",
       "</style>\n",
       "<table border=\"1\" class=\"dataframe\">\n",
       "  <thead>\n",
       "    <tr style=\"text-align: right;\">\n",
       "      <th></th>\n",
       "      <th>address</th>\n",
       "      <th>TxHash</th>\n",
       "      <th>TxIx</th>\n",
       "      <th>lovelace</th>\n",
       "      <th>TokenPolicyId</th>\n",
       "      <th>TokenNameHex</th>\n",
       "      <th>TokenNameAscii</th>\n",
       "      <th>TokenAmount</th>\n",
       "      <th>datumhash</th>\n",
       "    </tr>\n",
       "  </thead>\n",
       "  <tbody>\n",
       "    <tr>\n",
       "      <th>0</th>\n",
       "      <td>addr_test1vpqflumj2n8d43k22k4v9xfzvpd70jwfra7cruv04uht0tsj0t9x5</td>\n",
       "      <td>110de87846a0b696ac61fe866aeaa8f6e3ce9f8c6135316c02c789d5dfb3ec81</td>\n",
       "      <td>0</td>\n",
       "      <td>41209502</td>\n",
       "      <td>NaN</td>\n",
       "      <td>NaN</td>\n",
       "      <td>None</td>\n",
       "      <td>0</td>\n",
       "      <td>NaN</td>\n",
       "    </tr>\n",
       "    <tr>\n",
       "      <th>1</th>\n",
       "      <td>addr_test1vpqflumj2n8d43k22k4v9xfzvpd70jwfra7cruv04uht0tsj0t9x5</td>\n",
       "      <td>110de87846a0b696ac61fe866aeaa8f6e3ce9f8c6135316c02c789d5dfb3ec81</td>\n",
       "      <td>2</td>\n",
       "      <td>3000000</td>\n",
       "      <td>8050cb8a6ee792c13aebc35d72e9b5c840ca2e4233d67d16de6b9ff8</td>\n",
       "      <td>506172747931</td>\n",
       "      <td>Party1</td>\n",
       "      <td>1</td>\n",
       "      <td>NaN</td>\n",
       "    </tr>\n",
       "  </tbody>\n",
       "</table>\n",
       "</div>"
      ],
      "text/plain": [
       "                                                           address  \\\n",
       "0  addr_test1vpqflumj2n8d43k22k4v9xfzvpd70jwfra7cruv04uht0tsj0t9x5   \n",
       "1  addr_test1vpqflumj2n8d43k22k4v9xfzvpd70jwfra7cruv04uht0tsj0t9x5   \n",
       "\n",
       "                                                             TxHash  TxIx  \\\n",
       "0  110de87846a0b696ac61fe866aeaa8f6e3ce9f8c6135316c02c789d5dfb3ec81     0   \n",
       "1  110de87846a0b696ac61fe866aeaa8f6e3ce9f8c6135316c02c789d5dfb3ec81     2   \n",
       "\n",
       "   lovelace                                             TokenPolicyId  \\\n",
       "0  41209502                                                       NaN   \n",
       "1   3000000  8050cb8a6ee792c13aebc35d72e9b5c840ca2e4233d67d16de6b9ff8   \n",
       "\n",
       "   TokenNameHex TokenNameAscii  TokenAmount  datumhash  \n",
       "0           NaN           None            0        NaN  \n",
       "1  506172747931         Party1            1        NaN  "
      ]
     },
     "execution_count": 86,
     "metadata": {},
     "output_type": "execute_result"
    }
   ],
   "source": [
    "df = pd.concat([query_df(PARTY1_ADDRESS)]).reset_index(drop=True)\n",
    "df"
   ]
  },
  {
   "cell_type": "code",
   "execution_count": 88,
   "id": "ca6e832d",
   "metadata": {},
   "outputs": [
    {
     "name": "stdout",
     "output_type": "stream",
     "text": [
      "110de87846a0b696ac61fe866aeaa8f6e3ce9f8c6135316c02c789d5dfb3ec81#1\n",
      "110de87846a0b696ac61fe866aeaa8f6e3ce9f8c6135316c02c789d5dfb3ec81#0\n",
      "110de87846a0b696ac61fe866aeaa8f6e3ce9f8c6135316c02c789d5dfb3ec81#2\n"
     ]
    }
   ],
   "source": [
    "TX3_CONTRACT     = TX3_IN + \"#1\"\n",
    "TX3_PARTY1_ADA   = df.iloc[0]['TxHash'] + '#0'\n",
    "TX3_PARTY1_TOKEN = df.iloc[1]['TxHash'] + '#2'\n",
    "print(TX3_CONTRACT)\n",
    "print(TX3_PARTY1_ADA)\n",
    "print(TX3_PARTY1_TOKEN)"
   ]
  },
  {
   "cell_type": "code",
   "execution_count": null,
   "id": "80ecfe4b-0d23-4133-bf77-e83d187cdaf6",
   "metadata": {},
   "outputs": [],
   "source": [
    "# check wallet1, wallet2 and contract, redeem address\n",
    "pd.concat([query_df(PARTY1_ADDRESS), query_df(PARTY2_ADDRESS), query_df(CONTRACT_ADDRESS), query_df(REDEEM_ADDRESS)]).reset_index(drop=True)"
   ]
  },
  {
   "cell_type": "code",
   "execution_count": null,
   "id": "977bc280",
   "metadata": {},
   "outputs": [],
   "source": [
    "TX3_CONTRACT     = TX3_IN + \"#1\"\n",
    "TX3_PARTY1_ADA   = TX3_IN + \"#0\"\n",
    "TX3_PARTY1_TOKEN = TX3_IN + \"#2\""
   ]
  },
  {
   "cell_type": "markdown",
   "id": "ab3e7e3a-549c-49c6-b175-aed57ba8029d",
   "metadata": {},
   "source": [
    "### prepare contract (stage2-3)"
   ]
  },
  {
   "cell_type": "code",
   "execution_count": 89,
   "id": "a9aadbb4",
   "metadata": {},
   "outputs": [
    {
     "name": "stdout",
     "output_type": "stream",
     "text": [
      "TransactionInput {txInterval = (POSIXTime {getPOSIXTime = 1672929783000},POSIXTime {getPOSIXTime = 1672962183999}), txInputs = [NormalInput (IDeposit \"Party2\" \"Party2\" (Token \"\" \"\") 100000000)]}\n",
      "Payment 1\n",
      "  Acccount: \"Party1\"\n",
      "  Payee: Party \"Party2\"\n",
      "  Ada: Lovelace {getLovelace = 200000000}\n",
      "Payment 2\n",
      "  Acccount: \"Party2\"\n",
      "  Payee: Party \"Party1\"\n",
      "  Ada: Lovelace {getLovelace = 100000000}\n",
      "Payment 3\n",
      "  Acccount: \"Party1\"\n",
      "  Payee: Party \"Party1\"\n",
      "  Ada: Lovelace {getLovelace = 3000000}\n",
      "\n",
      "Rounding  `TransactionInput` txInterval boundries to:(POSIXTime {getPOSIXTime = 1672929783000},POSIXTime {getPOSIXTime = 1672962183999})\n",
      "\n",
      "Datum size: 59\n",
      "\n"
     ]
    }
   ],
   "source": [
    "cmd = [marloweCLI, \"run\", \"prepare\",                       # Prepare the next step\n",
    "       \"--marlowe-file\", \"tx-2.marlowe\",                   # 'tx-2.marlowe'\n",
    "       \"--deposit-account\", PARTY2_TOKENASSETNAME, # 'Party2'\n",
    "       \"--deposit-party\", PARTY2_TOKENASSETNAME,   # 'Party2'\n",
    "       \"--deposit-amount\", str(PARTY2_AMOUNT),             # '100000000'\n",
    "       \"--invalid-before\", str(NOW),                       # '1658239769000'\n",
    "       \"--invalid-hereafter\", str(NOW+9*HOUR),             # '1658272169000'\n",
    "       \"--out-file\", \"tx-3.marlowe\",                       # 'tx-3.marlowe'\n",
    "       \"--print-stats\"]\n",
    "result = subprocess.run(cmd, capture_output=True, text=True)\n",
    "print(result.stdout)\n",
    "print(result.stderr)"
   ]
  },
  {
   "cell_type": "code",
   "execution_count": null,
   "id": "0077420e",
   "metadata": {},
   "outputs": [],
   "source": [
    "# cmd = [marloweCLI, \"run\", \"prepare\",                       # Prepare the next step\n",
    "#        \"--marlowe-file\", \"tx-2.marlowe\",                   # 'tx-2.marlowe'\n",
    "#        \"--deposit-account\", \"Role=\"+PARTY2_TOKENASSETNAME, # 'Party2'\n",
    "#        \"--deposit-party\", \"Role=\"+PARTY2_TOKENASSETNAME,   # 'Party2'\n",
    "#        \"--deposit-amount\", str(PARTY2_AMOUNT),             # '100000000'\n",
    "#        \"--invalid-before\", str(NOW),                       # '1658239769000'\n",
    "#        \"--invalid-hereafter\", str(NOW+9*HOUR),             # '1658272169000'\n",
    "#        \"--out-file\", \"tx-3.marlowe\",                       # 'tx-3.marlowe'\n",
    "#        \"--print-stats\"]\n",
    "# result = subprocess.run(cmd, capture_output=True, text=True)\n",
    "# print(result.stdout)\n",
    "# print(result.stderr)"
   ]
  },
  {
   "cell_type": "markdown",
   "id": "6e650080-c18d-462d-88c1-205f16f29084",
   "metadata": {},
   "source": [
    "### deposit 100 ADA (step4)"
   ]
  },
  {
   "cell_type": "code",
   "execution_count": 90,
   "id": "74675c8a-caa4-4155-93e1-fb2e9bc7c884",
   "metadata": {},
   "outputs": [
    {
     "data": {
      "text/html": [
       "<div>\n",
       "<style scoped>\n",
       "    .dataframe tbody tr th:only-of-type {\n",
       "        vertical-align: middle;\n",
       "    }\n",
       "\n",
       "    .dataframe tbody tr th {\n",
       "        vertical-align: top;\n",
       "    }\n",
       "\n",
       "    .dataframe thead th {\n",
       "        text-align: right;\n",
       "    }\n",
       "</style>\n",
       "<table border=\"1\" class=\"dataframe\">\n",
       "  <thead>\n",
       "    <tr style=\"text-align: right;\">\n",
       "      <th></th>\n",
       "      <th>address</th>\n",
       "      <th>TxHash</th>\n",
       "      <th>TxIx</th>\n",
       "      <th>lovelace</th>\n",
       "      <th>TokenPolicyId</th>\n",
       "      <th>TokenNameHex</th>\n",
       "      <th>TokenNameAscii</th>\n",
       "      <th>TokenAmount</th>\n",
       "      <th>datumhash</th>\n",
       "      <th>210375bd6fd5d03cde2707b2e87114837d45f7ca7ee80278f945f38e</th>\n",
       "      <th>476c6f6265</th>\n",
       "    </tr>\n",
       "  </thead>\n",
       "  <tbody>\n",
       "    <tr>\n",
       "      <th>0</th>\n",
       "      <td>addr_test1vpqflumj2n8d43k22k4v9xfzvpd70jwfra7cruv04uht0tsj0t9x5</td>\n",
       "      <td>110de87846a0b696ac61fe866aeaa8f6e3ce9f8c6135316c02c789d5dfb3ec81</td>\n",
       "      <td>0</td>\n",
       "      <td>41209502</td>\n",
       "      <td>NaN</td>\n",
       "      <td>NaN</td>\n",
       "      <td>None</td>\n",
       "      <td>0</td>\n",
       "      <td>NaN</td>\n",
       "      <td>NaN</td>\n",
       "      <td>NaN</td>\n",
       "    </tr>\n",
       "    <tr>\n",
       "      <th>1</th>\n",
       "      <td>addr_test1vpqflumj2n8d43k22k4v9xfzvpd70jwfra7cruv04uht0tsj0t9x5</td>\n",
       "      <td>110de87846a0b696ac61fe866aeaa8f6e3ce9f8c6135316c02c789d5dfb3ec81</td>\n",
       "      <td>2</td>\n",
       "      <td>3000000</td>\n",
       "      <td>8050cb8a6ee792c13aebc35d72e9b5c840ca2e4233d67d16de6b9ff8</td>\n",
       "      <td>506172747931</td>\n",
       "      <td>Party1</td>\n",
       "      <td>1</td>\n",
       "      <td>NaN</td>\n",
       "      <td>NaN</td>\n",
       "      <td>NaN</td>\n",
       "    </tr>\n",
       "    <tr>\n",
       "      <th>2</th>\n",
       "      <td>addr_test1vqyq7qum3fwuyc6pge0a8td0enx5gctnh43h2zntmkc994qz04pwj</td>\n",
       "      <td>b1ae82baa5a421a060e997e6ff7a4070c521d39fbe962cf04730ec226d589943</td>\n",
       "      <td>0</td>\n",
       "      <td>248856931</td>\n",
       "      <td>NaN</td>\n",
       "      <td>NaN</td>\n",
       "      <td>None</td>\n",
       "      <td>0</td>\n",
       "      <td>NaN</td>\n",
       "      <td>NaN</td>\n",
       "      <td>NaN</td>\n",
       "    </tr>\n",
       "    <tr>\n",
       "      <th>3</th>\n",
       "      <td>addr_test1vqyq7qum3fwuyc6pge0a8td0enx5gctnh43h2zntmkc994qz04pwj</td>\n",
       "      <td>b1ae82baa5a421a060e997e6ff7a4070c521d39fbe962cf04730ec226d589943</td>\n",
       "      <td>1</td>\n",
       "      <td>2000000</td>\n",
       "      <td>8050cb8a6ee792c13aebc35d72e9b5c840ca2e4233d67d16de6b9ff8</td>\n",
       "      <td>506172747932</td>\n",
       "      <td>Party2</td>\n",
       "      <td>1</td>\n",
       "      <td>NaN</td>\n",
       "      <td>NaN</td>\n",
       "      <td>NaN</td>\n",
       "    </tr>\n",
       "    <tr>\n",
       "      <th>4</th>\n",
       "      <td>addr_test1wp4f8ywk4fg672xasahtk4t9k6w3aql943uxz5rt62d4dvqu3c6jv</td>\n",
       "      <td>00cbd222c84bbff42b1c49f718ae21bda1b7ce0488354f51bc6ba815bfa9d2a4</td>\n",
       "      <td>1</td>\n",
       "      <td>1500000</td>\n",
       "      <td>NaN</td>\n",
       "      <td>NaN</td>\n",
       "      <td>NaN</td>\n",
       "      <td>0</td>\n",
       "      <td>3e1b58fb13d4abbf5ee28bc3b911fe015c4fd17dbdcaf0e9eb8da328c7058961</td>\n",
       "      <td>NaN</td>\n",
       "      <td>NaN</td>\n",
       "    </tr>\n",
       "    <tr>\n",
       "      <th>...</th>\n",
       "      <td>...</td>\n",
       "      <td>...</td>\n",
       "      <td>...</td>\n",
       "      <td>...</td>\n",
       "      <td>...</td>\n",
       "      <td>...</td>\n",
       "      <td>...</td>\n",
       "      <td>...</td>\n",
       "      <td>...</td>\n",
       "      <td>...</td>\n",
       "      <td>...</td>\n",
       "    </tr>\n",
       "    <tr>\n",
       "      <th>142</th>\n",
       "      <td>addr_test1wp4f8ywk4fg672xasahtk4t9k6w3aql943uxz5rt62d4dvqu3c6jv</td>\n",
       "      <td>f79c8195c449d6db92e9c3bb517918bf261e69208c9daee27f0ac3cd5d86b078</td>\n",
       "      <td>1</td>\n",
       "      <td>2638045</td>\n",
       "      <td>NaN</td>\n",
       "      <td>NaN</td>\n",
       "      <td>NaN</td>\n",
       "      <td>0</td>\n",
       "      <td>dcfdbc92f23847d6e243e23095883ba99819f6709ce5e579b34abfab2787135a</td>\n",
       "      <td>NaN</td>\n",
       "      <td>NaN</td>\n",
       "    </tr>\n",
       "    <tr>\n",
       "      <th>143</th>\n",
       "      <td>addr_test1wp4f8ywk4fg672xasahtk4t9k6w3aql943uxz5rt62d4dvqu3c6jv</td>\n",
       "      <td>fa24b9526e85b92f0206b80f2844879704d21f2922789776da05156a43edf577</td>\n",
       "      <td>1</td>\n",
       "      <td>3267446</td>\n",
       "      <td>NaN</td>\n",
       "      <td>NaN</td>\n",
       "      <td>NaN</td>\n",
       "      <td>0</td>\n",
       "      <td>423e5dacd368e19d46eb1b6a8d0e55c341f57bd4a7b1d79d28f6305c80bda581</td>\n",
       "      <td>NaN</td>\n",
       "      <td>NaN</td>\n",
       "    </tr>\n",
       "    <tr>\n",
       "      <th>144</th>\n",
       "      <td>addr_test1wp4f8ywk4fg672xasahtk4t9k6w3aql943uxz5rt62d4dvqu3c6jv</td>\n",
       "      <td>fce71f23bbf3e51ff7189558a27aca64ef99b16a3b5087ae02b6d1f16cc8589b</td>\n",
       "      <td>1</td>\n",
       "      <td>1500000</td>\n",
       "      <td>NaN</td>\n",
       "      <td>NaN</td>\n",
       "      <td>NaN</td>\n",
       "      <td>0</td>\n",
       "      <td>53e67e13b129d29d8e39a2e4cdf7411de0ebe25521c04dec561a3d67daefd743</td>\n",
       "      <td>NaN</td>\n",
       "      <td>NaN</td>\n",
       "    </tr>\n",
       "    <tr>\n",
       "      <th>145</th>\n",
       "      <td>addr_test1wpyswm4tyqjrmj2xy5glhx9fe7m3n7rwj6fz3qfekly3muckehcu9</td>\n",
       "      <td>3ea83fd7d9ecf8b99763de66e00a9dd47e06d5fbeff308bbba4f9fa8d0ebb264</td>\n",
       "      <td>2</td>\n",
       "      <td>1193870</td>\n",
       "      <td>NaN</td>\n",
       "      <td>NaN</td>\n",
       "      <td>NaN</td>\n",
       "      <td>0</td>\n",
       "      <td>NaN</td>\n",
       "      <td>{'5377616e': 500}</td>\n",
       "      <td>NaN</td>\n",
       "    </tr>\n",
       "    <tr>\n",
       "      <th>146</th>\n",
       "      <td>addr_test1wpyswm4tyqjrmj2xy5glhx9fe7m3n7rwj6fz3qfekly3muckehcu9</td>\n",
       "      <td>3ea83fd7d9ecf8b99763de66e00a9dd47e06d5fbeff308bbba4f9fa8d0ebb264</td>\n",
       "      <td>3</td>\n",
       "      <td>1198180</td>\n",
       "      <td>NaN</td>\n",
       "      <td>NaN</td>\n",
       "      <td>NaN</td>\n",
       "      <td>0</td>\n",
       "      <td>NaN</td>\n",
       "      <td>NaN</td>\n",
       "      <td>300.0</td>\n",
       "    </tr>\n",
       "  </tbody>\n",
       "</table>\n",
       "<p>147 rows × 11 columns</p>\n",
       "</div>"
      ],
      "text/plain": [
       "                                                             address  \\\n",
       "0    addr_test1vpqflumj2n8d43k22k4v9xfzvpd70jwfra7cruv04uht0tsj0t9x5   \n",
       "1    addr_test1vpqflumj2n8d43k22k4v9xfzvpd70jwfra7cruv04uht0tsj0t9x5   \n",
       "2    addr_test1vqyq7qum3fwuyc6pge0a8td0enx5gctnh43h2zntmkc994qz04pwj   \n",
       "3    addr_test1vqyq7qum3fwuyc6pge0a8td0enx5gctnh43h2zntmkc994qz04pwj   \n",
       "4    addr_test1wp4f8ywk4fg672xasahtk4t9k6w3aql943uxz5rt62d4dvqu3c6jv   \n",
       "..                                                               ...   \n",
       "142  addr_test1wp4f8ywk4fg672xasahtk4t9k6w3aql943uxz5rt62d4dvqu3c6jv   \n",
       "143  addr_test1wp4f8ywk4fg672xasahtk4t9k6w3aql943uxz5rt62d4dvqu3c6jv   \n",
       "144  addr_test1wp4f8ywk4fg672xasahtk4t9k6w3aql943uxz5rt62d4dvqu3c6jv   \n",
       "145  addr_test1wpyswm4tyqjrmj2xy5glhx9fe7m3n7rwj6fz3qfekly3muckehcu9   \n",
       "146  addr_test1wpyswm4tyqjrmj2xy5glhx9fe7m3n7rwj6fz3qfekly3muckehcu9   \n",
       "\n",
       "                                                               TxHash  TxIx  \\\n",
       "0    110de87846a0b696ac61fe866aeaa8f6e3ce9f8c6135316c02c789d5dfb3ec81     0   \n",
       "1    110de87846a0b696ac61fe866aeaa8f6e3ce9f8c6135316c02c789d5dfb3ec81     2   \n",
       "2    b1ae82baa5a421a060e997e6ff7a4070c521d39fbe962cf04730ec226d589943     0   \n",
       "3    b1ae82baa5a421a060e997e6ff7a4070c521d39fbe962cf04730ec226d589943     1   \n",
       "4    00cbd222c84bbff42b1c49f718ae21bda1b7ce0488354f51bc6ba815bfa9d2a4     1   \n",
       "..                                                                ...   ...   \n",
       "142  f79c8195c449d6db92e9c3bb517918bf261e69208c9daee27f0ac3cd5d86b078     1   \n",
       "143  fa24b9526e85b92f0206b80f2844879704d21f2922789776da05156a43edf577     1   \n",
       "144  fce71f23bbf3e51ff7189558a27aca64ef99b16a3b5087ae02b6d1f16cc8589b     1   \n",
       "145  3ea83fd7d9ecf8b99763de66e00a9dd47e06d5fbeff308bbba4f9fa8d0ebb264     2   \n",
       "146  3ea83fd7d9ecf8b99763de66e00a9dd47e06d5fbeff308bbba4f9fa8d0ebb264     3   \n",
       "\n",
       "      lovelace                                             TokenPolicyId  \\\n",
       "0     41209502                                                       NaN   \n",
       "1      3000000  8050cb8a6ee792c13aebc35d72e9b5c840ca2e4233d67d16de6b9ff8   \n",
       "2    248856931                                                       NaN   \n",
       "3      2000000  8050cb8a6ee792c13aebc35d72e9b5c840ca2e4233d67d16de6b9ff8   \n",
       "4      1500000                                                       NaN   \n",
       "..         ...                                                       ...   \n",
       "142    2638045                                                       NaN   \n",
       "143    3267446                                                       NaN   \n",
       "144    1500000                                                       NaN   \n",
       "145    1193870                                                       NaN   \n",
       "146    1198180                                                       NaN   \n",
       "\n",
       "     TokenNameHex TokenNameAscii  TokenAmount  \\\n",
       "0             NaN           None            0   \n",
       "1    506172747931         Party1            1   \n",
       "2             NaN           None            0   \n",
       "3    506172747932         Party2            1   \n",
       "4             NaN            NaN            0   \n",
       "..            ...            ...          ...   \n",
       "142           NaN            NaN            0   \n",
       "143           NaN            NaN            0   \n",
       "144           NaN            NaN            0   \n",
       "145           NaN            NaN            0   \n",
       "146           NaN            NaN            0   \n",
       "\n",
       "                                                            datumhash  \\\n",
       "0                                                                 NaN   \n",
       "1                                                                 NaN   \n",
       "2                                                                 NaN   \n",
       "3                                                                 NaN   \n",
       "4    3e1b58fb13d4abbf5ee28bc3b911fe015c4fd17dbdcaf0e9eb8da328c7058961   \n",
       "..                                                                ...   \n",
       "142  dcfdbc92f23847d6e243e23095883ba99819f6709ce5e579b34abfab2787135a   \n",
       "143  423e5dacd368e19d46eb1b6a8d0e55c341f57bd4a7b1d79d28f6305c80bda581   \n",
       "144  53e67e13b129d29d8e39a2e4cdf7411de0ebe25521c04dec561a3d67daefd743   \n",
       "145                                                               NaN   \n",
       "146                                                               NaN   \n",
       "\n",
       "    210375bd6fd5d03cde2707b2e87114837d45f7ca7ee80278f945f38e  476c6f6265  \n",
       "0                                                        NaN         NaN  \n",
       "1                                                        NaN         NaN  \n",
       "2                                                        NaN         NaN  \n",
       "3                                                        NaN         NaN  \n",
       "4                                                        NaN         NaN  \n",
       "..                                                       ...         ...  \n",
       "142                                                      NaN         NaN  \n",
       "143                                                      NaN         NaN  \n",
       "144                                                      NaN         NaN  \n",
       "145                                        {'5377616e': 500}         NaN  \n",
       "146                                                      NaN       300.0  \n",
       "\n",
       "[147 rows x 11 columns]"
      ]
     },
     "execution_count": 90,
     "metadata": {},
     "output_type": "execute_result"
    }
   ],
   "source": [
    "# check wallet1, wallet2 and contract, redeem address\n",
    "pd.concat([query_df(PARTY1_ADDRESS), query_df(PARTY2_ADDRESS), query_df(CONTRACT_ADDRESS), query_df(REDEEM_ADDRESS)]).reset_index(drop=True)"
   ]
  },
  {
   "cell_type": "code",
   "execution_count": 91,
   "id": "11c3be45",
   "metadata": {},
   "outputs": [
    {
     "name": "stdout",
     "output_type": "stream",
     "text": [
      "TxId \"f5e47b068ebe81fa5e86b24710d7122afded911574a1b9585351d6afcdace61a\"\n",
      "\n",
      "\n",
      "Fee: Lovelace 1302325\n",
      "Size: 13445 / 16384 = 82%\n",
      "Execution units:\n",
      "  Memory: 7006606 / 14000000 = 50%\n",
      "  Steps: 1819010451 / 10000000000 = 18%\n",
      "\n"
     ]
    }
   ],
   "source": [
    "# Run a marlowe contract on the blockchain 'run execute'\n",
    "cmd = [marloweCLI, \"run\", \"execute\", \n",
    "       \"--testnet-magic\", MAGIC,\n",
    "       \"--socket-path\", SOCKET,\n",
    "       \"--marlowe-in-file\", \"tx-2.marlowe\",\n",
    "       \"--tx-in-marlowe\", TX3_CONTRACT,\n",
    "       \"--tx-in-collateral\", TX2_PARTY2_ADA,\n",
    "       \"--tx-in\", TX2_PARTY2_ADA,\n",
    "       \"--tx-in\", TX2_PARTY2_TOKEN,\n",
    "       \"--change-address\", PARTY2_ADDRESS,\n",
    "       \"--required-signer\", PARTY2_SKEYFILE,\n",
    "       \"--marlowe-out-file\", \"tx-3.marlowe\",\n",
    "       \"--tx-out\", PARTY2_ADDRESS+\"+\"+str(MINIMUM_ADA)+\"+\"+str(1)+\" \"+TOKEN_POLICY_ID+\".\"+PARTY2_TOKENASSETNAME,\n",
    "       \"--out-file\", \"tx-3.raw\",\n",
    "       \"--print-stats\",\n",
    "       \"--submit\", \"600\"]\n",
    "result = subprocess.run(cmd, capture_output=True, text=True)\n",
    "print(result.stdout)\n",
    "print(result.stderr)"
   ]
  },
  {
   "cell_type": "code",
   "execution_count": 92,
   "id": "3f4e8545",
   "metadata": {},
   "outputs": [
    {
     "data": {
      "text/plain": [
       "'f5e47b068ebe81fa5e86b24710d7122afded911574a1b9585351d6afcdace61a'"
      ]
     },
     "execution_count": 92,
     "metadata": {},
     "output_type": "execute_result"
    }
   ],
   "source": [
    "TX4_IN = result.stdout.split('\"')[1]\n",
    "TX4_IN"
   ]
  },
  {
   "cell_type": "code",
   "execution_count": null,
   "id": "a0983a57-e240-43a3-b404-16123159ba13",
   "metadata": {},
   "outputs": [],
   "source": [
    "# # check wallet1, wallet2 and contract, redeem address\n",
    "# pd.concat([query_df(PARTY1_ADDRESS), query_df(PARTY2_ADDRESS), query_df(CONTRACT_ADDRESS), query_df(REDEEM_ADDRESS)]).reset_index(drop=True)"
   ]
  },
  {
   "cell_type": "code",
   "execution_count": 93,
   "id": "4f5a487e",
   "metadata": {},
   "outputs": [
    {
     "data": {
      "text/html": [
       "<div>\n",
       "<style scoped>\n",
       "    .dataframe tbody tr th:only-of-type {\n",
       "        vertical-align: middle;\n",
       "    }\n",
       "\n",
       "    .dataframe tbody tr th {\n",
       "        vertical-align: top;\n",
       "    }\n",
       "\n",
       "    .dataframe thead th {\n",
       "        text-align: right;\n",
       "    }\n",
       "</style>\n",
       "<table border=\"1\" class=\"dataframe\">\n",
       "  <thead>\n",
       "    <tr style=\"text-align: right;\">\n",
       "      <th></th>\n",
       "      <th>address</th>\n",
       "      <th>TxHash</th>\n",
       "      <th>TxIx</th>\n",
       "      <th>lovelace</th>\n",
       "      <th>TokenPolicyId</th>\n",
       "      <th>TokenNameHex</th>\n",
       "      <th>TokenNameAscii</th>\n",
       "      <th>TokenAmount</th>\n",
       "      <th>datumhash</th>\n",
       "    </tr>\n",
       "  </thead>\n",
       "  <tbody>\n",
       "    <tr>\n",
       "      <th>0</th>\n",
       "      <td>addr_test1vpqflumj2n8d43k22k4v9xfzvpd70jwfra7cruv04uht0tsj0t9x5</td>\n",
       "      <td>110de87846a0b696ac61fe866aeaa8f6e3ce9f8c6135316c02c789d5dfb3ec81</td>\n",
       "      <td>0</td>\n",
       "      <td>41209502</td>\n",
       "      <td>NaN</td>\n",
       "      <td>NaN</td>\n",
       "      <td>None</td>\n",
       "      <td>0</td>\n",
       "      <td>NaN</td>\n",
       "    </tr>\n",
       "    <tr>\n",
       "      <th>1</th>\n",
       "      <td>addr_test1vpqflumj2n8d43k22k4v9xfzvpd70jwfra7cruv04uht0tsj0t9x5</td>\n",
       "      <td>110de87846a0b696ac61fe866aeaa8f6e3ce9f8c6135316c02c789d5dfb3ec81</td>\n",
       "      <td>2</td>\n",
       "      <td>3000000</td>\n",
       "      <td>8050cb8a6ee792c13aebc35d72e9b5c840ca2e4233d67d16de6b9ff8</td>\n",
       "      <td>506172747931</td>\n",
       "      <td>Party1</td>\n",
       "      <td>1</td>\n",
       "      <td>NaN</td>\n",
       "    </tr>\n",
       "    <tr>\n",
       "      <th>2</th>\n",
       "      <td>addr_test1vqyq7qum3fwuyc6pge0a8td0enx5gctnh43h2zntmkc994qz04pwj</td>\n",
       "      <td>f5e47b068ebe81fa5e86b24710d7122afded911574a1b9585351d6afcdace61a</td>\n",
       "      <td>0</td>\n",
       "      <td>146554606</td>\n",
       "      <td>NaN</td>\n",
       "      <td>NaN</td>\n",
       "      <td>None</td>\n",
       "      <td>0</td>\n",
       "      <td>NaN</td>\n",
       "    </tr>\n",
       "    <tr>\n",
       "      <th>3</th>\n",
       "      <td>addr_test1vqyq7qum3fwuyc6pge0a8td0enx5gctnh43h2zntmkc994qz04pwj</td>\n",
       "      <td>f5e47b068ebe81fa5e86b24710d7122afded911574a1b9585351d6afcdace61a</td>\n",
       "      <td>3</td>\n",
       "      <td>3000000</td>\n",
       "      <td>8050cb8a6ee792c13aebc35d72e9b5c840ca2e4233d67d16de6b9ff8</td>\n",
       "      <td>506172747932</td>\n",
       "      <td>Party2</td>\n",
       "      <td>1</td>\n",
       "      <td>NaN</td>\n",
       "    </tr>\n",
       "  </tbody>\n",
       "</table>\n",
       "</div>"
      ],
      "text/plain": [
       "                                                           address  \\\n",
       "0  addr_test1vpqflumj2n8d43k22k4v9xfzvpd70jwfra7cruv04uht0tsj0t9x5   \n",
       "1  addr_test1vpqflumj2n8d43k22k4v9xfzvpd70jwfra7cruv04uht0tsj0t9x5   \n",
       "2  addr_test1vqyq7qum3fwuyc6pge0a8td0enx5gctnh43h2zntmkc994qz04pwj   \n",
       "3  addr_test1vqyq7qum3fwuyc6pge0a8td0enx5gctnh43h2zntmkc994qz04pwj   \n",
       "\n",
       "                                                             TxHash  TxIx  \\\n",
       "0  110de87846a0b696ac61fe866aeaa8f6e3ce9f8c6135316c02c789d5dfb3ec81     0   \n",
       "1  110de87846a0b696ac61fe866aeaa8f6e3ce9f8c6135316c02c789d5dfb3ec81     2   \n",
       "2  f5e47b068ebe81fa5e86b24710d7122afded911574a1b9585351d6afcdace61a     0   \n",
       "3  f5e47b068ebe81fa5e86b24710d7122afded911574a1b9585351d6afcdace61a     3   \n",
       "\n",
       "    lovelace                                             TokenPolicyId  \\\n",
       "0   41209502                                                       NaN   \n",
       "1    3000000  8050cb8a6ee792c13aebc35d72e9b5c840ca2e4233d67d16de6b9ff8   \n",
       "2  146554606                                                       NaN   \n",
       "3    3000000  8050cb8a6ee792c13aebc35d72e9b5c840ca2e4233d67d16de6b9ff8   \n",
       "\n",
       "   TokenNameHex TokenNameAscii  TokenAmount  datumhash  \n",
       "0           NaN           None            0        NaN  \n",
       "1  506172747931         Party1            1        NaN  \n",
       "2           NaN           None            0        NaN  \n",
       "3  506172747932         Party2            1        NaN  "
      ]
     },
     "execution_count": 93,
     "metadata": {},
     "output_type": "execute_result"
    }
   ],
   "source": [
    "pd.concat([query_df(PARTY1_ADDRESS), query_df(PARTY2_ADDRESS)]).reset_index(drop=True)"
   ]
  },
  {
   "cell_type": "code",
   "execution_count": 96,
   "id": "c767ffd1",
   "metadata": {},
   "outputs": [
    {
     "name": "stdout",
     "output_type": "stream",
     "text": [
      "110de87846a0b696ac61fe866aeaa8f6e3ce9f8c6135316c02c789d5dfb3ec81#0\n",
      "110de87846a0b696ac61fe866aeaa8f6e3ce9f8c6135316c02c789d5dfb3ec81#2\n",
      "f5e47b068ebe81fa5e86b24710d7122afded911574a1b9585351d6afcdace61a#0\n",
      "f5e47b068ebe81fa5e86b24710d7122afded911574a1b9585351d6afcdace61a#3\n"
     ]
    }
   ],
   "source": [
    "TX_PARTY1_ADA   = TX3_IN + \"#0\"\n",
    "TX_PARTY1_TOKEN = TX3_IN + \"#2\"\n",
    "TX_PARTY2_ADA   = TX4_IN + \"#0\"\n",
    "TX_PARTY2_TOKEN = TX4_IN + \"#3\"\n",
    "print(TX_PARTY1_ADA)\n",
    "print(TX_PARTY1_TOKEN)\n",
    "print(TX_PARTY2_ADA)\n",
    "print(TX_PARTY2_TOKEN)"
   ]
  },
  {
   "cell_type": "markdown",
   "id": "dcc619ac-5efd-4a0e-89aa-893d6065149c",
   "metadata": {},
   "source": [
    "### withdraw (step5)"
   ]
  },
  {
   "cell_type": "code",
   "execution_count": null,
   "id": "df7e570c",
   "metadata": {},
   "outputs": [],
   "source": [
    "# tx-in-collateral is the wallet with funds from the PARTY_1_ROLE just some ADA for fee available to bre used for allowing a transaction to occur\n",
    "# tx-in is the original wallet with only ADA currency that needs to be consumed and replaced after a Transaction and is to allow for new funds to appear and change this storage of ADA\n",
    "# tx-in (second) is to allow for using the token for that is needed as defined in the contract to give permission using the token to do a transaction..."
   ]
  },
  {
   "cell_type": "code",
   "execution_count": 97,
   "id": "b8cc9968",
   "metadata": {},
   "outputs": [
    {
     "name": "stdout",
     "output_type": "stream",
     "text": [
      "TxId \"944d783d88e5b5ba9042d3bef23f9e3f632e6690620b2264408f4a0d187404fb\"\n",
      "\n",
      "\n",
      "Fee: Lovelace 455329\n",
      "Size: 3185 / 16384 = 19%\n",
      "Execution units:\n",
      "  Memory: 1799270 / 14000000 = 12%\n",
      "  Steps: 500109567 / 10000000000 = 5%\n",
      "\n"
     ]
    }
   ],
   "source": [
    "cmd = [marloweCLI, \"run\", \"withdraw\", \n",
    "       \"--testnet-magic\", MAGIC,\n",
    "       \"--socket-path\", SOCKET,\n",
    "       \"--marlowe-file\", \"tx-3.marlowe\",      # last contract version\n",
    "       \"--role-name\", PARTY1_TOKENASSETNAME,\n",
    "       \"--tx-in-collateral\", TX_PARTY1_ADA,\n",
    "       \"--tx-in\", TX_PARTY1_ADA,\n",
    "       \"--tx-in\", TX_PARTY1_TOKEN,\n",
    "       \"--change-address\", PARTY1_ADDRESS,\n",
    "       \"--required-signer\", PARTY1_SKEYFILE,\n",
    "       \"--tx-out\", PARTY1_ADDRESS+\"+\"+str(MINIMUM_ADA)+\"+\"+str(1)+\" \"+TOKEN_POLICY_ID+\".\"+PARTY1_TOKENASSETNAME,   # needed against dos attack of 1000 calls\n",
    "       \"--out-file\", \"/dev/null\",\n",
    "       \"--print-stats\",\n",
    "       \"--submit\", str(600)]\n",
    "result = subprocess.run(cmd, capture_output=True, text=True)\n",
    "print(result.stdout)\n",
    "print(result.stderr)"
   ]
  },
  {
   "cell_type": "code",
   "execution_count": 98,
   "id": "03aab9d3",
   "metadata": {},
   "outputs": [
    {
     "name": "stdout",
     "output_type": "stream",
     "text": [
      "TxId \"e6cb971f8dfe12676d7b610708c3e86207112817d8d2592fe8486b089d520aad\"\n",
      "\n",
      "\n",
      "Fee: Lovelace 459391\n",
      "Size: 3185 / 16384 = 19%\n",
      "Execution units:\n",
      "  Memory: 1854070 / 14000000 = 13%\n",
      "  Steps: 512594488 / 10000000000 = 5%\n",
      "\n"
     ]
    }
   ],
   "source": [
    "cmd = [marloweCLI, \"run\", \"withdraw\", \n",
    "       \"--testnet-magic\", MAGIC,\n",
    "       \"--socket-path\", SOCKET,\n",
    "       \"--marlowe-file\", \"tx-3.marlowe\",      # last contract version\n",
    "       \"--role-name\", PARTY2_TOKENASSETNAME,\n",
    "       \"--tx-in-collateral\", TX_PARTY2_ADA,\n",
    "       \"--tx-in\", TX_PARTY2_ADA,\n",
    "       \"--tx-in\", TX_PARTY2_TOKEN,\n",
    "       \"--change-address\", PARTY2_ADDRESS,\n",
    "       \"--required-signer\", PARTY2_SKEYFILE,\n",
    "       \"--tx-out\", PARTY2_ADDRESS+\"+\"+str(MINIMUM_ADA)+\"+\"+str(1)+\" \"+TOKEN_POLICY_ID+\".\"+PARTY2_TOKENASSETNAME,   # needed against dos attack of 1000 calls\n",
    "       \"--out-file\", \"/dev/null\",\n",
    "       \"--print-stats\",\n",
    "       \"--submit\", str(600)]\n",
    "result = subprocess.run(cmd, capture_output=True, text=True)\n",
    "print(result.stdout)\n",
    "print(result.stderr)"
   ]
  },
  {
   "cell_type": "code",
   "execution_count": 99,
   "id": "c2762295",
   "metadata": {},
   "outputs": [
    {
     "data": {
      "text/html": [
       "<div>\n",
       "<style scoped>\n",
       "    .dataframe tbody tr th:only-of-type {\n",
       "        vertical-align: middle;\n",
       "    }\n",
       "\n",
       "    .dataframe tbody tr th {\n",
       "        vertical-align: top;\n",
       "    }\n",
       "\n",
       "    .dataframe thead th {\n",
       "        text-align: right;\n",
       "    }\n",
       "</style>\n",
       "<table border=\"1\" class=\"dataframe\">\n",
       "  <thead>\n",
       "    <tr style=\"text-align: right;\">\n",
       "      <th></th>\n",
       "      <th>address</th>\n",
       "      <th>TxHash</th>\n",
       "      <th>TxIx</th>\n",
       "      <th>lovelace</th>\n",
       "      <th>TokenPolicyId</th>\n",
       "      <th>TokenNameHex</th>\n",
       "      <th>TokenNameAscii</th>\n",
       "      <th>TokenAmount</th>\n",
       "      <th>datumhash</th>\n",
       "    </tr>\n",
       "  </thead>\n",
       "  <tbody>\n",
       "    <tr>\n",
       "      <th>0</th>\n",
       "      <td>addr_test1vpqflumj2n8d43k22k4v9xfzvpd70jwfra7cruv04uht0tsj0t9x5</td>\n",
       "      <td>944d783d88e5b5ba9042d3bef23f9e3f632e6690620b2264408f4a0d187404fb</td>\n",
       "      <td>0</td>\n",
       "      <td>40754173</td>\n",
       "      <td>NaN</td>\n",
       "      <td>NaN</td>\n",
       "      <td>None</td>\n",
       "      <td>0</td>\n",
       "      <td>NaN</td>\n",
       "    </tr>\n",
       "    <tr>\n",
       "      <th>1</th>\n",
       "      <td>addr_test1vpqflumj2n8d43k22k4v9xfzvpd70jwfra7cruv04uht0tsj0t9x5</td>\n",
       "      <td>944d783d88e5b5ba9042d3bef23f9e3f632e6690620b2264408f4a0d187404fb</td>\n",
       "      <td>1</td>\n",
       "      <td>103000000</td>\n",
       "      <td>NaN</td>\n",
       "      <td>NaN</td>\n",
       "      <td>None</td>\n",
       "      <td>0</td>\n",
       "      <td>NaN</td>\n",
       "    </tr>\n",
       "    <tr>\n",
       "      <th>2</th>\n",
       "      <td>addr_test1vpqflumj2n8d43k22k4v9xfzvpd70jwfra7cruv04uht0tsj0t9x5</td>\n",
       "      <td>944d783d88e5b5ba9042d3bef23f9e3f632e6690620b2264408f4a0d187404fb</td>\n",
       "      <td>2</td>\n",
       "      <td>3000000</td>\n",
       "      <td>8050cb8a6ee792c13aebc35d72e9b5c840ca2e4233d67d16de6b9ff8</td>\n",
       "      <td>506172747931</td>\n",
       "      <td>Party1</td>\n",
       "      <td>1</td>\n",
       "      <td>NaN</td>\n",
       "    </tr>\n",
       "    <tr>\n",
       "      <th>3</th>\n",
       "      <td>addr_test1vqyq7qum3fwuyc6pge0a8td0enx5gctnh43h2zntmkc994qz04pwj</td>\n",
       "      <td>e6cb971f8dfe12676d7b610708c3e86207112817d8d2592fe8486b089d520aad</td>\n",
       "      <td>0</td>\n",
       "      <td>146095215</td>\n",
       "      <td>NaN</td>\n",
       "      <td>NaN</td>\n",
       "      <td>None</td>\n",
       "      <td>0</td>\n",
       "      <td>NaN</td>\n",
       "    </tr>\n",
       "    <tr>\n",
       "      <th>4</th>\n",
       "      <td>addr_test1vqyq7qum3fwuyc6pge0a8td0enx5gctnh43h2zntmkc994qz04pwj</td>\n",
       "      <td>e6cb971f8dfe12676d7b610708c3e86207112817d8d2592fe8486b089d520aad</td>\n",
       "      <td>1</td>\n",
       "      <td>200000000</td>\n",
       "      <td>NaN</td>\n",
       "      <td>NaN</td>\n",
       "      <td>None</td>\n",
       "      <td>0</td>\n",
       "      <td>NaN</td>\n",
       "    </tr>\n",
       "    <tr>\n",
       "      <th>5</th>\n",
       "      <td>addr_test1vqyq7qum3fwuyc6pge0a8td0enx5gctnh43h2zntmkc994qz04pwj</td>\n",
       "      <td>e6cb971f8dfe12676d7b610708c3e86207112817d8d2592fe8486b089d520aad</td>\n",
       "      <td>2</td>\n",
       "      <td>3000000</td>\n",
       "      <td>8050cb8a6ee792c13aebc35d72e9b5c840ca2e4233d67d16de6b9ff8</td>\n",
       "      <td>506172747932</td>\n",
       "      <td>Party2</td>\n",
       "      <td>1</td>\n",
       "      <td>NaN</td>\n",
       "    </tr>\n",
       "  </tbody>\n",
       "</table>\n",
       "</div>"
      ],
      "text/plain": [
       "                                                           address  \\\n",
       "0  addr_test1vpqflumj2n8d43k22k4v9xfzvpd70jwfra7cruv04uht0tsj0t9x5   \n",
       "1  addr_test1vpqflumj2n8d43k22k4v9xfzvpd70jwfra7cruv04uht0tsj0t9x5   \n",
       "2  addr_test1vpqflumj2n8d43k22k4v9xfzvpd70jwfra7cruv04uht0tsj0t9x5   \n",
       "3  addr_test1vqyq7qum3fwuyc6pge0a8td0enx5gctnh43h2zntmkc994qz04pwj   \n",
       "4  addr_test1vqyq7qum3fwuyc6pge0a8td0enx5gctnh43h2zntmkc994qz04pwj   \n",
       "5  addr_test1vqyq7qum3fwuyc6pge0a8td0enx5gctnh43h2zntmkc994qz04pwj   \n",
       "\n",
       "                                                             TxHash  TxIx  \\\n",
       "0  944d783d88e5b5ba9042d3bef23f9e3f632e6690620b2264408f4a0d187404fb     0   \n",
       "1  944d783d88e5b5ba9042d3bef23f9e3f632e6690620b2264408f4a0d187404fb     1   \n",
       "2  944d783d88e5b5ba9042d3bef23f9e3f632e6690620b2264408f4a0d187404fb     2   \n",
       "3  e6cb971f8dfe12676d7b610708c3e86207112817d8d2592fe8486b089d520aad     0   \n",
       "4  e6cb971f8dfe12676d7b610708c3e86207112817d8d2592fe8486b089d520aad     1   \n",
       "5  e6cb971f8dfe12676d7b610708c3e86207112817d8d2592fe8486b089d520aad     2   \n",
       "\n",
       "    lovelace                                             TokenPolicyId  \\\n",
       "0   40754173                                                       NaN   \n",
       "1  103000000                                                       NaN   \n",
       "2    3000000  8050cb8a6ee792c13aebc35d72e9b5c840ca2e4233d67d16de6b9ff8   \n",
       "3  146095215                                                       NaN   \n",
       "4  200000000                                                       NaN   \n",
       "5    3000000  8050cb8a6ee792c13aebc35d72e9b5c840ca2e4233d67d16de6b9ff8   \n",
       "\n",
       "   TokenNameHex TokenNameAscii  TokenAmount  datumhash  \n",
       "0           NaN           None            0        NaN  \n",
       "1           NaN           None            0        NaN  \n",
       "2  506172747931         Party1            1        NaN  \n",
       "3           NaN           None            0        NaN  \n",
       "4           NaN           None            0        NaN  \n",
       "5  506172747932         Party2            1        NaN  "
      ]
     },
     "execution_count": 99,
     "metadata": {},
     "output_type": "execute_result"
    }
   ],
   "source": [
    "pd.concat([query_df(PARTY1_ADDRESS), query_df(PARTY2_ADDRESS)]).reset_index(drop=True)"
   ]
  },
  {
   "cell_type": "code",
   "execution_count": null,
   "id": "8260d915-c800-487d-9e91-4df7155e8462",
   "metadata": {},
   "outputs": [],
   "source": [
    "# # check wallet1, wallet2 and contract, redeem address\n",
    "# pd.concat([query_df(PARTY1_ADDRESS), query_df(PARTY2_ADDRESS), query_df(CONTRACT_ADDRESS), query_df(REDEEM_ADDRESS)]).reset_index(drop=True)"
   ]
  },
  {
   "cell_type": "code",
   "execution_count": null,
   "id": "ab66e0c9",
   "metadata": {},
   "outputs": [],
   "source": [
    "# so now 100 ADA has been withdrawn or redeemed to the Party1\n",
    "# also the 3 ADA used for the script activation is returned to the initiator of the contract."
   ]
  },
  {
   "cell_type": "code",
   "execution_count": null,
   "id": "b69bd0f7-1f8a-4b95-b991-0af296e46d1d",
   "metadata": {},
   "outputs": [],
   "source": [
    "https://github.com/input-output-hk/marlowe-cardano/tree/main/marlowe-cli/examples/swap#transaction-2-first-party-deposits-tokens-into-the-contract"
   ]
  },
  {
   "cell_type": "code",
   "execution_count": null,
   "id": "23bbf0e9-6e75-4110-9248-9a14ab339fed",
   "metadata": {},
   "outputs": [],
   "source": []
  },
  {
   "cell_type": "code",
   "execution_count": null,
   "id": "57b48b4f",
   "metadata": {},
   "outputs": [],
   "source": []
  },
  {
   "cell_type": "code",
   "execution_count": null,
   "id": "92f07b58",
   "metadata": {},
   "outputs": [],
   "source": []
  },
  {
   "cell_type": "code",
   "execution_count": null,
   "id": "89c5384a",
   "metadata": {},
   "outputs": [],
   "source": []
  },
  {
   "cell_type": "code",
   "execution_count": null,
   "id": "6229ec9c",
   "metadata": {},
   "outputs": [],
   "source": []
  },
  {
   "cell_type": "code",
   "execution_count": null,
   "id": "668549c8",
   "metadata": {},
   "outputs": [],
   "source": []
  },
  {
   "cell_type": "code",
   "execution_count": null,
   "id": "050fe68a",
   "metadata": {},
   "outputs": [],
   "source": []
  },
  {
   "cell_type": "code",
   "execution_count": null,
   "id": "55cc026f",
   "metadata": {},
   "outputs": [],
   "source": []
  },
  {
   "cell_type": "code",
   "execution_count": null,
   "id": "9ced360a-2984-48f9-a7a1-8db056cf5aca",
   "metadata": {},
   "outputs": [],
   "source": []
  },
  {
   "cell_type": "code",
   "execution_count": null,
   "id": "f0003197-1d03-461f-b395-6c0f3220d72a",
   "metadata": {},
   "outputs": [],
   "source": []
  },
  {
   "cell_type": "code",
   "execution_count": null,
   "id": "5deb9fd5-2642-46e7-be6c-3688be25a64c",
   "metadata": {},
   "outputs": [],
   "source": []
  },
  {
   "cell_type": "code",
   "execution_count": null,
   "id": "586d93d1-64e8-4bf2-b339-4385af5d42c5",
   "metadata": {},
   "outputs": [],
   "source": []
  },
  {
   "cell_type": "code",
   "execution_count": null,
   "id": "a50034d2-df76-45a2-8b38-1723280d278c",
   "metadata": {},
   "outputs": [],
   "source": []
  },
  {
   "cell_type": "code",
   "execution_count": null,
   "id": "2759915d-05cc-4dcd-bee8-6393644ef5c7",
   "metadata": {},
   "outputs": [],
   "source": []
  },
  {
   "cell_type": "code",
   "execution_count": null,
   "id": "4ac39626-827c-4dbf-9493-2223ee9be39c",
   "metadata": {},
   "outputs": [],
   "source": []
  },
  {
   "cell_type": "code",
   "execution_count": null,
   "id": "f20f236a-06a4-4a3f-b69f-76763e69d4d2",
   "metadata": {},
   "outputs": [],
   "source": []
  },
  {
   "cell_type": "code",
   "execution_count": null,
   "id": "64e20bea-e970-463a-835f-f74272a220a1",
   "metadata": {},
   "outputs": [],
   "source": []
  },
  {
   "cell_type": "markdown",
   "id": "fb38277a",
   "metadata": {},
   "source": [
    "### Function for Pandas Dataframe"
   ]
  },
  {
   "cell_type": "code",
   "execution_count": null,
   "id": "165ba07e",
   "metadata": {},
   "outputs": [],
   "source": []
  },
  {
   "cell_type": "code",
   "execution_count": null,
   "id": "548a3083",
   "metadata": {},
   "outputs": [],
   "source": [
    "cardanoCliDataframe(PARTY_1_ADDRESS, MAGIC, 'full')"
   ]
  },
  {
   "cell_type": "code",
   "execution_count": null,
   "id": "0f60b0e1",
   "metadata": {},
   "outputs": [],
   "source": [
    "cardanoCliDataframe(PARTY_1_ADDRESS, MAGIC)"
   ]
  },
  {
   "cell_type": "code",
   "execution_count": null,
   "id": "1b832a59",
   "metadata": {},
   "outputs": [],
   "source": [
    "# query the current balance:\n",
    "cmd = [cardanoCLI, \"query\", \"utxo\", \"--testnet-magic\", MAGIC, \"--address\", PARTY1_ADDRESS]\n",
    "result = subprocess.run(cmd, capture_output=True, text=True)\n",
    "print(result.stdout)"
   ]
  },
  {
   "cell_type": "code",
   "execution_count": null,
   "id": "9a906093-bc4c-43d4-9d31-72cdca9edc1e",
   "metadata": {},
   "outputs": [],
   "source": [
    "# query the current balance:\n",
    "cmd = [cardanoCLI, \"query\", \"utxo\", \"--testnet-magic\", MAGIC, \"--address\", PARTY2_ADDRESS]\n",
    "result = subprocess.run(cmd, capture_output=True, text=True)\n",
    "print(result.stdout)"
   ]
  },
  {
   "cell_type": "code",
   "execution_count": null,
   "id": "a3bb7b5b-e942-43de-a10a-236cee1edeb9",
   "metadata": {},
   "outputs": [],
   "source": [
    "# query the current balance:\n",
    "cmd = [cardanoCLI, \"query\", \"utxo\", \"--testnet-magic\", MAGIC, \"--address\", CONTRACT_ADDRESS]\n",
    "result = subprocess.run(cmd, capture_output=True, text=True)\n",
    "print(result.stdout)"
   ]
  },
  {
   "cell_type": "code",
   "execution_count": null,
   "id": "dafd1d47-6bb8-4a9c-92df-97d5cc350b8f",
   "metadata": {},
   "outputs": [],
   "source": [
    "# query the current balance:\n",
    "cmd = [cardanoCLI, \"query\", \"utxo\", \"--testnet-magic\", MAGIC, \"--address\", REDEEM_ADDRESS]\n",
    "result = subprocess.run(cmd, capture_output=True, text=True)\n",
    "print(result.stdout)"
   ]
  },
  {
   "cell_type": "code",
   "execution_count": null,
   "id": "10211085",
   "metadata": {},
   "outputs": [],
   "source": [
    "regex = re.compile(r'(\\S{64})\\s+(\\d+)\\s+(\\d{6,})\\s+(\\S+)\\s+[+]\\s+(.+)')"
   ]
  },
  {
   "cell_type": "code",
   "execution_count": null,
   "id": "b5e32034-f312-48c6-bcf5-a9161a295f74",
   "metadata": {},
   "outputs": [],
   "source": [
    "result.stdout"
   ]
  },
  {
   "cell_type": "code",
   "execution_count": null,
   "id": "7adecf09",
   "metadata": {},
   "outputs": [],
   "source": [
    "df = pd.DataFrame(regex.findall(result.stdout), columns=['TxHash', 'TxIx', 'AmountLovelace', 'Currency', 'tail'])\n",
    "df"
   ]
  },
  {
   "cell_type": "code",
   "execution_count": null,
   "id": "e76d181e-b388-416b-8a4a-6568802b1db2",
   "metadata": {},
   "outputs": [],
   "source": [
    "df.join(df['tail'].str.replace('.', ' ', regex=False).str.replace(' + ', ' ', regex=False).str.replace('\"', '', regex=False).str.split(' ', regex=False, expand=True), how='left')"
   ]
  },
  {
   "cell_type": "code",
   "execution_count": null,
   "id": "cc953459-84b9-45a1-927d-2d307bf86bca",
   "metadata": {},
   "outputs": [],
   "source": [
    "df['tail'].iloc[2] = 'TxOutDatumHash ScriptDataInAlonzoEra \"e13945ede9a5b560e25c175068ce0b955402ec7558090fbf510d7470d840e89f\"'"
   ]
  },
  {
   "cell_type": "code",
   "execution_count": null,
   "id": "1d32176c-35d6-41ac-b1ce-f34494a74c69",
   "metadata": {},
   "outputs": [],
   "source": [
    "df"
   ]
  },
  {
   "cell_type": "code",
   "execution_count": null,
   "id": "76d690df-7b99-454b-a613-aa04f2c12e53",
   "metadata": {},
   "outputs": [],
   "source": [
    "df.join(df['tail'].str.replace('.', ' ', regex=False).str.replace(' + ', ' ', regex=False).str.replace('\"', '', regex=False).str.split(' ', regex=False, expand=True), how='left')"
   ]
  },
  {
   "cell_type": "code",
   "execution_count": null,
   "id": "de7ab4ff",
   "metadata": {},
   "outputs": [],
   "source": [
    "df = df.join(df['tail'].str.replace('.', ' ', regex=False).str.replace(' + ', ' ', regex=False).str.replace('\"', '', regex=False).str.split(' ', regex=False, expand=True), how='left')\n",
    "df"
   ]
  },
  {
   "cell_type": "code",
   "execution_count": null,
   "id": "64c8ed57",
   "metadata": {},
   "outputs": [],
   "source": [
    "df.columns = ['TxHash', 'TxIx', 'AmountLovelace', 'Currency', 'tail', 'TokenAmount', 'TokenPolicyId', 'TokenAssetNameHex', 'TxOut']\n",
    "df"
   ]
  },
  {
   "cell_type": "code",
   "execution_count": null,
   "id": "75f2a93a",
   "metadata": {},
   "outputs": [],
   "source": [
    "df = df.drop(['tail', 'TxOut'], axis=1)\n",
    "df"
   ]
  },
  {
   "cell_type": "code",
   "execution_count": null,
   "id": "c45ec816",
   "metadata": {},
   "outputs": [],
   "source": [
    "df = df.replace({'TokenAmount':{'TxOutDatumNone': 0}})"
   ]
  },
  {
   "cell_type": "code",
   "execution_count": null,
   "id": "401ef096",
   "metadata": {},
   "outputs": [],
   "source": [
    "def hex_to_ascii(s):\n",
    "    try:\n",
    "        return bytearray.fromhex(s).decode()\n",
    "    except ValueError:\n",
    "        return None"
   ]
  },
  {
   "cell_type": "code",
   "execution_count": null,
   "id": "e3c298a3",
   "metadata": {},
   "outputs": [],
   "source": [
    "df['TokenAssetNameAscii'] = df['TokenAssetNameHex'].astype('str').apply(hex_to_ascii)"
   ]
  },
  {
   "cell_type": "code",
   "execution_count": null,
   "id": "47f011eb",
   "metadata": {},
   "outputs": [],
   "source": [
    "df['TxHashSmall'] = df['TxHash'].str[-4::1] # get last 4 characters"
   ]
  },
  {
   "cell_type": "code",
   "execution_count": null,
   "id": "a66e6f9c",
   "metadata": {},
   "outputs": [],
   "source": [
    "df['TokenPolicyIdSmall'] = df['TokenPolicyId'].str[-4::1] # get last 4 characters"
   ]
  },
  {
   "cell_type": "code",
   "execution_count": null,
   "id": "692fb34d",
   "metadata": {},
   "outputs": [],
   "source": [
    "df['AmountAda'] = df['AmountLovelace'].astype(float)/1000000"
   ]
  },
  {
   "cell_type": "code",
   "execution_count": null,
   "id": "548f9df8",
   "metadata": {},
   "outputs": [],
   "source": [
    "df[['TxHashSmall', 'TxIx', 'AmountAda', 'TokenAmount', 'TokenPolicyIdSmall']]"
   ]
  },
  {
   "cell_type": "code",
   "execution_count": null,
   "id": "02ec4338",
   "metadata": {},
   "outputs": [],
   "source": [
    "df"
   ]
  },
  {
   "cell_type": "code",
   "execution_count": null,
   "id": "491b20db",
   "metadata": {},
   "outputs": [],
   "source": [
    "'TokenPolicyId', 'TokenAssetNameHex', 'TokenAssetNameAscii'"
   ]
  },
  {
   "cell_type": "code",
   "execution_count": null,
   "id": "6d4c4445",
   "metadata": {},
   "outputs": [],
   "source": []
  },
  {
   "cell_type": "code",
   "execution_count": 513,
   "id": "a92f445d-959b-43c1-b36e-f8809cfeb20b",
   "metadata": {},
   "outputs": [
    {
     "data": {
      "text/html": [
       "<div>\n",
       "<style scoped>\n",
       "    .dataframe tbody tr th:only-of-type {\n",
       "        vertical-align: middle;\n",
       "    }\n",
       "\n",
       "    .dataframe tbody tr th {\n",
       "        vertical-align: top;\n",
       "    }\n",
       "\n",
       "    .dataframe thead th {\n",
       "        text-align: right;\n",
       "    }\n",
       "</style>\n",
       "<table border=\"1\" class=\"dataframe\">\n",
       "  <thead>\n",
       "    <tr style=\"text-align: right;\">\n",
       "      <th></th>\n",
       "      <th>address</th>\n",
       "      <th>TxHash</th>\n",
       "      <th>TxIx</th>\n",
       "      <th>lovelace</th>\n",
       "      <th>TokenPolicyId</th>\n",
       "      <th>TokenNameHex</th>\n",
       "      <th>TokenNameAscii</th>\n",
       "      <th>TokenAmount</th>\n",
       "      <th>datumhash</th>\n",
       "    </tr>\n",
       "  </thead>\n",
       "  <tbody>\n",
       "    <tr>\n",
       "      <th>0</th>\n",
       "      <td>addr_test1vpha99j2s5slc5q26d884rhc3jzuxqex5javsak5enlg8wsel4z2t</td>\n",
       "      <td>7cbef19b7c372a9b2ac2bc376f5564ffb84f291230c92c881a0083f18705dadb</td>\n",
       "      <td>0</td>\n",
       "      <td>490451577</td>\n",
       "      <td>NaN</td>\n",
       "      <td>NaN</td>\n",
       "      <td>None</td>\n",
       "      <td>0</td>\n",
       "      <td>NaN</td>\n",
       "    </tr>\n",
       "    <tr>\n",
       "      <th>1</th>\n",
       "      <td>addr_test1vpha99j2s5slc5q26d884rhc3jzuxqex5javsak5enlg8wsel4z2t</td>\n",
       "      <td>4c7f8ff0c3da6143147f2da4a3fccd30dee8dc4b71c0a74ee272557a1ec2ea17</td>\n",
       "      <td>1</td>\n",
       "      <td>3000000</td>\n",
       "      <td>6f4f37e5c163a2f77935f395434c49bc4de8d1894a3bd80ac239a508</td>\n",
       "      <td>506172747931</td>\n",
       "      <td>Party1</td>\n",
       "      <td>1</td>\n",
       "      <td>NaN</td>\n",
       "    </tr>\n",
       "    <tr>\n",
       "      <th>0</th>\n",
       "      <td>addr_test1vzn7ef2cx8h5y4jvxnn34pn3lzak5t537fx09j7zxdljs3gc5zgw6</td>\n",
       "      <td>4c7f8ff0c3da6143147f2da4a3fccd30dee8dc4b71c0a74ee272557a1ec2ea17</td>\n",
       "      <td>2</td>\n",
       "      <td>3000000</td>\n",
       "      <td>6f4f37e5c163a2f77935f395434c49bc4de8d1894a3bd80ac239a508</td>\n",
       "      <td>506172747932</td>\n",
       "      <td>Party2</td>\n",
       "      <td>1</td>\n",
       "      <td>NaN</td>\n",
       "    </tr>\n",
       "    <tr>\n",
       "      <th>1</th>\n",
       "      <td>addr_test1vzn7ef2cx8h5y4jvxnn34pn3lzak5t537fx09j7zxdljs3gc5zgw6</td>\n",
       "      <td>ed62a729c96269053eef4aa5e4fabf9f6f85b7bb56f49481142ffcbe5f72aa33</td>\n",
       "      <td>3</td>\n",
       "      <td>500000000</td>\n",
       "      <td>NaN</td>\n",
       "      <td>NaN</td>\n",
       "      <td>None</td>\n",
       "      <td>0</td>\n",
       "      <td>NaN</td>\n",
       "    </tr>\n",
       "    <tr>\n",
       "      <th>0</th>\n",
       "      <td>addr_test1wqzctw6fur749cqp8ae9y8e6l6g9uvs9t4pv7thp0zy38cssc9g3z</td>\n",
       "      <td>7cbef19b7c372a9b2ac2bc376f5564ffb84f291230c92c881a0083f18705dadb</td>\n",
       "      <td>1</td>\n",
       "      <td>3000000</td>\n",
       "      <td>NaN</td>\n",
       "      <td>NaN</td>\n",
       "      <td>NaN</td>\n",
       "      <td>0</td>\n",
       "      <td>0e810f91611be5f0023233e5aa189dd099ad96d05437ffe0bc59a0f9a0137d64</td>\n",
       "    </tr>\n",
       "    <tr>\n",
       "      <th>0</th>\n",
       "      <td>addr_test1wqzuqf8hvl9d47d6kftykktrgszgu3yznrrpdgha9naxcmgr8le36</td>\n",
       "      <td>NaN</td>\n",
       "      <td>0</td>\n",
       "      <td>0</td>\n",
       "      <td>NaN</td>\n",
       "      <td>NaN</td>\n",
       "      <td>NaN</td>\n",
       "      <td>0</td>\n",
       "      <td>NaN</td>\n",
       "    </tr>\n",
       "  </tbody>\n",
       "</table>\n",
       "</div>"
      ],
      "text/plain": [
       "                                                           address  \\\n",
       "0  addr_test1vpha99j2s5slc5q26d884rhc3jzuxqex5javsak5enlg8wsel4z2t   \n",
       "1  addr_test1vpha99j2s5slc5q26d884rhc3jzuxqex5javsak5enlg8wsel4z2t   \n",
       "0  addr_test1vzn7ef2cx8h5y4jvxnn34pn3lzak5t537fx09j7zxdljs3gc5zgw6   \n",
       "1  addr_test1vzn7ef2cx8h5y4jvxnn34pn3lzak5t537fx09j7zxdljs3gc5zgw6   \n",
       "0  addr_test1wqzctw6fur749cqp8ae9y8e6l6g9uvs9t4pv7thp0zy38cssc9g3z   \n",
       "0  addr_test1wqzuqf8hvl9d47d6kftykktrgszgu3yznrrpdgha9naxcmgr8le36   \n",
       "\n",
       "                                                             TxHash  TxIx  \\\n",
       "0  7cbef19b7c372a9b2ac2bc376f5564ffb84f291230c92c881a0083f18705dadb     0   \n",
       "1  4c7f8ff0c3da6143147f2da4a3fccd30dee8dc4b71c0a74ee272557a1ec2ea17     1   \n",
       "0  4c7f8ff0c3da6143147f2da4a3fccd30dee8dc4b71c0a74ee272557a1ec2ea17     2   \n",
       "1  ed62a729c96269053eef4aa5e4fabf9f6f85b7bb56f49481142ffcbe5f72aa33     3   \n",
       "0  7cbef19b7c372a9b2ac2bc376f5564ffb84f291230c92c881a0083f18705dadb     1   \n",
       "0                                                               NaN     0   \n",
       "\n",
       "    lovelace                                             TokenPolicyId  \\\n",
       "0  490451577                                                       NaN   \n",
       "1    3000000  6f4f37e5c163a2f77935f395434c49bc4de8d1894a3bd80ac239a508   \n",
       "0    3000000  6f4f37e5c163a2f77935f395434c49bc4de8d1894a3bd80ac239a508   \n",
       "1  500000000                                                       NaN   \n",
       "0    3000000                                                       NaN   \n",
       "0          0                                                       NaN   \n",
       "\n",
       "   TokenNameHex TokenNameAscii  TokenAmount  \\\n",
       "0           NaN           None            0   \n",
       "1  506172747931         Party1            1   \n",
       "0  506172747932         Party2            1   \n",
       "1           NaN           None            0   \n",
       "0           NaN            NaN            0   \n",
       "0           NaN            NaN            0   \n",
       "\n",
       "                                                          datumhash  \n",
       "0                                                               NaN  \n",
       "1                                                               NaN  \n",
       "0                                                               NaN  \n",
       "1                                                               NaN  \n",
       "0  0e810f91611be5f0023233e5aa189dd099ad96d05437ffe0bc59a0f9a0137d64  \n",
       "0                                                               NaN  "
      ]
     },
     "execution_count": 513,
     "metadata": {},
     "output_type": "execute_result"
    }
   ],
   "source": [
    "pd.concat([query_df(PARTY1_ADDRESS), query_df(PARTY2_ADDRESS), query_df(CONTRACT_ADDRESS), query_df(REDEEM_ADDRESS)])"
   ]
  },
  {
   "cell_type": "code",
   "execution_count": null,
   "id": "386d12eb-9d75-41c0-84f0-3c6cb79900dd",
   "metadata": {},
   "outputs": [],
   "source": []
  },
  {
   "cell_type": "code",
   "execution_count": null,
   "id": "dd798359-0f9c-4cc3-b444-c3f3e73ad338",
   "metadata": {},
   "outputs": [],
   "source": []
  },
  {
   "cell_type": "code",
   "execution_count": 489,
   "id": "79cb3f11-8ead-4090-b38a-c38c39699119",
   "metadata": {},
   "outputs": [
    {
     "data": {
      "text/html": [
       "<div>\n",
       "<style scoped>\n",
       "    .dataframe tbody tr th:only-of-type {\n",
       "        vertical-align: middle;\n",
       "    }\n",
       "\n",
       "    .dataframe tbody tr th {\n",
       "        vertical-align: top;\n",
       "    }\n",
       "\n",
       "    .dataframe thead th {\n",
       "        text-align: right;\n",
       "    }\n",
       "</style>\n",
       "<table border=\"1\" class=\"dataframe\">\n",
       "  <thead>\n",
       "    <tr style=\"text-align: right;\">\n",
       "      <th></th>\n",
       "      <th>address</th>\n",
       "      <th>TxHash</th>\n",
       "      <th>TxIx</th>\n",
       "      <th>lovelace</th>\n",
       "      <th>TokenPolicyId</th>\n",
       "      <th>TokenAssetNameHex</th>\n",
       "      <th>TokenAmount</th>\n",
       "      <th>datumhash</th>\n",
       "    </tr>\n",
       "  </thead>\n",
       "  <tbody>\n",
       "    <tr>\n",
       "      <th>0</th>\n",
       "      <td>addr_test1vpha99j2s5slc5q26d884rhc3jzuxqex5javsak5enlg8wsel4z2t</td>\n",
       "      <td>7cbef19b7c372a9b2ac2bc376f5564ffb84f291230c92c881a0083f18705dadb</td>\n",
       "      <td>0</td>\n",
       "      <td>490451577</td>\n",
       "      <td>NaN</td>\n",
       "      <td>NaN</td>\n",
       "      <td>NaN</td>\n",
       "      <td>NaN</td>\n",
       "    </tr>\n",
       "    <tr>\n",
       "      <th>1</th>\n",
       "      <td>addr_test1vpha99j2s5slc5q26d884rhc3jzuxqex5javsak5enlg8wsel4z2t</td>\n",
       "      <td>4c7f8ff0c3da6143147f2da4a3fccd30dee8dc4b71c0a74ee272557a1ec2ea17</td>\n",
       "      <td>1</td>\n",
       "      <td>3000000</td>\n",
       "      <td>6f4f37e5c163a2f77935f395434c49bc4de8d1894a3bd80ac239a508</td>\n",
       "      <td>506172747931</td>\n",
       "      <td>1.0</td>\n",
       "      <td>NaN</td>\n",
       "    </tr>\n",
       "  </tbody>\n",
       "</table>\n",
       "</div>"
      ],
      "text/plain": [
       "                                                           address  \\\n",
       "0  addr_test1vpha99j2s5slc5q26d884rhc3jzuxqex5javsak5enlg8wsel4z2t   \n",
       "1  addr_test1vpha99j2s5slc5q26d884rhc3jzuxqex5javsak5enlg8wsel4z2t   \n",
       "\n",
       "                                                             TxHash  TxIx  \\\n",
       "0  7cbef19b7c372a9b2ac2bc376f5564ffb84f291230c92c881a0083f18705dadb     0   \n",
       "1  4c7f8ff0c3da6143147f2da4a3fccd30dee8dc4b71c0a74ee272557a1ec2ea17     1   \n",
       "\n",
       "    lovelace                                             TokenPolicyId  \\\n",
       "0  490451577                                                       NaN   \n",
       "1    3000000  6f4f37e5c163a2f77935f395434c49bc4de8d1894a3bd80ac239a508   \n",
       "\n",
       "  TokenAssetNameHex  TokenAmount  datumhash  \n",
       "0               NaN          NaN        NaN  \n",
       "1      506172747931          1.0        NaN  "
      ]
     },
     "execution_count": 489,
     "metadata": {},
     "output_type": "execute_result"
    }
   ],
   "source": [
    "query_df(PARTY1_ADDRESS)"
   ]
  },
  {
   "cell_type": "code",
   "execution_count": 490,
   "id": "8e7f9f10-a677-49df-812b-ce4b38391c35",
   "metadata": {},
   "outputs": [
    {
     "data": {
      "text/html": [
       "<div>\n",
       "<style scoped>\n",
       "    .dataframe tbody tr th:only-of-type {\n",
       "        vertical-align: middle;\n",
       "    }\n",
       "\n",
       "    .dataframe tbody tr th {\n",
       "        vertical-align: top;\n",
       "    }\n",
       "\n",
       "    .dataframe thead th {\n",
       "        text-align: right;\n",
       "    }\n",
       "</style>\n",
       "<table border=\"1\" class=\"dataframe\">\n",
       "  <thead>\n",
       "    <tr style=\"text-align: right;\">\n",
       "      <th></th>\n",
       "      <th>address</th>\n",
       "      <th>TxHash</th>\n",
       "      <th>TxIx</th>\n",
       "      <th>lovelace</th>\n",
       "      <th>TokenPolicyId</th>\n",
       "      <th>TokenAssetNameHex</th>\n",
       "      <th>TokenAmount</th>\n",
       "      <th>datumhash</th>\n",
       "    </tr>\n",
       "  </thead>\n",
       "  <tbody>\n",
       "    <tr>\n",
       "      <th>0</th>\n",
       "      <td>addr_test1vzn7ef2cx8h5y4jvxnn34pn3lzak5t537fx09j7zxdljs3gc5zgw6</td>\n",
       "      <td>4c7f8ff0c3da6143147f2da4a3fccd30dee8dc4b71c0a74ee272557a1ec2ea17</td>\n",
       "      <td>2</td>\n",
       "      <td>3000000</td>\n",
       "      <td>6f4f37e5c163a2f77935f395434c49bc4de8d1894a3bd80ac239a508</td>\n",
       "      <td>506172747932</td>\n",
       "      <td>1.0</td>\n",
       "      <td>NaN</td>\n",
       "    </tr>\n",
       "    <tr>\n",
       "      <th>1</th>\n",
       "      <td>addr_test1vzn7ef2cx8h5y4jvxnn34pn3lzak5t537fx09j7zxdljs3gc5zgw6</td>\n",
       "      <td>ed62a729c96269053eef4aa5e4fabf9f6f85b7bb56f49481142ffcbe5f72aa33</td>\n",
       "      <td>3</td>\n",
       "      <td>500000000</td>\n",
       "      <td>NaN</td>\n",
       "      <td>NaN</td>\n",
       "      <td>NaN</td>\n",
       "      <td>NaN</td>\n",
       "    </tr>\n",
       "  </tbody>\n",
       "</table>\n",
       "</div>"
      ],
      "text/plain": [
       "                                                           address  \\\n",
       "0  addr_test1vzn7ef2cx8h5y4jvxnn34pn3lzak5t537fx09j7zxdljs3gc5zgw6   \n",
       "1  addr_test1vzn7ef2cx8h5y4jvxnn34pn3lzak5t537fx09j7zxdljs3gc5zgw6   \n",
       "\n",
       "                                                             TxHash  TxIx  \\\n",
       "0  4c7f8ff0c3da6143147f2da4a3fccd30dee8dc4b71c0a74ee272557a1ec2ea17     2   \n",
       "1  ed62a729c96269053eef4aa5e4fabf9f6f85b7bb56f49481142ffcbe5f72aa33     3   \n",
       "\n",
       "    lovelace                                             TokenPolicyId  \\\n",
       "0    3000000  6f4f37e5c163a2f77935f395434c49bc4de8d1894a3bd80ac239a508   \n",
       "1  500000000                                                       NaN   \n",
       "\n",
       "  TokenAssetNameHex  TokenAmount  datumhash  \n",
       "0      506172747932          1.0        NaN  \n",
       "1               NaN          NaN        NaN  "
      ]
     },
     "execution_count": 490,
     "metadata": {},
     "output_type": "execute_result"
    }
   ],
   "source": [
    "query_df(PARTY2_ADDRESS)"
   ]
  },
  {
   "cell_type": "code",
   "execution_count": 491,
   "id": "fd92d0a0-94ca-4a7e-a42d-e9dbf32b72c3",
   "metadata": {},
   "outputs": [
    {
     "data": {
      "text/html": [
       "<div>\n",
       "<style scoped>\n",
       "    .dataframe tbody tr th:only-of-type {\n",
       "        vertical-align: middle;\n",
       "    }\n",
       "\n",
       "    .dataframe tbody tr th {\n",
       "        vertical-align: top;\n",
       "    }\n",
       "\n",
       "    .dataframe thead th {\n",
       "        text-align: right;\n",
       "    }\n",
       "</style>\n",
       "<table border=\"1\" class=\"dataframe\">\n",
       "  <thead>\n",
       "    <tr style=\"text-align: right;\">\n",
       "      <th></th>\n",
       "      <th>address</th>\n",
       "      <th>TxHash</th>\n",
       "      <th>TxIx</th>\n",
       "      <th>lovelace</th>\n",
       "      <th>TokenPolicyId</th>\n",
       "      <th>TokenAssetNameHex</th>\n",
       "      <th>TokenAmount</th>\n",
       "      <th>datumhash</th>\n",
       "    </tr>\n",
       "  </thead>\n",
       "  <tbody>\n",
       "    <tr>\n",
       "      <th>0</th>\n",
       "      <td>addr_test1wqzctw6fur749cqp8ae9y8e6l6g9uvs9t4pv7thp0zy38cssc9g3z</td>\n",
       "      <td>7cbef19b7c372a9b2ac2bc376f5564ffb84f291230c92c881a0083f18705dadb</td>\n",
       "      <td>1</td>\n",
       "      <td>3000000</td>\n",
       "      <td>NaN</td>\n",
       "      <td>NaN</td>\n",
       "      <td>NaN</td>\n",
       "      <td>0e810f91611be5f0023233e5aa189dd099ad96d05437ffe0bc59a0f9a0137d64</td>\n",
       "    </tr>\n",
       "  </tbody>\n",
       "</table>\n",
       "</div>"
      ],
      "text/plain": [
       "                                                           address  \\\n",
       "0  addr_test1wqzctw6fur749cqp8ae9y8e6l6g9uvs9t4pv7thp0zy38cssc9g3z   \n",
       "\n",
       "                                                             TxHash  TxIx  \\\n",
       "0  7cbef19b7c372a9b2ac2bc376f5564ffb84f291230c92c881a0083f18705dadb     1   \n",
       "\n",
       "   lovelace  TokenPolicyId  TokenAssetNameHex  TokenAmount  \\\n",
       "0   3000000            NaN                NaN          NaN   \n",
       "\n",
       "                                                          datumhash  \n",
       "0  0e810f91611be5f0023233e5aa189dd099ad96d05437ffe0bc59a0f9a0137d64  "
      ]
     },
     "execution_count": 491,
     "metadata": {},
     "output_type": "execute_result"
    }
   ],
   "source": [
    "query_df(CONTRACT_ADDRESS)"
   ]
  },
  {
   "cell_type": "code",
   "execution_count": 492,
   "id": "0c0bceb3-505d-457e-94ff-d862d875cc72",
   "metadata": {},
   "outputs": [
    {
     "data": {
      "text/html": [
       "<div>\n",
       "<style scoped>\n",
       "    .dataframe tbody tr th:only-of-type {\n",
       "        vertical-align: middle;\n",
       "    }\n",
       "\n",
       "    .dataframe tbody tr th {\n",
       "        vertical-align: top;\n",
       "    }\n",
       "\n",
       "    .dataframe thead th {\n",
       "        text-align: right;\n",
       "    }\n",
       "</style>\n",
       "<table border=\"1\" class=\"dataframe\">\n",
       "  <thead>\n",
       "    <tr style=\"text-align: right;\">\n",
       "      <th></th>\n",
       "      <th>address</th>\n",
       "      <th>TxHash</th>\n",
       "      <th>TxIx</th>\n",
       "      <th>lovelace</th>\n",
       "      <th>TokenPolicyId</th>\n",
       "      <th>TokenAssetNameHex</th>\n",
       "      <th>TokenAmount</th>\n",
       "      <th>datumhash</th>\n",
       "    </tr>\n",
       "  </thead>\n",
       "  <tbody>\n",
       "    <tr>\n",
       "      <th>0</th>\n",
       "      <td>addr_test1wqzuqf8hvl9d47d6kftykktrgszgu3yznrrpdgha9naxcmgr8le36</td>\n",
       "      <td>NaN</td>\n",
       "      <td>NaN</td>\n",
       "      <td>NaN</td>\n",
       "      <td>NaN</td>\n",
       "      <td>NaN</td>\n",
       "      <td>NaN</td>\n",
       "      <td>NaN</td>\n",
       "    </tr>\n",
       "  </tbody>\n",
       "</table>\n",
       "</div>"
      ],
      "text/plain": [
       "                                                           address  TxHash  \\\n",
       "0  addr_test1wqzuqf8hvl9d47d6kftykktrgszgu3yznrrpdgha9naxcmgr8le36     NaN   \n",
       "\n",
       "   TxIx  lovelace  TokenPolicyId  TokenAssetNameHex  TokenAmount  datumhash  \n",
       "0   NaN       NaN            NaN                NaN          NaN        NaN  "
      ]
     },
     "execution_count": 492,
     "metadata": {},
     "output_type": "execute_result"
    }
   ],
   "source": [
    "query_df(REDEEM_ADDRESS)"
   ]
  },
  {
   "cell_type": "code",
   "execution_count": null,
   "id": "1992df65-76ba-4140-85e4-d217c3646979",
   "metadata": {},
   "outputs": [],
   "source": []
  },
  {
   "cell_type": "code",
   "execution_count": null,
   "id": "b3cc9ce1-4140-43da-830c-592cbe2cd46b",
   "metadata": {},
   "outputs": [],
   "source": []
  },
  {
   "cell_type": "code",
   "execution_count": null,
   "id": "f7aed710-cf1f-4941-88cd-881721cfac8c",
   "metadata": {},
   "outputs": [],
   "source": []
  },
  {
   "cell_type": "code",
   "execution_count": null,
   "id": "08982100-ba90-4ac4-90ac-78126b5136ae",
   "metadata": {},
   "outputs": [],
   "source": []
  },
  {
   "cell_type": "code",
   "execution_count": null,
   "id": "f94e69e4-89c1-4b4c-843b-a002ea5de784",
   "metadata": {},
   "outputs": [],
   "source": []
  },
  {
   "cell_type": "code",
   "execution_count": null,
   "id": "d21fe110",
   "metadata": {},
   "outputs": [],
   "source": [
    "# interesting resource\n",
    "# https://github.com/input-output-hk/marlowe-cardano/blob/c91f711b5132620dae7713dcc5a8607605b38f8f/marlowe-cli/cookbook/english-auction.ipynb"
   ]
  },
  {
   "cell_type": "code",
   "execution_count": 476,
   "id": "f0530782-e0eb-4cc2-a0fb-0d8323fdf4b4",
   "metadata": {},
   "outputs": [
    {
     "name": "stdout",
     "output_type": "stream",
     "text": [
      "                           TxHash                                 TxIx        Amount\n",
      "--------------------------------------------------------------------------------------\n",
      "\n"
     ]
    }
   ],
   "source": [
    "# query the current balance:\n",
    "cmd = [cardanoCLI, \"query\", \"utxo\", \"--testnet-magic\", MAGIC, \"--address\", REDEEM_ADDRESS]\n",
    "result = subprocess.run(cmd, capture_output=True, text=True)\n",
    "print(result.stdout)"
   ]
  },
  {
   "cell_type": "code",
   "execution_count": 477,
   "id": "c937e392",
   "metadata": {},
   "outputs": [
    {
     "name": "stdout",
     "output_type": "stream",
     "text": [
      "\n"
     ]
    }
   ],
   "source": [
    "# query the current balance:\n",
    "cmd = [cardanoCLI, \"query\", \"utxo\", \"--testnet-magic\", MAGIC, \"--address\", REDEEM_ADDRESS, \"--out-file\", 'party1_address.json']\n",
    "result = subprocess.run(cmd, capture_output=True, text=True)\n",
    "print(result.stdout)"
   ]
  },
  {
   "cell_type": "code",
   "execution_count": 478,
   "id": "472a98fe-f2f8-4e38-972d-01b4e9966dbf",
   "metadata": {},
   "outputs": [
    {
     "name": "stdout",
     "output_type": "stream",
     "text": [
      "{}"
     ]
    }
   ],
   "source": [
    "!cat party1_address.json"
   ]
  },
  {
   "cell_type": "code",
   "execution_count": 479,
   "id": "6040b760-7010-4db7-8859-32429ac2187a",
   "metadata": {},
   "outputs": [
    {
     "data": {
      "text/html": [
       "<div>\n",
       "<style scoped>\n",
       "    .dataframe tbody tr th:only-of-type {\n",
       "        vertical-align: middle;\n",
       "    }\n",
       "\n",
       "    .dataframe tbody tr th {\n",
       "        vertical-align: top;\n",
       "    }\n",
       "\n",
       "    .dataframe thead th {\n",
       "        text-align: right;\n",
       "    }\n",
       "</style>\n",
       "<table border=\"1\" class=\"dataframe\">\n",
       "  <thead>\n",
       "    <tr style=\"text-align: right;\">\n",
       "      <th></th>\n",
       "      <th>index</th>\n",
       "    </tr>\n",
       "  </thead>\n",
       "  <tbody>\n",
       "  </tbody>\n",
       "</table>\n",
       "</div>"
      ],
      "text/plain": [
       "Empty DataFrame\n",
       "Columns: [index]\n",
       "Index: []"
      ]
     },
     "execution_count": 479,
     "metadata": {},
     "output_type": "execute_result"
    }
   ],
   "source": [
    "df = pd.read_json('party1_address.json', orient='index').reset_index()\n",
    "df"
   ]
  },
  {
   "cell_type": "code",
   "execution_count": 469,
   "id": "9abbf971-abfb-4976-af3f-6549f86ac228",
   "metadata": {},
   "outputs": [
    {
     "data": {
      "text/html": [
       "<div>\n",
       "<style scoped>\n",
       "    .dataframe tbody tr th:only-of-type {\n",
       "        vertical-align: middle;\n",
       "    }\n",
       "\n",
       "    .dataframe tbody tr th {\n",
       "        vertical-align: top;\n",
       "    }\n",
       "\n",
       "    .dataframe thead th {\n",
       "        text-align: right;\n",
       "    }\n",
       "</style>\n",
       "<table border=\"1\" class=\"dataframe\">\n",
       "  <thead>\n",
       "    <tr style=\"text-align: right;\">\n",
       "      <th></th>\n",
       "      <th>TxHash</th>\n",
       "    </tr>\n",
       "  </thead>\n",
       "  <tbody>\n",
       "  </tbody>\n",
       "</table>\n",
       "</div>"
      ],
      "text/plain": [
       "Empty DataFrame\n",
       "Columns: [TxHash]\n",
       "Index: []"
      ]
     },
     "execution_count": 469,
     "metadata": {},
     "output_type": "execute_result"
    }
   ],
   "source": [
    "# replace feature names with interpretable naming (others are left as-is) \n",
    "df = df.rename(columns={'index': 'TxHash', 'datumhash': 'datumhash', 'address': 'address', 'value': 'value'})\n",
    "df"
   ]
  },
  {
   "cell_type": "code",
   "execution_count": 470,
   "id": "10823100-d486-4cce-b0e9-429ffdac6149",
   "metadata": {},
   "outputs": [],
   "source": [
    "# df.columns = ['TxHash', 'address', 'value']\n",
    "# df"
   ]
  },
  {
   "cell_type": "code",
   "execution_count": 471,
   "id": "72233387-470a-4bea-a7a9-b3e5f370c5a4",
   "metadata": {},
   "outputs": [
    {
     "ename": "AttributeError",
     "evalue": "Can only use .str accessor with string values!",
     "output_type": "error",
     "traceback": [
      "\u001b[0;31m---------------------------------------------------------------------------\u001b[0m",
      "\u001b[0;31mAttributeError\u001b[0m                            Traceback (most recent call last)",
      "Input \u001b[0;32mIn [471]\u001b[0m, in \u001b[0;36m<cell line: 1>\u001b[0;34m()\u001b[0m\n\u001b[0;32m----> 1\u001b[0m df \u001b[38;5;241m=\u001b[39m df\u001b[38;5;241m.\u001b[39mjoin(\u001b[43mdf\u001b[49m\u001b[43m[\u001b[49m\u001b[38;5;124;43m'\u001b[39;49m\u001b[38;5;124;43mTxHash\u001b[39;49m\u001b[38;5;124;43m'\u001b[39;49m\u001b[43m]\u001b[49m\u001b[38;5;241;43m.\u001b[39;49m\u001b[43mstr\u001b[49m\u001b[38;5;241m.\u001b[39msplit(\u001b[38;5;124m'\u001b[39m\u001b[38;5;124m#\u001b[39m\u001b[38;5;124m'\u001b[39m, regex\u001b[38;5;241m=\u001b[39m\u001b[38;5;28;01mFalse\u001b[39;00m, expand\u001b[38;5;241m=\u001b[39m\u001b[38;5;28;01mTrue\u001b[39;00m), how\u001b[38;5;241m=\u001b[39m\u001b[38;5;124m'\u001b[39m\u001b[38;5;124mleft\u001b[39m\u001b[38;5;124m'\u001b[39m)\n\u001b[1;32m      2\u001b[0m df\n",
      "File \u001b[0;32m/anaconda/envs/py39_cardano/lib/python3.9/site-packages/pandas/core/generic.py:5575\u001b[0m, in \u001b[0;36mNDFrame.__getattr__\u001b[0;34m(self, name)\u001b[0m\n\u001b[1;32m   5568\u001b[0m \u001b[38;5;28;01mif\u001b[39;00m (\n\u001b[1;32m   5569\u001b[0m     name \u001b[38;5;129;01mnot\u001b[39;00m \u001b[38;5;129;01min\u001b[39;00m \u001b[38;5;28mself\u001b[39m\u001b[38;5;241m.\u001b[39m_internal_names_set\n\u001b[1;32m   5570\u001b[0m     \u001b[38;5;129;01mand\u001b[39;00m name \u001b[38;5;129;01mnot\u001b[39;00m \u001b[38;5;129;01min\u001b[39;00m \u001b[38;5;28mself\u001b[39m\u001b[38;5;241m.\u001b[39m_metadata\n\u001b[1;32m   5571\u001b[0m     \u001b[38;5;129;01mand\u001b[39;00m name \u001b[38;5;129;01mnot\u001b[39;00m \u001b[38;5;129;01min\u001b[39;00m \u001b[38;5;28mself\u001b[39m\u001b[38;5;241m.\u001b[39m_accessors\n\u001b[1;32m   5572\u001b[0m     \u001b[38;5;129;01mand\u001b[39;00m \u001b[38;5;28mself\u001b[39m\u001b[38;5;241m.\u001b[39m_info_axis\u001b[38;5;241m.\u001b[39m_can_hold_identifiers_and_holds_name(name)\n\u001b[1;32m   5573\u001b[0m ):\n\u001b[1;32m   5574\u001b[0m     \u001b[38;5;28;01mreturn\u001b[39;00m \u001b[38;5;28mself\u001b[39m[name]\n\u001b[0;32m-> 5575\u001b[0m \u001b[38;5;28;01mreturn\u001b[39;00m \u001b[38;5;28;43mobject\u001b[39;49m\u001b[38;5;241;43m.\u001b[39;49m\u001b[38;5;21;43m__getattribute__\u001b[39;49m\u001b[43m(\u001b[49m\u001b[38;5;28;43mself\u001b[39;49m\u001b[43m,\u001b[49m\u001b[43m \u001b[49m\u001b[43mname\u001b[49m\u001b[43m)\u001b[49m\n",
      "File \u001b[0;32m/anaconda/envs/py39_cardano/lib/python3.9/site-packages/pandas/core/accessor.py:182\u001b[0m, in \u001b[0;36mCachedAccessor.__get__\u001b[0;34m(self, obj, cls)\u001b[0m\n\u001b[1;32m    179\u001b[0m \u001b[38;5;28;01mif\u001b[39;00m obj \u001b[38;5;129;01mis\u001b[39;00m \u001b[38;5;28;01mNone\u001b[39;00m:\n\u001b[1;32m    180\u001b[0m     \u001b[38;5;66;03m# we're accessing the attribute of the class, i.e., Dataset.geo\u001b[39;00m\n\u001b[1;32m    181\u001b[0m     \u001b[38;5;28;01mreturn\u001b[39;00m \u001b[38;5;28mself\u001b[39m\u001b[38;5;241m.\u001b[39m_accessor\n\u001b[0;32m--> 182\u001b[0m accessor_obj \u001b[38;5;241m=\u001b[39m \u001b[38;5;28;43mself\u001b[39;49m\u001b[38;5;241;43m.\u001b[39;49m\u001b[43m_accessor\u001b[49m\u001b[43m(\u001b[49m\u001b[43mobj\u001b[49m\u001b[43m)\u001b[49m\n\u001b[1;32m    183\u001b[0m \u001b[38;5;66;03m# Replace the property with the accessor object. Inspired by:\u001b[39;00m\n\u001b[1;32m    184\u001b[0m \u001b[38;5;66;03m# https://www.pydanny.com/cached-property.html\u001b[39;00m\n\u001b[1;32m    185\u001b[0m \u001b[38;5;66;03m# We need to use object.__setattr__ because we overwrite __setattr__ on\u001b[39;00m\n\u001b[1;32m    186\u001b[0m \u001b[38;5;66;03m# NDFrame\u001b[39;00m\n\u001b[1;32m    187\u001b[0m \u001b[38;5;28mobject\u001b[39m\u001b[38;5;241m.\u001b[39m\u001b[38;5;21m__setattr__\u001b[39m(obj, \u001b[38;5;28mself\u001b[39m\u001b[38;5;241m.\u001b[39m_name, accessor_obj)\n",
      "File \u001b[0;32m/anaconda/envs/py39_cardano/lib/python3.9/site-packages/pandas/core/strings/accessor.py:177\u001b[0m, in \u001b[0;36mStringMethods.__init__\u001b[0;34m(self, data)\u001b[0m\n\u001b[1;32m    174\u001b[0m \u001b[38;5;28;01mdef\u001b[39;00m \u001b[38;5;21m__init__\u001b[39m(\u001b[38;5;28mself\u001b[39m, data):\n\u001b[1;32m    175\u001b[0m     \u001b[38;5;28;01mfrom\u001b[39;00m \u001b[38;5;21;01mpandas\u001b[39;00m\u001b[38;5;21;01m.\u001b[39;00m\u001b[38;5;21;01mcore\u001b[39;00m\u001b[38;5;21;01m.\u001b[39;00m\u001b[38;5;21;01marrays\u001b[39;00m\u001b[38;5;21;01m.\u001b[39;00m\u001b[38;5;21;01mstring_\u001b[39;00m \u001b[38;5;28;01mimport\u001b[39;00m StringDtype\n\u001b[0;32m--> 177\u001b[0m     \u001b[38;5;28mself\u001b[39m\u001b[38;5;241m.\u001b[39m_inferred_dtype \u001b[38;5;241m=\u001b[39m \u001b[38;5;28;43mself\u001b[39;49m\u001b[38;5;241;43m.\u001b[39;49m\u001b[43m_validate\u001b[49m\u001b[43m(\u001b[49m\u001b[43mdata\u001b[49m\u001b[43m)\u001b[49m\n\u001b[1;32m    178\u001b[0m     \u001b[38;5;28mself\u001b[39m\u001b[38;5;241m.\u001b[39m_is_categorical \u001b[38;5;241m=\u001b[39m is_categorical_dtype(data\u001b[38;5;241m.\u001b[39mdtype)\n\u001b[1;32m    179\u001b[0m     \u001b[38;5;28mself\u001b[39m\u001b[38;5;241m.\u001b[39m_is_string \u001b[38;5;241m=\u001b[39m \u001b[38;5;28misinstance\u001b[39m(data\u001b[38;5;241m.\u001b[39mdtype, StringDtype)\n",
      "File \u001b[0;32m/anaconda/envs/py39_cardano/lib/python3.9/site-packages/pandas/core/strings/accessor.py:231\u001b[0m, in \u001b[0;36mStringMethods._validate\u001b[0;34m(data)\u001b[0m\n\u001b[1;32m    228\u001b[0m inferred_dtype \u001b[38;5;241m=\u001b[39m lib\u001b[38;5;241m.\u001b[39minfer_dtype(values, skipna\u001b[38;5;241m=\u001b[39m\u001b[38;5;28;01mTrue\u001b[39;00m)\n\u001b[1;32m    230\u001b[0m \u001b[38;5;28;01mif\u001b[39;00m inferred_dtype \u001b[38;5;129;01mnot\u001b[39;00m \u001b[38;5;129;01min\u001b[39;00m allowed_types:\n\u001b[0;32m--> 231\u001b[0m     \u001b[38;5;28;01mraise\u001b[39;00m \u001b[38;5;167;01mAttributeError\u001b[39;00m(\u001b[38;5;124m\"\u001b[39m\u001b[38;5;124mCan only use .str accessor with string values!\u001b[39m\u001b[38;5;124m\"\u001b[39m)\n\u001b[1;32m    232\u001b[0m \u001b[38;5;28;01mreturn\u001b[39;00m inferred_dtype\n",
      "\u001b[0;31mAttributeError\u001b[0m: Can only use .str accessor with string values!"
     ]
    }
   ],
   "source": [
    "df = df.join(df['TxHash'].str.split('#', regex=False, expand=True), how='left')\n",
    "df"
   ]
  },
  {
   "cell_type": "code",
   "execution_count": 445,
   "id": "34406912-186e-49d5-a09f-50c04ec286ba",
   "metadata": {},
   "outputs": [
    {
     "data": {
      "text/html": [
       "<div>\n",
       "<style scoped>\n",
       "    .dataframe tbody tr th:only-of-type {\n",
       "        vertical-align: middle;\n",
       "    }\n",
       "\n",
       "    .dataframe tbody tr th {\n",
       "        vertical-align: top;\n",
       "    }\n",
       "\n",
       "    .dataframe thead th {\n",
       "        text-align: right;\n",
       "    }\n",
       "</style>\n",
       "<table border=\"1\" class=\"dataframe\">\n",
       "  <thead>\n",
       "    <tr style=\"text-align: right;\">\n",
       "      <th></th>\n",
       "      <th>address</th>\n",
       "      <th>value</th>\n",
       "      <th>0</th>\n",
       "      <th>1</th>\n",
       "    </tr>\n",
       "  </thead>\n",
       "  <tbody>\n",
       "    <tr>\n",
       "      <th>0</th>\n",
       "      <td>addr_test1vzn7ef2cx8h5y4jvxnn34pn3lzak5t537fx09j7zxdljs3gc5zgw6</td>\n",
       "      <td>{'6f4f37e5c163a2f77935f395434c49bc4de8d1894a3bd80ac239a508': {'506172747932'...</td>\n",
       "      <td>4c7f8ff0c3da6143147f2da4a3fccd30dee8dc4b71c0a74ee272557a1ec2ea17</td>\n",
       "      <td>2</td>\n",
       "    </tr>\n",
       "    <tr>\n",
       "      <th>1</th>\n",
       "      <td>addr_test1vzn7ef2cx8h5y4jvxnn34pn3lzak5t537fx09j7zxdljs3gc5zgw6</td>\n",
       "      <td>{'lovelace': 500000000}</td>\n",
       "      <td>ed62a729c96269053eef4aa5e4fabf9f6f85b7bb56f49481142ffcbe5f72aa33</td>\n",
       "      <td>3</td>\n",
       "    </tr>\n",
       "  </tbody>\n",
       "</table>\n",
       "</div>"
      ],
      "text/plain": [
       "                                                           address  \\\n",
       "0  addr_test1vzn7ef2cx8h5y4jvxnn34pn3lzak5t537fx09j7zxdljs3gc5zgw6   \n",
       "1  addr_test1vzn7ef2cx8h5y4jvxnn34pn3lzak5t537fx09j7zxdljs3gc5zgw6   \n",
       "\n",
       "                                                                             value  \\\n",
       "0  {'6f4f37e5c163a2f77935f395434c49bc4de8d1894a3bd80ac239a508': {'506172747932'...   \n",
       "1                                                          {'lovelace': 500000000}   \n",
       "\n",
       "                                                                  0  1  \n",
       "0  4c7f8ff0c3da6143147f2da4a3fccd30dee8dc4b71c0a74ee272557a1ec2ea17  2  \n",
       "1  ed62a729c96269053eef4aa5e4fabf9f6f85b7bb56f49481142ffcbe5f72aa33  3  "
      ]
     },
     "execution_count": 445,
     "metadata": {},
     "output_type": "execute_result"
    }
   ],
   "source": [
    "df = df.drop(['TxHash'], axis=1)\n",
    "df"
   ]
  },
  {
   "cell_type": "code",
   "execution_count": 446,
   "id": "382483fe-28e9-4296-a1a7-dd9bd9c09e9f",
   "metadata": {},
   "outputs": [
    {
     "data": {
      "text/html": [
       "<div>\n",
       "<style scoped>\n",
       "    .dataframe tbody tr th:only-of-type {\n",
       "        vertical-align: middle;\n",
       "    }\n",
       "\n",
       "    .dataframe tbody tr th {\n",
       "        vertical-align: top;\n",
       "    }\n",
       "\n",
       "    .dataframe thead th {\n",
       "        text-align: right;\n",
       "    }\n",
       "</style>\n",
       "<table border=\"1\" class=\"dataframe\">\n",
       "  <thead>\n",
       "    <tr style=\"text-align: right;\">\n",
       "      <th></th>\n",
       "      <th>address</th>\n",
       "      <th>value</th>\n",
       "      <th>TxHash</th>\n",
       "      <th>TxIx</th>\n",
       "    </tr>\n",
       "  </thead>\n",
       "  <tbody>\n",
       "    <tr>\n",
       "      <th>0</th>\n",
       "      <td>addr_test1vzn7ef2cx8h5y4jvxnn34pn3lzak5t537fx09j7zxdljs3gc5zgw6</td>\n",
       "      <td>{'6f4f37e5c163a2f77935f395434c49bc4de8d1894a3bd80ac239a508': {'506172747932'...</td>\n",
       "      <td>4c7f8ff0c3da6143147f2da4a3fccd30dee8dc4b71c0a74ee272557a1ec2ea17</td>\n",
       "      <td>2</td>\n",
       "    </tr>\n",
       "    <tr>\n",
       "      <th>1</th>\n",
       "      <td>addr_test1vzn7ef2cx8h5y4jvxnn34pn3lzak5t537fx09j7zxdljs3gc5zgw6</td>\n",
       "      <td>{'lovelace': 500000000}</td>\n",
       "      <td>ed62a729c96269053eef4aa5e4fabf9f6f85b7bb56f49481142ffcbe5f72aa33</td>\n",
       "      <td>3</td>\n",
       "    </tr>\n",
       "  </tbody>\n",
       "</table>\n",
       "</div>"
      ],
      "text/plain": [
       "                                                           address  \\\n",
       "0  addr_test1vzn7ef2cx8h5y4jvxnn34pn3lzak5t537fx09j7zxdljs3gc5zgw6   \n",
       "1  addr_test1vzn7ef2cx8h5y4jvxnn34pn3lzak5t537fx09j7zxdljs3gc5zgw6   \n",
       "\n",
       "                                                                             value  \\\n",
       "0  {'6f4f37e5c163a2f77935f395434c49bc4de8d1894a3bd80ac239a508': {'506172747932'...   \n",
       "1                                                          {'lovelace': 500000000}   \n",
       "\n",
       "                                                             TxHash TxIx  \n",
       "0  4c7f8ff0c3da6143147f2da4a3fccd30dee8dc4b71c0a74ee272557a1ec2ea17    2  \n",
       "1  ed62a729c96269053eef4aa5e4fabf9f6f85b7bb56f49481142ffcbe5f72aa33    3  "
      ]
     },
     "execution_count": 446,
     "metadata": {},
     "output_type": "execute_result"
    }
   ],
   "source": [
    "# replace feature names with interpretable naming (others are left as-is) \n",
    "df = df.rename(columns={0: 'TxHash', 1: 'TxIx'})\n",
    "df"
   ]
  },
  {
   "cell_type": "code",
   "execution_count": 447,
   "id": "e9705963-b863-4946-be48-cdf84891ef2b",
   "metadata": {},
   "outputs": [],
   "source": [
    "# df.columns = ['address', 'value', 'TxHash', 'TxIx']\n",
    "# df"
   ]
  },
  {
   "cell_type": "code",
   "execution_count": 448,
   "id": "fdd4fe93-dc81-429e-bd96-243e815414a5",
   "metadata": {},
   "outputs": [
    {
     "data": {
      "text/html": [
       "<div>\n",
       "<style scoped>\n",
       "    .dataframe tbody tr th:only-of-type {\n",
       "        vertical-align: middle;\n",
       "    }\n",
       "\n",
       "    .dataframe tbody tr th {\n",
       "        vertical-align: top;\n",
       "    }\n",
       "\n",
       "    .dataframe thead th {\n",
       "        text-align: right;\n",
       "    }\n",
       "</style>\n",
       "<table border=\"1\" class=\"dataframe\">\n",
       "  <thead>\n",
       "    <tr style=\"text-align: right;\">\n",
       "      <th></th>\n",
       "      <th>address</th>\n",
       "      <th>TxHash</th>\n",
       "      <th>TxIx</th>\n",
       "      <th>6f4f37e5c163a2f77935f395434c49bc4de8d1894a3bd80ac239a508</th>\n",
       "      <th>lovelace</th>\n",
       "    </tr>\n",
       "  </thead>\n",
       "  <tbody>\n",
       "    <tr>\n",
       "      <th>0</th>\n",
       "      <td>addr_test1vzn7ef2cx8h5y4jvxnn34pn3lzak5t537fx09j7zxdljs3gc5zgw6</td>\n",
       "      <td>4c7f8ff0c3da6143147f2da4a3fccd30dee8dc4b71c0a74ee272557a1ec2ea17</td>\n",
       "      <td>2</td>\n",
       "      <td>{'506172747932': 1}</td>\n",
       "      <td>3000000.0</td>\n",
       "    </tr>\n",
       "    <tr>\n",
       "      <th>1</th>\n",
       "      <td>addr_test1vzn7ef2cx8h5y4jvxnn34pn3lzak5t537fx09j7zxdljs3gc5zgw6</td>\n",
       "      <td>ed62a729c96269053eef4aa5e4fabf9f6f85b7bb56f49481142ffcbe5f72aa33</td>\n",
       "      <td>3</td>\n",
       "      <td>NaN</td>\n",
       "      <td>500000000.0</td>\n",
       "    </tr>\n",
       "  </tbody>\n",
       "</table>\n",
       "</div>"
      ],
      "text/plain": [
       "                                                           address  \\\n",
       "0  addr_test1vzn7ef2cx8h5y4jvxnn34pn3lzak5t537fx09j7zxdljs3gc5zgw6   \n",
       "1  addr_test1vzn7ef2cx8h5y4jvxnn34pn3lzak5t537fx09j7zxdljs3gc5zgw6   \n",
       "\n",
       "                                                             TxHash TxIx  \\\n",
       "0  4c7f8ff0c3da6143147f2da4a3fccd30dee8dc4b71c0a74ee272557a1ec2ea17    2   \n",
       "1  ed62a729c96269053eef4aa5e4fabf9f6f85b7bb56f49481142ffcbe5f72aa33    3   \n",
       "\n",
       "  6f4f37e5c163a2f77935f395434c49bc4de8d1894a3bd80ac239a508     lovelace  \n",
       "0                                      {'506172747932': 1}    3000000.0  \n",
       "1                                                      NaN  500000000.0  "
      ]
     },
     "execution_count": 448,
     "metadata": {},
     "output_type": "execute_result"
    }
   ],
   "source": [
    "df = pd.concat([df.drop(['value'], axis=1), df['value'].apply(pd.Series)], axis=1)\n",
    "df"
   ]
  },
  {
   "cell_type": "code",
   "execution_count": 449,
   "id": "13c1726d-00c8-4b2c-9f2e-251d12617c8a",
   "metadata": {},
   "outputs": [
    {
     "data": {
      "text/html": [
       "<div>\n",
       "<style scoped>\n",
       "    .dataframe tbody tr th:only-of-type {\n",
       "        vertical-align: middle;\n",
       "    }\n",
       "\n",
       "    .dataframe tbody tr th {\n",
       "        vertical-align: top;\n",
       "    }\n",
       "\n",
       "    .dataframe thead th {\n",
       "        text-align: right;\n",
       "    }\n",
       "</style>\n",
       "<table border=\"1\" class=\"dataframe\">\n",
       "  <thead>\n",
       "    <tr style=\"text-align: right;\">\n",
       "      <th></th>\n",
       "      <th>address</th>\n",
       "      <th>TxHash</th>\n",
       "      <th>TxIx</th>\n",
       "      <th>6f4f37e5c163a2f77935f395434c49bc4de8d1894a3bd80ac239a508</th>\n",
       "      <th>lovelace</th>\n",
       "    </tr>\n",
       "  </thead>\n",
       "  <tbody>\n",
       "    <tr>\n",
       "      <th>0</th>\n",
       "      <td>addr_test1vzn7ef2cx8h5y4jvxnn34pn3lzak5t537fx09j7zxdljs3gc5zgw6</td>\n",
       "      <td>4c7f8ff0c3da6143147f2da4a3fccd30dee8dc4b71c0a74ee272557a1ec2ea17</td>\n",
       "      <td>2</td>\n",
       "      <td>{'506172747932': 1}</td>\n",
       "      <td>3000000</td>\n",
       "    </tr>\n",
       "    <tr>\n",
       "      <th>1</th>\n",
       "      <td>addr_test1vzn7ef2cx8h5y4jvxnn34pn3lzak5t537fx09j7zxdljs3gc5zgw6</td>\n",
       "      <td>ed62a729c96269053eef4aa5e4fabf9f6f85b7bb56f49481142ffcbe5f72aa33</td>\n",
       "      <td>3</td>\n",
       "      <td>NaN</td>\n",
       "      <td>500000000</td>\n",
       "    </tr>\n",
       "  </tbody>\n",
       "</table>\n",
       "</div>"
      ],
      "text/plain": [
       "                                                           address  \\\n",
       "0  addr_test1vzn7ef2cx8h5y4jvxnn34pn3lzak5t537fx09j7zxdljs3gc5zgw6   \n",
       "1  addr_test1vzn7ef2cx8h5y4jvxnn34pn3lzak5t537fx09j7zxdljs3gc5zgw6   \n",
       "\n",
       "                                                             TxHash TxIx  \\\n",
       "0  4c7f8ff0c3da6143147f2da4a3fccd30dee8dc4b71c0a74ee272557a1ec2ea17    2   \n",
       "1  ed62a729c96269053eef4aa5e4fabf9f6f85b7bb56f49481142ffcbe5f72aa33    3   \n",
       "\n",
       "  6f4f37e5c163a2f77935f395434c49bc4de8d1894a3bd80ac239a508   lovelace  \n",
       "0                                      {'506172747932': 1}    3000000  \n",
       "1                                                      NaN  500000000  "
      ]
     },
     "execution_count": 449,
     "metadata": {},
     "output_type": "execute_result"
    }
   ],
   "source": [
    "df['lovelace'] = df['lovelace'].astype('int')\n",
    "df"
   ]
  },
  {
   "cell_type": "code",
   "execution_count": 450,
   "id": "1ec93818-9fe9-45ea-9c24-b56fda3a073d",
   "metadata": {},
   "outputs": [
    {
     "data": {
      "text/html": [
       "<div>\n",
       "<style scoped>\n",
       "    .dataframe tbody tr th:only-of-type {\n",
       "        vertical-align: middle;\n",
       "    }\n",
       "\n",
       "    .dataframe tbody tr th {\n",
       "        vertical-align: top;\n",
       "    }\n",
       "\n",
       "    .dataframe thead th {\n",
       "        text-align: right;\n",
       "    }\n",
       "</style>\n",
       "<table border=\"1\" class=\"dataframe\">\n",
       "  <thead>\n",
       "    <tr style=\"text-align: right;\">\n",
       "      <th></th>\n",
       "      <th>address</th>\n",
       "      <th>TxHash</th>\n",
       "      <th>TxIx</th>\n",
       "      <th>6f4f37e5c163a2f77935f395434c49bc4de8d1894a3bd80ac239a508</th>\n",
       "      <th>lovelace</th>\n",
       "    </tr>\n",
       "  </thead>\n",
       "  <tbody>\n",
       "    <tr>\n",
       "      <th>0</th>\n",
       "      <td>addr_test1vzn7ef2cx8h5y4jvxnn34pn3lzak5t537fx09j7zxdljs3gc5zgw6</td>\n",
       "      <td>4c7f8ff0c3da6143147f2da4a3fccd30dee8dc4b71c0a74ee272557a1ec2ea17</td>\n",
       "      <td>2</td>\n",
       "      <td>{'506172747932': 1}</td>\n",
       "      <td>3000000</td>\n",
       "    </tr>\n",
       "    <tr>\n",
       "      <th>1</th>\n",
       "      <td>addr_test1vzn7ef2cx8h5y4jvxnn34pn3lzak5t537fx09j7zxdljs3gc5zgw6</td>\n",
       "      <td>ed62a729c96269053eef4aa5e4fabf9f6f85b7bb56f49481142ffcbe5f72aa33</td>\n",
       "      <td>3</td>\n",
       "      <td>NaN</td>\n",
       "      <td>500000000</td>\n",
       "    </tr>\n",
       "  </tbody>\n",
       "</table>\n",
       "</div>"
      ],
      "text/plain": [
       "                                                           address  \\\n",
       "0  addr_test1vzn7ef2cx8h5y4jvxnn34pn3lzak5t537fx09j7zxdljs3gc5zgw6   \n",
       "1  addr_test1vzn7ef2cx8h5y4jvxnn34pn3lzak5t537fx09j7zxdljs3gc5zgw6   \n",
       "\n",
       "                                                             TxHash  TxIx  \\\n",
       "0  4c7f8ff0c3da6143147f2da4a3fccd30dee8dc4b71c0a74ee272557a1ec2ea17     2   \n",
       "1  ed62a729c96269053eef4aa5e4fabf9f6f85b7bb56f49481142ffcbe5f72aa33     3   \n",
       "\n",
       "  6f4f37e5c163a2f77935f395434c49bc4de8d1894a3bd80ac239a508   lovelace  \n",
       "0                                      {'506172747932': 1}    3000000  \n",
       "1                                                      NaN  500000000  "
      ]
     },
     "execution_count": 450,
     "metadata": {},
     "output_type": "execute_result"
    }
   ],
   "source": [
    "df['TxIx'] = df['TxIx'].astype('int')\n",
    "df"
   ]
  },
  {
   "cell_type": "code",
   "execution_count": 451,
   "id": "072b97e9-865c-4ab3-82e5-e9bcd68939ed",
   "metadata": {},
   "outputs": [
    {
     "data": {
      "text/html": [
       "<div>\n",
       "<style scoped>\n",
       "    .dataframe tbody tr th:only-of-type {\n",
       "        vertical-align: middle;\n",
       "    }\n",
       "\n",
       "    .dataframe tbody tr th {\n",
       "        vertical-align: top;\n",
       "    }\n",
       "\n",
       "    .dataframe thead th {\n",
       "        text-align: right;\n",
       "    }\n",
       "</style>\n",
       "<table border=\"1\" class=\"dataframe\">\n",
       "  <thead>\n",
       "    <tr style=\"text-align: right;\">\n",
       "      <th></th>\n",
       "      <th>address</th>\n",
       "      <th>TxHash</th>\n",
       "      <th>TxIx</th>\n",
       "      <th>6f4f37e5c163a2f77935f395434c49bc4de8d1894a3bd80ac239a508</th>\n",
       "      <th>lovelace</th>\n",
       "    </tr>\n",
       "  </thead>\n",
       "  <tbody>\n",
       "    <tr>\n",
       "      <th>0</th>\n",
       "      <td>addr_test1vzn7ef2cx8h5y4jvxnn34pn3lzak5t537fx09j7zxdljs3gc5zgw6</td>\n",
       "      <td>4c7f8ff0c3da6143147f2da4a3fccd30dee8dc4b71c0a74ee272557a1ec2ea17</td>\n",
       "      <td>2</td>\n",
       "      <td>{'506172747932': 1}</td>\n",
       "      <td>3000000</td>\n",
       "    </tr>\n",
       "    <tr>\n",
       "      <th>1</th>\n",
       "      <td>addr_test1vzn7ef2cx8h5y4jvxnn34pn3lzak5t537fx09j7zxdljs3gc5zgw6</td>\n",
       "      <td>ed62a729c96269053eef4aa5e4fabf9f6f85b7bb56f49481142ffcbe5f72aa33</td>\n",
       "      <td>3</td>\n",
       "      <td>NaN</td>\n",
       "      <td>500000000</td>\n",
       "    </tr>\n",
       "  </tbody>\n",
       "</table>\n",
       "</div>"
      ],
      "text/plain": [
       "                                                           address  \\\n",
       "0  addr_test1vzn7ef2cx8h5y4jvxnn34pn3lzak5t537fx09j7zxdljs3gc5zgw6   \n",
       "1  addr_test1vzn7ef2cx8h5y4jvxnn34pn3lzak5t537fx09j7zxdljs3gc5zgw6   \n",
       "\n",
       "                                                             TxHash  TxIx  \\\n",
       "0  4c7f8ff0c3da6143147f2da4a3fccd30dee8dc4b71c0a74ee272557a1ec2ea17     2   \n",
       "1  ed62a729c96269053eef4aa5e4fabf9f6f85b7bb56f49481142ffcbe5f72aa33     3   \n",
       "\n",
       "  6f4f37e5c163a2f77935f395434c49bc4de8d1894a3bd80ac239a508   lovelace  \n",
       "0                                      {'506172747932': 1}    3000000  \n",
       "1                                                      NaN  500000000  "
      ]
     },
     "execution_count": 451,
     "metadata": {},
     "output_type": "execute_result"
    }
   ],
   "source": [
    "# drop all columns with all values NA\n",
    "df = df.dropna(axis=1, how='all')\n",
    "df"
   ]
  },
  {
   "cell_type": "code",
   "execution_count": 452,
   "id": "b4d9216d-d765-421c-a85a-d0d8abac9925",
   "metadata": {},
   "outputs": [
    {
     "name": "stdout",
     "output_type": "stream",
     "text": [
      "yes, len(cn) == 56\n"
     ]
    }
   ],
   "source": [
    "# if the last column name word size is 56 characters wide:\n",
    "# cn = df.iloc[:, -1].name\n",
    "try:\n",
    "    cn = df[df.columns[~df.columns.isin(['address', 'TxHash', 'TxIx', 'lovelace'])]].iloc[:, -1].name\n",
    "    if len(cn) == 56:\n",
    "        print(\"yes, len(cn) == 56\")\n",
    "        # make a copy\n",
    "        df['TokenPolicyId'] = df[cn]\n",
    "        # write the column name only on True location\n",
    "        df['TokenPolicyId'] = df['TokenPolicyId'].notna().replace({True: cn, False: np.nan})\n",
    "except:\n",
    "    print(\"except happened\")\n",
    "    df['TokenPolicyId'] = np.nan\n",
    "    df['TokenAssetNameHex'] = np.nan\n",
    "    df['TokenAmount'] = np.nan\n",
    "    pass"
   ]
  },
  {
   "cell_type": "code",
   "execution_count": 453,
   "id": "15d77617-e519-48d4-b7e8-bdacd4875818",
   "metadata": {},
   "outputs": [
    {
     "data": {
      "text/html": [
       "<div>\n",
       "<style scoped>\n",
       "    .dataframe tbody tr th:only-of-type {\n",
       "        vertical-align: middle;\n",
       "    }\n",
       "\n",
       "    .dataframe tbody tr th {\n",
       "        vertical-align: top;\n",
       "    }\n",
       "\n",
       "    .dataframe thead th {\n",
       "        text-align: right;\n",
       "    }\n",
       "</style>\n",
       "<table border=\"1\" class=\"dataframe\">\n",
       "  <thead>\n",
       "    <tr style=\"text-align: right;\">\n",
       "      <th></th>\n",
       "      <th>address</th>\n",
       "      <th>TxHash</th>\n",
       "      <th>TxIx</th>\n",
       "      <th>6f4f37e5c163a2f77935f395434c49bc4de8d1894a3bd80ac239a508</th>\n",
       "      <th>lovelace</th>\n",
       "      <th>TokenPolicyId</th>\n",
       "    </tr>\n",
       "  </thead>\n",
       "  <tbody>\n",
       "    <tr>\n",
       "      <th>0</th>\n",
       "      <td>addr_test1vzn7ef2cx8h5y4jvxnn34pn3lzak5t537fx09j7zxdljs3gc5zgw6</td>\n",
       "      <td>4c7f8ff0c3da6143147f2da4a3fccd30dee8dc4b71c0a74ee272557a1ec2ea17</td>\n",
       "      <td>2</td>\n",
       "      <td>{'506172747932': 1}</td>\n",
       "      <td>3000000</td>\n",
       "      <td>6f4f37e5c163a2f77935f395434c49bc4de8d1894a3bd80ac239a508</td>\n",
       "    </tr>\n",
       "    <tr>\n",
       "      <th>1</th>\n",
       "      <td>addr_test1vzn7ef2cx8h5y4jvxnn34pn3lzak5t537fx09j7zxdljs3gc5zgw6</td>\n",
       "      <td>ed62a729c96269053eef4aa5e4fabf9f6f85b7bb56f49481142ffcbe5f72aa33</td>\n",
       "      <td>3</td>\n",
       "      <td>NaN</td>\n",
       "      <td>500000000</td>\n",
       "      <td>NaN</td>\n",
       "    </tr>\n",
       "  </tbody>\n",
       "</table>\n",
       "</div>"
      ],
      "text/plain": [
       "                                                           address  \\\n",
       "0  addr_test1vzn7ef2cx8h5y4jvxnn34pn3lzak5t537fx09j7zxdljs3gc5zgw6   \n",
       "1  addr_test1vzn7ef2cx8h5y4jvxnn34pn3lzak5t537fx09j7zxdljs3gc5zgw6   \n",
       "\n",
       "                                                             TxHash  TxIx  \\\n",
       "0  4c7f8ff0c3da6143147f2da4a3fccd30dee8dc4b71c0a74ee272557a1ec2ea17     2   \n",
       "1  ed62a729c96269053eef4aa5e4fabf9f6f85b7bb56f49481142ffcbe5f72aa33     3   \n",
       "\n",
       "  6f4f37e5c163a2f77935f395434c49bc4de8d1894a3bd80ac239a508   lovelace  \\\n",
       "0                                      {'506172747932': 1}    3000000   \n",
       "1                                                      NaN  500000000   \n",
       "\n",
       "                                              TokenPolicyId  \n",
       "0  6f4f37e5c163a2f77935f395434c49bc4de8d1894a3bd80ac239a508  \n",
       "1                                                       NaN  "
      ]
     },
     "execution_count": 453,
     "metadata": {},
     "output_type": "execute_result"
    }
   ],
   "source": [
    "df"
   ]
  },
  {
   "cell_type": "code",
   "execution_count": 454,
   "id": "7a71cf09-4298-4090-bf57-d154afa439ec",
   "metadata": {},
   "outputs": [
    {
     "data": {
      "text/html": [
       "<div>\n",
       "<style scoped>\n",
       "    .dataframe tbody tr th:only-of-type {\n",
       "        vertical-align: middle;\n",
       "    }\n",
       "\n",
       "    .dataframe tbody tr th {\n",
       "        vertical-align: top;\n",
       "    }\n",
       "\n",
       "    .dataframe thead th {\n",
       "        text-align: right;\n",
       "    }\n",
       "</style>\n",
       "<table border=\"1\" class=\"dataframe\">\n",
       "  <thead>\n",
       "    <tr style=\"text-align: right;\">\n",
       "      <th></th>\n",
       "      <th>address</th>\n",
       "      <th>TxHash</th>\n",
       "      <th>TxIx</th>\n",
       "      <th>lovelace</th>\n",
       "      <th>TokenPolicyId</th>\n",
       "      <th>506172747932</th>\n",
       "      <th>0</th>\n",
       "    </tr>\n",
       "  </thead>\n",
       "  <tbody>\n",
       "    <tr>\n",
       "      <th>0</th>\n",
       "      <td>addr_test1vzn7ef2cx8h5y4jvxnn34pn3lzak5t537fx09j7zxdljs3gc5zgw6</td>\n",
       "      <td>4c7f8ff0c3da6143147f2da4a3fccd30dee8dc4b71c0a74ee272557a1ec2ea17</td>\n",
       "      <td>2</td>\n",
       "      <td>3000000</td>\n",
       "      <td>6f4f37e5c163a2f77935f395434c49bc4de8d1894a3bd80ac239a508</td>\n",
       "      <td>1.0</td>\n",
       "      <td>NaN</td>\n",
       "    </tr>\n",
       "    <tr>\n",
       "      <th>1</th>\n",
       "      <td>addr_test1vzn7ef2cx8h5y4jvxnn34pn3lzak5t537fx09j7zxdljs3gc5zgw6</td>\n",
       "      <td>ed62a729c96269053eef4aa5e4fabf9f6f85b7bb56f49481142ffcbe5f72aa33</td>\n",
       "      <td>3</td>\n",
       "      <td>500000000</td>\n",
       "      <td>NaN</td>\n",
       "      <td>NaN</td>\n",
       "      <td>NaN</td>\n",
       "    </tr>\n",
       "  </tbody>\n",
       "</table>\n",
       "</div>"
      ],
      "text/plain": [
       "                                                           address  \\\n",
       "0  addr_test1vzn7ef2cx8h5y4jvxnn34pn3lzak5t537fx09j7zxdljs3gc5zgw6   \n",
       "1  addr_test1vzn7ef2cx8h5y4jvxnn34pn3lzak5t537fx09j7zxdljs3gc5zgw6   \n",
       "\n",
       "                                                             TxHash  TxIx  \\\n",
       "0  4c7f8ff0c3da6143147f2da4a3fccd30dee8dc4b71c0a74ee272557a1ec2ea17     2   \n",
       "1  ed62a729c96269053eef4aa5e4fabf9f6f85b7bb56f49481142ffcbe5f72aa33     3   \n",
       "\n",
       "    lovelace                                             TokenPolicyId  \\\n",
       "0    3000000  6f4f37e5c163a2f77935f395434c49bc4de8d1894a3bd80ac239a508   \n",
       "1  500000000                                                       NaN   \n",
       "\n",
       "   506172747932   0  \n",
       "0           1.0 NaN  \n",
       "1           NaN NaN  "
      ]
     },
     "execution_count": 454,
     "metadata": {},
     "output_type": "execute_result"
    }
   ],
   "source": [
    "df = pd.concat([df.drop([cn], axis=1), df[cn].apply(pd.Series)], axis=1)\n",
    "df"
   ]
  },
  {
   "cell_type": "code",
   "execution_count": 455,
   "id": "f5c56f8f-e749-494b-b5bc-38939e796de3",
   "metadata": {},
   "outputs": [
    {
     "data": {
      "text/html": [
       "<div>\n",
       "<style scoped>\n",
       "    .dataframe tbody tr th:only-of-type {\n",
       "        vertical-align: middle;\n",
       "    }\n",
       "\n",
       "    .dataframe tbody tr th {\n",
       "        vertical-align: top;\n",
       "    }\n",
       "\n",
       "    .dataframe thead th {\n",
       "        text-align: right;\n",
       "    }\n",
       "</style>\n",
       "<table border=\"1\" class=\"dataframe\">\n",
       "  <thead>\n",
       "    <tr style=\"text-align: right;\">\n",
       "      <th></th>\n",
       "      <th>address</th>\n",
       "      <th>TxHash</th>\n",
       "      <th>TxIx</th>\n",
       "      <th>lovelace</th>\n",
       "      <th>TokenPolicyId</th>\n",
       "      <th>506172747932</th>\n",
       "    </tr>\n",
       "  </thead>\n",
       "  <tbody>\n",
       "    <tr>\n",
       "      <th>0</th>\n",
       "      <td>addr_test1vzn7ef2cx8h5y4jvxnn34pn3lzak5t537fx09j7zxdljs3gc5zgw6</td>\n",
       "      <td>4c7f8ff0c3da6143147f2da4a3fccd30dee8dc4b71c0a74ee272557a1ec2ea17</td>\n",
       "      <td>2</td>\n",
       "      <td>3000000</td>\n",
       "      <td>6f4f37e5c163a2f77935f395434c49bc4de8d1894a3bd80ac239a508</td>\n",
       "      <td>1.0</td>\n",
       "    </tr>\n",
       "    <tr>\n",
       "      <th>1</th>\n",
       "      <td>addr_test1vzn7ef2cx8h5y4jvxnn34pn3lzak5t537fx09j7zxdljs3gc5zgw6</td>\n",
       "      <td>ed62a729c96269053eef4aa5e4fabf9f6f85b7bb56f49481142ffcbe5f72aa33</td>\n",
       "      <td>3</td>\n",
       "      <td>500000000</td>\n",
       "      <td>NaN</td>\n",
       "      <td>NaN</td>\n",
       "    </tr>\n",
       "  </tbody>\n",
       "</table>\n",
       "</div>"
      ],
      "text/plain": [
       "                                                           address  \\\n",
       "0  addr_test1vzn7ef2cx8h5y4jvxnn34pn3lzak5t537fx09j7zxdljs3gc5zgw6   \n",
       "1  addr_test1vzn7ef2cx8h5y4jvxnn34pn3lzak5t537fx09j7zxdljs3gc5zgw6   \n",
       "\n",
       "                                                             TxHash  TxIx  \\\n",
       "0  4c7f8ff0c3da6143147f2da4a3fccd30dee8dc4b71c0a74ee272557a1ec2ea17     2   \n",
       "1  ed62a729c96269053eef4aa5e4fabf9f6f85b7bb56f49481142ffcbe5f72aa33     3   \n",
       "\n",
       "    lovelace                                             TokenPolicyId  \\\n",
       "0    3000000  6f4f37e5c163a2f77935f395434c49bc4de8d1894a3bd80ac239a508   \n",
       "1  500000000                                                       NaN   \n",
       "\n",
       "   506172747932  \n",
       "0           1.0  \n",
       "1           NaN  "
      ]
     },
     "execution_count": 455,
     "metadata": {},
     "output_type": "execute_result"
    }
   ],
   "source": [
    "# drop all columns with all values NA\n",
    "df = df.dropna(axis=1, how='all')\n",
    "df"
   ]
  },
  {
   "cell_type": "code",
   "execution_count": 456,
   "id": "1359be7b-07ca-429d-83ca-5b9cfeb9c00b",
   "metadata": {},
   "outputs": [],
   "source": [
    "# cn = df[df.columns[~df.columns.isin(['address', 'TxHash', 'TxIx', 'lovelace', 'TokenPolicyId'])]].iloc[:, -1].name\n",
    "# # make a copy \n",
    "# df['TokenAssetNameHex'] = df[cn]\n",
    "# # write the column name only on True location\n",
    "# df['TokenAssetNameHex'] = df['TokenAssetNameHex'].notna().replace({True: cn, False: np.nan})"
   ]
  },
  {
   "cell_type": "code",
   "execution_count": 457,
   "id": "67071a1b-0512-4d56-b409-a9b4fcdf87b5",
   "metadata": {},
   "outputs": [
    {
     "data": {
      "text/html": [
       "<div>\n",
       "<style scoped>\n",
       "    .dataframe tbody tr th:only-of-type {\n",
       "        vertical-align: middle;\n",
       "    }\n",
       "\n",
       "    .dataframe tbody tr th {\n",
       "        vertical-align: top;\n",
       "    }\n",
       "\n",
       "    .dataframe thead th {\n",
       "        text-align: right;\n",
       "    }\n",
       "</style>\n",
       "<table border=\"1\" class=\"dataframe\">\n",
       "  <thead>\n",
       "    <tr style=\"text-align: right;\">\n",
       "      <th></th>\n",
       "      <th>506172747932</th>\n",
       "    </tr>\n",
       "  </thead>\n",
       "  <tbody>\n",
       "    <tr>\n",
       "      <th>0</th>\n",
       "      <td>1.0</td>\n",
       "    </tr>\n",
       "    <tr>\n",
       "      <th>1</th>\n",
       "      <td>NaN</td>\n",
       "    </tr>\n",
       "  </tbody>\n",
       "</table>\n",
       "</div>"
      ],
      "text/plain": [
       "   506172747932\n",
       "0           1.0\n",
       "1           NaN"
      ]
     },
     "execution_count": 457,
     "metadata": {},
     "output_type": "execute_result"
    }
   ],
   "source": [
    "two = df[df.columns[~df.columns.isin(['address', 'TxHash', 'TxIx', 'lovelace', 'TokenPolicyId'])]]\n",
    "two"
   ]
  },
  {
   "cell_type": "code",
   "execution_count": 458,
   "id": "54493277-94e1-4a7e-ad82-d04adb1034f3",
   "metadata": {},
   "outputs": [
    {
     "data": {
      "text/html": [
       "<div>\n",
       "<style scoped>\n",
       "    .dataframe tbody tr th:only-of-type {\n",
       "        vertical-align: middle;\n",
       "    }\n",
       "\n",
       "    .dataframe tbody tr th {\n",
       "        vertical-align: top;\n",
       "    }\n",
       "\n",
       "    .dataframe thead th {\n",
       "        text-align: right;\n",
       "    }\n",
       "</style>\n",
       "<table border=\"1\" class=\"dataframe\">\n",
       "  <thead>\n",
       "    <tr style=\"text-align: right;\">\n",
       "      <th></th>\n",
       "      <th>level_0</th>\n",
       "      <th>level_1</th>\n",
       "      <th>0</th>\n",
       "    </tr>\n",
       "  </thead>\n",
       "  <tbody>\n",
       "    <tr>\n",
       "      <th>0</th>\n",
       "      <td>0</td>\n",
       "      <td>506172747932</td>\n",
       "      <td>1.0</td>\n",
       "    </tr>\n",
       "  </tbody>\n",
       "</table>\n",
       "</div>"
      ],
      "text/plain": [
       "   level_0       level_1    0\n",
       "0        0  506172747932  1.0"
      ]
     },
     "execution_count": 458,
     "metadata": {},
     "output_type": "execute_result"
    }
   ],
   "source": [
    "tmp = two.stack().apply(pd.Series).reset_index()\n",
    "tmp"
   ]
  },
  {
   "cell_type": "code",
   "execution_count": 459,
   "id": "f22c04ed-fd07-4fa5-b64f-fdc5495ea838",
   "metadata": {},
   "outputs": [
    {
     "data": {
      "text/html": [
       "<div>\n",
       "<style scoped>\n",
       "    .dataframe tbody tr th:only-of-type {\n",
       "        vertical-align: middle;\n",
       "    }\n",
       "\n",
       "    .dataframe tbody tr th {\n",
       "        vertical-align: top;\n",
       "    }\n",
       "\n",
       "    .dataframe thead th {\n",
       "        text-align: right;\n",
       "    }\n",
       "</style>\n",
       "<table border=\"1\" class=\"dataframe\">\n",
       "  <thead>\n",
       "    <tr style=\"text-align: right;\">\n",
       "      <th></th>\n",
       "      <th>level_1</th>\n",
       "      <th>0</th>\n",
       "    </tr>\n",
       "    <tr>\n",
       "      <th>level_0</th>\n",
       "      <th></th>\n",
       "      <th></th>\n",
       "    </tr>\n",
       "  </thead>\n",
       "  <tbody>\n",
       "    <tr>\n",
       "      <th>0</th>\n",
       "      <td>506172747932</td>\n",
       "      <td>1.0</td>\n",
       "    </tr>\n",
       "  </tbody>\n",
       "</table>\n",
       "</div>"
      ],
      "text/plain": [
       "              level_1    0\n",
       "level_0                   \n",
       "0        506172747932  1.0"
      ]
     },
     "execution_count": 459,
     "metadata": {},
     "output_type": "execute_result"
    }
   ],
   "source": [
    "tmp = tmp.set_index('level_0')\n",
    "tmp"
   ]
  },
  {
   "cell_type": "code",
   "execution_count": 460,
   "id": "e1cffce6-b713-4b4d-9219-828d1c16d72a",
   "metadata": {},
   "outputs": [
    {
     "data": {
      "text/html": [
       "<div>\n",
       "<style scoped>\n",
       "    .dataframe tbody tr th:only-of-type {\n",
       "        vertical-align: middle;\n",
       "    }\n",
       "\n",
       "    .dataframe tbody tr th {\n",
       "        vertical-align: top;\n",
       "    }\n",
       "\n",
       "    .dataframe thead th {\n",
       "        text-align: right;\n",
       "    }\n",
       "</style>\n",
       "<table border=\"1\" class=\"dataframe\">\n",
       "  <thead>\n",
       "    <tr style=\"text-align: right;\">\n",
       "      <th></th>\n",
       "      <th>TokenAssetNameHex</th>\n",
       "      <th>TokenAmount</th>\n",
       "    </tr>\n",
       "    <tr>\n",
       "      <th>level_0</th>\n",
       "      <th></th>\n",
       "      <th></th>\n",
       "    </tr>\n",
       "  </thead>\n",
       "  <tbody>\n",
       "    <tr>\n",
       "      <th>0</th>\n",
       "      <td>506172747932</td>\n",
       "      <td>1.0</td>\n",
       "    </tr>\n",
       "  </tbody>\n",
       "</table>\n",
       "</div>"
      ],
      "text/plain": [
       "        TokenAssetNameHex  TokenAmount\n",
       "level_0                               \n",
       "0            506172747932          1.0"
      ]
     },
     "execution_count": 460,
     "metadata": {},
     "output_type": "execute_result"
    }
   ],
   "source": [
    "tmp.columns = ['TokenAssetNameHex', 'TokenAmount']\n",
    "tmp"
   ]
  },
  {
   "cell_type": "code",
   "execution_count": 461,
   "id": "a365dcf8-82be-4ae8-a8b7-f42f46f5b53c",
   "metadata": {},
   "outputs": [
    {
     "data": {
      "text/html": [
       "<div>\n",
       "<style scoped>\n",
       "    .dataframe tbody tr th:only-of-type {\n",
       "        vertical-align: middle;\n",
       "    }\n",
       "\n",
       "    .dataframe tbody tr th {\n",
       "        vertical-align: top;\n",
       "    }\n",
       "\n",
       "    .dataframe thead th {\n",
       "        text-align: right;\n",
       "    }\n",
       "</style>\n",
       "<table border=\"1\" class=\"dataframe\">\n",
       "  <thead>\n",
       "    <tr style=\"text-align: right;\">\n",
       "      <th></th>\n",
       "      <th>address</th>\n",
       "      <th>TxHash</th>\n",
       "      <th>TxIx</th>\n",
       "      <th>lovelace</th>\n",
       "      <th>TokenPolicyId</th>\n",
       "      <th>506172747932</th>\n",
       "      <th>TokenAssetNameHex</th>\n",
       "      <th>TokenAmount</th>\n",
       "    </tr>\n",
       "  </thead>\n",
       "  <tbody>\n",
       "    <tr>\n",
       "      <th>0</th>\n",
       "      <td>addr_test1vzn7ef2cx8h5y4jvxnn34pn3lzak5t537fx09j7zxdljs3gc5zgw6</td>\n",
       "      <td>4c7f8ff0c3da6143147f2da4a3fccd30dee8dc4b71c0a74ee272557a1ec2ea17</td>\n",
       "      <td>2</td>\n",
       "      <td>3000000</td>\n",
       "      <td>6f4f37e5c163a2f77935f395434c49bc4de8d1894a3bd80ac239a508</td>\n",
       "      <td>1.0</td>\n",
       "      <td>506172747932</td>\n",
       "      <td>1.0</td>\n",
       "    </tr>\n",
       "    <tr>\n",
       "      <th>1</th>\n",
       "      <td>addr_test1vzn7ef2cx8h5y4jvxnn34pn3lzak5t537fx09j7zxdljs3gc5zgw6</td>\n",
       "      <td>ed62a729c96269053eef4aa5e4fabf9f6f85b7bb56f49481142ffcbe5f72aa33</td>\n",
       "      <td>3</td>\n",
       "      <td>500000000</td>\n",
       "      <td>NaN</td>\n",
       "      <td>NaN</td>\n",
       "      <td>NaN</td>\n",
       "      <td>NaN</td>\n",
       "    </tr>\n",
       "  </tbody>\n",
       "</table>\n",
       "</div>"
      ],
      "text/plain": [
       "                                                           address  \\\n",
       "0  addr_test1vzn7ef2cx8h5y4jvxnn34pn3lzak5t537fx09j7zxdljs3gc5zgw6   \n",
       "1  addr_test1vzn7ef2cx8h5y4jvxnn34pn3lzak5t537fx09j7zxdljs3gc5zgw6   \n",
       "\n",
       "                                                             TxHash  TxIx  \\\n",
       "0  4c7f8ff0c3da6143147f2da4a3fccd30dee8dc4b71c0a74ee272557a1ec2ea17     2   \n",
       "1  ed62a729c96269053eef4aa5e4fabf9f6f85b7bb56f49481142ffcbe5f72aa33     3   \n",
       "\n",
       "    lovelace                                             TokenPolicyId  \\\n",
       "0    3000000  6f4f37e5c163a2f77935f395434c49bc4de8d1894a3bd80ac239a508   \n",
       "1  500000000                                                       NaN   \n",
       "\n",
       "   506172747932 TokenAssetNameHex  TokenAmount  \n",
       "0           1.0      506172747932          1.0  \n",
       "1           NaN               NaN          NaN  "
      ]
     },
     "execution_count": 461,
     "metadata": {},
     "output_type": "execute_result"
    }
   ],
   "source": [
    "df = pd.concat([df, tmp], axis=1)\n",
    "df"
   ]
  },
  {
   "cell_type": "code",
   "execution_count": 462,
   "id": "bd8c5616-2cba-4046-b0be-5783f8e80be0",
   "metadata": {},
   "outputs": [],
   "source": [
    "# df['TokenAmount'] = df['TokenAmount'].astype('int')\n",
    "# df"
   ]
  },
  {
   "cell_type": "code",
   "execution_count": 463,
   "id": "81e000e5-de76-4afd-90c6-5e4a4237410a",
   "metadata": {},
   "outputs": [
    {
     "data": {
      "text/html": [
       "<div>\n",
       "<style scoped>\n",
       "    .dataframe tbody tr th:only-of-type {\n",
       "        vertical-align: middle;\n",
       "    }\n",
       "\n",
       "    .dataframe tbody tr th {\n",
       "        vertical-align: top;\n",
       "    }\n",
       "\n",
       "    .dataframe thead th {\n",
       "        text-align: right;\n",
       "    }\n",
       "</style>\n",
       "<table border=\"1\" class=\"dataframe\">\n",
       "  <thead>\n",
       "    <tr style=\"text-align: right;\">\n",
       "      <th></th>\n",
       "      <th>address</th>\n",
       "      <th>TxHash</th>\n",
       "      <th>TxIx</th>\n",
       "      <th>lovelace</th>\n",
       "      <th>TokenPolicyId</th>\n",
       "      <th>TokenAssetNameHex</th>\n",
       "      <th>TokenAmount</th>\n",
       "    </tr>\n",
       "  </thead>\n",
       "  <tbody>\n",
       "    <tr>\n",
       "      <th>0</th>\n",
       "      <td>addr_test1vzn7ef2cx8h5y4jvxnn34pn3lzak5t537fx09j7zxdljs3gc5zgw6</td>\n",
       "      <td>4c7f8ff0c3da6143147f2da4a3fccd30dee8dc4b71c0a74ee272557a1ec2ea17</td>\n",
       "      <td>2</td>\n",
       "      <td>3000000</td>\n",
       "      <td>6f4f37e5c163a2f77935f395434c49bc4de8d1894a3bd80ac239a508</td>\n",
       "      <td>506172747932</td>\n",
       "      <td>1.0</td>\n",
       "    </tr>\n",
       "    <tr>\n",
       "      <th>1</th>\n",
       "      <td>addr_test1vzn7ef2cx8h5y4jvxnn34pn3lzak5t537fx09j7zxdljs3gc5zgw6</td>\n",
       "      <td>ed62a729c96269053eef4aa5e4fabf9f6f85b7bb56f49481142ffcbe5f72aa33</td>\n",
       "      <td>3</td>\n",
       "      <td>500000000</td>\n",
       "      <td>NaN</td>\n",
       "      <td>NaN</td>\n",
       "      <td>NaN</td>\n",
       "    </tr>\n",
       "  </tbody>\n",
       "</table>\n",
       "</div>"
      ],
      "text/plain": [
       "                                                           address  \\\n",
       "0  addr_test1vzn7ef2cx8h5y4jvxnn34pn3lzak5t537fx09j7zxdljs3gc5zgw6   \n",
       "1  addr_test1vzn7ef2cx8h5y4jvxnn34pn3lzak5t537fx09j7zxdljs3gc5zgw6   \n",
       "\n",
       "                                                             TxHash  TxIx  \\\n",
       "0  4c7f8ff0c3da6143147f2da4a3fccd30dee8dc4b71c0a74ee272557a1ec2ea17     2   \n",
       "1  ed62a729c96269053eef4aa5e4fabf9f6f85b7bb56f49481142ffcbe5f72aa33     3   \n",
       "\n",
       "    lovelace                                             TokenPolicyId  \\\n",
       "0    3000000  6f4f37e5c163a2f77935f395434c49bc4de8d1894a3bd80ac239a508   \n",
       "1  500000000                                                       NaN   \n",
       "\n",
       "  TokenAssetNameHex  TokenAmount  \n",
       "0      506172747932          1.0  \n",
       "1               NaN          NaN  "
      ]
     },
     "execution_count": 463,
     "metadata": {},
     "output_type": "execute_result"
    }
   ],
   "source": [
    "df = df.drop(tmp['TokenAssetNameHex'], axis=1)\n",
    "df"
   ]
  },
  {
   "cell_type": "code",
   "execution_count": null,
   "id": "aff8a904-4d5d-40d4-b521-03af49a6a0b8",
   "metadata": {},
   "outputs": [],
   "source": []
  },
  {
   "cell_type": "code",
   "execution_count": null,
   "id": "e4b59162-7b43-4d9b-8ade-062438e7a27a",
   "metadata": {},
   "outputs": [],
   "source": []
  },
  {
   "cell_type": "code",
   "execution_count": null,
   "id": "150e9f60-ba19-40ae-8d35-a7481f91aba0",
   "metadata": {},
   "outputs": [],
   "source": []
  },
  {
   "cell_type": "code",
   "execution_count": null,
   "id": "a6afdcd9-c6f7-4b20-a321-8b109e88d052",
   "metadata": {},
   "outputs": [],
   "source": []
  },
  {
   "cell_type": "code",
   "execution_count": null,
   "id": "aecaba89-cd24-4b97-8d39-a7224d7decc3",
   "metadata": {},
   "outputs": [],
   "source": [
    "# df[df.columns[~df.columns.isin(['address', 'TxHash', 'TxIx', 'lovelace', 'TokenPolicyId'])]].stack()\n",
    "# # make a copy \n",
    "# df['TokenAssetNameHex'] = df[cn]\n",
    "# # write the column name only on True location\n",
    "# df['TokenAssetNameHex'] = df['TokenAssetNameHex'].notna().replace({True: cn, False: np.nan})"
   ]
  },
  {
   "cell_type": "code",
   "execution_count": 85,
   "id": "923f4cf1-ec4a-4eef-bbc7-1f9a90f6acc2",
   "metadata": {},
   "outputs": [
    {
     "data": {
      "text/html": [
       "<div>\n",
       "<style scoped>\n",
       "    .dataframe tbody tr th:only-of-type {\n",
       "        vertical-align: middle;\n",
       "    }\n",
       "\n",
       "    .dataframe tbody tr th {\n",
       "        vertical-align: top;\n",
       "    }\n",
       "\n",
       "    .dataframe thead th {\n",
       "        text-align: right;\n",
       "    }\n",
       "</style>\n",
       "<table border=\"1\" class=\"dataframe\">\n",
       "  <thead>\n",
       "    <tr style=\"text-align: right;\">\n",
       "      <th></th>\n",
       "      <th>address</th>\n",
       "      <th>TxHash</th>\n",
       "      <th>TxIx</th>\n",
       "      <th>lovelace</th>\n",
       "      <th>TokenPolicyId</th>\n",
       "      <th>506172747932</th>\n",
       "      <th>506172747931</th>\n",
       "      <th>TokenAssetNameHex</th>\n",
       "    </tr>\n",
       "  </thead>\n",
       "  <tbody>\n",
       "    <tr>\n",
       "      <th>0</th>\n",
       "      <td>addr_test1vpha99j2s5slc5q26d884rhc3jzuxqex5javsak5enlg8wsel4z2t</td>\n",
       "      <td>e595b9fc55e0df7f8e0b8522628b8150e37cf249b4265e651e089cbf150ef3ea</td>\n",
       "      <td>0</td>\n",
       "      <td>479823763</td>\n",
       "      <td>NaN</td>\n",
       "      <td>NaN</td>\n",
       "      <td>NaN</td>\n",
       "      <td>NaN</td>\n",
       "    </tr>\n",
       "    <tr>\n",
       "      <th>1</th>\n",
       "      <td>addr_test1vpha99j2s5slc5q26d884rhc3jzuxqex5javsak5enlg8wsel4z2t</td>\n",
       "      <td>e595b9fc55e0df7f8e0b8522628b8150e37cf249b4265e651e089cbf150ef3ea</td>\n",
       "      <td>2</td>\n",
       "      <td>10000000</td>\n",
       "      <td>6f4f37e5c163a2f77935f395434c49bc4de8d1894a3bd80ac239a508</td>\n",
       "      <td>1.0</td>\n",
       "      <td>NaN</td>\n",
       "      <td>NaN</td>\n",
       "    </tr>\n",
       "    <tr>\n",
       "      <th>2</th>\n",
       "      <td>addr_test1vpha99j2s5slc5q26d884rhc3jzuxqex5javsak5enlg8wsel4z2t</td>\n",
       "      <td>e595b9fc55e0df7f8e0b8522628b8150e37cf249b4265e651e089cbf150ef3ea</td>\n",
       "      <td>1</td>\n",
       "      <td>10000000</td>\n",
       "      <td>6f4f37e5c163a2f77935f395434c49bc4de8d1894a3bd80ac239a508</td>\n",
       "      <td>NaN</td>\n",
       "      <td>1.0</td>\n",
       "      <td>506172747931</td>\n",
       "    </tr>\n",
       "  </tbody>\n",
       "</table>\n",
       "</div>"
      ],
      "text/plain": [
       "                                                           address  \\\n",
       "0  addr_test1vpha99j2s5slc5q26d884rhc3jzuxqex5javsak5enlg8wsel4z2t   \n",
       "1  addr_test1vpha99j2s5slc5q26d884rhc3jzuxqex5javsak5enlg8wsel4z2t   \n",
       "2  addr_test1vpha99j2s5slc5q26d884rhc3jzuxqex5javsak5enlg8wsel4z2t   \n",
       "\n",
       "                                                             TxHash  TxIx  \\\n",
       "0  e595b9fc55e0df7f8e0b8522628b8150e37cf249b4265e651e089cbf150ef3ea     0   \n",
       "1  e595b9fc55e0df7f8e0b8522628b8150e37cf249b4265e651e089cbf150ef3ea     2   \n",
       "2  e595b9fc55e0df7f8e0b8522628b8150e37cf249b4265e651e089cbf150ef3ea     1   \n",
       "\n",
       "    lovelace                                             TokenPolicyId  \\\n",
       "0  479823763                                                       NaN   \n",
       "1   10000000  6f4f37e5c163a2f77935f395434c49bc4de8d1894a3bd80ac239a508   \n",
       "2   10000000  6f4f37e5c163a2f77935f395434c49bc4de8d1894a3bd80ac239a508   \n",
       "\n",
       "   506172747932  506172747931 TokenAssetNameHex  \n",
       "0           NaN           NaN               NaN  \n",
       "1           1.0           NaN               NaN  \n",
       "2           NaN           1.0      506172747931  "
      ]
     },
     "execution_count": 85,
     "metadata": {},
     "output_type": "execute_result"
    }
   ],
   "source": [
    "# df"
   ]
  },
  {
   "cell_type": "code",
   "execution_count": null,
   "id": "92b3f0e2-63cb-405e-8bdf-77f52dff75d3",
   "metadata": {},
   "outputs": [],
   "source": [
    "# df = df.rename(columns={cn: 'TokenAmount'})\n",
    "# df"
   ]
  },
  {
   "cell_type": "code",
   "execution_count": null,
   "id": "0df63824-bd7a-438a-9930-5f7a65f9cc82",
   "metadata": {},
   "outputs": [],
   "source": []
  },
  {
   "cell_type": "code",
   "execution_count": null,
   "id": "691bbdd0-1687-438d-9772-38b5afa1dac9",
   "metadata": {},
   "outputs": [],
   "source": []
  },
  {
   "cell_type": "code",
   "execution_count": null,
   "id": "05fd4b10-a1a3-400c-a16e-45d6c77882a8",
   "metadata": {},
   "outputs": [],
   "source": []
  },
  {
   "cell_type": "code",
   "execution_count": null,
   "id": "b9479d3e-5f4c-446a-b03b-f14131b2f548",
   "metadata": {},
   "outputs": [],
   "source": []
  },
  {
   "cell_type": "code",
   "execution_count": null,
   "id": "3b628cd4-8dd5-469d-a89f-1c4fb38a88f1",
   "metadata": {},
   "outputs": [],
   "source": []
  },
  {
   "cell_type": "code",
   "execution_count": null,
   "id": "e88e88ed-84aa-46a8-a058-58b3dcd062ed",
   "metadata": {},
   "outputs": [],
   "source": [
    "clean up and send your remaining Preview TestADA back to the faucet address for other people to use\n",
    "add code for this below..."
   ]
  },
  {
   "cell_type": "code",
   "execution_count": null,
   "id": "8ac6b10f-d798-4819-b095-289fc3564ad5",
   "metadata": {},
   "outputs": [],
   "source": []
  },
  {
   "cell_type": "code",
   "execution_count": null,
   "id": "1adfdab5-bf39-4842-a9c0-fe69da1dd9d4",
   "metadata": {},
   "outputs": [],
   "source": [
    "https://developers.cardano.org/docs/get-started/running-cardano/\n",
    "\n",
    "cardano-node run \\\n",
    "   --topology topology.json \\\n",
    "   --database-path ~/cardano/db/ \\\n",
    "   --socket-path /tmp/node.socket \\\n",
    "   --host-addr 0.0.0.0 \\\n",
    "   --config config.json\n",
    "\n",
    "export PATH=$PATH:~/cardano\n",
    "export CARDANO_NODE_SOCKET_PATH=\"/tmp/node.socket\"\n",
    "\n",
    "<wait a bit, if below fails>\n",
    "cardano-cli query tip --testnet-magic 2\n",
    "\n",
    "cardano-wallet serve \\\n",
    "   --listen-address 0.0.0.0 \\\n",
    "   --port 8090 \\\n",
    "   --node-socket /tmp/node.socket \\\n",
    "   --testnet byron-genesis.json \\\n",
    "   --database ~/cardano/wallet-db \\\n",
    "   --token-metadata-server https://metadata.cardano-testnet.iohkdev.io\n",
    "   \n",
    "   \n",
    "curl http://localhost:8090/v2/network/information\n",
    "curl http://20.123.241.153:8090/v2/network/information\n",
    "http://20.123.241.153:8090/v2/network/information\n",
    "\n",
    "get testADA: https://docs.cardano.org/cardano-testnet/tools/faucet"
   ]
  },
  {
   "cell_type": "markdown",
   "id": "9c78da06",
   "metadata": {},
   "source": [
    "Run a Docker container with cardano-node and cardano-wallet services:  \n",
    "\n",
    "```sh\n",
    "cd ~/cardano\n",
    "wget https://github.com/input-output-hk/cardano-wallet/raw/master/docker-compose.yml\n",
    "\n",
    "# download, install and run the cardano-wallet backend node using docker (autorestart enabled)\n",
    "NETWORK=preprod docker-compose up -d\n",
    "\n",
    "# init sync blockchain, CPU intensive, +7GB mem, +30GB, wait some hours, sync_progress\n",
    "curl http://localhost:8090/v2/network/information\n",
    "curl http://20.86.118.190:8090/v2/network/information # (optional: open port 8090)\n",
    "\n",
    "# if you want to stop all cardano backend services (preserve data)\n",
    "NETWORK=preprod docker-compose down\n",
    "```"
   ]
  },
  {
   "cell_type": "code",
   "execution_count": null,
   "id": "c0b8a5a4-73d8-4600-9770-be3f2291f63b",
   "metadata": {},
   "outputs": [],
   "source": []
  }
 ],
 "metadata": {
  "kernelspec": {
   "display_name": "py39_cardano",
   "language": "python",
   "name": "conda-env-py39_cardano-py"
  },
  "language_info": {
   "codemirror_mode": {
    "name": "ipython",
    "version": 3
   },
   "file_extension": ".py",
   "mimetype": "text/x-python",
   "name": "python",
   "nbconvert_exporter": "python",
   "pygments_lexer": "ipython3",
   "version": "3.9.12"
  }
 },
 "nbformat": 4,
 "nbformat_minor": 5
}
