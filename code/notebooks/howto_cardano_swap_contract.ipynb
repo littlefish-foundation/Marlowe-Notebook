{
 "cells": [
  {
   "cell_type": "markdown",
   "id": "571d5216",
   "metadata": {},
   "source": [
    "**Author:** [Kevin ALBERT](https://github.com/albert-kevin)  \n",
    "**Created:** Started June 2022  \n",
    "  \n",
    "**Discord Channel:** [IOG's Technical Community](https://discord.gg/QWqJF9cMzV)  \n",
    "  \n",
    "**Discord - Plutus Pioneers 3rd Cohort classmate:** [Marco Martins - [HYPE] Pool](https://github.com/marco-martins) & [gists](https://gist.github.com/marco-martins)  \n",
    "**Discord - marlowe-cli and technical questions:** [Brian W Bush - IOG](https://github.com/bwbush)  \n",
    "**Discord - keys, wallets, cardano-cli:** [George - [APEX] Pool](https://github.com/cardano-apexpool) & [gists](https://gist.github.com/cardano-apexpool)  \n",
    "**Discord - Marlowe typescript SDK and technical questions:** [Tomasz Rybarczyk - IOG](https://github.com/paluh)  \n",
    "**Discord - Marlowe typescript SDK:** [Nick Stanford - IOG](https://github.com/nstanford5)  \n",
    "  \n",
    "**AI Assistant:** [ChatGPT - OpenAI v4](https://openai.com/)  \n",
    "**Visualisations:** [Miro designs](https://miro.com/app/board/uXjVP3tf9_E=/?moveToWidget=3458764542137977013&cot=14) and [Replicate](https://replicate.com/ai-forever/kandinsky-2.2)  "
   ]
  },
  {
   "cell_type": "code",
   "execution_count": 1,
   "id": "329749d6",
   "metadata": {},
   "outputs": [
    {
     "name": "stdout",
     "output_type": "stream",
     "text": [
      "Last run: 09 Apr 2024 (16:58 CET)\n"
     ]
    }
   ],
   "source": [
    "import datetime, time\n",
    "print ('Last run: ' + datetime.datetime.now().strftime(\"%d %b %Y (%H:%M CET)\"))"
   ]
  },
  {
   "cell_type": "markdown",
   "id": "352e5d9a-ed46-41de-b487-2cd67a8cb77f",
   "metadata": {
    "tags": []
   },
   "source": [
    "# Smart Contract \n",
    "_**how to deploy a custom financial contract**_\n",
    "\n",
    "## Contents\n",
    "1. [Objective](#Objective)\n",
    "   - [tools](#tools)\n",
    "   - [network](#network)\n",
    "   - [contract templates](#contract-templates)\n",
    "1. [Installation](#Installation)\n",
    "   - [python](#python)\n",
    "   - [versions](#versions)\n",
    "   - [modules](#modules)\n",
    "   - [server](#server)\n",
    "   - [software](#software)\n",
    "   - [cardano tools](#cardano-tools)\n",
    "   - [setup environment](#setup-environment)\n",
    "   - [helper function](#helper-function)\n",
    "   - [start services](#start-services)\n",
    "   - [socket](#socket)\n",
    "1. [Roadmap](#Roadmap)\n",
    "1. [Wallet](#Wallet)\n",
    "   - [generating keys](#generating-keys)\n",
    "   - [generating address](#generating-address)\n",
    "1. [Contract](#Contract)\n",
    "   - [code javascript](#code-javascript)\n",
    "   - [code marlowe](#code-marlowe)\n",
    "   - [code blockly](#code-blockly)\n",
    "1. [Funding](#Funding)\n",
    "   - [funds wallet](#funds-wallet)\n",
    "   - [create wallet 1-2](#create-wallet-1-2)\n",
    "   - [transfer funds](#transfer-funds)\n",
    "1. [Parameters](#Parameters)\n",
    "   - [time](#time)\n",
    "1. [Tokens](#Tokens)\n",
    "   - [token metadata](#token-metadata)\n",
    "   - [token minting](#token-minting)\n",
    "1. [Transactions](#Transactions)\n",
    "   - [modify contract parameters](#modify-contract-parameters)\n",
    "   - [tx#1 start contract](#transaction-#1-start-contract-(3-ADA))\n",
    "   - [tx#2 first deposit](#transaction-#2-first-deposit-(200-ADA))\n",
    "   - [tx#3 second deposit](#transaction-#3-second-deposit-(100-ADA))\n",
    "   - [tx#4-5 end contract](#transaction-#4-and-#5-contract-ended-(withdraw))\n",
    "1. [Deployment](#Deployment)\n",
    "1. [Cleanup](#Cleanup)\n"
   ]
  },
  {
   "cell_type": "markdown",
   "id": "163889c0-3bff-4e8c-b4c1-3bb585177a2e",
   "metadata": {
    "tags": []
   },
   "source": [
    "## Objective\n",
    "\n",
    "The objective of this reference guide is to share and demonstrate what was learned  \n",
    "during the Marlowe Pioneer Program (Summer 2022) on how to run custom financial smart contracts  \n",
    "on the blockchain using <b class=\"ttooltip\">Marlowe<span class=\"tooltiptext\">a domain-specific language (DSL) built on Plutus that is used to write smart contracts for financial applications. It aims to make it easy for non-technical users to write smart contracts for financial applications such as crowdfunding, escrow, and lending.</span></b>. This guide will show how to use Python and other modules  \n",
    "in conjunction with Cardano script command tools to implement smart contracts on the blockchain.\n",
    "\n",
    "### tools\n",
    "\n",
    "This notebook will use all these commands:\n",
    "    \n",
    "    cardano-node run                               Run the node\n",
    "    \n",
    "    cardano-wallet serve                           Serve API that listens for commands/actions\n",
    "    cardano-wallet recovery-phrase generate        Generate an English recovery phrase\n",
    "    cardano-wallet key from-recovery-phrase        Convert a recovery phrase to an extended private key\n",
    "    \n",
    "    cardano-cli key convert-cardano-address-key    Convert a cardano-address extended signing key to a Shelley-format key\n",
    "    cardano-cli key verification-key               Get a verification key from a signing key, supports all key types\n",
    "    cardano-cli address build                      Build a Shelley payment address, optional delegation to a stake address\n",
    "    cardano-cli query tip                          Get the node's current tip (slot no, hash, block no)\n",
    "    cardano-cli query utxo                         Get a portion of the current UTxO: by tx in, by address or the whole\n",
    "    \n",
    "    marlowe-cli template swap                      Create a swap contract\n",
    "    marlowe-cli util slotting                      Find the slot-to-time relationship for the current epoch\n",
    "    marlowe-cli util mint                          Mint native tokens\n",
    "    marlowe-cli util clean                         Reorganize the UTxOs at an address, separating tokens\n",
    "    marlowe-cli transaction simple                 Build a non-Marlowe transaction\n",
    "    marlowe-cli run initialize                     Init first transaction of Marlowe contract and write a JSON file\n",
    "    marlowe-cli run execute                        Run a Marlowe transaction\n",
    "    marlowe-cli run auto-execute                   Run a Marlowe transaction, selecting tx inputs and outputs automatically\n",
    "    marlowe-cli run prepare                        Prep next step of a Marlowe contract and write a JSON file\n",
    "    marlowe-cli run withdraw                       Withdraw funds from the Marlowe role address\n",
    "    marlowe-cli util fund-address                  fund addresses from a source wallet\n",
    "    marlowe-cli run analyze                        analyze a generated Marlowe contract\n",
    "\n",
    "### network\n",
    "Due to the Marlowe-pioneer blockchain testnet being offline since December 2022 (NetworkMagic: 1567),  \n",
    "we will be using a different testnet for our purposes.  \n",
    "\n",
    "For information on the available Cardano blockchain network environments,  \n",
    "please visit the following resources:\n",
    "* **[developers.cardano.org](https://developers.cardano.org/docs/get-started/running-cardano/#cardano-blockchain--nets)**\n",
    "* **[book.world.dev.cardano.org](https://book.world.dev.cardano.org/environments.html)** (find usage, epoch length and cardano-node compatible version)\n",
    "* **[github.com environments](https://github.com/input-output-hk/cardano-world/tree/master/docs/environments)** (find protocolMagic in \"byron-genesis.json\")\n",
    "\n",
    "Here are some Networks available:  \n",
    "* **testnet**\n",
    "  * <span style=\"color: green;\">preprod</span> (NetworkMagic: 1)\n",
    "  * <span style=\"color: green;\">**preview**</span> (NetworkMagic: **2**)\n",
    "  * <span style=\"color: green;\">sanchonet</span> (NetworkMagic: 4)\n",
    "* **production**\n",
    "  * <span style=\"color: green;\">mainnet</span> (NetworkMagic: 764824073)\n",
    "* **development** (throw-away)\n",
    "  * <span style=\"color: red;\"><s>pv8</s></span> (NetworkMagic: 6)\n",
    "  * <span style=\"color: red;\"><s>vasil-dev</s></span> (NetworkMagic: 9)\n",
    "* **legacy** (internal-only)\n",
    "  * <span style=\"color: red;\"><s>shelley-qa</s></span> (NetworkMagic: 3)\n",
    "  * <span style=\"color: red;\"><s>staging</s></span> (NetworkMagic: 633343913)\n",
    "  * <span style=\"color: red;\"><s>testnet</s></span> (NetworkMagic: 1097911063)\n",
    "\n",
    "In this notebook, we will be using the <b class=\"ttooltip\">PREVIEW<span class=\"tooltiptext\">A preview testnet is a testing version of the blockchain for experimenting and debugging before going live on mainnet. It has a 1-day epoch, leads mainnet hard forks by at least 4 weeks and it is intended for developers and users to test without risk before live deployment.</span></b> Cardano blockchain network with MAGIC **2**.\n",
    "\n",
    "### contract templates\n",
    "In the near future, anticipate projects that will enrich the ecosystem with thoroughly audited, widely adopted contract frameworks.  \n",
    "These will feature mechanisms for evaluating creator reputation and contract trustworthiness,  \n",
    "fostering a community-driven marketplace for sharing and reusing financial code.  \n",
    "Imagine contributing to this evolving landscape. However, in this notebook,  \n",
    "we focus on the practical application of current templates, particularly on deploying a simple contract.  \n",
    "  * **[Actus](https://github.com/input-output-hk/marlowe-cardano/tree/main/marlowe-cli/examples/actus)** - A zero-coupon bond contract where one party borrows and the other party pays back with interest\n",
    "  * **[CFD](https://github.com/input-output-hk/marlowe-cardano/tree/main/marlowe-cli/examples/cfd)** - A contract for differences where two parties settle for price differences\n",
    "  * **[Covered Call](https://github.com/input-output-hk/marlowe-cardano/tree/main/marlowe-cli/examples/coveredCall)** - A contract that transfers a token if the counter-party exercises the option\n",
    "  * **[Escrow](https://github.com/input-output-hk/marlowe-cardano/tree/main/marlowe-cli/examples/escrow)** - A contract that facilitates the purchase of an item at a price agreed upon by the buyer and seller with a mediator\n",
    "  * **[Simple](https://github.com/input-output-hk/marlowe-cardano/tree/main/marlowe-cli/examples/simple)** - A contract that takes a deposit, waits for a notification, and makes a payment\n",
    "  * **[Swap](https://github.com/input-output-hk/marlowe-cardano/tree/main/marlowe-cli/examples/swap)** - A contract that allows two parties to exchange native tokens\n",
    "  \n",
    "With our focus on a **swap** contract, we'll demonstrate the process of deploying a foundational financial contract on the Cardano blockchain,  \n",
    "paving the way for you to understand future innovations.  \n",
    "  \n",
    "A swap contract on the Cardano blockchain allows users to exchange one cryptocurrency for another  \n",
    "without the need for a centralized exchange. The contract automatically executes the trade  \n",
    "when both parties have fulfilled their end of the agreement.  "
   ]
  },
  {
   "cell_type": "markdown",
   "id": "b9891cff-2471-4e1d-a260-43a3779ed85d",
   "metadata": {},
   "source": [
    "## Installation"
   ]
  },
  {
   "cell_type": "markdown",
   "id": "64e15f50",
   "metadata": {},
   "source": [
    "### python\n",
    "\n",
    "Create and activate a new conda environment: \n",
    "```sh\n",
    "/anaconda/bin/conda create -y --name py39_cardano python=3.9\n",
    "/anaconda/bin/conda activate py39_cardano\n",
    "```\n",
    "\n",
    "Install additional packages:\n",
    "```sh\n",
    "pip install -U ipykernel psutil requests pandas\n",
    "```"
   ]
  },
  {
   "cell_type": "code",
   "execution_count": 2,
   "id": "3f761e74",
   "metadata": {},
   "outputs": [],
   "source": [
    "# # create a new conda environment \"py39_cardano\" then reload this notebook\n",
    "# ! /anaconda/bin/conda create -y --name py39_cardano python=3.9"
   ]
  },
  {
   "cell_type": "code",
   "execution_count": 3,
   "id": "6bb9b671",
   "metadata": {},
   "outputs": [],
   "source": [
    "# # install additional packages\n",
    "# ! /anaconda/envs/py39_cardano/bin/python -m pip install -U ipykernel psutil requests pandas"
   ]
  },
  {
   "cell_type": "markdown",
   "id": "57e4c9ad-76bc-468c-94e7-792649d20ae0",
   "metadata": {},
   "source": [
    "### versions"
   ]
  },
  {
   "cell_type": "code",
   "execution_count": 4,
   "id": "90385983",
   "metadata": {},
   "outputs": [
    {
     "name": "stdout",
     "output_type": "stream",
     "text": [
      "conda       : 4.12.0\n",
      "pip         : 21.2.4\n",
      "python      : 3.9.12\n",
      "pandas      : 1.4.3\n",
      "numpy       : 1.23.0\n",
      "requests    : 2.28.0\n"
     ]
    }
   ],
   "source": [
    "# installed modules in python\n",
    "conda_version = ! conda -V\n",
    "print(f\"conda       : {conda_version[0].split()[1]}\")\n",
    "pip_version = ! pip -V\n",
    "print(f\"pip         : {pip_version[0].split()[1]}\")\n",
    "python_version = ! python -V\n",
    "print(f\"python      : {python_version[0].split()[1]}\")\n",
    "pandas_version = ! pip list |grep -i pandas\n",
    "print(f\"pandas      : {pandas_version[0].split()[1]}\")\n",
    "numpy_version = ! pip list |grep -i numpy\n",
    "print(f\"numpy       : {numpy_version[0].split()[1]}\")\n",
    "requests_version = ! pip list |grep -i requests\n",
    "print(f\"requests    : {requests_version[0].split()[1]}\")"
   ]
  },
  {
   "cell_type": "markdown",
   "id": "0cd6e051-365c-487b-9f74-c81572198be2",
   "metadata": {},
   "source": [
    "### modules"
   ]
  },
  {
   "cell_type": "code",
   "execution_count": 5,
   "id": "771b0f17",
   "metadata": {},
   "outputs": [],
   "source": [
    "# used for loading a webpage\n",
    "from IPython.display import Javascript # allow to load a website in a new browser tab\n",
    "from IPython.display import SVG        # allow to load interactive linked images\n",
    "from IPython.core.display import HTML\n",
    "\n",
    "import re           # regex tool\n",
    "import pandas as pd # tabular data tool\n",
    "import numpy as np  # needed for helper function\n",
    "import json         # json data structure tool\n",
    "import requests     # standard for making HTTP requests\n",
    "import datetime     # manipulating and formatting dates and times\n",
    "\n",
    "# environment packages\n",
    "import platform\n",
    "import psutil\n",
    "import os\n",
    "\n",
    "# https://stackabuse.com/executing-shell-commands-with-python/\n",
    "import subprocess\n",
    "\n",
    "# pd.describe_option('display')            # show all pandas options, parameters can slow down notebook\n",
    "pd.set_option('display.max_colwidth', 80)  # default 50, the maximum width in characters of a column\n",
    "pd.set_option('display.max_columns', 20)   # default 20, the maximum amount of columns in view \n",
    "pd.set_option('display.max_rows', 60)      # default 60, the maximum amount of rows in view"
   ]
  },
  {
   "cell_type": "code",
   "execution_count": 6,
   "id": "b7cc5a70",
   "metadata": {},
   "outputs": [
    {
     "data": {
      "text/html": [
       "<style>/* Tooltip container */\n",
       ".ttooltip {\n",
       "  position: relative;\n",
       "  display: inline-block;\n",
       "  border-bottom: 1px dotted #3498db; /* If you want dots under the hoverable text */\n",
       "}\n",
       "\n",
       "/* Tooltip text */\n",
       ".ttooltip .tooltiptext {\n",
       "  visibility: hidden;\n",
       "  width: 300px;\n",
       "  background-color: #3498db;\n",
       "  color: #fff;\n",
       "  text-align: center;\n",
       "  padding: 6px 12px;\n",
       "  border-radius: 10px;\n",
       "  font-size: 14px;\n",
       "\n",
       "  /* Position the tooltip text - see examples below! */\n",
       "  position: absolute;\n",
       "  z-index: 1;\n",
       "  opacity: 100%;\n",
       "  transition: opacity 0.3s;\n",
       "}\n",
       "\n",
       "/* Show the tooltip text when you mouse over the tooltip container */\n",
       ".ttooltip:hover .tooltiptext {\n",
       "  visibility: visible;\n",
       "}\n",
       "</style>"
      ],
      "text/plain": [
       "<IPython.core.display.HTML object>"
      ]
     },
     "execution_count": 6,
     "metadata": {},
     "output_type": "execute_result"
    }
   ],
   "source": [
    "# setup a mouse over tooltip feature\n",
    "def _set_css_style(css_file_path):\n",
    "   \"\"\"\n",
    "   Read the custom CSS file and load it into Jupyter.\n",
    "   Pass the file path to the CSS file.\n",
    "   \"\"\"\n",
    "   styles = open(css_file_path, \"r\").read()\n",
    "   st = '<style>%s</style>' % styles     \n",
    "   return HTML(st)\n",
    "\n",
    "# custom style code\n",
    "_set_css_style('../scripts/tooltip_style.css')"
   ]
  },
  {
   "cell_type": "markdown",
   "id": "6d3e6ad5-8c40-43f3-a12b-70dfd6837690",
   "metadata": {},
   "source": [
    "### server\n",
    "This notebook operates on an Azure IaaS server, specifically using a **Standard_A8m_v2** size virtual machine.  \n",
    "I've opened multiple ports for diverse services like:  \n",
    " * 22 (SSH terminal)\n",
    " * 80 (HTTP)\n",
    " * 8000 (jupyter notebooks)\n",
    " * 8090 (cardano-wallet)\n",
    " * 8050 (web-server)  "
   ]
  },
  {
   "cell_type": "code",
   "execution_count": 7,
   "id": "cd23de6d-26cc-4a6f-ab06-f8ffd572ce77",
   "metadata": {},
   "outputs": [
    {
     "name": "stdout",
     "output_type": "stream",
     "text": [
      "Cores : 8 (3GHz)\n",
      "Memory: 62.80 GB (12% used)\n",
      "Swap  : 8 GB\n",
      "Disk  : 242 GB ext4 (77% used)\n",
      "System: 20.04.1-Ubuntu\n"
     ]
    }
   ],
   "source": [
    "# Virtual Machine environment \n",
    "print(f\"Cores : {psutil.cpu_count(logical=True)} ({psutil.cpu_freq().current/1000:.0f}GHz)\")\n",
    "print(f\"Memory: {psutil.virtual_memory().total/(1024**3):.2f} GB ({psutil.virtual_memory().percent:.0f}% used)\")\n",
    "print(f\"Swap  : {os.path.getsize('/swapfile')/(1024**3):.0f} GB\")\n",
    "disk_size = psutil.disk_usage(psutil.disk_partitions()[0].mountpoint).total\n",
    "disk_used = psutil.disk_usage(psutil.disk_partitions()[0].mountpoint).percent\n",
    "disk_fs   = psutil.disk_partitions()[0].fstype \n",
    "print(f\"Disk  : {disk_size/(1024**3):.0f} GB {disk_fs} ({disk_used:.0f}% used)\")\n",
    "print(f\"System: {platform.uname().version.split('~')[1].split()[0]}\")"
   ]
  },
  {
   "cell_type": "code",
   "execution_count": 8,
   "id": "5b12de3e",
   "metadata": {},
   "outputs": [
    {
     "name": "stdout",
     "output_type": "stream",
     "text": [
      "/home/ubuntu\r\n"
     ]
    }
   ],
   "source": [
    "# current user's home directory path (~)\n",
    "!echo $HOME"
   ]
  },
  {
   "cell_type": "markdown",
   "id": "782d0df9-4f84-4ff7-b1e1-325866821ec0",
   "metadata": {},
   "source": [
    "### software\n",
    "Connect to your VM using a Terminal (Putty).  \n",
    "**Update** your installation.  \n",
    "Install **curl** and **rsync**.  \n",
    "```sh\n",
    "sudo sh -c 'apt update && apt install curl rsync'\n",
    "```  \n",
    "\n",
    "Install <b class=\"ttooltip\">Z3<span class=\"tooltiptext\">an open-source theorem prover from Microsoft Research, designed for verifying smart contract JSON files to ensure they are free from duplicates, invalid values and within parameter boundaries.</span></b> a dependency used by `marlowe-cli run analyze` for analyzing smart contract safety of contract execution.  \n",
    "```sh\n",
    "sudo sh -c 'apt install -y z3'\n",
    "```  \n",
    "---\n",
    "**Install nixos** from the official installation script.  \n",
    "Nixos is a form of virtual environment like docker with cryptographic hashed package manager Nix to eliminate dependency hell.\n",
    "```sh\n",
    "sh <(curl -L https://nixos.org/nix/install) --daemon\n",
    "```\n",
    "---\n",
    "Adding these configurations to **nix.conf** and **restart** the nix-daemon  \n",
    "enhances the build process for NixOS by utilizing pre-compiled, trusted binaries.  \n",
    "This approach significantly accelerates the setup by eliminating the need to compile from scratch.  \n",
    "```sh\n",
    "sudo sh -c \"echo 'substituters = https://cache.nixos.org https://cache.iog.io' >> /etc/nix/nix.conf\"\n",
    "sudo sh -c \"echo 'trusted-public-keys = hydra.iohk.io:f/Ea+s+dFdN+3Y/G+FDgSq+a5NEWhJGzdjvKNGv0/EQ= cache.nixos.org-1:6NCHdD59X431o0gWypbMrAURkbJ16ZPMQFGspcDShjY=' >> /etc/nix/nix.conf\"\n",
    "sudo sh -c \"echo 'experimental-features = nix-command' >> /etc/nix/nix.conf\"  \n",
    "sudo sh -c \"echo 'extra-experimental-features = flakes' >> /etc/nix/nix.conf\"  \n",
    "sudo sh -c 'echo \"trusted-users = $0\" >> /etc/nix/nix.conf' `whoami`\n",
    "```\n",
    "\n",
    "**source (github marlowe-cardano): [How to set up the IOG binary caches](https://github.com/input-output-hk/marlowe-cardano#nix-1)**  \n",
    "**source (github cardano-node): [How to set up the IOG binary caches](https://github.com/input-output-hk/cardano-node-wiki/blob/main/docs/getting-started/building-the-node-using-nix.md)**  "
   ]
  },
  {
   "cell_type": "code",
   "execution_count": 9,
   "id": "558daefb-35df-4eb3-bdad-cf7296bd8ceb",
   "metadata": {},
   "outputs": [
    {
     "name": "stdout",
     "output_type": "stream",
     "text": [
      "substituters = https://cache.nixos.org https://cache.iog.io\r\n",
      "trusted-public-keys = hydra.iohk.io:f/Ea+s+dFdN+3Y/G+FDgSq+a5NEWhJGzdjvKNGv0/EQ= cache.nixos.org-1:6NCHdD59X431o0gWypbMrAURkbJ16ZPMQFGspcDShjY=\r\n",
      "experimental-features = nix-command\r\n",
      "extra-experimental-features = flakes\r\n",
      "trusted-users = ubuntu\r\n",
      "build-users-group = nixbld\r\n"
     ]
    }
   ],
   "source": [
    "# here is the content of the 'nix.conf' file\n",
    "!cat /etc/nix/nix.conf"
   ]
  },
  {
   "cell_type": "markdown",
   "id": "388901fc",
   "metadata": {},
   "source": [
    "Restart Nix  \n",
    "```sh\n",
    "sudo systemctl restart nix-daemon.service\n",
    "```"
   ]
  },
  {
   "cell_type": "code",
   "execution_count": 10,
   "id": "a5d3d808",
   "metadata": {},
   "outputs": [
    {
     "name": "stdout",
     "output_type": "stream",
     "text": [
      "\r",
      "\u001b[0m\u001b[Knix (Nix) 2.12.0\r\n",
      "\r",
      "\u001b[K"
     ]
    }
   ],
   "source": [
    "# installed version of Nix package manager system\n",
    "!/nix/var/nix/profiles/default/bin/nix --version"
   ]
  },
  {
   "cell_type": "markdown",
   "id": "9934d732",
   "metadata": {},
   "source": [
    "### cardano tools\n",
    "We want to stay updated with the latest official Cardano software versions and ensure compatibility.  \n",
    "**As this notebook might become outdated, it's crucial to periodically check for new releases.**  \n",
    "Dependency issues may restrict immediate updates to the latest versions, but the demonstrated version is confirmed functional.  "
   ]
  },
  {
   "cell_type": "code",
   "execution_count": 11,
   "id": "f5b2de15",
   "metadata": {},
   "outputs": [
    {
     "name": "stdout",
     "output_type": "stream",
     "text": [
      "cardano-wallet\t\t: v2024-03-27\n",
      "cardano-node \t\t: 8.9.1\n",
      "marlowe-runtime  \t: runtime@v0.0.6\n",
      "\t\t\t  + marlowe-cli\n",
      "\t\t\t  + marlowe-finder\n",
      "\t\t\t  + marlowe-oracle\n",
      "\t\t\t  + marlowe-pipe\n",
      "\t\t\t  + marlowe-runtime-cli\n",
      "\t\t\t  + marlowe-scaling\n",
      "\t\t\t  + marlowe-streamer\n",
      "\t\t\t  + signing-service\n"
     ]
    }
   ],
   "source": [
    "# check the latest available versions from Github\n",
    "response = requests.get(\"https://api.github.com/repos/input-output-hk/cardano-wallet/releases/latest\")\n",
    "print(f'cardano-wallet\\t\\t: {response.json()[\"tag_name\"]}')\n",
    "response = requests.get(\"https://api.github.com/repos/IntersectMBO/cardano-node/releases/latest\")\n",
    "print(f'cardano-node \\t\\t: {response.json()[\"tag_name\"]}')\n",
    "response = requests.get(\"https://api.github.com/repos/input-output-hk/marlowe-cardano/releases/latest\")\n",
    "print(f'marlowe-runtime  \\t: {response.json()[\"tag_name\"]}')\n",
    "# List all marlowe assets\n",
    "assets = response.json().get('assets', [])\n",
    "for asset in assets:\n",
    "    print(f\"\\t\\t\\t  + {asset['name']}\")"
   ]
  },
  {
   "cell_type": "markdown",
   "id": "0a34f96a-cc0a-4557-8c62-0bc51bf99a4f",
   "metadata": {},
   "source": [
    "Install <b class=\"ttooltip\">cardano-wallet<span class=\"tooltiptext\">It allows users to create and manage multiple wallets, each with its own set of private keys to sending and receive ADA, as well as viewing their transaction history and current balance.</span></b> by downloading version **v2024-03-27** from Github,  \n",
    "extract the downloaded package and cleanup.  \n",
    "**[click here](https://github.com/input-output-hk/cardano-wallet/releases/latest)** to check the latest cardano-wallet version.  \n",
    "```sh\n",
    "cd ~/cardano\n",
    "wget https://github.com/input-output-hk/cardano-wallet/releases/download/v2024-03-27/cardano-wallet-v2024-03-27-linux64.tar.gz\n",
    "tar xzf cardano-wallet-v2024-03-27-linux64.tar.gz\n",
    "rm cardano-wallet-v2024-03-27-linux64.tar.gz\n",
    "mv cardano-wallet-v2024-03-27-linux64/* ~/cardano/\n",
    "rm -Rf cardano-wallet-v2024-03-27-linux64\n",
    "```\n",
    "if you **update**,\n",
    "```sh\n",
    "# follow the documentation for special situations to preserve your wallets, I will remove and reinstall\n",
    "cd ~/cardano\n",
    "rm -Rf auto-completion\n",
    "rm -Rf wallet-db\n",
    "# reinstall\n",
    "```\n",
    "disable **IPv6** warning errors (NTP client experienced error Network.Socket.ByteString.SendManyTo:)\n",
    "```sh\n",
    "sudo sh -c \"echo 'net.ipv6.conf.all.disable_ipv6 = 1' >> /etc/sysctl.conf\"\n",
    "sudo sh -c \"echo 'net.ipv6.conf.default.disable_ipv6 = 1' >> /etc/sysctl.conf\"\n",
    "sudo sh -c \"echo 'net.ipv6.conf.lo.disable_ipv6 = 1' >> /etc/sysctl.conf\"\n",
    "# apply your changes\n",
    "sudo sysctl -p\n",
    "# verify if output is `1` = `disabled`\n",
    "cat /proc/sys/net/ipv6/conf/all/disable_ipv6\n",
    "```\n",
    "---\n",
    "Install <b class=\"ttooltip\">cardano-node<span class=\"tooltiptext\">a Cardano node is responsible for maintaining and updating the state of the Cardano blockchain, which allows it to function as a decentralized network.</span></b> by downloading version **8.9.1** from GitHub,  \n",
    "creating a new directory, extract the downloaded package and cleanup.  \n",
    "**[click here](https://github.com/IntersectMBO/cardano-node/releases/latest)** to check the latest cardano-node version.  \n",
    "```sh\n",
    "mkdir ~/cardano\n",
    "cd ~/cardano\n",
    "wget https://github.com/IntersectMBO/cardano-node/releases/download/8.9.1/cardano-node-8.9.1-linux.tar.gz\n",
    "tar xzfv cardano-node-8.9.1-linux.tar.gz --wildcards --strip-components=2 './bin/*'\n",
    "rm cardano-node-8.9.1-linux.tar.gz\n",
    "```\n",
    "if you **update**, the binary gets overwritten, the cached blockchain data will sync when you run it.  \n",
    "\n",
    "---\n",
    "Download <b class=\"ttooltip\">marlowe-cli <span class=\"tooltiptext\">It allows developers to write, test, and deploy smart contracts written in Marlowe to the Cardano network.</span></b> (version **0.2.0.0**) as part of the Marlowe Runtime package **v0.0.6** from GitHub,  \n",
    "Download <b class=\"ttooltip\">marlowe-runtime-cli <span class=\"tooltiptext\">It allows developers to write, test, and deploy smart contracts written in Marlowe to the Cardano network with a focused on post-deployment activities, such as managing live contracts and facilitating interactions between users and deployed contracts.</span></b> as part of the Marlowe Runtime package **v0.0.6** from GitHub,  \n",
    "same commands if you **update**  \n",
    "**[click here](https://github.com/input-output-hk/marlowe-cardano/tree/main/marlowe-cli)** to check the latest marlowe-cli git repo.  \n",
    "##### setup & cleanup\n",
    "```sh\n",
    "# clearing the Nix cache to free up space\n",
    "nix-store --gc  \n",
    "# removing unused packages for a cleaner system\n",
    "nix-collect-garbage -d\n",
    "# deleting old marlowe-cardano directory to avoid conflicts\n",
    "sudo rm -Rf marlowe-cardano\n",
    "# cleaning up software packages no longer needed\n",
    "sudo apt-get autoremove\n",
    "```\n",
    "##### download & install\n",
    "```sh\n",
    "# clone the marlowe-cardano repository\n",
    "git clone https://github.com/input-output-hk/marlowe-cardano\n",
    "cd marlowe-cardano\n",
    "# ensure you're on the correct git version\n",
    "git checkout tags/runtime@v0.0.6\n",
    "\n",
    "# navigate to marlowe-cli and start/build Nix development environment\n",
    "cd marlowe-cli\n",
    "nix develop\n",
    "# Note: installation takes some time (~1 hour), be patient!\n",
    "\n",
    "# for custom setups, manually copy necessary files to specific locations\n",
    "sudo mkdir -p /nix/store/xlz0iq3afc917irlpkgniwnyzc29h079-marlowe-cardano-lib-marlowe-cardano-x86_64-unknown-linux-musl-0.2.1.0-data/share/x86_64-unknown-linux-musl-ghc-9.2.8/x86_64-linux-ghc-9.2.8/marlowe-cardano-0.2.1.0-KUM9ERSqB1TBIgHUrLPrQ3/scripts\n",
    "\n",
    "sudo cp marlowe-cardano/marlowe/scripts/*.plutus /nix/store/xlz0iq3afc917irlpkgniwnyzc29h079-marlowe-cardano-lib-marlowe-cardano-x86_64-unknown-linux-musl-0.2.1.0-data/share/x86_64-unknown-linux-musl-ghc-9.2.8/x86_64-linux-ghc-9.2.8/marlowe-cardano-0.2.1.0-KUM9ERSqB1TBIgHUrLPrQ3/scripts\n",
    "```\n",
    "##### permissions & path\n",
    "```sh\n",
    "# remove any previous marlowe-cli installations\n",
    "cd ~/cardano\n",
    "rm -f marlowe-cli\n",
    "\n",
    "# download and set permissions for all marlowe tools (marlowe-cli and marlowe-runtime-cli)\n",
    "wget https://github.com/input-output-hk/marlowe-cardano/releases/download/runtime%40v0.0.6/marlowe-cli\n",
    "wget https://github.com/input-output-hk/marlowe-cardano/releases/download/runtime%40v0.0.6/marlowe-runtime-cli\n",
    "chmod 555 marlowe-cli marlowe-runtime-cli\n",
    "\n",
    "wget https://github.com/input-output-hk/marlowe-cardano/releases/download/runtime%40v0.0.6/marlowe-finder\n",
    "wget https://github.com/input-output-hk/marlowe-cardano/releases/download/runtime%40v0.0.6/marlowe-oracle\n",
    "wget https://github.com/input-output-hk/marlowe-cardano/releases/download/runtime%40v0.0.6/marlowe-pipe\n",
    "wget https://github.com/input-output-hk/marlowe-cardano/releases/download/runtime%40v0.0.6/marlowe-scaling\n",
    "wget https://github.com/input-output-hk/marlowe-cardano/releases/download/runtime%40v0.0.6/marlowe-streamer\n",
    "wget https://github.com/input-output-hk/marlowe-cardano/releases/download/runtime%40v0.0.6/signing-service\n",
    "chmod 555 marlowe-finder marlowe-oracle marlowe-pipe marlowe-scaling marlowe-streamer signing-service\n",
    "\n",
    "# ensure marlowe-cli is available in your PATH\n",
    "sudo sh -c \"echo 'export PATH=$PATH:$HOME/cardano' >> $HOME/.bashrc\"\n",
    "source ~/.bashrc\n",
    "```  \n",
    "---  \n",
    "**[update tracker of cardano development](https://cardanoupdates.com/about)** often tops the GitHub commit list, signifying active development and improvements.  \n",
    "![run multiple terminals](../../image/cardanoupdates.png)  \n"
   ]
  },
  {
   "cell_type": "markdown",
   "id": "74c98de1",
   "metadata": {},
   "source": [
    "### setup environment"
   ]
  },
  {
   "cell_type": "code",
   "execution_count": 12,
   "id": "79a4a16f",
   "metadata": {},
   "outputs": [
    {
     "name": "stdout",
     "output_type": "stream",
     "text": [
      "/anaconda/envs/py39_cardano/bin:/anaconda/condabin:/usr/local/sbin:/usr/local/bin:/usr/sbin:/usr/bin:/sbin:/bin:/home/ubuntu/cardano\r\n"
     ]
    }
   ],
   "source": [
    "# Add the '~/cardano' directory to the PATH environment variable\n",
    "os.environ['PATH'] = os.environ['PATH'] + ':' + os.path.expanduser('~/cardano')\n",
    "# check the result, call the environment variable from within jupyter notebook\n",
    "!echo $PATH"
   ]
  },
  {
   "cell_type": "code",
   "execution_count": 13,
   "id": "823942e2",
   "metadata": {},
   "outputs": [],
   "source": [
    "# save path to binary files\n",
    "cardanoCLI    = \"/home/ubuntu/cardano/cardano-cli\"\n",
    "marloweCLI    = \"/home/ubuntu/cardano/marlowe-cli\"\n",
    "marloweRUN    = \"/home/ubuntu/cardano/marlowe-runtime-cli\"\n",
    "cardanoWALLET = \"/home/ubuntu/cardano/cardano-wallet\""
   ]
  },
  {
   "cell_type": "code",
   "execution_count": 14,
   "id": "2e64b75a",
   "metadata": {},
   "outputs": [
    {
     "name": "stdout",
     "output_type": "stream",
     "text": [
      "cardano-node      : 8.9.1\n",
      "cardano-cli       : 8.20.3.0\n",
      "cardano-wallet    : 2024-03-27\n",
      "marlowe-cli       : 0.2.0.0\n"
     ]
    }
   ],
   "source": [
    "# check installed versions\n",
    "!echo \"cardano-node      : $(cardano-node --version | head -n1 | awk '{print $2}')\"\n",
    "!echo \"cardano-cli       : $(cardano-cli  --version | head -n1 | awk '{print $2}')\"\n",
    "!echo \"cardano-wallet    : $(cardano-wallet version | head -n1 | awk '{print $1}' | cut -c 2-)\"\n",
    "!echo \"marlowe-cli       : $(marlowe-cli  --version | head -n1 | awk '{print $2}')\""
   ]
  },
  {
   "cell_type": "markdown",
   "id": "b7f34c74",
   "metadata": {},
   "source": [
    "### helper function\n",
    "\n",
    "Function **query_df** transforms **cardano-cli query utxo** text output into a Pandas dataframe.  \n",
    "Which can be easily viewed and manipulated for further analysis.  \n",
    "Remember to update the 'magic' value depending on the Cardano Blockchain network you're using: '2' for preview"
   ]
  },
  {
   "cell_type": "code",
   "execution_count": 15,
   "id": "271dc744",
   "metadata": {},
   "outputs": [],
   "source": [
    "def query_df(address, magic='2', cardanoCLI=\"/home/ubuntu/cardano/cardano-cli\"):\n",
    "    '''\n",
    "    query_df(address, magic, cardanoCLI)\n",
    "    \n",
    "    address : (str) [required] is the wallet address you want to check for last transaction state\n",
    "    magic : (str) [optional] is the key used to identify the mainnet, testnet, other networks\n",
    "    cardanoCLI : (str) [optional] the binary file of the cardano-cli on your system\n",
    "    '''\n",
    "\n",
    "    def hex_to_ascii(s):\n",
    "        # small function to decode hex strings to ascii (translation)\n",
    "        try:\n",
    "            return bytearray.fromhex(s).decode()\n",
    "        except ValueError:\n",
    "            return None\n",
    "\n",
    "    # shell command, execute and store result in a temporary json file\n",
    "    cmd = [cardanoCLI, \"query\", \"utxo\", \"--testnet-magic\", magic, \"--address\", address, \"--out-file\", 'address.json']\n",
    "    result = subprocess.run(cmd, capture_output=True, text=True)\n",
    "    # load this json file into a dataframe\n",
    "    df = pd.read_json('address.json', orient='index').reset_index()\n",
    "\n",
    "    # test if empty query, then return empty line with address\n",
    "    if len(df.columns) < 2:\n",
    "        # close off\n",
    "        return pd.DataFrame({'address':[address], 'TxHash':np.nan, 'TxIx':0, 'lovelace':0, 'TokenPolicyId':np.nan, 'TokenNameHex':np.nan, 'TokenNameAscii':np.nan, 'TokenAmount':0, 'datumhash':np.nan})\n",
    "\n",
    "    # replace feature names with interpretable naming (others are left as-is) \n",
    "    df = df.rename(columns={'index': 'TxHash',\n",
    "                            'datumhash': 'datumhash',\n",
    "                            'address': 'address',\n",
    "                            'value': 'value'})\n",
    "    # split the # value into a seperate column and remove the original\n",
    "    df = df.join(df['TxHash'].str.split('#', regex=False, expand=True), how='left')\n",
    "    df = df.drop(['TxHash'], axis=1)\n",
    "    # replace feature names with interpretable naming (others are left as-is) \n",
    "    df = df.rename(columns={0:'TxHash', 1: 'TxIx'})\n",
    "    # normalize the value column ex:{lovelace:3000000} into 2 new columns and remove original column\n",
    "    df = pd.concat([df.drop(['value'], axis=1), df['value'].apply(pd.Series)], axis=1)\n",
    "    # change data type from float to integer\n",
    "    df['lovelace'] = df['lovelace'].fillna(0)\n",
    "    df['TxIx'] = df['TxIx'].fillna(0)\n",
    "    df['lovelace'] = df['lovelace'].astype('int')\n",
    "    df['TxIx'] = df['TxIx'].astype('int')\n",
    "    # drop all columns with all values NA\n",
    "    df = df.dropna(axis=1, how='all')\n",
    "    \n",
    "    # if the last column name word size is 56 characters wide:\n",
    "    # try if this is needed, if no data is present then skip\n",
    "    try:\n",
    "        # unselect all known columns, keep last ones column name\n",
    "        cn = df[df.columns[~df.columns.isin(['address', 'TxHash', 'TxIx', 'lovelace'])]].iloc[:, -1].name\n",
    "        # check if this name is 64 bytes long ? \n",
    "        if len(cn) == 56:\n",
    "            # make a copy into a new column name\n",
    "            df['TokenPolicyId'] = df[cn]\n",
    "            # write the values 'column name' only on True state locations\n",
    "            df['TokenPolicyId'] = df['TokenPolicyId'].notna().replace({True: cn, False: np.nan})\n",
    "            \n",
    "            # normalize the value column ex:{}\n",
    "            df = pd.concat([df.drop([cn], axis=1), df[cn].apply(pd.Series)], axis=1)\n",
    "            # drop all columns with all values NA\n",
    "            df = df.dropna(axis=1, how='all')\n",
    "            \n",
    "            # build a secondary dataframe to be concatenated at the end with the hextokenid and tokenamount\n",
    "            # exclude all known columns\n",
    "            two = df[df.columns[~df.columns.isin(['address', 'TxHash', 'TxIx', 'lovelace', 'TokenPolicyId'])]]\n",
    "            # stack the column name and values into one dataframe and reset the index\n",
    "            tmp = two.stack().apply(pd.Series).reset_index()\n",
    "            # set the index to this column values, later for merging with df\n",
    "            tmp = tmp.set_index('level_0')\n",
    "            # rename these 2 columns\n",
    "            tmp.columns = ['TokenNameHex', 'TokenAmount']\n",
    "            # merge\n",
    "            df = pd.concat([df, tmp], axis=1)\n",
    "            # set tokenamount to integer dtype\n",
    "            df['TokenAmount'] = df['TokenAmount'].fillna(0)\n",
    "            df['TokenAmount'] = df['TokenAmount'].astype('int')\n",
    "            # remove the bogus columns, clean up\n",
    "            df = df.drop(tmp['TokenNameHex'], axis=1)\n",
    "            # add a column with the ascii transation\n",
    "            df['TokenNameAscii'] = df['TokenNameHex'].astype('str').apply(hex_to_ascii)\n",
    "            # add empty column data so we can combine all dataframes into one later\n",
    "            df['datumhash'] = np.nan\n",
    "            # structure in chronologic order the column names\n",
    "            df = df[['address', 'TxHash', 'TxIx', 'lovelace', 'TokenPolicyId', 'TokenNameHex', 'TokenNameAscii', 'TokenAmount', 'datumhash']]\n",
    "            return df\n",
    "            \n",
    "    # in the case of no data present add these extra empty columns\n",
    "    # in fact this will never occur, below code... \n",
    "    except:\n",
    "        df['datumhash'] = np.nan\n",
    "        df['TokenPolicyId'] = np.nan\n",
    "        df['TokenNameHex'] = np.nan\n",
    "        df['TokenAmount'] = 0\n",
    "        return df\n",
    "\n",
    "    # add empty column data so we can combine all dataframes into one later\n",
    "    df['TokenPolicyId'] = np.nan\n",
    "    df['TokenNameHex'] = np.nan\n",
    "    df['TokenNameAscii'] = np.nan\n",
    "    df['TokenAmount'] = 0\n",
    "    # structure in chronologic order the column names\n",
    "    df = df[['address', 'TxHash', 'TxIx', 'lovelace', 'TokenPolicyId', 'TokenNameHex', 'TokenNameAscii', 'TokenAmount', 'datumhash']]\n",
    "    return df"
   ]
  },
  {
   "cell_type": "markdown",
   "id": "94884e6f",
   "metadata": {},
   "source": [
    "### start services\n"
   ]
  },
  {
   "cell_type": "markdown",
   "id": "cbf59d88",
   "metadata": {},
   "source": [
    "[**howto run CARDANO-NODE**](https://developers.cardano.org/docs/get-started/running-cardano/)  \n",
    "download the initial protocol parameters and blockchain bootstrap files for cardano-node network on **preview** NetworkMagic: **2**  \n",
    "\n",
    "```sh\n",
    "cd ~/cardano\n",
    "base_url=\"https://book.world.dev.cardano.org/environments\"\n",
    "network=\"preview\"\n",
    "curl -O -J $base_url/$network/config.json\n",
    "curl -O -J $base_url/$network/db-sync-config.json\n",
    "curl -O -J $base_url/$network/submit-api-config.json\n",
    "curl -O -J $base_url/$network/topology.json\n",
    "curl -O -J $base_url/$network/byron-genesis.json\n",
    "curl -O -J $base_url/$network/shelley-genesis.json\n",
    "curl -O -J $base_url/$network/alonzo-genesis.json\n",
    "curl -O -J $base_url/$network/conway-genesis.json\n",
    "```\n",
    "**note:** [**ENVIRONMENTS**](https://book.world.dev.cardano.org/environments.html)  \n",
    "**note:** [**GITHUB**](https://github.com/input-output-hk/cardano-world/tree/master/docs/environments/preview)  \n",
    "\n",
    "---\n",
    "\n",
    "start the node (listen on all connections)\n",
    "```sh\n",
    "cd ~/cardano\n",
    "cardano-node run \\\n",
    "   --topology topology.json \\\n",
    "   --database-path db/ \\\n",
    "   --socket-path /tmp/node.socket \\\n",
    "   --host-addr 0.0.0.0 \\\n",
    "   --config config.json\n",
    "```\n",
    "\n",
    "---\n",
    "\n",
    "[**howto run CARDANO-WALLET**](https://input-output-hk.github.io/adrestia/cardano-wallet/user-guide/common-use-cases/how-to-start-wallet-server)  \n",
    "start a wallet server (listen on all connections)\n",
    "```sh\n",
    "cd ~/cardano\n",
    "cardano-wallet serve \\\n",
    "   --listen-address 0.0.0.0 \\\n",
    "   --port 8090 \\\n",
    "   --node-socket /tmp/node.socket \\\n",
    "   --testnet byron-genesis.json \\\n",
    "   --database wallet-db \\\n",
    "   --token-metadata-server https://metadata.cardano-testnet.iohkdev.io\n",
    "```\n",
    "\n",
    "---\n",
    "\n",
    "**optional:** start a web-server (listen on port 8050, all IP connections)  \n",
    "```sh\n",
    "cd $(dirname $(find ~ -type f -name \"cardano_start.sh\" 2>/dev/null | head -n 1))\n",
    "gunicorn flaskserver:app -b 0.0.0.0:8050\n",
    "```"
   ]
  },
  {
   "cell_type": "markdown",
   "id": "b156f038",
   "metadata": {},
   "source": [
    "#### OPTIONAL: use tmux\n",
    "\n",
    "Launch a <b class=\"ttooltip\">tmux<span class=\"tooltiptext\">a terminal multiplexer that allows users to create and manage multiple terminal sessions within a single window.</span></b> session to run multiple terminal sessions within a single window.  \n",
    "Execute the tmux session from this script **cardano_start.sh**\" to start  \n",
    "your blockchain node and wallet services and let it download the entire blockchain history and synchronize.  \n",
    "\n",
    "---\n",
    "Install <b class=\"ttooltip\">htop<span class=\"tooltiptext\">real-time running process monitoring tool that displays their resource usage.</span></b> and <b class=\"ttooltip\">tmux<span class=\"tooltiptext\">a terminal multiplexer that allows users to create and manage multiple terminal sessions within a single window.</span></b>.  \n",
    "```sh\n",
    "sudo sh -c 'apt update && apt install htop tmux'\n",
    "```\n",
    "---\n",
    "To enable scroll mode by default when you start tmux,  \n",
    "you can add the following line to your tmux configuration file  \n",
    "```sh\n",
    "sudo sh -c \"echo 'set -g mouse on' >> $HOME/.tmux.conf\"\n",
    "source ~/.bashrc\n",
    "```\n",
    "---\n",
    "Start the script\n",
    "```sh\n",
    "code/scripts/cardano_start.sh\n",
    "```  \n",
    "![run tmux script from here](../../image/run_tmux_script_from_here.png)\n",
    "![run multiple terminals](../../image/tmux_init_cardano_node_wallet.png)\n",
    "---\n",
    "Here are some commands how to use tmux:  \n",
    "\n",
    "    PANE commands\n",
    "    ctrl+b ->    to move to the right pane, up, down and left arrow also possible\n",
    "    ctrl+b z     enlarge or zoom to one pane\n",
    "    ctrl+b \"     for split horizontal\n",
    "    ctrl+b %     for split vertikal\n",
    "    ctrl+b d     to kill a screen pane\n",
    "    \n",
    "    WINDOW commands\n",
    "    ctrl+b c     create new window\n",
    "    ctrl+b p     previous window\n",
    "    ctrl+b n     next window\n",
    "    ctrl+b &     kill a window\n",
    "    \n",
    "    SESSION commands\n",
    "    tmux list-sessions    view a list of all available sessions\n",
    "    tmux ls               (short version)\n",
    "    tmux attach           previous last used tmux session\n",
    "    tmux a                (short version)\n",
    "    tmux attach -t 1      open tmux session id 1"
   ]
  },
  {
   "cell_type": "code",
   "execution_count": 16,
   "id": "8d58a0cd",
   "metadata": {},
   "outputs": [
    {
     "name": "stdout",
     "output_type": "stream",
     "text": [
      "# create a new tmux session named \"cardano_start\"\r\n",
      "tmux new-session -s ses-0 -n cardano-start -d\r\n",
      "\r\n",
      "# split window horizontally to panels 0 and 1\r\n",
      "tmux split-window -h\r\n",
      "# split panel 1 horizontally to panels 1 and 2 (left to right)\r\n",
      "tmux split-window -v -t 0\r\n",
      "# split panel 2 vertically to create panels 2 and 3 (top to bottom)\r\n",
      "tmux split-window -v -t 2\r\n",
      "\r\n",
      "# run commands in each pane\r\n",
      "tmux send-keys -t 0 'cd ~/cardano' Enter\r\n",
      "tmux send-keys -t 0 'cardano-node run \\\r\n",
      "   --topology topology.json \\\r\n",
      "   --database-path db/ \\\r\n",
      "   --socket-path /tmp/node.socket \\\r\n",
      "   --host-addr 0.0.0.0 \\\r\n",
      "   --config config.json' Enter\r\n",
      "\r\n",
      "tmux send-keys -t 1 'cd ~/cardano' Enter\r\n",
      "tmux send-keys -t 1 'cardano-wallet serve \\\r\n",
      "   --listen-address 0.0.0.0 \\\r\n",
      "   --port 8090 \\\r\n",
      "   --node-socket /tmp/node.socket \\\r\n",
      "   --testnet byron-genesis.json \\\r\n",
      "   --database wallet-db \\\r\n",
      "   --token-metadata-server https://metadata.cardano-testnet.iohkdev.io' Enter\r\n",
      "   \r\n",
      "tmux send-keys -t 2 \"set -o vi\" Enter\r\n",
      "tmux send-keys -t 2 \"htop\" Enter\r\n",
      "\r\n",
      "tmux resize-pane -t 3 -D 5\r\n",
      "tmux send-keys -t 3 \"set -o vi\" Enter\r\n",
      "tmux send-keys -t 3 'cd $(dirname $(find ~ -type f -name \"cardano_start.sh\" 2>/dev/null | head -n 1))' Enter\r\n",
      "# tmux send-keys -t 3 'gunicorn flaskserver:app -b 0.0.0.0:8050' Enter\r\n",
      "\r\n",
      "# activate pane 1, bottom right\r\n",
      "tmux select-pane -t 2\r\n",
      "\r\n",
      "# compile the end-result on screen\r\n",
      "tmux attach-session -t ses-0\r\n"
     ]
    }
   ],
   "source": [
    "# the content of the script\n",
    "!cat ../scripts/cardano_start.sh"
   ]
  },
  {
   "cell_type": "markdown",
   "id": "eb98eeb0",
   "metadata": {},
   "source": [
    "### socket\n",
    "\n",
    "node.socket is a critical <b class=\"ttooltip\">socket file<span class=\"tooltiptext\">acts as a communication endpoint between different processes, allowing them to exchange data over a TCP network used for inter-process communication and distributed systems with other nodes.</span></b> that enables authenticating and validating the incoming and outgoing data exchanges.  \n",
    "\n",
    "examples of components using socket (node.socket):\n",
    "* <b class=\"ttooltip\">cardano-node<span class=\"tooltiptext\">The main component that runs a full node on the Cardano network. It uses the node.socket to establish connections and exchange data with other nodes in the network.</span></b>\n",
    "* <b class=\"ttooltip\">cardano-cli<span class=\"tooltiptext\">The command-line interface for interacting with a Cardano node. It uses the node.socket to send commands to the node and receive responses.</span></b>\n",
    "* <b class=\"ttooltip\">marlowe-cli<span class=\"tooltiptext\">The command-line interface for deploying smart contracts.</span></b>\n",
    "* <b class=\"ttooltip\">cardano-wallet<span class=\"tooltiptext\">Allow users to interact with their wallets, manage their funds, and create and broadcast transactions. It uses node.socket to interact with the node and the network to create, sign and broadcast transactions.</span></b>\n",
    "* <b class=\"ttooltip\">cardano-db-sync<span class=\"tooltiptext\">The component responsible for synchronizing the node's copy of the blockchain with the rest of the network. It uses the node.socket to download blocks and transactions from other nodes.</span></b>\n",
    "\n",
    "Overall these Cardano components can then establish blockchain synchronization from other nodes,  \n",
    "create and sign transactions to the network, follow the consensus algorithm of the network,  \n",
    "keep track of confirmed and unconfirmed transactions.  \n",
    "\n",
    "add /tmp/node.socket into the environment variable and make it persistent  \n",
    "```sh\n",
    "sudo sh -c \"echo 'export CARDANO_NODE_SOCKET_PATH=\"/tmp/node.socket\"' >> $HOME/.bashrc\"\n",
    "```\n",
    "re-execute the shell initialization files and apply the updated settings.  \n",
    "```sh\n",
    "source ~/.bashrc\n",
    "```"
   ]
  },
  {
   "cell_type": "code",
   "execution_count": 17,
   "id": "bb3a4c68",
   "metadata": {},
   "outputs": [
    {
     "name": "stdout",
     "output_type": "stream",
     "text": [
      "srwxrwxr-x 1 ubuntu ubuntu 0 Apr  8 10:39 /tmp/node.socket\r\n"
     ]
    }
   ],
   "source": [
    "# Set the environment variable for the path of the node's socket file\n",
    "os.environ['CARDANO_NODE_SOCKET_PATH']=\"/tmp/node.socket\"\n",
    "# Verify the presence of the socket file, test the call of the environment variable within Jupyter notebook\n",
    "!sudo ls -al $CARDANO_NODE_SOCKET_PATH\n",
    "\n",
    "# cannot access '/tmp/node.socket': No such file or directory\n",
    "# cardano-node is incomplete Replaying Blocks to 100%\n",
    "# wait ~20 minutes then try again"
   ]
  },
  {
   "cell_type": "markdown",
   "id": "88f6013e",
   "metadata": {},
   "source": [
    "## Roadmap\n",
    "\n",
    "#### Phase\n",
    "[The Cardano roadmap](https://roadmap.cardano.org/en/) outlines the main development features and functionality that focus on a set of goals and deliveries.\n",
    "![Cardano roadmap](../../image/cardano_roadmap.png)\n",
    "\n",
    "#### Principles\n",
    "- **scalability**: high volume, low cost, Ouroboros, layering, sidechains\n",
    "- **interoperability**: seamless system interaction, cross-chain bridges, metadata standards\n",
    "- **sustainability**: long-term growth, treasury, decentralized governance\n",
    "- **security**: rigorous review, formal methods for development\n",
    "- **decentralization**: broad participation, proof-of-stake, community governance\n",
    "- **permissionless**: open access, no control, equal network access\n",
    "- **regulatory compliance**: legal adherence, privacy, optional metadata\n",
    "\n",
    "#### Era\n",
    "As development progresses, each phase may be modified with improvements.  \n",
    "Each improvement that have been implemented pushes the project into the next **[Era](https://cips.cardano.org/cips/cip59/feature-table.md.html)**:\n",
    "\n",
    "|ERA|PHASE|\n",
    "|-|-|\n",
    "|<b class=\"ttooltip\">Byron<span class=\"tooltiptext\">During this era, the Cardano blockchain was created and the first version of the Cardano wallet, Daedalus, was released in 2015.</span></b>|<b><span style=\"color:#03B65E\">BYRON</span></b>|\n",
    "|<b class=\"ttooltip\">Shelley<span class=\"tooltiptext\">During this era, staking and delegation features were introduced, allowing for a more decentralized network.</span></b>|<b><span style=\"color:#5A9BFD\">SHELLEY</span></b>|\n",
    "|<b class=\"ttooltip\">Allegra<span class=\"tooltiptext\">During this era, multi-asset support allow the creation and use of custom tokens.</span></b>|<b><span style=\"color:#822DBE\">GOGUEN</span></b>|\n",
    "|<b class=\"ttooltip\">Mary<span class=\"tooltiptext\">During this era, introduced native token metadata and token scripting.</span></b>|<b><span style=\"color:#822DBE\">GOGUEN</span></b>|\n",
    "|<b class=\"ttooltip\">Alonzo<span class=\"tooltiptext\">During this era, activated a new consensus algorithm called Plutus and a new virtual machine (IELE), that allow execution of smart contracts written in a variety of programming languages.</span></b>|<b><span style=\"color:#822DBE\">GOGUEN</span></b>|\n",
    "|<b class=\"ttooltip\">Babbage<span class=\"tooltiptext\">During this era, improved performance and scalability.</span></b>|<b><span style=\"color:#822DBE\">GOGUEN</span></b>|\n",
    "|<b class=\"ttooltip\">Conway<span class=\"tooltiptext\">During this era, integration of sidechains, reference scripts and compatibility with the Ethereum Virtual Machine (EVM).</span></b>|<b><span style=\"color:#E6AA00\">BASHO</span></b>|\n",
    "|<p class=\"ttooltip\">...<span class=\"tooltiptext\">upcoming, in the process of being developed (CIP-1694). The transition into a fully decentralized and self-sustaining system by implementing a voting and treasury system.</span></p>|<b><span style=\"color:#EB2250\">VOLTAIRE</span></b>|\n",
    "\n",
    "\n",
    "The timeline and specific features of each era may change as development progresses,  \n",
    "and the team may also add new eras or milestones as they see fit.  \n",
    "This notebook will surely become outdated, further advancements  \n",
    "will be taken through the **[CIP (Cardano Improvement Proposal)](https://cips.cardano.org/)** process,  \n",
    "a formal process for proposing and implementing changes to the Cardano blockchain protocol.  \n",
    "It is a way for community members to propose, discuss and vote  \n",
    "on changes to the protocol that will improve the overall ecosystem.  "
   ]
  },
  {
   "cell_type": "markdown",
   "id": "9ff532ec",
   "metadata": {},
   "source": [
    "## Sync\n",
    "\n",
    "Since you started up the cardano-node and cardano-wallet,  \n",
    "the blockchain complete history is being downloaded and synchronising.  \n",
    "Be patient and waiting for this can take many hours depending on your available server resources.  \n",
    "Only after the synchronisation is 100% can the wallet functionality be used. \n",
    "\n",
    "**sync progress ready check** using the Wallet through **[API](https://input-output-hk.github.io/cardano-wallet/api/edge/)**"
   ]
  },
  {
   "cell_type": "code",
   "execution_count": 18,
   "id": "5ce542e0",
   "metadata": {},
   "outputs": [
    {
     "name": "stdout",
     "output_type": "stream",
     "text": [
      "{\n",
      "  \"network_info\": {\n",
      "    \"network_id\": \"testnet\",\n",
      "    \"protocol_magic\": 2\n",
      "  },\n",
      "  \"network_tip\": {\n",
      "    \"absolute_slot_number\": 46018715,\n",
      "    \"epoch_number\": 532,\n",
      "    \"slot_number\": 53915,\n",
      "    \"time\": \"2024-04-09T14:58:35Z\"\n",
      "  },\n",
      "  \"next_epoch\": {\n",
      "    \"epoch_number\": 533,\n",
      "    \"epoch_start_time\": \"2024-04-10T00:00:00Z\"\n",
      "  },\n",
      "  \"node_era\": \"babbage\",\n",
      "  \"node_tip\": {\n",
      "    \"absolute_slot_number\": 46018692,\n",
      "    \"epoch_number\": 532,\n",
      "    \"height\": {\n",
      "      \"quantity\": 1969744,\n",
      "      \"unit\": \"block\"\n",
      "    },\n",
      "    \"slot_number\": 53892,\n",
      "    \"time\": \"2024-04-09T14:58:12Z\"\n",
      "  },\n",
      "  \"sync_progress\": {\n",
      "    \"status\": \"ready\"\n",
      "  },\n",
      "  \"wallet_mode\": \"node\"\n",
      "}\n"
     ]
    }
   ],
   "source": [
    "response = requests.get('http://localhost:8090/v2/network/information')\n",
    "data = json.loads(response.text)\n",
    "print(json.dumps(data, indent=2))"
   ]
  },
  {
   "cell_type": "markdown",
   "id": "5d8642b4",
   "metadata": {},
   "source": [
    "**sync progress 100% check** using **[cardano-cli](https://github.com/input-output-hk/cardano-node/blob/master/doc/reference/cardano-node-cli-reference.md/)**"
   ]
  },
  {
   "cell_type": "code",
   "execution_count": 19,
   "id": "7a4a51dc",
   "metadata": {},
   "outputs": [
    {
     "name": "stdout",
     "output_type": "stream",
     "text": [
      "{\n",
      "    \"block\": 1969744,\n",
      "    \"epoch\": 532,\n",
      "    \"era\": \"Babbage\",\n",
      "    \"hash\": \"39e9dcdea552576a610413453f50a919f672fda5763e7ddc7dd9b583bccf1a70\",\n",
      "    \"slot\": 46018692,\n",
      "    \"slotInEpoch\": 53892,\n",
      "    \"slotsToEpochEnd\": 32508,\n",
      "    \"syncProgress\": \"100.00\"\n",
      "}\n",
      "Tue Apr  9 16:58:38 CEST 2024\n"
     ]
    }
   ],
   "source": [
    "# retrieve the current highest block number, sync progress and its hash on the network\n",
    "!cardano-cli query tip --testnet-magic 2\n",
    "# show the current date\n",
    "!date"
   ]
  },
  {
   "cell_type": "code",
   "execution_count": 20,
   "id": "26bb11e9",
   "metadata": {},
   "outputs": [
    {
     "name": "stdout",
     "output_type": "stream",
     "text": [
      "Cardano DB Size: 8.5G\r\n",
      "Wallet DB Size : 342M\r\n"
     ]
    }
   ],
   "source": [
    "# Cardano \"preview\" node and wallet database storage usage size\n",
    "!echo \"Cardano DB Size: $(du -sh ~/cardano/db/ | cut -f1)\" && echo \"Wallet DB Size : $(du -sh ~/cardano/wallet-db/ | cut -f1)\""
   ]
  },
  {
   "cell_type": "code",
   "execution_count": 21,
   "id": "93b3eb91",
   "metadata": {},
   "outputs": [
    {
     "name": "stdout",
     "output_type": "stream",
     "text": [
      "Filesystem     1M-blocks    Used Available Use% Mounted on\r\n",
      "/dev/root        247920M 190800M    57105M  77% /\r\n"
     ]
    }
   ],
   "source": [
    "# Displays disk space for /home in MB: total, used, available and usage percentage\n",
    "!df -B M /home"
   ]
  },
  {
   "cell_type": "markdown",
   "id": "7aaa0bac",
   "metadata": {},
   "source": [
    "## Wallet\n",
    "\n",
    "A wallet allow a user to manage your ownership to sign transactions on the blockchain.  \n",
    "A transaction allow you to approve a contract script to change it's state,  \n",
    "similar to a personal signature to approve a paper contract.  \n",
    "A transaction allow you as the owner to prove that you can spend funds.  \n",
    "A transaction allow you to confirm your login credential on a website as a trusted identity.  \n",
    "Cryptography techniques allow you to authenticate and authorize the <b class=\"ttooltip\">inputs<span class=\"tooltiptext\">adresses being spent from</span></b> and the <b class=\"ttooltip\">outputs<span class=\"tooltiptext\">the addresses being sent to</span></b>  \n",
    "to be processed on the blockchain network.  \n",
    "The wallet manages the private keys and public addresses and never holds ADA,  \n",
    "the blockchain itself holds your ADA, tokens, NFT, script, and more.  \n",
    "![enable a transaction](../../image/private-sign-key_enable-transaction.png)\n",
    "\n",
    "#### transaction process\n",
    "\n",
    "1. transaction is **constructed** by the sender, including inputs and outputs\n",
    "1. transaction is **hashed**, creating a unique fingerprint of transaction data\n",
    "1. the private key is used to **sign** the hash of the transaction, creating a digital signature\n",
    "1. the public key is added to the digital signature, used to **verify** the signature\n",
    "1. the signed transaction is **broadcast** to the network for validation and inclusion in the blockchain\n",
    "\n",
    "**note:** The private key must be kept secure at all times.  \n",
    "Anyone with access can sign and authorize transactions.  \n",
    "[**Cardano Developer Portal Guide**](https://developers.cardano.org/docs/integrate-cardano/creating-wallet-faucet/#creating-a-wallet)  \n",
    "\n",
    "#### transaction methods\n",
    "list of options to sign and submit cardano transactions\n",
    "\n",
    "| method | sync | use case |\n",
    "| ------ | ---- | -------- |\n",
    "| **<span class=\"ttooltip\">cardano-wallet<span class=\"tooltiptext\">managing wallets, including transaction building and submission at the command-line or as a REST service</span></span>** | **<span class=\"ttooltip\" style=\"color: navy;\">full-node<span class=\"tooltiptext\">downloading the entire blockchain provide complete autonomy and privacy but require more time to sync.</span></span>** | wallet creation, transaction building, submission and tracking balance |\n",
    "| **<span class=\"ttooltip\">cardano-cli<span class=\"tooltiptext\">operating a Cardano node and managing transactions, keys, and addresses at the command-line</span></span>** | **<span class=\"ttooltip\" style=\"color: navy;\">full-node<span class=\"tooltiptext\">downloading the entire blockchain provide complete autonomy and privacy but require more time to sync.</span></span>** | advanced blockchain operations and development |\n",
    "| **<span class=\"ttooltip\">marlowe-cli<span class=\"tooltiptext\">create, manage and analyze Marlowe smart contracts at the command-line</span></span>** | **<span class=\"ttooltip\" style=\"color: navy;\">full-node<span class=\"tooltiptext\">downloading the entire blockchain provide complete autonomy and privacy but require more time to sync.</span></span>** | creating and managing marlowe contracts |\n",
    "| **<span class=\"ttooltip\">marlowe-runtime-cli<span class=\"tooltiptext\">deploying and interacting with Marlowe smart contracts using command-line through a remote runtime REST API, requires separate tools for transaction signing</span></span>** | **<span class=\"ttooltip\" style=\"color: navy;\">full-node<span class=\"tooltiptext\">downloading the entire blockchain provide complete autonomy and privacy but require more time to sync.</span></span>** | deploying and interacting with marlowe contracts |\n",
    "| **<span class=\"ttooltip\">browser extension<span class=\"tooltiptext\">manage wallets, including transactions at the browser extension.</span></span>** | **<span class=\"ttooltip\" style=\"color: skyblue;\">light-node<span class=\"tooltiptext\">light wallets sync quickly by connecting to a full-node server. This means users can start transacting almost immediately after setup.</span></span>** | sign transactions and CIP-30 wallet management (Eternl, Nami, Lace) |\n",
    "\n",
    "This notebook begins with a focus on using `cardano-wallet` and `cardano-cli` for generating addresses and managing wallets, providing foundational understanding of transaction methods in Cardano. As we progress, more sophisticated methods, including secure web dApp methods, will be explored to demonstrate practical applications of managing wallets securely and efficiently.\n",
    "\n",
    "\n",
    "\n",
    "  \n",
    "By running \"cardano-node run\" earlier, we use a full node setup.  \n",
    "A wallet can create or restore an existing wallet given a name, a password and generate a <b class=\"ttooltip\">mnemonic phrase<span class=\"tooltiptext\">A mnemonic phrase is a set of words that can be used to restore the wallet if it is lost or stolen. It is important that the user writes down the mnemonic phrase and stores it in a safe place, as it cannot be recovered if lost.</span></b>.  \n",
    "\n",
    "\n",
    "\n",
    "### generating keys\n",
    "\n",
    "#### mnemonic\n",
    "\n",
    "A wallet can create or restore an existing wallet by providing a name, a password, and generating a mnemonic phrase.  \n",
    "This phrase is crucial for wallet recovery and must be stored securely.\n",
    "\n",
    "This notebook demonstrates using the **cardano-cli** tool to generate  \n",
    "the public address (`*.address`), and the private (`*.skey`) and public (`*.vkey`) keys from a mnemonic phrase.\n",
    "\n",
    "mnemonic phrase (must be a multiple of 3 words):  \n",
    "\n",
    "  * 12 words (Byron legacy wallet)\n",
    "  * 15 words (Incentivised Testnet Rewards wallet)\n",
    "  * **24 words** (Shelley wallet)\n",
    "  * 27 words (Byron legacy paper wallet)\n",
    "  \n",
    "generate new mnemonic phrase using <b class=\"ttooltip\">BIP39<span class=\"tooltiptext\">A standard that defines how to generate a mnemonic phrase from a random seed with error correction. ex: <br>\"cash\" -> # 282 -> 00100011010(11bit)<br>\"antique\" -> # 79 -> 00001001111(11bit)<br>\"chimney\" -> # 320 -> 00101000000(11bit)</span></b>  \n",
    "\n",
    "[**BIP39 english wordlist**](https://raw.githubusercontent.com/bitcoin/bips/master/bip-0039/english.txt)\n",
    "[**BIP39 explanation video**](https://www.youtube.com/watch?v=5P1jx1ELUHk)  \n",
    "[**how secure are seed phrases**](https://www.reddit.com/r/CryptoCurrency/comments/w0bv37/how_secure_are_seed_phrases)  "
   ]
  },
  {
   "cell_type": "code",
   "execution_count": 22,
   "id": "58400ca5",
   "metadata": {},
   "outputs": [
    {
     "name": "stdout",
     "output_type": "stream",
     "text": [
      "primary they trust clip surge message indicate fiscal museum vacuum solar empty fog jaguar anger genre risk reason shine family luggage man night become\r\n"
     ]
    }
   ],
   "source": [
    "!cardano-wallet recovery-phrase generate --size 24 > funds.seed\n",
    "!cat funds.seed"
   ]
  },
  {
   "cell_type": "markdown",
   "id": "4cd14b7f",
   "metadata": {},
   "source": [
    "#### root key\n",
    "\n",
    "Convert the mnemonic phrase into the <b class=\"ttooltip\">root key<span class=\"tooltiptext\">The top-level key in a hierarchical deterministic (HD) wallet that is used to derive all other keys.</span></b>.  "
   ]
  },
  {
   "cell_type": "code",
   "execution_count": 23,
   "id": "54311f39",
   "metadata": {},
   "outputs": [
    {
     "name": "stdout",
     "output_type": "stream",
     "text": [
      "root_xsk1nrp6rujyy5wtqpth9j589cjtuzahzd02qgczqznmxtg3rd28jfpa0zpwfp039lttu8hvd77alntx2zk8mq5jm57swq92f90kuyndgjfpvjf5r3yglrswvmc2lj9lvd76yhjjx6836nvha80hyc6uf5rh3qykzgkk"
     ]
    }
   ],
   "source": [
    "!cat funds.seed | cardano-wallet key from-recovery-phrase Shelley > rootkey.prv\n",
    "!cat rootkey.prv"
   ]
  },
  {
   "cell_type": "markdown",
   "id": "c8800438",
   "metadata": {},
   "source": [
    "#### key derivation\n",
    "\n",
    "[**BIP44 explanation video**](https://www.youtube.com/watch?v=4tSQBK75CPU)  \n",
    "[**CIP-1852**](https://cips.cardano.org/cips/cip1852/)  \n",
    "[**IOHK Guide**](https://input-output-hk.github.io/cardano-wallet/concepts/address-derivation)  \n",
    "\n",
    "Generate private keys and public keys from the root key using <b class=\"ttooltip\">CIP-1852<span class=\"tooltiptext\">A Cardano Improvement Proposal that defines a new format for representing a private key in a mnemonic phrase, it also defines a new format for representation of a public key and an address.</span></b> extension on <b class=\"ttooltip\">BIP44<span class=\"tooltiptext\">A standard for HD wallets that defines how to derive a tree of keys from a single seed, it also defines a specific key derivation path for Cardano.</span></b>.  \n",
    "  \n",
    "**example, why it matters:**  \n",
    "In the context of digital identity management with a **root key** is crucial for maintaining multiple identities  \n",
    "for various online platforms, as it offers greater control over the information shared with each platform.  \n",
    "**private keys** are necessary for securely managing these identities,  \n",
    "and key derivation addresses ensure that each identity is unique and secure.  \n",
    "This prevents the linkage of your online activities and the tracking of your behavior across different platforms,  \n",
    "providing enhanced security and privacy in modern-day online interactions.  \n",
    "\n",
    "|root|(purpose)H|(coin_type)H|(account)H|(role)S<br>(change)S|(index)S|represent|\n",
    "|-|-|-|-|-|-|-|\n",
    "|root|<b class=\"ttooltip\">1852H<span class=\"tooltiptext\">Byron-era used 44', Shelley-era use 1852', tells the whole world that this is for Cardano.</span></b>|<b class=\"ttooltip\">1815H<span class=\"tooltiptext\">1815' tells the whole world that this is ADA</span></b>|<b class=\"ttooltip\">0H<span class=\"tooltiptext\">0' some wallets allow you to manage multiple accounts, the first one is account id 0</span></b>|<b class=\"ttooltip\">0<span class=\"tooltiptext\">external chain, for receiving payments</span></b>|<b class=\"ttooltip\">0<span class=\"tooltiptext\">first address with index id 0 pointing to the address.</span></b>|external (receiving key), the first one or \"base address\"|\n",
    "|root|<b class=\"ttooltip\">1852H<span class=\"tooltiptext\">Byron-era used 44', Shelley-era use 1852', tells the whole world that this is for Cardano.</span></b>|<b class=\"ttooltip\">1815H<span class=\"tooltiptext\">1815' tells the whole world that this is ADA</span></b>|<b class=\"ttooltip\">0H<span class=\"tooltiptext\">0' some wallets allow you to manage multiple accounts, the first one is account id 0</span></b>|<b class=\"ttooltip\">0<span class=\"tooltiptext\">external chain, for receiving payments</span></b>|<b class=\"ttooltip\">1<span class=\"tooltiptext\">second address with index id 1 pointing to the address.</span></b>|external (receiving key), the second one|\n",
    "|root|<b class=\"ttooltip\">1852H<span class=\"tooltiptext\">Byron-era used 44', Shelley-era use 1852', tells the whole world that this is for Cardano.</span></b>|<b class=\"ttooltip\">1815H<span class=\"tooltiptext\">1815' tells the whole world that this is ADA</span></b>|<b class=\"ttooltip\">0H<span class=\"tooltiptext\">0' some wallets allow you to manage multiple accounts, the first one is account id 0</span></b>|<b class=\"ttooltip\">1<span class=\"tooltiptext\">internal chain, invisible wallet, change address for return transactions</span></b>|<b class=\"ttooltip\">0<span class=\"tooltiptext\">first address with index id 0 pointing to the address.</span></b>|internal (change key), the first one|\n",
    "|root|<b class=\"ttooltip\">1852H<span class=\"tooltiptext\">Byron-era used 44', Shelley-era use 1852', tells the whole world that this is for Cardano.</span></b>|<b class=\"ttooltip\">1815H<span class=\"tooltiptext\">1815' tells the whole world that this is ADA</span></b>|<b class=\"ttooltip\">0H<span class=\"tooltiptext\">0' some wallets allow you to manage multiple accounts, the first one is account id 0</span></b>|<b class=\"ttooltip\">2<span class=\"tooltiptext\">staking key path</span></b>|<b class=\"ttooltip\">0<span class=\"tooltiptext\">first address with index id 0 pointing to the address.</span></b>|external (stake key), the first one|\n",
    "\n",
    "![key_derivation](../../image/key_derivation.png)\n",
    "\n",
    "**note:** H represents Hard derived, not allowed to make a public key from this depth.  \n",
    "**note:** S respresents Soft derived, allowed to make a public key from this depth.  \n",
    "\n",
    "---\n",
    "* root key > private key > signing keys\n",
    "  * payment signing key (**payment.skey**)\n",
    "  * stake signing key (stake.skey)\n",
    "* root key > public key > verification keys\n",
    "  * payment verification key (**payment.vkey**)\n",
    "  * stake verification key (stake.vkey)  \n",
    "\n",
    "rootkey.prv > payment.prv > **payment.skey** > <b><span style=\"color:green\">payment.vkey</span></b> (1852H/1815H/0H/**0**/0)  "
   ]
  },
  {
   "cell_type": "code",
   "execution_count": 24,
   "id": "4b1ee982",
   "metadata": {},
   "outputs": [],
   "source": [
    "!cat rootkey.prv | cardano-wallet key child 1852H/1815H/0H/0/0 > payment.prv\n",
    "!cardano-cli key convert-cardano-address-key --shelley-payment-key --signing-key-file payment.prv --out-file payment.skey\n",
    "!cardano-cli key verification-key --signing-key-file payment.skey --verification-key-file payment.vkey"
   ]
  },
  {
   "cell_type": "markdown",
   "id": "0094f726",
   "metadata": {},
   "source": [
    "* root key > private key > signing keys\n",
    "  * payment signing key (payment.skey)\n",
    "  * stake signing key (**stake.skey**)\n",
    "* root key > public key > verification keys\n",
    "  * payment verification key (payment.vkey)\n",
    "  * stake verification key (**stake.vkey**)\n",
    "  \n",
    "rootkey.prv > stake.prv > **stake.skey** > <b><span style=\"color:orange\">stake.vkey</span></b> (1852H/1815H/0H/**2**/0)  "
   ]
  },
  {
   "cell_type": "code",
   "execution_count": 25,
   "id": "09748f66",
   "metadata": {},
   "outputs": [],
   "source": [
    "!cat rootkey.prv | cardano-wallet key child 1852H/1815H/0H/2/0 > stake.prv\n",
    "!cardano-cli key convert-cardano-address-key --shelley-stake-key --signing-key-file stake.prv --out-file stake.skey\n",
    "!cardano-cli key verification-key --signing-key-file stake.skey --verification-key-file stake.vkey\n",
    "!cardano-cli key non-extended-key --extended-verification-key-file stake.vkey --verification-key-file stake.vkey"
   ]
  },
  {
   "cell_type": "markdown",
   "id": "54b63782",
   "metadata": {},
   "source": [
    "### generating address\n",
    "\n",
    "Defined in <b class=\"ttooltip\">CIP-19<span class=\"tooltiptext\">A Cardano Improvement Proposal that defines a new format for representation of a public key and an address.</span></b> there are 3 address categories in Cardano,  \n",
    "which include a total of 11 address types of Byron(1), Shelley(8), and Stake(2).  \n",
    "<b class=\"ttooltip\">Base58<span class=\"tooltiptext\">A format for encoding a public key hash into a human-readable address. 58 characters, including upper and lowercase A-Z and 1-9, excludes zero, 'O', 'I' and 'l', to avoid reader confusion.</span></b> was used for the Byron addresses, inspired by Bitcoin.  \n",
    "<b class=\"ttooltip\">Bech32<span class=\"tooltiptext\">A format for encoding a public key hash into a human-readable address. entirely lower case. If a user does make an error when inputting an address, Bech32 can identify which characters are likely incorrect. Uses Bip32-Ed25519 for safer key generation and signing</span></b> is an improvement on Base58, now used for both Shelley and Stake addresses in Cardano.  \n",
    "\n",
    "[**CIP-19**](https://cips.cardano.org/cips/cip19)  \n",
    "[**Base58**](https://datatracker.ietf.org/doc/html/draft-msporny-base58)  \n",
    "[**CIP-5** (**Bech32**)](https://cips.cardano.org/cips/cip5/)  \n",
    "\n",
    "|type|header|Payload|represent|encoding|\n",
    "|-|-|-|-|-|\n",
    "|0|0000<p class=\"ttooltip\">nnnn<span class=\"tooltiptext\">nnnn = \"0000\" (testnet)<br>nnnn = \"0001\" (mainnet)</span></p>|<b><span style=\"color:green\">PaymentKeyHash</span></b> + <b><span style=\"color:orange\">StakeKeyHash</span></b>|Base Shelley address|Bech32|\n",
    "|1|0001<p class=\"ttooltip\">nnnn<span class=\"tooltiptext\">nnnn = \"0000\" (testnet)<br>nnnn = \"0001\" (mainnet)</span></p>|<b><span style=\"color:purple\">ScriptHash</span></b> + <b><span style=\"color:orange\">StakeKeyHash</span></b>|Base Shelley address|Bech32|\n",
    "|2|0010<p class=\"ttooltip\">nnnn<span class=\"tooltiptext\">nnnn = \"0000\" (testnet)<br>nnnn = \"0001\" (mainnet)</span></p>|<b><span style=\"color:green\">PaymentKeyHash</span></b> + <b><span style=\"color:purple\">ScriptHash</span></b>|Base Shelley address|Bech32|\n",
    "|3|0011<p class=\"ttooltip\">nnnn<span class=\"tooltiptext\">nnnn = \"0000\" (testnet)<br>nnnn = \"0001\" (mainnet)</span></p>|<b><span style=\"color:purple\">ScriptHash</span></b> + <b><span style=\"color:purple\">ScriptHash</span></b>|Base Shelley address|Bech32|\n",
    "|4|0100<p class=\"ttooltip\">nnnn<span class=\"tooltiptext\">nnnn = \"0000\" (testnet)<br>nnnn = \"0001\" (mainnet)</span></p>|<b><span style=\"color:green\">PaymentKeyHash</span></b> + <b><span style=\"color:blue\">Pointer</span></b>|Pointer Shelley address|Bech32|\n",
    "|5|0101<p class=\"ttooltip\">nnnn<span class=\"tooltiptext\">nnnn = \"0000\" (testnet)<br>nnnn = \"0001\" (mainnet)</span></p>|<b><span style=\"color:purple\">ScriptHash</span></b> + <b><span style=\"color:blue\">Pointer</span></b>|Pointer Shelley address|Bech32|\n",
    "|6|0110<p class=\"ttooltip\">nnnn<span class=\"tooltiptext\">nnnn = \"0000\" (testnet)<br>nnnn = \"0001\" (mainnet)</span></p>|<b><span style=\"color:green\">PaymentKeyHash</span></b>|Payment Shelley address|Bech32|\n",
    "|7|0111<p class=\"ttooltip\">nnnn<span class=\"tooltiptext\">nnnn = \"0000\" (testnet)<br>nnnn = \"0001\" (mainnet)</span></p>|<b><span style=\"color:purple\">ScriptHash</span></b>|Payment Shelley address|Bech32|\n",
    "|8|1000<p class=\"ttooltip\">nnnn<span class=\"tooltiptext\">nnnn = \"0000\" (testnet)<br>nnnn = \"0001\" (mainnet)</span></p>|-|Byron / Bootstrap address|<span style=\"color:red\">Base58</span>|\n",
    "|14|1110<p class=\"ttooltip\">nnnn<span class=\"tooltiptext\">nnnn = \"0000\" (testnet)<br>nnnn = \"0001\" (mainnet)</span></p>|<b><span style=\"color:orange\">StakeKeyHash</span></b>|Stake Shelley address|Bech32|\n",
    "|15|1111<p class=\"ttooltip\">nnnn<span class=\"tooltiptext\">nnnn = \"0000\" (testnet)<br>nnnn = \"0001\" (mainnet)</span></p>|<b><span style=\"color:purple\">ScriptHash</span></b>|Stake Shelley address|Bech32|  \n",
    "\n",
    "---\n",
    "![shelley_addresses](../../image/shelley_addresses.png)\n",
    "\n",
    "---\n",
    "**wallet default:** with <b><span style=\"color:green\">PaymentKeyHash</span></b> + <b><span style=\"color:orange\">StakeKeyHash</span></b>  \n",
    "payment verification key (<b><span style=\"color:green\">payment.vkey</span></b>) + stake verification key (<b><span style=\"color:orange\">stake.vkey</span></b>)  "
   ]
  },
  {
   "cell_type": "code",
   "execution_count": 26,
   "id": "676d0784",
   "metadata": {},
   "outputs": [
    {
     "name": "stdout",
     "output_type": "stream",
     "text": [
      "addr_test1qrf3977xlrq29papwzxrmlu6ae0yjnvraatf9zx76m9f02jtefw5mcn2fwnrdjy0eam0gna86la6v9k6t2l6k5h7lqdsnpnfdh"
     ]
    }
   ],
   "source": [
    "!cardano-cli address build \\\n",
    "    --payment-verification-key-file payment.vkey \\\n",
    "    --stake-verification-key-file stake.vkey \\\n",
    "    --out-file payment.addr \\\n",
    "    --testnet-magic 2\n",
    "!cat payment.addr"
   ]
  },
  {
   "cell_type": "markdown",
   "id": "5d9310a2",
   "metadata": {},
   "source": [
    "---\n",
    "**notebook:** will use <b><span style=\"color:green\">PaymentKeyHash</span></b>  \n",
    "payment verification key (<b><span style=\"color:green\">payment.vkey</span></b>)  "
   ]
  },
  {
   "cell_type": "code",
   "execution_count": 27,
   "id": "01e8780d",
   "metadata": {},
   "outputs": [
    {
     "name": "stdout",
     "output_type": "stream",
     "text": [
      "addr_test1vrf3977xlrq29papwzxrmlu6ae0yjnvraatf9zx76m9f02s9g9rvw"
     ]
    }
   ],
   "source": [
    "!cardano-cli address build \\\n",
    "    --payment-verification-key-file payment.vkey \\\n",
    "    --out-file payment.addr \\\n",
    "    --testnet-magic 2\n",
    "!cat payment.addr"
   ]
  },
  {
   "cell_type": "markdown",
   "id": "8630debd",
   "metadata": {},
   "source": [
    "---\n",
    "For example a pure stake address  \n",
    "stake verification key (<b><span style=\"color:orange\">stake.vkey</span></b>)  "
   ]
  },
  {
   "cell_type": "code",
   "execution_count": 28,
   "id": "6dc36181",
   "metadata": {},
   "outputs": [
    {
     "name": "stdout",
     "output_type": "stream",
     "text": [
      "stake_test1up9u5h2duf4yhf3kez8u7ah5f7na07axzmd940at2tl0sxc0t8pmv"
     ]
    }
   ],
   "source": [
    "!cardano-cli stake-address build \\\n",
    "    --stake-verification-key-file stake.vkey \\\n",
    "    --out-file stake.addr \\\n",
    "    --testnet-magic 2\n",
    "!cat stake.addr"
   ]
  },
  {
   "cell_type": "markdown",
   "id": "d9575f73",
   "metadata": {},
   "source": [
    "**note:** This address **CAN'T** receive payments but will receive the rewards from participating in a <b class=\"ttooltip\">Pool<span class=\"tooltiptext\">part of the security and governance of the Cardano proof-of-stake blockchain. When you delegate your funds to a staking pool, you are participating in the network by validating new blocks and processing transactions.</span></b>.\n",
    "\n",
    "#### clean up\n",
    "\n",
    "You only need to sign transactions and specify where funds come or go.  \n",
    "On occasion, use the payment signing key to mint a token.  \n",
    "Recommendation: It's safer to restrict these files to owner access only.  "
   ]
  },
  {
   "cell_type": "code",
   "execution_count": 29,
   "id": "96f7b8c9",
   "metadata": {},
   "outputs": [
    {
     "name": "stdout",
     "output_type": "stream",
     "text": [
      "-rw------- 1 ubuntu ubuntu 153 Apr  9 16:58 funds.seed\r\n",
      "-rw------- 1 ubuntu ubuntu  63 Apr  9 16:59 payment.addr\r\n",
      "-rw------- 1 ubuntu ubuntu 169 Apr  9 16:58 payment.prv\r\n",
      "-rw------- 1 ubuntu ubuntu 367 Apr  9 16:58 payment.skey\r\n",
      "-rw------- 1 ubuntu ubuntu 244 Apr  9 16:58 payment.vkey\r\n",
      "-rw------- 1 ubuntu ubuntu 169 Apr  9 16:58 rootkey.prv\r\n",
      "-rw------- 1 ubuntu ubuntu  64 Apr  9 16:59 stake.addr\r\n",
      "-rw------- 1 ubuntu ubuntu 170 Apr  9 16:58 stake.prv\r\n",
      "-rw------- 1 ubuntu ubuntu 365 Apr  9 16:58 stake.skey\r\n",
      "-rw------- 1 ubuntu ubuntu 186 Apr  9 16:59 stake.vkey\r\n"
     ]
    }
   ],
   "source": [
    "!chmod 600 rootkey.* payment.* stake.* *.seed\n",
    "!ls -al rootkey.* payment.* stake.* funds.seed"
   ]
  },
  {
   "cell_type": "markdown",
   "id": "96206964",
   "metadata": {},
   "source": [
    "directory  \n",
    "├── 🔒 <b style=\"color:navy\">funds.seed</b>  \n",
    "├── 👁️ <b style=\"color:skyblue\">payment.addr</b>  \n",
    "├── 🗑️ <s>payment.prv</s>  \n",
    "├── 🔒 <b style=\"color:navy\">payment.skey</b>  \n",
    "├── 🔒 <b style=\"color:navy\">payment.vkey</b>  \n",
    "├── 🗑️ <s>rootkey.prv</s>  \n",
    "├── 🗑️ <s>stake.addr</s>  \n",
    "├── 🗑️ <s>stake.prv</s>  \n",
    "├── 🗑️ <s>stake.skey</s>  \n",
    "└── 🗑️ <s>stake.vkey</s>  \n",
    "  \n",
    "0 directories, 2 files  "
   ]
  },
  {
   "cell_type": "code",
   "execution_count": 30,
   "id": "471d719d",
   "metadata": {},
   "outputs": [
    {
     "name": "stdout",
     "output_type": "stream",
     "text": [
      "-rw------- 1 ubuntu ubuntu 153 Apr  9 16:58 funds.seed\r\n",
      "-rw------- 1 ubuntu ubuntu  63 Apr  9 16:59 payment.addr\r\n",
      "-rw------- 1 ubuntu ubuntu 367 Apr  9 16:58 payment.skey\r\n",
      "-rw------- 1 ubuntu ubuntu 244 Apr  9 16:58 payment.vkey\r\n"
     ]
    }
   ],
   "source": [
    "# remove files (striked-through) \n",
    "!rm *.prv stake.skey stake.vkey stake.addr\n",
    "# list remaining files (you be responsible with security best practices)\n",
    "!ls -l payment.* funds.seed"
   ]
  },
  {
   "cell_type": "markdown",
   "id": "aa467a38",
   "metadata": {},
   "source": [
    "## Contract\n",
    "\n",
    "### code javascript\n",
    "\n",
    "We can develop a smart contract in different ways, javascript, haskell, marlowe, plutus, aiken, opshin, plu-ts and more in the future.  \n",
    "This example was written by Marco in javascript (.js) and code can be [**found here.**](https://gist.github.com/marco-martins/670832702aaa2c9258cfecef5a1b7fa3)  \n",
    "The idea here is to have 2 wallet users each sending a certain amount in ADA  \n",
    "and then the script exchange what the other person sended, called a swap.  \n",
    "Consult the [**marlowe playground**](https://play.marlowe-finance.io/#/) for editing and simulating how this works.  \n",
    "![marlowe playground javascript code replacement](../../image/marlowe_playground_swap_javascript.png)  \n",
    "\n",
    "### code marlowe\n",
    "\n",
    "Alternatively you can use the following **Marlowe** code (also found after compilation).  \n",
    "\n",
    "```sh\n",
    "When\n",
    "    [Case\n",
    "        (Deposit\n",
    "            (Role \"Seller\")\n",
    "            (Role \"Seller\")\n",
    "            (Token \"\" \"\")\n",
    "            (ConstantParam \"Seller Amount\")\n",
    "        )\n",
    "        (When\n",
    "            [Case\n",
    "                (Deposit\n",
    "                    (Role \"Buyer\")\n",
    "                    (Role \"Buyer\")\n",
    "                    (Token \"\" \"\")\n",
    "                    (ConstantParam \"Buyer Amount\")\n",
    "                )\n",
    "                (Pay\n",
    "                    (Role \"Seller\")\n",
    "                    (Party (Role \"Buyer\"))\n",
    "                    (Token \"\" \"\")\n",
    "                    (ConstantParam \"Seller Amount\")\n",
    "                    (Pay\n",
    "                        (Role \"Buyer\")\n",
    "                        (Party (Role \"Seller\"))\n",
    "                        (Token \"\" \"\")\n",
    "                        (ConstantParam \"Buyer Amount\")\n",
    "                        Close \n",
    "                    )\n",
    "                )]\n",
    "            (TimeParam \"Deadline\")\n",
    "            Close \n",
    "        )]\n",
    "    (TimeParam \"Deadline\")\n",
    "    Close \n",
    "```"
   ]
  },
  {
   "cell_type": "markdown",
   "id": "cb508629",
   "metadata": {},
   "source": [
    "### code blockly\n",
    "\n",
    "You can code visually, viewed as blocks using **blockly**.  \n",
    "\n",
    "[**Udemy course**](https://www.udemy.com/course/marlowe-programming-language/) &nbsp;&nbsp;&nbsp;&nbsp;&nbsp;&nbsp; (1hr 48min)  \n",
    "[**Youtube webinar**](https://www.youtube.com/watch?v=uwV35IE68dE) &nbsp;&nbsp;  (18min)  \n",
    "\n",
    "Below is a list of pre-build example contracts from [awesome-marlowe project](https://github.com/input-output-hk/awesome-marlowe)"
   ]
  },
  {
   "cell_type": "code",
   "execution_count": 31,
   "id": "adf3065b",
   "metadata": {},
   "outputs": [
    {
     "data": {
      "image/svg+xml": [
       "<svg xmlns:inkscape=\"http://www.inkscape.org/namespaces/inkscape\" xmlns:sodipodi=\"http://sodipodi.sourceforge.net/DTD/sodipodi-0.dtd\" xmlns:xlink=\"http://www.w3.org/1999/xlink\" xmlns=\"http://www.w3.org/2000/svg\" xmlns:svg=\"http://www.w3.org/2000/svg\" overflow=\"visible\" width=\"100%\" height=\"100%\" viewBox=\"0 0 416.71898 363.80199\" version=\"1.1\" id=\"svg5\" xml:space=\"preserve\" inkscape:version=\"1.2.1 (9c6d41e410, 2022-07-14)\" sodipodi:docname=\"gallery.svg\" inkscape:export-filename=\"gallery.png\" inkscape:export-xdpi=\"368.59372\" inkscape:export-ydpi=\"368.59372\"><sodipodi:namedview id=\"namedview7\" pagecolor=\"#ffffff\" bordercolor=\"#666666\" borderopacity=\"1.0\" inkscape:showpageshadow=\"2\" inkscape:pageopacity=\"1\" inkscape:pagecheckerboard=\"0\" inkscape:deskcolor=\"#d1d1d1\" inkscape:document-units=\"px\" showgrid=\"false\" inkscape:zoom=\"2.528578\" inkscape:cx=\"158.98264\" inkscape:cy=\"183.30461\" inkscape:window-width=\"1889\" inkscape:window-height=\"1056\" inkscape:window-x=\"31\" inkscape:window-y=\"0\" inkscape:window-maximized=\"1\" inkscape:current-layer=\"g2423-3\"/><defs id=\"defs2\"><inkscape:path-effect effect=\"fillet_chamfer\" id=\"path-effect6137\" is_visible=\"true\" lpeversion=\"1\" nodesatellites_param=\"F,0,0,1,0,5,0,1 @ F,0,0,1,0,5,0,1 @ F,0,0,1,0,5,0,1 @ F,0,0,1,0,5,0,1\" unit=\"px\" method=\"auto\" mode=\"F\" radius=\"5\" chamfer_steps=\"1\" flexible=\"false\" use_knot_distance=\"true\" apply_no_radius=\"true\" apply_with_radius=\"true\" only_selected=\"false\" hide_knots=\"false\"/><inkscape:path-effect effect=\"fillet_chamfer\" id=\"path-effect6117\" is_visible=\"true\" lpeversion=\"1\" nodesatellites_param=\"F,0,0,1,0,5,0,1 @ F,0,0,1,0,5,0,1 @ F,0,0,1,0,5,0,1 @ F,0,0,1,0,5,0,1\" unit=\"px\" method=\"auto\" mode=\"F\" radius=\"5\" chamfer_steps=\"1\" flexible=\"false\" use_knot_distance=\"true\" apply_no_radius=\"true\" apply_with_radius=\"true\" only_selected=\"false\" hide_knots=\"false\"/><inkscape:path-effect effect=\"fillet_chamfer\" id=\"path-effect6097\" is_visible=\"true\" lpeversion=\"1\" nodesatellites_param=\"F,0,0,1,0,5,0,1 @ F,0,0,1,0,5,0,1 @ F,0,0,1,0,5,0,1 @ F,0,0,1,0,5,0,1\" unit=\"px\" method=\"auto\" mode=\"F\" radius=\"5\" chamfer_steps=\"1\" flexible=\"false\" use_knot_distance=\"true\" apply_no_radius=\"true\" apply_with_radius=\"true\" only_selected=\"false\" hide_knots=\"false\"/><inkscape:path-effect effect=\"fillet_chamfer\" id=\"path-effect6075\" is_visible=\"true\" lpeversion=\"1\" nodesatellites_param=\"F,0,0,1,0,5,0,1 @ F,0,0,1,0,5,0,1 @ F,0,0,1,0,5,0,1 @ F,0,0,1,0,5,0,1\" unit=\"px\" method=\"auto\" mode=\"F\" radius=\"5\" chamfer_steps=\"1\" flexible=\"false\" use_knot_distance=\"true\" apply_no_radius=\"true\" apply_with_radius=\"true\" only_selected=\"false\" hide_knots=\"false\"/><inkscape:path-effect effect=\"fillet_chamfer\" id=\"path-effect6053\" is_visible=\"true\" lpeversion=\"1\" nodesatellites_param=\"F,0,0,1,0,5,0,1 @ F,0,0,1,0,5,0,1 @ F,0,0,1,0,5,0,1 @ F,0,0,1,0,5,0,1\" unit=\"px\" method=\"auto\" mode=\"F\" radius=\"5\" chamfer_steps=\"1\" flexible=\"false\" use_knot_distance=\"true\" apply_no_radius=\"true\" apply_with_radius=\"true\" only_selected=\"false\" hide_knots=\"false\"/><inkscape:path-effect effect=\"fillet_chamfer\" id=\"path-effect4913\" is_visible=\"true\" lpeversion=\"1\" nodesatellites_param=\"F,0,0,1,0,5,0,1 @ F,0,0,1,0,5,0,1 @ F,0,0,1,0,5,0,1 @ F,0,0,1,0,5,0,1\" unit=\"px\" method=\"auto\" mode=\"F\" radius=\"5\" chamfer_steps=\"1\" flexible=\"false\" use_knot_distance=\"true\" apply_no_radius=\"true\" apply_with_radius=\"true\" only_selected=\"false\" hide_knots=\"false\"/><inkscape:path-effect effect=\"fillet_chamfer\" id=\"path-effect4530\" is_visible=\"true\" lpeversion=\"1\" nodesatellites_param=\"F,0,0,1,0,5,0,1 @ F,0,0,1,0,5,0,1 @ F,0,0,1,0,5,0,1 @ F,0,0,1,0,5,0,1\" unit=\"px\" method=\"auto\" mode=\"F\" radius=\"5\" chamfer_steps=\"1\" flexible=\"false\" use_knot_distance=\"true\" apply_no_radius=\"true\" apply_with_radius=\"true\" only_selected=\"false\" hide_knots=\"false\"/><inkscape:path-effect effect=\"fillet_chamfer\" id=\"path-effect4508\" is_visible=\"true\" lpeversion=\"1\" nodesatellites_param=\"F,0,0,1,0,5,0,1 @ F,0,0,1,0,5,0,1 @ F,0,0,1,0,5,0,1 @ F,0,0,1,0,5,0,1\" unit=\"px\" method=\"auto\" mode=\"F\" radius=\"5\" chamfer_steps=\"1\" flexible=\"false\" use_knot_distance=\"true\" apply_no_radius=\"true\" apply_with_radius=\"true\" only_selected=\"false\" hide_knots=\"false\"/><inkscape:path-effect effect=\"fillet_chamfer\" id=\"path-effect4486\" is_visible=\"true\" lpeversion=\"1\" nodesatellites_param=\"F,0,0,1,0,5,0,1 @ F,0,0,1,0,5,0,1 @ F,0,0,1,0,5,0,1 @ F,0,0,1,0,5,0,1\" unit=\"px\" method=\"auto\" mode=\"F\" radius=\"5\" chamfer_steps=\"1\" flexible=\"false\" use_knot_distance=\"true\" apply_no_radius=\"true\" apply_with_radius=\"true\" only_selected=\"false\" hide_knots=\"false\"/><inkscape:path-effect effect=\"fillet_chamfer\" id=\"path-effect4464\" is_visible=\"true\" lpeversion=\"1\" nodesatellites_param=\"F,0,0,1,0,5,0,1 @ F,0,0,1,0,5,0,1 @ F,0,0,1,0,5,0,1 @ F,0,0,1,0,5,0,1\" unit=\"px\" method=\"auto\" mode=\"F\" radius=\"5\" chamfer_steps=\"1\" flexible=\"false\" use_knot_distance=\"true\" apply_no_radius=\"true\" apply_with_radius=\"true\" only_selected=\"false\" hide_knots=\"false\"/><inkscape:path-effect effect=\"fillet_chamfer\" id=\"path-effect4442\" is_visible=\"true\" lpeversion=\"1\" nodesatellites_param=\"F,0,0,1,0,5,0,1 @ F,0,0,1,0,5,0,1 @ F,0,0,1,0,5,0,1 @ F,0,0,1,0,5,0,1\" unit=\"px\" method=\"auto\" mode=\"F\" radius=\"5\" chamfer_steps=\"1\" flexible=\"false\" use_knot_distance=\"true\" apply_no_radius=\"true\" apply_with_radius=\"true\" only_selected=\"false\" hide_knots=\"false\"/><inkscape:path-effect effect=\"fillet_chamfer\" id=\"path-effect4420\" is_visible=\"true\" lpeversion=\"1\" nodesatellites_param=\"F,0,0,1,0,5,0,1 @ F,0,0,1,0,5,0,1 @ F,0,0,1,0,5,0,1 @ F,0,0,1,0,5,0,1\" unit=\"px\" method=\"auto\" mode=\"F\" radius=\"5\" chamfer_steps=\"1\" flexible=\"false\" use_knot_distance=\"true\" apply_no_radius=\"true\" apply_with_radius=\"true\" only_selected=\"false\" hide_knots=\"false\"/><inkscape:path-effect effect=\"fillet_chamfer\" id=\"path-effect4398\" is_visible=\"true\" lpeversion=\"1\" nodesatellites_param=\"F,0,0,1,0,5,0,1 @ F,0,0,1,0,5,0,1 @ F,0,0,1,0,5,0,1 @ F,0,0,1,0,5,0,1\" unit=\"px\" method=\"auto\" mode=\"F\" radius=\"5\" chamfer_steps=\"1\" flexible=\"false\" use_knot_distance=\"true\" apply_no_radius=\"true\" apply_with_radius=\"true\" only_selected=\"false\" hide_knots=\"false\"/><rect x=\"182.63728\" y=\"394.61771\" width=\"1252.9191\" height=\"47.997086\" id=\"rect4374\"/><rect x=\"185.10329\" y=\"393.62564\" width=\"787.23608\" height=\"46.474739\" id=\"rect4368\"/><rect x=\"175.60587\" y=\"244.31062\" width=\"798.08331\" height=\"64.221725\" id=\"rect4362\"/><inkscape:path-effect effect=\"fillet_chamfer\" id=\"path-effect3134\" is_visible=\"true\" lpeversion=\"1\" nodesatellites_param=\"F,0,0,1,0,5,0,1 @ F,0,0,1,0,5,0,1 @ F,0,0,1,0,5,0,1 @ F,0,0,1,0,5,0,1\" unit=\"px\" method=\"auto\" mode=\"F\" radius=\"5\" chamfer_steps=\"1\" flexible=\"false\" use_knot_distance=\"true\" apply_no_radius=\"true\" apply_with_radius=\"true\" only_selected=\"false\" hide_knots=\"false\"/><inkscape:path-effect effect=\"fillet_chamfer\" id=\"path-effect2910\" is_visible=\"true\" lpeversion=\"1\" nodesatellites_param=\"F,0,0,1,0,5,0,1 @ F,0,0,1,0,5,0,1 @ F,0,0,1,0,5,0,1 @ F,0,0,1,0,5,0,1\" unit=\"px\" method=\"auto\" mode=\"F\" radius=\"5\" chamfer_steps=\"1\" flexible=\"false\" use_knot_distance=\"true\" apply_no_radius=\"true\" apply_with_radius=\"true\" only_selected=\"false\" hide_knots=\"false\"/><inkscape:path-effect effect=\"fillet_chamfer\" id=\"path-effect2888\" is_visible=\"true\" lpeversion=\"1\" nodesatellites_param=\"F,0,0,1,0,5,0,1 @ F,0,0,1,0,5,0,1 @ F,0,0,1,0,5,0,1 @ F,0,0,1,0,5,0,1\" unit=\"px\" method=\"auto\" mode=\"F\" radius=\"5\" chamfer_steps=\"1\" flexible=\"false\" use_knot_distance=\"true\" apply_no_radius=\"true\" apply_with_radius=\"true\" only_selected=\"false\" hide_knots=\"false\"/><inkscape:path-effect effect=\"fillet_chamfer\" id=\"path-effect2866\" is_visible=\"true\" lpeversion=\"1\" nodesatellites_param=\"F,0,0,1,0,5,0,1 @ F,0,0,1,0,5,0,1 @ F,0,0,1,0,5,0,1 @ F,0,0,1,0,5,0,1\" unit=\"px\" method=\"auto\" mode=\"F\" radius=\"5\" chamfer_steps=\"1\" flexible=\"false\" use_knot_distance=\"true\" apply_no_radius=\"true\" apply_with_radius=\"true\" only_selected=\"false\" hide_knots=\"false\"/><inkscape:path-effect effect=\"fillet_chamfer\" id=\"path-effect2844\" is_visible=\"true\" lpeversion=\"1\" nodesatellites_param=\"F,0,0,1,0,5,0,1 @ F,0,0,1,0,5,0,1 @ F,0,0,1,0,5,0,1 @ F,0,0,1,0,5,0,1\" unit=\"px\" method=\"auto\" mode=\"F\" radius=\"5\" chamfer_steps=\"1\" flexible=\"false\" use_knot_distance=\"true\" apply_no_radius=\"true\" apply_with_radius=\"true\" only_selected=\"false\" hide_knots=\"false\"/><inkscape:path-effect effect=\"fillet_chamfer\" id=\"path-effect2822\" is_visible=\"true\" lpeversion=\"1\" nodesatellites_param=\"F,0,0,1,0,5,0,1 @ F,0,0,1,0,5,0,1 @ F,0,0,1,0,5,0,1 @ F,0,0,1,0,5,0,1\" unit=\"px\" method=\"auto\" mode=\"F\" radius=\"5\" chamfer_steps=\"1\" flexible=\"false\" use_knot_distance=\"true\" apply_no_radius=\"true\" apply_with_radius=\"true\" only_selected=\"false\" hide_knots=\"false\"/><inkscape:path-effect effect=\"fillet_chamfer\" id=\"path-effect2662\" is_visible=\"true\" lpeversion=\"1\" nodesatellites_param=\"F,0,0,1,0,5,0,1 @ F,0,0,1,0,5,0,1 @ F,0,0,1,0,5,0,1 @ F,0,0,1,0,5,0,1\" unit=\"px\" method=\"auto\" mode=\"F\" radius=\"5\" chamfer_steps=\"1\" flexible=\"false\" use_knot_distance=\"true\" apply_no_radius=\"true\" apply_with_radius=\"true\" only_selected=\"false\" hide_knots=\"false\"/><inkscape:path-effect effect=\"fillet_chamfer\" id=\"path-effect2433\" is_visible=\"true\" lpeversion=\"1\" nodesatellites_param=\"F,0,0,1,0,5,0,1 @ F,0,0,1,0,5,0,1 @ F,0,0,1,0,5,0,1 @ F,0,0,1,0,5,0,1\" unit=\"px\" method=\"auto\" mode=\"F\" radius=\"5\" chamfer_steps=\"1\" flexible=\"false\" use_knot_distance=\"true\" apply_no_radius=\"true\" apply_with_radius=\"true\" only_selected=\"false\" hide_knots=\"false\"/><inkscape:path-effect effect=\"fillet_chamfer\" id=\"path-effect2396\" is_visible=\"true\" lpeversion=\"1\" nodesatellites_param=\"F,0,0,1,0,5,0,1 @ F,0,0,1,0,5,0,1 @ F,0,0,1,0,5,0,1 @ F,0,0,1,0,5,0,1\" unit=\"px\" method=\"auto\" mode=\"F\" radius=\"5\" chamfer_steps=\"1\" flexible=\"false\" use_knot_distance=\"true\" apply_no_radius=\"true\" apply_with_radius=\"true\" only_selected=\"false\" hide_knots=\"false\"/><rect x=\"-185.87675\" y=\"-294.19342\" width=\"244.98\" height=\"53.959194\" id=\"rect2216\"/><rect x=\"-183.54398\" y=\"-242.39726\" width=\"243.86581\" height=\"54.504635\" id=\"rect2210\"/><rect x=\"-193.20042\" y=\"-299.45901\" width=\"74.215454\" height=\"73.557014\" id=\"rect2204\"/><rect x=\"-183.40181\" y=\"-483.01395\" width=\"243.59142\" height=\"50.548195\" id=\"rect2004\"/><rect x=\"-152.22993\" y=\"-516.70795\" width=\"250.20975\" height=\"53.503078\" id=\"rect1998\"/><rect x=\"19.923933\" y=\"207.37747\" width=\"253.50929\" height=\"66.120911\" id=\"rect1913\"/><rect x=\"323.35773\" y=\"14.85017\" width=\"262.35281\" height=\"42.487614\" id=\"rect1851\"/><inkscape:path-effect effect=\"fillet_chamfer\" id=\"path-effect290\" is_visible=\"true\" lpeversion=\"1\" nodesatellites_param=\"F,0,0,1,0,5,0,1 @ F,0,0,1,0,5,0,1 @ F,0,0,1,0,5,0,1 @ F,0,0,1,0,5,0,1\" unit=\"px\" method=\"auto\" mode=\"F\" radius=\"5\" chamfer_steps=\"1\" flexible=\"false\" use_knot_distance=\"true\" apply_no_radius=\"true\" apply_with_radius=\"true\" only_selected=\"false\" hide_knots=\"false\"/><inkscape:path-effect effect=\"fillet_chamfer\" id=\"path-effect290-7\" is_visible=\"true\" lpeversion=\"1\" nodesatellites_param=\"F,0,0,1,0,5,0,1 @ F,0,0,1,0,5,0,1 @ F,0,0,1,0,5,0,1 @ F,0,0,1,0,5,0,1\" unit=\"px\" method=\"auto\" mode=\"F\" radius=\"5\" chamfer_steps=\"1\" flexible=\"false\" use_knot_distance=\"true\" apply_no_radius=\"true\" apply_with_radius=\"true\" only_selected=\"false\" hide_knots=\"false\"/><inkscape:path-effect effect=\"fillet_chamfer\" id=\"path-effect290-74\" is_visible=\"true\" lpeversion=\"1\" nodesatellites_param=\"F,0,0,1,0,5,0,1 @ F,0,0,1,0,5,0,1 @ F,0,0,1,0,5,0,1 @ F,0,0,1,0,5,0,1\" unit=\"px\" method=\"auto\" mode=\"F\" radius=\"5\" chamfer_steps=\"1\" flexible=\"false\" use_knot_distance=\"true\" apply_no_radius=\"true\" apply_with_radius=\"true\" only_selected=\"false\" hide_knots=\"false\"/><rect x=\"-183.40181\" y=\"-483.01395\" width=\"243.59142\" height=\"50.548195\" id=\"rect2004-5\"/><rect x=\"-183.40181\" y=\"-483.01395\" width=\"243.59142\" height=\"50.548195\" id=\"rect2390\"/><rect x=\"-185.87675\" y=\"-294.19342\" width=\"244.98\" height=\"53.959194\" id=\"rect2392\"/><rect x=\"-183.40181\" y=\"-483.01395\" width=\"243.59142\" height=\"50.548195\" id=\"rect2427\"/><rect x=\"-185.87675\" y=\"-294.19342\" width=\"244.98\" height=\"53.959194\" id=\"rect2429\"/><rect x=\"-183.40181\" y=\"-483.01395\" width=\"243.59142\" height=\"50.548195\" id=\"rect2656\"/><rect x=\"-185.87675\" y=\"-294.19342\" width=\"244.98\" height=\"53.959194\" id=\"rect2658\"/><rect x=\"-183.40181\" y=\"-483.01395\" width=\"243.59142\" height=\"50.548195\" id=\"rect2816\"/><rect x=\"-185.87675\" y=\"-294.19342\" width=\"244.98\" height=\"53.959194\" id=\"rect2818\"/><rect x=\"-183.40181\" y=\"-483.01395\" width=\"243.59142\" height=\"50.548195\" id=\"rect2838\"/><rect x=\"-185.87675\" y=\"-294.19342\" width=\"244.98\" height=\"53.959194\" id=\"rect2840\"/><rect x=\"-183.40181\" y=\"-483.01395\" width=\"243.59142\" height=\"50.548195\" id=\"rect2860\"/><rect x=\"-185.87675\" y=\"-294.19342\" width=\"244.98\" height=\"53.959194\" id=\"rect2862\"/><rect x=\"-183.40181\" y=\"-483.01395\" width=\"243.59142\" height=\"50.548195\" id=\"rect2882\"/><rect x=\"-185.87675\" y=\"-294.19342\" width=\"244.98\" height=\"53.959194\" id=\"rect2884\"/><rect x=\"-183.40181\" y=\"-483.01395\" width=\"243.59142\" height=\"50.548195\" id=\"rect2904\"/><rect x=\"-185.87675\" y=\"-294.19342\" width=\"244.98\" height=\"53.959194\" id=\"rect2906\"/><rect x=\"-183.40181\" y=\"-483.01395\" width=\"243.59142\" height=\"50.548195\" id=\"rect3128\"/><rect x=\"-185.87675\" y=\"-294.19342\" width=\"244.98\" height=\"53.959194\" id=\"rect3130\"/><rect x=\"-185.87675\" y=\"-294.19342\" width=\"244.98\" height=\"53.959194\" id=\"rect4298\"/><rect x=\"-185.87675\" y=\"-294.19342\" width=\"244.98\" height=\"53.959194\" id=\"rect4306\"/><rect x=\"-185.87675\" y=\"-294.19342\" width=\"244.98\" height=\"53.959194\" id=\"rect4314\"/><rect x=\"-185.87675\" y=\"-294.19342\" width=\"244.98\" height=\"53.959194\" id=\"rect4322\"/><rect x=\"-183.40181\" y=\"-483.01395\" width=\"243.59142\" height=\"50.548195\" id=\"rect4392\"/><rect x=\"-185.87675\" y=\"-294.19342\" width=\"244.98\" height=\"53.959194\" id=\"rect4394\"/><rect x=\"-183.40181\" y=\"-483.01395\" width=\"243.59142\" height=\"50.548195\" id=\"rect4414\"/><rect x=\"-185.87675\" y=\"-294.19342\" width=\"244.98\" height=\"53.959194\" id=\"rect4416\"/><rect x=\"-183.40181\" y=\"-483.01395\" width=\"243.59142\" height=\"50.548195\" id=\"rect4436\"/><rect x=\"-185.87675\" y=\"-294.19342\" width=\"244.98\" height=\"53.959194\" id=\"rect4438\"/><rect x=\"-183.40181\" y=\"-483.01395\" width=\"243.59142\" height=\"50.548195\" id=\"rect4458\"/><rect x=\"-185.87675\" y=\"-294.19342\" width=\"244.98\" height=\"53.959194\" id=\"rect4460\"/><rect x=\"-183.40181\" y=\"-483.01395\" width=\"243.59142\" height=\"50.548195\" id=\"rect4480\"/><rect x=\"-185.87675\" y=\"-294.19342\" width=\"244.98\" height=\"53.959194\" id=\"rect4482\"/><rect x=\"-183.40181\" y=\"-483.01395\" width=\"243.59142\" height=\"50.548195\" id=\"rect4502\"/><rect x=\"-185.87675\" y=\"-294.19342\" width=\"244.98\" height=\"53.959194\" id=\"rect4504\"/><rect x=\"-183.40181\" y=\"-483.01395\" width=\"243.59142\" height=\"50.548195\" id=\"rect4524\"/><rect x=\"-185.87675\" y=\"-294.19342\" width=\"244.98\" height=\"53.959194\" id=\"rect4526\"/><rect x=\"-183.40181\" y=\"-483.01395\" width=\"243.59142\" height=\"50.548195\" id=\"rect4907\"/><rect x=\"-185.87675\" y=\"-294.19342\" width=\"244.98\" height=\"53.959194\" id=\"rect4909\"/><rect x=\"-183.40181\" y=\"-483.01395\" width=\"243.59142\" height=\"50.548195\" id=\"rect6047\"/><rect x=\"-185.87675\" y=\"-294.19342\" width=\"244.98\" height=\"53.959194\" id=\"rect6049\"/><rect x=\"-183.40181\" y=\"-483.01395\" width=\"243.59142\" height=\"50.548195\" id=\"rect6069\"/><rect x=\"-185.87675\" y=\"-294.19342\" width=\"244.98\" height=\"53.959194\" id=\"rect6071\"/><rect x=\"-183.40181\" y=\"-483.01395\" width=\"243.59142\" height=\"50.548195\" id=\"rect6091\"/><rect x=\"-185.87675\" y=\"-294.19342\" width=\"244.98\" height=\"53.959194\" id=\"rect6093\"/><rect x=\"-183.40181\" y=\"-483.01395\" width=\"243.59142\" height=\"50.548195\" id=\"rect6111\"/><rect x=\"-185.87675\" y=\"-294.19342\" width=\"244.98\" height=\"53.959194\" id=\"rect6113\"/><rect x=\"-183.40181\" y=\"-483.01395\" width=\"243.59142\" height=\"50.548195\" id=\"rect6131\"/><rect x=\"-185.87675\" y=\"-294.19342\" width=\"244.98\" height=\"53.959194\" id=\"rect6133\"/><inkscape:path-effect effect=\"fillet_chamfer\" id=\"path-effect4442-3\" is_visible=\"true\" lpeversion=\"1\" nodesatellites_param=\"F,0,0,1,0,5,0,1 @ F,0,0,1,0,5,0,1 @ F,0,0,1,0,5,0,1 @ F,0,0,1,0,5,0,1\" unit=\"px\" method=\"auto\" mode=\"F\" radius=\"5\" chamfer_steps=\"1\" flexible=\"false\" use_knot_distance=\"true\" apply_no_radius=\"true\" apply_with_radius=\"true\" only_selected=\"false\" hide_knots=\"false\"/><rect x=\"-183.40181\" y=\"-483.01395\" width=\"243.59142\" height=\"50.548195\" id=\"rect4436-6\"/><rect x=\"-185.87675\" y=\"-294.19342\" width=\"244.98\" height=\"53.959194\" id=\"rect4438-7\"/><inkscape:path-effect effect=\"fillet_chamfer\" id=\"path-effect2433-3\" is_visible=\"true\" lpeversion=\"1\" nodesatellites_param=\"F,0,0,1,0,5,0,1 @ F,0,0,1,0,5,0,1 @ F,0,0,1,0,5,0,1 @ F,0,0,1,0,5,0,1\" unit=\"px\" method=\"auto\" mode=\"F\" radius=\"5\" chamfer_steps=\"1\" flexible=\"false\" use_knot_distance=\"true\" apply_no_radius=\"true\" apply_with_radius=\"true\" only_selected=\"false\" hide_knots=\"false\"/><rect x=\"-183.40181\" y=\"-483.01395\" width=\"243.59142\" height=\"50.548195\" id=\"rect2427-6\"/><rect x=\"-185.87675\" y=\"-294.19342\" width=\"244.98\" height=\"53.959194\" id=\"rect2429-7\"/><inkscape:path-effect effect=\"fillet_chamfer\" id=\"path-effect4442-3-3\" is_visible=\"true\" lpeversion=\"1\" nodesatellites_param=\"F,0,0,1,0,5,0,1 @ F,0,0,1,0,5,0,1 @ F,0,0,1,0,5,0,1 @ F,0,0,1,0,5,0,1\" unit=\"px\" method=\"auto\" mode=\"F\" radius=\"5\" chamfer_steps=\"1\" flexible=\"false\" use_knot_distance=\"true\" apply_no_radius=\"true\" apply_with_radius=\"true\" only_selected=\"false\" hide_knots=\"false\"/><rect x=\"-183.40181\" y=\"-483.01395\" width=\"243.59142\" height=\"50.548195\" id=\"rect4436-6-6\"/><rect x=\"-185.87675\" y=\"-294.19342\" width=\"244.98\" height=\"53.959194\" id=\"rect4438-7-7\"/></defs><g inkscape:groupmode=\"layer\" id=\"layer3\" inkscape:label=\"Layer 2\"><rect style=\"fill:#ffffff;stroke-width:1.02845;stroke-linecap:square;fill-opacity:1\" id=\"rect13376\" width=\"416.71899\" height=\"363.802\" x=\"-20.722902\" y=\"-117.07284\" transform=\"translate(20.722903,117.07284)\"/></g><g inkscape:label=\"Layer 1\" inkscape:groupmode=\"layer\" id=\"layer1\" transform=\"translate(20.722903,117.07284)\"><text xml:space=\"preserve\" transform=\"matrix(0.26458334,0,0,0.26458334,-116.41547,-208.84442)\" id=\"text4372\" style=\"font-style:normal;font-variant:normal;font-weight:bold;font-stretch:normal;font-size:32px;line-height:1.1;font-family:'Noto Sans';-inkscape-font-specification:'Noto Sans, Bold';font-variant-ligatures:normal;font-variant-caps:normal;font-variant-numeric:normal;font-variant-east-asian:normal;text-align:center;letter-spacing:0px;word-spacing:0px;writing-mode:lr-tb;white-space:pre;shape-inside:url(#rect4374);display:inline\"><tspan x=\"409.81671\" y=\"421.33319\" id=\"tspan1006\">Gallery of Marlowe Contracts on Cardano Mainnet</tspan></text><a id=\"a3126\" transform=\"translate(-31.222199,54.289387)\"><g id=\"g3124\" transform=\"translate(76.64513,0.61693904)\"><path style=\"fill:#faebd7;fill-opacity:1;stroke:none;stroke-width:0.256683;stroke-linecap:butt;stroke-linejoin:miter;stroke-dasharray:none;stroke-opacity:1\" d=\"M -47.916667,-132.29167 H 14.84375 a 5,5 45 0 1 5,5 v 62.760417 a 5,5 135 0 1 -5,5 l -62.760417,0 a 5,5 45 0 1 -5,-5 l 0,-62.760417 a 5,5 135 0 1 5,-5 z\" id=\"path3114\" inkscape:path-effect=\"#path-effect3134\" inkscape:original-d=\"M -52.916667,-132.29167 H 19.84375 v 72.760417 h -72.760417 z\" inkscape:label=\"Contract\"/><text xml:space=\"preserve\" transform=\"matrix(0.26458333,0,0,0.26458333,-0.35248518,0)\" id=\"text3116\" style=\"font-style:normal;font-variant:normal;font-weight:bold;font-stretch:normal;font-size:18.6667px;line-height:1.1;font-family:'Noto Sans';-inkscape-font-specification:'Noto Sans, Bold';font-variant-ligatures:normal;font-variant-caps:normal;font-variant-numeric:normal;font-variant-east-asian:normal;text-align:center;letter-spacing:0px;word-spacing:0px;writing-mode:lr-tb;white-space:pre;shape-inside:url(#rect3128);display:inline\"><tspan x=\"-102.2252\" y=\"-467.42931\" id=\"tspan1008\">Marlowe</tspan></text><path d=\"m -23.607833,-95.018319 c -0.20706,0 -0.413676,-0.03004 -0.614279,-0.08876 -0.560845,-0.165206 -1.02417,-0.539992 -1.304926,-1.055765 -0.280534,-0.516007 -0.344879,-1.110904 -0.181011,-1.675551 l 4.059943,-13.989885 c 0.133142,-0.45907 0.404324,-0.8538 0.783935,-1.14162 0.379611,-0.28758 0.831359,-0.44068 1.306485,-0.4427 h 0.0089 c 0.473567,0 0.924647,0.15018 1.304704,0.43464 0.380056,0.28422 0.653019,0.67604 0.789724,1.13265 l 0.887906,2.96959 2.003811,-6.89565 c 0.133588,-0.45929 0.40477,-0.85381 0.784381,-1.14139 0.379833,-0.28759 0.831804,-0.44047 1.30693,-0.44226 h 0.008 c 0.473789,0 0.924869,0.15041 1.305148,0.43486 0.380056,0.28467 0.65302,0.67649 0.789501,1.13332 l 2.999037,10.04726 c 0.168098,0.5633 0.108429,1.15887 -0.16832,1.67689 -0.276748,0.51802 -0.73718,0.8964 -1.296688,1.06586 -0.205502,0.0621 -0.417461,0.0935 -0.63031,0.0935 -0.460431,2.2e-4 -0.919526,-0.15131 -1.29268,-0.42657 -0.386068,-0.28467 -0.663039,-0.67963 -0.801079,-1.14206 l -0.876555,-2.93597 -2.00203,6.88937 c -0.133365,0.45907 -0.404547,0.853797 -0.784158,1.141164 -0.379611,0.28759 -0.831359,0.440687 -1.306485,0.442477 h -0.0087 c -0.473345,0 -0.924425,-0.150177 -1.304481,-0.434627 -0.380045,-0.284227 -0.653231,-0.676044 -0.789713,-1.132644 l -0.886574,-2.96489 -1.992011,6.863799 c -0.135368,0.466467 -0.411449,0.86501 -0.798852,1.153047 -0.374713,0.278624 -0.836035,0.431945 -1.299583,0.431945\" id=\"Fill-1\" fill=\"#00e39c\" style=\"stroke-width:0.322939\"/><g id=\"g4358\" transform=\"translate(1.9265144e-8,-2.6073756)\"><a id=\"a4290\" xlink:href=\"https://marlowe-finance.io/\" target=\"rwm\" transform=\"translate(-3.4078214,-13.180113)\"><text xml:space=\"preserve\" transform=\"matrix(0.26458333,0,0,0.26458333,0.08432881,1.0583333)\" id=\"text3122\" style=\"font-style:normal;font-variant:normal;font-weight:normal;font-stretch:normal;font-size:16px;line-height:1.1;font-family:'Noto Sans';-inkscape-font-specification:'Noto Sans, Normal';font-variant-ligatures:normal;font-variant-caps:normal;font-variant-numeric:normal;font-variant-east-asian:normal;text-align:center;letter-spacing:0px;word-spacing:0px;writing-mode:lr-tb;white-space:pre;shape-inside:url(#rect3130);display:inline\"><tspan x=\"-105.88272\" y=\"-280.83536\" id=\"tspan1010\">• Language</tspan></text></a><a id=\"a4296\" xlink:href=\"https://github.com/input-output-hk/marlowe-cardano/\" target=\"rwm\" transform=\"translate(-4.4936765,-6.528527)\"><text xml:space=\"preserve\" transform=\"matrix(0.26458333,0,0,0.26458333,0.08432881,1.0583333)\" id=\"text4294\" style=\"font-style:normal;font-variant:normal;font-weight:normal;font-stretch:normal;font-size:16px;line-height:1.1;font-family:'Noto Sans';-inkscape-font-specification:'Noto Sans, Normal';font-variant-ligatures:normal;font-variant-caps:normal;font-variant-numeric:normal;font-variant-east-asian:normal;text-align:center;letter-spacing:0px;word-spacing:0px;writing-mode:lr-tb;white-space:pre;shape-inside:url(#rect4298);display:inline\"><tspan x=\"-101.7787\" y=\"-280.83536\" id=\"tspan1012\">• Software</tspan></text></a><a id=\"a4304\" xlink:href=\"https://developers.cardano.org/docs/smart-contracts/marlowe/#resources-for-developing-and-deploying-marlowe-contracts\" target=\"rwm\" transform=\"translate(0.03386528,-0.969141)\"><text xml:space=\"preserve\" transform=\"matrix(0.26458333,0,0,0.26458333,0.08432881,1.0583333)\" id=\"text4302\" style=\"font-style:normal;font-variant:normal;font-weight:normal;font-stretch:normal;font-size:16px;line-height:1.1;font-family:'Noto Sans';-inkscape-font-specification:'Noto Sans, Normal';font-variant-ligatures:normal;font-variant-caps:normal;font-variant-numeric:normal;font-variant-east-asian:normal;text-align:center;letter-spacing:0px;word-spacing:0px;writing-mode:lr-tb;white-space:pre;shape-inside:url(#rect4306);display:inline\"><tspan x=\"-118.89067\" y=\"-280.83536\" id=\"tspan1014\">• Development</tspan></text></a><a id=\"a4312\" xlink:href=\"https://github.com/input-output-hk/marlowe-cardano/blob/main/marlowe/best-practices.md\" target=\"rwm\" transform=\"translate(-7.1903061,5.098245)\"><text xml:space=\"preserve\" transform=\"matrix(0.26458333,0,0,0.26458333,0.08432881,1.0583333)\" id=\"text4310\" style=\"font-style:normal;font-variant:normal;font-weight:normal;font-stretch:normal;font-size:16px;line-height:1.1;font-family:'Noto Sans';-inkscape-font-specification:'Noto Sans, Normal';font-variant-ligatures:normal;font-variant-caps:normal;font-variant-numeric:normal;font-variant-east-asian:normal;text-align:center;letter-spacing:0px;word-spacing:0px;writing-mode:lr-tb;white-space:pre;shape-inside:url(#rect4314);display:inline\"><tspan x=\"-91.586716\" y=\"-280.83536\" id=\"tspan1016\">• Safety</tspan></text></a><a id=\"a4320\" xlink:href=\"https://github.com/input-output-hk/marlowe-cardano/blob/main/marlowe/security.md\" target=\"rwm\" transform=\"translate(-5.3615095,11.095781)\"><text xml:space=\"preserve\" transform=\"matrix(0.26458333,0,0,0.26458333,0.08432881,1.0583333)\" id=\"text4318\" style=\"font-style:normal;font-variant:normal;font-weight:normal;font-stretch:normal;font-size:16px;line-height:1.1;font-family:'Noto Sans';-inkscape-font-specification:'Noto Sans, Normal';font-variant-ligatures:normal;font-variant-caps:normal;font-variant-numeric:normal;font-variant-east-asian:normal;text-align:center;letter-spacing:0px;word-spacing:0px;writing-mode:lr-tb;white-space:pre;shape-inside:url(#rect4322);display:inline\"><tspan x=\"-98.498703\" y=\"-280.83536\" id=\"tspan1018\">• Security</tspan></text></a></g></g></a><a id=\"a4390\" xlink:href=\"http://github.com/input-output-hk/real-world-marlowe/blob/main/nfts/simple/ReadMe.ipynb\" transform=\"translate(48.152799,54.289387)\" target=\"rwm\"><g id=\"g4388\" transform=\"translate(76.64513,0.61693904)\"><path style=\"fill:#e9967a;fill-opacity:1;stroke:none;stroke-width:0.256683;stroke-linecap:butt;stroke-linejoin:miter;stroke-dasharray:none;stroke-opacity:1\" d=\"M -47.916667,-132.29167 H 14.84375 a 5,5 45 0 1 5,5 v 62.760417 a 5,5 135 0 1 -5,5 l -62.760417,0 a 5,5 45 0 1 -5,-5 l 0,-62.760417 a 5,5 135 0 1 5,-5 z\" id=\"path4378\" inkscape:path-effect=\"#path-effect4398\" inkscape:original-d=\"M -52.916667,-132.29167 H 19.84375 v 72.760417 h -72.760417 z\" inkscape:label=\"Contract\"/><text xml:space=\"preserve\" transform=\"matrix(0.26458333,0,0,0.26458333,-0.16480638,0)\" id=\"text4380\" style=\"font-style:normal;font-variant:normal;font-weight:bold;font-stretch:normal;font-size:18.6667px;line-height:1.1;font-family:'Noto Sans';-inkscape-font-specification:'Noto Sans, Bold';font-variant-ligatures:normal;font-variant-caps:normal;font-variant-numeric:normal;font-variant-east-asian:normal;text-align:center;letter-spacing:0px;word-spacing:0px;writing-mode:lr-tb;white-space:pre;shape-inside:url(#rect4392);display:inline\"><tspan x=\"-167.48397\" y=\"-467.42931\" id=\"tspan1020\">Sale of a Token for Ada</tspan></text><image width=\"45.025837\" height=\"30.365395\" preserveAspectRatio=\"none\" style=\"image-rendering:optimizeQuality\" xlink:href=\"https://raw.githubusercontent.com/input-output-hk/real-world-marlowe/main/nfts/simple/contract.png\" id=\"image4382\" x=\"-39.049377\" y=\"-111.09416\"/><text xml:space=\"preserve\" transform=\"matrix(0.26458333,0,0,0.26458333,0.08432881,1.0583333)\" id=\"text4386\" style=\"font-style:italic;font-variant:normal;font-weight:normal;font-stretch:normal;font-size:16px;line-height:1.1;font-family:'Noto Sans';-inkscape-font-specification:'Noto Sans, Italic';font-variant-ligatures:normal;font-variant-caps:normal;font-variant-numeric:normal;font-variant-east-asian:normal;text-align:center;letter-spacing:0px;word-spacing:0px;writing-mode:lr-tb;white-space:pre;shape-inside:url(#rect4394);display:inline\"><tspan x=\"-172.01076\" y=\"-280.83536\" id=\"tspan1022\">The seller deposits a token in a </tspan><tspan x=\"-176.87479\" y=\"-263.23535\" id=\"tspan1024\">Marlowe contract and the buyer </tspan><tspan x=\"-141.19475\" y=\"-245.63534\" id=\"tspan1026\">purchases it with Ada.</tspan></text></g></a><a id=\"a4905\" xlink:href=\"http://github.com/input-output-hk/real-world-marlowe/blob/main/nfts/stable/ReadMe.ipynb\" transform=\"translate(127.5278,54.289387)\" target=\"rwm\"><g id=\"g4903\" transform=\"translate(76.64513,0.61693904)\"><path style=\"fill:#e9967a;fill-opacity:1;stroke:none;stroke-width:0.256683;stroke-linecap:butt;stroke-linejoin:miter;stroke-dasharray:none;stroke-opacity:1\" d=\"M -47.916667,-132.29167 H 14.84375 a 5,5 45 0 1 5,5 v 62.760417 a 5,5 135 0 1 -5,5 l -62.760417,0 a 5,5 45 0 1 -5,-5 l 0,-62.760417 a 5,5 135 0 1 5,-5 z\" id=\"path4893\" inkscape:path-effect=\"#path-effect4913\" inkscape:original-d=\"M -52.916667,-132.29167 H 19.84375 v 72.760417 h -72.760417 z\" inkscape:label=\"Contract\"/><text xml:space=\"preserve\" transform=\"matrix(0.26458333,0,0,0.26458333,-0.35001492,0)\" id=\"text4895\" style=\"font-style:normal;font-variant:normal;font-weight:bold;font-stretch:normal;font-size:18.6667px;line-height:1.1;font-family:'Noto Sans';-inkscape-font-specification:'Noto Sans, Bold';font-variant-ligatures:normal;font-variant-caps:normal;font-variant-numeric:normal;font-variant-east-asian:normal;text-align:center;letter-spacing:0px;word-spacing:0px;writing-mode:lr-tb;white-space:pre;shape-inside:url(#rect4907);display:inline\"><tspan x=\"-147.07193\" y=\"-467.42931\" id=\"tspan1028\">Sale of a Token for </tspan><tspan x=\"-114.89987\" y=\"-446.89592\" id=\"tspan1030\">Stablecoins</tspan></text><image width=\"24.876402\" height=\"30.365395\" preserveAspectRatio=\"none\" style=\"image-rendering:optimizeQuality\" xlink:href=\"https://raw.githubusercontent.com/input-output-hk/real-world-marlowe/main/nfts/stable/contract.png\" id=\"image4897\" x=\"-28.974659\" y=\"-111.09416\"/><text xml:space=\"preserve\" transform=\"matrix(0.26458333,0,0,0.26458333,0.08432881,1.0583333)\" id=\"text4901\" style=\"font-style:italic;font-variant:normal;font-weight:normal;font-stretch:normal;font-size:16px;line-height:1.1;font-family:'Noto Sans';-inkscape-font-specification:'Noto Sans, Italic';font-variant-ligatures:normal;font-variant-caps:normal;font-variant-numeric:normal;font-variant-east-asian:normal;text-align:center;letter-spacing:0px;word-spacing:0px;writing-mode:lr-tb;white-space:pre;shape-inside:url(#rect4909);display:inline\"><tspan x=\"-172.01076\" y=\"-280.83536\" id=\"tspan1032\">The seller deposits a token in a </tspan><tspan x=\"-176.87479\" y=\"-263.23535\" id=\"tspan1034\">Marlowe contract and the buyer </tspan><tspan x=\"-171.93073\" y=\"-245.63534\" id=\"tspan1036\">purchases it with Djed or iUSD.</tspan></text></g></a><a id=\"a4478\" xlink:href=\"http://github.com/input-output-hk/real-world-marlowe/blob/main/nfts/royalty/ReadMe.ipynb\" transform=\"translate(199.96915,54.289387)\" target=\"rwm\"><g id=\"g4476\" transform=\"translate(76.64513,0.61693904)\"><path style=\"fill:#e9967a;fill-opacity:1;stroke:none;stroke-width:0.256683;stroke-linecap:butt;stroke-linejoin:miter;stroke-dasharray:none;stroke-opacity:1\" d=\"m -40.7917,-132.29167 h 62.760417 a 5,5 45 0 1 5,5 l 0,62.760417 a 5,5 135 0 1 -5,5 l -62.760417,0 a 5,5 45 0 1 -5,-5 v -62.760417 a 5,5 135 0 1 5,-5 z\" id=\"path4466\" inkscape:path-effect=\"#path-effect4486\" inkscape:original-d=\"m -45.7917,-132.29167 h 72.760417 v 72.760417 H -45.7917 Z\" inkscape:label=\"Contract\"/><text xml:space=\"preserve\" transform=\"matrix(0.26458333,0,0,0.26458333,6.9662732,0)\" id=\"text4468\" style=\"font-style:normal;font-variant:normal;font-weight:bold;font-stretch:normal;font-size:18.6667px;line-height:1.1;font-family:'Noto Sans';-inkscape-font-specification:'Noto Sans, Bold';font-variant-ligatures:normal;font-variant-caps:normal;font-variant-numeric:normal;font-variant-east-asian:normal;text-align:center;letter-spacing:0px;word-spacing:0px;writing-mode:lr-tb;white-space:pre;shape-inside:url(#rect4480);display:inline\"><tspan x=\"-154.46396\" y=\"-467.42931\" id=\"tspan1038\">Sale of a Token with </tspan><tspan x=\"-104.20385\" y=\"-446.89592\" id=\"tspan1040\">Royalties</tspan></text><image width=\"63.100914\" height=\"26.060102\" preserveAspectRatio=\"none\" style=\"image-rendering:optimizeQuality\" xlink:href=\"https://raw.githubusercontent.com/input-output-hk/real-world-marlowe/main/nfts/royalty/contract.png\" id=\"image4470\" x=\"-40.961948\" y=\"-111.09416\"/><text xml:space=\"preserve\" transform=\"matrix(0.26458333,0,0,0.26458333,7.4577653,1.0583333)\" id=\"text4474\" style=\"font-style:italic;font-variant:normal;font-weight:normal;font-stretch:normal;font-size:16px;line-height:1.1;font-family:'Noto Sans';-inkscape-font-specification:'Noto Sans, Italic';font-variant-ligatures:normal;font-variant-caps:normal;font-variant-numeric:normal;font-variant-east-asian:normal;text-align:center;letter-spacing:0px;word-spacing:0px;writing-mode:lr-tb;white-space:pre;shape-inside:url(#rect4482);display:inline\"><tspan x=\"-179.69876\" y=\"-280.83536\" id=\"tspan1042\">The artist receives royalties when </tspan><tspan x=\"-182.4348\" y=\"-263.23535\" id=\"tspan1044\">the buyer purchases a token from </tspan><tspan x=\"-90.81073\" y=\"-245.63534\" id=\"tspan1046\">a seller.</tspan></text></g></a><a id=\"a4456\" xlink:href=\"http://github.com/input-output-hk/real-world-marlowe/blob/main/nfts/swap/ReadMe.ipynb\" transform=\"translate(286.2778,54.289387)\" target=\"rwm\"><g id=\"g4454\" transform=\"translate(76.64513,0.61693904)\"><path style=\"fill:#e9967a;fill-opacity:1;stroke:none;stroke-width:0.256683;stroke-linecap:butt;stroke-linejoin:miter;stroke-dasharray:none;stroke-opacity:1\" d=\"M -47.916667,-132.29167 H 14.84375 a 5,5 45 0 1 5,5 v 62.760417 a 5,5 135 0 1 -5,5 l -62.760417,0 a 5,5 45 0 1 -5,-5 l 0,-62.760417 a 5,5 135 0 1 5,-5 z\" id=\"path4444\" inkscape:path-effect=\"#path-effect4464\" inkscape:original-d=\"M -52.916667,-132.29167 H 19.84375 v 72.760417 h -72.760417 z\" inkscape:label=\"Contract\"/><text xml:space=\"preserve\" transform=\"matrix(0.26458333,0,0,0.26458333,-0.35001526,0)\" id=\"text4446\" style=\"font-style:normal;font-variant:normal;font-weight:bold;font-stretch:normal;font-size:18.6667px;line-height:1.1;font-family:'Noto Sans';-inkscape-font-specification:'Noto Sans, Bold';font-variant-ligatures:normal;font-variant-caps:normal;font-variant-numeric:normal;font-variant-east-asian:normal;text-align:center;letter-spacing:0px;word-spacing:0px;writing-mode:lr-tb;white-space:pre;shape-inside:url(#rect4458);display:inline\"><tspan x=\"-149.18126\" y=\"-467.42931\" id=\"tspan1048\">Swap of Tokens for </tspan><tspan x=\"-94.207838\" y=\"-446.89592\" id=\"tspan1050\">Tokens</tspan></text><image width=\"28.670744\" height=\"30.365395\" preserveAspectRatio=\"none\" style=\"image-rendering:optimizeQuality\" xlink:href=\"https://raw.githubusercontent.com/input-output-hk/real-world-marlowe/main/nfts/swap/contract.png\" id=\"image4448\" x=\"-30.87183\" y=\"-111.09416\"/><text xml:space=\"preserve\" transform=\"matrix(0.26458333,0,0,0.26458333,0.04411063,1.0583333)\" id=\"text4452\" style=\"font-style:italic;font-variant:normal;font-weight:normal;font-stretch:normal;font-size:16px;line-height:1.1;font-family:'Noto Sans';-inkscape-font-specification:'Noto Sans, Italic';font-variant-ligatures:normal;font-variant-caps:normal;font-variant-numeric:normal;font-variant-east-asian:normal;text-align:center;letter-spacing:0px;word-spacing:0px;writing-mode:lr-tb;white-space:pre;shape-inside:url(#rect4460);display:inline\"><tspan x=\"-176.13875\" y=\"-280.83536\" id=\"tspan1052\">Two parties each deposit tokens </tspan><tspan x=\"-173.95477\" y=\"-263.23535\" id=\"tspan1054\">and receive each others' tokens </tspan><tspan x=\"-123.01076\" y=\"-245.63534\" id=\"tspan1056\">upon settlement.</tspan></text></g></a><a id=\"a4412\" xlink:href=\"http://github.com/input-output-hk/real-world-marlowe/blob/main/nfts/airdrop/ReadMe.ipynb\" transform=\"translate(-31.222199,133.66439)\" target=\"rwm\"><g id=\"g4410\" transform=\"translate(76.64513,0.61693904)\"><path style=\"fill:#e9967a;fill-opacity:1;stroke:none;stroke-width:0.256683;stroke-linecap:butt;stroke-linejoin:miter;stroke-dasharray:none;stroke-opacity:1\" d=\"M -47.916667,-132.29167 H 14.84375 a 5,5 45 0 1 5,5 v 62.760417 a 5,5 135 0 1 -5,5 l -62.760417,0 a 5,5 45 0 1 -5,-5 l 0,-62.760417 a 5,5 135 0 1 5,-5 z\" id=\"path4400\" inkscape:path-effect=\"#path-effect4420\" inkscape:original-d=\"M -52.916667,-132.29167 H 19.84375 v 72.760417 h -72.760417 z\" inkscape:label=\"Contract\"/><text xml:space=\"preserve\" transform=\"matrix(0.26458333,0,0,0.26458333,-0.25617715,0)\" id=\"text4402\" style=\"font-style:normal;font-variant:normal;font-weight:bold;font-stretch:normal;font-size:18.6667px;line-height:1.1;font-family:'Noto Sans';-inkscape-font-specification:'Noto Sans, Bold';font-variant-ligatures:normal;font-variant-caps:normal;font-variant-numeric:normal;font-variant-east-asian:normal;text-align:center;letter-spacing:0px;word-spacing:0px;writing-mode:lr-tb;white-space:pre;shape-inside:url(#rect4414);display:inline\"><tspan x=\"-171.49731\" y=\"-467.42931\" id=\"tspan1058\">Small Airdrop of Tokens</tspan></text><image width=\"57.076012\" height=\"30.365395\" preserveAspectRatio=\"none\" style=\"image-rendering:optimizeQuality\" xlink:href=\"https://raw.githubusercontent.com/input-output-hk/real-world-marlowe/main/nfts/airdrop/contract.png\" id=\"image4404\" x=\"-45.074463\" y=\"-111.09416\"/><text xml:space=\"preserve\" transform=\"matrix(0.26458333,0,0,0.26458333,0.36584505,1.0583333)\" id=\"text4408\" style=\"font-style:italic;font-variant:normal;font-weight:normal;font-stretch:normal;font-size:16px;line-height:1.1;font-family:'Noto Sans';-inkscape-font-specification:'Noto Sans, Italic';font-variant-ligatures:normal;font-variant-caps:normal;font-variant-numeric:normal;font-variant-east-asian:normal;text-align:center;letter-spacing:0px;word-spacing:0px;writing-mode:lr-tb;white-space:pre;shape-inside:url(#rect4416);display:inline\"><tspan x=\"-181.49078\" y=\"-280.83536\" id=\"tspan1060\">Several parties receive an airdrop </tspan><tspan x=\"-185.80281\" y=\"-263.23535\" id=\"tspan1062\">of tokens at a predetermined time.</tspan></text></g></a><a id=\"a2308\" xlink:href=\"http://github.com/input-output-hk/real-world-marlowe/blob/main/nfts/collection/ReadMe.ipynb\" transform=\"translate(124.79793,134.28133)\" target=\"rwm\"><g id=\"g2153\"><path style=\"fill:#e9967a;fill-opacity:1;stroke:none;stroke-width:0.256683;stroke-linecap:butt;stroke-linejoin:miter;stroke-dasharray:none;stroke-opacity:1\" d=\"M -47.916667,-132.29167 H 14.84375 a 5,5 45 0 1 5,5 v 62.760417 a 5,5 135 0 1 -5,5 l -62.760417,0 a 5,5 45 0 1 -5,-5 l 0,-62.760417 a 5,5 135 0 1 5,-5 z\" id=\"path288\" inkscape:path-effect=\"#path-effect290\" inkscape:original-d=\"M -52.916667,-132.29167 H 19.84375 v 72.760417 h -72.760417 z\" inkscape:label=\"Contract\"/><text xml:space=\"preserve\" transform=\"matrix(0.26458333,0,0,0.26458333,-0.35001508,0)\" id=\"text2002\" style=\"font-style:normal;font-variant:normal;font-weight:bold;font-stretch:normal;font-size:18.6667px;line-height:1.1;font-family:'Noto Sans';-inkscape-font-specification:'Noto Sans, Bold';font-variant-ligatures:normal;font-variant-caps:normal;font-variant-numeric:normal;font-variant-east-asian:normal;text-align:center;letter-spacing:0px;word-spacing:0px;writing-mode:lr-tb;white-space:pre;shape-inside:url(#rect2004);display:inline\"><tspan x=\"-181.96933\" y=\"-467.42931\" id=\"tspan1064\">Several NFTs Bundled as a </tspan><tspan x=\"-127.60256\" y=\"-446.89592\" id=\"tspan1066\">Collective NFT</tspan></text><image width=\"52.916668\" height=\"30.365395\" preserveAspectRatio=\"none\" style=\"image-rendering:optimizeQuality\" xlink:href=\"https://raw.githubusercontent.com/input-output-hk/real-world-marlowe/main/nfts/collection/images/contract.png\" id=\"image2145\" x=\"-42.994793\" y=\"-111.09416\"/><text xml:space=\"preserve\" transform=\"matrix(0.26458333,0,0,0.26458333,0.13301063,1.0583333)\" id=\"text2214\" style=\"font-style:italic;font-variant:normal;font-weight:normal;font-stretch:normal;font-size:16px;line-height:1.1;font-family:'Noto Sans';-inkscape-font-specification:'Noto Sans, Italic';font-variant-ligatures:normal;font-variant-caps:normal;font-variant-numeric:normal;font-variant-east-asian:normal;text-align:center;letter-spacing:0px;word-spacing:0px;writing-mode:lr-tb;white-space:pre;shape-inside:url(#rect2216);display:inline\"><tspan x=\"-174.97075\" y=\"-280.83536\" id=\"tspan1068\">A Marlowe contract that is itself </tspan><tspan x=\"-184.55476\" y=\"-263.23535\" id=\"tspan1070\">an NFT bundles several other NFTs </tspan><tspan x=\"-123.91475\" y=\"-245.63534\" id=\"tspan1072\">into a smart NFT.</tspan></text></g></a><a id=\"a4500\" xlink:href=\"http://github.com/input-output-hk/real-world-marlowe/blob/main/nfts/shared/ReadMe.ipynb\" transform=\"translate(127.5278,133.66439)\" target=\"rwm\"><g id=\"g4498\" transform=\"translate(76.64513,0.61693904)\"><path style=\"fill:#e9967a;fill-opacity:1;stroke:none;stroke-width:0.256683;stroke-linecap:butt;stroke-linejoin:miter;stroke-dasharray:none;stroke-opacity:1\" d=\"M -47.916667,-132.29167 H 14.84375 a 5,5 45 0 1 5,5 v 62.760417 a 5,5 135 0 1 -5,5 l -62.760417,0 a 5,5 45 0 1 -5,-5 l 0,-62.760417 a 5,5 135 0 1 5,-5 z\" id=\"path4488\" inkscape:path-effect=\"#path-effect4508\" inkscape:original-d=\"M -52.916667,-132.29167 H 19.84375 v 72.760417 h -72.760417 z\" inkscape:label=\"Contract\"/><text xml:space=\"preserve\" transform=\"matrix(0.26458333,0,0,0.26458333,-0.3500152,0)\" id=\"text4490\" style=\"font-style:normal;font-variant:normal;font-weight:bold;font-stretch:normal;font-size:18.6667px;line-height:1.1;font-family:'Noto Sans';-inkscape-font-specification:'Noto Sans, Bold';font-variant-ligatures:normal;font-variant-caps:normal;font-variant-numeric:normal;font-variant-east-asian:normal;text-align:center;letter-spacing:0px;word-spacing:0px;writing-mode:lr-tb;white-space:pre;shape-inside:url(#rect4502);display:inline\"><tspan x=\"-173.26129\" y=\"-467.42931\" id=\"tspan1074\">Shared Ownership of an </tspan><tspan x=\"-79.722478\" y=\"-446.89592\" id=\"tspan1076\">NFT</tspan></text><image width=\"44.708233\" height=\"35.214352\" preserveAspectRatio=\"none\" style=\"image-rendering:optimizeQuality\" xlink:href=\"https://raw.githubusercontent.com/input-output-hk/real-world-marlowe/main/nfts/shared/contract.png\" id=\"image4492\" x=\"-39.049377\" y=\"-113.51864\"/><text xml:space=\"preserve\" transform=\"matrix(0.26458333,0,0,0.26458333,0.19439396,1.0583333)\" id=\"text4496\" style=\"font-style:italic;font-variant:normal;font-weight:normal;font-stretch:normal;font-size:16px;line-height:1.1;font-family:'Noto Sans';-inkscape-font-specification:'Noto Sans, Italic';font-variant-ligatures:normal;font-variant-caps:normal;font-variant-numeric:normal;font-variant-east-asian:normal;text-align:center;letter-spacing:0px;word-spacing:0px;writing-mode:lr-tb;white-space:pre;shape-inside:url(#rect4504);display:inline\"><tspan x=\"-184.89877\" y=\"-280.83536\" id=\"tspan1078\">Several parties jointly purchase an </tspan><tspan x=\"-180.3308\" y=\"-263.23535\" id=\"tspan1080\">NFT, with an option for one party </tspan><tspan x=\"-151.49078\" y=\"-245.63534\" id=\"tspan1082\">to buy it from the others.</tspan></text></g></a><a id=\"a4522\" xlink:href=\"http://github.com/input-output-hk/real-world-marlowe/blob/main/nfts/collateral/ReadMe.ipynb\" transform=\"translate(206.9028,133.66439)\" target=\"rwm\"><g id=\"g4520\" transform=\"translate(76.64513,0.61693904)\"><path style=\"fill:#e9967a;fill-opacity:1;stroke:none;stroke-width:0.256683;stroke-linecap:butt;stroke-linejoin:miter;stroke-dasharray:none;stroke-opacity:1\" d=\"M -47.916667,-132.29167 H 14.84375 a 5,5 45 0 1 5,5 v 62.760417 a 5,5 135 0 1 -5,5 l -62.760417,0 a 5,5 45 0 1 -5,-5 l 0,-62.760417 a 5,5 135 0 1 5,-5 z\" id=\"path4510\" inkscape:path-effect=\"#path-effect4530\" inkscape:original-d=\"M -52.916667,-132.29167 H 19.84375 v 72.760417 h -72.760417 z\" inkscape:label=\"Contract\"/><text xml:space=\"preserve\" transform=\"matrix(0.26458333,0,0,0.26458333,-0.458671,0)\" id=\"text4512\" style=\"font-style:normal;font-variant:normal;font-weight:bold;font-stretch:normal;font-size:18.6667px;line-height:1.1;font-family:'Noto Sans';-inkscape-font-specification:'Noto Sans, Bold';font-variant-ligatures:normal;font-variant-caps:normal;font-variant-numeric:normal;font-variant-east-asian:normal;text-align:center;letter-spacing:0px;word-spacing:0px;writing-mode:lr-tb;white-space:pre;shape-inside:url(#rect4524);display:inline\"><tspan x=\"-181.60531\" y=\"-467.42931\" id=\"tspan1084\">NFT Used as Collateral for </tspan><tspan x=\"-92.490501\" y=\"-446.89592\" id=\"tspan1086\">a Loan</tspan></text><image width=\"56.456051\" height=\"30.365395\" preserveAspectRatio=\"none\" style=\"image-rendering:optimizeQuality\" xlink:href=\"https://raw.githubusercontent.com/input-output-hk/real-world-marlowe/main/nfts/collateral/contract.png\" id=\"image4514\" x=\"-44.764484\" y=\"-111.09416\"/><text xml:space=\"preserve\" transform=\"matrix(0.26458333,0,0,0.26458333,0.31504273,1.0583333)\" id=\"text4518\" style=\"font-style:italic;font-variant:normal;font-weight:normal;font-stretch:normal;font-size:16px;line-height:1.1;font-family:'Noto Sans';-inkscape-font-specification:'Noto Sans, Italic';font-variant-ligatures:normal;font-variant-caps:normal;font-variant-numeric:normal;font-variant-east-asian:normal;text-align:center;letter-spacing:0px;word-spacing:0px;writing-mode:lr-tb;white-space:pre;shape-inside:url(#rect4526);display:inline\"><tspan x=\"-177.55473\" y=\"-280.83536\" id=\"tspan1088\">An NFT is deposited as collateral </tspan><tspan x=\"-176.23477\" y=\"-263.23535\" id=\"tspan1090\">for a loan, and lost if the loan is </tspan><tspan x=\"-131.20276\" y=\"-245.63534\" id=\"tspan1092\">not repaid on time.</tspan></text></g></a><a id=\"a4434\" xlink:href=\"http://github.com/input-output-hk/real-world-marlowe/blob/main/nfts/pawn/ReadMe.ipynb\" transform=\"translate(286.2778,133.66439)\" target=\"rwm\"><g id=\"g4432\" transform=\"translate(76.64513,0.61693904)\"><path style=\"fill:#e9967a;fill-opacity:1;stroke:none;stroke-width:0.256683;stroke-linecap:butt;stroke-linejoin:miter;stroke-dasharray:none;stroke-opacity:1\" d=\"M -47.916667,-132.29167 H 14.84375 a 5,5 45 0 1 5,5 v 62.760417 a 5,5 135 0 1 -5,5 l -62.760417,0 a 5,5 45 0 1 -5,-5 l 0,-62.760417 a 5,5 135 0 1 5,-5 z\" id=\"path4422\" inkscape:path-effect=\"#path-effect4442\" inkscape:original-d=\"M -52.916667,-132.29167 H 19.84375 v 72.760417 h -72.760417 z\" inkscape:label=\"Contract\"/><text xml:space=\"preserve\" transform=\"matrix(0.26458333,0,0,0.26458333,-0.45866966,0)\" id=\"text4424\" style=\"font-style:normal;font-variant:normal;font-weight:bold;font-stretch:normal;font-size:18.6667px;line-height:1.1;font-family:'Noto Sans';-inkscape-font-specification:'Noto Sans, Bold';font-variant-ligatures:normal;font-variant-caps:normal;font-variant-numeric:normal;font-variant-east-asian:normal;text-align:center;letter-spacing:0px;word-spacing:0px;writing-mode:lr-tb;white-space:pre;shape-inside:url(#rect4436);display:inline\"><tspan x=\"-164.68397\" y=\"-467.42931\" id=\"tspan1094\">Pawning a Token for a </tspan><tspan x=\"-110.26119\" y=\"-446.89592\" id=\"tspan1096\">Stablecoin</tspan></text><image width=\"45.411003\" height=\"30.365395\" preserveAspectRatio=\"none\" style=\"image-rendering:optimizeQuality\" xlink:href=\"https://raw.githubusercontent.com/input-output-hk/real-world-marlowe/main/nfts/pawn/contract.png\" id=\"image4426\" x=\"-39.241959\" y=\"-111.09416\"/><text xml:space=\"preserve\" transform=\"matrix(0.26458333,0,0,0.26458333,0.31716162,1.0583333)\" id=\"text4430\" style=\"font-style:italic;font-variant:normal;font-weight:normal;font-stretch:normal;font-size:16px;line-height:1.1;font-family:'Noto Sans';-inkscape-font-specification:'Noto Sans, Italic';font-variant-ligatures:normal;font-variant-caps:normal;font-variant-numeric:normal;font-variant-east-asian:normal;text-align:center;letter-spacing:0px;word-spacing:0px;writing-mode:lr-tb;white-space:pre;shape-inside:url(#rect4438);display:inline\"><tspan x=\"-174.83475\" y=\"-280.83536\" id=\"tspan1098\">An NFT is pawned for iUSD, and </tspan><tspan x=\"-174.85078\" y=\"-263.23535\" id=\"tspan1100\">the shop has the option to keep </tspan><tspan x=\"-174.42677\" y=\"-245.63534\" id=\"tspan1102\">the token unless it is redeemed.</tspan></text></g></a><a id=\"a4434-5\" xlink:href=\"http://github.com/input-output-hk/real-world-marlowe/blob/main/nfts/oracle/ReadMe.ipynb\" transform=\"translate(-31.222366,213.03889)\" target=\"rwm\"><g id=\"g4432-3\" transform=\"translate(76.64513,0.61693904)\"><path style=\"fill:#e9967a;fill-opacity:1;stroke:none;stroke-width:0.256683;stroke-linecap:butt;stroke-linejoin:miter;stroke-dasharray:none;stroke-opacity:1\" d=\"M -47.916667,-132.29167 H 14.84375 a 5,5 45 0 1 5,5 v 62.760417 a 5,5 135 0 1 -5,5 l -62.760417,0 a 5,5 45 0 1 -5,-5 l 0,-62.760417 a 5,5 135 0 1 5,-5 z\" id=\"path4422-5\" inkscape:path-effect=\"#path-effect4442-3\" inkscape:original-d=\"M -52.916667,-132.29167 H 19.84375 v 72.760417 h -72.760417 z\" inkscape:label=\"Contract\"/><text xml:space=\"preserve\" transform=\"matrix(0.26458333,0,0,0.26458333,-0.45866966,0)\" id=\"text4424-6\" style=\"font-style:normal;font-variant:normal;font-weight:bold;font-stretch:normal;font-size:18.6667px;line-height:1.1;font-family:'Noto Sans';-inkscape-font-specification:'Noto Sans, Bold';font-variant-ligatures:normal;font-variant-caps:normal;font-variant-numeric:normal;font-variant-east-asian:normal;text-align:center;letter-spacing:0px;word-spacing:0px;writing-mode:lr-tb;white-space:pre;shape-inside:url(#rect4436-6);display:inline\"><tspan x=\"-167.28799\" y=\"-467.42931\" id=\"tspan1104\">Token Sale with Oracle</tspan></text><image width=\"38.201625\" height=\"30.365395\" preserveAspectRatio=\"none\" style=\"image-rendering:optimizeQuality\" xlink:href=\"https://raw.githubusercontent.com/input-output-hk/real-world-marlowe/main/nfts/oracle/contract.png\" id=\"image4426-2\" x=\"-35.546124\" y=\"-111.09416\"/><text xml:space=\"preserve\" transform=\"matrix(0.26458333,0,0,0.26458333,0.31716162,1.0583333)\" id=\"text4430-9\" style=\"font-style:italic;font-variant:normal;font-weight:normal;font-stretch:normal;font-size:16px;line-height:1.1;font-family:'Noto Sans';-inkscape-font-specification:'Noto Sans, Italic';font-variant-ligatures:normal;font-variant-caps:normal;font-variant-numeric:normal;font-variant-east-asian:normal;text-align:center;letter-spacing:0px;word-spacing:0px;writing-mode:lr-tb;white-space:pre;shape-inside:url(#rect4438-7);display:inline\"><tspan x=\"-177.83478\" y=\"-280.83536\" id=\"tspan1106\">Tokens are sold for Ada, where a </tspan><tspan x=\"-169.54675\" y=\"-263.23535\" id=\"tspan1108\">price oracle sets the exchange </tspan><tspan x=\"-79.650742\" y=\"-245.63534\" id=\"tspan1110\">rate.</tspan></text></g></a><a id=\"a4434-5-5\" xlink:href=\"http://github.com/input-output-hk/real-world-marlowe/blob/main/nfts/auction/ReadMe.ipynb\" transform=\"translate(48.152634,213.03889)\" target=\"rwm\"><g id=\"g4432-3-3\" transform=\"translate(76.64513,0.61693904)\"><path style=\"fill:#e9967a;fill-opacity:1;stroke:none;stroke-width:0.256683;stroke-linecap:butt;stroke-linejoin:miter;stroke-dasharray:none;stroke-opacity:1\" d=\"M -47.916667,-132.29167 H 14.84375 a 5,5 45 0 1 5,5 v 62.760417 a 5,5 135 0 1 -5,5 l -62.760417,0 a 5,5 45 0 1 -5,-5 l 0,-62.760417 a 5,5 135 0 1 5,-5 z\" id=\"path4422-5-5\" inkscape:path-effect=\"#path-effect4442-3-3\" inkscape:original-d=\"M -52.916667,-132.29167 H 19.84375 v 72.760417 h -72.760417 z\" inkscape:label=\"Contract\"/><text xml:space=\"preserve\" transform=\"matrix(0.26458333,0,0,0.26458333,-0.45866966,0)\" id=\"text4424-6-6\" style=\"font-style:normal;font-variant:normal;font-weight:bold;font-stretch:normal;font-size:18.6667px;line-height:1.1;font-family:'Noto Sans';-inkscape-font-specification:'Noto Sans, Bold';font-variant-ligatures:normal;font-variant-caps:normal;font-variant-numeric:normal;font-variant-east-asian:normal;text-align:center;letter-spacing:0px;word-spacing:0px;writing-mode:lr-tb;white-space:pre;shape-inside:url(#rect4436-6-6);display:inline\"><tspan x=\"-144.33725\" y=\"-467.42931\" id=\"tspan1112\">Auction of an NFT</tspan></text><image width=\"24.686245\" height=\"30.365395\" preserveAspectRatio=\"none\" style=\"image-rendering:optimizeQuality\" xlink:href=\"https://raw.githubusercontent.com/input-output-hk/real-world-marlowe/main/nfts/auction/contract.png\" id=\"image4426-2-2\" x=\"-28.879581\" y=\"-111.09416\"/><text xml:space=\"preserve\" transform=\"matrix(0.26458333,0,0,0.26458333,0.31716162,1.0583333)\" id=\"text4430-9-9\" style=\"font-style:italic;font-variant:normal;font-weight:normal;font-stretch:normal;font-size:16px;line-height:1.1;font-family:'Noto Sans';-inkscape-font-specification:'Noto Sans, Italic';font-variant-ligatures:normal;font-variant-caps:normal;font-variant-numeric:normal;font-variant-east-asian:normal;text-align:center;letter-spacing:0px;word-spacing:0px;writing-mode:lr-tb;white-space:pre;shape-inside:url(#rect4438-7-7);display:inline\"><tspan x=\"-176.81873\" y=\"-280.83536\" id=\"tspan1114\">An English auction is held to sell </tspan><tspan x=\"-166.13078\" y=\"-263.23535\" id=\"tspan1116\">an NFT to the highest bidder.</tspan></text></g></a><a id=\"a2425-5\" xlink:href=\"http://github.com/input-output-hk/real-world-marlowe/blob/main/realfi/actus/actus-pam.ipynb\" transform=\"translate(127.52763,213.03889)\" target=\"rwm\"><g id=\"g2423-3\" transform=\"translate(76.64513,0.61693904)\"><path style=\"fill:#add8e6;fill-opacity:1;stroke:none;stroke-width:0.256683;stroke-linecap:butt;stroke-linejoin:miter;stroke-dasharray:none;stroke-opacity:1\" d=\"M -47.916667,-132.29167 H 14.84375 a 5,5 45 0 1 5,5 v 62.760417 a 5,5 135 0 1 -5,5 l -62.760417,0 a 5,5 45 0 1 -5,-5 l 0,-62.760417 a 5,5 135 0 1 5,-5 z\" id=\"path2413-5\" inkscape:path-effect=\"#path-effect2433-3\" inkscape:original-d=\"M -52.916667,-132.29167 H 19.84375 v 72.760417 h -72.760417 z\" inkscape:label=\"Contract\"/><text xml:space=\"preserve\" transform=\"matrix(0.26458333,0,0,0.26458333,-0.16480638,0)\" id=\"text2415-6\" style=\"font-style:normal;font-variant:normal;font-weight:bold;font-stretch:normal;font-size:18.6667px;line-height:1.1;font-family:'Noto Sans';-inkscape-font-specification:'Noto Sans, Bold';font-variant-ligatures:normal;font-variant-caps:normal;font-variant-numeric:normal;font-variant-east-asian:normal;text-align:center;letter-spacing:0px;word-spacing:0px;writing-mode:lr-tb;white-space:pre;shape-inside:url(#rect2427-6);display:inline\"><tspan x=\"-150.32926\" y=\"-467.42931\" id=\"tspan1118\">ACTUS Contract for </tspan><tspan x=\"-158.32798\" y=\"-446.89592\" id=\"tspan1120\">Principal at Maturity</tspan></text><image width=\"53.827637\" height=\"30.365395\" preserveAspectRatio=\"none\" style=\"image-rendering:optimizeQuality\" xlink:href=\"https://raw.githubusercontent.com/input-output-hk/real-world-marlowe/main/realfi/actus/actus-pam-1.png\" id=\"image2417-2\" x=\"-43.450275\" y=\"-111.09416\"/><text xml:space=\"preserve\" transform=\"matrix(0.26458333,0,0,0.26458333,0.08432881,1.0583333)\" id=\"text2421-9\" style=\"font-style:italic;font-variant:normal;font-weight:normal;font-stretch:normal;font-size:16px;line-height:1.1;font-family:'Noto Sans';-inkscape-font-specification:'Noto Sans, Italic';font-variant-ligatures:normal;font-variant-caps:normal;font-variant-numeric:normal;font-variant-east-asian:normal;text-align:center;letter-spacing:0px;word-spacing:0px;writing-mode:lr-tb;white-space:pre;shape-inside:url(#rect2429-7);display:inline\"><tspan x=\"-178.05876\" y=\"-280.83536\" id=\"tspan1122\">Interest is paid periodically for a </tspan><tspan x=\"-184.9868\" y=\"-263.23535\" id=\"tspan1124\">loan, with the final payment being </tspan><tspan x=\"-110.23474\" y=\"-245.63534\" id=\"tspan1126\">the principal.</tspan></text></g></a><a id=\"a2425\" xlink:href=\"http://github.com/input-output-hk/real-world-marlowe/blob/main/realfi/coupon-bond-guaranteed/ReadMe.ipynb\" transform=\"translate(206.9028,213.03939)\" target=\"rwm\"><g id=\"g2423\" transform=\"translate(76.64513,0.61693904)\"><path style=\"fill:#add8e6;fill-opacity:1;stroke:none;stroke-width:0.256683;stroke-linecap:butt;stroke-linejoin:miter;stroke-dasharray:none;stroke-opacity:1\" d=\"M -47.916667,-132.29167 H 14.84375 a 5,5 45 0 1 5,5 v 62.760417 a 5,5 135 0 1 -5,5 l -62.760417,0 a 5,5 45 0 1 -5,-5 l 0,-62.760417 a 5,5 135 0 1 5,-5 z\" id=\"path2413\" inkscape:path-effect=\"#path-effect2433\" inkscape:original-d=\"M -52.916667,-132.29167 H 19.84375 v 72.760417 h -72.760417 z\" inkscape:label=\"Contract\"/><text xml:space=\"preserve\" transform=\"matrix(0.26458333,0,0,0.26458333,-0.16480638,0)\" id=\"text2415\" style=\"font-style:normal;font-variant:normal;font-weight:bold;font-stretch:normal;font-size:18.6667px;line-height:1.1;font-family:'Noto Sans';-inkscape-font-specification:'Noto Sans, Bold';font-variant-ligatures:normal;font-variant-caps:normal;font-variant-numeric:normal;font-variant-east-asian:normal;text-align:center;letter-spacing:0px;word-spacing:0px;writing-mode:lr-tb;white-space:pre;shape-inside:url(#rect2427);display:inline\"><tspan x=\"-147.23991\" y=\"-467.42931\" id=\"tspan1128\">Coupon Bond with </tspan><tspan x=\"-110.01854\" y=\"-446.89592\" id=\"tspan1130\">Guarantor</tspan></text><image width=\"37.667992\" height=\"30.365395\" preserveAspectRatio=\"none\" style=\"image-rendering:optimizeQuality\" xlink:href=\"https://raw.githubusercontent.com/input-output-hk/real-world-marlowe/main/realfi/coupon-bond-guaranteed/contract.png\" id=\"image2417\" x=\"-35.370453\" y=\"-111.09416\"/><text xml:space=\"preserve\" transform=\"matrix(0.26458333,0,0,0.26458333,0.08432881,1.0583333)\" id=\"text2421\" style=\"font-style:italic;font-variant:normal;font-weight:normal;font-stretch:normal;font-size:16px;line-height:1.1;font-family:'Noto Sans';-inkscape-font-specification:'Noto Sans, Italic';font-variant-ligatures:normal;font-variant-caps:normal;font-variant-numeric:normal;font-variant-east-asian:normal;text-align:center;letter-spacing:0px;word-spacing:0px;writing-mode:lr-tb;white-space:pre;shape-inside:url(#rect2429);display:inline\"><tspan x=\"-161.37074\" y=\"-280.83536\" id=\"tspan1132\">An example coupon bond is </tspan><tspan x=\"-163.22682\" y=\"-263.23535\" id=\"tspan1134\">guaranteed by a third party.</tspan></text></g></a><a id=\"a2654\" xlink:href=\"http://github.com/input-output-hk/real-world-marlowe/blob/main/defi/beamer/ReadMe.ipynb\" transform=\"translate(286.2778,213.03939)\" target=\"rwm\"><g id=\"g2652\" transform=\"translate(76.64513,0.61693904)\"><path style=\"fill:#ffdead;fill-opacity:1;stroke:none;stroke-width:0.256683;stroke-linecap:butt;stroke-linejoin:miter;stroke-dasharray:none;stroke-opacity:1\" d=\"M -47.916667,-132.29167 H 14.84375 a 5,5 45 0 1 5,5 v 62.760417 a 5,5 135 0 1 -5,5 l -62.760417,0 a 5,5 45 0 1 -5,-5 l 0,-62.760417 a 5,5 135 0 1 5,-5 z\" id=\"path2642\" inkscape:path-effect=\"#path-effect2662\" inkscape:original-d=\"M -52.916667,-132.29167 H 19.84375 v 72.760417 h -72.760417 z\" inkscape:label=\"Contract\"/><text xml:space=\"preserve\" transform=\"matrix(0.26458333,0,0,0.26458333,-0.23642061,0)\" id=\"text2644\" style=\"font-style:normal;font-variant:normal;font-weight:bold;font-stretch:normal;font-size:18.6667px;line-height:1.1;font-family:'Noto Sans';-inkscape-font-specification:'Noto Sans, Bold';font-variant-ligatures:normal;font-variant-caps:normal;font-variant-numeric:normal;font-variant-east-asian:normal;text-align:center;letter-spacing:0px;word-spacing:0px;writing-mode:lr-tb;white-space:pre;shape-inside:url(#rect2656);display:inline\"><tspan x=\"-166.10264\" y=\"-467.42931\" id=\"tspan1136\">A Geolocated Marlowe </tspan><tspan x=\"-102.04784\" y=\"-446.89592\" id=\"tspan1138\">Contract</tspan></text><image width=\"53.776604\" height=\"30.365395\" preserveAspectRatio=\"none\" style=\"image-rendering:optimizeQuality\" xlink:href=\"https://raw.githubusercontent.com/input-output-hk/real-world-marlowe/main/defi/beamer/contract.png\" id=\"image2646\" x=\"-43.424759\" y=\"-111.09416\"/><text xml:space=\"preserve\" transform=\"matrix(0.26458333,0,0,0.26458333,0.08221063,1.0583333)\" id=\"text2650\" style=\"font-style:italic;font-variant:normal;font-weight:normal;font-stretch:normal;font-size:16px;line-height:1.1;font-family:'Noto Sans';-inkscape-font-specification:'Noto Sans, Italic';font-variant-ligatures:normal;font-variant-caps:normal;font-variant-numeric:normal;font-variant-east-asian:normal;text-align:center;letter-spacing:0px;word-spacing:0px;writing-mode:lr-tb;white-space:pre;shape-inside:url(#rect2658);display:inline\"><tspan x=\"-179.52277\" y=\"-280.83536\" id=\"tspan1140\">Cardano Beam adds geolocation </tspan><tspan x=\"-143.28275\" y=\"-263.23535\" id=\"tspan1142\">to a Marlowe contract.</tspan></text></g></a><a id=\"a2814\" xlink:href=\"http://github.com/input-output-hk/real-world-marlowe/blob/main/firsts/loan/ReadMe.ipynb\" transform=\"translate(-31.222199,292.41439)\" target=\"rwm\"><g id=\"g2812\" transform=\"translate(76.64513,0.61693904)\"><path style=\"fill:#d3d3d3;fill-opacity:1;stroke:none;stroke-width:0.256683;stroke-linecap:butt;stroke-linejoin:miter;stroke-dasharray:none;stroke-opacity:1\" d=\"M -47.916667,-132.29167 H 14.84375 a 5,5 45 0 1 5,5 v 62.760417 a 5,5 135 0 1 -5,5 l -62.760417,0 a 5,5 45 0 1 -5,-5 l 0,-62.760417 a 5,5 135 0 1 5,-5 z\" id=\"path2802\" inkscape:path-effect=\"#path-effect2822\" inkscape:original-d=\"M -52.916667,-132.29167 H 19.84375 v 72.760417 h -72.760417 z\" inkscape:label=\"Contract\"/><text xml:space=\"preserve\" transform=\"matrix(0.26458333,0,0,0.26458333,-0.37964768,0)\" id=\"text2804\" style=\"font-style:normal;font-variant:normal;font-weight:bold;font-stretch:normal;font-size:18.6667px;line-height:1.1;font-family:'Noto Sans';-inkscape-font-specification:'Noto Sans, Bold';font-variant-ligatures:normal;font-variant-caps:normal;font-variant-numeric:normal;font-variant-east-asian:normal;text-align:center;letter-spacing:0px;word-spacing:0px;writing-mode:lr-tb;white-space:pre;shape-inside:url(#rect2816);display:inline\"><tspan x=\"-143.0306\" y=\"-467.42931\" id=\"tspan1144\">First Peer-to-Peer </tspan><tspan x=\"-183.35067\" y=\"-446.89592\" id=\"tspan1146\">Marlowe Loan on Mainnet</tspan></text><image width=\"21.328487\" height=\"30.365395\" preserveAspectRatio=\"none\" style=\"image-rendering:optimizeQuality\" xlink:href=\"https://raw.githubusercontent.com/input-output-hk/real-world-marlowe/main/firsts/loan/contract.png\" id=\"image2806\" x=\"-27.200703\" y=\"-111.09416\"/><text xml:space=\"preserve\" transform=\"matrix(0.26458333,0,0,0.26458333,0.35526062,1.0583333)\" id=\"text2810\" style=\"font-style:italic;font-variant:normal;font-weight:normal;font-stretch:normal;font-size:16px;line-height:1.1;font-family:'Noto Sans';-inkscape-font-specification:'Noto Sans, Italic';font-variant-ligatures:normal;font-variant-caps:normal;font-variant-numeric:normal;font-variant-east-asian:normal;text-align:center;letter-spacing:0px;word-spacing:0px;writing-mode:lr-tb;white-space:pre;shape-inside:url(#rect2818);display:inline\"><tspan x=\"-173.39478\" y=\"-280.83536\" id=\"tspan1148\">A peer-to-peer installment loan </tspan><tspan x=\"-152.73076\" y=\"-263.23535\" id=\"tspan1150\">uses a private stablecoin.</tspan></text></g></a><a id=\"a2836\" xlink:href=\"http://github.com/input-output-hk/real-world-marlowe/blob/main/firsts/reference/ReadMe.ipynb\" transform=\"translate(48.152802,292.41439)\" target=\"rwm\"><g id=\"g2834\" transform=\"translate(76.64513,0.61693904)\"><path style=\"fill:#d3d3d3;fill-opacity:1;stroke:none;stroke-width:0.256683;stroke-linecap:butt;stroke-linejoin:miter;stroke-dasharray:none;stroke-opacity:1\" d=\"M -47.916667,-132.29167 H 14.84375 a 5,5 45 0 1 5,5 v 62.760417 a 5,5 135 0 1 -5,5 l -62.760417,0 a 5,5 45 0 1 -5,-5 l 0,-62.760417 a 5,5 135 0 1 5,-5 z\" id=\"path2824\" inkscape:path-effect=\"#path-effect2844\" inkscape:original-d=\"M -52.916667,-132.29167 H 19.84375 v 72.760417 h -72.760417 z\" inkscape:label=\"Contract\"/><text xml:space=\"preserve\" transform=\"matrix(0.26458333,0,0,0.26458333,-0.37964857,0)\" id=\"text2826\" style=\"font-style:normal;font-variant:normal;font-weight:bold;font-stretch:normal;font-size:18.6667px;line-height:1.1;font-family:'Noto Sans';-inkscape-font-specification:'Noto Sans, Bold';font-variant-ligatures:normal;font-variant-caps:normal;font-variant-numeric:normal;font-variant-east-asian:normal;text-align:center;letter-spacing:0px;word-spacing:0px;writing-mode:lr-tb;white-space:pre;shape-inside:url(#rect2838);display:inline\"><tspan x=\"-161.15594\" y=\"-467.42931\" id=\"tspan1152\">First Reference Script </tspan><tspan x=\"-163.17193\" y=\"-446.89592\" id=\"tspan1154\">Execution on Mainnet</tspan></text><image width=\"30.038494\" height=\"30.365395\" preserveAspectRatio=\"none\" style=\"image-rendering:optimizeQuality\" xlink:href=\"https://raw.githubusercontent.com/input-output-hk/real-world-marlowe/main/firsts/swap/contract.png\" id=\"image2828\" x=\"-31.555706\" y=\"-111.09416\"/><text xml:space=\"preserve\" transform=\"matrix(0.26458333,0,0,0.26458333,-0.02362116,1.0583333)\" id=\"text2832\" style=\"font-style:italic;font-variant:normal;font-weight:normal;font-stretch:normal;font-size:16px;line-height:1.1;font-family:'Noto Sans';-inkscape-font-specification:'Noto Sans, Italic';font-variant-ligatures:normal;font-variant-caps:normal;font-variant-numeric:normal;font-variant-east-asian:normal;text-align:center;letter-spacing:0px;word-spacing:0px;writing-mode:lr-tb;white-space:pre;shape-inside:url(#rect2840);display:inline\"><tspan x=\"-183.55476\" y=\"-280.83536\" id=\"tspan1156\">The first Plutus V2 reference script </tspan><tspan x=\"-178.94679\" y=\"-263.23535\" id=\"tspan1158\">runs on the Cardano mainnet, in </tspan><tspan x=\"-153.93878\" y=\"-245.63534\" id=\"tspan1160\">the form of a token swap.</tspan></text></g></a><a id=\"a2858\" xlink:href=\"http://github.com/input-output-hk/real-world-marlowe/blob/main/firsts/plutus-v2/ReadMe.ipynb\" transform=\"translate(127.5278,292.41439)\" target=\"rwm\"><g id=\"g2856\" transform=\"translate(76.64513,0.61693904)\"><path style=\"fill:#d3d3d3;fill-opacity:1;stroke:none;stroke-width:0.256683;stroke-linecap:butt;stroke-linejoin:miter;stroke-dasharray:none;stroke-opacity:1\" d=\"M -47.916667,-132.29167 H 14.84375 a 5,5 45 0 1 5,5 v 62.760417 a 5,5 135 0 1 -5,5 l -62.760417,0 a 5,5 45 0 1 -5,-5 l 0,-62.760417 a 5,5 135 0 1 5,-5 z\" id=\"path2846\" inkscape:path-effect=\"#path-effect2866\" inkscape:original-d=\"M -52.916667,-132.29167 H 19.84375 v 72.760417 h -72.760417 z\" inkscape:label=\"Contract\"/><text xml:space=\"preserve\" transform=\"matrix(0.26458333,0,0,0.26458333,-0.45867139,0)\" id=\"text2848\" style=\"font-style:normal;font-variant:normal;font-weight:bold;font-stretch:normal;font-size:18.6667px;line-height:1.1;font-family:'Noto Sans';-inkscape-font-specification:'Noto Sans, Bold';font-variant-ligatures:normal;font-variant-caps:normal;font-variant-numeric:normal;font-variant-east-asian:normal;text-align:center;letter-spacing:0px;word-spacing:0px;writing-mode:lr-tb;white-space:pre;shape-inside:url(#rect2860);display:inline\"><tspan x=\"-142.75992\" y=\"-467.42931\" id=\"tspan1162\">First Plutus V2 on </tspan><tspan x=\"-100.72252\" y=\"-446.89592\" id=\"tspan1164\">Mainnet</tspan></text><image width=\"36.529228\" height=\"30.365395\" preserveAspectRatio=\"none\" style=\"image-rendering:optimizeQuality\" xlink:href=\"https://raw.githubusercontent.com/input-output-hk/real-world-marlowe/main/firsts/plutus-v2/contract.png\" id=\"image2850\" x=\"-34.801071\" y=\"-111.09416\"/><text xml:space=\"preserve\" transform=\"matrix(0.26458333,0,0,0.26458333,0.14147729,1.0583333)\" id=\"text2854\" style=\"font-style:italic;font-variant:normal;font-weight:normal;font-stretch:normal;font-size:16px;line-height:1.1;font-family:'Noto Sans';-inkscape-font-specification:'Noto Sans, Italic';font-variant-ligatures:normal;font-variant-caps:normal;font-variant-numeric:normal;font-variant-east-asian:normal;text-align:center;letter-spacing:0px;word-spacing:0px;writing-mode:lr-tb;white-space:pre;shape-inside:url(#rect2862);display:inline\"><tspan x=\"-177.85875\" y=\"-280.83536\" id=\"tspan1166\">The first Plutus V2 script runs on </tspan><tspan x=\"-182.41881\" y=\"-263.23535\" id=\"tspan1168\">the Cardano mainnet, in the form </tspan><tspan x=\"-140.33075\" y=\"-245.63534\" id=\"tspan1170\">of a Marlowe airdrop.</tspan></text></g></a><a id=\"a2880\" xlink:href=\"http://github.com/input-output-hk/real-world-marlowe/blob/main/firsts/swap/ReadMe.ipynb\" transform=\"translate(206.9028,292.41439)\" target=\"rwm\"><g id=\"g2878\" transform=\"translate(76.64513,0.61693904)\"><path style=\"fill:#d3d3d3;fill-opacity:1;stroke:none;stroke-width:0.256683;stroke-linecap:butt;stroke-linejoin:miter;stroke-dasharray:none;stroke-opacity:1\" d=\"M -47.916667,-132.29167 H 14.84375 a 5,5 45 0 1 5,5 v 62.760417 a 5,5 135 0 1 -5,5 l -62.760417,0 a 5,5 45 0 1 -5,-5 l 0,-62.760417 a 5,5 135 0 1 5,-5 z\" id=\"path2868\" inkscape:path-effect=\"#path-effect2888\" inkscape:original-d=\"M -52.916667,-132.29167 H 19.84375 v 72.760417 h -72.760417 z\" inkscape:label=\"Contract\"/><text xml:space=\"preserve\" transform=\"matrix(0.26458333,0,0,0.26458333,-0.45866964,0)\" id=\"text2870\" style=\"font-style:normal;font-variant:normal;font-weight:bold;font-stretch:normal;font-size:18.6667px;line-height:1.1;font-family:'Noto Sans';-inkscape-font-specification:'Noto Sans, Bold';font-variant-ligatures:normal;font-variant-caps:normal;font-variant-numeric:normal;font-variant-east-asian:normal;text-align:center;letter-spacing:0px;word-spacing:0px;writing-mode:lr-tb;white-space:pre;shape-inside:url(#rect2882);display:inline\"><tspan x=\"-183.0427\" y=\"-467.42931\" id=\"tspan1172\">First Marlowe Token Swap </tspan><tspan x=\"-115.05854\" y=\"-446.89592\" id=\"tspan1174\">on Mainnet</tspan></text><image width=\"30.038494\" height=\"30.365395\" preserveAspectRatio=\"none\" style=\"image-rendering:optimizeQuality\" xlink:href=\"https://raw.githubusercontent.com/input-output-hk/real-world-marlowe/main/firsts/swap/contract.png\" id=\"image2872\" x=\"-31.555706\" y=\"-111.09416\"/><text xml:space=\"preserve\" transform=\"matrix(0.26458333,0,0,0.26458333,0.14994396,1.0583333)\" id=\"text2876\" style=\"font-style:italic;font-variant:normal;font-weight:normal;font-stretch:normal;font-size:16px;line-height:1.1;font-family:'Noto Sans';-inkscape-font-specification:'Noto Sans, Italic';font-variant-ligatures:normal;font-variant-caps:normal;font-variant-numeric:normal;font-variant-east-asian:normal;text-align:center;letter-spacing:0px;word-spacing:0px;writing-mode:lr-tb;white-space:pre;shape-inside:url(#rect2884);display:inline\"><tspan x=\"-164.80276\" y=\"-280.83536\" id=\"tspan1176\">The first input is applied to a </tspan><tspan x=\"-182.60277\" y=\"-263.23535\" id=\"tspan1178\">Marlowe contract on the Cardano </tspan><tspan x=\"-94.954742\" y=\"-245.63534\" id=\"tspan1180\">mainnet.</tspan></text></g></a><a id=\"a2902\" xlink:href=\"http://github.com/input-output-hk/real-world-marlowe/blob/main/firsts/mainnet/ReadMe.ipynb\" transform=\"translate(286.2778,292.41439)\" target=\"rwm\"><g id=\"g2900\" transform=\"translate(76.64513,0.61693904)\"><path style=\"fill:#d3d3d3;fill-opacity:1;stroke:none;stroke-width:0.256683;stroke-linecap:butt;stroke-linejoin:miter;stroke-dasharray:none;stroke-opacity:1\" d=\"M -47.916667,-132.29167 H 14.84375 a 5,5 45 0 1 5,5 v 62.760417 a 5,5 135 0 1 -5,5 l -62.760417,0 a 5,5 45 0 1 -5,-5 l 0,-62.760417 a 5,5 135 0 1 5,-5 z\" id=\"path2890\" inkscape:path-effect=\"#path-effect2910\" inkscape:original-d=\"M -52.916667,-132.29167 H 19.84375 v 72.760417 h -72.760417 z\" inkscape:label=\"Contract\"/><text xml:space=\"preserve\" transform=\"matrix(0.26458333,0,0,0.26458333,-0.45866964,0)\" id=\"text2892\" style=\"font-style:normal;font-variant:normal;font-weight:bold;font-stretch:normal;font-size:18.6667px;line-height:1.1;font-family:'Noto Sans';-inkscape-font-specification:'Noto Sans, Bold';font-variant-ligatures:normal;font-variant-caps:normal;font-variant-numeric:normal;font-variant-east-asian:normal;text-align:center;letter-spacing:0px;word-spacing:0px;writing-mode:lr-tb;white-space:pre;shape-inside:url(#rect2904);display:inline\"><tspan x=\"-182.75333\" y=\"-467.42931\" id=\"tspan1182\">First Marlowe Contract on </tspan><tspan x=\"-100.72252\" y=\"-446.89592\" id=\"tspan1184\">Mainnet</tspan></text><image width=\"26.091745\" height=\"30.365395\" preserveAspectRatio=\"none\" style=\"image-rendering:optimizeQuality\" xlink:href=\"https://raw.githubusercontent.com/input-output-hk/real-world-marlowe/main/firsts/mainnet/contract.png\" id=\"image2894\" x=\"-31.555706\" y=\"-111.09416\"/><text xml:space=\"preserve\" transform=\"matrix(0.26458333,0,0,0.26458333,0.14994396,1.0583333)\" id=\"text2898\" style=\"font-style:italic;font-variant:normal;font-weight:normal;font-stretch:normal;font-size:16px;line-height:1.1;font-family:'Noto Sans';-inkscape-font-specification:'Noto Sans, Italic';font-variant-ligatures:normal;font-variant-caps:normal;font-variant-numeric:normal;font-variant-east-asian:normal;text-align:center;letter-spacing:0px;word-spacing:0px;writing-mode:lr-tb;white-space:pre;shape-inside:url(#rect2906);display:inline\"><tspan x=\"-163.66673\" y=\"-280.83536\" id=\"tspan1186\">The first Marlowe contract is </tspan><tspan x=\"-185.4908\" y=\"-263.23535\" id=\"tspan1188\">executed on the Cardano mainnet.</tspan></text></g></a></g></svg>"
      ],
      "text/plain": [
       "<IPython.core.display.SVG object>"
      ]
     },
     "execution_count": 31,
     "metadata": {},
     "output_type": "execute_result"
    }
   ],
   "source": [
    "SVG(url='https://raw.githubusercontent.com/input-output-hk/awesome-marlowe/main/contracts/real-world-marlowe/gallery.svg')"
   ]
  },
  {
   "cell_type": "markdown",
   "id": "a7ff9f80",
   "metadata": {},
   "source": [
    "[**more example contracts**](https://github.com/input-output-hk/marlowe-cardano/blob/main/marlowe/example-contracts.md)  \n",
    "\n",
    "**we will use the following blockly code, similar to the marlowe code mentioned above**\n",
    "![marlowe playground blockly code](../../image/marlowe_playground_swap_blockly.png)  \n",
    "\n",
    "**You can export the script to \".json\"**  \n",
    "We stored this script and it's content looks like this.    "
   ]
  },
  {
   "cell_type": "code",
   "execution_count": 32,
   "id": "9d1259c9",
   "metadata": {},
   "outputs": [
    {
     "name": "stdout",
     "output_type": "stream",
     "text": [
      "{\n",
      "  \"when\": [\n",
      "    {\n",
      "      \"then\": {\n",
      "        \"when\": [\n",
      "          {\n",
      "            \"then\": {\n",
      "              \"token\": {\n",
      "                \"token_name\": \"\",\n",
      "                \"currency_symbol\": \"\"\n",
      "              },\n",
      "              \"to\": {\n",
      "                \"party\": {\n",
      "                  \"role_token\": \"Buyer\"\n",
      "                }\n",
      "              },\n",
      "              \"then\": {\n",
      "                \"token\": {\n",
      "                  \"token_name\": \"\",\n",
      "                  \"currency_symbol\": \"\"\n",
      "                },\n",
      "                \"to\": {\n",
      "                  \"party\": {\n",
      "                    \"role_token\": \"Seller\"\n",
      "                  }\n",
      "                },\n",
      "                \"then\": \"close\",\n",
      "                \"pay\": 0,\n",
      "                \"from_account\": {\n",
      "                  \"role_token\": \"Buyer\"\n",
      "                }\n",
      "              },\n",
      "              \"pay\": 0,\n",
      "              \"from_account\": {\n",
      "                \"role_token\": \"Seller\"\n",
      "              }\n",
      "            },\n",
      "            \"case\": {\n",
      "              \"party\": {\n",
      "                \"role_token\": \"Buyer\"\n",
      "              },\n",
      "              \"of_token\": {\n",
      "                \"token_name\": \"\",\n",
      "                \"currency_symbol\": \"\"\n",
      "              },\n",
      "              \"into_account\": {\n",
      "                \"role_token\": \"Buyer\"\n",
      "              },\n",
      "              \"deposits\": 0\n",
      "            }\n",
      "          }\n",
      "        ],\n",
      "        \"timeout_continuation\": \"close\",\n",
      "        \"timeout\": 1658230520814\n",
      "      },\n",
      "      \"case\": {\n",
      "        \"party\": {\n",
      "          \"role_token\": \"Seller\"\n",
      "        },\n",
      "        \"of_token\": {\n",
      "          \"token_name\": \"\",\n",
      "          \"currency_symbol\": \"\"\n",
      "        },\n",
      "        \"into_account\": {\n",
      "          \"role_token\": \"Seller\"\n",
      "        },\n",
      "        \"deposits\": 0\n",
      "      }\n",
      "    }\n",
      "  ],\n",
      "  \"timeout_continuation\": \"close\",\n",
      "  \"timeout\": 1658230520814\n",
      "}\n"
     ]
    }
   ],
   "source": [
    "with open('../../data/contracts/swap_contract.json', 'r') as file:\n",
    "    parsed = json.load(file)\n",
    "    print(json.dumps(parsed, indent=2))"
   ]
  },
  {
   "cell_type": "markdown",
   "id": "10d5ba92",
   "metadata": {},
   "source": [
    "## Funding\n",
    "\n",
    "### funds wallet\n",
    "\n",
    "Create a \"funds\" wallet on the \"Preview\" network using  \n",
    "a light wallet webapp and request 10.000 tADA (test ADA) to be sent to it.  \n",
    "The purpose of this wallet is to distribute funds for the smart contract user wallets and  \n",
    "test its functionality in a safe and controlled environment.  \n",
    "\n",
    "#### Step 1: create or restore a funds wallet\n",
    "\n",
    "Navigate to the light wallet webapp of your choice.  \n",
    "Follow the steps to create or restore a wallet and make sure to select the \"**Preview**\" network.  \n",
    "Once your wallet is created, make note of the wallet address for future use.  \n",
    "  \n",
    "If you opt to restore a wallet, you may utilize the previously generated 'funds' wallet:  "
   ]
  },
  {
   "cell_type": "code",
   "execution_count": 33,
   "id": "5f30d0f2",
   "metadata": {},
   "outputs": [
    {
     "name": "stdout",
     "output_type": "stream",
     "text": [
      "primary they trust clip surge message indicate fiscal museum vacuum solar empty fog jaguar anger genre risk reason shine family luggage man night become\r\n"
     ]
    }
   ],
   "source": [
    "!cat funds.seed"
   ]
  },
  {
   "cell_type": "markdown",
   "id": "8e0eb211",
   "metadata": {},
   "source": [
    "#### Step 2: request tADA\n",
    "\n",
    "Visit the [**faucet page**](https://developers.cardano.org/docs/integrate-cardano/testnet-faucet/#testnets-faucet). Enter your wallet address and follow the instructions to request **10.000 tADA**.  "
   ]
  },
  {
   "cell_type": "code",
   "execution_count": 34,
   "id": "6fbb58d0",
   "metadata": {},
   "outputs": [
    {
     "name": "stdout",
     "output_type": "stream",
     "text": [
      "addr_test1vrf3977xlrq29papwzxrmlu6ae0yjnvraatf9zx76m9f02s9g9rvw"
     ]
    }
   ],
   "source": [
    "!cat payment.addr"
   ]
  },
  {
   "cell_type": "markdown",
   "id": "00e458b6",
   "metadata": {},
   "source": [
    "<br>\n",
    "<img src=\"../../image/preview_network_funds_wallet.png\" width=\"50%\"> "
   ]
  },
  {
   "cell_type": "markdown",
   "id": "8ccfb979",
   "metadata": {},
   "source": [
    "### create wallet 1-2\n",
    "\n",
    "We need 2 user wallets and sign keys to test the contract with.  \n",
    "  * generate a mnemonic phrase for <b class=\"ttooltip\">wallet1.seed<span class=\"tooltiptext\">= personA = buyer = user1 = party1</span></b>\n",
    "  * generate a payment verification key **wallet1.vkey**\n",
    "  * generate a public address **wallet1.addr**  \n",
    "\n",
    "\n",
    "  * **repeat for** <b class=\"ttooltip\">wallet2.seed<span class=\"tooltiptext\">= personB = seller = user2 = party2</span></b>  \n",
    "  \n",
    "Restore the wallets by entering the mnemonic recovery phrases generated below.  \n",
    "<br>\n",
    "<img src=\"../../image/eternl_restore_wallet_type.png\" width=\"50%\"> "
   ]
  },
  {
   "cell_type": "code",
   "execution_count": 35,
   "id": "c64dd96c",
   "metadata": {},
   "outputs": [
    {
     "name": "stdout",
     "output_type": "stream",
     "text": [
      "\u001b[1m'wallet 1' mnemonic phrase:\u001b[0m\n",
      " usual home hurt early conduct taste family finish silver appear gospel total couple negative run vessel zebra level wife network salt cinnamon sugar family\n",
      "\n",
      "\u001b[1m'wallet 1' payment verification key:\u001b[0m\n",
      "{\n",
      "    \"type\": \"PaymentExtendedVerificationKeyShelley_ed25519_bip32\",\n",
      "    \"description\": \"\",\n",
      "    \"cborHex\": \"58408691f3864474a804d2975506adc08193444a9bc0cba20596d25a14cd433592144532d79aee797cb799b40653a520186fce08cd7d36fd30c0facb571415c0cc9a\"\n",
      "}\n",
      "\n",
      "\u001b[1m'wallet 1' public PARTY1_ADDRESS:\u001b[0m\n",
      "addr_test1vpcv7hdt4dczcmyeuk8w6yp5l8zhl5v7vnn42vel3jsd9aszd3e0n"
     ]
    }
   ],
   "source": [
    "# generate 24 word 'mnemonic phrase' using cardano-wallet CLI command\n",
    "cmd = [cardanoWALLET, \"recovery-phrase\", \"generate\", \"--size\", str(24)]\n",
    "result = subprocess.run(cmd, capture_output=True, text=True)        # run the command\n",
    "print(\"\\033[1m'wallet 1' mnemonic phrase:\\033[0m\\n\", result.stdout) # output the result\n",
    "open('wallet1.seed', 'w').write(result.stdout)                      # save the result to a file 'wallet1.seed'\n",
    "\n",
    "# create the payment SigningKey, secret to sign transactions with\n",
    "!cat wallet1.seed | cardano-wallet key from-recovery-phrase Shelley | cardano-wallet key child 1852H/1815H/0H/0/0 > wallet1.prv\n",
    "!cardano-cli key convert-cardano-address-key --shelley-payment-key --signing-key-file wallet1.prv --out-file wallet1.skey\n",
    "!cardano-cli key verification-key --signing-key-file wallet1.skey --verification-key-file wallet1.vkey\n",
    "\n",
    "# create the public wallet address\n",
    "!cardano-cli address build --testnet-magic 2 --payment-verification-key-file wallet1.vkey > wallet1.addr\n",
    "!rm wallet1.prv                                                     # remove root key, wallet1.skey is kept for token minting\n",
    "\n",
    "# output the files content\n",
    "print(\"\\033[1m'wallet 1' payment verification key:\\033[0m\")\n",
    "!cat wallet1.vkey\n",
    "print(\"\\n\\033[1m'wallet 1' public PARTY1_ADDRESS:\\033[0m\")\n",
    "!cat wallet1.addr"
   ]
  },
  {
   "cell_type": "code",
   "execution_count": 36,
   "id": "b01f2651",
   "metadata": {},
   "outputs": [
    {
     "name": "stdout",
     "output_type": "stream",
     "text": [
      "\u001b[1m'wallet 2' mnemonic phrase:\u001b[0m\n",
      " vanish tortoise obtain celery injury universe figure relax dragon property boring wrap cake hood cook elbow idea mystery liquid strategy few tonight torch setup\n",
      "\n",
      "\u001b[1m'wallet 2' payment verification key:\u001b[0m\n",
      "{\n",
      "    \"type\": \"PaymentExtendedVerificationKeyShelley_ed25519_bip32\",\n",
      "    \"description\": \"\",\n",
      "    \"cborHex\": \"58408f110eed8fbde93b0bcf40063aa8665312f97d7980d27f9bc4a05cc468f21cd00053c8f500bf58b862da6fb7fb6bee4278654fb1b9ab64643ef67047b1ca263a\"\n",
      "}\n",
      "\n",
      "\u001b[1m'wallet 2' public PARTY2_ADDRESS:\u001b[0m\n",
      "addr_test1vr0269ym702hzn9h66m6q3ptd0a72te999c63huxh5g2qqqp390er"
     ]
    }
   ],
   "source": [
    "# generate 24 word 'mnemonic phrase' using cardano-wallet CLI command\n",
    "cmd = [cardanoWALLET, \"recovery-phrase\", \"generate\", \"--size\", str(24)]\n",
    "result = subprocess.run(cmd, capture_output=True, text=True)        # run the command\n",
    "print(\"\\033[1m'wallet 2' mnemonic phrase:\\033[0m\\n\", result.stdout) # output the result\n",
    "open('wallet2.seed', 'w').write(result.stdout)                      # save the result to a file 'wallet2.seed'\n",
    "\n",
    "# create the payment SigningKey, secret to sign transactions with\n",
    "!cat wallet2.seed | cardano-wallet key from-recovery-phrase Shelley | cardano-wallet key child 1852H/1815H/0H/0/0 > wallet2.prv\n",
    "!cardano-cli key convert-cardano-address-key --shelley-payment-key --signing-key-file wallet2.prv --out-file wallet2.skey\n",
    "!cardano-cli key verification-key --signing-key-file wallet2.skey --verification-key-file wallet2.vkey\n",
    "\n",
    "# create the public wallet address\n",
    "!cardano-cli address build --testnet-magic 2 --payment-verification-key-file wallet2.vkey > wallet2.addr\n",
    "!rm wallet2.prv                                                     # remove root key, wallet2.skey is kept for token minting\n",
    "\n",
    "# output the files content\n",
    "print(\"\\033[1m'wallet 2' payment verification key:\\033[0m\")\n",
    "!cat wallet2.vkey\n",
    "print(\"\\n\\033[1m'wallet 2' public PARTY2_ADDRESS:\\033[0m\")\n",
    "!cat wallet2.addr"
   ]
  },
  {
   "cell_type": "code",
   "execution_count": 37,
   "id": "9a8b4105",
   "metadata": {},
   "outputs": [
    {
     "name": "stdout",
     "output_type": "stream",
     "text": [
      "Tue Apr  9 17:04:38 CEST 2024\n",
      "-rw------- 1 ubuntu ubuntu  63 Apr  9 17:04 wallet1.addr\n",
      "-rw------- 1 ubuntu ubuntu 156 Apr  9 17:04 wallet1.seed\n",
      "-rw------- 1 ubuntu ubuntu 367 Apr  9 17:04 wallet1.skey\n",
      "-rw------- 1 ubuntu ubuntu 244 Apr  9 17:04 wallet1.vkey\n",
      "-rw------- 1 ubuntu ubuntu  63 Apr  9 17:04 wallet2.addr\n",
      "-rw------- 1 ubuntu ubuntu 161 Apr  9 17:04 wallet2.seed\n",
      "-rw------- 1 ubuntu ubuntu 367 Apr  9 17:04 wallet2.skey\n",
      "-rw------- 1 ubuntu ubuntu 244 Apr  9 17:04 wallet2.vkey\n"
     ]
    }
   ],
   "source": [
    "# restrict file access and list all the wallet files generated\n",
    "!date\n",
    "!chmod 600 wallet?.*\n",
    "!ls -al wallet?.*"
   ]
  },
  {
   "cell_type": "code",
   "execution_count": 38,
   "id": "79676461",
   "metadata": {},
   "outputs": [],
   "source": [
    "# store the addresses in a variable\n",
    "PARTY1_ADDRESS = open('wallet1.addr', 'r').read()\n",
    "PARTY2_ADDRESS = open('wallet2.addr', 'r').read()"
   ]
  },
  {
   "cell_type": "markdown",
   "id": "15546f1e",
   "metadata": {},
   "source": [
    "### transfer funds\n",
    "\n",
    "Now that the funds wallet has received 10.000 tADA.  \n",
    "Transfer in a **single transaction** a start capital of **500 tADA** to wallet PARTY 1-2.  \n",
    "<br>\n",
    "<div style=\"display:flex;\">\n",
    "    <img src=\"../../image/funded_wallets.png\" style=\"margin-right: 10px;\"/>\n",
    "    <img src=\"../../image/eternl_funded_wallets.png\"/>\n",
    "</div>"
   ]
  },
  {
   "cell_type": "markdown",
   "id": "ed55bfea",
   "metadata": {},
   "source": [
    "<div style=\"font-family: monospace; background-color: #ffffff; padding: 10px; margin: 20px 0;\">\n",
    "    <p>Use the <code>marlowe-cli util fund-address</code> command to fund addresses from a source wallet.</p>\n",
    "    <pre>\n",
    "<span style=\"color: darkgreen; font-weight: bold;\">(--mainnet | --testnet-magic INTEGER)</span>          Specify the network environment (mainnet or testnet)\n",
    "<span style=\"color: gray;\">[--socket-path SOCKET_FILE]</span>                    Set the socket path for inter-process communication with cardano-node\n",
    "<span style=\"color: darkgreen; font-weight: bold;\">(--lovelace LOVELACE | --send-all)</span>             Set a lovelace amount to transfer, or allocate all existing funds\n",
    "<span style=\"color: darkgreen; font-weight: bold;\">--out-file FILE</span>                                Path to save transaction body, or use /dev/null to discard\n",
    "<span style=\"color: gray;\">[--submit SECONDS]</span>                             Submit transaction, await confirmation with timeout in seconds\n",
    "<span style=\"color: darkgreen; font-weight: bold;\">--source-wallet-credentials ADDRESS:SIGNING_FILE</span>  Credentials for the source wallet sending the funds\n",
    "<span style=\"color: darkgreen; font-weight: bold;\">ADDRESS</span>                                        Specify recipient addresses for fund distribution, multiple allowed\n",
    "<span style=\"color: gray;\">[--help]</span>                                       Display help information</pre>\n",
    "</div>\n"
   ]
  },
  {
   "cell_type": "code",
   "execution_count": 39,
   "id": "7b69827d",
   "metadata": {},
   "outputs": [
    {
     "name": "stdout",
     "output_type": "stream",
     "text": [
      "\u001b[1msuccessful UTxO transaction:\u001b[0m\n",
      "TxId \"14180e0ae25162bc3f9098ab5215173142c90536a80327a4857de3c53266f333\"\n",
      "\n",
      "\u001b[1mexecuted shell command:\u001b[0m\n",
      "marlowe-cli util fund-address --testnet-magic 2 --socket-path /tmp/node.socket --lovelace 500000000 --out-file /dev/null --source-wallet-credentials addr_test1vrf3977xlrq29papwzxrmlu6ae0yjnvraatf9zx76m9f02s9g9rvw:payment.skey --submit 600 addr_test1vpcv7hdt4dczcmyeuk8w6yp5l8zhl5v7vnn42vel3jsd9aszd3e0n addr_test1vr0269ym702hzn9h66m6q3ptd0a72te999c63huxh5g2qqqp390er\n"
     ]
    }
   ],
   "source": [
    "# setting some variables\n",
    "MAGIC                 = '2'\n",
    "SOCKET                = '/tmp/node.socket'\n",
    "ADA                   = 1000000\n",
    "FUNDS_ADDRESS         = open('payment.addr', 'r').read()\n",
    "FUNDS_SKEYFILE        = 'payment.skey'\n",
    "PARTY1_ADDRESS        = open('wallet1.addr', 'r').read()\n",
    "PARTY2_ADDRESS        = open('wallet2.addr', 'r').read()\n",
    "\n",
    "# fund two address wallets PARTY 1-2\n",
    "cmd = [marloweCLI, \"util\", \"fund-address\", \n",
    "    \"--testnet-magic\", MAGIC,\n",
    "    \"--socket-path\", SOCKET,\n",
    "    \"--lovelace\", str(500*ADA),              # 500 ADA amount\n",
    "    \"--out-file\", \"/dev/null\",\n",
    "    \"--source-wallet-credentials\", FUNDS_ADDRESS+\":\"+FUNDS_SKEYFILE,  # this faucet address willing to provide funds\n",
    "    \"--submit\", str(600),                   # submit the transaction, and wait for confirmation (max 10min)\n",
    "    PARTY1_ADDRESS, PARTY2_ADDRESS]         # list all addresses to send test funds to\n",
    "result = subprocess.run(cmd, capture_output=True, text=True)\n",
    "print(\"\\033[1msuccessful UTxO transaction:\\033[0m\" if not result.stderr.strip() else result.stderr)\n",
    "print(result.stdout)\n",
    "print(\"\\033[1mexecuted shell command:\\033[0m\\n\" + cmd[0].split('/')[-1] + ' ' + ' '.join(cmd[1:]))"
   ]
  },
  {
   "cell_type": "code",
   "execution_count": 40,
   "id": "fe6f6a4a",
   "metadata": {},
   "outputs": [
    {
     "data": {
      "text/html": [
       "<div>\n",
       "<style scoped>\n",
       "    .dataframe tbody tr th:only-of-type {\n",
       "        vertical-align: middle;\n",
       "    }\n",
       "\n",
       "    .dataframe tbody tr th {\n",
       "        vertical-align: top;\n",
       "    }\n",
       "\n",
       "    .dataframe thead th {\n",
       "        text-align: right;\n",
       "    }\n",
       "</style>\n",
       "<table border=\"1\" class=\"dataframe\">\n",
       "  <thead>\n",
       "    <tr style=\"text-align: right;\">\n",
       "      <th></th>\n",
       "      <th>address</th>\n",
       "      <th>TxHash</th>\n",
       "      <th>TxIx</th>\n",
       "      <th>lovelace</th>\n",
       "      <th>datumhash</th>\n",
       "      <th>TokenPolicyId</th>\n",
       "      <th>TokenNameHex</th>\n",
       "      <th>TokenAmount</th>\n",
       "    </tr>\n",
       "  </thead>\n",
       "  <tbody>\n",
       "    <tr>\n",
       "      <th>0</th>\n",
       "      <td>addr_test1vpcv7hdt4dczcmyeuk8w6yp5l8zhl5v7vnn42vel3jsd9aszd3e0n</td>\n",
       "      <td>14180e0ae25162bc3f9098ab5215173142c90536a80327a4857de3c53266f333</td>\n",
       "      <td>1</td>\n",
       "      <td>500000000</td>\n",
       "      <td>NaN</td>\n",
       "      <td>NaN</td>\n",
       "      <td>NaN</td>\n",
       "      <td>0</td>\n",
       "    </tr>\n",
       "    <tr>\n",
       "      <th>1</th>\n",
       "      <td>addr_test1vr0269ym702hzn9h66m6q3ptd0a72te999c63huxh5g2qqqp390er</td>\n",
       "      <td>14180e0ae25162bc3f9098ab5215173142c90536a80327a4857de3c53266f333</td>\n",
       "      <td>2</td>\n",
       "      <td>500000000</td>\n",
       "      <td>NaN</td>\n",
       "      <td>NaN</td>\n",
       "      <td>NaN</td>\n",
       "      <td>0</td>\n",
       "    </tr>\n",
       "  </tbody>\n",
       "</table>\n",
       "</div>"
      ],
      "text/plain": [
       "                                                           address  \\\n",
       "0  addr_test1vpcv7hdt4dczcmyeuk8w6yp5l8zhl5v7vnn42vel3jsd9aszd3e0n   \n",
       "1  addr_test1vr0269ym702hzn9h66m6q3ptd0a72te999c63huxh5g2qqqp390er   \n",
       "\n",
       "                                                             TxHash  TxIx  \\\n",
       "0  14180e0ae25162bc3f9098ab5215173142c90536a80327a4857de3c53266f333     1   \n",
       "1  14180e0ae25162bc3f9098ab5215173142c90536a80327a4857de3c53266f333     2   \n",
       "\n",
       "    lovelace  datumhash  TokenPolicyId  TokenNameHex  TokenAmount  \n",
       "0  500000000        NaN            NaN           NaN            0  \n",
       "1  500000000        NaN            NaN           NaN            0  "
      ]
     },
     "execution_count": 40,
     "metadata": {},
     "output_type": "execute_result"
    }
   ],
   "source": [
    "# check wallet1 and wallet2 using the helper function\n",
    "pd.concat([query_df(PARTY1_ADDRESS), query_df(PARTY2_ADDRESS)]).reset_index(drop=True)"
   ]
  },
  {
   "cell_type": "markdown",
   "id": "7d67cc04",
   "metadata": {},
   "source": [
    "## Parameters\n",
    "\n",
    "They dictate the terms of the contract and follow predefined conditions.  \n",
    "Each time you establish a contract script, the script need values hard-coded before deployment.  \n",
    "For example,  \n",
    "  * each PARTY need to define the amount of TOKEN/ADA to exchange in a swap contract  \n",
    "  * the deadline for each PARTY to send their amount of ADA in time, else it is cancelled  \n",
    "  * the PolicyID/address that gives you the right to participate in the contract  \n",
    "\n",
    "Floating-point arithmetic will lead to rounding errors, which are problematic in precise financial contracts.  \n",
    "For example:  "
   ]
  },
  {
   "cell_type": "code",
   "execution_count": 41,
   "id": "c20a85ce",
   "metadata": {},
   "outputs": [
    {
     "name": "stdout",
     "output_type": "stream",
     "text": [
      "a = 0.1\n",
      "b = 0.2\n",
      "c = a + b\n",
      "  = 0.30000000000000004\n"
     ]
    }
   ],
   "source": [
    "# example of an inaccuracy and rounding error\n",
    "print(f\"a = 0.1\\nb = 0.2\\nc = a + b\\n  = {0.1 + 0.2}\")"
   ]
  },
  {
   "cell_type": "markdown",
   "id": "84ee2642",
   "metadata": {},
   "source": [
    "Instead of 0.3,  \n",
    "you get a significant error in more complex calculations with large numbers like financial transactions or **contracts**.  \n",
    "To mitigate issues of precision:\n",
    "  * The integer representation for a timestamp **2023-02-28 15:24:40** in <b class=\"ttooltip\">POSIX<span class=\"tooltiptext\">The number of seconds counted from the beginning of time 01-01-1970</span></b> is **1677594280000**\n",
    "  * The integer representation for a currency **3** ADA is **3000000** <b class=\"ttooltip\">lovelace<span class=\"tooltiptext\">ADA can be divided into 1,000,000 lovelaces (0.000001 ADA)</span></b>\n",
    "  * When running marlowe-cli commands, use **str(value)** to convert into strings  "
   ]
  },
  {
   "cell_type": "code",
   "execution_count": 42,
   "id": "9987eca0",
   "metadata": {},
   "outputs": [],
   "source": [
    "MAGIC                 = '2'             # preview (NetworkMagic: 2)\n",
    "SOCKET                = '/tmp/node.socket'\n",
    "ADA                   = 1000000         # 1 ADA = 1000000 lovelace (6 decimal places)\n",
    "MINIMUM_ADA           = 3*ADA           # The minimum lovelace to be included with native token output\n",
    "\n",
    "cmd                   = [marloweCLI, \"util\", \"slotting\", \"--testnet-magic\", MAGIC, \"--socket-path\", SOCKET]\n",
    "result                = subprocess.run(cmd, capture_output=True, text=True)\n",
    "SLOT_LENGTH           = json.loads(result.stdout)[\"scSlotLength\"]   # 1000 (ms), duration of one slot\n",
    "SLOT_OFFSET           = json.loads(result.stdout)[\"scSlotZeroTime\"] # 1666656000000 (ms), start time of first slot\n",
    "cmd                   = [cardanoCLI, \"query\", \"tip\", \"--testnet-magic\", MAGIC]\n",
    "result                = subprocess.run(cmd, capture_output=True, text=True)\n",
    "CURRENT_SLOT          = json.loads(result.stdout)[\"slot\"]  # 8938685 (slot), current latest slot number (= TIP) \n",
    "CURRENT_TIME          = round(time.time())*SLOT_LENGTH     # 1675594685000 (ms), CURRENT_SLOT*SLOT_LENGTH+SLOT_OFFSET\n",
    "HOUR_SLOT             = 60*60                              # 3600 (slot)\n",
    "HOUR_TIME             = 60*60*SLOT_LENGTH                  # 3600000 (ms), One hour, in POSIX milliseconds\n",
    "DAY_SLOT              = 24*60*60                           # 86400 (slot)\n",
    "DAY_TIME              = 24*60*60*SLOT_LENGTH               # 86400000 (ms)\n",
    "MINT_DEADLINE_SLOT    = CURRENT_SLOT+int(2*HOUR_SLOT)      # The token minting deadline (+2h)\n",
    "MINT_DEADLINE_TIME    = CURRENT_TIME+2*HOUR_TIME           # The token minting deadline (+2h)\n",
    "PARTY1_DEADLINE_SLOT  = CURRENT_SLOT+int(10*HOUR_SLOT)     # The payment deadline (+10h)\n",
    "PARTY1_DEADLINE_TIME  = (CURRENT_TIME+10*HOUR_TIME)        # The payment deadline (+10h)\n",
    "PARTY2_DEADLINE_SLOT  = CURRENT_SLOT+int(24*HOUR_SLOT)     # The payment deadline (+24h)\n",
    "PARTY2_DEADLINE_TIME  = (CURRENT_TIME+24*HOUR_TIME)        # The payment deadline (+24h)\n",
    "METADATA_FILE         = 'NFTMintData.json'                 # the NFT metadata *.json file\n",
    "\n",
    "PARTY1_TOKEN_NAME     = \"\"              # \"\" is 'ADA', 'token_name' used to swap (ex: CHOC)\n",
    "PARTY2_TOKEN_NAME     = \"\"              # \"\" is 'ADA', 'token_name' used to swap (ex: BERRY)\n",
    "PARTY1_TOKEN_POLICYID = \"\"              # \"\" is 'Cardano', the 'currency_symbol' policy ID (ex: \"0b8ffef9a24d8d...7e43\")\n",
    "PARTY2_TOKEN_POLICYID = \"\"              # \"\" is 'Cardano', the 'currency_symbol' policy ID (ex: \"0b8ffef9a24d8d...7e43\")\n",
    "PARTY1_ROLE_NAME      = 'Party1'        # this is 'Buyer', 'wallet 1'\n",
    "PARTY2_ROLE_NAME      = 'Party2'        # this is 'Seller', 'wallet 2'\n",
    "PARTY1_ROLE_POLICYID  = \"\"              # minted Policy ID to be created later (ex: \"0b8ffef9a24d8d...7e43\")\n",
    "PARTY2_ROLE_POLICYID  = \"\"              # minted Policy ID to be created later (ex: \"0b8ffef9a24d8d...7e43\")\n",
    "PARTY1_AMOUNT         = 200*ADA         # 200000000, means we will hard-code this swap amount in the script\n",
    "PARTY2_AMOUNT         = 100*ADA         # 100000000, means we will hard-code this swap amount in the script\n",
    "PARTY1_ADDRESS        = open('wallet1.addr', 'r').read() # string value of the Buyer  address (wallet 1)\n",
    "PARTY2_ADDRESS        = open('wallet2.addr', 'r').read() # string value of the Seller address (wallet 2)\n",
    "PARTY1_SKEYFILE       = 'wallet1.skey'\n",
    "PARTY2_SKEYFILE       = 'wallet2.skey'\n",
    "PARTY1_VKEYFILE       = 'wallet1.vkey'\n",
    "PARTY2_VKEYFILE       = 'wallet2.vkey'"
   ]
  },
  {
   "cell_type": "code",
   "execution_count": 43,
   "id": "8f2d7e88",
   "metadata": {},
   "outputs": [
    {
     "name": "stdout",
     "output_type": "stream",
     "text": [
      "\u001b[1mMINIMUM_ADA:\u001b[0m \t\t3000000 (lovelace) \t\t= \u001b[1m3 ADA\u001b[0m\n",
      "\u001b[1mPARTY1_AMOUNT:\u001b[0m \t\t200000000 (lovelace) \t\t= \u001b[1m200 ADA (to be swapped)\u001b[0m\n",
      "\u001b[1mPARTY2_AMOUNT:\u001b[0m \t\t100000000 (lovelace) \t\t= \u001b[1m100 ADA (to be swapped)\u001b[0m\n",
      "\u001b[1mCURRENT_SLOT:\u001b[0m \t\t46019101 (slot) \t\t= \u001b[1mcurrent slot number (now, TIP)\u001b[0m\n",
      "\u001b[1mCURRENT_TIME:\u001b[0m \t\t1712675112000 (ms) \t\t= \u001b[1m2024-04-09 17:05:12 (now, TIP)\u001b[0m\n",
      "\u001b[1mMINT_DEADLINE_SLOT:\u001b[0m \t46026301 (slot) \t\t= \u001b[1mfuture slot number  (2 hours from now)\u001b[0m\n",
      "\u001b[1mMINT_DEADLINE_TIME:\u001b[0m \t1712682312000 (ms) \t\t= \u001b[1m2024-04-09 19:05:12 (2 hours from now)\u001b[0m\n",
      "\u001b[1mPARTY1_DEADLINE_SLOT:\u001b[0m \t46055101 (slot) \t\t= \u001b[1mfuture slot number  (10 hours from now)\u001b[0m\n",
      "\u001b[1mPARTY1_DEADLINE_TIME:\u001b[0m \t1712711112000 (ms) \t\t= \u001b[1m2024-04-10 03:05:12 (10 hours from now)\u001b[0m\n",
      "\u001b[1mPARTY2_DEADLINE_SLOT:\u001b[0m \t46105501 (slot) \t\t= \u001b[1mfuture slot number  (24 hours from now)\u001b[0m\n",
      "\u001b[1mPARTY2_DEADLINE_TIME:\u001b[0m \t1712761512000 (ms) \t\t= \u001b[1m2024-04-10 17:05:12 (24 hours from now)\u001b[0m\n"
     ]
    }
   ],
   "source": [
    "# helper function to make time value readable\n",
    "def convert_timestamp(timestamp):\n",
    "    return datetime.datetime.fromtimestamp(timestamp/1000)\n",
    "\n",
    "# demonstrate the values\n",
    "print(f\"\\033[1mMINIMUM_ADA:\\033[0m \\t\\t{MINIMUM_ADA} (lovelace) \\t\\t= \\033[1m{int(MINIMUM_ADA/ADA)} ADA\\033[0m\")\n",
    "print(f\"\\033[1mPARTY1_AMOUNT:\\033[0m \\t\\t{PARTY1_AMOUNT} (lovelace) \\t\\t= \\033[1m{int(PARTY1_AMOUNT/ADA)} ADA (to be swapped)\\033[0m\")\n",
    "print(f\"\\033[1mPARTY2_AMOUNT:\\033[0m \\t\\t{PARTY2_AMOUNT} (lovelace) \\t\\t= \\033[1m{int(PARTY2_AMOUNT/ADA)} ADA (to be swapped)\\033[0m\")\n",
    "print(f\"\\033[1mCURRENT_SLOT:\\033[0m \\t\\t{CURRENT_SLOT} (slot) \\t\\t= \\033[1mcurrent slot number (now, TIP)\\033[0m\")\n",
    "print(f\"\\033[1mCURRENT_TIME:\\033[0m \\t\\t{CURRENT_TIME} (ms) \\t\\t= \\033[1m{convert_timestamp(CURRENT_TIME)} (now, TIP)\\033[0m\")\n",
    "print(f\"\\033[1mMINT_DEADLINE_SLOT:\\033[0m \\t{MINT_DEADLINE_SLOT} (slot) \\t\\t= \\033[1mfuture slot number  (2 hours from now)\\033[0m\")\n",
    "print(f\"\\033[1mMINT_DEADLINE_TIME:\\033[0m \\t{MINT_DEADLINE_TIME} (ms) \\t\\t= \\033[1m{convert_timestamp(MINT_DEADLINE_TIME)} (2 hours from now)\\033[0m\")\n",
    "print(f\"\\033[1mPARTY1_DEADLINE_SLOT:\\033[0m \\t{PARTY1_DEADLINE_SLOT} (slot) \\t\\t= \\033[1mfuture slot number  (10 hours from now)\\033[0m\")\n",
    "print(f\"\\033[1mPARTY1_DEADLINE_TIME:\\033[0m \\t{PARTY1_DEADLINE_TIME} (ms) \\t\\t= \\033[1m{convert_timestamp(PARTY1_DEADLINE_TIME)} (10 hours from now)\\033[0m\")\n",
    "print(f\"\\033[1mPARTY2_DEADLINE_SLOT:\\033[0m \\t{PARTY2_DEADLINE_SLOT} (slot) \\t\\t= \\033[1mfuture slot number  (24 hours from now)\\033[0m\")\n",
    "print(f\"\\033[1mPARTY2_DEADLINE_TIME:\\033[0m \\t{PARTY2_DEADLINE_TIME} (ms) \\t\\t= \\033[1m{convert_timestamp(PARTY2_DEADLINE_TIME)} (24 hours from now)\\033[0m\")"
   ]
  },
  {
   "cell_type": "markdown",
   "id": "0ac0cb60",
   "metadata": {},
   "source": [
    "### time\n",
    "\n",
    "An **epoch** is a time period (5 days) divided into smaller time \"_slots_\" during which the network operates.  \n",
    "Each <b class=\"ttooltip\">slot<span class=\"tooltiptext\">a unit of time within an epoch (1 second).</span></b> is assigned to a \"_slot leader_\" to verify the transactions and add a new \"block\" to the blockchain.  \n",
    "A <b class=\"ttooltip\">block<span class=\"tooltiptext\">The average interval of 20 seconds between block is given by the \"density\" parameter, which is \"0.05\", meaning 5 blocks in average for every 100 seconds.</span></b> is a group of verified transactions that have been added to the blockchain in a specific slot.  \n",
    "\n",
    "||<b><span style=\"color:#5A9BFD\">MAINNET</span></b>|<b><span style=\"color:#E6AA00\">PREVIEW</span></b>|\n",
    "|-|-|-|\n",
    "|slots per second|**1**|**1**|\n",
    "|slot leader per block|**1**|**1**|\n",
    "|slots per block|**20**|**20**|\n",
    "|blocks per epoch|**21600**|**4320**|\n",
    "|slots per epoch|**432000**|**86400**|\n",
    "|days per epoch|**5**|**1**|\n",
    "\n",
    "![visualise cardano time frames](../../image/visualise_cardano_timeframes.png)"
   ]
  },
  {
   "cell_type": "markdown",
   "id": "6db183d8",
   "metadata": {},
   "source": [
    "## Tokens\n",
    "\n",
    "Each wallet requires a token to establish ownership, granting the right to interact with the contract.  \n",
    "This process relies on the unique <b class=\"ttooltip\">policyID<span class=\"tooltiptext\">A policyID is a unique identifier produced from the policy script. It sets the minting and burning rules for native tokens on Cardano, ensuring each policy's uniqueness. The Mainnet uses the CIP26 off-chain metadata registry for this purpose. PolicyIDs are permanently associated with their tokens, securing against unauthorized alterations and safeguarding asset integrity.</span></b> of the tokens, which is hard-coded into the contract for security and uniqueness.  \n",
    "\n",
    "\"**Party1**\" initiates the minting of two **tokens**, one for themselves and another for \"Party2\" and responsible for covering the transaction **fee**.  \n",
    "\n",
    "![mint tokens](../../image/mint_tokens.png)  \n",
    "\n",
    "**marlowe-cli** offers a streamlined approach for minting tokens with **metadata**  \n",
    "It's crucial to ensure the string values for each attribute is **less than 65 characters long**.  \n",
    "\n",
    "#### image handling\n",
    "\n",
    "For simplicity we chose to store off-chain and use images from this GitHub repository.  \n",
    "To comply with the character limit, we consider using shortened URLs for linking image in token metadata.  \n",
    "In the field use open, robust, resilient and decentralized storage like [IPFS](https://docs.ipfs.tech/) and [Iagon](https://docs.iagon.com/docs/documentation/introduction)  \n",
    "Images of any size are acceptable; they're auto-adjusted to 1024x1024 for optimal display in the Eternl wallet.  "
   ]
  },
  {
   "cell_type": "code",
   "execution_count": 44,
   "id": "580f54c3",
   "metadata": {},
   "outputs": [
    {
     "name": "stdout",
     "output_type": "stream",
     "text": [
      "short link to image (cat) Party1: https://tinyurl.com/2xlch3de\n",
      "short link to image (owl) Party2: https://tinyurl.com/28lqb6go\n"
     ]
    }
   ],
   "source": [
    "# Shortening image URLs for NFT metadata\n",
    "cat = 'https://raw.githubusercontent.com/littlefish-foundation/cardano-contracts-cookbook/master/image/cat_pawn_squared_white.png'\n",
    "cat_tinyURL = requests.get(f'https://tinyurl.com/api-create.php?url={cat}')\n",
    "print(f\"short link to image (cat) Party1: {cat_tinyURL.text.replace('http:', 'https:')}\")\n",
    "\n",
    "owl = 'https://raw.githubusercontent.com/littlefish-foundation/cardano-contracts-cookbook/master/image/owl_pawn_squared_white.png'\n",
    "owl_tinyURL = requests.get(f'https://tinyurl.com/api-create.php?url={owl}')\n",
    "print(f\"short link to image (owl) Party2: {owl_tinyURL.text.replace('http:', 'https:')}\")"
   ]
  },
  {
   "cell_type": "markdown",
   "id": "20f92d22",
   "metadata": {},
   "source": [
    "### token metadata\n",
    "  \n",
    "Storing this into **NFTMintData.json**, this structure will create two different NFTs.  \n",
    "\n",
    "<pre>\n",
    "{\n",
    "  <span style=\"color: darkred;\">\"Party1\"</span>: {\n",
    "    <span style=\"color: darkred;\">\"name\"</span>: <span style=\"color: darkgreen;\">\"Lady Whisker (Party1)\"</span>,\n",
    "    <span style=\"color: darkred;\">\"id\"</span>: <span style=\"color: darkgreen;\">\"0001\"</span>,\n",
    "    <span style=\"color: darkred;\">\"description\"</span>: <span style=\"color: darkgreen;\">\"... never more than 64 characters long string allowed ...\"</span>,\n",
    "    <span style=\"color: darkred;\">\"image\"</span>: <span style=\"color: darkgreen;\">\"https://tinyurl.com/2xlch3de\"</span>,\n",
    "    <span style=\"color: darkred;\">\"mediaType\"</span>: <span style=\"color: darkgreen;\">\"image/png\"</span>,\n",
    "    <span style=\"color: darkred;\">\"attributes\"</span>: [\n",
    "      {<span style=\"color: darkred;\">\"trait_type\"</span>: <span style=\"color: darkgreen;\">\"Category\"</span>, <span style=\"color: darkred;\">\"value\"</span>: <span style=\"color: darkgreen;\">\"Chess Piece\"</span>},\n",
    "      {<span style=\"color: darkred;\">\"trait_type\"</span>: <span style=\"color: darkgreen;\">\"Rank\"</span>, <span style=\"color: darkred;\">\"value\"</span>: <span style=\"color: darkgreen;\">\"Pawn\"</span>},\n",
    "      {<span style=\"color: darkred;\">\"trait_type\"</span>: <span style=\"color: darkgreen;\">\"Theme\"</span>, <span style=\"color: darkred;\">\"value\"</span>: <span style=\"color: darkgreen;\">\"Cat\"</span>},\n",
    "      {<span style=\"color: darkred;\">\"trait_type\"</span>: <span style=\"color: darkgreen;\">\"Color Palette\"</span>, <span style=\"color: darkred;\">\"value\"</span>: <span style=\"color: darkgreen;\">\"Monochrome\"</span>},\n",
    "      {<span style=\"color: darkred;\">\"trait_type\"</span>: <span style=\"color: darkgreen;\">\"Expression\"</span>, <span style=\"color: darkred;\">\"value\"</span>: <span style=\"color: darkgreen;\">\"Serene\"</span>}],\n",
    "    <span style=\"color: darkred;\">\"year\"</span>: <span style=\"color: darkblue;\">2024</span>,\n",
    "    <span style=\"color: darkred;\">\"external_url\"</span>: <span style=\"color: darkgreen;\">\"https://example.com\"</span>\n",
    "  },\n",
    "  <span style=\"color: darkred;\">\"Party2\"</span>: {\n",
    "    <span style=\"color: darkred;\">\"name\"</span>: <span style=\"color: darkgreen;\">\"Lord Hoot (Party2)\"</span>,\n",
    "    <span style=\"color: darkred;\">\"id\"</span>: <span style=\"color: darkgreen;\">\"0002\"</span>,\n",
    "    <span style=\"color: darkred;\">\"description\"</span>: <span style=\"color: darkgreen;\">\"artwork on the subject of experimenting with NFT deployment\"</span>,\n",
    "    <span style=\"color: darkred;\">\"image\"</span>: <span style=\"color: darkgreen;\">\"https://tinyurl.com/28lqb6go\"</span>,\n",
    "    <span style=\"color: darkred;\">\"mediaType\"</span>: <span style=\"color: darkgreen;\">\"image/png\"</span>,\n",
    "    <span style=\"color: darkred;\">\"attributes\"</span>: [\n",
    "      {<span style=\"color: darkred;\">\"trait_type\"</span>: <span style=\"color: darkgreen;\">\"Category\"</span>, <span style=\"color: darkred;\">\"value\"</span>: <span style=\"color: darkgreen;\">\"Chess Piece\"</span>},\n",
    "      {<span style=\"color: darkred;\">\"trait_type\"</span>: <span style=\"color: darkgreen;\">\"Rank\"</span>, <span style=\"color: darkred;\">\"value\"</span>: <span style=\"color: darkgreen;\">\"Pawn\"</span>},\n",
    "      {<span style=\"color: darkred;\">\"trait_type\"</span>: <span style=\"color: darkgreen;\">\"Theme\"</span>, <span style=\"color: darkred;\">\"value\"</span>: <span style=\"color: darkgreen;\">\"Owl\"</span>},\n",
    "      {<span style=\"color: darkred;\">\"trait_type\"</span>: <span style=\"color: darkgreen;\">\"Color Palette\"</span>, <span style=\"color: darkred;\">\"value\"</span>: <span style=\"color: darkgreen;\">\"Monochrome\"</span>},\n",
    "      {<span style=\"color: darkred;\">\"trait_type\"</span>: <span style=\"color: darkgreen;\">\"Expression\"</span>, <span style=\"color: darkred;\">\"value\"</span>: <span style=\"color: darkgreen;\">\"Wise\"</span>}],\n",
    "    <span style=\"color: darkred;\">\"year\"</span>: <span style=\"color: darkblue;\">2024</span>,\n",
    "    <span style=\"color: darkred;\">\"external_url\"</span>: <span style=\"color: darkgreen;\">\"https://example.com\"</span>\n",
    "  }\n",
    "}\n",
    "</pre>\n",
    "\n",
    "#### token metadata considerations\n",
    "\n",
    "Place the **\"name\"** attribute next on top of the list, this can be the assetName in ascii form or more descriptive.  \n",
    "Ensure all links, especially image URIs, to use **\"https\"** instead of http.  \n",
    "Recommended to use string datatype values for **\"id\"**, this preserves leading zeros.    \n",
    "It is up to you design for additional metadata attributes and values.  \n",
    "**[CIP-25](https://cips.cardano.org/cips/cip25)** has metadata in the transaction metadata field, which is stored offchain and  \n",
    "not on the UTxO, thus cannot be read by smart contracts.  \n",
    "**[CIP-68](https://cips.cardano.org/cips/cip68)** NFT data is located in the **datum**, it is explicitly readable and changable  \n",
    "by smart contracts designed to update this data.  \n",
    "Be aware that marlowe-cli does not support CIP-68.  "
   ]
  },
  {
   "cell_type": "markdown",
   "id": "182ee8f6",
   "metadata": {},
   "source": [
    "### token minting\n",
    "\n",
    "<div style=\"font-family: monospace; background-color: #ffffff; padding: 10px; margin: 20px 0;\">\n",
    "    <p>Use the <code>marlowe-cli util mint</code> command to create native tokens.</p>\n",
    "    <pre>\n",
    "<span style=\"color: darkgreen; font-weight: bold;\">(--mainnet | --testnet-magic INTEGER)</span>          Specify the network environment (mainnet or testnet)\n",
    "<span style=\"color: gray;\">[--socket-path SOCKET_FILE]</span>                    Set the socket path for inter-process communication with cardano-node\n",
    "<span style=\"color: darkgreen; font-weight: bold;\">--issuer ADDRESS:SIGNING_FILE</span>                  Specify the issuer's address and signing key file\n",
    "<span style=\"color: gray;\">[--token-provider ADDRESS:SIGNING_FILE]</span>        Define additional token owner's address and signing key\n",
    "<span style=\"color: gray;\">[--metadata-file JSON_FILE]</span>                    Specify JSON file for CIP-25 token metadata\n",
    "<span style=\"color: gray;\">[--count INTEGER]</span>                              Set the quantity of tokens to mint\n",
    "<span style=\"color: gray;\">[--expires SLOT_NO]</span>                            Set a mint/burn deadline; endless if not used, offering adjustments\n",
    "<span style=\"color: darkgreen; font-weight: bold;\">--out-file FILE</span>                                Path to save transaction body, or use /dev/null to discard\n",
    "<span style=\"color: gray;\">[--submit SECONDS]</span>                             Submit transaction, await confirmation with timeout in seconds\n",
    "<span style=\"color: darkgreen; font-weight: bold;\">TOKEN_NAME:ADDRESS</span>                             Define which role token to send to which address upon minting\n",
    "<span style=\"color: gray;\">[--help]</span>                                       Display help information</pre>\n",
    "</div>"
   ]
  },
  {
   "cell_type": "code",
   "execution_count": 45,
   "id": "4640181a",
   "metadata": {},
   "outputs": [
    {
     "name": "stdout",
     "output_type": "stream",
     "text": [
      "\u001b[1msuccessful UTxO transaction:\u001b[0m\n",
      "Fee: Lovelace 218741\n",
      "Size: 1247 / 16384 = 7%\n",
      "Execution units:\n",
      "  Memory: 0 / 14000000 = 0%\n",
      "  Steps: 0 / 10000000000 = 0%\n",
      "\n",
      "\u001b[1mgenerated policyID: \u001b[0m45b75af9bb737cb93502a2a69fa1e561033909a3e38590d54e8f5925\t\u001b[1mexpires:\u001b[0m 2024-04-09 19:05:12\n",
      "\n",
      "\u001b[1mshell command:\u001b[0m\n",
      "marlowe-cli util mint --testnet-magic 2 --socket-path /tmp/node.socket --issuer addr_test1vpcv7hdt4dczcmyeuk8w6yp5l8zhl5v7vnn42vel3jsd9aszd3e0n:wallet1.skey --metadata-file NFTMintData.json --count 1 --expires 46026301 --out-file /dev/null --submit 600 Party1:addr_test1vpcv7hdt4dczcmyeuk8w6yp5l8zhl5v7vnn42vel3jsd9aszd3e0n Party2:addr_test1vr0269ym702hzn9h66m6q3ptd0a72te999c63huxh5g2qqqp390er\n"
     ]
    }
   ],
   "source": [
    "cmd = [marloweCLI, \"util\", \"mint\",                  # create tokens\n",
    "    \"--testnet-magic\", MAGIC,\n",
    "    \"--socket-path\", SOCKET,\n",
    "    \"--issuer\", PARTY1_ADDRESS+\":\"+PARTY1_SKEYFILE,\n",
    "    \"--metadata-file\", METADATA_FILE,               # opens NFTMintData.json and add \"721\": {\"<policy_id>\": {...}} \n",
    "    \"--count\", str(1),                              # we mint only 1 of each\n",
    "    \"--expires\", str(MINT_DEADLINE_SLOT),           # we allow ~2 hour window to mint more\n",
    "    \"--out-file\", \"/dev/null\",\n",
    "    \"--submit\", str(600),                           # submit the transaction, and wait for confirmation (max 10min)\n",
    "    PARTY1_ROLE_NAME+\":\"+PARTY1_ADDRESS,            # where to send the tokens to\n",
    "    PARTY2_ROLE_NAME+\":\"+PARTY2_ADDRESS]            # Party1, Party2 -- do not use quotes like \"PARTY1_ROLE_NAME\"\n",
    "result = subprocess.run(cmd, capture_output=True, text=True)\n",
    "print(\"\\033[1msuccessful UTxO transaction:\\033[0m\" + result.stderr if len(result.stderr.strip()) < 150 else result.stderr)\n",
    "print(f\"\\033[1mgenerated policyID: \\033[0m{result.stdout.strip()}\\t\\033[1mexpires:\\033[0m {convert_timestamp(MINT_DEADLINE_TIME)}\\n\")\n",
    "print(\"\\033[1mshell command:\\033[0m\\n\" + cmd[0].split('/')[-1] + ' ' + ' '.join(cmd[1:]))"
   ]
  },
  {
   "cell_type": "code",
   "execution_count": 46,
   "id": "ae7d904e",
   "metadata": {},
   "outputs": [
    {
     "name": "stdout",
     "output_type": "stream",
     "text": [
      "https://preview.cexplorer.io/45b75af9bb737cb93502a2a69fa1e561033909a3e38590d54e8f5925\n",
      "\n"
     ]
    }
   ],
   "source": [
    "# view the minted tokens on an explorer, searching for the policyID\n",
    "print(f\"https://preview.cexplorer.io/{result.stdout}\")"
   ]
  },
  {
   "cell_type": "markdown",
   "id": "74778863",
   "metadata": {},
   "source": [
    "Only the essential identifiers <b class=\"ttooltip\">\"policyID\"<span class=\"tooltiptext\">A unique identifier for the policy under which the NFT is minted, ensuring the asset's uniqueness and compliance with the blockchain's rules.</span></b> and <b class=\"ttooltip\">\"assetName\"<span class=\"tooltiptext\">The name of the asset in hexadecimal form. It's a secondary identifier that works alongside the policyID to uniquely identify an NFT.</span></b> are important for the localisation of the token in a smart contract.  \n",
    "You could use an **ADA Handle** in your smart contract if you [mint on the preview network](https://preview.mint.handle.me/mint), it works basically the same.  \n",
    "\n",
    "![policyid_and_assetname](../../image/policyid_assetname.png)  "
   ]
  },
  {
   "cell_type": "code",
   "execution_count": 47,
   "id": "f5054a17",
   "metadata": {},
   "outputs": [
    {
     "name": "stdout",
     "output_type": "stream",
     "text": [
      "Policy ID \t 45b75af9bb737cb93502a2a69fa1e561033909a3e38590d54e8f5925\n",
      "Asset Name \t Party1\n",
      "\n",
      "Policy ID \t 45b75af9bb737cb93502a2a69fa1e561033909a3e38590d54e8f5925\n",
      "Asset Name \t Party2\n"
     ]
    }
   ],
   "source": [
    "# check wallet1 and wallet2 latest transaction data\n",
    "df = pd.concat([query_df(PARTY1_ADDRESS), query_df(PARTY2_ADDRESS)])\n",
    "# Convert 'address' column to a Categorical type with defined ordering\n",
    "df['address'] = pd.Categorical(df['address'], categories=[PARTY1_ADDRESS, PARTY2_ADDRESS], ordered=True)\n",
    "# sort by prioritizing addresses, then by TokenAmount ascending, and resets index numbering\n",
    "df = df.sort_values(by=['address', 'TokenAmount']).reset_index(drop=True)\n",
    "\n",
    "# store the PolicyID\n",
    "PARTY1_ROLE_POLICYID = df[(df['TokenNameAscii'] == PARTY1_ROLE_NAME)].iloc[0]['TokenPolicyId']\n",
    "PARTY2_ROLE_POLICYID = df[(df['TokenNameAscii'] == PARTY2_ROLE_NAME)].iloc[0]['TokenPolicyId']\n",
    "\n",
    "# Print the Policy IDs and Asset Names using the simplified approach\n",
    "print(f'Policy ID \\t {PARTY1_ROLE_POLICYID}')\n",
    "print(f\"Asset Name \\t {PARTY1_ROLE_NAME}\\n\")\n",
    "print(f'Policy ID \\t {PARTY2_ROLE_POLICYID}')\n",
    "print(f\"Asset Name \\t {PARTY2_ROLE_NAME}\")"
   ]
  },
  {
   "cell_type": "markdown",
   "id": "11d9c15a",
   "metadata": {},
   "source": [
    "<div style=\"font-family: monospace; background-color: #f0f0f0; border-left: 5px solid #33b5e5; padding: 10px; margin: 20px 0;\">\n",
    "\n",
    "<strong>Hexadecimal to ASCII Conversion:</strong><br>\n",
    "\n",
    "The hex value <code style=\"background-color: #ebfbee; color: #34a853; padding: 2px 4px; border-radius: 4px;\">506172747931</code>\n",
    "→\n",
    "converts to ASCII as <code style=\"background-color: #fff3cd; color: #856404; padding: 2px 4px; border-radius: 4px;\">Party1</code>.<br>\n",
    "The hex value <code style=\"background-color: #ebfbee; color: #34a853; padding: 2px 4px; border-radius: 4px;\">506172747932</code>\n",
    "→\n",
    "converts to ASCII as <code style=\"background-color: #fff3cd; color: #856404; padding: 2px 4px; border-radius: 4px;\">Party2</code>.\n",
    "\n",
    "</div>\n",
    "\n",
    "Each transaction produces a unique <b class=\"ttooltip\">TxHash<span class=\"tooltiptext\">The unique identifier for a transaction, generated by hashing its content. It's used to track and reference transactions within the blockchain.</span></b>, which identifies the transaction as a whole.  \n",
    "A <b class=\"ttooltip\">TxIx<span class=\"tooltiptext\">The index of a specific output in a transaction, starting from 0. It identifies each output within a transaction, allowing organizing multiple outputs.</span></b> refers to individual outputs within that transaction.  \n",
    "Together, TxHash and TxIx facilitate precise tracking and organization of transaction outputs on the Cardano blockchain.\n",
    "\n",
    "Example TxHash: **751df56d4f7c0281ae9d6f3dcc99f16da6c388100b7f03a40d32001a90e3448d**  \n",
    "For a transaction with 3 outputs, the TxIx values would be **0, 1, and 2**.\n"
   ]
  },
  {
   "cell_type": "code",
   "execution_count": 48,
   "id": "d9fb3343",
   "metadata": {},
   "outputs": [
    {
     "name": "stdout",
     "output_type": "stream",
     "text": [
      "  VARIABLE NAME\t\t: \t\t\t\tTxHash\t\t\t\t\tTxIx\n",
      "----------------------------------------------------------------------------------------------------\n",
      "TX1_PARTY1_ADA\t\t: df7f69f8af3cafd7a4fd4151e955fe565a1fc87aefb119f36c14e10da4685b54   +   #0\n",
      "TX1_PARTY1_TOKEN\t: df7f69f8af3cafd7a4fd4151e955fe565a1fc87aefb119f36c14e10da4685b54   +   #1\n",
      "TX1_PARTY2_ADA\t\t: 14180e0ae25162bc3f9098ab5215173142c90536a80327a4857de3c53266f333   +   #2\n",
      "TX1_PARTY2_TOKEN\t: df7f69f8af3cafd7a4fd4151e955fe565a1fc87aefb119f36c14e10da4685b54   +   #2\n"
     ]
    }
   ],
   "source": [
    "# store the OUTPUTS (TxHash + '#' + TxIx)\n",
    "TX1_PARTY1_ADA   = df.loc[0]['TxHash'] + '#' + str(df.loc[0]['TxIx'])\n",
    "TX1_PARTY1_TOKEN = df.loc[1]['TxHash'] + '#' + str(df.loc[1]['TxIx'])\n",
    "TX1_PARTY2_ADA   = df.loc[2]['TxHash'] + '#' + str(df.loc[2]['TxIx'])\n",
    "TX1_PARTY2_TOKEN = df.loc[3]['TxHash'] + '#' + str(df.loc[3]['TxIx'])\n",
    "\n",
    "print(f'  VARIABLE NAME\\t\\t: \\t\\t\\t\\tTxHash\\t\\t\\t\\t\\tTxIx')\n",
    "print(f'----------------------------------------------------------------------------------------------------')\n",
    "print(f'TX1_PARTY1_ADA\\t\\t: {TX1_PARTY1_ADA[:-2]}   +   {TX1_PARTY1_ADA[-2:]}')\n",
    "print(f'TX1_PARTY1_TOKEN\\t: {TX1_PARTY1_TOKEN[:-2]}   +   {TX1_PARTY1_TOKEN[-2:]}')\n",
    "print(f'TX1_PARTY2_ADA\\t\\t: {TX1_PARTY2_ADA[:-2]}   +   {TX1_PARTY2_ADA[-2:]}')\n",
    "print(f'TX1_PARTY2_TOKEN\\t: {TX1_PARTY2_TOKEN[:-2]}   +   {TX1_PARTY2_TOKEN[-2:]}')"
   ]
  },
  {
   "cell_type": "code",
   "execution_count": 49,
   "id": "07c376b7",
   "metadata": {},
   "outputs": [
    {
     "data": {
      "text/html": [
       "<div>\n",
       "<style scoped>\n",
       "    .dataframe tbody tr th:only-of-type {\n",
       "        vertical-align: middle;\n",
       "    }\n",
       "\n",
       "    .dataframe tbody tr th {\n",
       "        vertical-align: top;\n",
       "    }\n",
       "\n",
       "    .dataframe thead th {\n",
       "        text-align: right;\n",
       "    }\n",
       "</style>\n",
       "<table border=\"1\" class=\"dataframe\">\n",
       "  <thead>\n",
       "    <tr style=\"text-align: right;\">\n",
       "      <th></th>\n",
       "      <th>address</th>\n",
       "      <th>TxHash</th>\n",
       "      <th>TxIx</th>\n",
       "      <th>lovelace</th>\n",
       "      <th>TokenPolicyId</th>\n",
       "      <th>TokenNameHex</th>\n",
       "      <th>TokenNameAscii</th>\n",
       "      <th>TokenAmount</th>\n",
       "      <th>datumhash</th>\n",
       "    </tr>\n",
       "  </thead>\n",
       "  <tbody>\n",
       "    <tr>\n",
       "      <th>0</th>\n",
       "      <td>addr_test1vpcv7hdt4dczcmyeuk8w6yp5l8zhl5v7vnn42vel3jsd9aszd3e0n</td>\n",
       "      <td>df7f69f8af3cafd7a4fd4151e955fe565a1fc87aefb119f36c14e10da4685b54</td>\n",
       "      <td>0</td>\n",
       "      <td>497712459</td>\n",
       "      <td>NaN</td>\n",
       "      <td>NaN</td>\n",
       "      <td>None</td>\n",
       "      <td>0</td>\n",
       "      <td>NaN</td>\n",
       "    </tr>\n",
       "    <tr>\n",
       "      <th>1</th>\n",
       "      <td>addr_test1vpcv7hdt4dczcmyeuk8w6yp5l8zhl5v7vnn42vel3jsd9aszd3e0n</td>\n",
       "      <td>df7f69f8af3cafd7a4fd4151e955fe565a1fc87aefb119f36c14e10da4685b54</td>\n",
       "      <td>1</td>\n",
       "      <td>1034400</td>\n",
       "      <td>45b75af9bb737cb93502a2a69fa1e561033909a3e38590d54e8f5925</td>\n",
       "      <td>506172747931</td>\n",
       "      <td>Party1</td>\n",
       "      <td>1</td>\n",
       "      <td>NaN</td>\n",
       "    </tr>\n",
       "    <tr>\n",
       "      <th>2</th>\n",
       "      <td>addr_test1vr0269ym702hzn9h66m6q3ptd0a72te999c63huxh5g2qqqp390er</td>\n",
       "      <td>14180e0ae25162bc3f9098ab5215173142c90536a80327a4857de3c53266f333</td>\n",
       "      <td>2</td>\n",
       "      <td>500000000</td>\n",
       "      <td>NaN</td>\n",
       "      <td>NaN</td>\n",
       "      <td>None</td>\n",
       "      <td>0</td>\n",
       "      <td>NaN</td>\n",
       "    </tr>\n",
       "    <tr>\n",
       "      <th>3</th>\n",
       "      <td>addr_test1vr0269ym702hzn9h66m6q3ptd0a72te999c63huxh5g2qqqp390er</td>\n",
       "      <td>df7f69f8af3cafd7a4fd4151e955fe565a1fc87aefb119f36c14e10da4685b54</td>\n",
       "      <td>2</td>\n",
       "      <td>1034400</td>\n",
       "      <td>45b75af9bb737cb93502a2a69fa1e561033909a3e38590d54e8f5925</td>\n",
       "      <td>506172747932</td>\n",
       "      <td>Party2</td>\n",
       "      <td>1</td>\n",
       "      <td>NaN</td>\n",
       "    </tr>\n",
       "  </tbody>\n",
       "</table>\n",
       "</div>"
      ],
      "text/plain": [
       "                                                           address  \\\n",
       "0  addr_test1vpcv7hdt4dczcmyeuk8w6yp5l8zhl5v7vnn42vel3jsd9aszd3e0n   \n",
       "1  addr_test1vpcv7hdt4dczcmyeuk8w6yp5l8zhl5v7vnn42vel3jsd9aszd3e0n   \n",
       "2  addr_test1vr0269ym702hzn9h66m6q3ptd0a72te999c63huxh5g2qqqp390er   \n",
       "3  addr_test1vr0269ym702hzn9h66m6q3ptd0a72te999c63huxh5g2qqqp390er   \n",
       "\n",
       "                                                             TxHash  TxIx  \\\n",
       "0  df7f69f8af3cafd7a4fd4151e955fe565a1fc87aefb119f36c14e10da4685b54     0   \n",
       "1  df7f69f8af3cafd7a4fd4151e955fe565a1fc87aefb119f36c14e10da4685b54     1   \n",
       "2  14180e0ae25162bc3f9098ab5215173142c90536a80327a4857de3c53266f333     2   \n",
       "3  df7f69f8af3cafd7a4fd4151e955fe565a1fc87aefb119f36c14e10da4685b54     2   \n",
       "\n",
       "    lovelace                                             TokenPolicyId  \\\n",
       "0  497712459                                                       NaN   \n",
       "1    1034400  45b75af9bb737cb93502a2a69fa1e561033909a3e38590d54e8f5925   \n",
       "2  500000000                                                       NaN   \n",
       "3    1034400  45b75af9bb737cb93502a2a69fa1e561033909a3e38590d54e8f5925   \n",
       "\n",
       "   TokenNameHex TokenNameAscii  TokenAmount  datumhash  \n",
       "0           NaN           None            0        NaN  \n",
       "1  506172747931         Party1            1        NaN  \n",
       "2           NaN           None            0        NaN  \n",
       "3  506172747932         Party2            1        NaN  "
      ]
     },
     "execution_count": 49,
     "metadata": {},
     "output_type": "execute_result"
    }
   ],
   "source": [
    "df"
   ]
  },
  {
   "cell_type": "markdown",
   "id": "4eb6a721",
   "metadata": {},
   "source": [
    "## Transactions\n",
    "\n",
    "### modify contract parameters\n",
    "\n",
    "We embed specific, real-world values directly into the JSON script,  \n",
    "programmatically substituting placeholders with concrete data like PARTY1_TOKEN_NAME,  \n",
    "PARTY1_TOKEN_POLICYID, and the corresponding amounts and deadlines.  \n",
    "This precise customization process ensures our smart contract is not only functional but robust and adaptable to user needs.  "
   ]
  },
  {
   "cell_type": "code",
   "execution_count": 50,
   "id": "9ea4545c",
   "metadata": {},
   "outputs": [],
   "source": [
    "contract_data = {\n",
    "  \"when\": [\n",
    "    {\n",
    "      \"then\": {\n",
    "        \"when\": [\n",
    "          {\n",
    "            \"then\": {\n",
    "              \"token\": {\n",
    "                \"token_name\": PARTY1_TOKEN_NAME,\n",
    "                \"currency_symbol\": PARTY1_TOKEN_POLICYID\n",
    "              },\n",
    "              \"to\": {\n",
    "                \"party\": {\n",
    "                  \"role_token\": PARTY2_ROLE_NAME\n",
    "                }\n",
    "              },\n",
    "              \"then\": {\n",
    "                \"token\": {\n",
    "                  \"token_name\": PARTY2_TOKEN_NAME,\n",
    "                  \"currency_symbol\": PARTY2_TOKEN_POLICYID\n",
    "                },\n",
    "                \"to\": {\n",
    "                  \"party\": {\n",
    "                    \"role_token\": PARTY1_ROLE_NAME\n",
    "                  }\n",
    "                },\n",
    "                \"then\": \"close\",\n",
    "                \"pay\": PARTY2_AMOUNT,\n",
    "                \"from_account\": {\n",
    "                  \"role_token\": PARTY2_ROLE_NAME\n",
    "                }\n",
    "              },\n",
    "              \"pay\": PARTY1_AMOUNT,\n",
    "              \"from_account\": {\n",
    "                \"role_token\": PARTY1_ROLE_NAME\n",
    "              }\n",
    "            },\n",
    "            \"case\": {\n",
    "              \"party\": {\n",
    "                \"role_token\": PARTY2_ROLE_NAME\n",
    "              },\n",
    "              \"of_token\": {\n",
    "                \"token_name\": PARTY2_TOKEN_NAME,\n",
    "                \"currency_symbol\": PARTY2_TOKEN_POLICYID\n",
    "              },\n",
    "              \"into_account\": {\n",
    "                \"role_token\": PARTY2_ROLE_NAME\n",
    "              },\n",
    "              \"deposits\": PARTY2_AMOUNT\n",
    "            }\n",
    "          }\n",
    "        ],\n",
    "        \"timeout_continuation\": \"close\",\n",
    "        \"timeout\": PARTY2_DEADLINE_TIME\n",
    "      },\n",
    "      \"case\": {\n",
    "        \"party\": {\n",
    "          \"role_token\": PARTY1_ROLE_NAME\n",
    "        },\n",
    "        \"of_token\": {\n",
    "          \"token_name\": PARTY1_TOKEN_NAME,\n",
    "          \"currency_symbol\": PARTY1_TOKEN_POLICYID\n",
    "        },\n",
    "        \"into_account\": {\n",
    "          \"role_token\": PARTY1_ROLE_NAME\n",
    "        },\n",
    "        \"deposits\": PARTY1_AMOUNT\n",
    "      }\n",
    "    }\n",
    "  ],\n",
    "  \"timeout_continuation\": \"close\",\n",
    "  \"timeout\": PARTY1_DEADLINE_TIME\n",
    "}\n",
    "\n",
    "# Write the dictionary to a file in JSON format\n",
    "with open('tx-1.contract', 'w') as file:\n",
    "    json.dump(contract_data, file, indent=2)"
   ]
  },
  {
   "cell_type": "code",
   "execution_count": 51,
   "id": "04672a85",
   "metadata": {},
   "outputs": [
    {
     "name": "stdout",
     "output_type": "stream",
     "text": [
      "{\r\n",
      "  \"when\": [\r\n",
      "    {\r\n",
      "      \"then\": {\r\n",
      "        \"when\": [\r\n",
      "          {\r\n",
      "            \"then\": {\r\n",
      "              \"token\": {\r\n",
      "                \"token_name\": \"\",\r\n",
      "                \"currency_symbol\": \"\"\r\n",
      "              },\r\n",
      "              \"to\": {\r\n",
      "                \"party\": {\r\n",
      "                  \"role_token\": \"Party2\"\r\n",
      "                }\r\n",
      "              },\r\n",
      "              \"then\": {\r\n",
      "                \"token\": {\r\n",
      "                  \"token_name\": \"\",\r\n",
      "                  \"currency_symbol\": \"\"\r\n",
      "                },\r\n",
      "                \"to\": {\r\n",
      "                  \"party\": {\r\n",
      "                    \"role_token\": \"Party1\"\r\n",
      "                  }\r\n",
      "                },\r\n",
      "                \"then\": \"close\",\r\n",
      "                \"pay\": 100000000,\r\n",
      "                \"from_account\": {\r\n",
      "                  \"role_token\": \"Party2\"\r\n",
      "                }\r\n",
      "              },\r\n",
      "              \"pay\": 200000000,\r\n",
      "              \"from_account\": {\r\n",
      "                \"role_token\": \"Party1\"\r\n",
      "              }\r\n",
      "            },\r\n",
      "            \"case\": {\r\n",
      "              \"party\": {\r\n",
      "                \"role_token\": \"Party2\"\r\n",
      "              },\r\n",
      "              \"of_token\": {\r\n",
      "                \"token_name\": \"\",\r\n",
      "                \"currency_symbol\": \"\"\r\n",
      "              },\r\n",
      "              \"into_account\": {\r\n",
      "                \"role_token\": \"Party2\"\r\n",
      "              },\r\n",
      "              \"deposits\": 100000000\r\n",
      "            }\r\n",
      "          }\r\n",
      "        ],\r\n",
      "        \"timeout_continuation\": \"close\",\r\n",
      "        \"timeout\": 1712761512000\r\n",
      "      },\r\n",
      "      \"case\": {\r\n",
      "        \"party\": {\r\n",
      "          \"role_token\": \"Party1\"\r\n",
      "        },\r\n",
      "        \"of_token\": {\r\n",
      "          \"token_name\": \"\",\r\n",
      "          \"currency_symbol\": \"\"\r\n",
      "        },\r\n",
      "        \"into_account\": {\r\n",
      "          \"role_token\": \"Party1\"\r\n",
      "        },\r\n",
      "        \"deposits\": 200000000\r\n",
      "      }\r\n",
      "    }\r\n",
      "  ],\r\n",
      "  \"timeout_continuation\": \"close\",\r\n",
      "  \"timeout\": 1712711112000\r\n",
      "}"
     ]
    }
   ],
   "source": [
    "!cat tx-1.contract"
   ]
  },
  {
   "cell_type": "markdown",
   "id": "4072164e",
   "metadata": {},
   "source": [
    "The **minTime=1** setting signals the contract can start **anytime** after January 1, 1970.  \n",
    "It allows the contract to adapt with evolving accounts and choices.  \n",
    "A minimum balance of **3 ADA** in accounts serves as a security measure.  "
   ]
  },
  {
   "cell_type": "code",
   "execution_count": 52,
   "id": "b5cd8823",
   "metadata": {},
   "outputs": [],
   "source": [
    "state_data = {\n",
    "    \"accounts\": [\n",
    "        [[{\"role_token\": PARTY1_ROLE_NAME}, {\"currency_symbol\": PARTY1_TOKEN_POLICYID, \"token_name\": PARTY1_TOKEN_NAME}], MINIMUM_ADA]\n",
    "    ],\n",
    "    \"choices\": [],\n",
    "    \"boundValues\": [],\n",
    "    \"minTime\": 1\n",
    "}\n",
    "\n",
    "# Write the dictionary to a file in JSON format\n",
    "with open('tx-1.state', 'w') as file:\n",
    "    json.dump(state_data, file, indent=2)"
   ]
  },
  {
   "cell_type": "code",
   "execution_count": 53,
   "id": "705c8702",
   "metadata": {},
   "outputs": [
    {
     "name": "stdout",
     "output_type": "stream",
     "text": [
      "{\r\n",
      "  \"accounts\": [\r\n",
      "    [\r\n",
      "      [\r\n",
      "        {\r\n",
      "          \"role_token\": \"Party1\"\r\n",
      "        },\r\n",
      "        {\r\n",
      "          \"currency_symbol\": \"\",\r\n",
      "          \"token_name\": \"\"\r\n",
      "        }\r\n",
      "      ],\r\n",
      "      3000000\r\n",
      "    ]\r\n",
      "  ],\r\n",
      "  \"choices\": [],\r\n",
      "  \"boundValues\": [],\r\n",
      "  \"minTime\": 1\r\n",
      "}"
     ]
    }
   ],
   "source": [
    "!cat tx-1.state"
   ]
  },
  {
   "cell_type": "markdown",
   "id": "56b73cc4",
   "metadata": {},
   "source": [
    "### transaction #1 start contract (3 ADA)\n",
    "\n",
    "#### initialize\n",
    "\n",
    "Generate the *.marlowe file with json files *.contract, *.state, plutus data and network info.\n",
    "\n",
    "<div style=\"font-family: monospace; background-color: #ffffff; padding: 10px; margin: 20px 0;\">\n",
    "    <p>Use the <code>marlowe-cli run initialize</code> command to initialize the first transaction of a Marlowe contract.</p>\n",
    "    <pre>\n",
    "<span style=\"color: darkgreen; font-weight: bold;\">(--mainnet | --testnet-magic INTEGER)</span>          Specify the network environment (mainnet or testnet)\n",
    "<span style=\"color: gray;\">[--socket-path SOCKET_FILE]</span>                    Set the socket path for inter-process communication with cardano-node\n",
    "<span style=\"color: gray;\">[--stake-address ADDRESS]</span>                      Specify a stake address, if applicable\n",
    "<span style=\"color: gray;\">[--roles-currency CURRENCY_SYMBOL]</span>             Define the currency symbol for roles, if applicable\n",
    "<span style=\"color: darkgreen; font-weight: bold;\">--contract-file CONTRACT_FILE</span>                  Path to the JSON input file for the contract\n",
    "<span style=\"color: darkgreen; font-weight: bold;\">--state-file STATE_FILE</span>                        Path to the JSON input file for the contract's state\n",
    "<span style=\"color: gray;\">[--at-address ADDRESS | --permanently STAKING_ADDRESS | --permanently-without-staking]</span> <br>                                               Optional script publication method at a specific address,\n",
    "                                               permanently with staking (earn rewards) or permanently without staking\n",
    "<span style=\"color: darkgreen; font-weight: bold;\">--out-file OUTPUT_FILE</span>                         Path to save transaction body, or use /dev/null to discard\n",
    "<span style=\"color: gray;\">[--merkleize]</span>                                  Option to deeply merkleize the contract\n",
    "<span style=\"color: gray;\">[--print-stats]</span>                                Print transaction statistics\n",
    "<span style=\"color: gray;\">[--help]</span>                                       Display help information</pre>\n",
    "</div>"
   ]
  },
  {
   "cell_type": "code",
   "execution_count": 54,
   "id": "cd8631e0",
   "metadata": {},
   "outputs": [
    {
     "name": "stdout",
     "output_type": "stream",
     "text": [
      "\n",
      "Searching for reference script at address: addr_test1vrdw72k9ejttl6ng4gzl0t0vq68z2mzx4wdnr6v3554585q5dlfp8\n",
      "Expected reference script hash: \"6027a8010c555a4dd6b08882b899f4b3167c6e4524047132202dd984\"\n",
      "Searching for reference script at address: addr_test1vznzngme83923qgm66a2lnl7ln03t2qx4r4ay4s4w80ghpgf9q5yf\n",
      "Expected reference script hash: \"fdade3b86107bc715037b468574dd8d3f884a0da8c9956086b9a1a51\"\n",
      "Searching for reference script at address: addr_test1vqc4sgdyl29e54qplz268sg96xxj82jfnl70xtc52narplgppcf09\n",
      "Expected reference script hash: \"36a5c7e49a6b11c7fb65fb61db69ed5ceaa35326af9d952fd30185c0\"\n",
      "Validator size: 10779\n",
      "Base-validator cost: ExBudget {exBudgetCPU = ExCPU 16951100, exBudgetMemory = ExMemory 73800}\n",
      "\n",
      "\u001b[1mexecuted shell command:\u001b[0m\n",
      "marlowe-cli run initialize --testnet-magic 2 --socket-path /tmp/node.socket --roles-currency 45b75af9bb737cb93502a2a69fa1e561033909a3e38590d54e8f5925 --permanently-without-staking --contract-file tx-1.contract --state-file tx-1.state --out-file tx-1.marlowe --print-stats\n"
     ]
    }
   ],
   "source": [
    "cmd = [marloweCLI, \"run\", \"initialize\",          # Initialize the first transaction of a Marlowe contract\n",
    "       \"--testnet-magic\", MAGIC,\n",
    "       \"--socket-path\", SOCKET,\n",
    "       \"--roles-currency\", PARTY1_ROLE_POLICYID,\n",
    "       \"--permanently-without-staking\",          # enable optional reference script(without staking), 10x smaller tx size\n",
    "       \"--contract-file\", \"tx-1.contract\",       # input 1/2 contract code\n",
    "       \"--state-file\", \"tx-1.state\",             # input 2/2 state\n",
    "       \"--out-file\", \"tx-1.marlowe\",             # generated Marlowe contract\n",
    "       \"--print-stats\"]\n",
    "result = subprocess.run(cmd, capture_output=True, text=True)\n",
    "print(result.stdout)\n",
    "print(result.stderr.replace('\\n\\n', '\\n')[1:])\n",
    "print(\"\\033[1mexecuted shell command:\\033[0m\\n\" + cmd[0].split('/')[-1] + ' ' + ' '.join(cmd[1:]))"
   ]
  },
  {
   "cell_type": "markdown",
   "id": "9f84ccca",
   "metadata": {},
   "source": [
    "#### reference scripts\n",
    "\n",
    "[CIP-33](https://cips.cardano.org/cips/cip33/) introduces frequently-used scripts minimization by embedding them once.  \n",
    "`marlowe-cli run initialize` with `--permanently-without-staking` efficiently links to the **interpreter binary**, essential for Marlowe smart contracts.  \n",
    "This approach reduces transaction size and speeds up access, as cardano-node keeps the interpreter ready in-memory.  \n",
    "\n",
    "#### contract analysis summary\n",
    "\n",
    "The analysis of a Marlowe smart contract before execution confirms compliance with Cardano's protocol parameters,  \n",
    "structural readiness and execution feasibility. It does this by walking the circuit, calculating all possible paths.    "
   ]
  },
  {
   "cell_type": "markdown",
   "id": "9220bc21",
   "metadata": {},
   "source": [
    "<div style=\"font-family: monospace; background-color: #ffffff; padding: 10px; margin: 20px 0;\">\n",
    "    <p>Use the <code>marlowe-cli run analyze</code> command to analyze a generated Marlowe contract.</p>\n",
    "    <pre>\n",
    "<span style=\"color: darkgreen; font-weight: bold;\">(--mainnet | --testnet-magic INTEGER)</span>          Specify the network environment (mainnet or testnet)\n",
    "<span style=\"color: gray;\">[--socket-path SOCKET_FILE]</span>                    Set the socket path for inter-process communication with cardano-node\n",
    "<span style=\"color: darkgreen; font-weight: bold;\">--marlowe-file MARLOWE_FILE</span>                    JSON file with the state and contract\n",
    "<span style=\"color: gray;\">[--preconditions]</span>                              Check preconditions for valid Marlowe state\n",
    "<span style=\"color: gray;\">[--roles]</span>                                      Check lengths of role names\n",
    "<span style=\"color: gray;\">[--tokens]</span>                                     Check lengths of token names\n",
    "<span style=\"color: gray;\">[--maximum-value]</span>                              Check the 'maxValueSize' protocol limit\n",
    "<span style=\"color: gray;\">[--minimum-utxo]</span>                               Check the 'utxoCostPerWord' protocol limit\n",
    "<span style=\"color: gray;\">[--execution-cost]</span>                             Check the 'maxTxExecutionUnits' protocol limit\n",
    "<span style=\"color: gray;\">[--transaction-size]</span>                           Check the 'maxTxSize' protocol limit\n",
    "<span style=\"color: gray;\">[--best]</span>                                       Compute tight estimates of worst-case bounds\n",
    "<span style=\"color: gray;\">[--verbose]</span>                                    Include worst-case example in output\n",
    "<span style=\"color: gray;\">[--help]</span>                                       Display help information\n",
    "</pre>\n",
    "</div>"
   ]
  },
  {
   "cell_type": "code",
   "execution_count": 55,
   "id": "8e81b120",
   "metadata": {},
   "outputs": [
    {
     "name": "stdout",
     "output_type": "stream",
     "text": [
      "- Preconditions:\n",
      "    Duplicate accounts: []\n",
      "    Duplicate bound values: []\n",
      "    Duplicate choices: []\n",
      "    Invalid account parties: []\n",
      "    Invalid account tokens: []\n",
      "    Invalid choice parties: []\n",
      "    Invalid roles currency: false\n",
      "    Non-positive account balances: []\n",
      "- Role names:\n",
      "    Blank role names: false\n",
      "    Invalid role names: []\n",
      "- Tokens:\n",
      "    Invalid tokens: []\n",
      "- Maximum value:\n",
      "    Actual: 96\n",
      "    Invalid: false\n",
      "    Maximum: 5000\n",
      "    Percentage: 1.92\n",
      "    Unit: byte\n",
      "- Minimum UTxO:\n",
      "    Requirement: 1137840\n",
      "- Execution cost:\n",
      "    Memory:\n",
      "      Actual: 5566995\n",
      "      Invalid: false\n",
      "      Maximum: 14000000\n",
      "      Percentage: 39.76425\n",
      "    Steps:\n",
      "      Actual: 1470765714\n",
      "      Invalid: false\n",
      "      Maximum: 10000000000\n",
      "      Percentage: 14.70765714\n",
      "- Transaction size:\n",
      "    Actual: 1167\n",
      "    Invalid: false\n",
      "    Maximum: 16384\n",
      "    Percentage: 7.122802734375\n",
      "\n",
      "\n",
      "\u001b[1mexecuted shell command:\u001b[0m\n",
      "marlowe-cli run analyze --testnet-magic 2 --socket-path /tmp/node.socket --marlowe-file tx-1.marlowe\n"
     ]
    }
   ],
   "source": [
    "cmd = [marloweCLI, \"run\", \"analyze\",          # simulation of all contract branches, detecting protocol limits, impact costs \n",
    "       \"--testnet-magic\", MAGIC,\n",
    "       \"--socket-path\", SOCKET,\n",
    "       \"--marlowe-file\", \"tx-1.marlowe\"]\n",
    "result = subprocess.run(cmd, capture_output=True, text=True)\n",
    "print(result.stdout)\n",
    "print(result.stderr)\n",
    "print(\"\\033[1mexecuted shell command:\\033[0m\\n\" + cmd[0].split('/')[-1] + ' ' + ' '.join(cmd[1:]))"
   ]
  },
  {
   "cell_type": "markdown",
   "id": "2c58a09f",
   "metadata": {},
   "source": [
    "The analysis reveals:\n",
    "\n",
    "- **Preconditions:** no duplicates or invalid entries, clean setup  \n",
    "- **Role Names:** valid role names for clear participant identification  \n",
    "- **Tokens:** no invalid tokens, confirming validity in Cardano  \n",
    "- **Maximum Value:** utilization at **1.92%** of limit, efficient data use  \n",
    "- **Minimum UTxO:** requirement met with **1.137840 ADA** of our chosen MINIMUM_ADA value of 3.000000 ADA  \n",
    "- **Execution Cost:** memory and steps within limits, at **39.76%** and **14.71%** respectively  \n",
    "- **Transaction Size:** only **7.12%** of the maximum allowed, well below limit  "
   ]
  },
  {
   "cell_type": "code",
   "execution_count": 56,
   "id": "234f89dc",
   "metadata": {},
   "outputs": [
    {
     "name": "stdout",
     "output_type": "stream",
     "text": [
      "Tue Apr  9 17:09:59 CEST 2024\n",
      "-rw-rw-r-- 1 ubuntu ubuntu  1737 Apr  9 17:06 tx-1.contract\n",
      "-rw-rw-r-- 1 ubuntu ubuntu 39488 Apr  9 17:06 tx-1.marlowe\n",
      "-rw-rw-r-- 1 ubuntu ubuntu   254 Apr  9 17:06 tx-1.state\n"
     ]
    }
   ],
   "source": [
    "!date\n",
    "!ls -l tx-1.contract tx-1.state tx-1.marlowe"
   ]
  },
  {
   "cell_type": "code",
   "execution_count": 57,
   "id": "db22e662",
   "metadata": {},
   "outputs": [
    {
     "name": "stdout",
     "output_type": "stream",
     "text": [
      "{\r\n",
      "    \"era\": \"babbage\",\r\n",
      "    \"plutusVersion\": \"PlutusScriptV2\",\r\n",
      "    \"tx\": {\r\n",
      "        \"continuations\": [],\r\n",
      "        \"contract\": {\r\n",
      "            \"timeout\": 1712711112000,\r\n",
      "            \"timeout_continuation\": \"close\",\r\n",
      "            \"when\": [\r\n",
      "                {\r\n",
      "                    \"case\": {\r\n",
      "                        \"deposits\": 200000000,\r\n",
      "                        \"into_account\": {\r\n",
      "                            \"role_token\": \"Party1\"\r\n",
      "                        },\r\n",
      "                        \"of_token\": {\r\n",
      "                            \"currency_symbol\": \"\",\r\n",
      "                            \"token_name\": \"\"\r\n",
      "                        },\r\n",
      "                        \"party\": {\r\n",
      "                            \"role_token\": \"Party1\"\r\n",
      "                        }\r\n",
      "                    },\r\n",
      "                    \"then\": {\r\n",
      "                        \"timeout\": 1712761512000,\r\n",
      "                        \"timeout_continuation\": \"close\",\r\n",
      "                        \"when\": [\r\n",
      "                            {\r\n",
      "                                \"case\": {\r\n",
      "                                    \"deposits\": 100000000,\r\n",
      "                                    \"into_account\": {\r\n",
      "                                        \"role_token\": \"Party2\"\r\n",
      "                                    },\r\n",
      "                                    \"of_token\": {\r\n",
      "                                        \"currency_symbol\": \"\",\r\n",
      "                                        \"token_name\": \"\"\r\n",
      "                                    },\r\n",
      "                                    \"party\": {\r\n",
      "                                        \"role_token\": \"Party2\"\r\n",
      "                                    }\r\n",
      "                                },\r\n",
      "                                \"then\": {\r\n",
      "                                    \"from_account\": {\r\n",
      "                                        \"role_token\": \"Party1\"\r\n",
      "                                    },\r\n",
      "                                    \"pay\": 200000000,\r\n",
      "                                    \"then\": {\r\n",
      "                                        \"from_account\": {\r\n",
      "                                            \"role_token\": \"Party2\"\r\n",
      "                                        },\r\n",
      "                                        \"pay\": 100000000,\r\n",
      "                                        \"then\": \"close\",\r\n",
      "                                        \"to\": {\r\n",
      "                                            \"party\": {\r\n",
      "                                                \"role_token\": \"Party1\"\r\n",
      "                                            }\r\n",
      "                                        },\r\n",
      "                                        \"token\": {\r\n",
      "                                            \"currency_symbol\": \"\",\r\n",
      "                                            \"token_name\": \"\"\r\n",
      "                                        }\r\n",
      "                                    },\r\n",
      "                                    \"to\": {\r\n",
      "                                        \"party\": {\r\n",
      "                                            \"role_token\": \"Party2\"\r\n",
      "                                        }\r\n",
      "                                    },\r\n",
      "                                    \"token\": {\r\n",
      "                                        \"currency_symbol\": \"\",\r\n",
      "                                        \"token_name\": \"\"\r\n",
      "                                    }\r\n",
      "                                }\r\n",
      "                            }\r\n",
      "                        ]\r\n",
      "                    }\r\n",
      "                }\r\n",
      "            ]\r\n",
      "        },\r\n",
      "        \"inputs\": [],\r\n",
      "        \"marloweValidator\": {\r\n",
      "            \"address\": \"addr_test1wpsz02qpp3245nwkkzyg9wye7je3vlrwg5jqgufjyqkanpqef22lm\",\r\n",
      "            \"cost\": {\r\n",
      "                \"exBudgetCPU\": 16951100,\r\n",
      "                \"exBudgetMemory\": 73800\r\n",
      "            },\r\n",
      "            \"hash\": \"6027a8010c555a4dd6b08882b899f4b3167c6e4524047132202dd984\",\r\n",
      "            \"script\": {\r\n",
      "                \"cborHex\": \"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\",\r\n",
      "                \"description\": \"\",\r\n",
      "                \"type\": \"PlutusScriptV2\"\r\n",
      "            },\r\n",
      "            \"size\": 10779,\r\n",
      "            \"txIn\": \"ad66169c46201147c2129c7bc34023abefb90882259fc74829b33f37865c1546#1\"\r\n",
      "        },\r\n",
      "        \"openRolesValidator\": {\r\n",
      "            \"address\": \"addr_test1wqm2t3lynf43r3lmvhakrkmfa4ww4g6ny6hem9f06vqctsqpe76wj\",\r\n",
      "            \"cost\": {\r\n",
      "                \"exBudgetCPU\": 2300100,\r\n",
      "                \"exBudgetMemory\": 10100\r\n",
      "            },\r\n",
      "            \"hash\": \"36a5c7e49a6b11c7fb65fb61db69ed5ceaa35326af9d952fd30185c0\",\r\n",
      "            \"script\": {\r\n",
      "                \"cborHex\": \"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\",\r\n",
      "                \"description\": \"\",\r\n",
      "                \"type\": \"PlutusScriptV2\"\r\n",
      "            },\r\n",
      "            \"size\": 3689,\r\n",
      "            \"txIn\": \"af6b5c5d775ea92a44c2f4c49b940dbbfe36cbb37a12a7afc1f813e9976c0384#1\"\r\n",
      "        },\r\n",
      "        \"payments\": [],\r\n",
      "        \"range\": null,\r\n",
      "        \"roles\": {\r\n",
      "            \"unCurrencySymbol\": \"45b75af9bb737cb93502a2a69fa1e561033909a3e38590d54e8f5925\"\r\n",
      "        },\r\n",
      "        \"rolesValidator\": {\r\n",
      "            \"address\": \"addr_test1wr76mcacvyrmcu2sx76xs46dmrfl3p9qm2xfj4sgdwdp55g2h3jzl\",\r\n",
      "            \"cost\": {\r\n",
      "                \"exBudgetCPU\": 2507100,\r\n",
      "                \"exBudgetMemory\": 11000\r\n",
      "            },\r\n",
      "            \"hash\": \"fdade3b86107bc715037b468574dd8d3f884a0da8c9956086b9a1a51\",\r\n",
      "            \"script\": {\r\n",
      "                \"cborHex\": \"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\",\r\n",
      "                \"description\": \"\",\r\n",
      "                \"type\": \"PlutusScriptV2\"\r\n",
      "            },\r\n",
      "            \"size\": 2321,\r\n",
      "            \"txIn\": \"ad66169c46201147c2129c7bc34023abefb90882259fc74829b33f37865c1546#2\"\r\n",
      "        },\r\n",
      "        \"slotConfig\": {\r\n",
      "            \"scSlotLength\": 1000,\r\n",
      "            \"scSlotZeroTime\": 1666656000000\r\n",
      "        },\r\n",
      "        \"state\": {\r\n",
      "            \"accounts\": [\r\n",
      "                [\r\n",
      "                    [\r\n",
      "                        {\r\n",
      "                            \"role_token\": \"Party1\"\r\n",
      "                        },\r\n",
      "                        {\r\n",
      "                            \"currency_symbol\": \"\",\r\n",
      "                            \"token_name\": \"\"\r\n",
      "                        }\r\n",
      "                    ],\r\n",
      "                    3000000\r\n",
      "                ]\r\n",
      "            ],\r\n",
      "            \"boundValues\": [],\r\n",
      "            \"choices\": [],\r\n",
      "            \"minTime\": 1\r\n",
      "        }\r\n",
      "    }\r\n",
      "}"
     ]
    }
   ],
   "source": [
    "!cat tx-1.marlowe"
   ]
  },
  {
   "cell_type": "markdown",
   "id": "b2582c56",
   "metadata": {},
   "source": [
    "#### execute\n",
    "\n",
    "In the state file it was hard-coded to pay the initial deposit of 3 ADA,  \n",
    "in order for the contract to be activated/initialized.  \n",
    "A transaction fee will also be taken.  \n",
    "\n",
    "<div style=\"font-family: monospace; background-color: #ffffff; padding: 10px; margin: 20px 0;\">\n",
    "    <p>Use the <code>marlowe-cli run execute</code> command to run a Marlowe transaction.</p>\n",
    "    <pre>\n",
    "<span style=\"color: darkgreen; font-weight: bold;\">(--mainnet | --testnet-magic INTEGER)</span>          Specify the network environment (mainnet or testnet)\n",
    "<span style=\"color: gray;\">[--socket-path SOCKET_FILE]</span>                    Set the socket path for inter-process communication with cardano-node\n",
    "<span style=\"color: gray;\">[--marlowe-in-file MARLOWE_FILE]</span>               JSON file with the state and contract, if any\n",
    "<span style=\"color: gray;\">[--tx-in-marlowe TXID#TXIX]</span>                    UTxO from Marlowe contract to spend, if any\n",
    "<span style=\"color: gray;\">[--tx-in-collateral TXID#TXIX]</span>                 Collateral for the transaction, if any\n",
    "<span style=\"color: darkgreen; font-weight: bold;\">--marlowe-out-file MARLOWE_FILE</span>                Outputs, final state, and contract JSON file\n",
    "<span style=\"color: gray;\">[--tx-in TXID#TXIX]</span>                            Additional transaction input in TxId#TxIx format\n",
    "<span style=\"color: gray;\">[--tx-out ADDRESS+VALUE]</span>                       Transaction output in ADDRESS+VALUE format\n",
    "<span style=\"color: darkgreen; font-weight: bold;\">--change-address ADDRESS</span>                       Address for ADA excess of fee\n",
    "<span style=\"color: darkgreen; font-weight: bold;\">--required-signer SIGNING_FILE</span>                 File with a required signing key\n",
    "<span style=\"color: gray;\">[--metadata-file METADATA_FILE]</span>                Metadata JSON file\n",
    "<span style=\"color: darkgreen; font-weight: bold;\">--out-file FILE</span>                                Path to save transaction body, or use /dev/null to discard\n",
    "<span style=\"color: gray;\">[--submit SECONDS]</span>                             Submit the transaction, wait for confirmation\n",
    "<span style=\"color: gray;\">[--print-stats]</span>                                Print transaction statistics\n",
    "<span style=\"color: gray;\">[--script-invalid]</span>                             Assert that the transaction is invalid\n",
    "<span style=\"color: gray;\">[--help]</span>                                       Display help information\n",
    "</pre>\n",
    "</div>"
   ]
  },
  {
   "cell_type": "markdown",
   "id": "9919062c",
   "metadata": {},
   "source": [
    "#### auto-execute\n",
    "\n",
    "Simpler command with no need to provide inputs and outputs.  \n",
    "\n",
    "<div style=\"font-family: monospace; background-color: #ffffff; padding: 10px; margin: 20px 0;\">\n",
    "    <p>Use the <code>marlowe-cli run auto-execute</code> command to run a Marlowe transaction. <br>This feature is <strong>[EXPERIMENTAL]</strong> and selects transaction inputs and outputs automatically.</p>\n",
    "    <pre>\n",
    "<span style=\"color: darkgreen; font-weight: bold;\">(--mainnet | --testnet-magic INTEGER)</span>          Specify the network environment (mainnet or testnet)\n",
    "<span style=\"color: gray;\">[--socket-path SOCKET_FILE]</span>                    Set the socket path for inter-process communication with cardano-node\n",
    "<span style=\"color: gray;\">[--marlowe-in-file MARLOWE_FILE]</span>               JSON file with the state and contract, if any\n",
    "<span style=\"color: gray;\">[--tx-in-marlowe TXID#TXIX]</span>                    UTxO from Marlowe contract to spend, if any\n",
    "<span style=\"color: darkgreen; font-weight: bold;\">--marlowe-out-file MARLOWE_FILE</span>                Outputs, final state, and contract JSON file\n",
    "<span style=\"color: darkgreen; font-weight: bold;\">--change-address ADDRESS</span>                       Address for receiving ADA excess of fee\n",
    "<span style=\"color: darkgreen; font-weight: bold;\">--required-signer SIGNING_FILE</span>                 File with the required signing key\n",
    "<span style=\"color: gray;\">[--metadata-file METADATA_FILE]</span>                Metadata JSON file\n",
    "<span style=\"color: darkgreen; font-weight: bold;\">--out-file FILE</span>                                Path to save transaction body, or use /dev/null to discard\n",
    "<span style=\"color: gray;\">[--submit SECONDS]</span>                             Submit the transaction, wait for confirmation\n",
    "<span style=\"color: gray;\">[--print-stats]</span>                                Print transaction statistics\n",
    "<span style=\"color: gray;\">[--script-invalid]</span>                             Assert that the transaction is invalid\n",
    "<span style=\"color: gray;\">[--help]</span>                                       Display help information</pre>\n",
    "</div>"
   ]
  },
  {
   "cell_type": "code",
   "execution_count": 58,
   "id": "59400286",
   "metadata": {},
   "outputs": [
    {
     "name": "stdout",
     "output_type": "stream",
     "text": [
      "TX1_PARTY1_ADA\t\t: df7f69f8af3cafd7a4fd4151e955fe565a1fc87aefb119f36c14e10da4685b54#0\t<-- notice input #0\n",
      "TX1_PARTY1_TOKEN\t: df7f69f8af3cafd7a4fd4151e955fe565a1fc87aefb119f36c14e10da4685b54#1\t<-- notice input #1\n",
      "TX1_PARTY2_ADA\t\t: 14180e0ae25162bc3f9098ab5215173142c90536a80327a4857de3c53266f333#2\t\n",
      "TX1_PARTY2_TOKEN\t: df7f69f8af3cafd7a4fd4151e955fe565a1fc87aefb119f36c14e10da4685b54#2\t\n"
     ]
    }
   ],
   "source": [
    "print(f'TX1_PARTY1_ADA\\t\\t: {TX1_PARTY1_ADA}\\t<-- notice input #0')\n",
    "print(f'TX1_PARTY1_TOKEN\\t: {TX1_PARTY1_TOKEN}\\t<-- notice input #1')\n",
    "print(f'TX1_PARTY2_ADA\\t\\t: {TX1_PARTY2_ADA}\\t')\n",
    "print(f'TX1_PARTY2_TOKEN\\t: {TX1_PARTY2_TOKEN}\\t')"
   ]
  },
  {
   "cell_type": "code",
   "execution_count": 59,
   "id": "70d2a85a",
   "metadata": {},
   "outputs": [
    {
     "data": {
      "text/html": [
       "<div>\n",
       "<style scoped>\n",
       "    .dataframe tbody tr th:only-of-type {\n",
       "        vertical-align: middle;\n",
       "    }\n",
       "\n",
       "    .dataframe tbody tr th {\n",
       "        vertical-align: top;\n",
       "    }\n",
       "\n",
       "    .dataframe thead th {\n",
       "        text-align: right;\n",
       "    }\n",
       "</style>\n",
       "<table border=\"1\" class=\"dataframe\">\n",
       "  <thead>\n",
       "    <tr style=\"text-align: right;\">\n",
       "      <th></th>\n",
       "      <th>address</th>\n",
       "      <th>TxHash</th>\n",
       "      <th>TxIx</th>\n",
       "      <th>lovelace</th>\n",
       "      <th>TokenPolicyId</th>\n",
       "      <th>TokenNameHex</th>\n",
       "      <th>TokenNameAscii</th>\n",
       "      <th>TokenAmount</th>\n",
       "      <th>datumhash</th>\n",
       "    </tr>\n",
       "  </thead>\n",
       "  <tbody>\n",
       "    <tr>\n",
       "      <th>0</th>\n",
       "      <td>addr_test1vpcv7hdt4dczcmyeuk8w6yp5l8zhl5v7vnn42vel3jsd9aszd3e0n</td>\n",
       "      <td>df7f69f8af3cafd7a4fd4151e955fe565a1fc87aefb119f36c14e10da4685b54</td>\n",
       "      <td>0</td>\n",
       "      <td>497712459</td>\n",
       "      <td>NaN</td>\n",
       "      <td>NaN</td>\n",
       "      <td>None</td>\n",
       "      <td>0</td>\n",
       "      <td>NaN</td>\n",
       "    </tr>\n",
       "    <tr>\n",
       "      <th>1</th>\n",
       "      <td>addr_test1vpcv7hdt4dczcmyeuk8w6yp5l8zhl5v7vnn42vel3jsd9aszd3e0n</td>\n",
       "      <td>df7f69f8af3cafd7a4fd4151e955fe565a1fc87aefb119f36c14e10da4685b54</td>\n",
       "      <td>1</td>\n",
       "      <td>1034400</td>\n",
       "      <td>45b75af9bb737cb93502a2a69fa1e561033909a3e38590d54e8f5925</td>\n",
       "      <td>506172747931</td>\n",
       "      <td>Party1</td>\n",
       "      <td>1</td>\n",
       "      <td>NaN</td>\n",
       "    </tr>\n",
       "    <tr>\n",
       "      <th>2</th>\n",
       "      <td>addr_test1vr0269ym702hzn9h66m6q3ptd0a72te999c63huxh5g2qqqp390er</td>\n",
       "      <td>14180e0ae25162bc3f9098ab5215173142c90536a80327a4857de3c53266f333</td>\n",
       "      <td>2</td>\n",
       "      <td>500000000</td>\n",
       "      <td>NaN</td>\n",
       "      <td>NaN</td>\n",
       "      <td>None</td>\n",
       "      <td>0</td>\n",
       "      <td>NaN</td>\n",
       "    </tr>\n",
       "    <tr>\n",
       "      <th>3</th>\n",
       "      <td>addr_test1vr0269ym702hzn9h66m6q3ptd0a72te999c63huxh5g2qqqp390er</td>\n",
       "      <td>df7f69f8af3cafd7a4fd4151e955fe565a1fc87aefb119f36c14e10da4685b54</td>\n",
       "      <td>2</td>\n",
       "      <td>1034400</td>\n",
       "      <td>45b75af9bb737cb93502a2a69fa1e561033909a3e38590d54e8f5925</td>\n",
       "      <td>506172747932</td>\n",
       "      <td>Party2</td>\n",
       "      <td>1</td>\n",
       "      <td>NaN</td>\n",
       "    </tr>\n",
       "  </tbody>\n",
       "</table>\n",
       "</div>"
      ],
      "text/plain": [
       "                                                           address  \\\n",
       "0  addr_test1vpcv7hdt4dczcmyeuk8w6yp5l8zhl5v7vnn42vel3jsd9aszd3e0n   \n",
       "1  addr_test1vpcv7hdt4dczcmyeuk8w6yp5l8zhl5v7vnn42vel3jsd9aszd3e0n   \n",
       "2  addr_test1vr0269ym702hzn9h66m6q3ptd0a72te999c63huxh5g2qqqp390er   \n",
       "3  addr_test1vr0269ym702hzn9h66m6q3ptd0a72te999c63huxh5g2qqqp390er   \n",
       "\n",
       "                                                             TxHash  TxIx  \\\n",
       "0  df7f69f8af3cafd7a4fd4151e955fe565a1fc87aefb119f36c14e10da4685b54     0   \n",
       "1  df7f69f8af3cafd7a4fd4151e955fe565a1fc87aefb119f36c14e10da4685b54     1   \n",
       "2  14180e0ae25162bc3f9098ab5215173142c90536a80327a4857de3c53266f333     2   \n",
       "3  df7f69f8af3cafd7a4fd4151e955fe565a1fc87aefb119f36c14e10da4685b54     2   \n",
       "\n",
       "    lovelace                                             TokenPolicyId  \\\n",
       "0  497712459                                                       NaN   \n",
       "1    1034400  45b75af9bb737cb93502a2a69fa1e561033909a3e38590d54e8f5925   \n",
       "2  500000000                                                       NaN   \n",
       "3    1034400  45b75af9bb737cb93502a2a69fa1e561033909a3e38590d54e8f5925   \n",
       "\n",
       "   TokenNameHex TokenNameAscii  TokenAmount  datumhash  \n",
       "0           NaN           None            0        NaN  \n",
       "1  506172747931         Party1            1        NaN  \n",
       "2           NaN           None            0        NaN  \n",
       "3  506172747932         Party2            1        NaN  "
      ]
     },
     "execution_count": 59,
     "metadata": {},
     "output_type": "execute_result"
    }
   ],
   "source": [
    "df"
   ]
  },
  {
   "cell_type": "markdown",
   "id": "459dabba",
   "metadata": {},
   "source": [
    "![swap_transaction_1](../../image/swap_concept_tx1.png)"
   ]
  },
  {
   "cell_type": "code",
   "execution_count": 60,
   "id": "e5fdc3a9",
   "metadata": {},
   "outputs": [
    {
     "name": "stdout",
     "output_type": "stream",
     "text": [
      "\u001b[1msuccessful UTxO transaction:\u001b[0m\n",
      "Fee: Lovelace 191549\n",
      "Size: 526 / 16384 = 3%\n",
      "Execution units:\n",
      "  Memory: 0 / 14000000 = 0%\n",
      "  Steps: 0 / 10000000000 = 0%\n",
      "\n",
      "\u001b[1mgenerated TxId: \u001b[0m3f170ac7f9dfe0914a443a9ce76cf0b75d8067fd685ba89e65fb9e7f08d4d9c7\n",
      "\n",
      "\u001b[1mexecuted shell command:\u001b[0m\n",
      "marlowe-cli run execute --testnet-magic 2 --socket-path /tmp/node.socket --tx-in df7f69f8af3cafd7a4fd4151e955fe565a1fc87aefb119f36c14e10da4685b54#0 --change-address addr_test1vpcv7hdt4dczcmyeuk8w6yp5l8zhl5v7vnn42vel3jsd9aszd3e0n --required-signer wallet1.skey --marlowe-out-file tx-1.marlowe --out-file tx-1.signed --print-stats --submit 600\n"
     ]
    }
   ],
   "source": [
    "cmd = [marloweCLI, \"run\", \"execute\",          # run a Marlowe transaction\n",
    "       \"--testnet-magic\", MAGIC,\n",
    "       \"--socket-path\", SOCKET,\n",
    "       \"--tx-in\", TX1_PARTY1_ADA,\n",
    "       \"--change-address\", PARTY1_ADDRESS,\n",
    "       \"--required-signer\", PARTY1_SKEYFILE,\n",
    "       \"--marlowe-out-file\", \"tx-1.marlowe\",  # JSON file with Marlowe inputs, final state and contract (send min 3 ADA)\n",
    "       \"--out-file\", \"tx-1.signed\",           # for educational purpose, save the signed transaction data \n",
    "       \"--print-stats\",\n",
    "       \"--submit\", str(600)]                  # submit the transaction, and wait for confirmation (max 10min)\n",
    "result = subprocess.run(cmd, capture_output=True, text=True)\n",
    "print(\"\\033[1msuccessful UTxO transaction:\\033[0m\" + result.stderr if len(result.stderr.strip()) < 150 else result.stderr)\n",
    "print(\"\\033[1mgenerated TxId: \\033[0m\" + result.stdout.split('\"')[1] + \"\\n\")\n",
    "print(\"\\033[1mexecuted shell command:\\033[0m\\n\" + cmd[0].split('/')[-1] + ' ' + ' '.join(cmd[1:]))"
   ]
  },
  {
   "cell_type": "markdown",
   "id": "f2ddef9a",
   "metadata": {},
   "source": [
    "**simpler alternative:**\n",
    "```python\n",
    "cmd = [marloweCLI, \"run\", \"auto-execute\",     # run a Marlowe transaction\n",
    "       \"--testnet-magic\", MAGIC,\n",
    "       \"--socket-path\", SOCKET,\n",
    "       \"--change-address\", PARTY1_ADDRESS,\n",
    "       \"--required-signer\", PARTY1_SKEYFILE,\n",
    "       \"--marlowe-out-file\", \"tx-1.marlowe\",  # JSON file with Marlowe inputs, final state and contract (send min 3 ADA)\n",
    "       \"--out-file\", \"tx-1.signed\",           # for educational purpose, save the signed transaction data\n",
    "       \"--print-stats\",\n",
    "       \"--submit\", str(600)]                  # submit the transaction, and wait for confirmation (max 10min)\n",
    "```"
   ]
  },
  {
   "cell_type": "code",
   "execution_count": 61,
   "id": "1284c9d8",
   "metadata": {},
   "outputs": [
    {
     "data": {
      "text/plain": [
       "'3f170ac7f9dfe0914a443a9ce76cf0b75d8067fd685ba89e65fb9e7f08d4d9c7'"
      ]
     },
     "execution_count": 61,
     "metadata": {},
     "output_type": "execute_result"
    }
   ],
   "source": [
    "# save the transaction id\n",
    "TX2_IN = result.stdout.split('\"')[1]\n",
    "TX2_IN"
   ]
  },
  {
   "cell_type": "markdown",
   "id": "050b7ea4",
   "metadata": {},
   "source": [
    "![swap_transaction_1](../../image/swap_transaction_1.png)  "
   ]
  },
  {
   "cell_type": "markdown",
   "id": "ab5eddfe",
   "metadata": {},
   "source": [
    "### transaction #2 first deposit (200 ADA)\n",
    "\n",
    "#### prepare\n",
    "\n",
    "<div style=\"font-family: monospace; background-color: #ffffff; padding: 10px; margin: 20px 0;\">\n",
    "    <p>Use the <code>marlowe-cli run prepare</code> command to prepare the next step of a Marlowe contract and write the output to a JSON file.</p>\n",
    "    <pre>\n",
    "<span style=\"color: darkgreen; font-weight: bold;\">--marlowe-file MARLOWE_FILE</span>                    JSON input file for Marlowe state and contract\n",
    "<span style=\"color: gray;\">[--deposit-account PARTY]</span>                      Account for the deposit\n",
    "<span style=\"color: gray;\">[--deposit-party PARTY]</span>                        Party making the deposit\n",
    "<span style=\"color: gray;\">[--deposit-token TOKEN]</span>                        Token being deposited, if not ADA\n",
    "<span style=\"color: gray;\">[--deposit-amount INTEGER]</span>                     Amount of token being deposited\n",
    "<span style=\"color: gray;\">[--choice-name NAME]</span>                           Name of the choice made\n",
    "<span style=\"color: gray;\">[--choice-party PARTY]</span>                         Party making the choice\n",
    "<span style=\"color: gray;\">[--choice-number INTEGER]</span>                      Number chosen\n",
    "<span style=\"color: gray;\">[--notify]</span>                                     Notify the contract\n",
    "<span style=\"color: darkgreen; font-weight: bold;\">--invalid-before POSIX_TIME</span>                    execution window start time, in POSIX ms\n",
    "<span style=\"color: darkgreen; font-weight: bold;\">--invalid-hereafter POSIX_TIME</span>                 execution window end time, in POSIX ms\n",
    "<span style=\"color: darkgreen; font-weight: bold;\">[--out-file OUTPUT_FILE]</span>                       Save JSON output file for contract\n",
    "<span style=\"color: gray;\">[--print-stats]</span>                                Print statistics\n",
    "<span style=\"color: gray;\">[--help]</span>                                       Display help information\n",
    "</pre>\n",
    "</div>\n",
    "\n",
    "When we prepare the transaction we need to give some time for the user to sign that transaction.  \n",
    "Often, defined as a 3 hour countdown timer, the example image demonstrates using a web wallet, we use marlowe-cli run execute.  \n",
    "the `--invalid-hereafter` can clip against the deadline of the contract and become a shorter time window upon signing.  \n",
    "because `--invalid-before` is sliding the start of the window forward in time.  \n",
    "\n",
    "![allowed execution time](../../image/allowed_execution_time.png)  \n",
    "\n",
    "The contract has timeout boundaries defined:  \n",
    "  1. **start time** referred as `CURRENT_TIME` (ex. 1712653634000 (ms) = 2024-04-**09 11:07:14** (+0h))  \n",
    "  2. **party1 deadline** referred as `PARTY1_DEADLINE_TIME` (ex. 17126**89**634000 (ms) = 2024-04-09 **21**:07:14 (**+10h**))  \n",
    "  3. **party2 deadline** referred as `PARTY2_DEADLINE_TIME` (ex. 1712**7400**34000 (ms) = 2024-04-**10 11**:07:14 (**+24h**))  \n",
    "  \n",
    "In case these deadlines have passed, the contract will cancel and funds can be withdrawn.  \n",
    "  \n",
    "![allowed time window](../../image/allowed_time_window.png)\n"
   ]
  },
  {
   "cell_type": "code",
   "execution_count": 62,
   "id": "22a4d605",
   "metadata": {},
   "outputs": [
    {
     "name": "stdout",
     "output_type": "stream",
     "text": [
      "TransactionInput {txInterval = (POSIXTime {getPOSIXTime = 1712675796000},POSIXTime {getPOSIXTime = 1712686596999}), txInputs = [NormalInput (IDeposit \"Party1\" \"Party1\" (Token \"\" \"\") 200000000)]}\n",
      "\n",
      "Rounding  `TransactionInput` txInterval boundaries to:(POSIXTime {getPOSIXTime = 1712675796000},POSIXTime {getPOSIXTime = 1712686596999})\n",
      "\n",
      "Datum size: 236\n",
      "\n",
      "\u001b[1mexecution time window:\n",
      "valid:\u001b[0m 2024-04-09 17:16:36\t\t\u001b[1muntil:\u001b[0m 2024-04-09 20:16:36\n",
      "\n",
      "\u001b[1mexecuted shell command:\u001b[0m\n",
      "marlowe-cli run prepare --marlowe-file tx-1.marlowe --deposit-account Party1 --deposit-party Party1 --deposit-amount 200000000 --invalid-before 1712675796000 --invalid-hereafter 1712686596000 --out-file tx-2.marlowe --print-stats\n"
     ]
    }
   ],
   "source": [
    "# prepare parameters\n",
    "START_TIME = round(time.time())*SLOT_LENGTH\n",
    "VALID_TIME = min(START_TIME+3*HOUR_TIME, PARTY1_DEADLINE_TIME) # we set a window time of ~3 hours or smaller (<16 hours max)\n",
    "\n",
    "cmd = [marloweCLI, \"run\", \"prepare\",                           # Prepare the next step\n",
    "       \"--marlowe-file\", \"tx-1.marlowe\",                       # previous contract script state\n",
    "       \"--deposit-account\", PARTY1_ROLE_NAME,                  # 'Role=Party1' <-- appending 'Role=' is no longer needed\n",
    "       \"--deposit-party\", PARTY1_ROLE_NAME,\n",
    "       \"--deposit-amount\", str(PARTY1_AMOUNT),                 # deposit 200 ADA in contract\n",
    "       \"--invalid-before\", str(START_TIME),                    # start time window to allow execution\n",
    "       \"--invalid-hereafter\", str(VALID_TIME),                 # end time window, not exceeding PARTY1_DEADLINE_TIME (10 hours)\n",
    "       \"--out-file\", \"tx-2.marlowe\",                           # generate next contract script state\n",
    "       \"--print-stats\"]\n",
    "result = subprocess.run(cmd, capture_output=True, text=True)\n",
    "print(result.stdout)\n",
    "print(result.stderr)\n",
    "print(f\"\\033[1mexecution time window:\\nvalid:\\033[0m {convert_timestamp(START_TIME)}\\t\\t\\033[1muntil:\\033[0m {convert_timestamp(VALID_TIME)}\\n\")\n",
    "print(\"\\033[1mexecuted shell command:\\033[0m\\n\" + cmd[0].split('/')[-1] + ' ' + ' '.join(cmd[1:]))"
   ]
  },
  {
   "cell_type": "markdown",
   "id": "82193d5c",
   "metadata": {},
   "source": [
    "#### execute\n",
    "\n",
    "The **contract address** is predetermined to hold funds for each step of a transaction.  \n",
    "This address independently stores funds from all Marlowe contract states, but interacts exclusively with your funds,  \n",
    "strictly controlled by the contract's logic.  \n",
    "\n",
    "Due to the definition of a **role token** in our contract,  \n",
    "we automatically utilize a predetermined **redeem address** holding funds from ending contract states.  \n",
    "You may transact the role token to another wallet address.  "
   ]
  },
  {
   "cell_type": "code",
   "execution_count": 63,
   "id": "95c20e44",
   "metadata": {},
   "outputs": [
    {
     "name": "stdout",
     "output_type": "stream",
     "text": [
      "https://preview.cexplorer.io/address/addr_test1wpsz02qpp3245nwkkzyg9wye7je3vlrwg5jqgufjyqkanpqef22lm/tx#data\n"
     ]
    }
   ],
   "source": [
    "# get the contract address from the smart contract script file\n",
    "marloweValidatorAddress = !jq -r '.tx.marloweValidator.address' tx-1.marlowe\n",
    "\n",
    "# save the address\n",
    "CONTRACT_ADDRESS = marloweValidatorAddress[0]\n",
    "\n",
    "# weblink to the explorer\n",
    "# print(\"https://preview.cardanoscan.io/address/\"+str(CONTRACT_ADDRESS))\n",
    "print(f\"https://preview.cexplorer.io/address/{CONTRACT_ADDRESS}/tx#data\")"
   ]
  },
  {
   "cell_type": "code",
   "execution_count": 64,
   "id": "04c72447",
   "metadata": {},
   "outputs": [
    {
     "name": "stdout",
     "output_type": "stream",
     "text": [
      "https://preview.cexplorer.io/address/addr_test1wr76mcacvyrmcu2sx76xs46dmrfl3p9qm2xfj4sgdwdp55g2h3jzl/tx#data\n",
      "https://preview.cexplorer.io/address/addr_test1vpcv7hdt4dczcmyeuk8w6yp5l8zhl5v7vnn42vel3jsd9aszd3e0n/tx#data\n",
      "https://preview.cexplorer.io/address/addr_test1vr0269ym702hzn9h66m6q3ptd0a72te999c63huxh5g2qqqp390er/tx#data\n"
     ]
    }
   ],
   "source": [
    "# get the redeem address from the smart contract script file\n",
    "marloweValidatorAddress = !jq -r '.tx.rolesValidator.address' tx-1.marlowe\n",
    "\n",
    "# save the address\n",
    "REDEEM_ADDRESS = marloweValidatorAddress[0]\n",
    "\n",
    "# weblink to the explorer\n",
    "print(f\"https://preview.cexplorer.io/address/{REDEEM_ADDRESS}/tx#data\")\n",
    "\n",
    "# weblink to the explorer for wallet 1\n",
    "print(f\"https://preview.cexplorer.io/address/{PARTY1_ADDRESS}/tx#data\")\n",
    "\n",
    "# weblink to the explorer for wallet 2\n",
    "print(f\"https://preview.cexplorer.io/address/{PARTY2_ADDRESS}/tx#data\")"
   ]
  },
  {
   "cell_type": "code",
   "execution_count": 65,
   "id": "bb2ef24a",
   "metadata": {},
   "outputs": [
    {
     "data": {
      "text/html": [
       "<div>\n",
       "<style scoped>\n",
       "    .dataframe tbody tr th:only-of-type {\n",
       "        vertical-align: middle;\n",
       "    }\n",
       "\n",
       "    .dataframe tbody tr th {\n",
       "        vertical-align: top;\n",
       "    }\n",
       "\n",
       "    .dataframe thead th {\n",
       "        text-align: right;\n",
       "    }\n",
       "</style>\n",
       "<table border=\"1\" class=\"dataframe\">\n",
       "  <thead>\n",
       "    <tr style=\"text-align: right;\">\n",
       "      <th></th>\n",
       "      <th>address</th>\n",
       "      <th>TxHash</th>\n",
       "      <th>TxIx</th>\n",
       "      <th>lovelace</th>\n",
       "      <th>TokenPolicyId</th>\n",
       "      <th>TokenNameHex</th>\n",
       "      <th>TokenNameAscii</th>\n",
       "      <th>TokenAmount</th>\n",
       "      <th>datumhash</th>\n",
       "    </tr>\n",
       "  </thead>\n",
       "  <tbody>\n",
       "    <tr>\n",
       "      <th>0</th>\n",
       "      <td>addr_test1vpcv7hdt4dczcmyeuk8w6yp5l8zhl5v7vnn42vel3jsd9aszd3e0n</td>\n",
       "      <td>3f170ac7f9dfe0914a443a9ce76cf0b75d8067fd685ba89e65fb9e7f08d4d9c7</td>\n",
       "      <td>0</td>\n",
       "      <td>494520910</td>\n",
       "      <td>NaN</td>\n",
       "      <td>NaN</td>\n",
       "      <td>None</td>\n",
       "      <td>0</td>\n",
       "      <td>NaN</td>\n",
       "    </tr>\n",
       "    <tr>\n",
       "      <th>1</th>\n",
       "      <td>addr_test1vpcv7hdt4dczcmyeuk8w6yp5l8zhl5v7vnn42vel3jsd9aszd3e0n</td>\n",
       "      <td>df7f69f8af3cafd7a4fd4151e955fe565a1fc87aefb119f36c14e10da4685b54</td>\n",
       "      <td>1</td>\n",
       "      <td>1034400</td>\n",
       "      <td>45b75af9bb737cb93502a2a69fa1e561033909a3e38590d54e8f5925</td>\n",
       "      <td>506172747931</td>\n",
       "      <td>Party1</td>\n",
       "      <td>1</td>\n",
       "      <td>NaN</td>\n",
       "    </tr>\n",
       "    <tr>\n",
       "      <th>2</th>\n",
       "      <td>addr_test1vr0269ym702hzn9h66m6q3ptd0a72te999c63huxh5g2qqqp390er</td>\n",
       "      <td>14180e0ae25162bc3f9098ab5215173142c90536a80327a4857de3c53266f333</td>\n",
       "      <td>2</td>\n",
       "      <td>500000000</td>\n",
       "      <td>NaN</td>\n",
       "      <td>NaN</td>\n",
       "      <td>None</td>\n",
       "      <td>0</td>\n",
       "      <td>NaN</td>\n",
       "    </tr>\n",
       "    <tr>\n",
       "      <th>3</th>\n",
       "      <td>addr_test1vr0269ym702hzn9h66m6q3ptd0a72te999c63huxh5g2qqqp390er</td>\n",
       "      <td>df7f69f8af3cafd7a4fd4151e955fe565a1fc87aefb119f36c14e10da4685b54</td>\n",
       "      <td>2</td>\n",
       "      <td>1034400</td>\n",
       "      <td>45b75af9bb737cb93502a2a69fa1e561033909a3e38590d54e8f5925</td>\n",
       "      <td>506172747932</td>\n",
       "      <td>Party2</td>\n",
       "      <td>1</td>\n",
       "      <td>NaN</td>\n",
       "    </tr>\n",
       "  </tbody>\n",
       "</table>\n",
       "</div>"
      ],
      "text/plain": [
       "                                                           address  \\\n",
       "0  addr_test1vpcv7hdt4dczcmyeuk8w6yp5l8zhl5v7vnn42vel3jsd9aszd3e0n   \n",
       "1  addr_test1vpcv7hdt4dczcmyeuk8w6yp5l8zhl5v7vnn42vel3jsd9aszd3e0n   \n",
       "2  addr_test1vr0269ym702hzn9h66m6q3ptd0a72te999c63huxh5g2qqqp390er   \n",
       "3  addr_test1vr0269ym702hzn9h66m6q3ptd0a72te999c63huxh5g2qqqp390er   \n",
       "\n",
       "                                                             TxHash  TxIx  \\\n",
       "0  3f170ac7f9dfe0914a443a9ce76cf0b75d8067fd685ba89e65fb9e7f08d4d9c7     0   \n",
       "1  df7f69f8af3cafd7a4fd4151e955fe565a1fc87aefb119f36c14e10da4685b54     1   \n",
       "2  14180e0ae25162bc3f9098ab5215173142c90536a80327a4857de3c53266f333     2   \n",
       "3  df7f69f8af3cafd7a4fd4151e955fe565a1fc87aefb119f36c14e10da4685b54     2   \n",
       "\n",
       "    lovelace                                             TokenPolicyId  \\\n",
       "0  494520910                                                       NaN   \n",
       "1    1034400  45b75af9bb737cb93502a2a69fa1e561033909a3e38590d54e8f5925   \n",
       "2  500000000                                                       NaN   \n",
       "3    1034400  45b75af9bb737cb93502a2a69fa1e561033909a3e38590d54e8f5925   \n",
       "\n",
       "   TokenNameHex TokenNameAscii  TokenAmount  datumhash  \n",
       "0           NaN           None            0        NaN  \n",
       "1  506172747931         Party1            1        NaN  \n",
       "2           NaN           None            0        NaN  \n",
       "3  506172747932         Party2            1        NaN  "
      ]
     },
     "execution_count": 65,
     "metadata": {},
     "output_type": "execute_result"
    }
   ],
   "source": [
    "# check wallet1 and wallet2 latest transaction data\n",
    "df = pd.concat([query_df(PARTY1_ADDRESS), query_df(PARTY2_ADDRESS)])\n",
    "# Convert 'address' column to a Categorical type with defined ordering\n",
    "df['address'] = pd.Categorical(df['address'], categories=[PARTY1_ADDRESS, PARTY2_ADDRESS], ordered=True)\n",
    "# sort by prioritizing addresses, then by TokenAmount ascending, and resets index numbering\n",
    "df = df.sort_values(by=['address', 'TokenAmount']).reset_index(drop=True)\n",
    "df"
   ]
  },
  {
   "cell_type": "code",
   "execution_count": 66,
   "id": "12ec3b78",
   "metadata": {},
   "outputs": [
    {
     "name": "stdout",
     "output_type": "stream",
     "text": [
      "3f170ac7f9dfe0914a443a9ce76cf0b75d8067fd685ba89e65fb9e7f08d4d9c7#1\n",
      "3f170ac7f9dfe0914a443a9ce76cf0b75d8067fd685ba89e65fb9e7f08d4d9c7#0\n",
      "df7f69f8af3cafd7a4fd4151e955fe565a1fc87aefb119f36c14e10da4685b54#1\n",
      "14180e0ae25162bc3f9098ab5215173142c90536a80327a4857de3c53266f333#2\n",
      "df7f69f8af3cafd7a4fd4151e955fe565a1fc87aefb119f36c14e10da4685b54#2\n"
     ]
    }
   ],
   "source": [
    "TX2_CONTRACT     = TX2_IN + \"#1\"\n",
    "TX2_PARTY1_ADA   = df.iloc[0]['TxHash'] + '#' + str(df.loc[0]['TxIx'])\n",
    "TX2_PARTY1_TOKEN = df.iloc[1]['TxHash'] + '#' + str(df.loc[1]['TxIx'])\n",
    "TX2_PARTY2_ADA   = df.iloc[2]['TxHash'] + '#' + str(df.loc[2]['TxIx'])\n",
    "TX2_PARTY2_TOKEN = df.iloc[3]['TxHash'] + '#' + str(df.loc[3]['TxIx'])\n",
    "print(TX2_CONTRACT)\n",
    "print(TX2_PARTY1_ADA)\n",
    "print(TX2_PARTY1_TOKEN)\n",
    "print(TX2_PARTY2_ADA)\n",
    "print(TX2_PARTY2_TOKEN)"
   ]
  },
  {
   "cell_type": "markdown",
   "id": "196c7fe5",
   "metadata": {},
   "source": [
    "![swap_transaction_2](../../image/swap_concept_tx2.png)"
   ]
  },
  {
   "cell_type": "code",
   "execution_count": 67,
   "id": "25671f92",
   "metadata": {},
   "outputs": [
    {
     "name": "stdout",
     "output_type": "stream",
     "text": [
      "\u001b[1msuccessful UTxO transaction:\u001b[0m\n",
      "Fee: Lovelace 567373\n",
      "Size: 1105 / 16384 = 6%\n",
      "Execution units:\n",
      "  Memory: 4461192 / 14000000 = 31%\n",
      "  Steps: 1192570503 / 10000000000 = 11%\n",
      "\n",
      "\u001b[1mgenerated TxId: \u001b[0me19338491a04b33a9a06d58f89280cc1b315fcda6d5f1e0e95e524688c92b9c4\n",
      "\n",
      "\u001b[1mexecuted shell command:\u001b[0m\n",
      "marlowe-cli run execute --testnet-magic 2 --socket-path /tmp/node.socket --marlowe-in-file tx-1.marlowe --tx-in-marlowe 3f170ac7f9dfe0914a443a9ce76cf0b75d8067fd685ba89e65fb9e7f08d4d9c7#1 --tx-in-collateral 3f170ac7f9dfe0914a443a9ce76cf0b75d8067fd685ba89e65fb9e7f08d4d9c7#0 --tx-in 3f170ac7f9dfe0914a443a9ce76cf0b75d8067fd685ba89e65fb9e7f08d4d9c7#0 --tx-in df7f69f8af3cafd7a4fd4151e955fe565a1fc87aefb119f36c14e10da4685b54#1 --change-address addr_test1vpcv7hdt4dczcmyeuk8w6yp5l8zhl5v7vnn42vel3jsd9aszd3e0n --required-signer wallet1.skey --marlowe-out-file tx-2.marlowe --tx-out addr_test1vpcv7hdt4dczcmyeuk8w6yp5l8zhl5v7vnn42vel3jsd9aszd3e0n+3000000+1 45b75af9bb737cb93502a2a69fa1e561033909a3e38590d54e8f5925.Party1 --out-file tx-2.signed --print-stats --submit 600\n"
     ]
    }
   ],
   "source": [
    "cmd = [marloweCLI, \"run\", \"execute\",          # run a Marlowe transaction\n",
    "       \"--testnet-magic\", MAGIC,\n",
    "       \"--socket-path\", SOCKET,\n",
    "       \"--marlowe-in-file\", \"tx-1.marlowe\",   # JSON file with Marlowe inputs, final state and contract (send 200 ADA)\n",
    "       \"--tx-in-marlowe\", TX2_CONTRACT,       # input (contract utxo)\n",
    "       \"--tx-in-collateral\", TX2_PARTY1_ADA,\n",
    "       \"--tx-in\", TX2_PARTY1_ADA,\n",
    "       \"--tx-in\", TX2_PARTY1_TOKEN,\n",
    "       \"--change-address\", PARTY1_ADDRESS,\n",
    "       \"--required-signer\", PARTY1_SKEYFILE,\n",
    "       \"--marlowe-out-file\", \"tx-2.marlowe\",  # JSON file with Marlowe inputs, final state and contract\n",
    "       \"--tx-out\", PARTY1_ADDRESS+\"+\"+str(MINIMUM_ADA)+\"+\"+str(1)+\" \"+PARTY1_ROLE_POLICYID+\".\"+PARTY1_ROLE_NAME,\n",
    "       \"--out-file\", \"tx-2.signed\",           # for educational purpose, save the signed transaction data\n",
    "       \"--print-stats\",\n",
    "       \"--submit\", str(600)]                  # submit the transaction, and wait for confirmation (max 10min)\n",
    "result = subprocess.run(cmd, capture_output=True, text=True)\n",
    "print(\"\\033[1msuccessful UTxO transaction:\\033[0m\" + result.stderr if len(result.stderr.strip()) < 150 else result.stderr)\n",
    "print(\"\\033[1mgenerated TxId: \\033[0m\" + result.stdout.split('\"')[1] + \"\\n\")\n",
    "print(\"\\033[1mexecuted shell command:\\033[0m\\n\" + cmd[0].split('/')[-1] + ' ' + ' '.join(cmd[1:]))"
   ]
  },
  {
   "cell_type": "markdown",
   "id": "2fef3867",
   "metadata": {},
   "source": [
    "**simpler alternative:**\n",
    "```python\n",
    "cmd = [marloweCLI, \"run\", \"auto-execute\",     # run a Marlowe transaction\n",
    "       \"--testnet-magic\", MAGIC,\n",
    "       \"--socket-path\", SOCKET,\n",
    "       \"--marlowe-in-file\", \"tx-1.marlowe\",   # JSON file with Marlowe inputs, final state and contract (send 200 ADA)\n",
    "       \"--tx-in-marlowe\", TX2_CONTRACT,       # input (contract utxo)\n",
    "       \"--change-address\", PARTY1_ADDRESS,\n",
    "       \"--required-signer\", PARTY1_SKEYFILE,\n",
    "       \"--marlowe-out-file\", \"tx-2.marlowe\",  # JSON file with Marlowe inputs, final state and contract\n",
    "       \"--out-file\", \"tx-2.signed\",           # for educational purpose, save the signed transaction data\n",
    "       \"--print-stats\",\n",
    "       \"--submit\", str(600)]                  # submit the transaction, and wait for confirmation (max 10min)\n",
    "```"
   ]
  },
  {
   "cell_type": "code",
   "execution_count": 68,
   "id": "44f07e1e",
   "metadata": {},
   "outputs": [
    {
     "data": {
      "text/plain": [
       "'e19338491a04b33a9a06d58f89280cc1b315fcda6d5f1e0e95e524688c92b9c4'"
      ]
     },
     "execution_count": 68,
     "metadata": {},
     "output_type": "execute_result"
    }
   ],
   "source": [
    "# save the transaction id\n",
    "TX3_IN = result.stdout.split('\"')[1]\n",
    "TX3_IN"
   ]
  },
  {
   "cell_type": "markdown",
   "id": "b33dcec7",
   "metadata": {},
   "source": [
    "![swap_transaction_2](../../image/swap_transaction_2.png)  "
   ]
  },
  {
   "cell_type": "code",
   "execution_count": 69,
   "id": "49a9f222",
   "metadata": {},
   "outputs": [
    {
     "data": {
      "text/html": [
       "<div>\n",
       "<style scoped>\n",
       "    .dataframe tbody tr th:only-of-type {\n",
       "        vertical-align: middle;\n",
       "    }\n",
       "\n",
       "    .dataframe tbody tr th {\n",
       "        vertical-align: top;\n",
       "    }\n",
       "\n",
       "    .dataframe thead th {\n",
       "        text-align: right;\n",
       "    }\n",
       "</style>\n",
       "<table border=\"1\" class=\"dataframe\">\n",
       "  <thead>\n",
       "    <tr style=\"text-align: right;\">\n",
       "      <th></th>\n",
       "      <th>address</th>\n",
       "      <th>TxHash</th>\n",
       "      <th>TxIx</th>\n",
       "      <th>lovelace</th>\n",
       "      <th>TokenPolicyId</th>\n",
       "      <th>TokenNameHex</th>\n",
       "      <th>TokenNameAscii</th>\n",
       "      <th>TokenAmount</th>\n",
       "      <th>datumhash</th>\n",
       "    </tr>\n",
       "  </thead>\n",
       "  <tbody>\n",
       "    <tr>\n",
       "      <th>0</th>\n",
       "      <td>addr_test1vpcv7hdt4dczcmyeuk8w6yp5l8zhl5v7vnn42vel3jsd9aszd3e0n</td>\n",
       "      <td>e19338491a04b33a9a06d58f89280cc1b315fcda6d5f1e0e95e524688c92b9c4</td>\n",
       "      <td>0</td>\n",
       "      <td>291987937</td>\n",
       "      <td>NaN</td>\n",
       "      <td>NaN</td>\n",
       "      <td>None</td>\n",
       "      <td>0</td>\n",
       "      <td>NaN</td>\n",
       "    </tr>\n",
       "    <tr>\n",
       "      <th>1</th>\n",
       "      <td>addr_test1vpcv7hdt4dczcmyeuk8w6yp5l8zhl5v7vnn42vel3jsd9aszd3e0n</td>\n",
       "      <td>e19338491a04b33a9a06d58f89280cc1b315fcda6d5f1e0e95e524688c92b9c4</td>\n",
       "      <td>2</td>\n",
       "      <td>3000000</td>\n",
       "      <td>45b75af9bb737cb93502a2a69fa1e561033909a3e38590d54e8f5925</td>\n",
       "      <td>506172747931</td>\n",
       "      <td>Party1</td>\n",
       "      <td>1</td>\n",
       "      <td>NaN</td>\n",
       "    </tr>\n",
       "    <tr>\n",
       "      <th>2</th>\n",
       "      <td>addr_test1vr0269ym702hzn9h66m6q3ptd0a72te999c63huxh5g2qqqp390er</td>\n",
       "      <td>14180e0ae25162bc3f9098ab5215173142c90536a80327a4857de3c53266f333</td>\n",
       "      <td>2</td>\n",
       "      <td>500000000</td>\n",
       "      <td>NaN</td>\n",
       "      <td>NaN</td>\n",
       "      <td>None</td>\n",
       "      <td>0</td>\n",
       "      <td>NaN</td>\n",
       "    </tr>\n",
       "    <tr>\n",
       "      <th>3</th>\n",
       "      <td>addr_test1vr0269ym702hzn9h66m6q3ptd0a72te999c63huxh5g2qqqp390er</td>\n",
       "      <td>df7f69f8af3cafd7a4fd4151e955fe565a1fc87aefb119f36c14e10da4685b54</td>\n",
       "      <td>2</td>\n",
       "      <td>1034400</td>\n",
       "      <td>45b75af9bb737cb93502a2a69fa1e561033909a3e38590d54e8f5925</td>\n",
       "      <td>506172747932</td>\n",
       "      <td>Party2</td>\n",
       "      <td>1</td>\n",
       "      <td>NaN</td>\n",
       "    </tr>\n",
       "  </tbody>\n",
       "</table>\n",
       "</div>"
      ],
      "text/plain": [
       "                                                           address  \\\n",
       "0  addr_test1vpcv7hdt4dczcmyeuk8w6yp5l8zhl5v7vnn42vel3jsd9aszd3e0n   \n",
       "1  addr_test1vpcv7hdt4dczcmyeuk8w6yp5l8zhl5v7vnn42vel3jsd9aszd3e0n   \n",
       "2  addr_test1vr0269ym702hzn9h66m6q3ptd0a72te999c63huxh5g2qqqp390er   \n",
       "3  addr_test1vr0269ym702hzn9h66m6q3ptd0a72te999c63huxh5g2qqqp390er   \n",
       "\n",
       "                                                             TxHash  TxIx  \\\n",
       "0  e19338491a04b33a9a06d58f89280cc1b315fcda6d5f1e0e95e524688c92b9c4     0   \n",
       "1  e19338491a04b33a9a06d58f89280cc1b315fcda6d5f1e0e95e524688c92b9c4     2   \n",
       "2  14180e0ae25162bc3f9098ab5215173142c90536a80327a4857de3c53266f333     2   \n",
       "3  df7f69f8af3cafd7a4fd4151e955fe565a1fc87aefb119f36c14e10da4685b54     2   \n",
       "\n",
       "    lovelace                                             TokenPolicyId  \\\n",
       "0  291987937                                                       NaN   \n",
       "1    3000000  45b75af9bb737cb93502a2a69fa1e561033909a3e38590d54e8f5925   \n",
       "2  500000000                                                       NaN   \n",
       "3    1034400  45b75af9bb737cb93502a2a69fa1e561033909a3e38590d54e8f5925   \n",
       "\n",
       "   TokenNameHex TokenNameAscii  TokenAmount  datumhash  \n",
       "0           NaN           None            0        NaN  \n",
       "1  506172747931         Party1            1        NaN  \n",
       "2           NaN           None            0        NaN  \n",
       "3  506172747932         Party2            1        NaN  "
      ]
     },
     "execution_count": 69,
     "metadata": {},
     "output_type": "execute_result"
    }
   ],
   "source": [
    "# check wallet1 and wallet2 latest transaction data\n",
    "df = pd.concat([query_df(PARTY1_ADDRESS), query_df(PARTY2_ADDRESS)])\n",
    "# Convert 'address' column to a Categorical type with defined ordering\n",
    "df['address'] = pd.Categorical(df['address'], categories=[PARTY1_ADDRESS, PARTY2_ADDRESS], ordered=True)\n",
    "# sort by prioritizing addresses, then by TokenAmount ascending, and resets index numbering\n",
    "df = df.sort_values(by=['address', 'TokenAmount']).reset_index(drop=True)\n",
    "df"
   ]
  },
  {
   "cell_type": "code",
   "execution_count": 70,
   "id": "a19982af",
   "metadata": {},
   "outputs": [
    {
     "name": "stdout",
     "output_type": "stream",
     "text": [
      "e19338491a04b33a9a06d58f89280cc1b315fcda6d5f1e0e95e524688c92b9c4#1\n",
      "e19338491a04b33a9a06d58f89280cc1b315fcda6d5f1e0e95e524688c92b9c4#0\n",
      "e19338491a04b33a9a06d58f89280cc1b315fcda6d5f1e0e95e524688c92b9c4#2\n"
     ]
    }
   ],
   "source": [
    "TX3_CONTRACT     = TX3_IN + \"#1\"\n",
    "TX3_PARTY1_ADA   = df.iloc[0]['TxHash'] + '#' + str(df.loc[0]['TxIx'])\n",
    "TX3_PARTY1_TOKEN = df.iloc[1]['TxHash'] + '#' + str(df.loc[1]['TxIx'])\n",
    "print(TX3_CONTRACT)\n",
    "print(TX3_PARTY1_ADA)\n",
    "print(TX3_PARTY1_TOKEN)"
   ]
  },
  {
   "cell_type": "markdown",
   "id": "d5d131b8",
   "metadata": {},
   "source": [
    "### transaction #3 second deposit (100 ADA)\n",
    "\n",
    "#### prepare\n"
   ]
  },
  {
   "cell_type": "code",
   "execution_count": 71,
   "id": "9991aa94",
   "metadata": {},
   "outputs": [
    {
     "name": "stdout",
     "output_type": "stream",
     "text": [
      "TransactionInput {txInterval = (POSIXTime {getPOSIXTime = 1712675859000},POSIXTime {getPOSIXTime = 1712686659999}), txInputs = [NormalInput (IDeposit \"Party2\" \"Party2\" (Token \"\" \"\") 100000000)]}\n",
      "\n",
      "Rounding  `TransactionInput` txInterval boundaries to:(POSIXTime {getPOSIXTime = 1712675859000},POSIXTime {getPOSIXTime = 1712686659999})\n",
      "\n",
      "Datum size: 57\n",
      "Payment 1\n",
      "  Account: \"Party1\"\n",
      "  Payee: Party \"Party2\"\n",
      "  Ada: Lovelace {getLovelace = 200000000}\n",
      "Payment 2\n",
      "  Account: \"Party2\"\n",
      "  Payee: Party \"Party1\"\n",
      "  Ada: Lovelace {getLovelace = 100000000}\n",
      "Payment 3\n",
      "  Account: \"Party1\"\n",
      "  Payee: Party \"Party1\"\n",
      "  Ada: Lovelace {getLovelace = 3000000}\n",
      "\n",
      "\u001b[1mexecution time window:\n",
      "valid:\u001b[0m 2024-04-09 17:17:39\t\t\u001b[1muntil:\u001b[0m 2024-04-09 20:17:39\n",
      "\n",
      "\u001b[1mexecuted shell command:\u001b[0m\n",
      "marlowe-cli run prepare --marlowe-file tx-2.marlowe --deposit-account Party2 --deposit-party Party2 --deposit-amount 100000000 --invalid-before 1712675859000 --invalid-hereafter 1712686659000 --out-file tx-3.marlowe --print-stats\n"
     ]
    }
   ],
   "source": [
    "# prepare parameters\n",
    "START_TIME = round(time.time())*SLOT_LENGTH\n",
    "VALID_TIME = min(START_TIME+3*HOUR_TIME, PARTY2_DEADLINE_TIME) # we set a window time of ~3 hours or smaller (<16 hours max)\n",
    "\n",
    "cmd = [marloweCLI, \"run\", \"prepare\",                           # Prepare the next step\n",
    "       \"--marlowe-file\", \"tx-2.marlowe\",                       # previous contract script state\n",
    "       \"--deposit-account\", PARTY2_ROLE_NAME,\n",
    "       \"--deposit-party\", PARTY2_ROLE_NAME,\n",
    "       \"--deposit-amount\", str(PARTY2_AMOUNT),                 # deposit 100 ADA in contract\n",
    "       \"--invalid-before\", str(START_TIME),                    # start time window to allow execution\n",
    "       \"--invalid-hereafter\", str(VALID_TIME),                 # end time window, not exceeding PARTY2_DEADLINE_TIME (24 hours)\n",
    "       \"--out-file\", \"tx-3.marlowe\",                           # generate next contract script state\n",
    "       \"--print-stats\"]\n",
    "result = subprocess.run(cmd, capture_output=True, text=True)\n",
    "print(result.stdout)\n",
    "print(result.stderr)\n",
    "print(f\"\\033[1mexecution time window:\\nvalid:\\033[0m {convert_timestamp(START_TIME)}\\t\\t\\033[1muntil:\\033[0m {convert_timestamp(VALID_TIME)}\\n\")\n",
    "print(\"\\033[1mexecuted shell command:\\033[0m\\n\" + cmd[0].split('/')[-1] + ' ' + ' '.join(cmd[1:]))"
   ]
  },
  {
   "cell_type": "markdown",
   "id": "9a3c6afd",
   "metadata": {},
   "source": [
    "#### execute\n"
   ]
  },
  {
   "cell_type": "markdown",
   "id": "9086a465",
   "metadata": {},
   "source": [
    "![swap_transaction_3](../../image/swap_concept_tx3.png)"
   ]
  },
  {
   "cell_type": "code",
   "execution_count": 72,
   "id": "8f0dd369",
   "metadata": {},
   "outputs": [
    {
     "name": "stdout",
     "output_type": "stream",
     "text": [
      "\u001b[1msuccessful UTxO transaction:\u001b[0m\n",
      "Fee: Lovelace 592051\n",
      "Size: 972 / 16384 = 5%\n",
      "Execution units:\n",
      "  Memory: 4866399 / 14000000 = 34%\n",
      "  Steps: 1291737892 / 10000000000 = 12%\n",
      "\n",
      "\u001b[1mgenerated TxId: \u001b[0m326b6fae39c37220c30174112b87d551ef70014d07a62147df19b63583063f15\n",
      "\n",
      "\u001b[1mexecuted shell command:\u001b[0m\n",
      "marlowe-cli run execute --testnet-magic 2 --socket-path /tmp/node.socket --marlowe-in-file tx-2.marlowe --tx-in-marlowe e19338491a04b33a9a06d58f89280cc1b315fcda6d5f1e0e95e524688c92b9c4#1 --tx-in-collateral 14180e0ae25162bc3f9098ab5215173142c90536a80327a4857de3c53266f333#2 --tx-in 14180e0ae25162bc3f9098ab5215173142c90536a80327a4857de3c53266f333#2 --tx-in df7f69f8af3cafd7a4fd4151e955fe565a1fc87aefb119f36c14e10da4685b54#2 --change-address addr_test1vr0269ym702hzn9h66m6q3ptd0a72te999c63huxh5g2qqqp390er --required-signer wallet2.skey --marlowe-out-file tx-3.marlowe --tx-out addr_test1vr0269ym702hzn9h66m6q3ptd0a72te999c63huxh5g2qqqp390er+3000000+1 45b75af9bb737cb93502a2a69fa1e561033909a3e38590d54e8f5925.Party2 --out-file tx-3.signed --print-stats --submit 600\n"
     ]
    }
   ],
   "source": [
    "# Run a marlowe contract on the blockchain 'run execute'\n",
    "cmd = [marloweCLI, \"run\", \"execute\",          # run a Marlowe transaction\n",
    "       \"--testnet-magic\", MAGIC,\n",
    "       \"--socket-path\", SOCKET,\n",
    "       \"--marlowe-in-file\", \"tx-2.marlowe\",   # JSON file with Marlowe inputs, final state and contract (send 100 ADA)\n",
    "       \"--tx-in-marlowe\", TX3_CONTRACT,       # input (contract utxo)\n",
    "       \"--tx-in-collateral\", TX2_PARTY2_ADA,\n",
    "       \"--tx-in\", TX2_PARTY2_ADA,\n",
    "       \"--tx-in\", TX2_PARTY2_TOKEN,\n",
    "       \"--change-address\", PARTY2_ADDRESS,\n",
    "       \"--required-signer\", PARTY2_SKEYFILE,\n",
    "       \"--marlowe-out-file\", \"tx-3.marlowe\",  # JSON file with Marlowe inputs, final state and contract\n",
    "       \"--tx-out\", PARTY2_ADDRESS+\"+\"+str(MINIMUM_ADA)+\"+\"+str(1)+\" \"+PARTY2_ROLE_POLICYID+\".\"+PARTY2_ROLE_NAME,\n",
    "       \"--out-file\", \"tx-3.signed\",           # for educational purpose, save the signed transaction data\n",
    "       \"--print-stats\",\n",
    "       \"--submit\", str(600)]                  # submit the transaction, and wait for confirmation (max 10min)\n",
    "result = subprocess.run(cmd, capture_output=True, text=True)\n",
    "print(\"\\033[1msuccessful UTxO transaction:\\033[0m\" + result.stderr if len(result.stderr.strip()) < 150 else result.stderr)\n",
    "print(\"\\033[1mgenerated TxId: \\033[0m\" + result.stdout.split('\"')[1] + \"\\n\")\n",
    "print(\"\\033[1mexecuted shell command:\\033[0m\\n\" + cmd[0].split('/')[-1] + ' ' + ' '.join(cmd[1:]))"
   ]
  },
  {
   "cell_type": "markdown",
   "id": "c2598819",
   "metadata": {},
   "source": [
    "**simpler alternative:**\n",
    "```python\n",
    "cmd = [marloweCLI, \"run\", \"auto-execute\",     # run a Marlowe transaction\n",
    "       \"--testnet-magic\", MAGIC,\n",
    "       \"--socket-path\", SOCKET,\n",
    "       \"--marlowe-in-file\", \"tx-2.marlowe\",   # JSON file with Marlowe inputs, final state and contract (send 100 ADA)\n",
    "       \"--tx-in-marlowe\", TX3_CONTRACT,       # input (contract utxo)\n",
    "       \"--change-address\", PARTY2_ADDRESS,\n",
    "       \"--required-signer\", PARTY2_SKEYFILE,\n",
    "       \"--marlowe-out-file\", \"tx-3.marlowe\",  # JSON file with Marlowe inputs, final state and contract\n",
    "       \"--out-file\", \"tx-3.signed\",           # for educational purpose, save the signed transaction data\n",
    "       \"--print-stats\",\n",
    "       \"--submit\", str(600)]                  # submit the transaction, and wait for confirmation (max 10min)\n",
    "```"
   ]
  },
  {
   "cell_type": "code",
   "execution_count": 73,
   "id": "40361196",
   "metadata": {},
   "outputs": [
    {
     "data": {
      "text/plain": [
       "'326b6fae39c37220c30174112b87d551ef70014d07a62147df19b63583063f15'"
      ]
     },
     "execution_count": 73,
     "metadata": {},
     "output_type": "execute_result"
    }
   ],
   "source": [
    "# save the transaction id\n",
    "TX4_IN = result.stdout.split('\"')[1]\n",
    "TX4_IN"
   ]
  },
  {
   "cell_type": "markdown",
   "id": "0d095ce6",
   "metadata": {},
   "source": [
    "![swap_transaction_3](../../image/swap_transaction_3.png)  "
   ]
  },
  {
   "cell_type": "code",
   "execution_count": 74,
   "id": "83e8b78e",
   "metadata": {},
   "outputs": [
    {
     "data": {
      "text/html": [
       "<div>\n",
       "<style scoped>\n",
       "    .dataframe tbody tr th:only-of-type {\n",
       "        vertical-align: middle;\n",
       "    }\n",
       "\n",
       "    .dataframe tbody tr th {\n",
       "        vertical-align: top;\n",
       "    }\n",
       "\n",
       "    .dataframe thead th {\n",
       "        text-align: right;\n",
       "    }\n",
       "</style>\n",
       "<table border=\"1\" class=\"dataframe\">\n",
       "  <thead>\n",
       "    <tr style=\"text-align: right;\">\n",
       "      <th></th>\n",
       "      <th>address</th>\n",
       "      <th>TxHash</th>\n",
       "      <th>TxIx</th>\n",
       "      <th>lovelace</th>\n",
       "      <th>TokenPolicyId</th>\n",
       "      <th>TokenNameHex</th>\n",
       "      <th>TokenNameAscii</th>\n",
       "      <th>TokenAmount</th>\n",
       "      <th>datumhash</th>\n",
       "    </tr>\n",
       "  </thead>\n",
       "  <tbody>\n",
       "    <tr>\n",
       "      <th>0</th>\n",
       "      <td>addr_test1vpcv7hdt4dczcmyeuk8w6yp5l8zhl5v7vnn42vel3jsd9aszd3e0n</td>\n",
       "      <td>e19338491a04b33a9a06d58f89280cc1b315fcda6d5f1e0e95e524688c92b9c4</td>\n",
       "      <td>0</td>\n",
       "      <td>291987937</td>\n",
       "      <td>NaN</td>\n",
       "      <td>NaN</td>\n",
       "      <td>None</td>\n",
       "      <td>0</td>\n",
       "      <td>NaN</td>\n",
       "    </tr>\n",
       "    <tr>\n",
       "      <th>1</th>\n",
       "      <td>addr_test1vpcv7hdt4dczcmyeuk8w6yp5l8zhl5v7vnn42vel3jsd9aszd3e0n</td>\n",
       "      <td>e19338491a04b33a9a06d58f89280cc1b315fcda6d5f1e0e95e524688c92b9c4</td>\n",
       "      <td>2</td>\n",
       "      <td>3000000</td>\n",
       "      <td>45b75af9bb737cb93502a2a69fa1e561033909a3e38590d54e8f5925</td>\n",
       "      <td>506172747931</td>\n",
       "      <td>Party1</td>\n",
       "      <td>1</td>\n",
       "      <td>NaN</td>\n",
       "    </tr>\n",
       "    <tr>\n",
       "      <th>2</th>\n",
       "      <td>addr_test1vr0269ym702hzn9h66m6q3ptd0a72te999c63huxh5g2qqqp390er</td>\n",
       "      <td>326b6fae39c37220c30174112b87d551ef70014d07a62147df19b63583063f15</td>\n",
       "      <td>0</td>\n",
       "      <td>397442349</td>\n",
       "      <td>NaN</td>\n",
       "      <td>NaN</td>\n",
       "      <td>None</td>\n",
       "      <td>0</td>\n",
       "      <td>NaN</td>\n",
       "    </tr>\n",
       "    <tr>\n",
       "      <th>3</th>\n",
       "      <td>addr_test1vr0269ym702hzn9h66m6q3ptd0a72te999c63huxh5g2qqqp390er</td>\n",
       "      <td>326b6fae39c37220c30174112b87d551ef70014d07a62147df19b63583063f15</td>\n",
       "      <td>3</td>\n",
       "      <td>3000000</td>\n",
       "      <td>45b75af9bb737cb93502a2a69fa1e561033909a3e38590d54e8f5925</td>\n",
       "      <td>506172747932</td>\n",
       "      <td>Party2</td>\n",
       "      <td>1</td>\n",
       "      <td>NaN</td>\n",
       "    </tr>\n",
       "  </tbody>\n",
       "</table>\n",
       "</div>"
      ],
      "text/plain": [
       "                                                           address  \\\n",
       "0  addr_test1vpcv7hdt4dczcmyeuk8w6yp5l8zhl5v7vnn42vel3jsd9aszd3e0n   \n",
       "1  addr_test1vpcv7hdt4dczcmyeuk8w6yp5l8zhl5v7vnn42vel3jsd9aszd3e0n   \n",
       "2  addr_test1vr0269ym702hzn9h66m6q3ptd0a72te999c63huxh5g2qqqp390er   \n",
       "3  addr_test1vr0269ym702hzn9h66m6q3ptd0a72te999c63huxh5g2qqqp390er   \n",
       "\n",
       "                                                             TxHash  TxIx  \\\n",
       "0  e19338491a04b33a9a06d58f89280cc1b315fcda6d5f1e0e95e524688c92b9c4     0   \n",
       "1  e19338491a04b33a9a06d58f89280cc1b315fcda6d5f1e0e95e524688c92b9c4     2   \n",
       "2  326b6fae39c37220c30174112b87d551ef70014d07a62147df19b63583063f15     0   \n",
       "3  326b6fae39c37220c30174112b87d551ef70014d07a62147df19b63583063f15     3   \n",
       "\n",
       "    lovelace                                             TokenPolicyId  \\\n",
       "0  291987937                                                       NaN   \n",
       "1    3000000  45b75af9bb737cb93502a2a69fa1e561033909a3e38590d54e8f5925   \n",
       "2  397442349                                                       NaN   \n",
       "3    3000000  45b75af9bb737cb93502a2a69fa1e561033909a3e38590d54e8f5925   \n",
       "\n",
       "   TokenNameHex TokenNameAscii  TokenAmount  datumhash  \n",
       "0           NaN           None            0        NaN  \n",
       "1  506172747931         Party1            1        NaN  \n",
       "2           NaN           None            0        NaN  \n",
       "3  506172747932         Party2            1        NaN  "
      ]
     },
     "execution_count": 74,
     "metadata": {},
     "output_type": "execute_result"
    }
   ],
   "source": [
    "# check wallet1 and wallet2 latest transaction data\n",
    "df = pd.concat([query_df(PARTY1_ADDRESS), query_df(PARTY2_ADDRESS)])\n",
    "# Convert 'address' column to a Categorical type with defined ordering\n",
    "df['address'] = pd.Categorical(df['address'], categories=[PARTY1_ADDRESS, PARTY2_ADDRESS], ordered=True)\n",
    "# sort by prioritizing addresses, then by TokenAmount ascending, and resets index numbering\n",
    "df = df.sort_values(by=['address', 'TokenAmount']).reset_index(drop=True)\n",
    "df"
   ]
  },
  {
   "cell_type": "code",
   "execution_count": 75,
   "id": "537acecd",
   "metadata": {},
   "outputs": [
    {
     "name": "stdout",
     "output_type": "stream",
     "text": [
      "e19338491a04b33a9a06d58f89280cc1b315fcda6d5f1e0e95e524688c92b9c4#0\n",
      "e19338491a04b33a9a06d58f89280cc1b315fcda6d5f1e0e95e524688c92b9c4#2\n",
      "326b6fae39c37220c30174112b87d551ef70014d07a62147df19b63583063f15#0\n",
      "326b6fae39c37220c30174112b87d551ef70014d07a62147df19b63583063f15#3\n"
     ]
    }
   ],
   "source": [
    "TX_PARTY1_ADA   = TX3_IN + '#' + str(df.loc[0]['TxIx'])\n",
    "TX_PARTY1_TOKEN = TX3_IN + '#' + str(df.loc[1]['TxIx'])\n",
    "TX_PARTY2_ADA   = TX4_IN + '#' + str(df.loc[2]['TxIx'])\n",
    "TX_PARTY2_TOKEN = TX4_IN + '#' + str(df.loc[3]['TxIx'])\n",
    "print(TX_PARTY1_ADA)\n",
    "print(TX_PARTY1_TOKEN)\n",
    "print(TX_PARTY2_ADA)\n",
    "print(TX_PARTY2_TOKEN)"
   ]
  },
  {
   "cell_type": "markdown",
   "id": "896827f9",
   "metadata": {},
   "source": [
    "### transaction #4 and #5 contract ended (withdraw)\n",
    "\n",
    "#### withdraw\n",
    "\n",
    "Since we opt for tokens over direct addresses for flexible ownership transfers, an extra withdrawal transaction is needed.  \n",
    "'Party1' holders receive 100 ADA, plus 3 ADA returns from script activation, totaling 103 ADA.  \n",
    "'Party2' holders get 200 ADA upon withdrawal.  \n",
    "\n",
    "![swap_transaction_4_5](../../image/swap_concept_tx4_tx5.png)\n",
    "\n",
    "<div style=\"font-family: monospace; background-color: #ffffff; padding: 10px; margin: 20px 0;\">\n",
    "    <p>Use the <code>marlowe-cli run withdraw</code> command to withdraw funds from the Marlowe role address.</p>\n",
    "    <pre>\n",
    "<span style=\"color: darkgreen; font-weight: bold;\">(--mainnet | --testnet-magic INTEGER)</span>          Specify the network environment (mainnet or testnet)\n",
    "<span style=\"color: gray;\">[--socket-path SOCKET_FILE]</span>                    Set the socket path for inter-process communication with cardano-node\n",
    "<span style=\"color: darkgreen; font-weight: bold;\">--marlowe-file MARLOWE_FILE</span>                    JSON file with Marlowe inputs, final state, and contract\n",
    "<span style=\"color: darkgreen; font-weight: bold;\">--role-name TOKEN_NAME</span>                         Specify the role name for withdrawal\n",
    "<span style=\"color: darkgreen; font-weight: bold;\">--tx-in-collateral TXID#TXIX</span>                   Collateral for the transaction\n",
    "<span style=\"color: gray;\">[--tx-in TXID#TXIX]</span>                            Additional transaction input\n",
    "<span style=\"color: gray;\">[--tx-out ADDRESS+VALUE]</span>                       Transaction output in ADDRESS+VALUE format\n",
    "<span style=\"color: darkgreen; font-weight: bold;\">--change-address ADDRESS</span>                       Address for receiving ADA excess of fee\n",
    "<span style=\"color: darkgreen; font-weight: bold;\">--required-signer SIGNING_FILE</span>                 File with the required signing key\n",
    "<span style=\"color: gray;\">[--metadata-file METADATA_FILE]</span>                Metadata JSON file\n",
    "<span style=\"color: darkgreen; font-weight: bold;\">--out-file FILE</span>                                Path to save transaction body\n",
    "<span style=\"color: gray;\">[--submit SECONDS]</span>                             Submit the transaction, wait for confirmation\n",
    "<span style=\"color: gray;\">[--print-stats]</span>                                Print transaction statistics\n",
    "<span style=\"color: gray;\">[--script-invalid]</span>                             Assert that the transaction is invalid\n",
    "</div>\n",
    "    \n",
    "#### auto-withdraw\n",
    "\n",
    "Simpler command with no need to provide inputs and outputs.  \n",
    "\n",
    "<div style=\"font-family: monospace; background-color: #ffffff; padding: 10px; margin: 20px 0;\">\n",
    "    <p>Use the <code>marlowe-cli run auto-withdraw</code> command to automatically withdraw funds from the Marlowe role address. <br>This feature is <strong>[EXPERIMENTAL]</strong> and selects transaction inputs and outputs automatically.</p>\n",
    "    <pre>\n",
    "<span style=\"color: darkgreen; font-weight: bold;\">(--mainnet | --testnet-magic INTEGER)</span>          Specify the network environment (mainnet or testnet)\n",
    "<span style=\"color: gray;\">[--socket-path SOCKET_FILE]</span>                    Set the socket path for inter-process communication with cardano-node\n",
    "<span style=\"color: darkgreen; font-weight: bold;\">--marlowe-file MARLOWE_FILE</span>                    JSON file with Marlowe inputs, final state, and contract\n",
    "<span style=\"color: darkgreen; font-weight: bold;\">--role-name TOKEN_NAME</span>                         Specify the role name for withdrawal\n",
    "<span style=\"color: darkgreen; font-weight: bold;\">--change-address ADDRESS</span>                       Address for receiving ADA excess of fee\n",
    "<span style=\"color: darkgreen; font-weight: bold;\">--required-signer SIGNING_FILE</span>                 File with the required signing key\n",
    "<span style=\"color: gray;\">[--metadata-file METADATA_FILE]</span>                Metadata JSON file\n",
    "<span style=\"color: darkgreen; font-weight: bold;\">--out-file FILE</span>                                Path to save transaction body\n",
    "<span style=\"color: gray;\">[--submit SECONDS]</span>                             Submit the transaction, wait for confirmation\n",
    "<span style=\"color: gray;\">[--print-stats]</span>                                Print transaction statistics\n",
    "<span style=\"color: gray;\">[--script-invalid]</span>                             Assert that the transaction is invalid\n",
    "<span style=\"color: gray;\">[--help]</span>                                       Display help information</pre>\n",
    "</div>"
   ]
  },
  {
   "cell_type": "code",
   "execution_count": 76,
   "id": "44068183",
   "metadata": {},
   "outputs": [
    {
     "name": "stdout",
     "output_type": "stream",
     "text": [
      "\u001b[1msuccessful UTxO transaction:\u001b[0m\n",
      "Fee: Lovelace 311177\n",
      "Size: 542 / 16384 = 3%\n",
      "Execution units:\n",
      "  Memory: 1430012 / 14000000 = 10%\n",
      "  Steps: 408592410 / 10000000000 = 4%\n",
      "\n",
      "\u001b[1mgenerated TxId: \u001b[0m9968fee1e3cc27fad33a698bb79cca348354065cb0c0deddd0831b7cfed7b761\n",
      "\n",
      "\u001b[1mexecuted shell command:\u001b[0m\n",
      "marlowe-cli run withdraw --testnet-magic 2 --socket-path /tmp/node.socket --marlowe-file tx-3.marlowe --role-name Party1 --tx-in-collateral e19338491a04b33a9a06d58f89280cc1b315fcda6d5f1e0e95e524688c92b9c4#0 --tx-in e19338491a04b33a9a06d58f89280cc1b315fcda6d5f1e0e95e524688c92b9c4#0 --tx-in e19338491a04b33a9a06d58f89280cc1b315fcda6d5f1e0e95e524688c92b9c4#2 --change-address addr_test1vpcv7hdt4dczcmyeuk8w6yp5l8zhl5v7vnn42vel3jsd9aszd3e0n --required-signer wallet1.skey --tx-out addr_test1vpcv7hdt4dczcmyeuk8w6yp5l8zhl5v7vnn42vel3jsd9aszd3e0n+3000000+1 45b75af9bb737cb93502a2a69fa1e561033909a3e38590d54e8f5925.Party1 --out-file /dev/null --print-stats --submit 600\n"
     ]
    }
   ],
   "source": [
    "cmd = [marloweCLI, \"run\", \"withdraw\", \n",
    "       \"--testnet-magic\", MAGIC,\n",
    "       \"--socket-path\", SOCKET,\n",
    "       \"--marlowe-file\", \"tx-3.marlowe\",      # last contract state\n",
    "       \"--role-name\", PARTY1_ROLE_NAME,\n",
    "       \"--tx-in-collateral\", TX_PARTY1_ADA,\n",
    "       \"--tx-in\", TX_PARTY1_ADA,\n",
    "       \"--tx-in\", TX_PARTY1_TOKEN,\n",
    "       \"--change-address\", PARTY1_ADDRESS,\n",
    "       \"--required-signer\", PARTY1_SKEYFILE,\n",
    "       \"--tx-out\", PARTY1_ADDRESS+\"+\"+str(MINIMUM_ADA)+\"+\"+str(1)+\" \"+PARTY1_ROLE_POLICYID+\".\"+PARTY1_ROLE_NAME,\n",
    "       \"--out-file\", \"/dev/null\",\n",
    "       \"--print-stats\",\n",
    "       \"--submit\", str(600)]                  # submit the transaction, and wait for confirmation (max 10min)\n",
    "result = subprocess.run(cmd, capture_output=True, text=True)\n",
    "print(\"\\033[1msuccessful UTxO transaction:\\033[0m\" + result.stderr if len(result.stderr.strip()) < 150 else result.stderr)\n",
    "print(\"\\033[1mgenerated TxId: \\033[0m\" + result.stdout.split('\"')[1] + \"\\n\")\n",
    "print(\"\\033[1mexecuted shell command:\\033[0m\\n\" + cmd[0].split('/')[-1] + ' ' + ' '.join(cmd[1:]))"
   ]
  },
  {
   "cell_type": "markdown",
   "id": "516d64b9",
   "metadata": {},
   "source": [
    "**simpler alternative:**\n",
    "```python\n",
    "cmd = [marloweCLI, \"run\", \"auto-withdraw\", \n",
    "       \"--testnet-magic\", MAGIC,\n",
    "       \"--socket-path\", SOCKET,\n",
    "       \"--marlowe-file\", \"tx-3.marlowe\",      # last contract state\n",
    "       \"--role-name\", PARTY1_ROLE_NAME,\n",
    "       \"--change-address\", PARTY1_ADDRESS,\n",
    "       \"--required-signer\", PARTY1_SKEYFILE,\n",
    "       \"--out-file\", \"/dev/null\",\n",
    "       \"--print-stats\",\n",
    "       \"--submit\", str(600)]                  # submit the transaction, and wait for confirmation (max 10min)\n",
    "```"
   ]
  },
  {
   "cell_type": "code",
   "execution_count": 77,
   "id": "1e76be17",
   "metadata": {},
   "outputs": [
    {
     "name": "stdout",
     "output_type": "stream",
     "text": [
      "\u001b[1msuccessful UTxO transaction:\u001b[0m\n",
      "Fee: Lovelace 311177\n",
      "Size: 542 / 16384 = 3%\n",
      "Execution units:\n",
      "  Memory: 1430012 / 14000000 = 10%\n",
      "  Steps: 408592410 / 10000000000 = 4%\n",
      "\n",
      "\u001b[1mgenerated TxId: \u001b[0mcd01258fc6b2aa0e481d8e0d6d65795cbbc28a3ad0f05566fd274c925d2a4909\n",
      "\n",
      "\u001b[1mexecuted shell command:\u001b[0m\n",
      "marlowe-cli run withdraw --testnet-magic 2 --socket-path /tmp/node.socket --marlowe-file tx-3.marlowe --role-name Party2 --tx-in-collateral 326b6fae39c37220c30174112b87d551ef70014d07a62147df19b63583063f15#0 --tx-in 326b6fae39c37220c30174112b87d551ef70014d07a62147df19b63583063f15#0 --tx-in 326b6fae39c37220c30174112b87d551ef70014d07a62147df19b63583063f15#3 --change-address addr_test1vr0269ym702hzn9h66m6q3ptd0a72te999c63huxh5g2qqqp390er --required-signer wallet2.skey --tx-out addr_test1vr0269ym702hzn9h66m6q3ptd0a72te999c63huxh5g2qqqp390er+3000000+1 45b75af9bb737cb93502a2a69fa1e561033909a3e38590d54e8f5925.Party2 --out-file /dev/null --print-stats --submit 600\n"
     ]
    }
   ],
   "source": [
    "cmd = [marloweCLI, \"run\", \"withdraw\", \n",
    "       \"--testnet-magic\", MAGIC,\n",
    "       \"--socket-path\", SOCKET,\n",
    "       \"--marlowe-file\", \"tx-3.marlowe\",      # last contract version\n",
    "       \"--role-name\", PARTY2_ROLE_NAME,\n",
    "       \"--tx-in-collateral\", TX_PARTY2_ADA,\n",
    "       \"--tx-in\", TX_PARTY2_ADA,\n",
    "       \"--tx-in\", TX_PARTY2_TOKEN,\n",
    "       \"--change-address\", PARTY2_ADDRESS,\n",
    "       \"--required-signer\", PARTY2_SKEYFILE,\n",
    "       \"--tx-out\", PARTY2_ADDRESS+\"+\"+str(MINIMUM_ADA)+\"+\"+str(1)+\" \"+PARTY2_ROLE_POLICYID+\".\"+PARTY2_ROLE_NAME,   # needed against dos attack of 1000 calls\n",
    "       \"--out-file\", \"/dev/null\",\n",
    "       \"--print-stats\",\n",
    "       \"--submit\", str(600)]                  # submit the transaction, and wait for confirmation (max 10min)\n",
    "result = subprocess.run(cmd, capture_output=True, text=True)\n",
    "print(\"\\033[1msuccessful UTxO transaction:\\033[0m\" + result.stderr if len(result.stderr.strip()) < 150 else result.stderr)\n",
    "print(\"\\033[1mgenerated TxId: \\033[0m\" + result.stdout.split('\"')[1] + \"\\n\")\n",
    "print(\"\\033[1mexecuted shell command:\\033[0m\\n\" + cmd[0].split('/')[-1] + ' ' + ' '.join(cmd[1:]))"
   ]
  },
  {
   "cell_type": "markdown",
   "id": "e4bfed45",
   "metadata": {},
   "source": [
    "**simpler alternative:**\n",
    "```python\n",
    "cmd = [marloweCLI, \"run\", \"auto-withdraw\", \n",
    "       \"--testnet-magic\", MAGIC,\n",
    "       \"--socket-path\", SOCKET,\n",
    "       \"--marlowe-file\", \"tx-3.marlowe\",      # last contract version\n",
    "       \"--role-name\", PARTY2_ROLE_NAME,\n",
    "       \"--change-address\", PARTY2_ADDRESS,\n",
    "       \"--required-signer\", PARTY2_SKEYFILE,\n",
    "       \"--out-file\", \"/dev/null\",\n",
    "       \"--print-stats\",\n",
    "       \"--submit\", str(600)]                  # submit the transaction, and wait for confirmation (max 10min)\n",
    "```"
   ]
  },
  {
   "cell_type": "markdown",
   "id": "0bd9f470",
   "metadata": {},
   "source": [
    "![swap_transaction_4_5](../../image/swap_transaction_4_5.png)  "
   ]
  },
  {
   "cell_type": "code",
   "execution_count": 78,
   "id": "07068624",
   "metadata": {},
   "outputs": [
    {
     "data": {
      "text/html": [
       "<div>\n",
       "<style scoped>\n",
       "    .dataframe tbody tr th:only-of-type {\n",
       "        vertical-align: middle;\n",
       "    }\n",
       "\n",
       "    .dataframe tbody tr th {\n",
       "        vertical-align: top;\n",
       "    }\n",
       "\n",
       "    .dataframe thead th {\n",
       "        text-align: right;\n",
       "    }\n",
       "</style>\n",
       "<table border=\"1\" class=\"dataframe\">\n",
       "  <thead>\n",
       "    <tr style=\"text-align: right;\">\n",
       "      <th></th>\n",
       "      <th>address</th>\n",
       "      <th>TxHash</th>\n",
       "      <th>TxIx</th>\n",
       "      <th>lovelace</th>\n",
       "      <th>TokenPolicyId</th>\n",
       "      <th>TokenNameHex</th>\n",
       "      <th>TokenNameAscii</th>\n",
       "      <th>TokenAmount</th>\n",
       "      <th>datumhash</th>\n",
       "    </tr>\n",
       "  </thead>\n",
       "  <tbody>\n",
       "    <tr>\n",
       "      <th>0</th>\n",
       "      <td>addr_test1vpcv7hdt4dczcmyeuk8w6yp5l8zhl5v7vnn42vel3jsd9aszd3e0n</td>\n",
       "      <td>9968fee1e3cc27fad33a698bb79cca348354065cb0c0deddd0831b7cfed7b761</td>\n",
       "      <td>0</td>\n",
       "      <td>291676760</td>\n",
       "      <td>NaN</td>\n",
       "      <td>NaN</td>\n",
       "      <td>None</td>\n",
       "      <td>0</td>\n",
       "      <td>NaN</td>\n",
       "    </tr>\n",
       "    <tr>\n",
       "      <th>1</th>\n",
       "      <td>addr_test1vpcv7hdt4dczcmyeuk8w6yp5l8zhl5v7vnn42vel3jsd9aszd3e0n</td>\n",
       "      <td>9968fee1e3cc27fad33a698bb79cca348354065cb0c0deddd0831b7cfed7b761</td>\n",
       "      <td>1</td>\n",
       "      <td>103000000</td>\n",
       "      <td>NaN</td>\n",
       "      <td>NaN</td>\n",
       "      <td>None</td>\n",
       "      <td>0</td>\n",
       "      <td>NaN</td>\n",
       "    </tr>\n",
       "    <tr>\n",
       "      <th>2</th>\n",
       "      <td>addr_test1vpcv7hdt4dczcmyeuk8w6yp5l8zhl5v7vnn42vel3jsd9aszd3e0n</td>\n",
       "      <td>9968fee1e3cc27fad33a698bb79cca348354065cb0c0deddd0831b7cfed7b761</td>\n",
       "      <td>2</td>\n",
       "      <td>3000000</td>\n",
       "      <td>45b75af9bb737cb93502a2a69fa1e561033909a3e38590d54e8f5925</td>\n",
       "      <td>506172747931</td>\n",
       "      <td>Party1</td>\n",
       "      <td>1</td>\n",
       "      <td>NaN</td>\n",
       "    </tr>\n",
       "    <tr>\n",
       "      <th>3</th>\n",
       "      <td>addr_test1vr0269ym702hzn9h66m6q3ptd0a72te999c63huxh5g2qqqp390er</td>\n",
       "      <td>cd01258fc6b2aa0e481d8e0d6d65795cbbc28a3ad0f05566fd274c925d2a4909</td>\n",
       "      <td>0</td>\n",
       "      <td>397131172</td>\n",
       "      <td>NaN</td>\n",
       "      <td>NaN</td>\n",
       "      <td>None</td>\n",
       "      <td>0</td>\n",
       "      <td>NaN</td>\n",
       "    </tr>\n",
       "    <tr>\n",
       "      <th>4</th>\n",
       "      <td>addr_test1vr0269ym702hzn9h66m6q3ptd0a72te999c63huxh5g2qqqp390er</td>\n",
       "      <td>cd01258fc6b2aa0e481d8e0d6d65795cbbc28a3ad0f05566fd274c925d2a4909</td>\n",
       "      <td>1</td>\n",
       "      <td>200000000</td>\n",
       "      <td>NaN</td>\n",
       "      <td>NaN</td>\n",
       "      <td>None</td>\n",
       "      <td>0</td>\n",
       "      <td>NaN</td>\n",
       "    </tr>\n",
       "    <tr>\n",
       "      <th>5</th>\n",
       "      <td>addr_test1vr0269ym702hzn9h66m6q3ptd0a72te999c63huxh5g2qqqp390er</td>\n",
       "      <td>cd01258fc6b2aa0e481d8e0d6d65795cbbc28a3ad0f05566fd274c925d2a4909</td>\n",
       "      <td>2</td>\n",
       "      <td>3000000</td>\n",
       "      <td>45b75af9bb737cb93502a2a69fa1e561033909a3e38590d54e8f5925</td>\n",
       "      <td>506172747932</td>\n",
       "      <td>Party2</td>\n",
       "      <td>1</td>\n",
       "      <td>NaN</td>\n",
       "    </tr>\n",
       "  </tbody>\n",
       "</table>\n",
       "</div>"
      ],
      "text/plain": [
       "                                                           address  \\\n",
       "0  addr_test1vpcv7hdt4dczcmyeuk8w6yp5l8zhl5v7vnn42vel3jsd9aszd3e0n   \n",
       "1  addr_test1vpcv7hdt4dczcmyeuk8w6yp5l8zhl5v7vnn42vel3jsd9aszd3e0n   \n",
       "2  addr_test1vpcv7hdt4dczcmyeuk8w6yp5l8zhl5v7vnn42vel3jsd9aszd3e0n   \n",
       "3  addr_test1vr0269ym702hzn9h66m6q3ptd0a72te999c63huxh5g2qqqp390er   \n",
       "4  addr_test1vr0269ym702hzn9h66m6q3ptd0a72te999c63huxh5g2qqqp390er   \n",
       "5  addr_test1vr0269ym702hzn9h66m6q3ptd0a72te999c63huxh5g2qqqp390er   \n",
       "\n",
       "                                                             TxHash  TxIx  \\\n",
       "0  9968fee1e3cc27fad33a698bb79cca348354065cb0c0deddd0831b7cfed7b761     0   \n",
       "1  9968fee1e3cc27fad33a698bb79cca348354065cb0c0deddd0831b7cfed7b761     1   \n",
       "2  9968fee1e3cc27fad33a698bb79cca348354065cb0c0deddd0831b7cfed7b761     2   \n",
       "3  cd01258fc6b2aa0e481d8e0d6d65795cbbc28a3ad0f05566fd274c925d2a4909     0   \n",
       "4  cd01258fc6b2aa0e481d8e0d6d65795cbbc28a3ad0f05566fd274c925d2a4909     1   \n",
       "5  cd01258fc6b2aa0e481d8e0d6d65795cbbc28a3ad0f05566fd274c925d2a4909     2   \n",
       "\n",
       "    lovelace                                             TokenPolicyId  \\\n",
       "0  291676760                                                       NaN   \n",
       "1  103000000                                                       NaN   \n",
       "2    3000000  45b75af9bb737cb93502a2a69fa1e561033909a3e38590d54e8f5925   \n",
       "3  397131172                                                       NaN   \n",
       "4  200000000                                                       NaN   \n",
       "5    3000000  45b75af9bb737cb93502a2a69fa1e561033909a3e38590d54e8f5925   \n",
       "\n",
       "   TokenNameHex TokenNameAscii  TokenAmount  datumhash  \n",
       "0           NaN           None            0        NaN  \n",
       "1           NaN           None            0        NaN  \n",
       "2  506172747931         Party1            1        NaN  \n",
       "3           NaN           None            0        NaN  \n",
       "4           NaN           None            0        NaN  \n",
       "5  506172747932         Party2            1        NaN  "
      ]
     },
     "execution_count": 78,
     "metadata": {},
     "output_type": "execute_result"
    }
   ],
   "source": [
    "# check wallet1 and wallet2 latest transaction data\n",
    "df = pd.concat([query_df(PARTY1_ADDRESS), query_df(PARTY2_ADDRESS)])\n",
    "# Convert 'address' column to a Categorical type with defined ordering\n",
    "df['address'] = pd.Categorical(df['address'], categories=[PARTY1_ADDRESS, PARTY2_ADDRESS], ordered=True)\n",
    "# sort by prioritizing addresses, then by TokenAmount ascending, and resets index numbering\n",
    "df = df.sort_values(by=['address', 'TokenAmount']).reset_index(drop=True)\n",
    "df"
   ]
  },
  {
   "cell_type": "markdown",
   "id": "0757c4dc",
   "metadata": {},
   "source": [
    "**OVERVIEW**  \n",
    "\n",
    "![swap_execution_steps_overview](../../image/swap_execution_steps_overview.png) "
   ]
  },
  {
   "cell_type": "markdown",
   "id": "7b002c2e",
   "metadata": {},
   "source": [
    "### Deployment"
   ]
  },
  {
   "cell_type": "code",
   "execution_count": null,
   "id": "cfaaba8f",
   "metadata": {},
   "outputs": [],
   "source": []
  },
  {
   "cell_type": "code",
   "execution_count": null,
   "id": "36cbf8f1",
   "metadata": {},
   "outputs": [],
   "source": []
  },
  {
   "cell_type": "code",
   "execution_count": null,
   "id": "5b0c8c01",
   "metadata": {},
   "outputs": [],
   "source": []
  },
  {
   "cell_type": "code",
   "execution_count": null,
   "id": "6b80d161",
   "metadata": {},
   "outputs": [],
   "source": []
  },
  {
   "cell_type": "code",
   "execution_count": null,
   "id": "8b21d935",
   "metadata": {},
   "outputs": [],
   "source": []
  },
  {
   "cell_type": "code",
   "execution_count": null,
   "id": "bf754615",
   "metadata": {},
   "outputs": [],
   "source": []
  },
  {
   "cell_type": "code",
   "execution_count": null,
   "id": "74c34a55",
   "metadata": {},
   "outputs": [],
   "source": []
  },
  {
   "cell_type": "code",
   "execution_count": null,
   "id": "05e8b724",
   "metadata": {},
   "outputs": [],
   "source": []
  },
  {
   "cell_type": "code",
   "execution_count": null,
   "id": "014a4dbf",
   "metadata": {},
   "outputs": [],
   "source": []
  },
  {
   "cell_type": "code",
   "execution_count": null,
   "id": "e21c196b",
   "metadata": {},
   "outputs": [],
   "source": []
  },
  {
   "cell_type": "code",
   "execution_count": null,
   "id": "bbc8790b",
   "metadata": {},
   "outputs": [],
   "source": []
  },
  {
   "cell_type": "code",
   "execution_count": null,
   "id": "cf68c747",
   "metadata": {},
   "outputs": [],
   "source": []
  },
  {
   "cell_type": "code",
   "execution_count": null,
   "id": "e3996ba7",
   "metadata": {},
   "outputs": [],
   "source": []
  },
  {
   "cell_type": "code",
   "execution_count": null,
   "id": "0bf9ad08",
   "metadata": {},
   "outputs": [],
   "source": []
  },
  {
   "cell_type": "code",
   "execution_count": null,
   "id": "43d1411f",
   "metadata": {},
   "outputs": [],
   "source": []
  },
  {
   "cell_type": "markdown",
   "id": "1962406e",
   "metadata": {},
   "source": [
    "### Cleanup\n",
    "\n",
    "**Optional** simple commands to return the used funds."
   ]
  },
  {
   "cell_type": "code",
   "execution_count": 79,
   "id": "fb133abd",
   "metadata": {},
   "outputs": [
    {
     "name": "stdout",
     "output_type": "stream",
     "text": [
      "TxId \"771b411df568b67c103805fc1225858bddd54d647e8fc56153d20ef771b70a94\"\n",
      "\n",
      "\n",
      "\u001b[1mexecuted shell command:\u001b[0m\n",
      "marlowe-cli transaction simple --testnet-magic 2 --socket-path /tmp/node.socket --required-signer wallet1.skey --change-address addr_test1vpcv7hdt4dczcmyeuk8w6yp5l8zhl5v7vnn42vel3jsd9aszd3e0n --tx-in 9968fee1e3cc27fad33a698bb79cca348354065cb0c0deddd0831b7cfed7b761#0 --tx-in 9968fee1e3cc27fad33a698bb79cca348354065cb0c0deddd0831b7cfed7b761#1 --tx-out addr_test1vrf3977xlrq29papwzxrmlu6ae0yjnvraatf9zx76m9f02s9g9rvw+393000000 --out-file /dev/null --submit 600\n"
     ]
    }
   ],
   "source": [
    "cmd = [marloweCLI, \"transaction\", \"simple\",\n",
    "       \"--testnet-magic\", MAGIC,\n",
    "       \"--socket-path\", SOCKET,\n",
    "       \"--required-signer\", PARTY1_SKEYFILE,\n",
    "       \"--change-address\", PARTY1_ADDRESS,\n",
    "       \"--tx-in\", df.iloc[0]['TxHash'] + '#' + str(df.loc[0]['TxIx']),\n",
    "       \"--tx-in\", df.iloc[1]['TxHash'] + '#' + str(df.loc[1]['TxIx']),\n",
    "       \"--tx-out\", FUNDS_ADDRESS+\"+\"+str(393*ADA),\n",
    "       \"--out-file\", \"/dev/null\",\n",
    "       \"--submit\", str(600)]\n",
    "result = subprocess.run(cmd, capture_output=True, text=True)\n",
    "print(result.stdout)\n",
    "print(result.stderr)\n",
    "print(\"\\033[1mexecuted shell command:\\033[0m\\n\" + cmd[0].split('/')[-1] + ' ' + ' '.join(cmd[1:]))"
   ]
  },
  {
   "cell_type": "code",
   "execution_count": 80,
   "id": "1e134433",
   "metadata": {},
   "outputs": [
    {
     "name": "stdout",
     "output_type": "stream",
     "text": [
      "TxId \"aafef256037d8ddc2ecc7c5ad943dba773d1cfaf358773010f42a4703a7eb190\"\n",
      "\n",
      "\n",
      "\u001b[1mexecuted shell command:\u001b[0m\n",
      "marlowe-cli transaction simple --testnet-magic 2 --socket-path /tmp/node.socket --required-signer wallet2.skey --change-address addr_test1vr0269ym702hzn9h66m6q3ptd0a72te999c63huxh5g2qqqp390er --tx-in cd01258fc6b2aa0e481d8e0d6d65795cbbc28a3ad0f05566fd274c925d2a4909#0 --tx-in cd01258fc6b2aa0e481d8e0d6d65795cbbc28a3ad0f05566fd274c925d2a4909#1 --tx-out addr_test1vrf3977xlrq29papwzxrmlu6ae0yjnvraatf9zx76m9f02s9g9rvw+596000000 --out-file /dev/null --submit 600\n"
     ]
    }
   ],
   "source": [
    "cmd = [marloweCLI, \"transaction\", \"simple\",\n",
    "       \"--testnet-magic\", MAGIC,\n",
    "       \"--socket-path\", SOCKET,\n",
    "       \"--required-signer\", PARTY2_SKEYFILE,\n",
    "       \"--change-address\", PARTY2_ADDRESS,\n",
    "       \"--tx-in\", df.iloc[3]['TxHash'] + '#' + str(df.loc[3]['TxIx']),\n",
    "       \"--tx-in\", df.iloc[4]['TxHash'] + '#' + str(df.loc[4]['TxIx']),\n",
    "       \"--tx-out\", FUNDS_ADDRESS+\"+\"+str(596*ADA),\n",
    "       \"--out-file\", \"/dev/null\",\n",
    "       \"--submit\", str(600)]\n",
    "result = subprocess.run(cmd, capture_output=True, text=True)\n",
    "print(result.stdout)\n",
    "print(result.stderr)\n",
    "print(\"\\033[1mexecuted shell command:\\033[0m\\n\" + cmd[0].split('/')[-1] + ' ' + ' '.join(cmd[1:]))"
   ]
  },
  {
   "cell_type": "code",
   "execution_count": 81,
   "id": "5fb45a33",
   "metadata": {},
   "outputs": [
    {
     "data": {
      "text/html": [
       "<div>\n",
       "<style scoped>\n",
       "    .dataframe tbody tr th:only-of-type {\n",
       "        vertical-align: middle;\n",
       "    }\n",
       "\n",
       "    .dataframe tbody tr th {\n",
       "        vertical-align: top;\n",
       "    }\n",
       "\n",
       "    .dataframe thead th {\n",
       "        text-align: right;\n",
       "    }\n",
       "</style>\n",
       "<table border=\"1\" class=\"dataframe\">\n",
       "  <thead>\n",
       "    <tr style=\"text-align: right;\">\n",
       "      <th></th>\n",
       "      <th>address</th>\n",
       "      <th>TxHash</th>\n",
       "      <th>TxIx</th>\n",
       "      <th>lovelace</th>\n",
       "      <th>TokenPolicyId</th>\n",
       "      <th>TokenNameHex</th>\n",
       "      <th>TokenNameAscii</th>\n",
       "      <th>TokenAmount</th>\n",
       "      <th>datumhash</th>\n",
       "    </tr>\n",
       "  </thead>\n",
       "  <tbody>\n",
       "    <tr>\n",
       "      <th>0</th>\n",
       "      <td>addr_test1vpcv7hdt4dczcmyeuk8w6yp5l8zhl5v7vnn42vel3jsd9aszd3e0n</td>\n",
       "      <td>771b411df568b67c103805fc1225858bddd54d647e8fc56153d20ef771b70a94</td>\n",
       "      <td>0</td>\n",
       "      <td>1501095</td>\n",
       "      <td>NaN</td>\n",
       "      <td>NaN</td>\n",
       "      <td>None</td>\n",
       "      <td>0</td>\n",
       "      <td>NaN</td>\n",
       "    </tr>\n",
       "    <tr>\n",
       "      <th>1</th>\n",
       "      <td>addr_test1vpcv7hdt4dczcmyeuk8w6yp5l8zhl5v7vnn42vel3jsd9aszd3e0n</td>\n",
       "      <td>9968fee1e3cc27fad33a698bb79cca348354065cb0c0deddd0831b7cfed7b761</td>\n",
       "      <td>2</td>\n",
       "      <td>3000000</td>\n",
       "      <td>45b75af9bb737cb93502a2a69fa1e561033909a3e38590d54e8f5925</td>\n",
       "      <td>506172747931</td>\n",
       "      <td>Party1</td>\n",
       "      <td>1</td>\n",
       "      <td>NaN</td>\n",
       "    </tr>\n",
       "    <tr>\n",
       "      <th>2</th>\n",
       "      <td>addr_test1vr0269ym702hzn9h66m6q3ptd0a72te999c63huxh5g2qqqp390er</td>\n",
       "      <td>aafef256037d8ddc2ecc7c5ad943dba773d1cfaf358773010f42a4703a7eb190</td>\n",
       "      <td>0</td>\n",
       "      <td>955507</td>\n",
       "      <td>NaN</td>\n",
       "      <td>NaN</td>\n",
       "      <td>None</td>\n",
       "      <td>0</td>\n",
       "      <td>NaN</td>\n",
       "    </tr>\n",
       "    <tr>\n",
       "      <th>3</th>\n",
       "      <td>addr_test1vr0269ym702hzn9h66m6q3ptd0a72te999c63huxh5g2qqqp390er</td>\n",
       "      <td>cd01258fc6b2aa0e481d8e0d6d65795cbbc28a3ad0f05566fd274c925d2a4909</td>\n",
       "      <td>2</td>\n",
       "      <td>3000000</td>\n",
       "      <td>45b75af9bb737cb93502a2a69fa1e561033909a3e38590d54e8f5925</td>\n",
       "      <td>506172747932</td>\n",
       "      <td>Party2</td>\n",
       "      <td>1</td>\n",
       "      <td>NaN</td>\n",
       "    </tr>\n",
       "  </tbody>\n",
       "</table>\n",
       "</div>"
      ],
      "text/plain": [
       "                                                           address  \\\n",
       "0  addr_test1vpcv7hdt4dczcmyeuk8w6yp5l8zhl5v7vnn42vel3jsd9aszd3e0n   \n",
       "1  addr_test1vpcv7hdt4dczcmyeuk8w6yp5l8zhl5v7vnn42vel3jsd9aszd3e0n   \n",
       "2  addr_test1vr0269ym702hzn9h66m6q3ptd0a72te999c63huxh5g2qqqp390er   \n",
       "3  addr_test1vr0269ym702hzn9h66m6q3ptd0a72te999c63huxh5g2qqqp390er   \n",
       "\n",
       "                                                             TxHash  TxIx  \\\n",
       "0  771b411df568b67c103805fc1225858bddd54d647e8fc56153d20ef771b70a94     0   \n",
       "1  9968fee1e3cc27fad33a698bb79cca348354065cb0c0deddd0831b7cfed7b761     2   \n",
       "2  aafef256037d8ddc2ecc7c5ad943dba773d1cfaf358773010f42a4703a7eb190     0   \n",
       "3  cd01258fc6b2aa0e481d8e0d6d65795cbbc28a3ad0f05566fd274c925d2a4909     2   \n",
       "\n",
       "   lovelace                                             TokenPolicyId  \\\n",
       "0   1501095                                                       NaN   \n",
       "1   3000000  45b75af9bb737cb93502a2a69fa1e561033909a3e38590d54e8f5925   \n",
       "2    955507                                                       NaN   \n",
       "3   3000000  45b75af9bb737cb93502a2a69fa1e561033909a3e38590d54e8f5925   \n",
       "\n",
       "   TokenNameHex TokenNameAscii  TokenAmount  datumhash  \n",
       "0           NaN           None            0        NaN  \n",
       "1  506172747931         Party1            1        NaN  \n",
       "2           NaN           None            0        NaN  \n",
       "3  506172747932         Party2            1        NaN  "
      ]
     },
     "execution_count": 81,
     "metadata": {},
     "output_type": "execute_result"
    }
   ],
   "source": [
    "pd.concat([query_df(PARTY1_ADDRESS), query_df(PARTY2_ADDRESS)]).reset_index(drop=True)"
   ]
  },
  {
   "cell_type": "code",
   "execution_count": null,
   "id": "625d49fc",
   "metadata": {},
   "outputs": [],
   "source": []
  },
  {
   "cell_type": "code",
   "execution_count": null,
   "id": "52ec08d2",
   "metadata": {},
   "outputs": [],
   "source": []
  },
  {
   "cell_type": "code",
   "execution_count": null,
   "id": "43735ee2",
   "metadata": {},
   "outputs": [],
   "source": []
  },
  {
   "cell_type": "code",
   "execution_count": null,
   "id": "80bdef64",
   "metadata": {},
   "outputs": [],
   "source": []
  },
  {
   "cell_type": "code",
   "execution_count": null,
   "id": "fc7d5033",
   "metadata": {},
   "outputs": [],
   "source": []
  }
 ],
 "metadata": {
  "kernelspec": {
   "display_name": "py39_cardano",
   "language": "python",
   "name": "conda-env-py39_cardano-py"
  },
  "language_info": {
   "codemirror_mode": {
    "name": "ipython",
    "version": 3
   },
   "file_extension": ".py",
   "mimetype": "text/x-python",
   "name": "python",
   "nbconvert_exporter": "python",
   "pygments_lexer": "ipython3",
   "version": "3.9.12"
  }
 },
 "nbformat": 4,
 "nbformat_minor": 5
}
