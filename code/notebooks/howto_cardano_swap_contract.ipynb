{
 "cells": [
  {
   "cell_type": "markdown",
   "id": "571d5216",
   "metadata": {},
   "source": [
    "Author: Kevin ALBERT  \n",
    "Created: June 2022  \n",
    "Friends: [Marco Martins](https://github.com/marco-martins)  "
   ]
  },
  {
   "cell_type": "code",
   "execution_count": 1,
   "id": "329749d6",
   "metadata": {},
   "outputs": [
    {
     "name": "stdout",
     "output_type": "stream",
     "text": [
      "Last testrun on: 21 Jul 2022\n"
     ]
    }
   ],
   "source": [
    "import datetime, time\n",
    "print ('Last testrun on: ' + datetime.datetime.now().strftime(\"%d %b %Y\"))"
   ]
  },
  {
   "cell_type": "markdown",
   "id": "352e5d9a-ed46-41de-b487-2cd67a8cb77f",
   "metadata": {
    "tags": []
   },
   "source": [
    "# Marlowe contract \n",
    "_**how to deploy a custom contract**_\n",
    "\n",
    "## Contents\n",
    "1. [Objective](#Objective)\n",
    "1. [Installation](#Installation)\n",
    "1. [Check](#Check)\n",
    "1. [Wallets](#Wallets)\n",
    "1. [Contract](#Contract)\n",
    "1. [Funding](#Funding)\n",
    "1. [Tokens](#Tokens)\n",
    "1. [Deployment](#Deployment)\n"
   ]
  },
  {
   "cell_type": "markdown",
   "id": "163889c0-3bff-4e8c-b4c1-3bb585177a2e",
   "metadata": {
    "tags": []
   },
   "source": [
    "## Objective\n",
    "\n",
    "Reference guide that explain and demonstrate what I learned from the Marlowe Pioneer Program  \n",
    "on how to deploy a custom smart contract on the blockchain using marlowe-cli.  \n",
    "Python is used together with Linux/GNU shell CLI commands.  \n",
    "  * cardano-cli  \n",
    "  * wallet-cli  \n",
    "  * marlowe-cli  \n",
    "  \n"
   ]
  },
  {
   "cell_type": "markdown",
   "id": "b9891cff-2471-4e1d-a260-43a3779ed85d",
   "metadata": {},
   "source": [
    "## Installation"
   ]
  },
  {
   "cell_type": "markdown",
   "id": "57e4c9ad-76bc-468c-94e7-792649d20ae0",
   "metadata": {},
   "source": [
    "### versions"
   ]
  },
  {
   "cell_type": "code",
   "execution_count": 2,
   "id": "d408774b-cd09-4546-91e5-65a60e7c5f24",
   "metadata": {},
   "outputs": [
    {
     "name": "stdout",
     "output_type": "stream",
     "text": [
      "conda       : 4.12.0\n",
      "pip         : 21.2.4\n",
      "python      : 3.9.12\n",
      "cardano     : 0.8.2\n"
     ]
    }
   ],
   "source": [
    "# installed modules in python\n",
    "conda_version = ! conda -V\n",
    "print(f\"conda       : {conda_version[0].split()[1]}\")\n",
    "pip_version = ! pip -V\n",
    "print(f\"pip         : {pip_version[0].split()[1]}\")\n",
    "python_version = ! python -V\n",
    "print(f\"python      : {python_version[0].split()[1]}\")\n",
    "cardano_version = ! pip list |grep -i cardano\n",
    "print(f\"cardano     : {cardano_version[0].split()[1]}\")"
   ]
  },
  {
   "cell_type": "markdown",
   "id": "0cd6e051-365c-487b-9f74-c81572198be2",
   "metadata": {},
   "source": [
    "### modules"
   ]
  },
  {
   "cell_type": "code",
   "execution_count": 3,
   "id": "771b0f17",
   "metadata": {},
   "outputs": [],
   "source": [
    "# used for loading a webpage\n",
    "from IPython.display import Javascript\n",
    "\n",
    "import time         # help calculate POSIX time values\n",
    "import re           # regex tool\n",
    "import pandas as pd # tabular data tool\n",
    "import numpy as np\n",
    "import json         # json data structure tool\n",
    "\n",
    "# environment packages\n",
    "import platform\n",
    "import psutil\n",
    "import os\n",
    "\n",
    "# https://stackabuse.com/executing-shell-commands-with-python/\n",
    "import subprocess\n",
    "\n",
    "# pd.describe_option('display')            # show all pandas options, parameters can slow down notebook\n",
    "pd.set_option('display.max_colwidth', 80)  # default 50, the maximum width in characters of a column\n",
    "pd.set_option('display.max_columns', 20)   # default 20, the maximum amount of columns in view \n",
    "pd.set_option('display.max_rows', 10)      # default 60, the maximum amount of rows in view"
   ]
  },
  {
   "cell_type": "markdown",
   "id": "6d3e6ad5-8c40-43f3-a12b-70dfd6837690",
   "metadata": {},
   "source": [
    "### server\n",
    "You start with **Ubuntu** on a virtual machine in the cloud."
   ]
  },
  {
   "cell_type": "code",
   "execution_count": 4,
   "id": "cd23de6d-26cc-4a6f-ab06-f8ffd572ce77",
   "metadata": {},
   "outputs": [
    {
     "name": "stdout",
     "output_type": "stream",
     "text": [
      "Cores : 8 (3GHz)\n",
      "Memory: 62.81 GB (12.9%)\n",
      "Swap  : 8 GB\n",
      "Disk  : 242 GB (48.1% ext4)\n",
      "System: 20.04.1-Ubuntu\n"
     ]
    }
   ],
   "source": [
    "# Virtual Machine environment \n",
    "print(f\"Cores : {psutil.cpu_count(logical=True)} ({psutil.cpu_freq().current/1000:.0f}GHz)\")\n",
    "print(f\"Memory: {psutil.virtual_memory().total/(1024**3):.2f} GB ({psutil.virtual_memory().percent}%)\")\n",
    "print(f\"Swap  : {os.path.getsize('/swapfile')/(1024**3):.0f} GB\")\n",
    "disk_size = psutil.disk_usage(psutil.disk_partitions()[0].mountpoint).total\n",
    "disk_used = psutil.disk_usage(psutil.disk_partitions()[0].mountpoint).percent\n",
    "disk_fs   = psutil.disk_partitions()[0].fstype \n",
    "print(f\"Disk  : {disk_size/(1024**3):.0f} GB ({disk_used}% {disk_fs})\")\n",
    "print(f\"System: {platform.uname().version.split('~')[1].split()[0]}\")"
   ]
  },
  {
   "cell_type": "markdown",
   "id": "782d0df9-4f84-4ff7-b1e1-325866821ec0",
   "metadata": {},
   "source": [
    "### install\n",
    "Connect to your VM using Putty.  \n",
    "**Update** your installation.  \n",
    "Install **curl** and **rsync**.  \n",
    "```sh\n",
    "sudo sh -c 'apt update && apt install curl rsync'\n",
    "```"
   ]
  },
  {
   "cell_type": "markdown",
   "id": "02b75ffd-600a-4c76-8695-8c41c232a92d",
   "metadata": {},
   "source": [
    "**Install nixos** from the official installation script.  \n",
    "Nixos is a form of virtual environment like docker with cryptographic hashed package manager Nix to eliminate dependency hell.\n",
    "```sh\n",
    "sh <(curl -L https://nixos.org/nix/install) --daemon\n",
    "```"
   ]
  },
  {
   "cell_type": "markdown",
   "id": "bccf0860-151b-4bb1-a531-ba8f6fc20b1e",
   "metadata": {},
   "source": [
    "Add content to **nix.conf** and **restart** the nix-daemon.  \n",
    "These lines allow for a fast build of nixos, downloading trusted binaries instead of compiling from scratch.  \n",
    "```sh\n",
    "sudo sh -c \"echo 'substituters = https://hydra.iohk.io https://iohk.cachix.org https://cache.nixos.org/' >> /etc/nix/nix.conf\"\n",
    "\n",
    "sudo sh -c \"echo 'trusted-public-keys = hydra.iohk.io:f/Ea+s+dFdN+3Y/G+FDgSq+a5NEWhJGzdjvKNGv0/EQ= iohk.cachix.org-1:DpRUyj7h7V830dp/i6Nti+NEO2/nhblbov/8MW7Rqoo= cache.nixos.org-1:6NCHdD59X431o0gWypbMrAURkbJ16ZPMQFGspcDShjY=' >> /etc/nix/nix.conf\"\n",
    "\n",
    "sudo cat /etc/nix/nix.conf\n",
    "\n",
    "sudo sh -c 'echo \"trusted-users = $0\" >> /etc/nix/nix.conf' `whoami`\n",
    "```"
   ]
  },
  {
   "cell_type": "code",
   "execution_count": 5,
   "id": "558daefb-35df-4eb3-bdad-cf7296bd8ceb",
   "metadata": {},
   "outputs": [
    {
     "name": "stdout",
     "output_type": "stream",
     "text": [
      "\n",
      "build-users-group = nixbld\n",
      "substituters = https://hydra.iohk.io https://iohk.cachix.org https://cache.nixos.org/\n",
      "trusted-public-keys = hydra.iohk.io:f/Ea+s+dFdN+3Y/G+FDgSq+a5NEWhJGzdjvKNGv0/EQ= iohk.cachix.org-1:DpRUyj7h7V830dp/i6Nti+NEO2/nhblbov/8MW7Rqoo= cache.nixos.org-1:6NCHdD59X431o0gWypbMrAURkbJ16ZPMQFGspcDShjY=\n",
      "trusted-users = ubuntu\n"
     ]
    }
   ],
   "source": [
    "# here is the content of the config file\n",
    "!cat /etc/nix/nix.conf"
   ]
  },
  {
   "cell_type": "markdown",
   "id": "30ebcb5f-9d57-43e2-a32d-d2167c96a182",
   "metadata": {},
   "source": [
    "Restart Nix  \n",
    "```sh\n",
    "sudo systemctl restart nix-daemon.service\n",
    "```"
   ]
  },
  {
   "cell_type": "markdown",
   "id": "0a34f96a-cc0a-4557-8c62-0bc51bf99a4f",
   "metadata": {},
   "source": [
    "Download **git repo**sitory and set to marlowe-pioneers branch (special testnet).  \n",
    "```sh\n",
    "git clone https://github.com/input-output-hk/marlowe-cardano.git\n",
    "cd marlowe-cardano/\n",
    "git checkout marlowe-pioneers\n",
    "```"
   ]
  },
  {
   "cell_type": "markdown",
   "id": "d2dd812f-1bd8-4960-94ea-b452a1b479a7",
   "metadata": {},
   "source": [
    "start up **nix-shell**  \n",
    "first time it will install and update itself  \n",
    "```sh\n",
    "nix-shell\n",
    "```"
   ]
  },
  {
   "cell_type": "markdown",
   "id": "464d183b-9de0-48bd-be95-2740f02818f3",
   "metadata": {},
   "source": [
    "**start** the virtual environment with CLI tools and blockchain node.  \n",
    "Wait, let it synchronise... once started it will open a **tmux** session.  \n",
    "tmux, where multiple terminal session windows are available by default.  \n",
    "\n",
    "```sh\n",
    "start-marlowe-run\n",
    "```  \n",
    "\n",
    "Here are some commands to use tmux:  \n",
    "\n",
    "    PANE commands\n",
    "    ctrl+b ->    to move to the right pane, up, down and left arrow also possible\n",
    "    ctrl+b z     enlarge or zoom to one pane\n",
    "    ctrl+b \"     for split horizontal\n",
    "    ctrl+b %     for split vertikal\n",
    "    ctrl+b d     to kill a screen pane\n",
    "    \n",
    "    WINDOW commands\n",
    "    ctrl+b c     create new window\n",
    "    ctrl+b p     previous window\n",
    "    ctrl+b n     next window\n",
    "    ctrl+b &     kill a window\n",
    "    \n",
    "    SESSION commands\n",
    "    tmux list-sessions    view a list of all available sessions\n",
    "    tmux ls               (short version)\n",
    "    tmux attach           previous last used tmux session\n",
    "    tmux a                (short version)\n",
    "    tmux attach -t 1      open tmux session id 1"
   ]
  },
  {
   "cell_type": "markdown",
   "id": "b7f34c74",
   "metadata": {},
   "source": [
    "### custom helper functions"
   ]
  },
  {
   "cell_type": "code",
   "execution_count": 514,
   "id": "271dc744",
   "metadata": {},
   "outputs": [],
   "source": [
    "def query_df(address, magic='1567', cardanoCLI=\"/nix/store/vaqzj4d6c1fdmqmm78y3g4n10pyw5mmc-cardano-cli-exe-cardano-cli-1.34.1/bin/cardano-cli\"):\n",
    "    '''\n",
    "    query_df(address, magic, cardanoCLI)\n",
    "    \n",
    "    address : (str) [required] is the wallet address you want to check for last transaction state\n",
    "    magic : (str) [optional] is the key used to identify the mainnet, testnet, other networks\n",
    "    cardanoCLI : (str) [optional] the binary file of the cardano-cli on your system\n",
    "    '''\n",
    "\n",
    "    def hex_to_ascii(s):\n",
    "        # small function to decode hex strings to ascii (translation)\n",
    "        try:\n",
    "            return bytearray.fromhex(s).decode()\n",
    "        except ValueError:\n",
    "            return None\n",
    "\n",
    "    # shell command, execute and store result in a temporary json file\n",
    "    cmd = [cardanoCLI, \"query\", \"utxo\", \"--testnet-magic\", magic, \"--address\", address, \"--out-file\", 'address.json']\n",
    "    result = subprocess.run(cmd, capture_output=True, text=True)\n",
    "    # load this json file into a dataframe\n",
    "    df = pd.read_json('address.json', orient='index').reset_index()\n",
    "\n",
    "    # test if empty query, then return empty line with address\n",
    "    if len(df.columns) < 2:\n",
    "        # close off\n",
    "        return pd.DataFrame({'address':[address], 'TxHash':np.nan, 'TxIx':0, 'lovelace':0, 'TokenPolicyId':np.nan, 'TokenNameHex':np.nan, 'TokenNameAscii':np.nan, 'TokenAmount':0, 'datumhash':np.nan})\n",
    "\n",
    "    # replace feature names with interpretable naming (others are left as-is) \n",
    "    df = df.rename(columns={'index': 'TxHash',\n",
    "                            'datumhash': 'datumhash',\n",
    "                            'address': 'address',\n",
    "                            'value': 'value'})\n",
    "    # split the # value into a seperate column and remove the original\n",
    "    df = df.join(df['TxHash'].str.split('#', regex=False, expand=True), how='left')\n",
    "    df = df.drop(['TxHash'], axis=1)\n",
    "    # replace feature names with interpretable naming (others are left as-is) \n",
    "    df = df.rename(columns={0:'TxHash', 1: 'TxIx'})\n",
    "    # normalize the value column ex:{lovelace:3000000} into 2 new columns and remove original column\n",
    "    df = pd.concat([df.drop(['value'], axis=1), df['value'].apply(pd.Series)], axis=1)\n",
    "    # change data type from float to integer\n",
    "    df['lovelace'] = df['lovelace'].fillna(0)\n",
    "    df['TxIx'] = df['TxIx'].fillna(0)\n",
    "    df['lovelace'] = df['lovelace'].astype('int')\n",
    "    df['TxIx'] = df['TxIx'].astype('int')\n",
    "    # drop all columns with all values NA\n",
    "    df = df.dropna(axis=1, how='all')\n",
    "    \n",
    "    # if the last column name word size is 56 characters wide:\n",
    "    # try if this is needed, if no data is present then skip\n",
    "    try:\n",
    "        # unselect all known columns, keep last ones column name\n",
    "        cn = df[df.columns[~df.columns.isin(['address', 'TxHash', 'TxIx', 'lovelace'])]].iloc[:, -1].name\n",
    "        # check if this name is 64 bytes long ? \n",
    "        if len(cn) == 56:\n",
    "            # make a copy into a new column name\n",
    "            df['TokenPolicyId'] = df[cn]\n",
    "            # write the values 'column name' only on True state locations\n",
    "            df['TokenPolicyId'] = df['TokenPolicyId'].notna().replace({True: cn, False: np.nan})\n",
    "            \n",
    "            # normalize the value column ex:{}\n",
    "            df = pd.concat([df.drop([cn], axis=1), df[cn].apply(pd.Series)], axis=1)\n",
    "            # drop all columns with all values NA\n",
    "            df = df.dropna(axis=1, how='all')\n",
    "            \n",
    "            # build a secondary dataframe to be concatenated at the end with the hextokenid and tokenamount\n",
    "            # exclude all known columns\n",
    "            two = df[df.columns[~df.columns.isin(['address', 'TxHash', 'TxIx', 'lovelace', 'TokenPolicyId'])]]\n",
    "            # stack the column name and values into one dataframe and reset the index\n",
    "            tmp = two.stack().apply(pd.Series).reset_index()\n",
    "            # set the index to this column values, later for merging with df\n",
    "            tmp = tmp.set_index('level_0')\n",
    "            # rename these 2 columns\n",
    "            tmp.columns = ['TokenNameHex', 'TokenAmount']\n",
    "            # merge\n",
    "            df = pd.concat([df, tmp], axis=1)\n",
    "            # set tokenamount to integer dtype\n",
    "            df['TokenAmount'] = df['TokenAmount'].fillna(0)\n",
    "            df['TokenAmount'] = df['TokenAmount'].astype('int')\n",
    "            # remove the bogus columns, clean up\n",
    "            df = df.drop(tmp['TokenNameHex'], axis=1)\n",
    "            # add a column with the ascii transation\n",
    "            df['TokenNameAscii'] = df['TokenNameHex'].astype('str').apply(hex_to_ascii)\n",
    "            # add empty column data so we can combine all dataframes into one later\n",
    "            df['datumhash'] = np.nan\n",
    "            # structure in chronologic order the column names\n",
    "            df = df[['address', 'TxHash', 'TxIx', 'lovelace', 'TokenPolicyId', 'TokenNameHex', 'TokenNameAscii', 'TokenAmount', 'datumhash']]\n",
    "            return df\n",
    "            \n",
    "    # in the case of no data present add these extra empty columns\n",
    "    # in fact this will never occur, below code... \n",
    "    except:\n",
    "        df['datumhash'] = np.nan\n",
    "        df['TokenPolicyId'] = np.nan\n",
    "        df['TokenNameHex'] = np.nan\n",
    "        df['TokenAmount'] = 0\n",
    "        return df\n",
    "\n",
    "    # add empty column data so we can combine all dataframes into one later\n",
    "    df['TokenPolicyId'] = np.nan\n",
    "    df['TokenNameHex'] = np.nan\n",
    "    df['TokenNameAscii'] = np.nan\n",
    "    df['TokenAmount'] = 0\n",
    "    # structure in chronologic order the column names\n",
    "    df = df[['address', 'TxHash', 'TxIx', 'lovelace', 'TokenPolicyId', 'TokenNameHex', 'TokenNameAscii', 'TokenAmount', 'datumhash']]\n",
    "    return df"
   ]
  },
  {
   "cell_type": "markdown",
   "id": "13c9c9c2-6b3b-4cfb-b804-6f0e29ec3441",
   "metadata": {},
   "source": [
    "## Check"
   ]
  },
  {
   "cell_type": "markdown",
   "id": "8ee3350e",
   "metadata": {},
   "source": [
    "### find binaries\n",
    "Here we search for the binaries installed in nix-shell.  \n",
    "\n",
    "  * **cardano-cli** used for generating keys, constructing transactions, creating certificates on the cardano node running in the background\n",
    "  * **marlowe-cli** used for serialising Marlowe contracts to validators, datums, redeemers and also computes hashes and addresses with cardano-cli\n",
    "  * **cardano-wallet** used for sending and receiving payments, list, create, update, or delete wallets  \n",
    "  \n",
    "  "
   ]
  },
  {
   "cell_type": "code",
   "execution_count": 7,
   "id": "d74458d0",
   "metadata": {},
   "outputs": [
    {
     "name": "stdout",
     "output_type": "stream",
     "text": [
      "/nix/store/vaqzj4d6c1fdmqmm78y3g4n10pyw5mmc-cardano-cli-exe-cardano-cli-1.34.1/bin/cardano-cli\n",
      "/nix/store/9ijr3m1g4rr487q8gz35h3d27bfrxkyw-marlowe-cli-exe-marlowe-cli-0.0.4.4/bin/marlowe-cli\n",
      "/nix/store/9n5z901h18k7ijjj8axvyv4w2z0zgqcv-cardano-wallet-exe-cardano-wallet-2022.1.18/bin/cardano-wallet\n"
     ]
    }
   ],
   "source": [
    "!sudo find /nix/store -wholename '*/bin/cardano-cli'\n",
    "!sudo find /nix/store -wholename '*/bin/marlowe-cli'\n",
    "!sudo find /nix/store -wholename '*/bin/cardano-wallet'"
   ]
  },
  {
   "cell_type": "markdown",
   "id": "0d6f4b29-cc68-443c-831b-086fb8a80710",
   "metadata": {},
   "source": [
    "### save binary path"
   ]
  },
  {
   "cell_type": "code",
   "execution_count": 8,
   "id": "1e14c84b-efa2-442d-add2-3e4d73b5d1b9",
   "metadata": {},
   "outputs": [],
   "source": [
    "cardanoCLI = \"/nix/store/vaqzj4d6c1fdmqmm78y3g4n10pyw5mmc-cardano-cli-exe-cardano-cli-1.34.1/bin/cardano-cli\"\n",
    "marloweCLI = \"/nix/store/9ijr3m1g4rr487q8gz35h3d27bfrxkyw-marlowe-cli-exe-marlowe-cli-0.0.4.4/bin/marlowe-cli\"\n",
    "cardanoWALLET = \"/nix/store/9n5z901h18k7ijjj8axvyv4w2z0zgqcv-cardano-wallet-exe-cardano-wallet-2022.1.18/bin/cardano-wallet\""
   ]
  },
  {
   "cell_type": "markdown",
   "id": "c50e34b9",
   "metadata": {},
   "source": [
    "### check versions\n",
    "\n",
    "latest version available:\n",
    "  * [cardano-cli](https://github.com/input-output-hk/cardano-node/releases/latest)\n",
    "  * [marlowe-cli](https://github.com/input-output-hk/marlowe-cardano/tree/main/marlowe-cli)\n",
    "  * [cardano-wallet](https://github.com/input-output-hk/cardano-wallet/releases/latest)\n",
    "  \n",
    "below we show the current version used when nix-shell installed"
   ]
  },
  {
   "cell_type": "code",
   "execution_count": 9,
   "id": "6b701459",
   "metadata": {},
   "outputs": [
    {
     "name": "stdout",
     "output_type": "stream",
     "text": [
      "cardano-cli 1.34.1 - linux-x86_64 - ghc-8.10\n",
      "git rev 0000000000000000000000000000000000000000\n"
     ]
    }
   ],
   "source": [
    "!/nix/store/vaqzj4d6c1fdmqmm78y3g4n10pyw5mmc-cardano-cli-exe-cardano-cli-1.34.1/bin/cardano-cli --version"
   ]
  },
  {
   "cell_type": "code",
   "execution_count": 10,
   "id": "be55fd59",
   "metadata": {},
   "outputs": [
    {
     "name": "stdout",
     "output_type": "stream",
     "text": [
      "marlowe-cli 0.0.4.4\n"
     ]
    }
   ],
   "source": [
    "!/nix/store/9ijr3m1g4rr487q8gz35h3d27bfrxkyw-marlowe-cli-exe-marlowe-cli-0.0.4.4/bin/marlowe-cli --version"
   ]
  },
  {
   "cell_type": "code",
   "execution_count": 11,
   "id": "a3000ed5",
   "metadata": {},
   "outputs": [
    {
     "name": "stdout",
     "output_type": "stream",
     "text": [
      "v2022-01-18 (git revision: 0000000000000000000000000000000000000000)\n"
     ]
    }
   ],
   "source": [
    "!/nix/store/9n5z901h18k7ijjj8axvyv4w2z0zgqcv-cardano-wallet-exe-cardano-wallet-2022.1.18/bin/cardano-wallet version"
   ]
  },
  {
   "cell_type": "markdown",
   "id": "080082c2-a037-4539-8a7e-a7db10a9fa2b",
   "metadata": {},
   "source": [
    "### node.socket\n",
    "The cardano-node uses IPC (Inter-Process-Communication) for communicating with other Cardano components.  \n",
    "Components like cardano-cli, cardano-wallet, marlowe-cli and cardano-db-sync.  \n",
    "So, basically this file helps connect your CLI instance to the active cardano-node currently syncing the blockchain.  "
   ]
  },
  {
   "cell_type": "code",
   "execution_count": 12,
   "id": "adc98310-a51d-48a6-9bc1-34611f6d9d84",
   "metadata": {},
   "outputs": [
    {
     "name": "stdout",
     "output_type": "stream",
     "text": [
      "/tmp/node.socket\n"
     ]
    }
   ],
   "source": [
    "# detect the location of the cardano node \"socket\"\n",
    "!sudo find /tmp -name '*node.socket'"
   ]
  },
  {
   "cell_type": "code",
   "execution_count": 13,
   "id": "b9b0d1ad-95a7-4d20-996a-e3e273ddb1cd",
   "metadata": {},
   "outputs": [
    {
     "name": "stdout",
     "output_type": "stream",
     "text": [
      "Thu Jul 21 17:35:40 CEST 2022\n",
      "srwxr-xr-x 1 ubuntu ubuntu 0 Jun 28 17:35 /tmp/node.socket\n"
     ]
    }
   ],
   "source": [
    "!date\n",
    "!ls -al /tmp/node.socket"
   ]
  },
  {
   "cell_type": "markdown",
   "id": "f61b8c92-df7c-4ffe-8d1f-2820a25c38d0",
   "metadata": {},
   "source": [
    "In order to run cardano-cli in nix-shell bash commands:  \n",
    "\n",
    "```shell\n",
    "sudo vi /etc/environment\n",
    "```\n",
    "add the following\n",
    "```\n",
    "CARDANO_NODE_SOCKET_PATH=\"/tmp/node.socket\"\n",
    "```"
   ]
  },
  {
   "cell_type": "code",
   "execution_count": 14,
   "id": "acc39480-f362-4fb8-91d8-da43ad25ac1d",
   "metadata": {},
   "outputs": [
    {
     "name": "stdout",
     "output_type": "stream",
     "text": [
      "/tmp/node.socket\n"
     ]
    }
   ],
   "source": [
    "# this is only needed for cardano-cli, not marlowe-cli\n",
    "os.environ['CARDANO_NODE_SOCKET_PATH']=\"/tmp/node.socket\"\n",
    "# check the result, call the environment variable from within jupyter notebook\n",
    "!echo $CARDANO_NODE_SOCKET_PATH"
   ]
  },
  {
   "cell_type": "code",
   "execution_count": 15,
   "id": "41281148",
   "metadata": {},
   "outputs": [
    {
     "data": {
      "text/plain": [
       "environ{'SHELL': '/bin/bash',\n",
       "        'CONDA_EXE': '/anaconda/bin/conda',\n",
       "        '_CE_M': '',\n",
       "        'JUPYTERHUB_API_TOKEN': '913ad996b9fe49b39ea72e40fa9eb805',\n",
       "        'JUPYTERHUB_BASE_URL': '/',\n",
       "        'PWD': '/home/ubuntu/notebooks/azuremachinelearning/code/notebooks',\n",
       "        'CONDA_PREFIX': '/anaconda/envs/py39_cardano',\n",
       "        'JUPYTERHUB_SERVER_NAME': '',\n",
       "        'HOME': '/home/ubuntu',\n",
       "        'JPY_API_TOKEN': '913ad996b9fe49b39ea72e40fa9eb805',\n",
       "        'CONDA_PROMPT_MODIFIER': '(py39_cardano) ',\n",
       "        'JUPYTERHUB_SERVICE_PREFIX': '/user/ubuntu/',\n",
       "        'JUPYTERHUB_OAUTH_CALLBACK_URL': '/user/ubuntu/oauth_callback',\n",
       "        'JPY_PARENT_PID': '94408',\n",
       "        '_CE_CONDA': '',\n",
       "        'USER': 'ubuntu',\n",
       "        'CONDA_SHLVL': '1',\n",
       "        'SHLVL': '0',\n",
       "        'JULIA_DEPOT_PATH': '/opt/julia/latest/packages/',\n",
       "        'JUPYTERHUB_API_URL': 'http://127.0.0.1:8081/hub/api',\n",
       "        'JUPYTERHUB_CLIENT_ID': 'jupyterhub-user-ubuntu',\n",
       "        'JUPYTERHUB_HOST': '',\n",
       "        'CONDA_PYTHON_EXE': '/anaconda/bin/python',\n",
       "        'LC_CTYPE': 'C.UTF-8',\n",
       "        'CONDA_DEFAULT_ENV': 'py39_cardano',\n",
       "        'PATH': '/anaconda/envs/py39_cardano/bin:/anaconda/condabin:/usr/local/sbin:/usr/local/bin:/usr/sbin:/usr/bin:/sbin:/bin',\n",
       "        'JUPYTERHUB_USER': 'ubuntu',\n",
       "        'JUPYTERHUB_ACTIVITY_URL': 'http://127.0.0.1:8081/hub/api/users/ubuntu/activity',\n",
       "        'PYDEVD_USE_FRAME_EVAL': 'NO',\n",
       "        'TERM': 'xterm-color',\n",
       "        'CLICOLOR': '1',\n",
       "        'PAGER': 'cat',\n",
       "        'GIT_PAGER': 'cat',\n",
       "        'MPLBACKEND': 'module://matplotlib_inline.backend_inline',\n",
       "        'CARDANO_NODE_SOCKET_PATH': '/tmp/node.socket'}"
      ]
     },
     "execution_count": 15,
     "metadata": {},
     "output_type": "execute_result"
    }
   ],
   "source": [
    "# list all environment variables defined in the notebook\n",
    "os.environ"
   ]
  },
  {
   "cell_type": "markdown",
   "id": "fb4b48dc-5d68-4e73-ae7f-c5777155a9aa",
   "metadata": {},
   "source": [
    "## Wallets"
   ]
  },
  {
   "cell_type": "markdown",
   "id": "d12984f7",
   "metadata": {},
   "source": [
    "### sync\n",
    "\n",
    "Be patient and wait for the cardano-node in nix-shell to download and **synchronize the blockchain history.**  \n",
    "This can take many hours.  \n",
    "\n",
    "After sync, the cardano-wallet can be used either through  \n",
    "HTTP Application Programming Interface (**API**) and command-line interface (**CLI**)  \n",
    "\n",
    "  * [Python Cardano module](https://github.com/emesik/cardano-python)"
   ]
  },
  {
   "cell_type": "markdown",
   "id": "30992f77-cf41-4a6c-9c43-205484ac0bc5",
   "metadata": {},
   "source": [
    "**[python module for cardano-wallet working on mainnet 'notebook'](./howto_cardano-wallet.ipynb)**"
   ]
  },
  {
   "cell_type": "markdown",
   "id": "c5fb3909-8799-4100-8e48-e8065a8ae353",
   "metadata": {},
   "source": [
    "## wallet"
   ]
  },
  {
   "cell_type": "markdown",
   "id": "2e47aaab",
   "metadata": {},
   "source": [
    "### generate"
   ]
  },
  {
   "cell_type": "markdown",
   "id": "cd28316f",
   "metadata": {},
   "source": [
    "mnemonic seed phrase:  \n",
    "\n",
    "  * 12 words (Byron legacy wallet)\n",
    "  * 15 words (Incentivised Testnet Rewards wallet)\n",
    "  * **24 words** (Shelley wallet)\n",
    "  * 27 words (Byron legacy paper wallet)\n",
    "  \n",
    "generate new Shelley wallet  \n",
    "```sh\n",
    "cardano-wallet recovery-phrase generate --size 24\n",
    "```\n",
    "generated example output:\n",
    "```sh\n",
    "movie use luxury dumb kingdom garden mammal strong laundry weasel legal mesh movie old cancel paddle color pluck slight wheel mouse front slice pupil\n",
    "```\n",
    "\n",
    "[**how secure are seed phrases**](https://www.reddit.com/r/CryptoCurrency/comments/w0bv37/how_secure_are_seed_phrases)  \n",
    "\n",
    "Convert the seed phrase into a root private key 'wallet1.prv'.  \n",
    "```sh\n",
    "cat wallet1.seed | cardano-wallet key from-recovery-phrase Shelley | cardano-wallet key child 1852H/1815H/0H/0/0 > wallet1.prv\n",
    "```\n",
    "\n",
    "Generate the *.**skey**, *.**vkey** and *.**address** files (using *.prv)\n",
    "```sh\n",
    "cardano-cli key convert-cardano-address-key --shelley-payment-key --signing-key-file wallet1.prv --out-file wallet1.skey\n",
    "cardano-cli key verification-key --signing-key-file wallet1.skey --verification-key-file wallet1.vkey\n",
    "cardano-cli address build --testnet-magic 1567 --payment-verification-key-file wallet1.vkey > wallet1.addr\n",
    "```\n",
    "\n",
    "**Question:** I don't understand why the size of the public address is smaller than a normal cardano-wallet address ?  \n",
    "**Question:** I don't understand why we need a pkey, skey, vkey and what they mean ?  \n",
    "**Question:** I don't understand why we need these files for marlowe-cli transactions and how do we use a light wallet, web wallet instead of these skey, vkey ?  \n",
    "**Question:** what is the purpose of the vkey (=verification key) ?  \n",
    "**Question:** what is the purpose of the skey (=signing key) ?  \n",
    "**Question:** is the private key *.prv somehow the translation from the seed phrase to a different form, each word representing 4 digit number ?  \n",
    "\n",
    "READ THIS: https://developers.cardano.org/docs/integrate-cardano/creating-wallet-faucet#creating-a-wallet"
   ]
  },
  {
   "cell_type": "markdown",
   "id": "45cad7ed-4b36-4d26-b098-7d087a6c35f1",
   "metadata": {},
   "source": [
    "#### wallet 1"
   ]
  },
  {
   "cell_type": "code",
   "execution_count": 16,
   "id": "4fe6675b",
   "metadata": {},
   "outputs": [
    {
     "name": "stdout",
     "output_type": "stream",
     "text": [
      "wallet 1 seed phrase:\n",
      "\n",
      " motion mechanic crucial sentence focus merge correct festival impact wife twelve loyal catch seat leg outer bid penalty left valley trial chimney upgrade elite\n",
      "\n"
     ]
    },
    {
     "data": {
      "text/plain": [
       "160"
      ]
     },
     "execution_count": 16,
     "metadata": {},
     "output_type": "execute_result"
    }
   ],
   "source": [
    "# generate 24 word key phrase\n",
    "cmd = [cardanoWALLET, \"recovery-phrase\", \"generate\", \"--size\", str(24)]  # cardano-wallet CLI command to generate NEW mneumic seed phrase with 24 words\n",
    "result = subprocess.run(cmd, capture_output=True, text=True)             # run the command\n",
    "print(\"wallet 1 seed phrase:\\n\\n\", result.stdout)                        # demonstrate the result\n",
    "open('wallet1.seed', 'w').write(result.stdout)                           # save the result to a file 'wallet1.seed'"
   ]
  },
  {
   "cell_type": "code",
   "execution_count": 17,
   "id": "9d727558-a212-4bd9-8803-e2dd452f10b5",
   "metadata": {},
   "outputs": [],
   "source": [
    "# generate the address, skey and vkey files\n",
    "!cat wallet1.seed | /nix/store/9n5z901h18k7ijjj8axvyv4w2z0zgqcv-cardano-wallet-exe-cardano-wallet-2022.1.18/bin/cardano-wallet key from-recovery-phrase Shelley | /nix/store/9n5z901h18k7ijjj8axvyv4w2z0zgqcv-cardano-wallet-exe-cardano-wallet-2022.1.18/bin/cardano-wallet key child 1852H/1815H/0H/0/0 > wallet1.prv\n",
    "!/nix/store/vaqzj4d6c1fdmqmm78y3g4n10pyw5mmc-cardano-cli-exe-cardano-cli-1.34.1/bin/cardano-cli key convert-cardano-address-key --shelley-payment-key --signing-key-file wallet1.prv --out-file wallet1.skey\n",
    "!/nix/store/vaqzj4d6c1fdmqmm78y3g4n10pyw5mmc-cardano-cli-exe-cardano-cli-1.34.1/bin/cardano-cli key verification-key --signing-key-file wallet1.skey --verification-key-file wallet1.vkey\n",
    "!/nix/store/vaqzj4d6c1fdmqmm78y3g4n10pyw5mmc-cardano-cli-exe-cardano-cli-1.34.1/bin/cardano-cli address build --testnet-magic 1567 --payment-verification-key-file wallet1.vkey > wallet1.address"
   ]
  },
  {
   "cell_type": "code",
   "execution_count": 18,
   "id": "103db50b-a8fe-4b05-841e-b90943207ed5",
   "metadata": {},
   "outputs": [
    {
     "name": "stdout",
     "output_type": "stream",
     "text": [
      "addr_xsk1wptvk7ck44jjsng8nxd0ukwht2rq9qfwse8ugfsch8ytjqkfc3xsc7s7pegvzq084l5v5dfy0g49e238rzqzjt9lgshrqcpwgj4uf6fcqfa7gqt6cu0dg5zmhhqt4995zg3uvk8cldv2m0fvsccj5l726ursatrr"
     ]
    }
   ],
   "source": [
    "!cat wallet1.prv"
   ]
  },
  {
   "cell_type": "code",
   "execution_count": 19,
   "id": "7dc4ecc3-2f99-4094-ab1d-32c2e8c50b6d",
   "metadata": {},
   "outputs": [
    {
     "name": "stdout",
     "output_type": "stream",
     "text": [
      "{\n",
      "    \"type\": \"PaymentExtendedSigningKeyShelley_ed25519_bip32\",\n",
      "    \"description\": \"\",\n",
      "    \"cborHex\": \"58807056cb7b16ad65284d07999afe59d75a8602812e864fc42618b9c8b902c9c44d0c7a1e0e50c101e7afe8ca35247a2a5caa271880292cbf442e30602e44abc4e97060d53791200399a29871511d5f35bd8fd06cfb177c54fd4886c4edffa5c78938027be4017ac71ed4505bbdc0ba94b41223c658f8fb58adbd2c86312a7fcad7\"\n",
      "}\n"
     ]
    }
   ],
   "source": [
    "!cat wallet1.skey"
   ]
  },
  {
   "cell_type": "code",
   "execution_count": 20,
   "id": "d8fbb886-0de3-449b-b070-6a52742cfa09",
   "metadata": {},
   "outputs": [
    {
     "name": "stdout",
     "output_type": "stream",
     "text": [
      "{\n",
      "    \"type\": \"PaymentExtendedVerificationKeyShelley_ed25519_bip32\",\n",
      "    \"description\": \"\",\n",
      "    \"cborHex\": \"58407060d53791200399a29871511d5f35bd8fd06cfb177c54fd4886c4edffa5c78938027be4017ac71ed4505bbdc0ba94b41223c658f8fb58adbd2c86312a7fcad7\"\n",
      "}\n"
     ]
    }
   ],
   "source": [
    "!cat wallet1.vkey"
   ]
  },
  {
   "cell_type": "code",
   "execution_count": 21,
   "id": "e8e067de-59d3-4001-82a8-63b4f448724a",
   "metadata": {},
   "outputs": [
    {
     "name": "stdout",
     "output_type": "stream",
     "text": [
      "addr_test1vpha99j2s5slc5q26d884rhc3jzuxqex5javsak5enlg8wsel4z2t"
     ]
    }
   ],
   "source": [
    "!cat wallet1.address"
   ]
  },
  {
   "cell_type": "markdown",
   "id": "529d4d49",
   "metadata": {},
   "source": [
    "#### wallet 2"
   ]
  },
  {
   "cell_type": "code",
   "execution_count": 22,
   "id": "f3f5bf49",
   "metadata": {},
   "outputs": [
    {
     "name": "stdout",
     "output_type": "stream",
     "text": [
      "wallet 2 seed phrase:\n",
      "\n",
      " produce rural buffalo easily wagon burst scout garage piano pass faith speed athlete witness popular north umbrella burst music draft lyrics camp glue tunnel\n",
      "\n"
     ]
    },
    {
     "data": {
      "text/plain": [
       "158"
      ]
     },
     "execution_count": 22,
     "metadata": {},
     "output_type": "execute_result"
    }
   ],
   "source": [
    "# generate 24 word key phrase\n",
    "cmd = [cardanoWALLET, \"recovery-phrase\", \"generate\", \"--size\", \"24\"]\n",
    "result = subprocess.run(cmd, capture_output=True, text=True)\n",
    "print(\"wallet 2 seed phrase:\\n\\n\", result.stdout)\n",
    "open('wallet2.seed', 'w').write(result.stdout)"
   ]
  },
  {
   "cell_type": "code",
   "execution_count": 23,
   "id": "b2b19127-0487-4ef2-9428-47de36a2740d",
   "metadata": {},
   "outputs": [],
   "source": [
    "!cat wallet2.seed | /nix/store/9n5z901h18k7ijjj8axvyv4w2z0zgqcv-cardano-wallet-exe-cardano-wallet-2022.1.18/bin/cardano-wallet key from-recovery-phrase Shelley | /nix/store/9n5z901h18k7ijjj8axvyv4w2z0zgqcv-cardano-wallet-exe-cardano-wallet-2022.1.18/bin/cardano-wallet key child 1852H/1815H/0H/0/0 > wallet2.prv\n",
    "!/nix/store/vaqzj4d6c1fdmqmm78y3g4n10pyw5mmc-cardano-cli-exe-cardano-cli-1.34.1/bin/cardano-cli key convert-cardano-address-key --shelley-payment-key --signing-key-file wallet2.prv --out-file wallet2.skey\n",
    "!/nix/store/vaqzj4d6c1fdmqmm78y3g4n10pyw5mmc-cardano-cli-exe-cardano-cli-1.34.1/bin/cardano-cli key verification-key --signing-key-file wallet2.skey --verification-key-file wallet2.vkey\n",
    "!/nix/store/vaqzj4d6c1fdmqmm78y3g4n10pyw5mmc-cardano-cli-exe-cardano-cli-1.34.1/bin/cardano-cli address build --testnet-magic 1567 --payment-verification-key-file wallet2.vkey > wallet2.address"
   ]
  },
  {
   "cell_type": "code",
   "execution_count": 28,
   "id": "1964bda9-2716-4829-8c49-68acf450c248",
   "metadata": {},
   "outputs": [
    {
     "name": "stdout",
     "output_type": "stream",
     "text": [
      "addr_test1vzn7ef2cx8h5y4jvxnn34pn3lzak5t537fx09j7zxdljs3gc5zgw6"
     ]
    }
   ],
   "source": [
    "!cat wallet2.address"
   ]
  },
  {
   "cell_type": "code",
   "execution_count": 24,
   "id": "8e31ee5c-853a-429d-bc11-27b599c06126",
   "metadata": {},
   "outputs": [
    {
     "name": "stdout",
     "output_type": "stream",
     "text": [
      "Thu Jul 21 17:36:18 CEST 2022\n",
      "-rw-rw-r-- 1 ubuntu ubuntu  63 Jul 21 17:36 wallet1.address\n",
      "-rw-rw-r-- 1 ubuntu ubuntu 169 Jul 21 17:35 wallet1.prv\n",
      "-rw-rw-r-- 1 ubuntu ubuntu 160 Jul 21 17:35 wallet1.seed\n",
      "-rw------- 1 ubuntu ubuntu 367 Jul 21 17:36 wallet1.skey\n",
      "-rw------- 1 ubuntu ubuntu 244 Jul 21 17:36 wallet1.vkey\n",
      "-rw-rw-r-- 1 ubuntu ubuntu  63 Jul 21 17:36 wallet2.address\n",
      "-rw-rw-r-- 1 ubuntu ubuntu 169 Jul 21 17:36 wallet2.prv\n",
      "-rw-rw-r-- 1 ubuntu ubuntu 158 Jul 21 17:36 wallet2.seed\n",
      "-rw------- 1 ubuntu ubuntu 367 Jul 21 17:36 wallet2.skey\n",
      "-rw------- 1 ubuntu ubuntu 244 Jul 21 17:36 wallet2.vkey\n"
     ]
    }
   ],
   "source": [
    "# list all the wallet files generated\n",
    "!date\n",
    "!ls -al wallet*"
   ]
  },
  {
   "cell_type": "markdown",
   "id": "8869eaff",
   "metadata": {},
   "source": [
    "## Contract"
   ]
  },
  {
   "cell_type": "markdown",
   "id": "f8ca58a4-d308-4a3c-849e-5250b97593f1",
   "metadata": {},
   "source": [
    "### design\n",
    "We can develop a smart contract in different ways, javascript, haskell, marlowe and more in the future.  \n",
    "This example was written by Marco in javascript (.js) and can be [**found here.**](https://gist.github.com/marco-martins/670832702aaa2c9258cfecef5a1b7fa3)  \n",
    "The idea here is to have 2 wallet users each sending a certain amount in ADA  \n",
    "and then each receives what the other person sended, called a swap.  \n",
    "Consult the [**marlowe playground**](https://marlowe-playground-marlowe-pioneers.plutus.aws.iohkdev.io/#/) for editing and simulating how this works.  \n",
    "![marlowe playground javascript code replacement](../../image/marlowe_playground_swap_javascript.png)"
   ]
  },
  {
   "cell_type": "markdown",
   "id": "db0725ee-ae5f-443f-9689-bf26785c8863",
   "metadata": {},
   "source": [
    "Alternatively you can use the following **Marlowe** code (also found after compilation).  \n",
    "\n",
    "```sh\n",
    "When\n",
    "    [Case\n",
    "        (Deposit\n",
    "            (Role \"Seller\")\n",
    "            (Role \"Seller\")\n",
    "            (Token \"\" \"\")\n",
    "            (ConstantParam \"Seller Amount\")\n",
    "        )\n",
    "        (When\n",
    "            [Case\n",
    "                (Deposit\n",
    "                    (Role \"Buyer\")\n",
    "                    (Role \"Buyer\")\n",
    "                    (Token \"\" \"\")\n",
    "                    (ConstantParam \"Buyer Amount\")\n",
    "                )\n",
    "                (Pay\n",
    "                    (Role \"Seller\")\n",
    "                    (Party (Role \"Buyer\"))\n",
    "                    (Token \"\" \"\")\n",
    "                    (ConstantParam \"Seller Amount\")\n",
    "                    (Pay\n",
    "                        (Role \"Buyer\")\n",
    "                        (Party (Role \"Seller\"))\n",
    "                        (Token \"\" \"\")\n",
    "                        (ConstantParam \"Buyer Amount\")\n",
    "                        Close \n",
    "                    )\n",
    "                )]\n",
    "            (TimeParam \"Deadline\")\n",
    "            Close \n",
    "        )]\n",
    "    (TimeParam \"Deadline\")\n",
    "    Close \n",
    "```"
   ]
  },
  {
   "cell_type": "markdown",
   "id": "5cd3606a-5fc0-480f-aee3-3c3e507c3515",
   "metadata": {},
   "source": [
    "You can then also view as blocks and code visually using **blockly**.  \n",
    "  \n",
    "![marlowe playground blockly code](../../image/marlowe_playground_swap_blockly.png)  \n"
   ]
  },
  {
   "cell_type": "markdown",
   "id": "959a19a8-f8e7-4a25-beb0-f7c67322799f",
   "metadata": {},
   "source": [
    "**You can export the script to \".json\"**  \n",
    "We stored this script and it's content looks like this"
   ]
  },
  {
   "cell_type": "code",
   "execution_count": 25,
   "id": "4b339307-da8d-4ad8-8e65-26788bfee85e",
   "metadata": {},
   "outputs": [
    {
     "name": "stdout",
     "output_type": "stream",
     "text": [
      "{\"when\":[{\"then\":{\"when\":[{\"then\":{\"token\":{\"token_name\":\"\",\"currency_symbol\":\"\"},\"to\":{\"party\":{\"role_token\":\"Buyer\"}},\"then\":{\"token\":{\"token_name\":\"\",\"currency_symbol\":\"\"},\"to\":{\"party\":{\"role_token\":\"Seller\"}},\"then\":\"close\",\"pay\":0,\"from_account\":{\"role_token\":\"Buyer\"}},\"pay\":0,\"from_account\":{\"role_token\":\"Seller\"}},\"case\":{\"party\":{\"role_token\":\"Buyer\"},\"of_token\":{\"token_name\":\"\",\"currency_symbol\":\"\"},\"into_account\":{\"role_token\":\"Buyer\"},\"deposits\":0}}],\"timeout_continuation\":\"close\",\"timeout\":1658230520814},\"case\":{\"party\":{\"role_token\":\"Seller\"},\"of_token\":{\"token_name\":\"\",\"currency_symbol\":\"\"},\"into_account\":{\"role_token\":\"Seller\"},\"deposits\":0}}],\"timeout_continuation\":\"close\",\"timeout\":1658230520814}"
     ]
    }
   ],
   "source": [
    "!cat ../../data/contracts/swap_contract.json"
   ]
  },
  {
   "cell_type": "code",
   "execution_count": 26,
   "id": "b1ae81d9-56c9-46a4-809d-53e87ecf6162",
   "metadata": {},
   "outputs": [
    {
     "name": "stdout",
     "output_type": "stream",
     "text": [
      "{\n",
      "  \"when\": [\n",
      "    {\n",
      "      \"then\": {\n",
      "        \"when\": [\n",
      "          {\n",
      "            \"then\": {\n",
      "              \"token\": {\n",
      "                \"token_name\": \"\",\n",
      "                \"currency_symbol\": \"\"\n",
      "              },\n",
      "              \"to\": {\n",
      "                \"party\": {\n",
      "                  \"role_token\": \"Buyer\"\n",
      "                }\n",
      "              },\n",
      "              \"then\": {\n",
      "                \"token\": {\n",
      "                  \"token_name\": \"\",\n",
      "                  \"currency_symbol\": \"\"\n",
      "                },\n",
      "                \"to\": {\n",
      "                  \"party\": {\n",
      "                    \"role_token\": \"Seller\"\n",
      "                  }\n",
      "                },\n",
      "                \"then\": \"close\",\n",
      "                \"pay\": 0,\n",
      "                \"from_account\": {\n",
      "                  \"role_token\": \"Buyer\"\n",
      "                }\n",
      "              },\n",
      "              \"pay\": 0,\n",
      "              \"from_account\": {\n",
      "                \"role_token\": \"Seller\"\n",
      "              }\n",
      "            },\n",
      "            \"case\": {\n",
      "              \"party\": {\n",
      "                \"role_token\": \"Buyer\"\n",
      "              },\n",
      "              \"of_token\": {\n",
      "                \"token_name\": \"\",\n",
      "                \"currency_symbol\": \"\"\n",
      "              },\n",
      "              \"into_account\": {\n",
      "                \"role_token\": \"Buyer\"\n",
      "              },\n",
      "              \"deposits\": 0\n",
      "            }\n",
      "          }\n",
      "        ],\n",
      "        \"timeout_continuation\": \"close\",\n",
      "        \"timeout\": 1658230520814\n",
      "      },\n",
      "      \"case\": {\n",
      "        \"party\": {\n",
      "          \"role_token\": \"Seller\"\n",
      "        },\n",
      "        \"of_token\": {\n",
      "          \"token_name\": \"\",\n",
      "          \"currency_symbol\": \"\"\n",
      "        },\n",
      "        \"into_account\": {\n",
      "          \"role_token\": \"Seller\"\n",
      "        },\n",
      "        \"deposits\": 0\n",
      "      }\n",
      "    }\n",
      "  ],\n",
      "  \"timeout_continuation\": \"close\",\n",
      "  \"timeout\": 1658230520814\n",
      "}\n"
     ]
    }
   ],
   "source": [
    "with open('../../data/contracts/swap_contract.json', 'r') as file:\n",
    "    parsed = json.load(file)\n",
    "    print(json.dumps(parsed, indent=2))"
   ]
  },
  {
   "cell_type": "markdown",
   "id": "a36afa41",
   "metadata": {},
   "source": [
    "### parameters\n",
    "The **parties agree beforehand to define certain parameter values** to be used for the contract script.  \n",
    "Notice that the values can only be **integers** to be precise when used on chain.  \n",
    "This is to remove machine independable float value discrepancies.  \n",
    "So, even time is translated to an integer representation for this reason,  \n",
    "so is the value of ADA currently having 5 decimal points called lovelaces.  \n",
    "The rest is often represented as **string** values.  "
   ]
  },
  {
   "cell_type": "code",
   "execution_count": 30,
   "id": "1571405e",
   "metadata": {},
   "outputs": [],
   "source": [
    "ADA                   = 1000000         # 1 ADA = 1000000 lovelace\n",
    "MILLISECOND           = 1000\n",
    "NOW                   = round(time.time())*1000\n",
    "HOUR                  = 60*60*MILLISECOND\n",
    "PAYMENT_DEADLINE      = NOW+10*HOUR     # The payment deadline, ten hours from now\n",
    "MINIMUM_ADA           = 3*ADA           # The minimum lovelace to be included with native token output\n",
    "\n",
    "PARTY1_TOKENASSETNAME = 'Party1'        # this is 'Buyer', 'wallet 1'\n",
    "PARTY2_TOKENASSETNAME = 'Party2'        # this is 'Seller', 'wallet 2'\n",
    "PARTY1_AMOUNT         = 200*ADA         # 200000000, means we will hard-code this swap amount in the script\n",
    "PARTY2_AMOUNT         = 100*ADA         # 100000000, means we will hard-code this swap amount in the script\n",
    "PARTY1_ADDRESS        = open('wallet1.address', 'r').read() # string value 'addr_test1vppqe9wxg73zfll8yj2v3xg44k8pgnl0k4899pv3r3r2h2qlgsg4t'\n",
    "PARTY2_ADDRESS        = open('wallet2.address', 'r').read() # string value 'addr_test1vrfhx0w0fy9aad9kskezy5znpmey0h335gcjen2pp4gjj2s2ax92x'\n",
    "PARTY1_SKEYFILE       = 'wallet1.skey'  # string value pointing to path/file\n",
    "PARTY2_SKEYFILE       = 'wallet2.skey'\n",
    "PARTY1_VKEYFILE       = 'wallet1.vkey'\n",
    "PARTY2_VKEYFILE       = 'wallet2.vkey'\n",
    "\n",
    "MAGIC                 = '1567'          # marlowe-pioneers testnet ID (provided by developers)\n",
    "SOCKET                = '/tmp/node.socket'\n",
    "\n",
    "# the values below will be created further down the road, \n",
    "# it can be interesting to list them here for your understanding\n",
    "TOKEN_POLICY_ID       = ''  # minted token Policy ID, '0b8ffef9a24d8dcdcd7618d74df4753aff6b6b7787b88ac69b4d7e43'\n",
    "TX1_IN                = ''  # '5906e4431fbd83cb9d16862ac7a4278ce707061af1d934f41f00abe2f7f150e9'\n",
    "TX1_PARTY1_ADA        = ''  # '5906e4431fbd83cb9d16862ac7a4278ce707061af1d934f41f00abe2f7f150e9#0'\n",
    "TX1_PARTY1_TOKENS     = ''  # '5906e4431fbd83cb9d16862ac7a4278ce707061af1d934f41f00abe2f7f150e9#1'\n",
    "TX1_PARTY2_ADA        = ''  #\n",
    "TX1_PARTY2_TOKENS     = ''  #\n",
    "TX2_IN                = ''  # 'f773c71f9b58dd95fd470aedd9df800838e841aef807102abcd87e3c881fd373'\n",
    "CONTRACT_ADDRESS      = ''  # 'addr_test1wp544j8t4m3a32g6apad3lpjjfj09j948y8m4nthc5e9rgg5uxu2z'\n",
    "REDEEM_ADDRESS        = ''  # 'addr_test1wr0970a9k82v6pcw68x2yzwm737zyepg9y8ar8jxsxstf6gzpsmyv'"
   ]
  },
  {
   "cell_type": "markdown",
   "id": "dec6a412-fed0-4782-b14c-c72a70b3d401",
   "metadata": {},
   "source": [
    "### script\n",
    "The goal here is to hard-code substitute parameters in the json script,  \n",
    "replacing with real values the token name, amounts, timeout values, and so on...  "
   ]
  },
  {
   "cell_type": "code",
   "execution_count": 31,
   "id": "670d4f0d",
   "metadata": {},
   "outputs": [],
   "source": [
    "# currency_symbol = PolicyID of the minted tokens (ex: \"0b8ffef9a24d8dcdcd7618d74df4753aff6b6b7787b88ac69b4d7e43\")\n",
    "PARTY1_TOKENID   = \"\"  # empty (default to ADA)\n",
    "PARTY2_TOKENID   = \"\"  # empty (default to ADA)\n",
    "\n",
    "# token_name = currency name of the minted tokens (ex: \"CHOC\")\n",
    "PARTY1_TOKENNAME = \"\"  # empty (default to ADA)\n",
    "PARTY2_TOKENNAME = \"\"  # empty (default to ADA)"
   ]
  },
  {
   "cell_type": "markdown",
   "id": "76e17843",
   "metadata": {},
   "source": [
    "TO BE replaced below later these token names !! then it needs to be tested...  \n",
    "Maybe we can later add the minting of tokens and try to swap these as an example.  "
   ]
  },
  {
   "cell_type": "code",
   "execution_count": 32,
   "id": "25f8f273-094c-490e-b6e6-7d23388a566c",
   "metadata": {},
   "outputs": [],
   "source": [
    "result = subprocess.run(\"\"\"cat <<EOF > tx-1.contract\n",
    "{\n",
    "  \"when\": [\n",
    "    {\n",
    "      \"then\": {\n",
    "        \"when\": [\n",
    "          {\n",
    "            \"then\": {\n",
    "              \"token\": {\n",
    "                \"token_name\": \"\",\n",
    "                \"currency_symbol\": \"\"\n",
    "              },\n",
    "              \"to\": {\n",
    "                \"party\": {\n",
    "                  \"role_token\": '\"\"\"+PARTY2_TOKENASSETNAME+\"\"\"'\n",
    "                }\n",
    "              },\n",
    "              \"then\": {\n",
    "                \"token\": {\n",
    "                  \"token_name\": \"\",\n",
    "                  \"currency_symbol\": \"\"\n",
    "                },\n",
    "                \"to\": {\n",
    "                  \"party\": {\n",
    "                    \"role_token\": '\"\"\"+PARTY1_TOKENASSETNAME+\"\"\"'\n",
    "                  }\n",
    "                },\n",
    "                \"then\": \"close\",\n",
    "                \"pay\": \"\"\"+str(PARTY2_AMOUNT)+\"\"\",\n",
    "                \"from_account\": {\n",
    "                  \"role_token\": '\"\"\"+PARTY2_TOKENASSETNAME+\"\"\"'\n",
    "                }\n",
    "              },\n",
    "              \"pay\": \"\"\"+str(PARTY1_AMOUNT)+\"\"\",\n",
    "              \"from_account\": {\n",
    "                \"role_token\": '\"\"\"+PARTY1_TOKENASSETNAME+\"\"\"'\n",
    "              }\n",
    "            },\n",
    "            \"case\": {\n",
    "              \"party\": {\n",
    "                \"role_token\": '\"\"\"+PARTY2_TOKENASSETNAME+\"\"\"'\n",
    "              },\n",
    "              \"of_token\": {\n",
    "                \"token_name\": \"\",\n",
    "                \"currency_symbol\": \"\"\n",
    "              },\n",
    "              \"into_account\": {\n",
    "                \"role_token\": '\"\"\"+PARTY2_TOKENASSETNAME+\"\"\"'\n",
    "              },\n",
    "              \"deposits\": \"\"\"+str(PARTY2_AMOUNT)+\"\"\"\n",
    "            }\n",
    "          }\n",
    "        ],\n",
    "        \"timeout_continuation\": \"close\",\n",
    "        \"timeout\": \"\"\"+str(PAYMENT_DEADLINE)+\"\"\"\n",
    "      },\n",
    "      \"case\": {\n",
    "        \"party\": {\n",
    "          \"role_token\": '\"\"\"+PARTY1_TOKENASSETNAME+\"\"\"'\n",
    "        },\n",
    "        \"of_token\": {\n",
    "          \"token_name\": \"\",\n",
    "          \"currency_symbol\": \"\"\n",
    "        },\n",
    "        \"into_account\": {\n",
    "          \"role_token\": '\"\"\"+PARTY1_TOKENASSETNAME+\"\"\"'\n",
    "        },\n",
    "        \"deposits\": \"\"\"+str(PARTY1_AMOUNT)+\"\"\"\n",
    "      }\n",
    "    }\n",
    "  ],\n",
    "  \"timeout_continuation\": \"close\",\n",
    "  \"timeout\": \"\"\"+str(PAYMENT_DEADLINE)+\"\"\"\n",
    "}\n",
    "EOF\n",
    "\"\"\", shell=True)"
   ]
  },
  {
   "cell_type": "code",
   "execution_count": 33,
   "id": "17f8e960-c1bf-49a3-93c5-dd4b83b8b2c4",
   "metadata": {},
   "outputs": [
    {
     "name": "stdout",
     "output_type": "stream",
     "text": [
      "{\n",
      "  \"when\": [\n",
      "    {\n",
      "      \"then\": {\n",
      "        \"when\": [\n",
      "          {\n",
      "            \"then\": {\n",
      "              \"token\": {\n",
      "                \"token_name\": \"\",\n",
      "                \"currency_symbol\": \"\"\n",
      "              },\n",
      "              \"to\": {\n",
      "                \"party\": {\n",
      "                  \"role_token\": 'Party2'\n",
      "                }\n",
      "              },\n",
      "              \"then\": {\n",
      "                \"token\": {\n",
      "                  \"token_name\": \"\",\n",
      "                  \"currency_symbol\": \"\"\n",
      "                },\n",
      "                \"to\": {\n",
      "                  \"party\": {\n",
      "                    \"role_token\": 'Party1'\n",
      "                  }\n",
      "                },\n",
      "                \"then\": \"close\",\n",
      "                \"pay\": 100000000,\n",
      "                \"from_account\": {\n",
      "                  \"role_token\": 'Party2'\n",
      "                }\n",
      "              },\n",
      "              \"pay\": 200000000,\n",
      "              \"from_account\": {\n",
      "                \"role_token\": 'Party1'\n",
      "              }\n",
      "            },\n",
      "            \"case\": {\n",
      "              \"party\": {\n",
      "                \"role_token\": 'Party2'\n",
      "              },\n",
      "              \"of_token\": {\n",
      "                \"token_name\": \"\",\n",
      "                \"currency_symbol\": \"\"\n",
      "              },\n",
      "              \"into_account\": {\n",
      "                \"role_token\": 'Party2'\n",
      "              },\n",
      "              \"deposits\": 100000000\n",
      "            }\n",
      "          }\n",
      "        ],\n",
      "        \"timeout_continuation\": \"close\",\n",
      "        \"timeout\": 1658454012000\n",
      "      },\n",
      "      \"case\": {\n",
      "        \"party\": {\n",
      "          \"role_token\": 'Party1'\n",
      "        },\n",
      "        \"of_token\": {\n",
      "          \"token_name\": \"\",\n",
      "          \"currency_symbol\": \"\"\n",
      "        },\n",
      "        \"into_account\": {\n",
      "          \"role_token\": 'Party1'\n",
      "        },\n",
      "        \"deposits\": 200000000\n",
      "      }\n",
      "    }\n",
      "  ],\n",
      "  \"timeout_continuation\": \"close\",\n",
      "  \"timeout\": 1658454012000\n",
      "}\n"
     ]
    }
   ],
   "source": [
    "!cat tx-1.contract"
   ]
  },
  {
   "cell_type": "markdown",
   "id": "55d0f9f0",
   "metadata": {},
   "source": [
    "Question: I don't understand yet why minTime always is 1,  \n",
    "I believe it has to do with the start of the existence of the blockchain.  \n",
    "One can believe we need to set the startdate NOW in there.  \n",
    "Question: why is there no secondary account party 2 in here, what is this state file for ?  \n",
    "is this to do the initial startup of the contract somehow ?  \n",
    "Question: Why do we need 2 or 3 ADA here ?  \n",
    "I believe this is to counter bursting of DoS attacks in contracts initialisations...  "
   ]
  },
  {
   "cell_type": "code",
   "execution_count": 34,
   "id": "be6547fe-f1c4-4e4e-93bb-41e35d4f514c",
   "metadata": {},
   "outputs": [],
   "source": [
    "result = subprocess.run(\"\"\"cat <<EOF > tx-1.state\n",
    "{\n",
    "  \"accounts\": [\n",
    "    [[{ \"role_token\": '\"\"\"+PARTY1_TOKENASSETNAME+\"\"\"'}, { \"currency_symbol\": \"\", \"token_name\": \"\" }], \"\"\"+str(MINIMUM_ADA)+\"\"\"]\n",
    "  ],\n",
    "  \"choices\": [],\n",
    "  \"boundValues\": [],\n",
    "  \"minTime\": \"\"\"+str(1)+\"\"\"\n",
    "}\n",
    "\"\"\", shell=True)"
   ]
  },
  {
   "cell_type": "code",
   "execution_count": 35,
   "id": "a3b54c74-e9ec-4a77-9578-3ae74ac53133",
   "metadata": {},
   "outputs": [
    {
     "name": "stdout",
     "output_type": "stream",
     "text": [
      "{\n",
      "  \"accounts\": [\n",
      "    [[{ \"role_token\": 'Party1'}, { \"currency_symbol\": \"\", \"token_name\": \"\" }], 3000000]\n",
      "  ],\n",
      "  \"choices\": [],\n",
      "  \"boundValues\": [],\n",
      "  \"minTime\": 1\n",
      "}\n"
     ]
    }
   ],
   "source": [
    "!cat tx-1.state"
   ]
  },
  {
   "cell_type": "markdown",
   "id": "df2de372-adf3-4c09-94a5-d7193811435d",
   "metadata": {},
   "source": [
    "### template (optional)\n",
    "Using a template, one can construct with marlowe-cli the *.contract and *.state files  \n",
    "Today these templates are available:  \n",
    "  * escrow\n",
    "  * simple\n",
    "  * swap\n",
    "  * zcb (zero-coupon bond)\n",
    "  * coveredCall"
   ]
  },
  {
   "cell_type": "code",
   "execution_count": 36,
   "id": "9c0b2b73",
   "metadata": {},
   "outputs": [],
   "source": [
    "# minted tokenID.tokenNAME == currency_symbol.token_name\n",
    "PARTY1_TOKENID   = \"0b8ffef9a24d8dcdcd7618d74df4753aff6b6b7787b88ac69b4d7e43\"\n",
    "PARTY1_TOKENNAME = \"BERRY\"\n",
    "PARTY2_TOKENID   = \"0b8ffef9a24d8dcdcd7618d74df4753aff6b6b7787b88ac69b4d7e43\"\n",
    "PARTY2_TOKENNAME = \"CHOC\""
   ]
  },
  {
   "cell_type": "markdown",
   "id": "f0e1bac8",
   "metadata": {},
   "source": [
    "```text\n",
    "marlowe-cli template swap:\n",
    "\n",
    "  --minimum-ada INTEGER             Lovelace that the first party contributes to the initial state\n",
    "  --a-party PARTY                   The first party\n",
    "  --a-token TOKEN                   The first party's token\n",
    "  --a-amount INTEGER                The amount of the first party's token\n",
    "  --a-timeout POSIX_TIME            The timeout for the first party's deposit, in POSIX milliseconds\n",
    "  --b-party PARTY                   The second party\n",
    "  --b-token TOKEN                   The second party's token\n",
    "  --b-amount INTEGER                The amount of the second party's token\n",
    "  --b-timeout POSIX_TIME            The timeout for the second party's deposit, in POSIX milliseconds\n",
    "  --out-contract-file CONTRACT_FILE JSON output file for the contract\n",
    "  --out-state-file STATE_FILE       JSON output file for the contract's state\n",
    "\n",
    "```"
   ]
  },
  {
   "cell_type": "code",
   "execution_count": 37,
   "id": "ccf002c1-75ac-459d-a645-60b0829562ea",
   "metadata": {},
   "outputs": [
    {
     "name": "stdout",
     "output_type": "stream",
     "text": [
      "\n",
      "\n"
     ]
    }
   ],
   "source": [
    "# this example seem not to work for swapping ADA, don't understand the syntax (we will not use these files)\n",
    "cmd = [marloweCLI, \"template\", \"swap\", \n",
    "       \"--minimum-ada\", str(MINIMUM_ADA),                # '3000000'\n",
    "       \"--a-party\", \"Role=\"+PARTY1_TOKENASSETNAME,       # 'Role=Party1'\n",
    "       \"--a-token\", PARTY1_TOKENID+\".\"+PARTY1_TOKENNAME, # '0b8ffef9a24d8dcdcd7618d74df4753aff6b6b7787b88ac69b4d7e43.BERRY'\n",
    "       \"--a-amount\", str(PARTY1_AMOUNT),                 # '200000000'\n",
    "       \"--a-timeout\", str(PAYMENT_DEADLINE),             # '1658275769000'\n",
    "       \"--b-party\", \"Role=\"+PARTY2_TOKENASSETNAME,       # 'Role=Party2'\n",
    "       \"--b-token\", PARTY2_TOKENID+\".\"+PARTY2_TOKENNAME, # '0b8ffef9a24d8dcdcd7618d74df4753aff6b6b7787b88ac69b4d7e43.CHOC'\n",
    "       \"--b-amount\", str(PARTY2_AMOUNT),                 # '100000000'\n",
    "       \"--b-timeout\", str(PAYMENT_DEADLINE),             # '1658275769000'\n",
    "       \"--out-contract-file\", \"swap_template.contract\",\n",
    "       \"--out-state-file\", \"swap_template.state\"]\n",
    "result = subprocess.run(cmd, capture_output=True, text=True)\n",
    "print(result.stdout)\n",
    "print(result.stderr)"
   ]
  },
  {
   "cell_type": "code",
   "execution_count": 38,
   "id": "84afcab8-dcc7-4f08-a1c1-4c4cd07bf3fa",
   "metadata": {},
   "outputs": [
    {
     "name": "stdout",
     "output_type": "stream",
     "text": [
      "{\n",
      "    \"timeout\": 1658454012000,\n",
      "    \"when\": [\n",
      "        {\n",
      "            \"then\": {\n",
      "                \"timeout\": 1658454012000,\n",
      "                \"when\": [\n",
      "                    {\n",
      "                        \"then\": {\n",
      "                            \"then\": {\n",
      "                                \"then\": \"close\",\n",
      "                                \"to\": {\n",
      "                                    \"party\": {\n",
      "                                        \"role_token\": \"Party1\"\n",
      "                                    }\n",
      "                                },\n",
      "                                \"from_account\": {\n",
      "                                    \"role_token\": \"Party2\"\n",
      "                                },\n",
      "                                \"pay\": 100000000,\n",
      "                                \"token\": {\n",
      "                                    \"currency_symbol\": \"0b8ffef9a24d8dcdcd7618d74df4753aff6b6b7787b88ac69b4d7e43\",\n",
      "                                    \"token_name\": \"CHOC\"\n",
      "                                }\n",
      "                            },\n",
      "                            \"to\": {\n",
      "                                \"party\": {\n",
      "                                    \"role_token\": \"Party2\"\n",
      "                                }\n",
      "                            },\n",
      "                            \"from_account\": {\n",
      "                                \"role_token\": \"Party1\"\n",
      "                            },\n",
      "                            \"pay\": 200000000,\n",
      "                            \"token\": {\n",
      "                                \"currency_symbol\": \"0b8ffef9a24d8dcdcd7618d74df4753aff6b6b7787b88ac69b4d7e43\",\n",
      "                                \"token_name\": \"BERRY\"\n",
      "                            }\n",
      "                        },\n",
      "                        \"case\": {\n",
      "                            \"deposits\": 100000000,\n",
      "                            \"into_account\": {\n",
      "                                \"role_token\": \"Party2\"\n",
      "                            },\n",
      "                            \"of_token\": {\n",
      "                                \"currency_symbol\": \"0b8ffef9a24d8dcdcd7618d74df4753aff6b6b7787b88ac69b4d7e43\",\n",
      "                                \"token_name\": \"CHOC\"\n",
      "                            },\n",
      "                            \"party\": {\n",
      "                                \"role_token\": \"Party2\"\n",
      "                            }\n",
      "                        }\n",
      "                    }\n",
      "                ],\n",
      "                \"timeout_continuation\": \"close\"\n",
      "            },\n",
      "            \"case\": {\n",
      "                \"deposits\": 200000000,\n",
      "                \"into_account\": {\n",
      "                    \"role_token\": \"Party1\"\n",
      "                },\n",
      "                \"of_token\": {\n",
      "                    \"currency_symbol\": \"0b8ffef9a24d8dcdcd7618d74df4753aff6b6b7787b88ac69b4d7e43\",\n",
      "                    \"token_name\": \"BERRY\"\n",
      "                },\n",
      "                \"party\": {\n",
      "                    \"role_token\": \"Party1\"\n",
      "                }\n",
      "            }\n",
      "        }\n",
      "    ],\n",
      "    \"timeout_continuation\": \"close\"\n",
      "}"
     ]
    }
   ],
   "source": [
    "!cat swap_template.contract"
   ]
  },
  {
   "cell_type": "code",
   "execution_count": 39,
   "id": "89497bb6-ec2d-4250-bc19-9bfc8a68239c",
   "metadata": {},
   "outputs": [
    {
     "name": "stdout",
     "output_type": "stream",
     "text": [
      "{\n",
      "    \"choices\": [],\n",
      "    \"boundValues\": [],\n",
      "    \"accounts\": [\n",
      "        [\n",
      "            [\n",
      "                {\n",
      "                    \"role_token\": \"Party1\"\n",
      "                },\n",
      "                {\n",
      "                    \"currency_symbol\": \"\",\n",
      "                    \"token_name\": \"\"\n",
      "                }\n",
      "            ],\n",
      "            3000000\n",
      "        ]\n",
      "    ],\n",
      "    \"minTime\": 1\n",
      "}"
     ]
    }
   ],
   "source": [
    "!cat swap_template.state"
   ]
  },
  {
   "cell_type": "markdown",
   "id": "ded5d625",
   "metadata": {},
   "source": [
    "## Transactions"
   ]
  },
  {
   "cell_type": "code",
   "execution_count": 1,
   "id": "f0fc013b",
   "metadata": {},
   "outputs": [
    {
     "data": {
      "text/html": [
       "\n",
       "        <iframe\n",
       "            width=\"800\"\n",
       "            height=\"600\"\n",
       "            src=\"https://miro.com/app/board/uXjVP3tf9_E=/?moveToWidget=3458764542137977013&cot=14\"\n",
       "            frameborder=\"0\"\n",
       "            allowfullscreen\n",
       "            \n",
       "        ></iframe>\n",
       "        "
      ],
      "text/plain": [
       "<IPython.lib.display.IFrame at 0x7f35ec343d00>"
      ]
     },
     "execution_count": 1,
     "metadata": {},
     "output_type": "execute_result"
    }
   ],
   "source": [
    "from IPython.display import IFrame\n",
    "\n",
    "# visual of the steps the contract will go through\n",
    "url = \"https://miro.com/app/board/uXjVP3tf9_E=/?moveToWidget=3458764542137977013&cot=14\"\n",
    "IFrame(url, width=\"800\", height=\"600\")"
   ]
  },
  {
   "cell_type": "markdown",
   "id": "795bc5fd",
   "metadata": {},
   "source": [
    "## Funding"
   ]
  },
  {
   "cell_type": "markdown",
   "id": "5720c6d1",
   "metadata": {},
   "source": [
    "### faucet\n",
    "Request from the testnet to send **500 tADA** (test ADA) into wallet1 and wallet2.  "
   ]
  },
  {
   "cell_type": "markdown",
   "id": "cb290c5c-9c95-4b5f-a820-c4265cf7880d",
   "metadata": {},
   "source": [
    "```text\n",
    "marlowe-cli util faucet:\n",
    "\n",
    "  --testnet-magic INTEGER   Network magic\n",
    "  --socket-path SOCKET_FILE Location of the cardano-node socket file\n",
    "  --lovelace LOVELACE       The lovelace to send to each address\n",
    "  --out-file FILE           Output file for transaction body\n",
    "  --submit SECONDS          Also submit the transaction, and wait for confirmation\n",
    "  ADDRESS                   The addresses to receive the funds\n",
    "```"
   ]
  },
  {
   "cell_type": "code",
   "execution_count": 40,
   "id": "bb6d7315",
   "metadata": {},
   "outputs": [
    {
     "name": "stdout",
     "output_type": "stream",
     "text": [
      "TxId \"ed62a729c96269053eef4aa5e4fabf9f6f85b7bb56f49481142ffcbe5f72aa33\"\n",
      "\n",
      "\n"
     ]
    }
   ],
   "source": [
    "# fund both address with for example 500 tADA - check in Daedalus\n",
    "cmd = [marloweCLI, \"util\", \"faucet\",\n",
    "       \"--testnet-magic\", MAGIC,       # '1567' = marlowe-pioneer-testnet\n",
    "       \"--lovelace\", str(500 * ADA),   # '500000000'\n",
    "       \"--out-file\", \"/dev/null\",      # discard the send data\n",
    "       \"--submit\", str(600),           # execution timeout limit 600 seconds, should finish in 20 sec = 1 block\n",
    "       PARTY1_ADDRESS, PARTY2_ADDRESS] # list all wallet addresses to send tADA towards, 'addr_test1vppqe9wxg73zfll8yj2v3xg44k8pgnl0k4899pv3r3r2h2qlgsg4t'\n",
    "result = subprocess.run(cmd, capture_output=True, text=True)\n",
    "print(result.stdout)\n",
    "print(result.stderr)"
   ]
  },
  {
   "cell_type": "code",
   "execution_count": 518,
   "id": "840c8e43-cd1c-4b36-b94e-703b56c6e799",
   "metadata": {},
   "outputs": [
    {
     "data": {
      "text/html": [
       "<div>\n",
       "<style scoped>\n",
       "    .dataframe tbody tr th:only-of-type {\n",
       "        vertical-align: middle;\n",
       "    }\n",
       "\n",
       "    .dataframe tbody tr th {\n",
       "        vertical-align: top;\n",
       "    }\n",
       "\n",
       "    .dataframe thead th {\n",
       "        text-align: right;\n",
       "    }\n",
       "</style>\n",
       "<table border=\"1\" class=\"dataframe\">\n",
       "  <thead>\n",
       "    <tr style=\"text-align: right;\">\n",
       "      <th></th>\n",
       "      <th>address</th>\n",
       "      <th>TxHash</th>\n",
       "      <th>TxIx</th>\n",
       "      <th>lovelace</th>\n",
       "      <th>TokenPolicyId</th>\n",
       "      <th>TokenNameHex</th>\n",
       "      <th>TokenNameAscii</th>\n",
       "      <th>TokenAmount</th>\n",
       "      <th>datumhash</th>\n",
       "    </tr>\n",
       "  </thead>\n",
       "  <tbody>\n",
       "    <tr>\n",
       "      <th>0</th>\n",
       "      <td>addr_test1vpha99j2s5slc5q26d884rhc3jzuxqex5javsak5enlg8wsel4z2t</td>\n",
       "      <td>7cbef19b7c372a9b2ac2bc376f5564ffb84f291230c92c881a0083f18705dadb</td>\n",
       "      <td>0</td>\n",
       "      <td>490451577</td>\n",
       "      <td>NaN</td>\n",
       "      <td>NaN</td>\n",
       "      <td>None</td>\n",
       "      <td>0</td>\n",
       "      <td>NaN</td>\n",
       "    </tr>\n",
       "    <tr>\n",
       "      <th>1</th>\n",
       "      <td>addr_test1vpha99j2s5slc5q26d884rhc3jzuxqex5javsak5enlg8wsel4z2t</td>\n",
       "      <td>4c7f8ff0c3da6143147f2da4a3fccd30dee8dc4b71c0a74ee272557a1ec2ea17</td>\n",
       "      <td>1</td>\n",
       "      <td>3000000</td>\n",
       "      <td>6f4f37e5c163a2f77935f395434c49bc4de8d1894a3bd80ac239a508</td>\n",
       "      <td>506172747931</td>\n",
       "      <td>Party1</td>\n",
       "      <td>1</td>\n",
       "      <td>NaN</td>\n",
       "    </tr>\n",
       "    <tr>\n",
       "      <th>2</th>\n",
       "      <td>addr_test1vzn7ef2cx8h5y4jvxnn34pn3lzak5t537fx09j7zxdljs3gc5zgw6</td>\n",
       "      <td>4c7f8ff0c3da6143147f2da4a3fccd30dee8dc4b71c0a74ee272557a1ec2ea17</td>\n",
       "      <td>2</td>\n",
       "      <td>3000000</td>\n",
       "      <td>6f4f37e5c163a2f77935f395434c49bc4de8d1894a3bd80ac239a508</td>\n",
       "      <td>506172747932</td>\n",
       "      <td>Party2</td>\n",
       "      <td>1</td>\n",
       "      <td>NaN</td>\n",
       "    </tr>\n",
       "    <tr>\n",
       "      <th>3</th>\n",
       "      <td>addr_test1vzn7ef2cx8h5y4jvxnn34pn3lzak5t537fx09j7zxdljs3gc5zgw6</td>\n",
       "      <td>ed62a729c96269053eef4aa5e4fabf9f6f85b7bb56f49481142ffcbe5f72aa33</td>\n",
       "      <td>3</td>\n",
       "      <td>500000000</td>\n",
       "      <td>NaN</td>\n",
       "      <td>NaN</td>\n",
       "      <td>None</td>\n",
       "      <td>0</td>\n",
       "      <td>NaN</td>\n",
       "    </tr>\n",
       "  </tbody>\n",
       "</table>\n",
       "</div>"
      ],
      "text/plain": [
       "                                                           address  \\\n",
       "0  addr_test1vpha99j2s5slc5q26d884rhc3jzuxqex5javsak5enlg8wsel4z2t   \n",
       "1  addr_test1vpha99j2s5slc5q26d884rhc3jzuxqex5javsak5enlg8wsel4z2t   \n",
       "2  addr_test1vzn7ef2cx8h5y4jvxnn34pn3lzak5t537fx09j7zxdljs3gc5zgw6   \n",
       "3  addr_test1vzn7ef2cx8h5y4jvxnn34pn3lzak5t537fx09j7zxdljs3gc5zgw6   \n",
       "\n",
       "                                                             TxHash  TxIx  \\\n",
       "0  7cbef19b7c372a9b2ac2bc376f5564ffb84f291230c92c881a0083f18705dadb     0   \n",
       "1  4c7f8ff0c3da6143147f2da4a3fccd30dee8dc4b71c0a74ee272557a1ec2ea17     1   \n",
       "2  4c7f8ff0c3da6143147f2da4a3fccd30dee8dc4b71c0a74ee272557a1ec2ea17     2   \n",
       "3  ed62a729c96269053eef4aa5e4fabf9f6f85b7bb56f49481142ffcbe5f72aa33     3   \n",
       "\n",
       "    lovelace                                             TokenPolicyId  \\\n",
       "0  490451577                                                       NaN   \n",
       "1    3000000  6f4f37e5c163a2f77935f395434c49bc4de8d1894a3bd80ac239a508   \n",
       "2    3000000  6f4f37e5c163a2f77935f395434c49bc4de8d1894a3bd80ac239a508   \n",
       "3  500000000                                                       NaN   \n",
       "\n",
       "   TokenNameHex TokenNameAscii  TokenAmount  datumhash  \n",
       "0           NaN           None            0        NaN  \n",
       "1  506172747931         Party1            1        NaN  \n",
       "2  506172747932         Party2            1        NaN  \n",
       "3           NaN           None            0        NaN  "
      ]
     },
     "execution_count": 518,
     "metadata": {},
     "output_type": "execute_result"
    }
   ],
   "source": [
    "# check wallet1 and wallet2\n",
    "pd.concat([query_df(PARTY1_ADDRESS), query_df(PARTY2_ADDRESS)]).reset_index(drop=True)"
   ]
  },
  {
   "cell_type": "markdown",
   "id": "b1da578a",
   "metadata": {},
   "source": [
    "## Tokens"
   ]
  },
  {
   "cell_type": "markdown",
   "id": "07beb423",
   "metadata": {},
   "source": [
    "### minting\n",
    "We chose to mint 2 tokens using wallet 1, one for each role.  \n",
    "We pay a fee for minting these tokens from this wallet.  \n",
    "One can argue to mint on any wallet and distribute.  "
   ]
  },
  {
   "cell_type": "markdown",
   "id": "ce5eb722-22ea-4b52-8e1e-af7011f17edd",
   "metadata": {},
   "source": [
    "```text\n",
    "marlowe-cli util mint:\n",
    "\n",
    "  --testnet-magic INTEGER        Network magic\n",
    "  --socket-path SOCKET_FILE      Location of the cardano-node socket file\n",
    "  --required-signer SIGNING_FILE File containing a required signing key\n",
    "  --metadata-file JSON_FILE      The CIP-25 metadata, with keys for each token name\n",
    "  --count INTEGER                The number of each token to mint\n",
    "  --expires SLOT_NO              The slot number after which miniting is no longer possible\n",
    "  --lovelace LOVELACE            The lovelace to send with each bundle of tokens\n",
    "  --change-address ADDRESS       Address to receive ADA in excess of fee\n",
    "  --out-file FILE                Output file for transaction body\n",
    "  --submit SECONDS               Also submit the transaction, and wait for confirmation\n",
    "  TOKEN_NAME                     The name of the token\n",
    "```"
   ]
  },
  {
   "cell_type": "code",
   "execution_count": 41,
   "id": "efef7640",
   "metadata": {},
   "outputs": [
    {
     "name": "stdout",
     "output_type": "stream",
     "text": [
      "PolicyID \"6f4f37e5c163a2f77935f395434c49bc4de8d1894a3bd80ac239a508\"\n",
      "\n",
      "\n"
     ]
    }
   ],
   "source": [
    "cmd = [marloweCLI, \"util\", \"mint\", \n",
    "       \"--testnet-magic\", MAGIC,             # '1567'\n",
    "       \"--socket-path\", SOCKET,              # '/tmp/node.socket'\n",
    "       \"--required-signer\", PARTY1_SKEYFILE, # 'wallet1.skey'\n",
    "       \"--change-address\", PARTY1_ADDRESS,   # 'addr_test1vppqe9wxg73zfll8yj2v3xg44k8pgnl0k4899pv3r3r2h2qlgsg4t'\n",
    "       \"--out-file\", \"mint.raw\",\n",
    "       \"--submit\", str(600),\n",
    "       PARTY1_TOKENASSETNAME, PARTY2_TOKENASSETNAME]   # 'Party1', 'Party2', do not use quotes \"PARTY1_TOKENASSETNAME\"\n",
    "result = subprocess.run(cmd, capture_output=True, text=True)\n",
    "print(result.stdout)\n",
    "print(result.stderr)"
   ]
  },
  {
   "cell_type": "code",
   "execution_count": 42,
   "id": "495c19c9",
   "metadata": {},
   "outputs": [
    {
     "data": {
      "text/plain": [
       "'6f4f37e5c163a2f77935f395434c49bc4de8d1894a3bd80ac239a508'"
      ]
     },
     "execution_count": 42,
     "metadata": {},
     "output_type": "execute_result"
    }
   ],
   "source": [
    "# The policy ID will be used for the Marlowe roles currency.  \n",
    "# Save this minted token Policy ID variable.  \n",
    "TOKEN_POLICY_ID = result.stdout.split('\"')[1]  \n",
    "TOKEN_POLICY_ID"
   ]
  },
  {
   "cell_type": "code",
   "execution_count": 519,
   "id": "e38760d8",
   "metadata": {},
   "outputs": [
    {
     "data": {
      "text/html": [
       "<div>\n",
       "<style scoped>\n",
       "    .dataframe tbody tr th:only-of-type {\n",
       "        vertical-align: middle;\n",
       "    }\n",
       "\n",
       "    .dataframe tbody tr th {\n",
       "        vertical-align: top;\n",
       "    }\n",
       "\n",
       "    .dataframe thead th {\n",
       "        text-align: right;\n",
       "    }\n",
       "</style>\n",
       "<table border=\"1\" class=\"dataframe\">\n",
       "  <thead>\n",
       "    <tr style=\"text-align: right;\">\n",
       "      <th></th>\n",
       "      <th>address</th>\n",
       "      <th>TxHash</th>\n",
       "      <th>TxIx</th>\n",
       "      <th>lovelace</th>\n",
       "      <th>TokenPolicyId</th>\n",
       "      <th>TokenNameHex</th>\n",
       "      <th>TokenNameAscii</th>\n",
       "      <th>TokenAmount</th>\n",
       "      <th>datumhash</th>\n",
       "    </tr>\n",
       "  </thead>\n",
       "  <tbody>\n",
       "    <tr>\n",
       "      <th>0</th>\n",
       "      <td>addr_test1vpha99j2s5slc5q26d884rhc3jzuxqex5javsak5enlg8wsel4z2t</td>\n",
       "      <td>7cbef19b7c372a9b2ac2bc376f5564ffb84f291230c92c881a0083f18705dadb</td>\n",
       "      <td>0</td>\n",
       "      <td>490451577</td>\n",
       "      <td>NaN</td>\n",
       "      <td>NaN</td>\n",
       "      <td>None</td>\n",
       "      <td>0</td>\n",
       "      <td>NaN</td>\n",
       "    </tr>\n",
       "    <tr>\n",
       "      <th>1</th>\n",
       "      <td>addr_test1vpha99j2s5slc5q26d884rhc3jzuxqex5javsak5enlg8wsel4z2t</td>\n",
       "      <td>4c7f8ff0c3da6143147f2da4a3fccd30dee8dc4b71c0a74ee272557a1ec2ea17</td>\n",
       "      <td>1</td>\n",
       "      <td>3000000</td>\n",
       "      <td>6f4f37e5c163a2f77935f395434c49bc4de8d1894a3bd80ac239a508</td>\n",
       "      <td>506172747931</td>\n",
       "      <td>Party1</td>\n",
       "      <td>1</td>\n",
       "      <td>NaN</td>\n",
       "    </tr>\n",
       "    <tr>\n",
       "      <th>2</th>\n",
       "      <td>addr_test1vzn7ef2cx8h5y4jvxnn34pn3lzak5t537fx09j7zxdljs3gc5zgw6</td>\n",
       "      <td>4c7f8ff0c3da6143147f2da4a3fccd30dee8dc4b71c0a74ee272557a1ec2ea17</td>\n",
       "      <td>2</td>\n",
       "      <td>3000000</td>\n",
       "      <td>6f4f37e5c163a2f77935f395434c49bc4de8d1894a3bd80ac239a508</td>\n",
       "      <td>506172747932</td>\n",
       "      <td>Party2</td>\n",
       "      <td>1</td>\n",
       "      <td>NaN</td>\n",
       "    </tr>\n",
       "    <tr>\n",
       "      <th>3</th>\n",
       "      <td>addr_test1vzn7ef2cx8h5y4jvxnn34pn3lzak5t537fx09j7zxdljs3gc5zgw6</td>\n",
       "      <td>ed62a729c96269053eef4aa5e4fabf9f6f85b7bb56f49481142ffcbe5f72aa33</td>\n",
       "      <td>3</td>\n",
       "      <td>500000000</td>\n",
       "      <td>NaN</td>\n",
       "      <td>NaN</td>\n",
       "      <td>None</td>\n",
       "      <td>0</td>\n",
       "      <td>NaN</td>\n",
       "    </tr>\n",
       "  </tbody>\n",
       "</table>\n",
       "</div>"
      ],
      "text/plain": [
       "                                                           address  \\\n",
       "0  addr_test1vpha99j2s5slc5q26d884rhc3jzuxqex5javsak5enlg8wsel4z2t   \n",
       "1  addr_test1vpha99j2s5slc5q26d884rhc3jzuxqex5javsak5enlg8wsel4z2t   \n",
       "2  addr_test1vzn7ef2cx8h5y4jvxnn34pn3lzak5t537fx09j7zxdljs3gc5zgw6   \n",
       "3  addr_test1vzn7ef2cx8h5y4jvxnn34pn3lzak5t537fx09j7zxdljs3gc5zgw6   \n",
       "\n",
       "                                                             TxHash  TxIx  \\\n",
       "0  7cbef19b7c372a9b2ac2bc376f5564ffb84f291230c92c881a0083f18705dadb     0   \n",
       "1  4c7f8ff0c3da6143147f2da4a3fccd30dee8dc4b71c0a74ee272557a1ec2ea17     1   \n",
       "2  4c7f8ff0c3da6143147f2da4a3fccd30dee8dc4b71c0a74ee272557a1ec2ea17     2   \n",
       "3  ed62a729c96269053eef4aa5e4fabf9f6f85b7bb56f49481142ffcbe5f72aa33     3   \n",
       "\n",
       "    lovelace                                             TokenPolicyId  \\\n",
       "0  490451577                                                       NaN   \n",
       "1    3000000  6f4f37e5c163a2f77935f395434c49bc4de8d1894a3bd80ac239a508   \n",
       "2    3000000  6f4f37e5c163a2f77935f395434c49bc4de8d1894a3bd80ac239a508   \n",
       "3  500000000                                                       NaN   \n",
       "\n",
       "   TokenNameHex TokenNameAscii  TokenAmount  datumhash  \n",
       "0           NaN           None            0        NaN  \n",
       "1  506172747931         Party1            1        NaN  \n",
       "2  506172747932         Party2            1        NaN  \n",
       "3           NaN           None            0        NaN  "
      ]
     },
     "execution_count": 519,
     "metadata": {},
     "output_type": "execute_result"
    }
   ],
   "source": [
    "# check wallet1 and wallet2\n",
    "pd.concat([query_df(PARTY1_ADDRESS), query_df(PARTY2_ADDRESS)]).reset_index(drop=True)"
   ]
  },
  {
   "cell_type": "code",
   "execution_count": 44,
   "id": "7940b67c",
   "metadata": {},
   "outputs": [],
   "source": [
    "TX0_IN = \"e595b9fc55e0df7f8e0b8522628b8150e37cf249b4265e651e089cbf150ef3ea\""
   ]
  },
  {
   "cell_type": "markdown",
   "id": "d4643684-0662-4c9d-8e3e-9276f5b88ce1",
   "metadata": {},
   "source": [
    "### distribute\n",
    "send the two tokens created with wallet 1 out to each participant in one transaction.  \n",
    "wallet 1 must receive 'Party1' token and some minimum currency (3 tADA),  \n",
    "wallet 2 must receive 'Party2' token and some minimum currency (3 tADA).  \n",
    "\n",
    "Alternatively, one can distribute the tokens using any wallet software like Daedalus as well."
   ]
  },
  {
   "cell_type": "markdown",
   "id": "a950ea1c-8992-420d-b358-88bdd76588ad",
   "metadata": {},
   "source": [
    "```text\n",
    "marlowe-cli transaction simple:\n",
    "\n",
    "  --testnet-magic INTEGER         Network magic\n",
    "  --socket-path SOCKET_FILE       Location of the cardano-node socket file\n",
    "  --required-signer SIGNING_FILE  File containing a required signing key\n",
    "  --tx-in TXID#TXIX               Transaction input in TxId#TxIx format\n",
    "  --tx-out ADDRESS+VALUE          Transaction output in ADDRESS+VALUE format\n",
    "  --change-address                ADDRESS Address to receive ADA in excess of fee\n",
    "  --metadata-file METADATA_FILE   JSON file containing metadata\n",
    "  --out-file FILE                 Output file for transaction body\n",
    "  --submit SECONDS                Also submit the transaction, and wait for confirmation\n",
    "  --print-stats                   Print statistics\n",
    "  --script-invalid                Assert that the transaction is invalid\n",
    "```"
   ]
  },
  {
   "cell_type": "code",
   "execution_count": 337,
   "id": "ced7b4b1",
   "metadata": {},
   "outputs": [
    {
     "name": "stdout",
     "output_type": "stream",
     "text": [
      "TxId \"4c7f8ff0c3da6143147f2da4a3fccd30dee8dc4b71c0a74ee272557a1ec2ea17\"\n",
      "\n",
      "\n"
     ]
    }
   ],
   "source": [
    "# distribute the tokens that were minted on wallet1 around all wallets.\n",
    "\n",
    "cmd = [marloweCLI, \"transaction\", \"simple\",  # Build a non-Marlowe transaction\n",
    "       \"--testnet-magic\", MAGIC,             # '1567'\n",
    "       \"--socket-path\", SOCKET,              # '/tmp/node.socket'\n",
    "       \"--required-signer\", PARTY1_SKEYFILE, # 'wallet1.skey'\n",
    "       \"--change-address\", PARTY1_ADDRESS,   # 'addr_test1vppqe9wxg73zfll8yj2v3xg44k8pgnl0k4899pv3r3r2h2qlgsg4t'\n",
    "       \"--tx-in\", TX0_IN+\"#0\",               # 'ddba65eeff7e4b3e0a85001a1316be04e60b739f239c05e4c0d206c7694b8d06#0'\n",
    "       \"--tx-in\", TX0_IN+\"#1\",               # 'ddba65eeff7e4b3e0a85001a1316be04e60b739f239c05e4c0d206c7694b8d06#1'\n",
    "       \"--tx-in\", TX0_IN+\"#2\",               # 'ddba65eeff7e4b3e0a85001a1316be04e60b739f239c05e4c0d206c7694b8d06#2'\n",
    "       \"--tx-out\", PARTY1_ADDRESS+\"+\"+str(MINIMUM_ADA)+\"+\"+str(1)+\" \"+TOKEN_POLICY_ID+\".\"+PARTY1_TOKENASSETNAME,\n",
    "       # 'addr_test1vppqe9wxg73zfll8yj2v3xg44k8pgnl0k4899pv3r3r2h2qlgsg4t+3000000+1 0b8ffef9a24d8dcdcd7618d74df4753aff6b6b7787b88ac69b4d7e43.Party1'\n",
    "       \"--tx-out\", PARTY2_ADDRESS+\"+\"+str(MINIMUM_ADA)+\"+\"+str(1)+\" \"+TOKEN_POLICY_ID+\".\"+PARTY2_TOKENASSETNAME,\n",
    "       # 'addr_test1vrfhx0w0fy9aad9kskezy5znpmey0h335gcjen2pp4gjj2s2ax92x+3000000+1 0b8ffef9a24d8dcdcd7618d74df4753aff6b6b7787b88ac69b4d7e43.Party2'\n",
    "       \"--out-file\", \"/dev/null\",            # '/dev/null'\n",
    "       \"--submit\", str(600)]                 # '600'\n",
    "result = subprocess.run(cmd, capture_output=True, text=True)\n",
    "print(result.stdout)\n",
    "print(result.stderr)"
   ]
  },
  {
   "cell_type": "code",
   "execution_count": 338,
   "id": "5c614115",
   "metadata": {},
   "outputs": [
    {
     "data": {
      "text/plain": [
       "'4c7f8ff0c3da6143147f2da4a3fccd30dee8dc4b71c0a74ee272557a1ec2ea17'"
      ]
     },
     "execution_count": 338,
     "metadata": {},
     "output_type": "execute_result"
    }
   ],
   "source": [
    "# save the transaction id\n",
    "TX1_IN = result.stdout.split('\"')[1]\n",
    "TX1_IN"
   ]
  },
  {
   "cell_type": "markdown",
   "id": "c68b533e",
   "metadata": {},
   "source": [
    "#### Check that the funds are distributed correctly\n",
    "Notice that both wallets now have a common TxHash value.  "
   ]
  },
  {
   "cell_type": "code",
   "execution_count": 520,
   "id": "8f08aa4a",
   "metadata": {},
   "outputs": [
    {
     "data": {
      "text/html": [
       "<div>\n",
       "<style scoped>\n",
       "    .dataframe tbody tr th:only-of-type {\n",
       "        vertical-align: middle;\n",
       "    }\n",
       "\n",
       "    .dataframe tbody tr th {\n",
       "        vertical-align: top;\n",
       "    }\n",
       "\n",
       "    .dataframe thead th {\n",
       "        text-align: right;\n",
       "    }\n",
       "</style>\n",
       "<table border=\"1\" class=\"dataframe\">\n",
       "  <thead>\n",
       "    <tr style=\"text-align: right;\">\n",
       "      <th></th>\n",
       "      <th>address</th>\n",
       "      <th>TxHash</th>\n",
       "      <th>TxIx</th>\n",
       "      <th>lovelace</th>\n",
       "      <th>TokenPolicyId</th>\n",
       "      <th>TokenNameHex</th>\n",
       "      <th>TokenNameAscii</th>\n",
       "      <th>TokenAmount</th>\n",
       "      <th>datumhash</th>\n",
       "    </tr>\n",
       "  </thead>\n",
       "  <tbody>\n",
       "    <tr>\n",
       "      <th>0</th>\n",
       "      <td>addr_test1vpha99j2s5slc5q26d884rhc3jzuxqex5javsak5enlg8wsel4z2t</td>\n",
       "      <td>7cbef19b7c372a9b2ac2bc376f5564ffb84f291230c92c881a0083f18705dadb</td>\n",
       "      <td>0</td>\n",
       "      <td>490451577</td>\n",
       "      <td>NaN</td>\n",
       "      <td>NaN</td>\n",
       "      <td>None</td>\n",
       "      <td>0</td>\n",
       "      <td>NaN</td>\n",
       "    </tr>\n",
       "    <tr>\n",
       "      <th>1</th>\n",
       "      <td>addr_test1vpha99j2s5slc5q26d884rhc3jzuxqex5javsak5enlg8wsel4z2t</td>\n",
       "      <td>4c7f8ff0c3da6143147f2da4a3fccd30dee8dc4b71c0a74ee272557a1ec2ea17</td>\n",
       "      <td>1</td>\n",
       "      <td>3000000</td>\n",
       "      <td>6f4f37e5c163a2f77935f395434c49bc4de8d1894a3bd80ac239a508</td>\n",
       "      <td>506172747931</td>\n",
       "      <td>Party1</td>\n",
       "      <td>1</td>\n",
       "      <td>NaN</td>\n",
       "    </tr>\n",
       "    <tr>\n",
       "      <th>2</th>\n",
       "      <td>addr_test1vzn7ef2cx8h5y4jvxnn34pn3lzak5t537fx09j7zxdljs3gc5zgw6</td>\n",
       "      <td>4c7f8ff0c3da6143147f2da4a3fccd30dee8dc4b71c0a74ee272557a1ec2ea17</td>\n",
       "      <td>2</td>\n",
       "      <td>3000000</td>\n",
       "      <td>6f4f37e5c163a2f77935f395434c49bc4de8d1894a3bd80ac239a508</td>\n",
       "      <td>506172747932</td>\n",
       "      <td>Party2</td>\n",
       "      <td>1</td>\n",
       "      <td>NaN</td>\n",
       "    </tr>\n",
       "    <tr>\n",
       "      <th>3</th>\n",
       "      <td>addr_test1vzn7ef2cx8h5y4jvxnn34pn3lzak5t537fx09j7zxdljs3gc5zgw6</td>\n",
       "      <td>ed62a729c96269053eef4aa5e4fabf9f6f85b7bb56f49481142ffcbe5f72aa33</td>\n",
       "      <td>3</td>\n",
       "      <td>500000000</td>\n",
       "      <td>NaN</td>\n",
       "      <td>NaN</td>\n",
       "      <td>None</td>\n",
       "      <td>0</td>\n",
       "      <td>NaN</td>\n",
       "    </tr>\n",
       "  </tbody>\n",
       "</table>\n",
       "</div>"
      ],
      "text/plain": [
       "                                                           address  \\\n",
       "0  addr_test1vpha99j2s5slc5q26d884rhc3jzuxqex5javsak5enlg8wsel4z2t   \n",
       "1  addr_test1vpha99j2s5slc5q26d884rhc3jzuxqex5javsak5enlg8wsel4z2t   \n",
       "2  addr_test1vzn7ef2cx8h5y4jvxnn34pn3lzak5t537fx09j7zxdljs3gc5zgw6   \n",
       "3  addr_test1vzn7ef2cx8h5y4jvxnn34pn3lzak5t537fx09j7zxdljs3gc5zgw6   \n",
       "\n",
       "                                                             TxHash  TxIx  \\\n",
       "0  7cbef19b7c372a9b2ac2bc376f5564ffb84f291230c92c881a0083f18705dadb     0   \n",
       "1  4c7f8ff0c3da6143147f2da4a3fccd30dee8dc4b71c0a74ee272557a1ec2ea17     1   \n",
       "2  4c7f8ff0c3da6143147f2da4a3fccd30dee8dc4b71c0a74ee272557a1ec2ea17     2   \n",
       "3  ed62a729c96269053eef4aa5e4fabf9f6f85b7bb56f49481142ffcbe5f72aa33     3   \n",
       "\n",
       "    lovelace                                             TokenPolicyId  \\\n",
       "0  490451577                                                       NaN   \n",
       "1    3000000  6f4f37e5c163a2f77935f395434c49bc4de8d1894a3bd80ac239a508   \n",
       "2    3000000  6f4f37e5c163a2f77935f395434c49bc4de8d1894a3bd80ac239a508   \n",
       "3  500000000                                                       NaN   \n",
       "\n",
       "   TokenNameHex TokenNameAscii  TokenAmount  datumhash  \n",
       "0           NaN           None            0        NaN  \n",
       "1  506172747931         Party1            1        NaN  \n",
       "2  506172747932         Party2            1        NaN  \n",
       "3           NaN           None            0        NaN  "
      ]
     },
     "execution_count": 520,
     "metadata": {},
     "output_type": "execute_result"
    }
   ],
   "source": [
    "# check wallet1 and wallet2\n",
    "pd.concat([query_df(PARTY1_ADDRESS), query_df(PARTY2_ADDRESS)]).reset_index(drop=True)"
   ]
  },
  {
   "cell_type": "code",
   "execution_count": 340,
   "id": "537137ce",
   "metadata": {},
   "outputs": [],
   "source": [
    "TX1_PARTY1_ADA    = TX1_IN+\"#0\"\n",
    "TX1_PARTY1_TOKENS = TX1_IN+\"#1\"\n",
    "TX1_PARTY2_ADA    = \"ed62a729c96269053eef4aa5e4fabf9f6f85b7bb56f49481142ffcbe5f72aa33\"+\"#3\"\n",
    "TX1_PARTY2_TOKENS = TX1_IN+\"#2\""
   ]
  },
  {
   "cell_type": "markdown",
   "id": "9c0154b5-de37-4c92-a5fc-78b843f457d0",
   "metadata": {},
   "source": [
    "## Deployment"
   ]
  },
  {
   "cell_type": "markdown",
   "id": "6c2f31a8-cf53-47db-a43a-d91d6083c7bd",
   "metadata": {},
   "source": [
    "### initialize (step1)\n",
    "Generate the *.marlowe file with json files *.contract, *.state, Plutus data and network info.  \n",
    "Question: (not sure here) The wallet addresses of the smart contract are not yet created on the blockchain, but known now.  "
   ]
  },
  {
   "cell_type": "markdown",
   "id": "1aac4d84-32bd-4ade-9a15-201e5da2a06d",
   "metadata": {},
   "source": [
    "```text\n",
    "Initialize the first transaction of a Marlowe contract and write output to a JSON file *.marlowe\n",
    "\n",
    "marlowe-cli run initialize:\n",
    "\n",
    "  --testnet-magic INTEGER          Network magic\n",
    "  --socket-path SOCKET_FILE        Location of the cardano-node socket file\n",
    "  --stake-address ADDRESS          Stake address\n",
    "  --roles-currency CURRENCY_SYMBOL The currency symbol for roles\n",
    "  --contract-file CONTRACT_FILE    JSON input file for the contract\n",
    "  --state-file STATE_FILE          JSON input file for the contract state\n",
    "  --out-file OUTPUT_FILE           JSON output file for initialize\n",
    "  --print-stats                    Print statistics\n",
    "```"
   ]
  },
  {
   "cell_type": "code",
   "execution_count": 343,
   "id": "4e95e305",
   "metadata": {},
   "outputs": [
    {
     "name": "stdout",
     "output_type": "stream",
     "text": [
      "\n",
      "\n",
      "Validator size: 12415\n",
      "Base-validator cost: ExBudget {exBudgetCPU = ExCPU 24652144, exBudgetMemory = ExMemory 82900}\n",
      "\n"
     ]
    }
   ],
   "source": [
    "cmd = [marloweCLI, \"run\", \"initialize\",     # Initialize the first transaction of a Marlowe contract\n",
    "       \"--testnet-magic\", MAGIC,            # '1567'\n",
    "       \"--socket-path\", SOCKET,             # '/tmp/node.socket'\n",
    "       \"--roles-currency\", TOKEN_POLICY_ID, # '0b8ffef9a24d8dcdcd7618d74df4753aff6b6b7787b88ac69b4d7e43'\n",
    "       \"--contract-file\", \"tx-1.contract\",  # 'tx-1.contract'\n",
    "       \"--state-file\", \"tx-1.state\",        # 'tx-1.state'\n",
    "       \"--out-file\", \"tx-1.marlowe\",        # 'tx-1.marlowe'\n",
    "       \"--print-stats\"]\n",
    "result = subprocess.run(cmd, capture_output=True, text=True)\n",
    "print(result.stdout)\n",
    "print(result.stderr)"
   ]
  },
  {
   "cell_type": "code",
   "execution_count": 344,
   "id": "da001dfb",
   "metadata": {},
   "outputs": [
    {
     "name": "stdout",
     "output_type": "stream",
     "text": [
      "Thu Jul 21 19:21:32 CEST 2022\n",
      "-rw-rw-r-- 1 ubuntu ubuntu  1738 Jul 21 17:40 tx-1.contract\n",
      "-rw-rw-r-- 1 ubuntu ubuntu 34273 Jul 21 19:21 tx-1.marlowe\n",
      "-rw-rw-r-- 1 ubuntu ubuntu  1049 Jul 12 12:09 tx-1.raw\n",
      "-rw-rw-r-- 1 ubuntu ubuntu   166 Jul 21 17:40 tx-1.state\n"
     ]
    }
   ],
   "source": [
    "!date\n",
    "!ls -l tx-1*"
   ]
  },
  {
   "cell_type": "code",
   "execution_count": 345,
   "id": "016a4dec-8b55-4bad-b813-e5fbf3a16b5d",
   "metadata": {},
   "outputs": [
    {
     "name": "stdout",
     "output_type": "stream",
     "text": [
      "{\n",
      "    \"state\": {\n",
      "        \"choices\": [],\n",
      "        \"boundValues\": [],\n",
      "        \"accounts\": [\n",
      "            [\n",
      "                [\n",
      "                    {\n",
      "                        \"role_token\": \"Party1\"\n",
      "                    },\n",
      "                    {\n",
      "                        \"currency_symbol\": \"\",\n",
      "                        \"token_name\": \"\"\n",
      "                    }\n",
      "                ],\n",
      "                3000000\n",
      "            ]\n",
      "        ],\n",
      "        \"minTime\": 1\n",
      "    },\n",
      "    \"payments\": [],\n",
      "    \"contract\": {\n",
      "        \"timeout\": 1658454012000,\n",
      "        \"when\": [\n",
      "            {\n",
      "                \"then\": {\n",
      "                    \"timeout\": 1658454012000,\n",
      "                    \"when\": [\n",
      "                        {\n",
      "                            \"then\": {\n",
      "                                \"then\": {\n",
      "                                    \"then\": \"close\",\n",
      "                                    \"to\": {\n",
      "                                        \"party\": {\n",
      "                                            \"role_token\": \"Party1\"\n",
      "                                        }\n",
      "                                    },\n",
      "                                    \"from_account\": {\n",
      "                                        \"role_token\": \"Party2\"\n",
      "                                    },\n",
      "                                    \"pay\": 100000000,\n",
      "                                    \"token\": {\n",
      "                                        \"currency_symbol\": \"\",\n",
      "                                        \"token_name\": \"\"\n",
      "                                    }\n",
      "                                },\n",
      "                                \"to\": {\n",
      "                                    \"party\": {\n",
      "                                        \"role_token\": \"Party2\"\n",
      "                                    }\n",
      "                                },\n",
      "                                \"from_account\": {\n",
      "                                    \"role_token\": \"Party1\"\n",
      "                                },\n",
      "                                \"pay\": 200000000,\n",
      "                                \"token\": {\n",
      "                                    \"currency_symbol\": \"\",\n",
      "                                    \"token_name\": \"\"\n",
      "                                }\n",
      "                            },\n",
      "                            \"case\": {\n",
      "                                \"deposits\": 100000000,\n",
      "                                \"into_account\": {\n",
      "                                    \"role_token\": \"Party2\"\n",
      "                                },\n",
      "                                \"of_token\": {\n",
      "                                    \"currency_symbol\": \"\",\n",
      "                                    \"token_name\": \"\"\n",
      "                                },\n",
      "                                \"party\": {\n",
      "                                    \"role_token\": \"Party2\"\n",
      "                                }\n",
      "                            }\n",
      "                        }\n",
      "                    ],\n",
      "                    \"timeout_continuation\": \"close\"\n",
      "                },\n",
      "                \"case\": {\n",
      "                    \"deposits\": 200000000,\n",
      "                    \"into_account\": {\n",
      "                        \"role_token\": \"Party1\"\n",
      "                    },\n",
      "                    \"of_token\": {\n",
      "                        \"currency_symbol\": \"\",\n",
      "                        \"token_name\": \"\"\n",
      "                    },\n",
      "                    \"party\": {\n",
      "                        \"role_token\": \"Party1\"\n",
      "                    }\n",
      "                }\n",
      "            }\n",
      "        ],\n",
      "        \"timeout_continuation\": \"close\"\n",
      "    },\n",
      "    \"rolesValidator\": {\n",
      "        \"hash\": \"05c024f767cadaf9bab2564b596344048e448298c616a2fd2cfa6c6d\",\n",
      "        \"size\": 2469,\n",
      "        \"address\": \"addr_test1wqzuqf8hvl9d47d6kftykktrgszgu3yznrrpdgha9naxcmgr8le36\",\n",
      "        \"cost\": {\n",
      "            \"exBudgetMemory\": 14600,\n",
      "            \"exBudgetCPU\": 4317185\n",
      "        },\n",
      "        \"script\": {\n",
      "            \"type\": \"PlutusScriptV1\",\n",
      "            \"cborHex\": \"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\",\n",
      "            \"description\": \"\"\n",
      "        }\n",
      "    },\n",
      "    \"range\": null,\n",
      "    \"marloweValidator\": {\n",
      "        \"hash\": \"0585bb49e0fd52e0013f72521f3afe905e32055d42cf2ee1788913e2\",\n",
      "        \"size\": 12415,\n",
      "        \"address\": \"addr_test1wqzctw6fur749cqp8ae9y8e6l6g9uvs9t4pv7thp0zy38cssc9g3z\",\n",
      "        \"cost\": {\n",
      "            \"exBudgetMemory\": 82900,\n",
      "            \"exBudgetCPU\": 24652144\n",
      "        },\n",
      "        \"script\": {\n",
      "            \"type\": \"PlutusScriptV1\",\n",
      "            \"cborHex\": \"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\",\n",
      "            \"description\": \"\"\n",
      "        }\n",
      "    },\n",
      "    \"inputs\": [],\n",
      "    \"roles\": {\n",
      "        \"unCurrencySymbol\": \"6f4f37e5c163a2f77935f395434c49bc4de8d1894a3bd80ac239a508\"\n",
      "    },\n",
      "    \"slotConfig\": {\n",
      "        \"scSlotLength\": 1000,\n",
      "        \"scSlotZeroTime\": 1649949631000\n",
      "    }\n",
      "}"
     ]
    }
   ],
   "source": [
    "# show content of file \n",
    "!cat tx-1.marlowe"
   ]
  },
  {
   "cell_type": "markdown",
   "id": "7ef327a7-a519-47a2-a395-5e9f69a4259c",
   "metadata": {},
   "source": [
    "### initial deposit (step2)\n",
    "In the state file it was hard-coded to pay the initial deposit of 3 ADA,  \n",
    "in order for the contract to be activated/initialized.  \n",
    "A transaction fee will also be taken.  "
   ]
  },
  {
   "cell_type": "markdown",
   "id": "57e45c7f-574e-4b64-ab86-11dd4656ea6e",
   "metadata": {},
   "source": [
    "```text\n",
    "Run a Marlowe transaction\n",
    "\n",
    "marlowe-cli run execute:\n",
    "\n",
    "  --testnet-magic INTEGER          Network magic\n",
    "  --socket-path SOCKET_FILE        Location of the cardano-node socket file\n",
    "  --marlowe-in-file MARLOWE_FILE   JSON file with the Marlowe initial state and initial contract\n",
    "  --tx-in-marlowe TXID#TXIX        UTxO spent from Marlowe contract\n",
    "  --tx-in-collateral TXID#TXIX     Collateral for transaction\n",
    "  --marlowe-out-file MARLOWE_FILE  JSON file with the Marlowe inputs, final state, and final contract\n",
    "  --tx-in TXID#TXIX                Transaction input in TxId#TxIx format\n",
    "  --tx-out ADDRESS+VALUE           Transaction output in ADDRESS+VALUE format\n",
    "  --change-address ADDRESS         Address to receive ADA in excess of fee\n",
    "  --required-signer SIGNING_FILE   File containing a required signing key\n",
    "  --metadata-file METADATA_FILE    JSON file containing metadata\n",
    "  --out-file FILE                  Output file for transaction body\n",
    "  --submit SECONDS                 Also submit the transaction, and wait for confirmation\n",
    "  --print-stats                    Print statistics\n",
    "  --script-invalid                 Assert that the transaction is invalid\n",
    "```"
   ]
  },
  {
   "cell_type": "code",
   "execution_count": 346,
   "id": "1d717abd",
   "metadata": {},
   "outputs": [
    {
     "name": "stdout",
     "output_type": "stream",
     "text": [
      "TxId \"7cbef19b7c372a9b2ac2bc376f5564ffb84f291230c92c881a0083f18705dadb\"\n",
      "\n",
      "\n",
      "Fee: Lovelace 187545\n",
      "Size: 488 / 32768 = 1%\n",
      "Execution units:\n",
      "  Memory: 0 / 30000000 = 0%\n",
      "  Steps: 0 / 10000000000 = 0%\n",
      "\n"
     ]
    }
   ],
   "source": [
    "# Run a marlowe contract on the blockchain 'run execute'\n",
    "cmd = [marloweCLI, \"run\", \"execute\",          # Run a Marlowe transaction\n",
    "       \"--testnet-magic\", MAGIC,              # '1567'\n",
    "       \"--socket-path\", SOCKET,               # '/tmp/node.socket'\n",
    "       \"--tx-in\", TX1_PARTY1_ADA,             # '5906e4431fbd83cb9d16862ac7a4278ce707061af1d934f41f00abe2f7f150e9#0'\n",
    "       \"--change-address\", PARTY1_ADDRESS,    # 'addr_test1vppqe9wxg73zfll8yj2v3xg44k8pgnl0k4899pv3r3r2h2qlgsg4t'\n",
    "       \"--required-signer\", PARTY1_SKEYFILE,  # 'wallet1.skey'\n",
    "       \"--marlowe-out-file\", \"tx-1.marlowe\",  # 'tx-1.marlowe' JSON file with the Marlowe inputs, final state, and final contract\n",
    "       \"--out-file\", \"tx-1.raw\",              # 'tx-1.raw'\n",
    "       \"--print-stats\",\n",
    "       \"--submit\", str(600)]                  # '600'\n",
    "result = subprocess.run(cmd, capture_output=True, text=True)\n",
    "print(result.stdout)\n",
    "print(result.stderr)"
   ]
  },
  {
   "cell_type": "code",
   "execution_count": 347,
   "id": "cee41ae2-00b2-42fb-b96f-e87186600359",
   "metadata": {},
   "outputs": [
    {
     "data": {
      "text/plain": [
       "'7cbef19b7c372a9b2ac2bc376f5564ffb84f291230c92c881a0083f18705dadb'"
      ]
     },
     "execution_count": 347,
     "metadata": {},
     "output_type": "execute_result"
    }
   ],
   "source": [
    "# save the transaction id\n",
    "TX2_IN = result.stdout.split('\"')[1]\n",
    "TX2_IN"
   ]
  },
  {
   "cell_type": "markdown",
   "id": "df4051e6-6361-49ed-9bb3-858288671bd9",
   "metadata": {},
   "source": [
    "### prepare contract (stage1-2) "
   ]
  },
  {
   "cell_type": "markdown",
   "id": "b2bcb7e6-d58e-4001-a612-8f1e0ba1a394",
   "metadata": {},
   "source": [
    "```text\n",
    "Prepare the next step of a Marlowe contract and write the output to a JSON file\n",
    "\n",
    "marlowe-cli run prepare:\n",
    "\n",
    "  --marlowe-file MARLOWE_FILE     JSON input file for the Marlowe state and contract\n",
    "  --deposit-account PARTY         The account for the deposit\n",
    "  --deposit-party PARTY           The party making the deposit\n",
    "  --deposit-token TOKEN           The token being deposited, if not ADA\n",
    "  --deposit-amount INTEGER        The amount of token being deposited\n",
    "  --choice-name NAME              The name of the choice made\n",
    "  --choice-party PARTY            The party making the choice\n",
    "  --choice-number INTEGER         The number chosen\n",
    "  --notify                        Notify the contract\n",
    "  --invalid-before POSIX_TIME     Minimum time for the input, in POSIX milliseconds\n",
    "  --invalid-hereafter POSIX_TIME  Maximum time for the input, in POSIX milliseconds\n",
    "  --out-file OUTPUT_FILE          JSON output file for contract\n",
    "  --print-stats                   Print statistics\n",
    "```"
   ]
  },
  {
   "cell_type": "code",
   "execution_count": 352,
   "id": "a90a6338-9fd4-464e-8466-2a461f6e2d03",
   "metadata": {},
   "outputs": [],
   "source": [
    "# I wonder about the NOW+9*HOUR is nowhere written in the contract itself,\n",
    "# we need to further make a drawing explaining and testing what the effects and menings are of these deadlines and why we need them...\n",
    "# question: why is it not str(NOW+10*HOUR) ?\n",
    "# question: this is the hardcoding of the next stage script, right ?\n",
    "# question: is this invalid hereafter time something new, for let's say within this time the next wallet must respond or the contract ends ?"
   ]
  },
  {
   "cell_type": "code",
   "execution_count": 353,
   "id": "952ab4d2",
   "metadata": {},
   "outputs": [
    {
     "name": "stdout",
     "output_type": "stream",
     "text": [
      "\n",
      "\n",
      "Datum size: 202\n",
      "\n"
     ]
    }
   ],
   "source": [
    "# Simulate the operation of a contract\n",
    "cmd = [marloweCLI, \"run\", \"prepare\",                       # Prepare the next step\n",
    "       \"--marlowe-file\", \"tx-1.marlowe\",                   # 'tx-1.marlowe'\n",
    "       \"--deposit-account\", \"Role=\"+PARTY1_TOKENASSETNAME, # 'Role=Party1'\n",
    "       \"--deposit-party\", \"Role=\"+PARTY1_TOKENASSETNAME,   # 'Role=Party1'\n",
    "       \"--deposit-amount\", str(PARTY1_AMOUNT),             # '200000000'\n",
    "       \"--invalid-before\", str(NOW),                       # '1658239769000'\n",
    "       \"--invalid-hereafter\", str(NOW+9*HOUR),             # '1658272169000'\n",
    "       \"--out-file\", \"tx-2.marlowe\",                       # 'tx-2.marlowe'\n",
    "       \"--print-stats\"]\n",
    "result = subprocess.run(cmd, capture_output=True, text=True)\n",
    "print(result.stdout)\n",
    "print(result.stderr)"
   ]
  },
  {
   "cell_type": "markdown",
   "id": "86a3ecab-fe79-44b2-a4cf-2c79b4fa7547",
   "metadata": {},
   "source": [
    "### deposit 200 ADA (step3)"
   ]
  },
  {
   "cell_type": "code",
   "execution_count": 524,
   "id": "488898ea-6374-43bc-803a-2c34ba97b5e2",
   "metadata": {},
   "outputs": [
    {
     "name": "stdout",
     "output_type": "stream",
     "text": [
      "https://explorer.pioneers.testnet.marlowe-finance.io/en/address?address=addr_test1wqzctw6fur749cqp8ae9y8e6l6g9uvs9t4pv7thp0zy38cssc9g3z\n"
     ]
    },
    {
     "data": {
      "application/javascript": [
       "window.open(\"https://explorer.pioneers.testnet.marlowe-finance.io/en/address?address=addr_test1wqzctw6fur749cqp8ae9y8e6l6g9uvs9t4pv7thp0zy38cssc9g3z\");"
      ],
      "text/plain": [
       "<IPython.core.display.Javascript object>"
      ]
     },
     "metadata": {},
     "output_type": "display_data"
    }
   ],
   "source": [
    "# get the contract address from the smart contract script file\n",
    "marloweValidatorAddress = !jq -r .marloweValidator.address tx-1.marlowe\n",
    "\n",
    "# save the address\n",
    "CONTRACT_ADDRESS = marloweValidatorAddress[0]\n",
    "\n",
    "# weblink to the explorer\n",
    "print(\"https://explorer.pioneers.testnet.marlowe-finance.io/en/address?address=\"+str(CONTRACT_ADDRESS))\n",
    "\n",
    "# automatically open the weblink\n",
    "display(Javascript('window.open(\"{url}\");'.format(url=\"https://explorer.pioneers.testnet.marlowe-finance.io/en/address?address=\"+str(marloweValidatorAddress[0]))))"
   ]
  },
  {
   "cell_type": "code",
   "execution_count": 527,
   "id": "998b05f8-19b2-4e07-967d-6df407f52dfb",
   "metadata": {},
   "outputs": [
    {
     "name": "stdout",
     "output_type": "stream",
     "text": [
      "https://explorer.pioneers.testnet.marlowe-finance.io/en/address?address=addr_test1wqzuqf8hvl9d47d6kftykktrgszgu3yznrrpdgha9naxcmgr8le36\n"
     ]
    }
   ],
   "source": [
    "# get the redeem address from the smart contract script file\n",
    "marloweValidatorAddress = !jq -r '.rolesValidator.address' tx-1.marlowe\n",
    "\n",
    "# save the address\n",
    "REDEEM_ADDRESS = marloweValidatorAddress[0]\n",
    "\n",
    "# weblink to the explorer\n",
    "print(\"https://explorer.pioneers.testnet.marlowe-finance.io/en/address?address=\"+str(REDEEM_ADDRESS))"
   ]
  },
  {
   "cell_type": "code",
   "execution_count": 528,
   "id": "ed313bcd-57ba-48f7-935c-c701635cfc03",
   "metadata": {},
   "outputs": [
    {
     "name": "stdout",
     "output_type": "stream",
     "text": [
      "https://explorer.pioneers.testnet.marlowe-finance.io/en/address?address=addr_test1vpha99j2s5slc5q26d884rhc3jzuxqex5javsak5enlg8wsel4z2t\n"
     ]
    }
   ],
   "source": [
    "# weblink to the explorer for wallet 1\n",
    "print(\"https://explorer.pioneers.testnet.marlowe-finance.io/en/address?address=\"+str(PARTY1_ADDRESS))"
   ]
  },
  {
   "cell_type": "code",
   "execution_count": 529,
   "id": "99084234-66f4-4820-b99c-e86c84a56253",
   "metadata": {},
   "outputs": [
    {
     "name": "stdout",
     "output_type": "stream",
     "text": [
      "https://explorer.pioneers.testnet.marlowe-finance.io/en/address?address=addr_test1vpha99j2s5slc5q26d884rhc3jzuxqex5javsak5enlg8wsel4z2t\n"
     ]
    }
   ],
   "source": [
    "# weblink to the explorer for wallet 2\n",
    "print(\"https://explorer.pioneers.testnet.marlowe-finance.io/en/address?address=\"+str(PARTY1_ADDRESS))"
   ]
  },
  {
   "cell_type": "code",
   "execution_count": 530,
   "id": "43af2d93-aa97-4308-a876-9961a4645d31",
   "metadata": {},
   "outputs": [
    {
     "data": {
      "text/html": [
       "<div>\n",
       "<style scoped>\n",
       "    .dataframe tbody tr th:only-of-type {\n",
       "        vertical-align: middle;\n",
       "    }\n",
       "\n",
       "    .dataframe tbody tr th {\n",
       "        vertical-align: top;\n",
       "    }\n",
       "\n",
       "    .dataframe thead th {\n",
       "        text-align: right;\n",
       "    }\n",
       "</style>\n",
       "<table border=\"1\" class=\"dataframe\">\n",
       "  <thead>\n",
       "    <tr style=\"text-align: right;\">\n",
       "      <th></th>\n",
       "      <th>address</th>\n",
       "      <th>TxHash</th>\n",
       "      <th>TxIx</th>\n",
       "      <th>lovelace</th>\n",
       "      <th>TokenPolicyId</th>\n",
       "      <th>TokenNameHex</th>\n",
       "      <th>TokenNameAscii</th>\n",
       "      <th>TokenAmount</th>\n",
       "      <th>datumhash</th>\n",
       "    </tr>\n",
       "  </thead>\n",
       "  <tbody>\n",
       "    <tr>\n",
       "      <th>0</th>\n",
       "      <td>addr_test1vpha99j2s5slc5q26d884rhc3jzuxqex5javsak5enlg8wsel4z2t</td>\n",
       "      <td>7cbef19b7c372a9b2ac2bc376f5564ffb84f291230c92c881a0083f18705dadb</td>\n",
       "      <td>0</td>\n",
       "      <td>490451577</td>\n",
       "      <td>NaN</td>\n",
       "      <td>NaN</td>\n",
       "      <td>None</td>\n",
       "      <td>0</td>\n",
       "      <td>NaN</td>\n",
       "    </tr>\n",
       "    <tr>\n",
       "      <th>1</th>\n",
       "      <td>addr_test1vpha99j2s5slc5q26d884rhc3jzuxqex5javsak5enlg8wsel4z2t</td>\n",
       "      <td>4c7f8ff0c3da6143147f2da4a3fccd30dee8dc4b71c0a74ee272557a1ec2ea17</td>\n",
       "      <td>1</td>\n",
       "      <td>3000000</td>\n",
       "      <td>6f4f37e5c163a2f77935f395434c49bc4de8d1894a3bd80ac239a508</td>\n",
       "      <td>506172747931</td>\n",
       "      <td>Party1</td>\n",
       "      <td>1</td>\n",
       "      <td>NaN</td>\n",
       "    </tr>\n",
       "    <tr>\n",
       "      <th>2</th>\n",
       "      <td>addr_test1vzn7ef2cx8h5y4jvxnn34pn3lzak5t537fx09j7zxdljs3gc5zgw6</td>\n",
       "      <td>4c7f8ff0c3da6143147f2da4a3fccd30dee8dc4b71c0a74ee272557a1ec2ea17</td>\n",
       "      <td>2</td>\n",
       "      <td>3000000</td>\n",
       "      <td>6f4f37e5c163a2f77935f395434c49bc4de8d1894a3bd80ac239a508</td>\n",
       "      <td>506172747932</td>\n",
       "      <td>Party2</td>\n",
       "      <td>1</td>\n",
       "      <td>NaN</td>\n",
       "    </tr>\n",
       "    <tr>\n",
       "      <th>3</th>\n",
       "      <td>addr_test1vzn7ef2cx8h5y4jvxnn34pn3lzak5t537fx09j7zxdljs3gc5zgw6</td>\n",
       "      <td>ed62a729c96269053eef4aa5e4fabf9f6f85b7bb56f49481142ffcbe5f72aa33</td>\n",
       "      <td>3</td>\n",
       "      <td>500000000</td>\n",
       "      <td>NaN</td>\n",
       "      <td>NaN</td>\n",
       "      <td>None</td>\n",
       "      <td>0</td>\n",
       "      <td>NaN</td>\n",
       "    </tr>\n",
       "    <tr>\n",
       "      <th>4</th>\n",
       "      <td>addr_test1wqzctw6fur749cqp8ae9y8e6l6g9uvs9t4pv7thp0zy38cssc9g3z</td>\n",
       "      <td>7cbef19b7c372a9b2ac2bc376f5564ffb84f291230c92c881a0083f18705dadb</td>\n",
       "      <td>1</td>\n",
       "      <td>3000000</td>\n",
       "      <td>NaN</td>\n",
       "      <td>NaN</td>\n",
       "      <td>NaN</td>\n",
       "      <td>0</td>\n",
       "      <td>0e810f91611be5f0023233e5aa189dd099ad96d05437ffe0bc59a0f9a0137d64</td>\n",
       "    </tr>\n",
       "    <tr>\n",
       "      <th>5</th>\n",
       "      <td>addr_test1wqzuqf8hvl9d47d6kftykktrgszgu3yznrrpdgha9naxcmgr8le36</td>\n",
       "      <td>NaN</td>\n",
       "      <td>0</td>\n",
       "      <td>0</td>\n",
       "      <td>NaN</td>\n",
       "      <td>NaN</td>\n",
       "      <td>NaN</td>\n",
       "      <td>0</td>\n",
       "      <td>NaN</td>\n",
       "    </tr>\n",
       "  </tbody>\n",
       "</table>\n",
       "</div>"
      ],
      "text/plain": [
       "                                                           address  \\\n",
       "0  addr_test1vpha99j2s5slc5q26d884rhc3jzuxqex5javsak5enlg8wsel4z2t   \n",
       "1  addr_test1vpha99j2s5slc5q26d884rhc3jzuxqex5javsak5enlg8wsel4z2t   \n",
       "2  addr_test1vzn7ef2cx8h5y4jvxnn34pn3lzak5t537fx09j7zxdljs3gc5zgw6   \n",
       "3  addr_test1vzn7ef2cx8h5y4jvxnn34pn3lzak5t537fx09j7zxdljs3gc5zgw6   \n",
       "4  addr_test1wqzctw6fur749cqp8ae9y8e6l6g9uvs9t4pv7thp0zy38cssc9g3z   \n",
       "5  addr_test1wqzuqf8hvl9d47d6kftykktrgszgu3yznrrpdgha9naxcmgr8le36   \n",
       "\n",
       "                                                             TxHash  TxIx  \\\n",
       "0  7cbef19b7c372a9b2ac2bc376f5564ffb84f291230c92c881a0083f18705dadb     0   \n",
       "1  4c7f8ff0c3da6143147f2da4a3fccd30dee8dc4b71c0a74ee272557a1ec2ea17     1   \n",
       "2  4c7f8ff0c3da6143147f2da4a3fccd30dee8dc4b71c0a74ee272557a1ec2ea17     2   \n",
       "3  ed62a729c96269053eef4aa5e4fabf9f6f85b7bb56f49481142ffcbe5f72aa33     3   \n",
       "4  7cbef19b7c372a9b2ac2bc376f5564ffb84f291230c92c881a0083f18705dadb     1   \n",
       "5                                                               NaN     0   \n",
       "\n",
       "    lovelace                                             TokenPolicyId  \\\n",
       "0  490451577                                                       NaN   \n",
       "1    3000000  6f4f37e5c163a2f77935f395434c49bc4de8d1894a3bd80ac239a508   \n",
       "2    3000000  6f4f37e5c163a2f77935f395434c49bc4de8d1894a3bd80ac239a508   \n",
       "3  500000000                                                       NaN   \n",
       "4    3000000                                                       NaN   \n",
       "5          0                                                       NaN   \n",
       "\n",
       "   TokenNameHex TokenNameAscii  TokenAmount  \\\n",
       "0           NaN           None            0   \n",
       "1  506172747931         Party1            1   \n",
       "2  506172747932         Party2            1   \n",
       "3           NaN           None            0   \n",
       "4           NaN            NaN            0   \n",
       "5           NaN            NaN            0   \n",
       "\n",
       "                                                          datumhash  \n",
       "0                                                               NaN  \n",
       "1                                                               NaN  \n",
       "2                                                               NaN  \n",
       "3                                                               NaN  \n",
       "4  0e810f91611be5f0023233e5aa189dd099ad96d05437ffe0bc59a0f9a0137d64  \n",
       "5                                                               NaN  "
      ]
     },
     "execution_count": 530,
     "metadata": {},
     "output_type": "execute_result"
    }
   ],
   "source": [
    "# check wallet1, wallet2 and contract, redeem address\n",
    "pd.concat([query_df(PARTY1_ADDRESS), query_df(PARTY2_ADDRESS), query_df(CONTRACT_ADDRESS), query_df(REDEEM_ADDRESS)]).reset_index(drop=True)"
   ]
  },
  {
   "cell_type": "code",
   "execution_count": null,
   "id": "46032af9",
   "metadata": {},
   "outputs": [],
   "source": [
    "TX2_CONTRACT     = TX2_IN + \"#1\"\n",
    "TX2_PARTY1_ADA   = TX2_IN + \"#0\"\n",
    "TX2_PARTY1_TOKEN = TX1_IN + \"#1\"\n",
    "TX2_PARTY2_ADA   = \"09c3f748b27145d998b392058269cb4f8716f4ec6c5f97deeef6ad5ae409d44b\" + \"#3\"\n",
    "TX2_PARTY2_TOKEN = TX1_IN + \"#2\""
   ]
  },
  {
   "cell_type": "code",
   "execution_count": null,
   "id": "0955fec2",
   "metadata": {},
   "outputs": [],
   "source": [
    "cmd = [marloweCLI, \"run\", \"execute\",         # Run a Marlowe transaction\n",
    "       \"--testnet-magic\", MAGIC,             # '1567'\n",
    "       \"--socket-path\", SOCKET,              # '/tmp/node.socket'\n",
    "       \"--marlowe-in-file\", \"tx-1.marlowe\",  # 'tx-1.marlowe'\n",
    "       \"--tx-in-marlowe\", TX2_CONTRACT,      # 'f773c71f9b58dd95fd470aedd9df800838e841aef807102abcd87e3c881fd373#1'\n",
    "       \"--tx-in-collateral\", TX2_PARTY1_ADA, # 'f773c71f9b58dd95fd470aedd9df800838e841aef807102abcd87e3c881fd373#0'\n",
    "       \"--tx-in\", TX2_PARTY1_ADA,            # 'f773c71f9b58dd95fd470aedd9df800838e841aef807102abcd87e3c881fd373#0'\n",
    "       \"--tx-in\", TX2_PARTY1_TOKEN,          # '5906e4431fbd83cb9d16862ac7a4278ce707061af1d934f41f00abe2f7f150e9#1'\n",
    "       \"--change-address\", PARTY1_ADDRESS,   # 'addr_test1vppqe9wxg73zfll8yj2v3xg44k8pgnl0k4899pv3r3r2h2qlgsg4t'\n",
    "       \"--required-signer\", PARTY1_SKEYFILE, # 'wallet1.skey'\n",
    "       \"--marlowe-out-file\", \"tx-2.marlowe\", # 'tx-2.marlowe'\n",
    "       \"--tx-out\", PARTY1_ADDRESS+\"+\"+str(MINIMUM_ADA)+\"+\"+str(1)+\" \"+TOKEN_POLICY_ID+\".\"+PARTY1_TOKENASSETNAME,\n",
    "       # 'addr_test1vppqe9wxg73zfll8yj2v3xg44k8pgnl0k4899pv3r3r2h2qlgsg4t+3000000+1 0b8ffef9a24d8dcdcd7618d74df4753aff6b6b7787b88ac69b4d7e43.Party1'\n",
    "       \"--out-file\", \"tx-2.raw\",             # 'tx-2.raw'\n",
    "       \"--print-stats\",\n",
    "       \"--submit\", \"600\"]                    # '600'\n",
    "result = subprocess.run(cmd, capture_output=True, text=True)\n",
    "print(result.stdout)\n",
    "print(result.stderr)"
   ]
  },
  {
   "cell_type": "code",
   "execution_count": null,
   "id": "2dca3bf0",
   "metadata": {},
   "outputs": [],
   "source": [
    "TX3_IN = result.stdout.split('\"')[1]\n",
    "TX3_IN"
   ]
  },
  {
   "cell_type": "code",
   "execution_count": null,
   "id": "80ecfe4b-0d23-4133-bf77-e83d187cdaf6",
   "metadata": {},
   "outputs": [],
   "source": [
    "# check wallet1, wallet2 and contract, redeem address\n",
    "pd.concat([query_df(PARTY1_ADDRESS), query_df(PARTY2_ADDRESS), query_df(CONTRACT_ADDRESS), query_df(REDEEM_ADDRESS)]).reset_index(drop=True)"
   ]
  },
  {
   "cell_type": "code",
   "execution_count": null,
   "id": "977bc280",
   "metadata": {},
   "outputs": [],
   "source": [
    "TX3_CONTRACT     = TX3_IN + \"#1\"\n",
    "TX3_PARTY1_ADA   = TX3_IN + \"#0\"\n",
    "TX3_PARTY1_TOKEN = TX3_IN + \"#2\""
   ]
  },
  {
   "cell_type": "markdown",
   "id": "ab3e7e3a-549c-49c6-b175-aed57ba8029d",
   "metadata": {},
   "source": [
    "### prepare contract (stage2-3)"
   ]
  },
  {
   "cell_type": "code",
   "execution_count": null,
   "id": "0077420e",
   "metadata": {},
   "outputs": [],
   "source": [
    "cmd = [marloweCLI, \"run\", \"prepare\",                       # Prepare the next step\n",
    "       \"--marlowe-file\", \"tx-2.marlowe\",                   # 'tx-2.marlowe'\n",
    "       \"--deposit-account\", \"Role=\"+PARTY2_TOKENASSETNAME, # 'Party2'\n",
    "       \"--deposit-party\", \"Role=\"+PARTY2_TOKENASSETNAME,   # 'Party2'\n",
    "       \"--deposit-amount\", str(PARTY2_AMOUNT),             # '100000000'\n",
    "       \"--invalid-before\", str(NOW),                       # '1658239769000'\n",
    "       \"--invalid-hereafter\", str(NOW+9*HOUR),             # '1658272169000'\n",
    "       \"--out-file\", \"tx-3.marlowe\",                       # 'tx-3.marlowe'\n",
    "       \"--print-stats\"]\n",
    "result = subprocess.run(cmd, capture_output=True, text=True)\n",
    "print(result.stdout)\n",
    "print(result.stderr)"
   ]
  },
  {
   "cell_type": "markdown",
   "id": "6e650080-c18d-462d-88c1-205f16f29084",
   "metadata": {},
   "source": [
    "### deposit 100 ADA (step4)"
   ]
  },
  {
   "cell_type": "code",
   "execution_count": null,
   "id": "74675c8a-caa4-4155-93e1-fb2e9bc7c884",
   "metadata": {},
   "outputs": [],
   "source": [
    "# check wallet1, wallet2 and contract, redeem address\n",
    "pd.concat([query_df(PARTY1_ADDRESS), query_df(PARTY2_ADDRESS), query_df(CONTRACT_ADDRESS), query_df(REDEEM_ADDRESS)]).reset_index(drop=True)"
   ]
  },
  {
   "cell_type": "code",
   "execution_count": null,
   "id": "11c3be45",
   "metadata": {},
   "outputs": [],
   "source": [
    "# Run a marlowe contract on the blockchain 'run execute'\n",
    "cmd = [marloweCLI, \"run\", \"execute\", \n",
    "       \"--testnet-magic\", MAGIC,\n",
    "       \"--socket-path\", SOCKET,\n",
    "       \"--marlowe-in-file\", \"tx-2.marlowe\",\n",
    "       \"--tx-in-marlowe\", TX3_CONTRACT,\n",
    "       \"--tx-in-collateral\", TX2_PARTY2_ADA,\n",
    "       \"--tx-in\", TX2_PARTY2_ADA,\n",
    "       \"--tx-in\", TX2_PARTY2_TOKEN,\n",
    "       \"--change-address\", PARTY2_ADDRESS,\n",
    "       \"--required-signer\", PARTY2_SKEYFILE,\n",
    "       \"--marlowe-out-file\", \"tx-3.marlowe\",\n",
    "       \"--tx-out\", PARTY2_ADDRESS+\"+\"+str(MINIMUM_ADA)+\"+\"+str(1)+\" \"+TOKEN_POLICY_ID+\".\"+PARTY2_TOKENASSETNAME,\n",
    "       \"--out-file\", \"tx-3.raw\",\n",
    "       \"--print-stats\",\n",
    "       \"--submit\", \"600\"]\n",
    "result = subprocess.run(cmd, capture_output=True, text=True)\n",
    "print(result.stdout)\n",
    "print(result.stderr)"
   ]
  },
  {
   "cell_type": "code",
   "execution_count": null,
   "id": "3f4e8545",
   "metadata": {},
   "outputs": [],
   "source": [
    "TX4_IN = result.stdout.split('\"')[1]\n",
    "TX4_IN"
   ]
  },
  {
   "cell_type": "code",
   "execution_count": null,
   "id": "a0983a57-e240-43a3-b404-16123159ba13",
   "metadata": {},
   "outputs": [],
   "source": [
    "# check wallet1, wallet2 and contract, redeem address\n",
    "pd.concat([query_df(PARTY1_ADDRESS), query_df(PARTY2_ADDRESS), query_df(CONTRACT_ADDRESS), query_df(REDEEM_ADDRESS)]).reset_index(drop=True)"
   ]
  },
  {
   "cell_type": "code",
   "execution_count": null,
   "id": "c767ffd1",
   "metadata": {},
   "outputs": [],
   "source": [
    "TX_PARTY1_ADA   = TX3_IN + \"#0\"\n",
    "TX_PARTY1_TOKEN = TX3_IN + \"#2\"\n",
    "TX_PARTY2_ADA   = TX4_IN + \"#0\"\n",
    "TX_PARTY2_TOKEN = TX4_IN + \"#3\"\n",
    "print(TX_PARTY1_ADA, TX_PARTY1_ADA, TX_PARTY2_ADA, TX_PARTY2_TOKEN)"
   ]
  },
  {
   "cell_type": "markdown",
   "id": "dcc619ac-5efd-4a0e-89aa-893d6065149c",
   "metadata": {},
   "source": [
    "### withdraw (step5)"
   ]
  },
  {
   "cell_type": "code",
   "execution_count": null,
   "id": "df7e570c",
   "metadata": {},
   "outputs": [],
   "source": [
    "# tx-in-collateral is the wallet with funds from the PARTY_1_ROLE just some ADA for fee available to bre used for allowing a transaction to occur\n",
    "# tx-in is the original wallet with only ADA currency that needs to be consumed and replaced after a Transaction and is to allow for new funds to appear and change this storage of ADA\n",
    "# tx-in (second) is to allow for using the token for that is needed as defined in the contract to give permission using the token to do a transaction..."
   ]
  },
  {
   "cell_type": "code",
   "execution_count": null,
   "id": "b8cc9968",
   "metadata": {},
   "outputs": [],
   "source": [
    "cmd = [marloweCLI, \"run\", \"withdraw\", \n",
    "       \"--testnet-magic\", MAGIC,\n",
    "       \"--socket-path\", SOCKET,\n",
    "       \"--marlowe-file\", \"tx-3.marlowe\",      # last contract version\n",
    "       \"--role-name\", PARTY1_TOKENASSETNAME,\n",
    "       \"--tx-in-collateral\", TX_PARTY1_ADA,\n",
    "       \"--tx-in\", TX_PARTY1_ADA,\n",
    "       \"--tx-in\", TX_PARTY1_TOKEN,\n",
    "       \"--change-address\", PARTY1_ADDRESS,\n",
    "       \"--required-signer\", PARTY1_SKEYFILE,\n",
    "       \"--tx-out\", PARTY1_ADDRESS+\"+\"+str(MINIMUM_ADA)+\"+\"+str(1)+\" \"+TOKEN_POLICY_ID+\".\"+PARTY1_TOKENASSETNAME,   # needed against dos attack of 1000 calls\n",
    "       \"--out-file\", \"/dev/null\",\n",
    "       \"--print-stats\",\n",
    "       \"--submit\", str(600)]\n",
    "result = subprocess.run(cmd, capture_output=True, text=True)\n",
    "print(result.stdout)\n",
    "print(result.stderr)"
   ]
  },
  {
   "cell_type": "code",
   "execution_count": null,
   "id": "03aab9d3",
   "metadata": {},
   "outputs": [],
   "source": [
    "cmd = [marloweCLI, \"run\", \"withdraw\", \n",
    "       \"--testnet-magic\", MAGIC,\n",
    "       \"--socket-path\", SOCKET,\n",
    "       \"--marlowe-file\", \"tx-3.marlowe\",      # last contract version\n",
    "       \"--role-name\", PARTY2_TOKENASSETNAME,\n",
    "       \"--tx-in-collateral\", TX_PARTY2_ADA,\n",
    "       \"--tx-in\", TX_PARTY2_ADA,\n",
    "       \"--tx-in\", TX_PARTY2_TOKEN,\n",
    "       \"--change-address\", PARTY2_ADDRESS,\n",
    "       \"--required-signer\", PARTY2_SKEYFILE,\n",
    "       \"--tx-out\", PARTY2_ADDRESS+\"+\"+str(MINIMUM_ADA)+\"+\"+str(1)+\" \"+TOKEN_POLICY_ID+\".\"+PARTY2_TOKENASSETNAME,   # needed against dos attack of 1000 calls\n",
    "       \"--out-file\", \"/dev/null\",\n",
    "       \"--print-stats\",\n",
    "       \"--submit\", str(600)]\n",
    "result = subprocess.run(cmd, capture_output=True, text=True)\n",
    "print(result.stdout)\n",
    "print(result.stderr)"
   ]
  },
  {
   "cell_type": "code",
   "execution_count": null,
   "id": "8260d915-c800-487d-9e91-4df7155e8462",
   "metadata": {},
   "outputs": [],
   "source": [
    "# check wallet1, wallet2 and contract, redeem address\n",
    "pd.concat([query_df(PARTY1_ADDRESS), query_df(PARTY2_ADDRESS), query_df(CONTRACT_ADDRESS), query_df(REDEEM_ADDRESS)]).reset_index(drop=True)"
   ]
  },
  {
   "cell_type": "code",
   "execution_count": null,
   "id": "ab66e0c9",
   "metadata": {},
   "outputs": [],
   "source": [
    "# so now 100 ADA has been withdrawn or redeemed to the Party1\n",
    "# also the 3 ADA used for the script activation is returned to the initiator of the contract."
   ]
  },
  {
   "cell_type": "code",
   "execution_count": null,
   "id": "b69bd0f7-1f8a-4b95-b991-0af296e46d1d",
   "metadata": {},
   "outputs": [],
   "source": []
  },
  {
   "cell_type": "code",
   "execution_count": null,
   "id": "23bbf0e9-6e75-4110-9248-9a14ab339fed",
   "metadata": {},
   "outputs": [],
   "source": []
  },
  {
   "cell_type": "code",
   "execution_count": null,
   "id": "9ced360a-2984-48f9-a7a1-8db056cf5aca",
   "metadata": {},
   "outputs": [],
   "source": []
  },
  {
   "cell_type": "code",
   "execution_count": null,
   "id": "f0003197-1d03-461f-b395-6c0f3220d72a",
   "metadata": {},
   "outputs": [],
   "source": []
  },
  {
   "cell_type": "code",
   "execution_count": null,
   "id": "5deb9fd5-2642-46e7-be6c-3688be25a64c",
   "metadata": {},
   "outputs": [],
   "source": []
  },
  {
   "cell_type": "code",
   "execution_count": null,
   "id": "586d93d1-64e8-4bf2-b339-4385af5d42c5",
   "metadata": {},
   "outputs": [],
   "source": []
  },
  {
   "cell_type": "code",
   "execution_count": null,
   "id": "a50034d2-df76-45a2-8b38-1723280d278c",
   "metadata": {},
   "outputs": [],
   "source": []
  },
  {
   "cell_type": "code",
   "execution_count": null,
   "id": "2759915d-05cc-4dcd-bee8-6393644ef5c7",
   "metadata": {},
   "outputs": [],
   "source": []
  },
  {
   "cell_type": "code",
   "execution_count": null,
   "id": "4ac39626-827c-4dbf-9493-2223ee9be39c",
   "metadata": {},
   "outputs": [],
   "source": []
  },
  {
   "cell_type": "code",
   "execution_count": null,
   "id": "f20f236a-06a4-4a3f-b69f-76763e69d4d2",
   "metadata": {},
   "outputs": [],
   "source": []
  },
  {
   "cell_type": "code",
   "execution_count": null,
   "id": "64e20bea-e970-463a-835f-f74272a220a1",
   "metadata": {},
   "outputs": [],
   "source": []
  },
  {
   "cell_type": "markdown",
   "id": "fb38277a",
   "metadata": {},
   "source": [
    "### Function for Pandas Dataframe"
   ]
  },
  {
   "cell_type": "code",
   "execution_count": null,
   "id": "165ba07e",
   "metadata": {},
   "outputs": [],
   "source": []
  },
  {
   "cell_type": "code",
   "execution_count": null,
   "id": "548a3083",
   "metadata": {},
   "outputs": [],
   "source": [
    "cardanoCliDataframe(PARTY_1_ADDRESS, MAGIC, 'full')"
   ]
  },
  {
   "cell_type": "code",
   "execution_count": null,
   "id": "0f60b0e1",
   "metadata": {},
   "outputs": [],
   "source": [
    "cardanoCliDataframe(PARTY_1_ADDRESS, MAGIC)"
   ]
  },
  {
   "cell_type": "code",
   "execution_count": null,
   "id": "1b832a59",
   "metadata": {},
   "outputs": [],
   "source": [
    "# query the current balance:\n",
    "cmd = [cardanoCLI, \"query\", \"utxo\", \"--testnet-magic\", MAGIC, \"--address\", PARTY1_ADDRESS]\n",
    "result = subprocess.run(cmd, capture_output=True, text=True)\n",
    "print(result.stdout)"
   ]
  },
  {
   "cell_type": "code",
   "execution_count": null,
   "id": "9a906093-bc4c-43d4-9d31-72cdca9edc1e",
   "metadata": {},
   "outputs": [],
   "source": [
    "# query the current balance:\n",
    "cmd = [cardanoCLI, \"query\", \"utxo\", \"--testnet-magic\", MAGIC, \"--address\", PARTY2_ADDRESS]\n",
    "result = subprocess.run(cmd, capture_output=True, text=True)\n",
    "print(result.stdout)"
   ]
  },
  {
   "cell_type": "code",
   "execution_count": null,
   "id": "a3bb7b5b-e942-43de-a10a-236cee1edeb9",
   "metadata": {},
   "outputs": [],
   "source": [
    "# query the current balance:\n",
    "cmd = [cardanoCLI, \"query\", \"utxo\", \"--testnet-magic\", MAGIC, \"--address\", CONTRACT_ADDRESS]\n",
    "result = subprocess.run(cmd, capture_output=True, text=True)\n",
    "print(result.stdout)"
   ]
  },
  {
   "cell_type": "code",
   "execution_count": null,
   "id": "dafd1d47-6bb8-4a9c-92df-97d5cc350b8f",
   "metadata": {},
   "outputs": [],
   "source": [
    "# query the current balance:\n",
    "cmd = [cardanoCLI, \"query\", \"utxo\", \"--testnet-magic\", MAGIC, \"--address\", REDEEM_ADDRESS]\n",
    "result = subprocess.run(cmd, capture_output=True, text=True)\n",
    "print(result.stdout)"
   ]
  },
  {
   "cell_type": "code",
   "execution_count": null,
   "id": "10211085",
   "metadata": {},
   "outputs": [],
   "source": [
    "regex = re.compile(r'(\\S{64})\\s+(\\d+)\\s+(\\d{6,})\\s+(\\S+)\\s+[+]\\s+(.+)')"
   ]
  },
  {
   "cell_type": "code",
   "execution_count": null,
   "id": "b5e32034-f312-48c6-bcf5-a9161a295f74",
   "metadata": {},
   "outputs": [],
   "source": [
    "result.stdout"
   ]
  },
  {
   "cell_type": "code",
   "execution_count": null,
   "id": "7adecf09",
   "metadata": {},
   "outputs": [],
   "source": [
    "df = pd.DataFrame(regex.findall(result.stdout), columns=['TxHash', 'TxIx', 'AmountLovelace', 'Currency', 'tail'])\n",
    "df"
   ]
  },
  {
   "cell_type": "code",
   "execution_count": null,
   "id": "e76d181e-b388-416b-8a4a-6568802b1db2",
   "metadata": {},
   "outputs": [],
   "source": [
    "df.join(df['tail'].str.replace('.', ' ', regex=False).str.replace(' + ', ' ', regex=False).str.replace('\"', '', regex=False).str.split(' ', regex=False, expand=True), how='left')"
   ]
  },
  {
   "cell_type": "code",
   "execution_count": null,
   "id": "cc953459-84b9-45a1-927d-2d307bf86bca",
   "metadata": {},
   "outputs": [],
   "source": [
    "df['tail'].iloc[2] = 'TxOutDatumHash ScriptDataInAlonzoEra \"e13945ede9a5b560e25c175068ce0b955402ec7558090fbf510d7470d840e89f\"'"
   ]
  },
  {
   "cell_type": "code",
   "execution_count": null,
   "id": "1d32176c-35d6-41ac-b1ce-f34494a74c69",
   "metadata": {},
   "outputs": [],
   "source": [
    "df"
   ]
  },
  {
   "cell_type": "code",
   "execution_count": null,
   "id": "76d690df-7b99-454b-a613-aa04f2c12e53",
   "metadata": {},
   "outputs": [],
   "source": [
    "df.join(df['tail'].str.replace('.', ' ', regex=False).str.replace(' + ', ' ', regex=False).str.replace('\"', '', regex=False).str.split(' ', regex=False, expand=True), how='left')"
   ]
  },
  {
   "cell_type": "code",
   "execution_count": null,
   "id": "de7ab4ff",
   "metadata": {},
   "outputs": [],
   "source": [
    "df = df.join(df['tail'].str.replace('.', ' ', regex=False).str.replace(' + ', ' ', regex=False).str.replace('\"', '', regex=False).str.split(' ', regex=False, expand=True), how='left')\n",
    "df"
   ]
  },
  {
   "cell_type": "code",
   "execution_count": null,
   "id": "64c8ed57",
   "metadata": {},
   "outputs": [],
   "source": [
    "df.columns = ['TxHash', 'TxIx', 'AmountLovelace', 'Currency', 'tail', 'TokenAmount', 'TokenPolicyId', 'TokenAssetNameHex', 'TxOut']\n",
    "df"
   ]
  },
  {
   "cell_type": "code",
   "execution_count": null,
   "id": "75f2a93a",
   "metadata": {},
   "outputs": [],
   "source": [
    "df = df.drop(['tail', 'TxOut'], axis=1)\n",
    "df"
   ]
  },
  {
   "cell_type": "code",
   "execution_count": null,
   "id": "c45ec816",
   "metadata": {},
   "outputs": [],
   "source": [
    "df = df.replace({'TokenAmount':{'TxOutDatumNone': 0}})"
   ]
  },
  {
   "cell_type": "code",
   "execution_count": null,
   "id": "401ef096",
   "metadata": {},
   "outputs": [],
   "source": [
    "def hex_to_ascii(s):\n",
    "    try:\n",
    "        return bytearray.fromhex(s).decode()\n",
    "    except ValueError:\n",
    "        return None"
   ]
  },
  {
   "cell_type": "code",
   "execution_count": null,
   "id": "e3c298a3",
   "metadata": {},
   "outputs": [],
   "source": [
    "df['TokenAssetNameAscii'] = df['TokenAssetNameHex'].astype('str').apply(hex_to_ascii)"
   ]
  },
  {
   "cell_type": "code",
   "execution_count": null,
   "id": "47f011eb",
   "metadata": {},
   "outputs": [],
   "source": [
    "df['TxHashSmall'] = df['TxHash'].str[-4::1] # get last 4 characters"
   ]
  },
  {
   "cell_type": "code",
   "execution_count": null,
   "id": "a66e6f9c",
   "metadata": {},
   "outputs": [],
   "source": [
    "df['TokenPolicyIdSmall'] = df['TokenPolicyId'].str[-4::1] # get last 4 characters"
   ]
  },
  {
   "cell_type": "code",
   "execution_count": null,
   "id": "692fb34d",
   "metadata": {},
   "outputs": [],
   "source": [
    "df['AmountAda'] = df['AmountLovelace'].astype(float)/1000000"
   ]
  },
  {
   "cell_type": "code",
   "execution_count": null,
   "id": "548f9df8",
   "metadata": {},
   "outputs": [],
   "source": [
    "df[['TxHashSmall', 'TxIx', 'AmountAda', 'TokenAmount', 'TokenPolicyIdSmall']]"
   ]
  },
  {
   "cell_type": "code",
   "execution_count": null,
   "id": "02ec4338",
   "metadata": {},
   "outputs": [],
   "source": [
    "df"
   ]
  },
  {
   "cell_type": "code",
   "execution_count": null,
   "id": "491b20db",
   "metadata": {},
   "outputs": [],
   "source": [
    "'TokenPolicyId', 'TokenAssetNameHex', 'TokenAssetNameAscii'"
   ]
  },
  {
   "cell_type": "code",
   "execution_count": null,
   "id": "6d4c4445",
   "metadata": {},
   "outputs": [],
   "source": []
  },
  {
   "cell_type": "code",
   "execution_count": 513,
   "id": "a92f445d-959b-43c1-b36e-f8809cfeb20b",
   "metadata": {},
   "outputs": [
    {
     "data": {
      "text/html": [
       "<div>\n",
       "<style scoped>\n",
       "    .dataframe tbody tr th:only-of-type {\n",
       "        vertical-align: middle;\n",
       "    }\n",
       "\n",
       "    .dataframe tbody tr th {\n",
       "        vertical-align: top;\n",
       "    }\n",
       "\n",
       "    .dataframe thead th {\n",
       "        text-align: right;\n",
       "    }\n",
       "</style>\n",
       "<table border=\"1\" class=\"dataframe\">\n",
       "  <thead>\n",
       "    <tr style=\"text-align: right;\">\n",
       "      <th></th>\n",
       "      <th>address</th>\n",
       "      <th>TxHash</th>\n",
       "      <th>TxIx</th>\n",
       "      <th>lovelace</th>\n",
       "      <th>TokenPolicyId</th>\n",
       "      <th>TokenNameHex</th>\n",
       "      <th>TokenNameAscii</th>\n",
       "      <th>TokenAmount</th>\n",
       "      <th>datumhash</th>\n",
       "    </tr>\n",
       "  </thead>\n",
       "  <tbody>\n",
       "    <tr>\n",
       "      <th>0</th>\n",
       "      <td>addr_test1vpha99j2s5slc5q26d884rhc3jzuxqex5javsak5enlg8wsel4z2t</td>\n",
       "      <td>7cbef19b7c372a9b2ac2bc376f5564ffb84f291230c92c881a0083f18705dadb</td>\n",
       "      <td>0</td>\n",
       "      <td>490451577</td>\n",
       "      <td>NaN</td>\n",
       "      <td>NaN</td>\n",
       "      <td>None</td>\n",
       "      <td>0</td>\n",
       "      <td>NaN</td>\n",
       "    </tr>\n",
       "    <tr>\n",
       "      <th>1</th>\n",
       "      <td>addr_test1vpha99j2s5slc5q26d884rhc3jzuxqex5javsak5enlg8wsel4z2t</td>\n",
       "      <td>4c7f8ff0c3da6143147f2da4a3fccd30dee8dc4b71c0a74ee272557a1ec2ea17</td>\n",
       "      <td>1</td>\n",
       "      <td>3000000</td>\n",
       "      <td>6f4f37e5c163a2f77935f395434c49bc4de8d1894a3bd80ac239a508</td>\n",
       "      <td>506172747931</td>\n",
       "      <td>Party1</td>\n",
       "      <td>1</td>\n",
       "      <td>NaN</td>\n",
       "    </tr>\n",
       "    <tr>\n",
       "      <th>0</th>\n",
       "      <td>addr_test1vzn7ef2cx8h5y4jvxnn34pn3lzak5t537fx09j7zxdljs3gc5zgw6</td>\n",
       "      <td>4c7f8ff0c3da6143147f2da4a3fccd30dee8dc4b71c0a74ee272557a1ec2ea17</td>\n",
       "      <td>2</td>\n",
       "      <td>3000000</td>\n",
       "      <td>6f4f37e5c163a2f77935f395434c49bc4de8d1894a3bd80ac239a508</td>\n",
       "      <td>506172747932</td>\n",
       "      <td>Party2</td>\n",
       "      <td>1</td>\n",
       "      <td>NaN</td>\n",
       "    </tr>\n",
       "    <tr>\n",
       "      <th>1</th>\n",
       "      <td>addr_test1vzn7ef2cx8h5y4jvxnn34pn3lzak5t537fx09j7zxdljs3gc5zgw6</td>\n",
       "      <td>ed62a729c96269053eef4aa5e4fabf9f6f85b7bb56f49481142ffcbe5f72aa33</td>\n",
       "      <td>3</td>\n",
       "      <td>500000000</td>\n",
       "      <td>NaN</td>\n",
       "      <td>NaN</td>\n",
       "      <td>None</td>\n",
       "      <td>0</td>\n",
       "      <td>NaN</td>\n",
       "    </tr>\n",
       "    <tr>\n",
       "      <th>0</th>\n",
       "      <td>addr_test1wqzctw6fur749cqp8ae9y8e6l6g9uvs9t4pv7thp0zy38cssc9g3z</td>\n",
       "      <td>7cbef19b7c372a9b2ac2bc376f5564ffb84f291230c92c881a0083f18705dadb</td>\n",
       "      <td>1</td>\n",
       "      <td>3000000</td>\n",
       "      <td>NaN</td>\n",
       "      <td>NaN</td>\n",
       "      <td>NaN</td>\n",
       "      <td>0</td>\n",
       "      <td>0e810f91611be5f0023233e5aa189dd099ad96d05437ffe0bc59a0f9a0137d64</td>\n",
       "    </tr>\n",
       "    <tr>\n",
       "      <th>0</th>\n",
       "      <td>addr_test1wqzuqf8hvl9d47d6kftykktrgszgu3yznrrpdgha9naxcmgr8le36</td>\n",
       "      <td>NaN</td>\n",
       "      <td>0</td>\n",
       "      <td>0</td>\n",
       "      <td>NaN</td>\n",
       "      <td>NaN</td>\n",
       "      <td>NaN</td>\n",
       "      <td>0</td>\n",
       "      <td>NaN</td>\n",
       "    </tr>\n",
       "  </tbody>\n",
       "</table>\n",
       "</div>"
      ],
      "text/plain": [
       "                                                           address  \\\n",
       "0  addr_test1vpha99j2s5slc5q26d884rhc3jzuxqex5javsak5enlg8wsel4z2t   \n",
       "1  addr_test1vpha99j2s5slc5q26d884rhc3jzuxqex5javsak5enlg8wsel4z2t   \n",
       "0  addr_test1vzn7ef2cx8h5y4jvxnn34pn3lzak5t537fx09j7zxdljs3gc5zgw6   \n",
       "1  addr_test1vzn7ef2cx8h5y4jvxnn34pn3lzak5t537fx09j7zxdljs3gc5zgw6   \n",
       "0  addr_test1wqzctw6fur749cqp8ae9y8e6l6g9uvs9t4pv7thp0zy38cssc9g3z   \n",
       "0  addr_test1wqzuqf8hvl9d47d6kftykktrgszgu3yznrrpdgha9naxcmgr8le36   \n",
       "\n",
       "                                                             TxHash  TxIx  \\\n",
       "0  7cbef19b7c372a9b2ac2bc376f5564ffb84f291230c92c881a0083f18705dadb     0   \n",
       "1  4c7f8ff0c3da6143147f2da4a3fccd30dee8dc4b71c0a74ee272557a1ec2ea17     1   \n",
       "0  4c7f8ff0c3da6143147f2da4a3fccd30dee8dc4b71c0a74ee272557a1ec2ea17     2   \n",
       "1  ed62a729c96269053eef4aa5e4fabf9f6f85b7bb56f49481142ffcbe5f72aa33     3   \n",
       "0  7cbef19b7c372a9b2ac2bc376f5564ffb84f291230c92c881a0083f18705dadb     1   \n",
       "0                                                               NaN     0   \n",
       "\n",
       "    lovelace                                             TokenPolicyId  \\\n",
       "0  490451577                                                       NaN   \n",
       "1    3000000  6f4f37e5c163a2f77935f395434c49bc4de8d1894a3bd80ac239a508   \n",
       "0    3000000  6f4f37e5c163a2f77935f395434c49bc4de8d1894a3bd80ac239a508   \n",
       "1  500000000                                                       NaN   \n",
       "0    3000000                                                       NaN   \n",
       "0          0                                                       NaN   \n",
       "\n",
       "   TokenNameHex TokenNameAscii  TokenAmount  \\\n",
       "0           NaN           None            0   \n",
       "1  506172747931         Party1            1   \n",
       "0  506172747932         Party2            1   \n",
       "1           NaN           None            0   \n",
       "0           NaN            NaN            0   \n",
       "0           NaN            NaN            0   \n",
       "\n",
       "                                                          datumhash  \n",
       "0                                                               NaN  \n",
       "1                                                               NaN  \n",
       "0                                                               NaN  \n",
       "1                                                               NaN  \n",
       "0  0e810f91611be5f0023233e5aa189dd099ad96d05437ffe0bc59a0f9a0137d64  \n",
       "0                                                               NaN  "
      ]
     },
     "execution_count": 513,
     "metadata": {},
     "output_type": "execute_result"
    }
   ],
   "source": [
    "pd.concat([query_df(PARTY1_ADDRESS), query_df(PARTY2_ADDRESS), query_df(CONTRACT_ADDRESS), query_df(REDEEM_ADDRESS)])"
   ]
  },
  {
   "cell_type": "code",
   "execution_count": null,
   "id": "386d12eb-9d75-41c0-84f0-3c6cb79900dd",
   "metadata": {},
   "outputs": [],
   "source": []
  },
  {
   "cell_type": "code",
   "execution_count": null,
   "id": "dd798359-0f9c-4cc3-b444-c3f3e73ad338",
   "metadata": {},
   "outputs": [],
   "source": []
  },
  {
   "cell_type": "code",
   "execution_count": 489,
   "id": "79cb3f11-8ead-4090-b38a-c38c39699119",
   "metadata": {},
   "outputs": [
    {
     "data": {
      "text/html": [
       "<div>\n",
       "<style scoped>\n",
       "    .dataframe tbody tr th:only-of-type {\n",
       "        vertical-align: middle;\n",
       "    }\n",
       "\n",
       "    .dataframe tbody tr th {\n",
       "        vertical-align: top;\n",
       "    }\n",
       "\n",
       "    .dataframe thead th {\n",
       "        text-align: right;\n",
       "    }\n",
       "</style>\n",
       "<table border=\"1\" class=\"dataframe\">\n",
       "  <thead>\n",
       "    <tr style=\"text-align: right;\">\n",
       "      <th></th>\n",
       "      <th>address</th>\n",
       "      <th>TxHash</th>\n",
       "      <th>TxIx</th>\n",
       "      <th>lovelace</th>\n",
       "      <th>TokenPolicyId</th>\n",
       "      <th>TokenAssetNameHex</th>\n",
       "      <th>TokenAmount</th>\n",
       "      <th>datumhash</th>\n",
       "    </tr>\n",
       "  </thead>\n",
       "  <tbody>\n",
       "    <tr>\n",
       "      <th>0</th>\n",
       "      <td>addr_test1vpha99j2s5slc5q26d884rhc3jzuxqex5javsak5enlg8wsel4z2t</td>\n",
       "      <td>7cbef19b7c372a9b2ac2bc376f5564ffb84f291230c92c881a0083f18705dadb</td>\n",
       "      <td>0</td>\n",
       "      <td>490451577</td>\n",
       "      <td>NaN</td>\n",
       "      <td>NaN</td>\n",
       "      <td>NaN</td>\n",
       "      <td>NaN</td>\n",
       "    </tr>\n",
       "    <tr>\n",
       "      <th>1</th>\n",
       "      <td>addr_test1vpha99j2s5slc5q26d884rhc3jzuxqex5javsak5enlg8wsel4z2t</td>\n",
       "      <td>4c7f8ff0c3da6143147f2da4a3fccd30dee8dc4b71c0a74ee272557a1ec2ea17</td>\n",
       "      <td>1</td>\n",
       "      <td>3000000</td>\n",
       "      <td>6f4f37e5c163a2f77935f395434c49bc4de8d1894a3bd80ac239a508</td>\n",
       "      <td>506172747931</td>\n",
       "      <td>1.0</td>\n",
       "      <td>NaN</td>\n",
       "    </tr>\n",
       "  </tbody>\n",
       "</table>\n",
       "</div>"
      ],
      "text/plain": [
       "                                                           address  \\\n",
       "0  addr_test1vpha99j2s5slc5q26d884rhc3jzuxqex5javsak5enlg8wsel4z2t   \n",
       "1  addr_test1vpha99j2s5slc5q26d884rhc3jzuxqex5javsak5enlg8wsel4z2t   \n",
       "\n",
       "                                                             TxHash  TxIx  \\\n",
       "0  7cbef19b7c372a9b2ac2bc376f5564ffb84f291230c92c881a0083f18705dadb     0   \n",
       "1  4c7f8ff0c3da6143147f2da4a3fccd30dee8dc4b71c0a74ee272557a1ec2ea17     1   \n",
       "\n",
       "    lovelace                                             TokenPolicyId  \\\n",
       "0  490451577                                                       NaN   \n",
       "1    3000000  6f4f37e5c163a2f77935f395434c49bc4de8d1894a3bd80ac239a508   \n",
       "\n",
       "  TokenAssetNameHex  TokenAmount  datumhash  \n",
       "0               NaN          NaN        NaN  \n",
       "1      506172747931          1.0        NaN  "
      ]
     },
     "execution_count": 489,
     "metadata": {},
     "output_type": "execute_result"
    }
   ],
   "source": [
    "query_df(PARTY1_ADDRESS)"
   ]
  },
  {
   "cell_type": "code",
   "execution_count": 490,
   "id": "8e7f9f10-a677-49df-812b-ce4b38391c35",
   "metadata": {},
   "outputs": [
    {
     "data": {
      "text/html": [
       "<div>\n",
       "<style scoped>\n",
       "    .dataframe tbody tr th:only-of-type {\n",
       "        vertical-align: middle;\n",
       "    }\n",
       "\n",
       "    .dataframe tbody tr th {\n",
       "        vertical-align: top;\n",
       "    }\n",
       "\n",
       "    .dataframe thead th {\n",
       "        text-align: right;\n",
       "    }\n",
       "</style>\n",
       "<table border=\"1\" class=\"dataframe\">\n",
       "  <thead>\n",
       "    <tr style=\"text-align: right;\">\n",
       "      <th></th>\n",
       "      <th>address</th>\n",
       "      <th>TxHash</th>\n",
       "      <th>TxIx</th>\n",
       "      <th>lovelace</th>\n",
       "      <th>TokenPolicyId</th>\n",
       "      <th>TokenAssetNameHex</th>\n",
       "      <th>TokenAmount</th>\n",
       "      <th>datumhash</th>\n",
       "    </tr>\n",
       "  </thead>\n",
       "  <tbody>\n",
       "    <tr>\n",
       "      <th>0</th>\n",
       "      <td>addr_test1vzn7ef2cx8h5y4jvxnn34pn3lzak5t537fx09j7zxdljs3gc5zgw6</td>\n",
       "      <td>4c7f8ff0c3da6143147f2da4a3fccd30dee8dc4b71c0a74ee272557a1ec2ea17</td>\n",
       "      <td>2</td>\n",
       "      <td>3000000</td>\n",
       "      <td>6f4f37e5c163a2f77935f395434c49bc4de8d1894a3bd80ac239a508</td>\n",
       "      <td>506172747932</td>\n",
       "      <td>1.0</td>\n",
       "      <td>NaN</td>\n",
       "    </tr>\n",
       "    <tr>\n",
       "      <th>1</th>\n",
       "      <td>addr_test1vzn7ef2cx8h5y4jvxnn34pn3lzak5t537fx09j7zxdljs3gc5zgw6</td>\n",
       "      <td>ed62a729c96269053eef4aa5e4fabf9f6f85b7bb56f49481142ffcbe5f72aa33</td>\n",
       "      <td>3</td>\n",
       "      <td>500000000</td>\n",
       "      <td>NaN</td>\n",
       "      <td>NaN</td>\n",
       "      <td>NaN</td>\n",
       "      <td>NaN</td>\n",
       "    </tr>\n",
       "  </tbody>\n",
       "</table>\n",
       "</div>"
      ],
      "text/plain": [
       "                                                           address  \\\n",
       "0  addr_test1vzn7ef2cx8h5y4jvxnn34pn3lzak5t537fx09j7zxdljs3gc5zgw6   \n",
       "1  addr_test1vzn7ef2cx8h5y4jvxnn34pn3lzak5t537fx09j7zxdljs3gc5zgw6   \n",
       "\n",
       "                                                             TxHash  TxIx  \\\n",
       "0  4c7f8ff0c3da6143147f2da4a3fccd30dee8dc4b71c0a74ee272557a1ec2ea17     2   \n",
       "1  ed62a729c96269053eef4aa5e4fabf9f6f85b7bb56f49481142ffcbe5f72aa33     3   \n",
       "\n",
       "    lovelace                                             TokenPolicyId  \\\n",
       "0    3000000  6f4f37e5c163a2f77935f395434c49bc4de8d1894a3bd80ac239a508   \n",
       "1  500000000                                                       NaN   \n",
       "\n",
       "  TokenAssetNameHex  TokenAmount  datumhash  \n",
       "0      506172747932          1.0        NaN  \n",
       "1               NaN          NaN        NaN  "
      ]
     },
     "execution_count": 490,
     "metadata": {},
     "output_type": "execute_result"
    }
   ],
   "source": [
    "query_df(PARTY2_ADDRESS)"
   ]
  },
  {
   "cell_type": "code",
   "execution_count": 491,
   "id": "fd92d0a0-94ca-4a7e-a42d-e9dbf32b72c3",
   "metadata": {},
   "outputs": [
    {
     "data": {
      "text/html": [
       "<div>\n",
       "<style scoped>\n",
       "    .dataframe tbody tr th:only-of-type {\n",
       "        vertical-align: middle;\n",
       "    }\n",
       "\n",
       "    .dataframe tbody tr th {\n",
       "        vertical-align: top;\n",
       "    }\n",
       "\n",
       "    .dataframe thead th {\n",
       "        text-align: right;\n",
       "    }\n",
       "</style>\n",
       "<table border=\"1\" class=\"dataframe\">\n",
       "  <thead>\n",
       "    <tr style=\"text-align: right;\">\n",
       "      <th></th>\n",
       "      <th>address</th>\n",
       "      <th>TxHash</th>\n",
       "      <th>TxIx</th>\n",
       "      <th>lovelace</th>\n",
       "      <th>TokenPolicyId</th>\n",
       "      <th>TokenAssetNameHex</th>\n",
       "      <th>TokenAmount</th>\n",
       "      <th>datumhash</th>\n",
       "    </tr>\n",
       "  </thead>\n",
       "  <tbody>\n",
       "    <tr>\n",
       "      <th>0</th>\n",
       "      <td>addr_test1wqzctw6fur749cqp8ae9y8e6l6g9uvs9t4pv7thp0zy38cssc9g3z</td>\n",
       "      <td>7cbef19b7c372a9b2ac2bc376f5564ffb84f291230c92c881a0083f18705dadb</td>\n",
       "      <td>1</td>\n",
       "      <td>3000000</td>\n",
       "      <td>NaN</td>\n",
       "      <td>NaN</td>\n",
       "      <td>NaN</td>\n",
       "      <td>0e810f91611be5f0023233e5aa189dd099ad96d05437ffe0bc59a0f9a0137d64</td>\n",
       "    </tr>\n",
       "  </tbody>\n",
       "</table>\n",
       "</div>"
      ],
      "text/plain": [
       "                                                           address  \\\n",
       "0  addr_test1wqzctw6fur749cqp8ae9y8e6l6g9uvs9t4pv7thp0zy38cssc9g3z   \n",
       "\n",
       "                                                             TxHash  TxIx  \\\n",
       "0  7cbef19b7c372a9b2ac2bc376f5564ffb84f291230c92c881a0083f18705dadb     1   \n",
       "\n",
       "   lovelace  TokenPolicyId  TokenAssetNameHex  TokenAmount  \\\n",
       "0   3000000            NaN                NaN          NaN   \n",
       "\n",
       "                                                          datumhash  \n",
       "0  0e810f91611be5f0023233e5aa189dd099ad96d05437ffe0bc59a0f9a0137d64  "
      ]
     },
     "execution_count": 491,
     "metadata": {},
     "output_type": "execute_result"
    }
   ],
   "source": [
    "query_df(CONTRACT_ADDRESS)"
   ]
  },
  {
   "cell_type": "code",
   "execution_count": 492,
   "id": "0c0bceb3-505d-457e-94ff-d862d875cc72",
   "metadata": {},
   "outputs": [
    {
     "data": {
      "text/html": [
       "<div>\n",
       "<style scoped>\n",
       "    .dataframe tbody tr th:only-of-type {\n",
       "        vertical-align: middle;\n",
       "    }\n",
       "\n",
       "    .dataframe tbody tr th {\n",
       "        vertical-align: top;\n",
       "    }\n",
       "\n",
       "    .dataframe thead th {\n",
       "        text-align: right;\n",
       "    }\n",
       "</style>\n",
       "<table border=\"1\" class=\"dataframe\">\n",
       "  <thead>\n",
       "    <tr style=\"text-align: right;\">\n",
       "      <th></th>\n",
       "      <th>address</th>\n",
       "      <th>TxHash</th>\n",
       "      <th>TxIx</th>\n",
       "      <th>lovelace</th>\n",
       "      <th>TokenPolicyId</th>\n",
       "      <th>TokenAssetNameHex</th>\n",
       "      <th>TokenAmount</th>\n",
       "      <th>datumhash</th>\n",
       "    </tr>\n",
       "  </thead>\n",
       "  <tbody>\n",
       "    <tr>\n",
       "      <th>0</th>\n",
       "      <td>addr_test1wqzuqf8hvl9d47d6kftykktrgszgu3yznrrpdgha9naxcmgr8le36</td>\n",
       "      <td>NaN</td>\n",
       "      <td>NaN</td>\n",
       "      <td>NaN</td>\n",
       "      <td>NaN</td>\n",
       "      <td>NaN</td>\n",
       "      <td>NaN</td>\n",
       "      <td>NaN</td>\n",
       "    </tr>\n",
       "  </tbody>\n",
       "</table>\n",
       "</div>"
      ],
      "text/plain": [
       "                                                           address  TxHash  \\\n",
       "0  addr_test1wqzuqf8hvl9d47d6kftykktrgszgu3yznrrpdgha9naxcmgr8le36     NaN   \n",
       "\n",
       "   TxIx  lovelace  TokenPolicyId  TokenAssetNameHex  TokenAmount  datumhash  \n",
       "0   NaN       NaN            NaN                NaN          NaN        NaN  "
      ]
     },
     "execution_count": 492,
     "metadata": {},
     "output_type": "execute_result"
    }
   ],
   "source": [
    "query_df(REDEEM_ADDRESS)"
   ]
  },
  {
   "cell_type": "code",
   "execution_count": null,
   "id": "1992df65-76ba-4140-85e4-d217c3646979",
   "metadata": {},
   "outputs": [],
   "source": []
  },
  {
   "cell_type": "code",
   "execution_count": null,
   "id": "b3cc9ce1-4140-43da-830c-592cbe2cd46b",
   "metadata": {},
   "outputs": [],
   "source": []
  },
  {
   "cell_type": "code",
   "execution_count": null,
   "id": "f7aed710-cf1f-4941-88cd-881721cfac8c",
   "metadata": {},
   "outputs": [],
   "source": []
  },
  {
   "cell_type": "code",
   "execution_count": null,
   "id": "08982100-ba90-4ac4-90ac-78126b5136ae",
   "metadata": {},
   "outputs": [],
   "source": []
  },
  {
   "cell_type": "code",
   "execution_count": null,
   "id": "f94e69e4-89c1-4b4c-843b-a002ea5de784",
   "metadata": {},
   "outputs": [],
   "source": []
  },
  {
   "cell_type": "code",
   "execution_count": null,
   "id": "d21fe110",
   "metadata": {},
   "outputs": [],
   "source": [
    "# interesting resource\n",
    "# https://github.com/input-output-hk/marlowe-cardano/blob/c91f711b5132620dae7713dcc5a8607605b38f8f/marlowe-cli/cookbook/english-auction.ipynb"
   ]
  },
  {
   "cell_type": "code",
   "execution_count": 476,
   "id": "f0530782-e0eb-4cc2-a0fb-0d8323fdf4b4",
   "metadata": {},
   "outputs": [
    {
     "name": "stdout",
     "output_type": "stream",
     "text": [
      "                           TxHash                                 TxIx        Amount\n",
      "--------------------------------------------------------------------------------------\n",
      "\n"
     ]
    }
   ],
   "source": [
    "# query the current balance:\n",
    "cmd = [cardanoCLI, \"query\", \"utxo\", \"--testnet-magic\", MAGIC, \"--address\", REDEEM_ADDRESS]\n",
    "result = subprocess.run(cmd, capture_output=True, text=True)\n",
    "print(result.stdout)"
   ]
  },
  {
   "cell_type": "code",
   "execution_count": 477,
   "id": "c937e392",
   "metadata": {},
   "outputs": [
    {
     "name": "stdout",
     "output_type": "stream",
     "text": [
      "\n"
     ]
    }
   ],
   "source": [
    "# query the current balance:\n",
    "cmd = [cardanoCLI, \"query\", \"utxo\", \"--testnet-magic\", MAGIC, \"--address\", REDEEM_ADDRESS, \"--out-file\", 'party1_address.json']\n",
    "result = subprocess.run(cmd, capture_output=True, text=True)\n",
    "print(result.stdout)"
   ]
  },
  {
   "cell_type": "code",
   "execution_count": 478,
   "id": "472a98fe-f2f8-4e38-972d-01b4e9966dbf",
   "metadata": {},
   "outputs": [
    {
     "name": "stdout",
     "output_type": "stream",
     "text": [
      "{}"
     ]
    }
   ],
   "source": [
    "!cat party1_address.json"
   ]
  },
  {
   "cell_type": "code",
   "execution_count": 479,
   "id": "6040b760-7010-4db7-8859-32429ac2187a",
   "metadata": {},
   "outputs": [
    {
     "data": {
      "text/html": [
       "<div>\n",
       "<style scoped>\n",
       "    .dataframe tbody tr th:only-of-type {\n",
       "        vertical-align: middle;\n",
       "    }\n",
       "\n",
       "    .dataframe tbody tr th {\n",
       "        vertical-align: top;\n",
       "    }\n",
       "\n",
       "    .dataframe thead th {\n",
       "        text-align: right;\n",
       "    }\n",
       "</style>\n",
       "<table border=\"1\" class=\"dataframe\">\n",
       "  <thead>\n",
       "    <tr style=\"text-align: right;\">\n",
       "      <th></th>\n",
       "      <th>index</th>\n",
       "    </tr>\n",
       "  </thead>\n",
       "  <tbody>\n",
       "  </tbody>\n",
       "</table>\n",
       "</div>"
      ],
      "text/plain": [
       "Empty DataFrame\n",
       "Columns: [index]\n",
       "Index: []"
      ]
     },
     "execution_count": 479,
     "metadata": {},
     "output_type": "execute_result"
    }
   ],
   "source": [
    "df = pd.read_json('party1_address.json', orient='index').reset_index()\n",
    "df"
   ]
  },
  {
   "cell_type": "code",
   "execution_count": 469,
   "id": "9abbf971-abfb-4976-af3f-6549f86ac228",
   "metadata": {},
   "outputs": [
    {
     "data": {
      "text/html": [
       "<div>\n",
       "<style scoped>\n",
       "    .dataframe tbody tr th:only-of-type {\n",
       "        vertical-align: middle;\n",
       "    }\n",
       "\n",
       "    .dataframe tbody tr th {\n",
       "        vertical-align: top;\n",
       "    }\n",
       "\n",
       "    .dataframe thead th {\n",
       "        text-align: right;\n",
       "    }\n",
       "</style>\n",
       "<table border=\"1\" class=\"dataframe\">\n",
       "  <thead>\n",
       "    <tr style=\"text-align: right;\">\n",
       "      <th></th>\n",
       "      <th>TxHash</th>\n",
       "    </tr>\n",
       "  </thead>\n",
       "  <tbody>\n",
       "  </tbody>\n",
       "</table>\n",
       "</div>"
      ],
      "text/plain": [
       "Empty DataFrame\n",
       "Columns: [TxHash]\n",
       "Index: []"
      ]
     },
     "execution_count": 469,
     "metadata": {},
     "output_type": "execute_result"
    }
   ],
   "source": [
    "# replace feature names with interpretable naming (others are left as-is) \n",
    "df = df.rename(columns={'index': 'TxHash', 'datumhash': 'datumhash', 'address': 'address', 'value': 'value'})\n",
    "df"
   ]
  },
  {
   "cell_type": "code",
   "execution_count": 470,
   "id": "10823100-d486-4cce-b0e9-429ffdac6149",
   "metadata": {},
   "outputs": [],
   "source": [
    "# df.columns = ['TxHash', 'address', 'value']\n",
    "# df"
   ]
  },
  {
   "cell_type": "code",
   "execution_count": 471,
   "id": "72233387-470a-4bea-a7a9-b3e5f370c5a4",
   "metadata": {},
   "outputs": [
    {
     "ename": "AttributeError",
     "evalue": "Can only use .str accessor with string values!",
     "output_type": "error",
     "traceback": [
      "\u001b[0;31m---------------------------------------------------------------------------\u001b[0m",
      "\u001b[0;31mAttributeError\u001b[0m                            Traceback (most recent call last)",
      "Input \u001b[0;32mIn [471]\u001b[0m, in \u001b[0;36m<cell line: 1>\u001b[0;34m()\u001b[0m\n\u001b[0;32m----> 1\u001b[0m df \u001b[38;5;241m=\u001b[39m df\u001b[38;5;241m.\u001b[39mjoin(\u001b[43mdf\u001b[49m\u001b[43m[\u001b[49m\u001b[38;5;124;43m'\u001b[39;49m\u001b[38;5;124;43mTxHash\u001b[39;49m\u001b[38;5;124;43m'\u001b[39;49m\u001b[43m]\u001b[49m\u001b[38;5;241;43m.\u001b[39;49m\u001b[43mstr\u001b[49m\u001b[38;5;241m.\u001b[39msplit(\u001b[38;5;124m'\u001b[39m\u001b[38;5;124m#\u001b[39m\u001b[38;5;124m'\u001b[39m, regex\u001b[38;5;241m=\u001b[39m\u001b[38;5;28;01mFalse\u001b[39;00m, expand\u001b[38;5;241m=\u001b[39m\u001b[38;5;28;01mTrue\u001b[39;00m), how\u001b[38;5;241m=\u001b[39m\u001b[38;5;124m'\u001b[39m\u001b[38;5;124mleft\u001b[39m\u001b[38;5;124m'\u001b[39m)\n\u001b[1;32m      2\u001b[0m df\n",
      "File \u001b[0;32m/anaconda/envs/py39_cardano/lib/python3.9/site-packages/pandas/core/generic.py:5575\u001b[0m, in \u001b[0;36mNDFrame.__getattr__\u001b[0;34m(self, name)\u001b[0m\n\u001b[1;32m   5568\u001b[0m \u001b[38;5;28;01mif\u001b[39;00m (\n\u001b[1;32m   5569\u001b[0m     name \u001b[38;5;129;01mnot\u001b[39;00m \u001b[38;5;129;01min\u001b[39;00m \u001b[38;5;28mself\u001b[39m\u001b[38;5;241m.\u001b[39m_internal_names_set\n\u001b[1;32m   5570\u001b[0m     \u001b[38;5;129;01mand\u001b[39;00m name \u001b[38;5;129;01mnot\u001b[39;00m \u001b[38;5;129;01min\u001b[39;00m \u001b[38;5;28mself\u001b[39m\u001b[38;5;241m.\u001b[39m_metadata\n\u001b[1;32m   5571\u001b[0m     \u001b[38;5;129;01mand\u001b[39;00m name \u001b[38;5;129;01mnot\u001b[39;00m \u001b[38;5;129;01min\u001b[39;00m \u001b[38;5;28mself\u001b[39m\u001b[38;5;241m.\u001b[39m_accessors\n\u001b[1;32m   5572\u001b[0m     \u001b[38;5;129;01mand\u001b[39;00m \u001b[38;5;28mself\u001b[39m\u001b[38;5;241m.\u001b[39m_info_axis\u001b[38;5;241m.\u001b[39m_can_hold_identifiers_and_holds_name(name)\n\u001b[1;32m   5573\u001b[0m ):\n\u001b[1;32m   5574\u001b[0m     \u001b[38;5;28;01mreturn\u001b[39;00m \u001b[38;5;28mself\u001b[39m[name]\n\u001b[0;32m-> 5575\u001b[0m \u001b[38;5;28;01mreturn\u001b[39;00m \u001b[38;5;28;43mobject\u001b[39;49m\u001b[38;5;241;43m.\u001b[39;49m\u001b[38;5;21;43m__getattribute__\u001b[39;49m\u001b[43m(\u001b[49m\u001b[38;5;28;43mself\u001b[39;49m\u001b[43m,\u001b[49m\u001b[43m \u001b[49m\u001b[43mname\u001b[49m\u001b[43m)\u001b[49m\n",
      "File \u001b[0;32m/anaconda/envs/py39_cardano/lib/python3.9/site-packages/pandas/core/accessor.py:182\u001b[0m, in \u001b[0;36mCachedAccessor.__get__\u001b[0;34m(self, obj, cls)\u001b[0m\n\u001b[1;32m    179\u001b[0m \u001b[38;5;28;01mif\u001b[39;00m obj \u001b[38;5;129;01mis\u001b[39;00m \u001b[38;5;28;01mNone\u001b[39;00m:\n\u001b[1;32m    180\u001b[0m     \u001b[38;5;66;03m# we're accessing the attribute of the class, i.e., Dataset.geo\u001b[39;00m\n\u001b[1;32m    181\u001b[0m     \u001b[38;5;28;01mreturn\u001b[39;00m \u001b[38;5;28mself\u001b[39m\u001b[38;5;241m.\u001b[39m_accessor\n\u001b[0;32m--> 182\u001b[0m accessor_obj \u001b[38;5;241m=\u001b[39m \u001b[38;5;28;43mself\u001b[39;49m\u001b[38;5;241;43m.\u001b[39;49m\u001b[43m_accessor\u001b[49m\u001b[43m(\u001b[49m\u001b[43mobj\u001b[49m\u001b[43m)\u001b[49m\n\u001b[1;32m    183\u001b[0m \u001b[38;5;66;03m# Replace the property with the accessor object. Inspired by:\u001b[39;00m\n\u001b[1;32m    184\u001b[0m \u001b[38;5;66;03m# https://www.pydanny.com/cached-property.html\u001b[39;00m\n\u001b[1;32m    185\u001b[0m \u001b[38;5;66;03m# We need to use object.__setattr__ because we overwrite __setattr__ on\u001b[39;00m\n\u001b[1;32m    186\u001b[0m \u001b[38;5;66;03m# NDFrame\u001b[39;00m\n\u001b[1;32m    187\u001b[0m \u001b[38;5;28mobject\u001b[39m\u001b[38;5;241m.\u001b[39m\u001b[38;5;21m__setattr__\u001b[39m(obj, \u001b[38;5;28mself\u001b[39m\u001b[38;5;241m.\u001b[39m_name, accessor_obj)\n",
      "File \u001b[0;32m/anaconda/envs/py39_cardano/lib/python3.9/site-packages/pandas/core/strings/accessor.py:177\u001b[0m, in \u001b[0;36mStringMethods.__init__\u001b[0;34m(self, data)\u001b[0m\n\u001b[1;32m    174\u001b[0m \u001b[38;5;28;01mdef\u001b[39;00m \u001b[38;5;21m__init__\u001b[39m(\u001b[38;5;28mself\u001b[39m, data):\n\u001b[1;32m    175\u001b[0m     \u001b[38;5;28;01mfrom\u001b[39;00m \u001b[38;5;21;01mpandas\u001b[39;00m\u001b[38;5;21;01m.\u001b[39;00m\u001b[38;5;21;01mcore\u001b[39;00m\u001b[38;5;21;01m.\u001b[39;00m\u001b[38;5;21;01marrays\u001b[39;00m\u001b[38;5;21;01m.\u001b[39;00m\u001b[38;5;21;01mstring_\u001b[39;00m \u001b[38;5;28;01mimport\u001b[39;00m StringDtype\n\u001b[0;32m--> 177\u001b[0m     \u001b[38;5;28mself\u001b[39m\u001b[38;5;241m.\u001b[39m_inferred_dtype \u001b[38;5;241m=\u001b[39m \u001b[38;5;28;43mself\u001b[39;49m\u001b[38;5;241;43m.\u001b[39;49m\u001b[43m_validate\u001b[49m\u001b[43m(\u001b[49m\u001b[43mdata\u001b[49m\u001b[43m)\u001b[49m\n\u001b[1;32m    178\u001b[0m     \u001b[38;5;28mself\u001b[39m\u001b[38;5;241m.\u001b[39m_is_categorical \u001b[38;5;241m=\u001b[39m is_categorical_dtype(data\u001b[38;5;241m.\u001b[39mdtype)\n\u001b[1;32m    179\u001b[0m     \u001b[38;5;28mself\u001b[39m\u001b[38;5;241m.\u001b[39m_is_string \u001b[38;5;241m=\u001b[39m \u001b[38;5;28misinstance\u001b[39m(data\u001b[38;5;241m.\u001b[39mdtype, StringDtype)\n",
      "File \u001b[0;32m/anaconda/envs/py39_cardano/lib/python3.9/site-packages/pandas/core/strings/accessor.py:231\u001b[0m, in \u001b[0;36mStringMethods._validate\u001b[0;34m(data)\u001b[0m\n\u001b[1;32m    228\u001b[0m inferred_dtype \u001b[38;5;241m=\u001b[39m lib\u001b[38;5;241m.\u001b[39minfer_dtype(values, skipna\u001b[38;5;241m=\u001b[39m\u001b[38;5;28;01mTrue\u001b[39;00m)\n\u001b[1;32m    230\u001b[0m \u001b[38;5;28;01mif\u001b[39;00m inferred_dtype \u001b[38;5;129;01mnot\u001b[39;00m \u001b[38;5;129;01min\u001b[39;00m allowed_types:\n\u001b[0;32m--> 231\u001b[0m     \u001b[38;5;28;01mraise\u001b[39;00m \u001b[38;5;167;01mAttributeError\u001b[39;00m(\u001b[38;5;124m\"\u001b[39m\u001b[38;5;124mCan only use .str accessor with string values!\u001b[39m\u001b[38;5;124m\"\u001b[39m)\n\u001b[1;32m    232\u001b[0m \u001b[38;5;28;01mreturn\u001b[39;00m inferred_dtype\n",
      "\u001b[0;31mAttributeError\u001b[0m: Can only use .str accessor with string values!"
     ]
    }
   ],
   "source": [
    "df = df.join(df['TxHash'].str.split('#', regex=False, expand=True), how='left')\n",
    "df"
   ]
  },
  {
   "cell_type": "code",
   "execution_count": 445,
   "id": "34406912-186e-49d5-a09f-50c04ec286ba",
   "metadata": {},
   "outputs": [
    {
     "data": {
      "text/html": [
       "<div>\n",
       "<style scoped>\n",
       "    .dataframe tbody tr th:only-of-type {\n",
       "        vertical-align: middle;\n",
       "    }\n",
       "\n",
       "    .dataframe tbody tr th {\n",
       "        vertical-align: top;\n",
       "    }\n",
       "\n",
       "    .dataframe thead th {\n",
       "        text-align: right;\n",
       "    }\n",
       "</style>\n",
       "<table border=\"1\" class=\"dataframe\">\n",
       "  <thead>\n",
       "    <tr style=\"text-align: right;\">\n",
       "      <th></th>\n",
       "      <th>address</th>\n",
       "      <th>value</th>\n",
       "      <th>0</th>\n",
       "      <th>1</th>\n",
       "    </tr>\n",
       "  </thead>\n",
       "  <tbody>\n",
       "    <tr>\n",
       "      <th>0</th>\n",
       "      <td>addr_test1vzn7ef2cx8h5y4jvxnn34pn3lzak5t537fx09j7zxdljs3gc5zgw6</td>\n",
       "      <td>{'6f4f37e5c163a2f77935f395434c49bc4de8d1894a3bd80ac239a508': {'506172747932'...</td>\n",
       "      <td>4c7f8ff0c3da6143147f2da4a3fccd30dee8dc4b71c0a74ee272557a1ec2ea17</td>\n",
       "      <td>2</td>\n",
       "    </tr>\n",
       "    <tr>\n",
       "      <th>1</th>\n",
       "      <td>addr_test1vzn7ef2cx8h5y4jvxnn34pn3lzak5t537fx09j7zxdljs3gc5zgw6</td>\n",
       "      <td>{'lovelace': 500000000}</td>\n",
       "      <td>ed62a729c96269053eef4aa5e4fabf9f6f85b7bb56f49481142ffcbe5f72aa33</td>\n",
       "      <td>3</td>\n",
       "    </tr>\n",
       "  </tbody>\n",
       "</table>\n",
       "</div>"
      ],
      "text/plain": [
       "                                                           address  \\\n",
       "0  addr_test1vzn7ef2cx8h5y4jvxnn34pn3lzak5t537fx09j7zxdljs3gc5zgw6   \n",
       "1  addr_test1vzn7ef2cx8h5y4jvxnn34pn3lzak5t537fx09j7zxdljs3gc5zgw6   \n",
       "\n",
       "                                                                             value  \\\n",
       "0  {'6f4f37e5c163a2f77935f395434c49bc4de8d1894a3bd80ac239a508': {'506172747932'...   \n",
       "1                                                          {'lovelace': 500000000}   \n",
       "\n",
       "                                                                  0  1  \n",
       "0  4c7f8ff0c3da6143147f2da4a3fccd30dee8dc4b71c0a74ee272557a1ec2ea17  2  \n",
       "1  ed62a729c96269053eef4aa5e4fabf9f6f85b7bb56f49481142ffcbe5f72aa33  3  "
      ]
     },
     "execution_count": 445,
     "metadata": {},
     "output_type": "execute_result"
    }
   ],
   "source": [
    "df = df.drop(['TxHash'], axis=1)\n",
    "df"
   ]
  },
  {
   "cell_type": "code",
   "execution_count": 446,
   "id": "382483fe-28e9-4296-a1a7-dd9bd9c09e9f",
   "metadata": {},
   "outputs": [
    {
     "data": {
      "text/html": [
       "<div>\n",
       "<style scoped>\n",
       "    .dataframe tbody tr th:only-of-type {\n",
       "        vertical-align: middle;\n",
       "    }\n",
       "\n",
       "    .dataframe tbody tr th {\n",
       "        vertical-align: top;\n",
       "    }\n",
       "\n",
       "    .dataframe thead th {\n",
       "        text-align: right;\n",
       "    }\n",
       "</style>\n",
       "<table border=\"1\" class=\"dataframe\">\n",
       "  <thead>\n",
       "    <tr style=\"text-align: right;\">\n",
       "      <th></th>\n",
       "      <th>address</th>\n",
       "      <th>value</th>\n",
       "      <th>TxHash</th>\n",
       "      <th>TxIx</th>\n",
       "    </tr>\n",
       "  </thead>\n",
       "  <tbody>\n",
       "    <tr>\n",
       "      <th>0</th>\n",
       "      <td>addr_test1vzn7ef2cx8h5y4jvxnn34pn3lzak5t537fx09j7zxdljs3gc5zgw6</td>\n",
       "      <td>{'6f4f37e5c163a2f77935f395434c49bc4de8d1894a3bd80ac239a508': {'506172747932'...</td>\n",
       "      <td>4c7f8ff0c3da6143147f2da4a3fccd30dee8dc4b71c0a74ee272557a1ec2ea17</td>\n",
       "      <td>2</td>\n",
       "    </tr>\n",
       "    <tr>\n",
       "      <th>1</th>\n",
       "      <td>addr_test1vzn7ef2cx8h5y4jvxnn34pn3lzak5t537fx09j7zxdljs3gc5zgw6</td>\n",
       "      <td>{'lovelace': 500000000}</td>\n",
       "      <td>ed62a729c96269053eef4aa5e4fabf9f6f85b7bb56f49481142ffcbe5f72aa33</td>\n",
       "      <td>3</td>\n",
       "    </tr>\n",
       "  </tbody>\n",
       "</table>\n",
       "</div>"
      ],
      "text/plain": [
       "                                                           address  \\\n",
       "0  addr_test1vzn7ef2cx8h5y4jvxnn34pn3lzak5t537fx09j7zxdljs3gc5zgw6   \n",
       "1  addr_test1vzn7ef2cx8h5y4jvxnn34pn3lzak5t537fx09j7zxdljs3gc5zgw6   \n",
       "\n",
       "                                                                             value  \\\n",
       "0  {'6f4f37e5c163a2f77935f395434c49bc4de8d1894a3bd80ac239a508': {'506172747932'...   \n",
       "1                                                          {'lovelace': 500000000}   \n",
       "\n",
       "                                                             TxHash TxIx  \n",
       "0  4c7f8ff0c3da6143147f2da4a3fccd30dee8dc4b71c0a74ee272557a1ec2ea17    2  \n",
       "1  ed62a729c96269053eef4aa5e4fabf9f6f85b7bb56f49481142ffcbe5f72aa33    3  "
      ]
     },
     "execution_count": 446,
     "metadata": {},
     "output_type": "execute_result"
    }
   ],
   "source": [
    "# replace feature names with interpretable naming (others are left as-is) \n",
    "df = df.rename(columns={0: 'TxHash', 1: 'TxIx'})\n",
    "df"
   ]
  },
  {
   "cell_type": "code",
   "execution_count": 447,
   "id": "e9705963-b863-4946-be48-cdf84891ef2b",
   "metadata": {},
   "outputs": [],
   "source": [
    "# df.columns = ['address', 'value', 'TxHash', 'TxIx']\n",
    "# df"
   ]
  },
  {
   "cell_type": "code",
   "execution_count": 448,
   "id": "fdd4fe93-dc81-429e-bd96-243e815414a5",
   "metadata": {},
   "outputs": [
    {
     "data": {
      "text/html": [
       "<div>\n",
       "<style scoped>\n",
       "    .dataframe tbody tr th:only-of-type {\n",
       "        vertical-align: middle;\n",
       "    }\n",
       "\n",
       "    .dataframe tbody tr th {\n",
       "        vertical-align: top;\n",
       "    }\n",
       "\n",
       "    .dataframe thead th {\n",
       "        text-align: right;\n",
       "    }\n",
       "</style>\n",
       "<table border=\"1\" class=\"dataframe\">\n",
       "  <thead>\n",
       "    <tr style=\"text-align: right;\">\n",
       "      <th></th>\n",
       "      <th>address</th>\n",
       "      <th>TxHash</th>\n",
       "      <th>TxIx</th>\n",
       "      <th>6f4f37e5c163a2f77935f395434c49bc4de8d1894a3bd80ac239a508</th>\n",
       "      <th>lovelace</th>\n",
       "    </tr>\n",
       "  </thead>\n",
       "  <tbody>\n",
       "    <tr>\n",
       "      <th>0</th>\n",
       "      <td>addr_test1vzn7ef2cx8h5y4jvxnn34pn3lzak5t537fx09j7zxdljs3gc5zgw6</td>\n",
       "      <td>4c7f8ff0c3da6143147f2da4a3fccd30dee8dc4b71c0a74ee272557a1ec2ea17</td>\n",
       "      <td>2</td>\n",
       "      <td>{'506172747932': 1}</td>\n",
       "      <td>3000000.0</td>\n",
       "    </tr>\n",
       "    <tr>\n",
       "      <th>1</th>\n",
       "      <td>addr_test1vzn7ef2cx8h5y4jvxnn34pn3lzak5t537fx09j7zxdljs3gc5zgw6</td>\n",
       "      <td>ed62a729c96269053eef4aa5e4fabf9f6f85b7bb56f49481142ffcbe5f72aa33</td>\n",
       "      <td>3</td>\n",
       "      <td>NaN</td>\n",
       "      <td>500000000.0</td>\n",
       "    </tr>\n",
       "  </tbody>\n",
       "</table>\n",
       "</div>"
      ],
      "text/plain": [
       "                                                           address  \\\n",
       "0  addr_test1vzn7ef2cx8h5y4jvxnn34pn3lzak5t537fx09j7zxdljs3gc5zgw6   \n",
       "1  addr_test1vzn7ef2cx8h5y4jvxnn34pn3lzak5t537fx09j7zxdljs3gc5zgw6   \n",
       "\n",
       "                                                             TxHash TxIx  \\\n",
       "0  4c7f8ff0c3da6143147f2da4a3fccd30dee8dc4b71c0a74ee272557a1ec2ea17    2   \n",
       "1  ed62a729c96269053eef4aa5e4fabf9f6f85b7bb56f49481142ffcbe5f72aa33    3   \n",
       "\n",
       "  6f4f37e5c163a2f77935f395434c49bc4de8d1894a3bd80ac239a508     lovelace  \n",
       "0                                      {'506172747932': 1}    3000000.0  \n",
       "1                                                      NaN  500000000.0  "
      ]
     },
     "execution_count": 448,
     "metadata": {},
     "output_type": "execute_result"
    }
   ],
   "source": [
    "df = pd.concat([df.drop(['value'], axis=1), df['value'].apply(pd.Series)], axis=1)\n",
    "df"
   ]
  },
  {
   "cell_type": "code",
   "execution_count": 449,
   "id": "13c1726d-00c8-4b2c-9f2e-251d12617c8a",
   "metadata": {},
   "outputs": [
    {
     "data": {
      "text/html": [
       "<div>\n",
       "<style scoped>\n",
       "    .dataframe tbody tr th:only-of-type {\n",
       "        vertical-align: middle;\n",
       "    }\n",
       "\n",
       "    .dataframe tbody tr th {\n",
       "        vertical-align: top;\n",
       "    }\n",
       "\n",
       "    .dataframe thead th {\n",
       "        text-align: right;\n",
       "    }\n",
       "</style>\n",
       "<table border=\"1\" class=\"dataframe\">\n",
       "  <thead>\n",
       "    <tr style=\"text-align: right;\">\n",
       "      <th></th>\n",
       "      <th>address</th>\n",
       "      <th>TxHash</th>\n",
       "      <th>TxIx</th>\n",
       "      <th>6f4f37e5c163a2f77935f395434c49bc4de8d1894a3bd80ac239a508</th>\n",
       "      <th>lovelace</th>\n",
       "    </tr>\n",
       "  </thead>\n",
       "  <tbody>\n",
       "    <tr>\n",
       "      <th>0</th>\n",
       "      <td>addr_test1vzn7ef2cx8h5y4jvxnn34pn3lzak5t537fx09j7zxdljs3gc5zgw6</td>\n",
       "      <td>4c7f8ff0c3da6143147f2da4a3fccd30dee8dc4b71c0a74ee272557a1ec2ea17</td>\n",
       "      <td>2</td>\n",
       "      <td>{'506172747932': 1}</td>\n",
       "      <td>3000000</td>\n",
       "    </tr>\n",
       "    <tr>\n",
       "      <th>1</th>\n",
       "      <td>addr_test1vzn7ef2cx8h5y4jvxnn34pn3lzak5t537fx09j7zxdljs3gc5zgw6</td>\n",
       "      <td>ed62a729c96269053eef4aa5e4fabf9f6f85b7bb56f49481142ffcbe5f72aa33</td>\n",
       "      <td>3</td>\n",
       "      <td>NaN</td>\n",
       "      <td>500000000</td>\n",
       "    </tr>\n",
       "  </tbody>\n",
       "</table>\n",
       "</div>"
      ],
      "text/plain": [
       "                                                           address  \\\n",
       "0  addr_test1vzn7ef2cx8h5y4jvxnn34pn3lzak5t537fx09j7zxdljs3gc5zgw6   \n",
       "1  addr_test1vzn7ef2cx8h5y4jvxnn34pn3lzak5t537fx09j7zxdljs3gc5zgw6   \n",
       "\n",
       "                                                             TxHash TxIx  \\\n",
       "0  4c7f8ff0c3da6143147f2da4a3fccd30dee8dc4b71c0a74ee272557a1ec2ea17    2   \n",
       "1  ed62a729c96269053eef4aa5e4fabf9f6f85b7bb56f49481142ffcbe5f72aa33    3   \n",
       "\n",
       "  6f4f37e5c163a2f77935f395434c49bc4de8d1894a3bd80ac239a508   lovelace  \n",
       "0                                      {'506172747932': 1}    3000000  \n",
       "1                                                      NaN  500000000  "
      ]
     },
     "execution_count": 449,
     "metadata": {},
     "output_type": "execute_result"
    }
   ],
   "source": [
    "df['lovelace'] = df['lovelace'].astype('int')\n",
    "df"
   ]
  },
  {
   "cell_type": "code",
   "execution_count": 450,
   "id": "1ec93818-9fe9-45ea-9c24-b56fda3a073d",
   "metadata": {},
   "outputs": [
    {
     "data": {
      "text/html": [
       "<div>\n",
       "<style scoped>\n",
       "    .dataframe tbody tr th:only-of-type {\n",
       "        vertical-align: middle;\n",
       "    }\n",
       "\n",
       "    .dataframe tbody tr th {\n",
       "        vertical-align: top;\n",
       "    }\n",
       "\n",
       "    .dataframe thead th {\n",
       "        text-align: right;\n",
       "    }\n",
       "</style>\n",
       "<table border=\"1\" class=\"dataframe\">\n",
       "  <thead>\n",
       "    <tr style=\"text-align: right;\">\n",
       "      <th></th>\n",
       "      <th>address</th>\n",
       "      <th>TxHash</th>\n",
       "      <th>TxIx</th>\n",
       "      <th>6f4f37e5c163a2f77935f395434c49bc4de8d1894a3bd80ac239a508</th>\n",
       "      <th>lovelace</th>\n",
       "    </tr>\n",
       "  </thead>\n",
       "  <tbody>\n",
       "    <tr>\n",
       "      <th>0</th>\n",
       "      <td>addr_test1vzn7ef2cx8h5y4jvxnn34pn3lzak5t537fx09j7zxdljs3gc5zgw6</td>\n",
       "      <td>4c7f8ff0c3da6143147f2da4a3fccd30dee8dc4b71c0a74ee272557a1ec2ea17</td>\n",
       "      <td>2</td>\n",
       "      <td>{'506172747932': 1}</td>\n",
       "      <td>3000000</td>\n",
       "    </tr>\n",
       "    <tr>\n",
       "      <th>1</th>\n",
       "      <td>addr_test1vzn7ef2cx8h5y4jvxnn34pn3lzak5t537fx09j7zxdljs3gc5zgw6</td>\n",
       "      <td>ed62a729c96269053eef4aa5e4fabf9f6f85b7bb56f49481142ffcbe5f72aa33</td>\n",
       "      <td>3</td>\n",
       "      <td>NaN</td>\n",
       "      <td>500000000</td>\n",
       "    </tr>\n",
       "  </tbody>\n",
       "</table>\n",
       "</div>"
      ],
      "text/plain": [
       "                                                           address  \\\n",
       "0  addr_test1vzn7ef2cx8h5y4jvxnn34pn3lzak5t537fx09j7zxdljs3gc5zgw6   \n",
       "1  addr_test1vzn7ef2cx8h5y4jvxnn34pn3lzak5t537fx09j7zxdljs3gc5zgw6   \n",
       "\n",
       "                                                             TxHash  TxIx  \\\n",
       "0  4c7f8ff0c3da6143147f2da4a3fccd30dee8dc4b71c0a74ee272557a1ec2ea17     2   \n",
       "1  ed62a729c96269053eef4aa5e4fabf9f6f85b7bb56f49481142ffcbe5f72aa33     3   \n",
       "\n",
       "  6f4f37e5c163a2f77935f395434c49bc4de8d1894a3bd80ac239a508   lovelace  \n",
       "0                                      {'506172747932': 1}    3000000  \n",
       "1                                                      NaN  500000000  "
      ]
     },
     "execution_count": 450,
     "metadata": {},
     "output_type": "execute_result"
    }
   ],
   "source": [
    "df['TxIx'] = df['TxIx'].astype('int')\n",
    "df"
   ]
  },
  {
   "cell_type": "code",
   "execution_count": 451,
   "id": "072b97e9-865c-4ab3-82e5-e9bcd68939ed",
   "metadata": {},
   "outputs": [
    {
     "data": {
      "text/html": [
       "<div>\n",
       "<style scoped>\n",
       "    .dataframe tbody tr th:only-of-type {\n",
       "        vertical-align: middle;\n",
       "    }\n",
       "\n",
       "    .dataframe tbody tr th {\n",
       "        vertical-align: top;\n",
       "    }\n",
       "\n",
       "    .dataframe thead th {\n",
       "        text-align: right;\n",
       "    }\n",
       "</style>\n",
       "<table border=\"1\" class=\"dataframe\">\n",
       "  <thead>\n",
       "    <tr style=\"text-align: right;\">\n",
       "      <th></th>\n",
       "      <th>address</th>\n",
       "      <th>TxHash</th>\n",
       "      <th>TxIx</th>\n",
       "      <th>6f4f37e5c163a2f77935f395434c49bc4de8d1894a3bd80ac239a508</th>\n",
       "      <th>lovelace</th>\n",
       "    </tr>\n",
       "  </thead>\n",
       "  <tbody>\n",
       "    <tr>\n",
       "      <th>0</th>\n",
       "      <td>addr_test1vzn7ef2cx8h5y4jvxnn34pn3lzak5t537fx09j7zxdljs3gc5zgw6</td>\n",
       "      <td>4c7f8ff0c3da6143147f2da4a3fccd30dee8dc4b71c0a74ee272557a1ec2ea17</td>\n",
       "      <td>2</td>\n",
       "      <td>{'506172747932': 1}</td>\n",
       "      <td>3000000</td>\n",
       "    </tr>\n",
       "    <tr>\n",
       "      <th>1</th>\n",
       "      <td>addr_test1vzn7ef2cx8h5y4jvxnn34pn3lzak5t537fx09j7zxdljs3gc5zgw6</td>\n",
       "      <td>ed62a729c96269053eef4aa5e4fabf9f6f85b7bb56f49481142ffcbe5f72aa33</td>\n",
       "      <td>3</td>\n",
       "      <td>NaN</td>\n",
       "      <td>500000000</td>\n",
       "    </tr>\n",
       "  </tbody>\n",
       "</table>\n",
       "</div>"
      ],
      "text/plain": [
       "                                                           address  \\\n",
       "0  addr_test1vzn7ef2cx8h5y4jvxnn34pn3lzak5t537fx09j7zxdljs3gc5zgw6   \n",
       "1  addr_test1vzn7ef2cx8h5y4jvxnn34pn3lzak5t537fx09j7zxdljs3gc5zgw6   \n",
       "\n",
       "                                                             TxHash  TxIx  \\\n",
       "0  4c7f8ff0c3da6143147f2da4a3fccd30dee8dc4b71c0a74ee272557a1ec2ea17     2   \n",
       "1  ed62a729c96269053eef4aa5e4fabf9f6f85b7bb56f49481142ffcbe5f72aa33     3   \n",
       "\n",
       "  6f4f37e5c163a2f77935f395434c49bc4de8d1894a3bd80ac239a508   lovelace  \n",
       "0                                      {'506172747932': 1}    3000000  \n",
       "1                                                      NaN  500000000  "
      ]
     },
     "execution_count": 451,
     "metadata": {},
     "output_type": "execute_result"
    }
   ],
   "source": [
    "# drop all columns with all values NA\n",
    "df = df.dropna(axis=1, how='all')\n",
    "df"
   ]
  },
  {
   "cell_type": "code",
   "execution_count": 452,
   "id": "b4d9216d-d765-421c-a85a-d0d8abac9925",
   "metadata": {},
   "outputs": [
    {
     "name": "stdout",
     "output_type": "stream",
     "text": [
      "yes, len(cn) == 56\n"
     ]
    }
   ],
   "source": [
    "# if the last column name word size is 56 characters wide:\n",
    "# cn = df.iloc[:, -1].name\n",
    "try:\n",
    "    cn = df[df.columns[~df.columns.isin(['address', 'TxHash', 'TxIx', 'lovelace'])]].iloc[:, -1].name\n",
    "    if len(cn) == 56:\n",
    "        print(\"yes, len(cn) == 56\")\n",
    "        # make a copy\n",
    "        df['TokenPolicyId'] = df[cn]\n",
    "        # write the column name only on True location\n",
    "        df['TokenPolicyId'] = df['TokenPolicyId'].notna().replace({True: cn, False: np.nan})\n",
    "except:\n",
    "    print(\"except happened\")\n",
    "    df['TokenPolicyId'] = np.nan\n",
    "    df['TokenAssetNameHex'] = np.nan\n",
    "    df['TokenAmount'] = np.nan\n",
    "    pass"
   ]
  },
  {
   "cell_type": "code",
   "execution_count": 453,
   "id": "15d77617-e519-48d4-b7e8-bdacd4875818",
   "metadata": {},
   "outputs": [
    {
     "data": {
      "text/html": [
       "<div>\n",
       "<style scoped>\n",
       "    .dataframe tbody tr th:only-of-type {\n",
       "        vertical-align: middle;\n",
       "    }\n",
       "\n",
       "    .dataframe tbody tr th {\n",
       "        vertical-align: top;\n",
       "    }\n",
       "\n",
       "    .dataframe thead th {\n",
       "        text-align: right;\n",
       "    }\n",
       "</style>\n",
       "<table border=\"1\" class=\"dataframe\">\n",
       "  <thead>\n",
       "    <tr style=\"text-align: right;\">\n",
       "      <th></th>\n",
       "      <th>address</th>\n",
       "      <th>TxHash</th>\n",
       "      <th>TxIx</th>\n",
       "      <th>6f4f37e5c163a2f77935f395434c49bc4de8d1894a3bd80ac239a508</th>\n",
       "      <th>lovelace</th>\n",
       "      <th>TokenPolicyId</th>\n",
       "    </tr>\n",
       "  </thead>\n",
       "  <tbody>\n",
       "    <tr>\n",
       "      <th>0</th>\n",
       "      <td>addr_test1vzn7ef2cx8h5y4jvxnn34pn3lzak5t537fx09j7zxdljs3gc5zgw6</td>\n",
       "      <td>4c7f8ff0c3da6143147f2da4a3fccd30dee8dc4b71c0a74ee272557a1ec2ea17</td>\n",
       "      <td>2</td>\n",
       "      <td>{'506172747932': 1}</td>\n",
       "      <td>3000000</td>\n",
       "      <td>6f4f37e5c163a2f77935f395434c49bc4de8d1894a3bd80ac239a508</td>\n",
       "    </tr>\n",
       "    <tr>\n",
       "      <th>1</th>\n",
       "      <td>addr_test1vzn7ef2cx8h5y4jvxnn34pn3lzak5t537fx09j7zxdljs3gc5zgw6</td>\n",
       "      <td>ed62a729c96269053eef4aa5e4fabf9f6f85b7bb56f49481142ffcbe5f72aa33</td>\n",
       "      <td>3</td>\n",
       "      <td>NaN</td>\n",
       "      <td>500000000</td>\n",
       "      <td>NaN</td>\n",
       "    </tr>\n",
       "  </tbody>\n",
       "</table>\n",
       "</div>"
      ],
      "text/plain": [
       "                                                           address  \\\n",
       "0  addr_test1vzn7ef2cx8h5y4jvxnn34pn3lzak5t537fx09j7zxdljs3gc5zgw6   \n",
       "1  addr_test1vzn7ef2cx8h5y4jvxnn34pn3lzak5t537fx09j7zxdljs3gc5zgw6   \n",
       "\n",
       "                                                             TxHash  TxIx  \\\n",
       "0  4c7f8ff0c3da6143147f2da4a3fccd30dee8dc4b71c0a74ee272557a1ec2ea17     2   \n",
       "1  ed62a729c96269053eef4aa5e4fabf9f6f85b7bb56f49481142ffcbe5f72aa33     3   \n",
       "\n",
       "  6f4f37e5c163a2f77935f395434c49bc4de8d1894a3bd80ac239a508   lovelace  \\\n",
       "0                                      {'506172747932': 1}    3000000   \n",
       "1                                                      NaN  500000000   \n",
       "\n",
       "                                              TokenPolicyId  \n",
       "0  6f4f37e5c163a2f77935f395434c49bc4de8d1894a3bd80ac239a508  \n",
       "1                                                       NaN  "
      ]
     },
     "execution_count": 453,
     "metadata": {},
     "output_type": "execute_result"
    }
   ],
   "source": [
    "df"
   ]
  },
  {
   "cell_type": "code",
   "execution_count": 454,
   "id": "7a71cf09-4298-4090-bf57-d154afa439ec",
   "metadata": {},
   "outputs": [
    {
     "data": {
      "text/html": [
       "<div>\n",
       "<style scoped>\n",
       "    .dataframe tbody tr th:only-of-type {\n",
       "        vertical-align: middle;\n",
       "    }\n",
       "\n",
       "    .dataframe tbody tr th {\n",
       "        vertical-align: top;\n",
       "    }\n",
       "\n",
       "    .dataframe thead th {\n",
       "        text-align: right;\n",
       "    }\n",
       "</style>\n",
       "<table border=\"1\" class=\"dataframe\">\n",
       "  <thead>\n",
       "    <tr style=\"text-align: right;\">\n",
       "      <th></th>\n",
       "      <th>address</th>\n",
       "      <th>TxHash</th>\n",
       "      <th>TxIx</th>\n",
       "      <th>lovelace</th>\n",
       "      <th>TokenPolicyId</th>\n",
       "      <th>506172747932</th>\n",
       "      <th>0</th>\n",
       "    </tr>\n",
       "  </thead>\n",
       "  <tbody>\n",
       "    <tr>\n",
       "      <th>0</th>\n",
       "      <td>addr_test1vzn7ef2cx8h5y4jvxnn34pn3lzak5t537fx09j7zxdljs3gc5zgw6</td>\n",
       "      <td>4c7f8ff0c3da6143147f2da4a3fccd30dee8dc4b71c0a74ee272557a1ec2ea17</td>\n",
       "      <td>2</td>\n",
       "      <td>3000000</td>\n",
       "      <td>6f4f37e5c163a2f77935f395434c49bc4de8d1894a3bd80ac239a508</td>\n",
       "      <td>1.0</td>\n",
       "      <td>NaN</td>\n",
       "    </tr>\n",
       "    <tr>\n",
       "      <th>1</th>\n",
       "      <td>addr_test1vzn7ef2cx8h5y4jvxnn34pn3lzak5t537fx09j7zxdljs3gc5zgw6</td>\n",
       "      <td>ed62a729c96269053eef4aa5e4fabf9f6f85b7bb56f49481142ffcbe5f72aa33</td>\n",
       "      <td>3</td>\n",
       "      <td>500000000</td>\n",
       "      <td>NaN</td>\n",
       "      <td>NaN</td>\n",
       "      <td>NaN</td>\n",
       "    </tr>\n",
       "  </tbody>\n",
       "</table>\n",
       "</div>"
      ],
      "text/plain": [
       "                                                           address  \\\n",
       "0  addr_test1vzn7ef2cx8h5y4jvxnn34pn3lzak5t537fx09j7zxdljs3gc5zgw6   \n",
       "1  addr_test1vzn7ef2cx8h5y4jvxnn34pn3lzak5t537fx09j7zxdljs3gc5zgw6   \n",
       "\n",
       "                                                             TxHash  TxIx  \\\n",
       "0  4c7f8ff0c3da6143147f2da4a3fccd30dee8dc4b71c0a74ee272557a1ec2ea17     2   \n",
       "1  ed62a729c96269053eef4aa5e4fabf9f6f85b7bb56f49481142ffcbe5f72aa33     3   \n",
       "\n",
       "    lovelace                                             TokenPolicyId  \\\n",
       "0    3000000  6f4f37e5c163a2f77935f395434c49bc4de8d1894a3bd80ac239a508   \n",
       "1  500000000                                                       NaN   \n",
       "\n",
       "   506172747932   0  \n",
       "0           1.0 NaN  \n",
       "1           NaN NaN  "
      ]
     },
     "execution_count": 454,
     "metadata": {},
     "output_type": "execute_result"
    }
   ],
   "source": [
    "df = pd.concat([df.drop([cn], axis=1), df[cn].apply(pd.Series)], axis=1)\n",
    "df"
   ]
  },
  {
   "cell_type": "code",
   "execution_count": 455,
   "id": "f5c56f8f-e749-494b-b5bc-38939e796de3",
   "metadata": {},
   "outputs": [
    {
     "data": {
      "text/html": [
       "<div>\n",
       "<style scoped>\n",
       "    .dataframe tbody tr th:only-of-type {\n",
       "        vertical-align: middle;\n",
       "    }\n",
       "\n",
       "    .dataframe tbody tr th {\n",
       "        vertical-align: top;\n",
       "    }\n",
       "\n",
       "    .dataframe thead th {\n",
       "        text-align: right;\n",
       "    }\n",
       "</style>\n",
       "<table border=\"1\" class=\"dataframe\">\n",
       "  <thead>\n",
       "    <tr style=\"text-align: right;\">\n",
       "      <th></th>\n",
       "      <th>address</th>\n",
       "      <th>TxHash</th>\n",
       "      <th>TxIx</th>\n",
       "      <th>lovelace</th>\n",
       "      <th>TokenPolicyId</th>\n",
       "      <th>506172747932</th>\n",
       "    </tr>\n",
       "  </thead>\n",
       "  <tbody>\n",
       "    <tr>\n",
       "      <th>0</th>\n",
       "      <td>addr_test1vzn7ef2cx8h5y4jvxnn34pn3lzak5t537fx09j7zxdljs3gc5zgw6</td>\n",
       "      <td>4c7f8ff0c3da6143147f2da4a3fccd30dee8dc4b71c0a74ee272557a1ec2ea17</td>\n",
       "      <td>2</td>\n",
       "      <td>3000000</td>\n",
       "      <td>6f4f37e5c163a2f77935f395434c49bc4de8d1894a3bd80ac239a508</td>\n",
       "      <td>1.0</td>\n",
       "    </tr>\n",
       "    <tr>\n",
       "      <th>1</th>\n",
       "      <td>addr_test1vzn7ef2cx8h5y4jvxnn34pn3lzak5t537fx09j7zxdljs3gc5zgw6</td>\n",
       "      <td>ed62a729c96269053eef4aa5e4fabf9f6f85b7bb56f49481142ffcbe5f72aa33</td>\n",
       "      <td>3</td>\n",
       "      <td>500000000</td>\n",
       "      <td>NaN</td>\n",
       "      <td>NaN</td>\n",
       "    </tr>\n",
       "  </tbody>\n",
       "</table>\n",
       "</div>"
      ],
      "text/plain": [
       "                                                           address  \\\n",
       "0  addr_test1vzn7ef2cx8h5y4jvxnn34pn3lzak5t537fx09j7zxdljs3gc5zgw6   \n",
       "1  addr_test1vzn7ef2cx8h5y4jvxnn34pn3lzak5t537fx09j7zxdljs3gc5zgw6   \n",
       "\n",
       "                                                             TxHash  TxIx  \\\n",
       "0  4c7f8ff0c3da6143147f2da4a3fccd30dee8dc4b71c0a74ee272557a1ec2ea17     2   \n",
       "1  ed62a729c96269053eef4aa5e4fabf9f6f85b7bb56f49481142ffcbe5f72aa33     3   \n",
       "\n",
       "    lovelace                                             TokenPolicyId  \\\n",
       "0    3000000  6f4f37e5c163a2f77935f395434c49bc4de8d1894a3bd80ac239a508   \n",
       "1  500000000                                                       NaN   \n",
       "\n",
       "   506172747932  \n",
       "0           1.0  \n",
       "1           NaN  "
      ]
     },
     "execution_count": 455,
     "metadata": {},
     "output_type": "execute_result"
    }
   ],
   "source": [
    "# drop all columns with all values NA\n",
    "df = df.dropna(axis=1, how='all')\n",
    "df"
   ]
  },
  {
   "cell_type": "code",
   "execution_count": 456,
   "id": "1359be7b-07ca-429d-83ca-5b9cfeb9c00b",
   "metadata": {},
   "outputs": [],
   "source": [
    "# cn = df[df.columns[~df.columns.isin(['address', 'TxHash', 'TxIx', 'lovelace', 'TokenPolicyId'])]].iloc[:, -1].name\n",
    "# # make a copy \n",
    "# df['TokenAssetNameHex'] = df[cn]\n",
    "# # write the column name only on True location\n",
    "# df['TokenAssetNameHex'] = df['TokenAssetNameHex'].notna().replace({True: cn, False: np.nan})"
   ]
  },
  {
   "cell_type": "code",
   "execution_count": 457,
   "id": "67071a1b-0512-4d56-b409-a9b4fcdf87b5",
   "metadata": {},
   "outputs": [
    {
     "data": {
      "text/html": [
       "<div>\n",
       "<style scoped>\n",
       "    .dataframe tbody tr th:only-of-type {\n",
       "        vertical-align: middle;\n",
       "    }\n",
       "\n",
       "    .dataframe tbody tr th {\n",
       "        vertical-align: top;\n",
       "    }\n",
       "\n",
       "    .dataframe thead th {\n",
       "        text-align: right;\n",
       "    }\n",
       "</style>\n",
       "<table border=\"1\" class=\"dataframe\">\n",
       "  <thead>\n",
       "    <tr style=\"text-align: right;\">\n",
       "      <th></th>\n",
       "      <th>506172747932</th>\n",
       "    </tr>\n",
       "  </thead>\n",
       "  <tbody>\n",
       "    <tr>\n",
       "      <th>0</th>\n",
       "      <td>1.0</td>\n",
       "    </tr>\n",
       "    <tr>\n",
       "      <th>1</th>\n",
       "      <td>NaN</td>\n",
       "    </tr>\n",
       "  </tbody>\n",
       "</table>\n",
       "</div>"
      ],
      "text/plain": [
       "   506172747932\n",
       "0           1.0\n",
       "1           NaN"
      ]
     },
     "execution_count": 457,
     "metadata": {},
     "output_type": "execute_result"
    }
   ],
   "source": [
    "two = df[df.columns[~df.columns.isin(['address', 'TxHash', 'TxIx', 'lovelace', 'TokenPolicyId'])]]\n",
    "two"
   ]
  },
  {
   "cell_type": "code",
   "execution_count": 458,
   "id": "54493277-94e1-4a7e-ad82-d04adb1034f3",
   "metadata": {},
   "outputs": [
    {
     "data": {
      "text/html": [
       "<div>\n",
       "<style scoped>\n",
       "    .dataframe tbody tr th:only-of-type {\n",
       "        vertical-align: middle;\n",
       "    }\n",
       "\n",
       "    .dataframe tbody tr th {\n",
       "        vertical-align: top;\n",
       "    }\n",
       "\n",
       "    .dataframe thead th {\n",
       "        text-align: right;\n",
       "    }\n",
       "</style>\n",
       "<table border=\"1\" class=\"dataframe\">\n",
       "  <thead>\n",
       "    <tr style=\"text-align: right;\">\n",
       "      <th></th>\n",
       "      <th>level_0</th>\n",
       "      <th>level_1</th>\n",
       "      <th>0</th>\n",
       "    </tr>\n",
       "  </thead>\n",
       "  <tbody>\n",
       "    <tr>\n",
       "      <th>0</th>\n",
       "      <td>0</td>\n",
       "      <td>506172747932</td>\n",
       "      <td>1.0</td>\n",
       "    </tr>\n",
       "  </tbody>\n",
       "</table>\n",
       "</div>"
      ],
      "text/plain": [
       "   level_0       level_1    0\n",
       "0        0  506172747932  1.0"
      ]
     },
     "execution_count": 458,
     "metadata": {},
     "output_type": "execute_result"
    }
   ],
   "source": [
    "tmp = two.stack().apply(pd.Series).reset_index()\n",
    "tmp"
   ]
  },
  {
   "cell_type": "code",
   "execution_count": 459,
   "id": "f22c04ed-fd07-4fa5-b64f-fdc5495ea838",
   "metadata": {},
   "outputs": [
    {
     "data": {
      "text/html": [
       "<div>\n",
       "<style scoped>\n",
       "    .dataframe tbody tr th:only-of-type {\n",
       "        vertical-align: middle;\n",
       "    }\n",
       "\n",
       "    .dataframe tbody tr th {\n",
       "        vertical-align: top;\n",
       "    }\n",
       "\n",
       "    .dataframe thead th {\n",
       "        text-align: right;\n",
       "    }\n",
       "</style>\n",
       "<table border=\"1\" class=\"dataframe\">\n",
       "  <thead>\n",
       "    <tr style=\"text-align: right;\">\n",
       "      <th></th>\n",
       "      <th>level_1</th>\n",
       "      <th>0</th>\n",
       "    </tr>\n",
       "    <tr>\n",
       "      <th>level_0</th>\n",
       "      <th></th>\n",
       "      <th></th>\n",
       "    </tr>\n",
       "  </thead>\n",
       "  <tbody>\n",
       "    <tr>\n",
       "      <th>0</th>\n",
       "      <td>506172747932</td>\n",
       "      <td>1.0</td>\n",
       "    </tr>\n",
       "  </tbody>\n",
       "</table>\n",
       "</div>"
      ],
      "text/plain": [
       "              level_1    0\n",
       "level_0                   \n",
       "0        506172747932  1.0"
      ]
     },
     "execution_count": 459,
     "metadata": {},
     "output_type": "execute_result"
    }
   ],
   "source": [
    "tmp = tmp.set_index('level_0')\n",
    "tmp"
   ]
  },
  {
   "cell_type": "code",
   "execution_count": 460,
   "id": "e1cffce6-b713-4b4d-9219-828d1c16d72a",
   "metadata": {},
   "outputs": [
    {
     "data": {
      "text/html": [
       "<div>\n",
       "<style scoped>\n",
       "    .dataframe tbody tr th:only-of-type {\n",
       "        vertical-align: middle;\n",
       "    }\n",
       "\n",
       "    .dataframe tbody tr th {\n",
       "        vertical-align: top;\n",
       "    }\n",
       "\n",
       "    .dataframe thead th {\n",
       "        text-align: right;\n",
       "    }\n",
       "</style>\n",
       "<table border=\"1\" class=\"dataframe\">\n",
       "  <thead>\n",
       "    <tr style=\"text-align: right;\">\n",
       "      <th></th>\n",
       "      <th>TokenAssetNameHex</th>\n",
       "      <th>TokenAmount</th>\n",
       "    </tr>\n",
       "    <tr>\n",
       "      <th>level_0</th>\n",
       "      <th></th>\n",
       "      <th></th>\n",
       "    </tr>\n",
       "  </thead>\n",
       "  <tbody>\n",
       "    <tr>\n",
       "      <th>0</th>\n",
       "      <td>506172747932</td>\n",
       "      <td>1.0</td>\n",
       "    </tr>\n",
       "  </tbody>\n",
       "</table>\n",
       "</div>"
      ],
      "text/plain": [
       "        TokenAssetNameHex  TokenAmount\n",
       "level_0                               \n",
       "0            506172747932          1.0"
      ]
     },
     "execution_count": 460,
     "metadata": {},
     "output_type": "execute_result"
    }
   ],
   "source": [
    "tmp.columns = ['TokenAssetNameHex', 'TokenAmount']\n",
    "tmp"
   ]
  },
  {
   "cell_type": "code",
   "execution_count": 461,
   "id": "a365dcf8-82be-4ae8-a8b7-f42f46f5b53c",
   "metadata": {},
   "outputs": [
    {
     "data": {
      "text/html": [
       "<div>\n",
       "<style scoped>\n",
       "    .dataframe tbody tr th:only-of-type {\n",
       "        vertical-align: middle;\n",
       "    }\n",
       "\n",
       "    .dataframe tbody tr th {\n",
       "        vertical-align: top;\n",
       "    }\n",
       "\n",
       "    .dataframe thead th {\n",
       "        text-align: right;\n",
       "    }\n",
       "</style>\n",
       "<table border=\"1\" class=\"dataframe\">\n",
       "  <thead>\n",
       "    <tr style=\"text-align: right;\">\n",
       "      <th></th>\n",
       "      <th>address</th>\n",
       "      <th>TxHash</th>\n",
       "      <th>TxIx</th>\n",
       "      <th>lovelace</th>\n",
       "      <th>TokenPolicyId</th>\n",
       "      <th>506172747932</th>\n",
       "      <th>TokenAssetNameHex</th>\n",
       "      <th>TokenAmount</th>\n",
       "    </tr>\n",
       "  </thead>\n",
       "  <tbody>\n",
       "    <tr>\n",
       "      <th>0</th>\n",
       "      <td>addr_test1vzn7ef2cx8h5y4jvxnn34pn3lzak5t537fx09j7zxdljs3gc5zgw6</td>\n",
       "      <td>4c7f8ff0c3da6143147f2da4a3fccd30dee8dc4b71c0a74ee272557a1ec2ea17</td>\n",
       "      <td>2</td>\n",
       "      <td>3000000</td>\n",
       "      <td>6f4f37e5c163a2f77935f395434c49bc4de8d1894a3bd80ac239a508</td>\n",
       "      <td>1.0</td>\n",
       "      <td>506172747932</td>\n",
       "      <td>1.0</td>\n",
       "    </tr>\n",
       "    <tr>\n",
       "      <th>1</th>\n",
       "      <td>addr_test1vzn7ef2cx8h5y4jvxnn34pn3lzak5t537fx09j7zxdljs3gc5zgw6</td>\n",
       "      <td>ed62a729c96269053eef4aa5e4fabf9f6f85b7bb56f49481142ffcbe5f72aa33</td>\n",
       "      <td>3</td>\n",
       "      <td>500000000</td>\n",
       "      <td>NaN</td>\n",
       "      <td>NaN</td>\n",
       "      <td>NaN</td>\n",
       "      <td>NaN</td>\n",
       "    </tr>\n",
       "  </tbody>\n",
       "</table>\n",
       "</div>"
      ],
      "text/plain": [
       "                                                           address  \\\n",
       "0  addr_test1vzn7ef2cx8h5y4jvxnn34pn3lzak5t537fx09j7zxdljs3gc5zgw6   \n",
       "1  addr_test1vzn7ef2cx8h5y4jvxnn34pn3lzak5t537fx09j7zxdljs3gc5zgw6   \n",
       "\n",
       "                                                             TxHash  TxIx  \\\n",
       "0  4c7f8ff0c3da6143147f2da4a3fccd30dee8dc4b71c0a74ee272557a1ec2ea17     2   \n",
       "1  ed62a729c96269053eef4aa5e4fabf9f6f85b7bb56f49481142ffcbe5f72aa33     3   \n",
       "\n",
       "    lovelace                                             TokenPolicyId  \\\n",
       "0    3000000  6f4f37e5c163a2f77935f395434c49bc4de8d1894a3bd80ac239a508   \n",
       "1  500000000                                                       NaN   \n",
       "\n",
       "   506172747932 TokenAssetNameHex  TokenAmount  \n",
       "0           1.0      506172747932          1.0  \n",
       "1           NaN               NaN          NaN  "
      ]
     },
     "execution_count": 461,
     "metadata": {},
     "output_type": "execute_result"
    }
   ],
   "source": [
    "df = pd.concat([df, tmp], axis=1)\n",
    "df"
   ]
  },
  {
   "cell_type": "code",
   "execution_count": 462,
   "id": "bd8c5616-2cba-4046-b0be-5783f8e80be0",
   "metadata": {},
   "outputs": [],
   "source": [
    "# df['TokenAmount'] = df['TokenAmount'].astype('int')\n",
    "# df"
   ]
  },
  {
   "cell_type": "code",
   "execution_count": 463,
   "id": "81e000e5-de76-4afd-90c6-5e4a4237410a",
   "metadata": {},
   "outputs": [
    {
     "data": {
      "text/html": [
       "<div>\n",
       "<style scoped>\n",
       "    .dataframe tbody tr th:only-of-type {\n",
       "        vertical-align: middle;\n",
       "    }\n",
       "\n",
       "    .dataframe tbody tr th {\n",
       "        vertical-align: top;\n",
       "    }\n",
       "\n",
       "    .dataframe thead th {\n",
       "        text-align: right;\n",
       "    }\n",
       "</style>\n",
       "<table border=\"1\" class=\"dataframe\">\n",
       "  <thead>\n",
       "    <tr style=\"text-align: right;\">\n",
       "      <th></th>\n",
       "      <th>address</th>\n",
       "      <th>TxHash</th>\n",
       "      <th>TxIx</th>\n",
       "      <th>lovelace</th>\n",
       "      <th>TokenPolicyId</th>\n",
       "      <th>TokenAssetNameHex</th>\n",
       "      <th>TokenAmount</th>\n",
       "    </tr>\n",
       "  </thead>\n",
       "  <tbody>\n",
       "    <tr>\n",
       "      <th>0</th>\n",
       "      <td>addr_test1vzn7ef2cx8h5y4jvxnn34pn3lzak5t537fx09j7zxdljs3gc5zgw6</td>\n",
       "      <td>4c7f8ff0c3da6143147f2da4a3fccd30dee8dc4b71c0a74ee272557a1ec2ea17</td>\n",
       "      <td>2</td>\n",
       "      <td>3000000</td>\n",
       "      <td>6f4f37e5c163a2f77935f395434c49bc4de8d1894a3bd80ac239a508</td>\n",
       "      <td>506172747932</td>\n",
       "      <td>1.0</td>\n",
       "    </tr>\n",
       "    <tr>\n",
       "      <th>1</th>\n",
       "      <td>addr_test1vzn7ef2cx8h5y4jvxnn34pn3lzak5t537fx09j7zxdljs3gc5zgw6</td>\n",
       "      <td>ed62a729c96269053eef4aa5e4fabf9f6f85b7bb56f49481142ffcbe5f72aa33</td>\n",
       "      <td>3</td>\n",
       "      <td>500000000</td>\n",
       "      <td>NaN</td>\n",
       "      <td>NaN</td>\n",
       "      <td>NaN</td>\n",
       "    </tr>\n",
       "  </tbody>\n",
       "</table>\n",
       "</div>"
      ],
      "text/plain": [
       "                                                           address  \\\n",
       "0  addr_test1vzn7ef2cx8h5y4jvxnn34pn3lzak5t537fx09j7zxdljs3gc5zgw6   \n",
       "1  addr_test1vzn7ef2cx8h5y4jvxnn34pn3lzak5t537fx09j7zxdljs3gc5zgw6   \n",
       "\n",
       "                                                             TxHash  TxIx  \\\n",
       "0  4c7f8ff0c3da6143147f2da4a3fccd30dee8dc4b71c0a74ee272557a1ec2ea17     2   \n",
       "1  ed62a729c96269053eef4aa5e4fabf9f6f85b7bb56f49481142ffcbe5f72aa33     3   \n",
       "\n",
       "    lovelace                                             TokenPolicyId  \\\n",
       "0    3000000  6f4f37e5c163a2f77935f395434c49bc4de8d1894a3bd80ac239a508   \n",
       "1  500000000                                                       NaN   \n",
       "\n",
       "  TokenAssetNameHex  TokenAmount  \n",
       "0      506172747932          1.0  \n",
       "1               NaN          NaN  "
      ]
     },
     "execution_count": 463,
     "metadata": {},
     "output_type": "execute_result"
    }
   ],
   "source": [
    "df = df.drop(tmp['TokenAssetNameHex'], axis=1)\n",
    "df"
   ]
  },
  {
   "cell_type": "code",
   "execution_count": null,
   "id": "aff8a904-4d5d-40d4-b521-03af49a6a0b8",
   "metadata": {},
   "outputs": [],
   "source": []
  },
  {
   "cell_type": "code",
   "execution_count": null,
   "id": "e4b59162-7b43-4d9b-8ade-062438e7a27a",
   "metadata": {},
   "outputs": [],
   "source": []
  },
  {
   "cell_type": "code",
   "execution_count": null,
   "id": "150e9f60-ba19-40ae-8d35-a7481f91aba0",
   "metadata": {},
   "outputs": [],
   "source": []
  },
  {
   "cell_type": "code",
   "execution_count": null,
   "id": "a6afdcd9-c6f7-4b20-a321-8b109e88d052",
   "metadata": {},
   "outputs": [],
   "source": []
  },
  {
   "cell_type": "code",
   "execution_count": null,
   "id": "aecaba89-cd24-4b97-8d39-a7224d7decc3",
   "metadata": {},
   "outputs": [],
   "source": [
    "# df[df.columns[~df.columns.isin(['address', 'TxHash', 'TxIx', 'lovelace', 'TokenPolicyId'])]].stack()\n",
    "# # make a copy \n",
    "# df['TokenAssetNameHex'] = df[cn]\n",
    "# # write the column name only on True location\n",
    "# df['TokenAssetNameHex'] = df['TokenAssetNameHex'].notna().replace({True: cn, False: np.nan})"
   ]
  },
  {
   "cell_type": "code",
   "execution_count": 85,
   "id": "923f4cf1-ec4a-4eef-bbc7-1f9a90f6acc2",
   "metadata": {},
   "outputs": [
    {
     "data": {
      "text/html": [
       "<div>\n",
       "<style scoped>\n",
       "    .dataframe tbody tr th:only-of-type {\n",
       "        vertical-align: middle;\n",
       "    }\n",
       "\n",
       "    .dataframe tbody tr th {\n",
       "        vertical-align: top;\n",
       "    }\n",
       "\n",
       "    .dataframe thead th {\n",
       "        text-align: right;\n",
       "    }\n",
       "</style>\n",
       "<table border=\"1\" class=\"dataframe\">\n",
       "  <thead>\n",
       "    <tr style=\"text-align: right;\">\n",
       "      <th></th>\n",
       "      <th>address</th>\n",
       "      <th>TxHash</th>\n",
       "      <th>TxIx</th>\n",
       "      <th>lovelace</th>\n",
       "      <th>TokenPolicyId</th>\n",
       "      <th>506172747932</th>\n",
       "      <th>506172747931</th>\n",
       "      <th>TokenAssetNameHex</th>\n",
       "    </tr>\n",
       "  </thead>\n",
       "  <tbody>\n",
       "    <tr>\n",
       "      <th>0</th>\n",
       "      <td>addr_test1vpha99j2s5slc5q26d884rhc3jzuxqex5javsak5enlg8wsel4z2t</td>\n",
       "      <td>e595b9fc55e0df7f8e0b8522628b8150e37cf249b4265e651e089cbf150ef3ea</td>\n",
       "      <td>0</td>\n",
       "      <td>479823763</td>\n",
       "      <td>NaN</td>\n",
       "      <td>NaN</td>\n",
       "      <td>NaN</td>\n",
       "      <td>NaN</td>\n",
       "    </tr>\n",
       "    <tr>\n",
       "      <th>1</th>\n",
       "      <td>addr_test1vpha99j2s5slc5q26d884rhc3jzuxqex5javsak5enlg8wsel4z2t</td>\n",
       "      <td>e595b9fc55e0df7f8e0b8522628b8150e37cf249b4265e651e089cbf150ef3ea</td>\n",
       "      <td>2</td>\n",
       "      <td>10000000</td>\n",
       "      <td>6f4f37e5c163a2f77935f395434c49bc4de8d1894a3bd80ac239a508</td>\n",
       "      <td>1.0</td>\n",
       "      <td>NaN</td>\n",
       "      <td>NaN</td>\n",
       "    </tr>\n",
       "    <tr>\n",
       "      <th>2</th>\n",
       "      <td>addr_test1vpha99j2s5slc5q26d884rhc3jzuxqex5javsak5enlg8wsel4z2t</td>\n",
       "      <td>e595b9fc55e0df7f8e0b8522628b8150e37cf249b4265e651e089cbf150ef3ea</td>\n",
       "      <td>1</td>\n",
       "      <td>10000000</td>\n",
       "      <td>6f4f37e5c163a2f77935f395434c49bc4de8d1894a3bd80ac239a508</td>\n",
       "      <td>NaN</td>\n",
       "      <td>1.0</td>\n",
       "      <td>506172747931</td>\n",
       "    </tr>\n",
       "  </tbody>\n",
       "</table>\n",
       "</div>"
      ],
      "text/plain": [
       "                                                           address  \\\n",
       "0  addr_test1vpha99j2s5slc5q26d884rhc3jzuxqex5javsak5enlg8wsel4z2t   \n",
       "1  addr_test1vpha99j2s5slc5q26d884rhc3jzuxqex5javsak5enlg8wsel4z2t   \n",
       "2  addr_test1vpha99j2s5slc5q26d884rhc3jzuxqex5javsak5enlg8wsel4z2t   \n",
       "\n",
       "                                                             TxHash  TxIx  \\\n",
       "0  e595b9fc55e0df7f8e0b8522628b8150e37cf249b4265e651e089cbf150ef3ea     0   \n",
       "1  e595b9fc55e0df7f8e0b8522628b8150e37cf249b4265e651e089cbf150ef3ea     2   \n",
       "2  e595b9fc55e0df7f8e0b8522628b8150e37cf249b4265e651e089cbf150ef3ea     1   \n",
       "\n",
       "    lovelace                                             TokenPolicyId  \\\n",
       "0  479823763                                                       NaN   \n",
       "1   10000000  6f4f37e5c163a2f77935f395434c49bc4de8d1894a3bd80ac239a508   \n",
       "2   10000000  6f4f37e5c163a2f77935f395434c49bc4de8d1894a3bd80ac239a508   \n",
       "\n",
       "   506172747932  506172747931 TokenAssetNameHex  \n",
       "0           NaN           NaN               NaN  \n",
       "1           1.0           NaN               NaN  \n",
       "2           NaN           1.0      506172747931  "
      ]
     },
     "execution_count": 85,
     "metadata": {},
     "output_type": "execute_result"
    }
   ],
   "source": [
    "# df"
   ]
  },
  {
   "cell_type": "code",
   "execution_count": null,
   "id": "92b3f0e2-63cb-405e-8bdf-77f52dff75d3",
   "metadata": {},
   "outputs": [],
   "source": [
    "# df = df.rename(columns={cn: 'TokenAmount'})\n",
    "# df"
   ]
  },
  {
   "cell_type": "code",
   "execution_count": null,
   "id": "0df63824-bd7a-438a-9930-5f7a65f9cc82",
   "metadata": {},
   "outputs": [],
   "source": []
  },
  {
   "cell_type": "code",
   "execution_count": null,
   "id": "691bbdd0-1687-438d-9772-38b5afa1dac9",
   "metadata": {},
   "outputs": [],
   "source": []
  },
  {
   "cell_type": "code",
   "execution_count": null,
   "id": "05fd4b10-a1a3-400c-a16e-45d6c77882a8",
   "metadata": {},
   "outputs": [],
   "source": []
  },
  {
   "cell_type": "code",
   "execution_count": null,
   "id": "b9479d3e-5f4c-446a-b03b-f14131b2f548",
   "metadata": {},
   "outputs": [],
   "source": []
  },
  {
   "cell_type": "code",
   "execution_count": null,
   "id": "3b628cd4-8dd5-469d-a89f-1c4fb38a88f1",
   "metadata": {},
   "outputs": [],
   "source": []
  },
  {
   "cell_type": "code",
   "execution_count": null,
   "id": "e88e88ed-84aa-46a8-a058-58b3dcd062ed",
   "metadata": {},
   "outputs": [],
   "source": []
  },
  {
   "cell_type": "code",
   "execution_count": null,
   "id": "8ac6b10f-d798-4819-b095-289fc3564ad5",
   "metadata": {},
   "outputs": [],
   "source": []
  },
  {
   "cell_type": "code",
   "execution_count": null,
   "id": "1adfdab5-bf39-4842-a9c0-fe69da1dd9d4",
   "metadata": {},
   "outputs": [],
   "source": []
  },
  {
   "cell_type": "code",
   "execution_count": null,
   "id": "e6015c0b-2948-4111-bc23-4bfc1e0ea86e",
   "metadata": {},
   "outputs": [],
   "source": []
  },
  {
   "cell_type": "code",
   "execution_count": null,
   "id": "c0b8a5a4-73d8-4600-9770-be3f2291f63b",
   "metadata": {},
   "outputs": [],
   "source": []
  }
 ],
 "metadata": {
  "kernelspec": {
   "display_name": "py39_cardano",
   "language": "python",
   "name": "conda-env-py39_cardano-py"
  },
  "language_info": {
   "codemirror_mode": {
    "name": "ipython",
    "version": 3
   },
   "file_extension": ".py",
   "mimetype": "text/x-python",
   "name": "python",
   "nbconvert_exporter": "python",
   "pygments_lexer": "ipython3",
   "version": "3.9.12"
  }
 },
 "nbformat": 4,
 "nbformat_minor": 5
}
